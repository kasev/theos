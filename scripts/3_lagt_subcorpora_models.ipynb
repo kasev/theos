{
 "cells": [
  {
   "cell_type": "code",
   "execution_count": 2,
   "outputs": [],
   "source": [
    "import pandas as pd\n",
    "from nltk import FreqDist\n",
    "import pickle\n",
    "import numpy as np\n",
    "from gensim.models import Word2Vec"
   ],
   "metadata": {
    "collapsed": false
   }
  },
  {
   "cell_type": "code",
   "execution_count": 3,
   "metadata": {
    "collapsed": true
   },
   "outputs": [],
   "source": [
    "import numpy as np\n",
    "import pandas as pd\n",
    "import os\n",
    "import requests\n",
    "import re\n",
    "from nltk import FreqDist\n",
    "from sklearn.feature_extraction.text import CountVectorizer\n",
    "from sklearn.decomposition import TruncatedSVD\n",
    "from sklearn.metrics.pairwise import cosine_similarity\n",
    "import pickle\n",
    "from cltk.stops.grc import STOPS as stopwords\n",
    "from gensim.corpora import Dictionary\n",
    "import unicodedata\n",
    "import json"
   ]
  },
  {
   "cell_type": "code",
   "execution_count": 4,
   "outputs": [],
   "source": [
    "LAGT = pd.read_json(\"../data/large_data/LAGT_metadata.json\")"
   ],
   "metadata": {
    "collapsed": false
   }
  },
  {
   "cell_type": "code",
   "execution_count": 5,
   "outputs": [
    {
     "data": {
      "text/plain": "  author_id          doc_id  GLAUx?                         filename  \\\n0   tlg0001  tlg0001.tlg001    True  tlg0001.tlg001.perseus-grc2.xml   \n1   tlg0003  tlg0003.tlg001    True  tlg0003.tlg001.perseus-grc2.xml   \n2   tlg0004  tlg0004.tlg001   False  tlg0004.tlg001.perseus-grc1.xml   \n3   tlg0005  tlg0005.tlg001    True  tlg0005.tlg001.perseus-grc1.xml   \n4   tlg0005  tlg0005.tlg002    True  tlg0005.tlg002.perseus-grc1.xml   \n\n   subcorpus              author                          title  date_avr  \\\n0  classical  Apollonius Rhodius                    Argonautica      -2.5   \n1  classical          Thucydides          The Peloponnesian War      -4.5   \n2      roman   Diogenes Laertius  Lives of Eminent Philosophers       2.5   \n3  classical          Theocritus                        Idylls       -3.0   \n4  classical          Theocritus                      Epigrams       -3.0   \n\n  provenience    tlg_epithet  n_sentences  wordcount  \n0       pagan      Epici/-ae         3252      38822  \n1       pagan  Historici/-ae         6068     150118  \n2       pagan      Biographi        10245     110763  \n3       pagan       Bucolici         1982      19200  \n4       pagan       Bucolici          152       1734  ",
      "text/html": "<div>\n<style scoped>\n    .dataframe tbody tr th:only-of-type {\n        vertical-align: middle;\n    }\n\n    .dataframe tbody tr th {\n        vertical-align: top;\n    }\n\n    .dataframe thead th {\n        text-align: right;\n    }\n</style>\n<table border=\"1\" class=\"dataframe\">\n  <thead>\n    <tr style=\"text-align: right;\">\n      <th></th>\n      <th>author_id</th>\n      <th>doc_id</th>\n      <th>GLAUx?</th>\n      <th>filename</th>\n      <th>subcorpus</th>\n      <th>author</th>\n      <th>title</th>\n      <th>date_avr</th>\n      <th>provenience</th>\n      <th>tlg_epithet</th>\n      <th>n_sentences</th>\n      <th>wordcount</th>\n    </tr>\n  </thead>\n  <tbody>\n    <tr>\n      <th>0</th>\n      <td>tlg0001</td>\n      <td>tlg0001.tlg001</td>\n      <td>True</td>\n      <td>tlg0001.tlg001.perseus-grc2.xml</td>\n      <td>classical</td>\n      <td>Apollonius Rhodius</td>\n      <td>Argonautica</td>\n      <td>-2.5</td>\n      <td>pagan</td>\n      <td>Epici/-ae</td>\n      <td>3252</td>\n      <td>38822</td>\n    </tr>\n    <tr>\n      <th>1</th>\n      <td>tlg0003</td>\n      <td>tlg0003.tlg001</td>\n      <td>True</td>\n      <td>tlg0003.tlg001.perseus-grc2.xml</td>\n      <td>classical</td>\n      <td>Thucydides</td>\n      <td>The Peloponnesian War</td>\n      <td>-4.5</td>\n      <td>pagan</td>\n      <td>Historici/-ae</td>\n      <td>6068</td>\n      <td>150118</td>\n    </tr>\n    <tr>\n      <th>2</th>\n      <td>tlg0004</td>\n      <td>tlg0004.tlg001</td>\n      <td>False</td>\n      <td>tlg0004.tlg001.perseus-grc1.xml</td>\n      <td>roman</td>\n      <td>Diogenes Laertius</td>\n      <td>Lives of Eminent Philosophers</td>\n      <td>2.5</td>\n      <td>pagan</td>\n      <td>Biographi</td>\n      <td>10245</td>\n      <td>110763</td>\n    </tr>\n    <tr>\n      <th>3</th>\n      <td>tlg0005</td>\n      <td>tlg0005.tlg001</td>\n      <td>True</td>\n      <td>tlg0005.tlg001.perseus-grc1.xml</td>\n      <td>classical</td>\n      <td>Theocritus</td>\n      <td>Idylls</td>\n      <td>-3.0</td>\n      <td>pagan</td>\n      <td>Bucolici</td>\n      <td>1982</td>\n      <td>19200</td>\n    </tr>\n    <tr>\n      <th>4</th>\n      <td>tlg0005</td>\n      <td>tlg0005.tlg002</td>\n      <td>True</td>\n      <td>tlg0005.tlg002.perseus-grc1.xml</td>\n      <td>classical</td>\n      <td>Theocritus</td>\n      <td>Epigrams</td>\n      <td>-3.0</td>\n      <td>pagan</td>\n      <td>Bucolici</td>\n      <td>152</td>\n      <td>1734</td>\n    </tr>\n  </tbody>\n</table>\n</div>"
     },
     "execution_count": 5,
     "metadata": {},
     "output_type": "execute_result"
    }
   ],
   "source": [
    "LAGT.head(5)"
   ],
   "metadata": {
    "collapsed": false
   }
  },
  {
   "cell_type": "code",
   "execution_count": 6,
   "outputs": [],
   "source": [
    "subcorpora = ['archaic', 'classical', 'roman', 'christian', 'jewish']\n",
    "\n",
    "religion_final = [\"θεός\", \"Ζεύς\", \"εὐσεβής\", 'ἱερός']\n",
    "morality_final = [\"ἀγαθός\", \"ἀρετή\", \"δίκαιος\", \"τιμή\"]"
   ],
   "metadata": {
    "collapsed": false
   }
  },
  {
   "cell_type": "markdown",
   "source": [
    "# Read subcorpora from ngrams - developing a memory-friendly reader"
   ],
   "metadata": {
    "collapsed": false
   }
  },
  {
   "cell_type": "code",
   "execution_count": 7,
   "outputs": [],
   "source": [
    "ids_lines = pickle.load(open(\"../data/ids_lines.pickle\", \"rb\"))"
   ],
   "metadata": {
    "collapsed": false
   }
  },
  {
   "cell_type": "code",
   "execution_count": 8,
   "outputs": [
    {
     "data": {
      "text/plain": "[('tlg0001.tlg001', (0, 41193)),\n ('tlg0003.tlg001', (41193, 184616)),\n ('tlg0004.tlg001', (184616, 280036)),\n ('tlg0005.tlg001', (280036, 300693)),\n ('tlg0005.tlg002', (300693, 302641))]"
     },
     "execution_count": 8,
     "metadata": {},
     "output_type": "execute_result"
    }
   ],
   "source": [
    "list(ids_lines.items())[:5]"
   ],
   "metadata": {
    "collapsed": false
   }
  },
  {
   "cell_type": "code",
   "execution_count": 9,
   "outputs": [
    {
     "data": {
      "text/plain": "26"
     },
     "execution_count": 9,
     "metadata": {},
     "output_type": "execute_result"
    }
   ],
   "source": [
    "subcorpus_ids = LAGT[LAGT[\"subcorpus\"]==\"archaic\"][\"doc_id\"].tolist()\n",
    "len(subcorpus_ids)"
   ],
   "metadata": {
    "collapsed": false
   }
  },
  {
   "cell_type": "code",
   "execution_count": 10,
   "outputs": [
    {
     "data": {
      "text/plain": "339423"
     },
     "execution_count": 10,
     "metadata": {},
     "output_type": "execute_result"
    }
   ],
   "source": [
    "lines_list = [ ]\n",
    "for id in subcorpus_ids:\n",
    "    lines_list.extend([l for l in range(ids_lines[id][0], ids_lines[id][1])])\n",
    "ngrams_n = len(lines_list)\n",
    "ngrams_n"
   ],
   "metadata": {
    "collapsed": false
   }
  },
  {
   "cell_type": "code",
   "execution_count": 11,
   "outputs": [],
   "source": [
    "sample_size=1000000\n",
    "if sample_size != None:\n",
    "    sample_inx =np.random.randint(0, ngrams_n, sample_size)\n",
    "else:\n",
    "    sample_inx =[n for n in range(0, ngrams_n)]"
   ],
   "metadata": {
    "collapsed": false
   }
  },
  {
   "cell_type": "code",
   "execution_count": 12,
   "outputs": [
    {
     "data": {
      "text/plain": "1000000"
     },
     "execution_count": 12,
     "metadata": {},
     "output_type": "execute_result"
    }
   ],
   "source": [
    "sample_lines = np.array(lines_list)[sample_inx]\n",
    "len(sample_lines)"
   ],
   "metadata": {
    "collapsed": false
   }
  },
  {
   "cell_type": "code",
   "execution_count": 13,
   "outputs": [
    {
     "data": {
      "text/plain": "array([8984361, 2010234, 1946059, 2032547, 8984901])"
     },
     "execution_count": 13,
     "metadata": {},
     "output_type": "execute_result"
    }
   ],
   "source": [
    "sample_lines[:5]"
   ],
   "metadata": {
    "collapsed": false
   }
  },
  {
   "cell_type": "code",
   "execution_count": 14,
   "outputs": [],
   "source": [
    "test_ngrams = []\n",
    "with open(\"../data/large_data/corpus_ngrams_bydocid.txt\", \"r\") as f:\n",
    "    lines = f.readlines()\n",
    "    for li in sample_lines:\n",
    "        line = lines[li]# for line index in subcorpus lineindexes\n",
    "        if bool(line.split()):\n",
    "            test_ngrams.append(line.split())"
   ],
   "metadata": {
    "collapsed": false
   }
  },
  {
   "cell_type": "code",
   "execution_count": 15,
   "outputs": [
    {
     "data": {
      "text/plain": "999605"
     },
     "execution_count": 15,
     "metadata": {},
     "output_type": "execute_result"
    }
   ],
   "source": [
    "len(test_ngrams)"
   ],
   "metadata": {
    "collapsed": false
   }
  },
  {
   "cell_type": "markdown",
   "source": [
    "# Sample corpora with memory-friendly reader"
   ],
   "metadata": {
    "collapsed": false
   }
  },
  {
   "cell_type": "code",
   "execution_count": 16,
   "outputs": [],
   "source": [
    "class NgramCorpusSample(object):\n",
    "    def __init__(self, ids_list, ids_lines, fname, sample_size=None, sample_seed=1, bow=False, dct=None):\n",
    "        self.ids_list = ids_list\n",
    "        self.fname = fname\n",
    "        self.bow  = bow\n",
    "        self.dct = dct\n",
    "        self.sample_size = sample_size\n",
    "        self.ids_lines = ids_lines\n",
    "        lines_list = [ ]\n",
    "        for id in ids_list:\n",
    "            lines_list.extend([l for l in range(ids_lines[id][0], ids_lines[id][1])])\n",
    "        ngrams_n = len(lines_list)\n",
    "        if sample_size != None:\n",
    "            np.random.seed(sample_seed)\n",
    "            sample_inx =np.random.randint(0, ngrams_n, sample_size)\n",
    "        else:\n",
    "            sample_inx =[n for n in range(0, ngrams_n)]\n",
    "        sample_lines = np.array(lines_list)[sample_inx]\n",
    "        self.len = len(sample_lines)\n",
    "        self.sample_lines = sample_lines\n",
    "    def __len__(self):\n",
    "        #[el for el in self]\n",
    "        return self.len\n",
    "    def __iter__(self):\n",
    "        with open(self.fname, \"r\") as f:\n",
    "            lines = f.readlines()\n",
    "            for li in self.sample_lines:\n",
    "                line = lines[li] # for line index in subcorpus lineindexes\n",
    "                if bool(line.split()):\n",
    "                    if (self.bow) & (self.dct != None):\n",
    "                        yield self.dct.doc2bow(line.split())\n",
    "                    else:\n",
    "                        yield line.split()"
   ],
   "metadata": {
    "collapsed": false
   }
  },
  {
   "cell_type": "code",
   "execution_count": 17,
   "outputs": [],
   "source": [
    "# test with classical"
   ],
   "metadata": {
    "collapsed": false
   }
  },
  {
   "cell_type": "code",
   "execution_count": 18,
   "outputs": [
    {
     "data": {
      "text/plain": "596"
     },
     "execution_count": 18,
     "metadata": {},
     "output_type": "execute_result"
    }
   ],
   "source": [
    "subcorpus_ids = LAGT[LAGT[\"subcorpus\"]==\"roman\"][\"doc_id\"].tolist()\n",
    "len(subcorpus_ids)"
   ],
   "metadata": {
    "collapsed": false
   }
  },
  {
   "cell_type": "code",
   "execution_count": 19,
   "outputs": [],
   "source": [
    "subcorpus_ngrams =  NgramCorpusSample(subcorpus_ids, ids_lines, \"../data/large_data/corpus_ngrams_bydocid.txt\", sample_size=1000000)"
   ],
   "metadata": {
    "collapsed": false
   }
  },
  {
   "cell_type": "code",
   "execution_count": 20,
   "outputs": [
    {
     "data": {
      "text/plain": "1000000"
     },
     "execution_count": 20,
     "metadata": {},
     "output_type": "execute_result"
    }
   ],
   "source": [
    "len(subcorpus_ngrams)"
   ],
   "metadata": {
    "collapsed": false
   }
  },
  {
   "cell_type": "code",
   "execution_count": 21,
   "outputs": [
    {
     "data": {
      "text/plain": "980208"
     },
     "execution_count": 21,
     "metadata": {},
     "output_type": "execute_result"
    }
   ],
   "source": [
    "len([doc for doc in subcorpus_ngrams])"
   ],
   "metadata": {
    "collapsed": false
   }
  },
  {
   "cell_type": "code",
   "execution_count": 22,
   "outputs": [
    {
     "data": {
      "text/plain": "[('εἰμί', 86416),\n ('αὐτός', 68360),\n ('οὗτος', 55211),\n ('λέγω', 37546),\n ('γίγνομαι', 31525),\n ('τις', 30334),\n ('ἔχω', 29557),\n ('πολύς', 28087),\n ('πᾶς', 22650),\n ('ἄλλος', 21668),\n ('φημί', 17161),\n ('ποιέω', 15230),\n ('λόγος', 14224),\n ('ἐκεῖνος', 11745),\n ('τοιοῦτος', 11694),\n ('μέγας', 11540),\n ('πρῶτος', 10766),\n ('οὐδείς', 9887),\n ('ἕτερος', 9696),\n ('πόλις', 9384),\n ('σῶμα', 8978),\n ('ἅπας', 8360),\n ('ἀγαθός', 8282),\n ('φύσις', 8149),\n ('δύναμις', 8130),\n ('μέρος', 7951),\n ('ἄνθρωπος', 7917),\n ('εἷς', 7831),\n ('ἀρχή', 7814),\n ('λαμβάνω', 7582),\n ('ἕκαστος', 7256),\n ('δοκέω', 7100),\n ('ὁράω', 6997),\n ('δέω', 6949),\n ('μόνος', 6823),\n ('ἀνήρ', 6793),\n ('καλέω', 6710),\n ('δύναμαι', 6256),\n ('ὑπάρχω', 6136),\n ('χρόνος', 5940),\n ('θεός', 5916),\n ('χράω', 5609),\n ('δίδωμι', 5491),\n ('ὅλος', 4946),\n ('ἡμέρα', 4905),\n ('μηδείς', 4883),\n ('γράφω', 4851),\n ('γένος', 4826),\n ('τὶς', 4718),\n ('τίς', 4716)]"
     },
     "execution_count": 22,
     "metadata": {},
     "output_type": "execute_result"
    }
   ],
   "source": [
    "FreqDist([w for ng in subcorpus_ngrams for w in ng]).most_common()[:50]"
   ],
   "metadata": {
    "collapsed": false
   }
  },
  {
   "cell_type": "code",
   "execution_count": 23,
   "outputs": [],
   "source": [
    "with open(\"../data/large_data/subcorpora_vocabs.pickle\", \"rb\") as f:\n",
    "    subcorpora_vocabs = pickle.load(f)"
   ],
   "metadata": {
    "collapsed": false
   }
  },
  {
   "cell_type": "code",
   "execution_count": 24,
   "outputs": [
    {
     "data": {
      "text/plain": "[('εἰμί', 18108),\n ('λέγω', 15873),\n ('θεός', 13922),\n ('οὗτος', 11814),\n ('αὐτός', 11282),\n ('πᾶς', 7431),\n ('γίγνομαι', 7316),\n ('λόγος', 6836),\n ('ἄνθρωπος', 5723),\n ('ἔχω', 5375),\n ('κύριος', 5300),\n ('φημί', 5294),\n ('ποιέω', 4416),\n ('πολύς', 4229),\n ('Ἰησοῦς', 4155),\n ('ὁράω', 3320),\n ('πατήρ', 3158),\n ('Χριστός', 3087),\n ('ψυχή', 3037),\n ('γῆ', 2859),\n ('ἄλλος', 2826),\n ('υἱός', 2753),\n ('δύναμαι', 2654),\n ('πνεῦμα', 2587),\n ('τις', 2552),\n ('ἔρχομαι', 2260),\n ('ἀκούω', 2175),\n ('σῶμα', 2130),\n ('μόνος', 2087),\n ('τοιοῦτος', 2069),\n ('δίδωμι', 2049),\n ('ἀγαθός', 2034),\n ('δύναμις', 1981),\n ('οὐρανός', 1881),\n ('λαμβάνω', 1878),\n ('ἐκεῖνος', 1854),\n ('ὄνομα', 1846),\n ('οἶδα', 1776),\n ('τὶς', 1770),\n ('οὐδείς', 1765),\n ('προφήτης', 1660),\n ('ἅγιος', 1653),\n ('μέγας', 1641),\n ('πιστεύω', 1631),\n ('ἡμέρα', 1628),\n ('κόσμος', 1626),\n ('νόμος', 1593),\n ('καλέω', 1481),\n ('ἀνήρ', 1417),\n ('ἔργον', 1417),\n ('βούλομαι', 1400),\n ('πρῶτος', 1390),\n ('ἕτερος', 1387),\n ('εἷς', 1370),\n ('ὅλος', 1317),\n ('ἀλήθεια', 1315),\n ('εὑρίσκω', 1309),\n ('ἐθέλω', 1303),\n ('γιγνώσκω', 1300),\n ('ἔθνος', 1289),\n ('ἀρχή', 1288),\n ('δοκέω', 1276),\n ('ἕκαστος', 1264),\n ('Ἰουδαῖος', 1258),\n ('φύσις', 1257),\n ('δίκαιος', 1231),\n ('καλός', 1231),\n ('σοφία', 1227),\n ('ἄγγελος', 1213),\n ('ζωή', 1208),\n ('ἁμαρτία', 1206),\n ('καρδία', 1201),\n ('σωτήρ', 1199),\n ('γράφω', 1195),\n ('θεῖος', 1190),\n ('τίς', 1179),\n ('λαός', 1161),\n ('μαθητής', 1080),\n ('τόπος', 1076),\n ('θάνατος', 1074),\n ('δεῖ', 1064),\n ('κακός', 1053),\n ('δόξα', 1047),\n ('γυνή', 1045),\n ('γραφή', 1044),\n ('λαλέω', 1042),\n ('χείρ', 1041),\n ('φωνή', 1036),\n ('αἰών', 1022),\n ('δέω', 1018),\n ('μέλλω', 1011),\n ('σάρξ', 1006),\n ('Ζεύς', 1005),\n ('πίστις', 978),\n ('ὕδωρ', 940),\n ('βασιλεύς', 931),\n ('φέρω', 931),\n ('πῦρ', 922),\n ('διδάσκω', 922),\n ('φῶς', 913)]"
     },
     "execution_count": 24,
     "metadata": {},
     "output_type": "execute_result"
    }
   ],
   "source": [
    "subcorpora_vocabs[\"christian\"][\"word_freqs\"][:100]"
   ],
   "metadata": {
    "collapsed": false
   }
  },
  {
   "cell_type": "code",
   "execution_count": 25,
   "outputs": [
    {
     "data": {
      "text/plain": "{'εἰμί': 68779,\n 'θεός': 54401,\n 'λέγω': 53299,\n 'αὐτός': 44000,\n 'οὗτος': 39635,\n 'πᾶς': 29215,\n 'γίγνομαι': 27883,\n 'λόγος': 26969,\n 'ἄνθρωπος': 22561,\n 'ἔχω': 20629,\n 'κύριος': 19568,\n 'φημί': 17691,\n 'ποιέω': 16660,\n 'πολύς': 16373,\n 'Ἰησοῦς': 16227,\n 'πατήρ': 12170,\n 'Χριστός': 12010,\n 'ψυχή': 11777,\n 'ὁράω': 11503,\n 'ἄλλος': 10979,\n 'υἱός': 10971,\n 'τις': 10790,\n 'γῆ': 10742,\n 'πνεῦμα': 10233,\n 'δύναμαι': 9945,\n 'σῶμα': 8386,\n 'μόνος': 8260,\n 'ἔρχομαι': 8161,\n 'δύναμις': 8053,\n 'τοιοῦτος': 7643,\n 'δίδωμι': 7637,\n 'ἀγαθός': 7582,\n 'ἀκούω': 7534,\n 'ὄνομα': 7222,\n 'οὐρανός': 7217,\n 'λαμβάνω': 7091,\n 'ἐκεῖνος': 6962,\n 'ἅγιος': 6598,\n 'μέγας': 6584,\n 'τὶς': 6472,\n 'προφήτης': 6457,\n 'κόσμος': 6421,\n 'οὐδείς': 6405,\n 'ἡμέρα': 6269,\n 'νόμος': 6201,\n 'οἶδα': 6183,\n 'πιστεύω': 6009,\n 'καλέω': 5594,\n 'ἀνήρ': 5586,\n 'ἔργον': 5528,\n 'εἷς': 5356,\n 'ὅλος': 5325,\n 'πρῶτος': 5189,\n 'ἕτερος': 5164,\n 'βούλομαι': 5107,\n 'ἀρχή': 5094,\n 'ἀλήθεια': 5040,\n 'ἔθνος': 5026,\n 'φύσις': 5013,\n 'Ἰουδαῖος': 4985,\n 'θεῖος': 4960,\n 'εὑρίσκω': 4923,\n 'σοφία': 4880,\n 'ἕκαστος': 4854,\n 'ἄγγελος': 4809,\n 'καρδία': 4719,\n 'γιγνώσκω': 4675,\n 'δίκαιος': 4659,\n 'καλός': 4656,\n 'ζωή': 4646,\n 'ἐθέλω': 4646,\n 'ἁμαρτία': 4593,\n 'σωτήρ': 4554,\n 'δοκέω': 4541,\n 'λαός': 4345,\n 'θάνατος': 4224,\n 'τόπος': 4196,\n 'χείρ': 4188,\n 'μαθητής': 4139,\n 'φωνή': 4098,\n 'γραφή': 4088,\n 'δόξα': 4081,\n 'γυνή': 4030,\n 'Ζεύς': 4013,\n 'γράφω': 3994,\n 'κακός': 3989,\n 'μέλλω': 3967,\n 'σάρξ': 3924,\n 'δέω': 3891,\n 'ἴδιος': 3806,\n 'πίστις': 3761,\n 'δεῖ': 3747,\n 'αἰών': 3746,\n 'ὕδωρ': 3722,\n 'λαλέω': 3713,\n 'τίς': 3613,\n 'διδάσκω': 3588,\n 'νομίζω': 3565,\n 'τυγχάνω': 3556,\n 'βασιλεύς': 3530}"
     },
     "execution_count": 25,
     "metadata": {},
     "output_type": "execute_result"
    }
   ],
   "source": [
    "subcorpus_ids = LAGT[LAGT[\"subcorpus\"]==\"christian\"][\"doc_id\"].tolist()\n",
    "subcorpus_ngrams_seed1 =  NgramCorpusSample(subcorpus_ids, ids_lines, \"../data/large_data/corpus_ngrams_bydocid.txt\", sample_size=1000000, sample_seed=1)\n",
    "dict(FreqDist([w for ng in subcorpus_ngrams_seed1 for w in ng]).most_common()[:100])"
   ],
   "metadata": {
    "collapsed": false
   }
  },
  {
   "cell_type": "code",
   "execution_count": 26,
   "outputs": [],
   "source": [
    "subcorpus_ngrams_seed1 =  NgramCorpusSample(subcorpus_ids, ids_lines, \"../data/large_data/corpus_ngrams_bydocid.txt\", sample_size=1000000, sample_seed=1)\n",
    "subcorpus_ngrams_seed2 =  NgramCorpusSample(subcorpus_ids, ids_lines, \"../data/large_data/corpus_ngrams_bydocid.txt\", sample_size=1000000, sample_seed=2)"
   ],
   "metadata": {
    "collapsed": false
   }
  },
  {
   "cell_type": "code",
   "execution_count": 27,
   "outputs": [],
   "source": [
    "freqs_comparison = pd.DataFrame(\n",
    "    [dict(subcorpora_vocabs[\"roman\"][\"word_freqs\"][:5000]),\n",
    "    dict(FreqDist([w for ng in subcorpus_ngrams_seed1 for w in ng]).most_common()[:5000]),\n",
    "    dict(FreqDist([w for ng in subcorpus_ngrams_seed2 for w in ng]).most_common()[:5000])]\n",
    ").T"
   ],
   "metadata": {
    "collapsed": false
   }
  },
  {
   "cell_type": "code",
   "execution_count": 28,
   "outputs": [
    {
     "data": {
      "text/plain": "          0         1         2\n0  1.000000  0.847227  0.846015\n1  0.847227  1.000000  0.999908\n2  0.846015  0.999908  1.000000",
      "text/html": "<div>\n<style scoped>\n    .dataframe tbody tr th:only-of-type {\n        vertical-align: middle;\n    }\n\n    .dataframe tbody tr th {\n        vertical-align: top;\n    }\n\n    .dataframe thead th {\n        text-align: right;\n    }\n</style>\n<table border=\"1\" class=\"dataframe\">\n  <thead>\n    <tr style=\"text-align: right;\">\n      <th></th>\n      <th>0</th>\n      <th>1</th>\n      <th>2</th>\n    </tr>\n  </thead>\n  <tbody>\n    <tr>\n      <th>0</th>\n      <td>1.000000</td>\n      <td>0.847227</td>\n      <td>0.846015</td>\n    </tr>\n    <tr>\n      <th>1</th>\n      <td>0.847227</td>\n      <td>1.000000</td>\n      <td>0.999908</td>\n    </tr>\n    <tr>\n      <th>2</th>\n      <td>0.846015</td>\n      <td>0.999908</td>\n      <td>1.000000</td>\n    </tr>\n  </tbody>\n</table>\n</div>"
     },
     "execution_count": 28,
     "metadata": {},
     "output_type": "execute_result"
    }
   ],
   "source": [
    "freqs_comparison.dropna().corr()"
   ],
   "metadata": {
    "collapsed": false
   }
  },
  {
   "cell_type": "code",
   "execution_count": 29,
   "outputs": [
    {
     "data": {
      "text/plain": "7185"
     },
     "execution_count": 29,
     "metadata": {},
     "output_type": "execute_result"
    }
   ],
   "source": [
    "len(freqs_comparison)"
   ],
   "metadata": {
    "collapsed": false
   }
  },
  {
   "cell_type": "code",
   "execution_count": 30,
   "outputs": [
    {
     "data": {
      "text/plain": "          0         1         2\n0  1.000000  0.592499  0.592932\n1  0.592499  1.000000  0.992367\n2  0.592932  0.992367  1.000000",
      "text/html": "<div>\n<style scoped>\n    .dataframe tbody tr th:only-of-type {\n        vertical-align: middle;\n    }\n\n    .dataframe tbody tr th {\n        vertical-align: top;\n    }\n\n    .dataframe thead th {\n        text-align: right;\n    }\n</style>\n<table border=\"1\" class=\"dataframe\">\n  <thead>\n    <tr style=\"text-align: right;\">\n      <th></th>\n      <th>0</th>\n      <th>1</th>\n      <th>2</th>\n    </tr>\n  </thead>\n  <tbody>\n    <tr>\n      <th>0</th>\n      <td>1.000000</td>\n      <td>0.592499</td>\n      <td>0.592932</td>\n    </tr>\n    <tr>\n      <th>1</th>\n      <td>0.592499</td>\n      <td>1.000000</td>\n      <td>0.992367</td>\n    </tr>\n    <tr>\n      <th>2</th>\n      <td>0.592932</td>\n      <td>0.992367</td>\n      <td>1.000000</td>\n    </tr>\n  </tbody>\n</table>\n</div>"
     },
     "execution_count": 30,
     "metadata": {},
     "output_type": "execute_result"
    }
   ],
   "source": [
    "freqs_comparison[:4000].corr(method=\"spearman\")"
   ],
   "metadata": {
    "collapsed": false
   }
  },
  {
   "cell_type": "code",
   "execution_count": 31,
   "outputs": [
    {
     "data": {
      "text/plain": "          0         1         2\n0  1.000000  0.590499  0.592962\n1  0.590499  1.000000  0.982044\n2  0.592962  0.982044  1.000000",
      "text/html": "<div>\n<style scoped>\n    .dataframe tbody tr th:only-of-type {\n        vertical-align: middle;\n    }\n\n    .dataframe tbody tr th {\n        vertical-align: top;\n    }\n\n    .dataframe thead th {\n        text-align: right;\n    }\n</style>\n<table border=\"1\" class=\"dataframe\">\n  <thead>\n    <tr style=\"text-align: right;\">\n      <th></th>\n      <th>0</th>\n      <th>1</th>\n      <th>2</th>\n    </tr>\n  </thead>\n  <tbody>\n    <tr>\n      <th>0</th>\n      <td>1.000000</td>\n      <td>0.590499</td>\n      <td>0.592962</td>\n    </tr>\n    <tr>\n      <th>1</th>\n      <td>0.590499</td>\n      <td>1.000000</td>\n      <td>0.982044</td>\n    </tr>\n    <tr>\n      <th>2</th>\n      <td>0.592962</td>\n      <td>0.982044</td>\n      <td>1.000000</td>\n    </tr>\n  </tbody>\n</table>\n</div>"
     },
     "execution_count": 31,
     "metadata": {},
     "output_type": "execute_result"
    }
   ],
   "source": [
    "np.log2(freqs_comparison).corr(method=\"spearman\")"
   ],
   "metadata": {
    "collapsed": false
   }
  },
  {
   "cell_type": "code",
   "execution_count": 32,
   "outputs": [],
   "source": [
    "# let's build two models based on the same subcorpus but sampled with different seed"
   ],
   "metadata": {
    "collapsed": false
   }
  },
  {
   "cell_type": "code",
   "execution_count": 33,
   "outputs": [
    {
     "name": "stdout",
     "output_type": "stream",
     "text": [
      "CPU times: user 3min 19s, sys: 2min 7s, total: 5min 27s\n",
      "Wall time: 4min 38s\n"
     ]
    }
   ],
   "source": [
    "%%time\n",
    "sub = \"christian\"\n",
    "\n",
    "ids_lines = pickle.load(open(\"../data/ids_lines_wide.pickle\", \"rb\"))\n",
    "\n",
    "subcorpus_ids = LAGT[LAGT[\"subcorpus\"]==sub][\"doc_id\"].tolist()\n",
    "subcorpus_ngrams_seed1 =  NgramCorpusSample(subcorpus_ids, ids_lines, \"../data/large_data/corpus_ngrams_bydocid_wide.txt\", sample_size=2000000, sample_seed=1)\n",
    "model_seed1 = Word2Vec(vector_size=300, window=5, negative=5, ns_exponent=1, sg=0, epochs=5, workers=8)\n",
    "model_seed1.build_vocab_from_freq(word_freq=dict(subcorpora_vocabs[sub][\"word_freqs\"][:5000]))\n",
    "model_seed1.train(subcorpus_ngrams_seed1, total_examples=len(subcorpus_ngrams_seed1), epochs=model_seed1.epochs)\n",
    "vectors_seed1 = model_seed1.wv\n",
    "\n",
    "subcorpus_ngrams_seed2 =  NgramCorpusSample(subcorpus_ids, ids_lines, \"../data/large_data/corpus_ngrams_bydocid_wide.txt\", sample_size=2000000, sample_seed=2)\n",
    "model_seed2 = Word2Vec(vector_size=300, window=5, negative=5, ns_exponent=1, sg=0, epochs=5, workers=8)\n",
    "model_seed2.build_vocab_from_freq(word_freq=dict(subcorpora_vocabs[sub][\"word_freqs\"][:5000]))\n",
    "model_seed2.train(subcorpus_ngrams_seed2, total_examples=len(subcorpus_ngrams_seed2), epochs=model_seed1.epochs)\n",
    "vectors_seed2 = model_seed2.wv"
   ],
   "metadata": {
    "collapsed": false
   }
  },
  {
   "cell_type": "code",
   "execution_count": 36,
   "outputs": [
    {
     "name": "stdout",
     "output_type": "stream",
     "text": [
      "generating model for the archaic subcorpus...\n",
      "archaic model ready\n",
      "generating model for the classical subcorpus...\n",
      "classical model ready\n",
      "generating model for the roman subcorpus...\n",
      "roman model ready\n",
      "generating model for the christian subcorpus...\n",
      "christian model ready\n",
      "generating model for the jewish subcorpus...\n",
      "jewish model ready\n"
     ]
    }
   ],
   "source": [
    "ids_lines = pickle.load(open(\"../data/ids_lines_wide.pickle\", \"rb\"))\n",
    "\n",
    "for sub in subcorpora:\n",
    "    subcorpus_ids = LAGT[LAGT[\"subcorpus\"]==sub][\"doc_id\"].tolist()\n",
    "    #do the stuff above\n",
    "    print(\"generating model for the {} subcorpus...\".format(sub))\n",
    "    subcorpus_ngrams_seed1 =  NgramCorpusSample(subcorpus_ids, ids_lines, \"../data/large_data/corpus_ngrams_bydocid_wide.txt\", sample_size=1000000, sample_seed=1)\n",
    "    model_seed1 = Word2Vec(vector_size=150, window=5, negative=5, ns_exponent=1, sg=0, epochs=10, workers=8)\n",
    "    model_seed1.build_vocab_from_freq(word_freq=dict(subcorpora_vocabs[sub][\"word_freqs\"][:5000]))\n",
    "    model_seed1.train(subcorpus_ngrams_seed1, total_examples=len(subcorpus_ngrams_seed1), epochs=model_seed1.epochs)\n",
    "    vectors_seed1 = model_seed1.wv\n",
    "    vectors_seed1.save(\"../data/large_data/vectors_{}_seed1.kv\".format(sub))\n",
    "    subcorpus_ngrams_seed2 =  NgramCorpusSample(subcorpus_ids, ids_lines, \"../data/large_data/corpus_ngrams_bydocid_wide.txt\", sample_size=1000000, sample_seed=2)\n",
    "    model_seed2 = Word2Vec(vector_size=150, window=5, negative=5, ns_exponent=1, sg=0, epochs=10, workers=8)\n",
    "    model_seed2.build_vocab_from_freq(word_freq=dict(subcorpora_vocabs[sub][\"word_freqs\"][:5000]))\n",
    "    model_seed2.train(subcorpus_ngrams_seed1, total_examples=len(subcorpus_ngrams_seed2), epochs=model_seed1.epochs)\n",
    "    vectors_seed2 = model_seed2.wv\n",
    "    vectors_seed2.save(\"../data/large_data/vectors_{}_seed2.kv\".format(sub))\n",
    "    print(\"{} model ready\".format(sub))\n"
   ],
   "metadata": {
    "collapsed": false
   }
  },
  {
   "cell_type": "code",
   "execution_count": null,
   "outputs": [],
   "source": [],
   "metadata": {
    "collapsed": false
   }
  },
  {
   "cell_type": "code",
   "execution_count": null,
   "outputs": [],
   "source": [],
   "metadata": {
    "collapsed": false
   }
  },
  {
   "cell_type": "code",
   "execution_count": null,
   "outputs": [],
   "source": [],
   "metadata": {
    "collapsed": false
   }
  },
  {
   "cell_type": "code",
   "execution_count": 37,
   "outputs": [
    {
     "name": "stdout",
     "output_type": "stream",
     "text": [
      "generating model for the archaic subcorpus...\n",
      "archaic model ready\n",
      "generating model for the classical subcorpus...\n",
      "classical model ready\n",
      "generating model for the roman subcorpus...\n",
      "roman model ready\n",
      "generating model for the christian subcorpus...\n",
      "christian model ready\n",
      "generating model for the jewish subcorpus...\n",
      "jewish model ready\n"
     ]
    }
   ],
   "source": [
    "ids_lines = pickle.load(open(\"../data/ids_lines_wide.pickle\", \"rb\"))\n",
    "\n",
    "for sub in subcorpora:\n",
    "    subcorpus_ids = LAGT[LAGT[\"subcorpus\"]==sub][\"doc_id\"].tolist()\n",
    "    #do the stuff above\n",
    "    print(\"generating model for the {} subcorpus...\".format(sub))\n",
    "    subcorpus_ngrams_seed1 =  NgramCorpusSample(subcorpus_ids, ids_lines, \"../data/large_data/corpus_ngrams_bydocid_wide.txt\", sample_size=None, sample_seed=1)\n",
    "    model_seed1 = Word2Vec(vector_size=150, window=5, negative=5, ns_exponent=1, sg=0, epochs=10, workers=8)\n",
    "    model_seed1.build_vocab_from_freq(word_freq=dict(subcorpora_vocabs[sub][\"word_freqs\"][:5000]))\n",
    "    model_seed1.train(subcorpus_ngrams_seed1, total_examples=len(subcorpus_ngrams_seed1), epochs=model_seed1.epochs)\n",
    "    vectors_seed1 = model_seed1.wv\n",
    "    vectors_seed1.save(\"../data/large_data/vectors_{}_seed1_notsampled.kv\".format(sub))\n",
    "    subcorpus_ngrams_seed2 =  NgramCorpusSample(subcorpus_ids, ids_lines, \"../data/large_data/corpus_ngrams_bydocid_wide.txt\", sample_size=None, sample_seed=2)\n",
    "    model_seed2 = Word2Vec(vector_size=150, window=5, negative=5, ns_exponent=1, sg=0, epochs=10, workers=8)\n",
    "    model_seed2.build_vocab_from_freq(word_freq=dict(subcorpora_vocabs[sub][\"word_freqs\"][:5000]))\n",
    "    model_seed2.train(subcorpus_ngrams_seed1, total_examples=len(subcorpus_ngrams_seed2), epochs=model_seed1.epochs)\n",
    "    vectors_seed2 = model_seed2.wv\n",
    "    vectors_seed2.save(\"../data/large_data/vectors_{}_seed2_notsampled.kv\".format(sub))\n",
    "    print(\"{} model ready\".format(sub))"
   ],
   "metadata": {
    "collapsed": false
   }
  },
  {
   "cell_type": "code",
   "execution_count": null,
   "outputs": [],
   "source": [],
   "metadata": {
    "collapsed": false
   }
  }
 ],
 "metadata": {
  "kernelspec": {
   "name": "conda_base",
   "language": "python",
   "display_name": "conda_base"
  },
  "language_info": {
   "codemirror_mode": {
    "name": "ipython",
    "version": 2
   },
   "file_extension": ".py",
   "mimetype": "text/x-python",
   "name": "python",
   "nbconvert_exporter": "python",
   "pygments_lexer": "ipython2",
   "version": "2.7.6"
  }
 },
 "nbformat": 4,
 "nbformat_minor": 0
}
