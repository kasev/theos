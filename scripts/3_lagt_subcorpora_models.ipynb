{
 "cells": [
  {
   "cell_type": "code",
   "metadata": {
    "collapsed": true,
    "ExecuteTime": {
     "end_time": "2024-02-20T21:02:15.340401Z",
     "start_time": "2024-02-20T21:02:13.693002Z"
    }
   },
   "source": [
    "import numpy as np\n",
    "import pandas as pd\n",
    "from gensim.models import Word2Vec\n",
    "from nltk import FreqDist\n",
    "from sklearn.metrics.pairwise import cosine_similarity\n",
    "import pickle"
   ],
   "outputs": [],
   "execution_count": 1
  },
  {
   "cell_type": "code",
   "source": "LAGT = pd.read_parquet(\"../data/large_data/LAGT_theos.parquet\")",
   "metadata": {
    "collapsed": false,
    "ExecuteTime": {
     "end_time": "2024-02-15T11:38:45.570664Z",
     "start_time": "2024-02-15T11:38:42.733513Z"
    }
   },
   "outputs": [],
   "execution_count": 3
  },
  {
   "cell_type": "code",
   "source": [
    "LAGT.head(5)"
   ],
   "metadata": {
    "collapsed": false,
    "ExecuteTime": {
     "end_time": "2024-02-15T11:38:45.604227Z",
     "start_time": "2024-02-15T11:38:45.572367Z"
    }
   },
   "outputs": [
    {
     "data": {
      "text/plain": [
       "   author_id          doc_id                       filename      author  \\\n",
       "2    ogl0001  ogl0001.ogl001  ogl0001.ogl001.1st1K-grc1.xml     Pinytus   \n",
       "8    tlg0005  tlg0005.tlg003  tlg0005.tlg003.1st1K-grc1.xml  Theocritus   \n",
       "9    tlg0006  tlg0006.tlg020  tlg0006.tlg020.1st1K-grc1.xml   Euripides   \n",
       "10   tlg0007  tlg0007.tlg146  tlg0007.tlg146.1st1K-grc1.xml    Plutarch   \n",
       "11   tlg0007  tlg0007.tlg147  tlg0007.tlg147.1st1K-grc1.xml    Plutarch   \n",
       "\n",
       "                                title  \\\n",
       "2     De Epistola Pinyti ad Dionysium   \n",
       "8                              Syrinx   \n",
       "9                           Fragmenta   \n",
       "10  Παροιμίαι αἷς Ἀλεξανδρεῖς ἐχρῶντο   \n",
       "11           Ἐκλογὴ περὶ τῶν ἀδυνάτων   \n",
       "\n",
       "                                               string  wordcount source  \\\n",
       "2   FRAGMENTUM BEATI PINYTI, CNOSSI IN CRETA EPISC...        180   1Kgr   \n",
       "8   Οὐδενὸς εὐνάτειρα Μακροπτολέμοιο δὲ μάτηρ  μαί...         77   1Kgr   \n",
       "9   ποίαν σε φῶμεν γαῖαν ἐκλελοιπότα πόλει ξενοῦσθ...      17708   1Kgr   \n",
       "10  Οἴκοι τὰ Μιλήσια: ἐπὶ τῶν ὅποι μὴ προςήκει τὴν...       2685   1Kgr   \n",
       "11  Κατὰ πετρῶν σπείρεις. Πλίνθον πλύνεις. Δικτύῳ ...        143   1Kgr   \n",
       "\n",
       "                                 lemmatized_sentences lemmata_source  \\\n",
       "2   [[Πινυτός, ἀντιγράφω, θαυμάζω, ἀποδέχω, Διονύσ...          grecy   \n",
       "8   [[οὐδενός, εὐνητήρ], [μακροπτολέμοιο, μήτηρ, μ...          grecy   \n",
       "9   [[φημί, γῆ, ἐκλείπω, πόλις, ξενοῦσθαι], [πάτρα...          grecy   \n",
       "10  [[Μιλήσιος], [προςήκω, τρυφή, ἐπιδείκνυμι], [Ἀ...          grecy   \n",
       "11  [[πέτρα, σπείρω], [Πλίνθος, πλύνω, Δίκτυον, ἄν...          grecy   \n",
       "\n",
       "    tlg_date  not_before  not_after date_uncertain  \\\n",
       "2       None       101.0      200.0           None   \n",
       "8   4-3 B.C.      -400.0     -201.0          False   \n",
       "9     5 B.C.      -500.0     -401.0          False   \n",
       "10  A.D. 1-2         1.0      200.0          False   \n",
       "11  A.D. 1-2         1.0      200.0          False   \n",
       "\n",
       "                      tlg_epithet provenience  lemmatacount  \\\n",
       "2                              []   christian            34   \n",
       "8                      [Bucolici]       pagan            61   \n",
       "9                       [Tragici]       pagan         10277   \n",
       "10  [Biographi, Philosophici/-ae]       pagan          1488   \n",
       "11  [Biographi, Philosophici/-ae]       pagan           125   \n",
       "\n",
       "                     periods         cents  \n",
       "2               [roman_peak]         [2CE]  \n",
       "8   [classical, hellenistic]  [4BCE, 3BCE]  \n",
       "9                [classical]        [5BCE]  \n",
       "10              [roman_peak]    [1CE, 2CE]  \n",
       "11              [roman_peak]    [1CE, 2CE]  "
      ],
      "text/html": [
       "<div>\n",
       "<style scoped>\n",
       "    .dataframe tbody tr th:only-of-type {\n",
       "        vertical-align: middle;\n",
       "    }\n",
       "\n",
       "    .dataframe tbody tr th {\n",
       "        vertical-align: top;\n",
       "    }\n",
       "\n",
       "    .dataframe thead th {\n",
       "        text-align: right;\n",
       "    }\n",
       "</style>\n",
       "<table border=\"1\" class=\"dataframe\">\n",
       "  <thead>\n",
       "    <tr style=\"text-align: right;\">\n",
       "      <th></th>\n",
       "      <th>author_id</th>\n",
       "      <th>doc_id</th>\n",
       "      <th>filename</th>\n",
       "      <th>author</th>\n",
       "      <th>title</th>\n",
       "      <th>string</th>\n",
       "      <th>wordcount</th>\n",
       "      <th>source</th>\n",
       "      <th>lemmatized_sentences</th>\n",
       "      <th>lemmata_source</th>\n",
       "      <th>tlg_date</th>\n",
       "      <th>not_before</th>\n",
       "      <th>not_after</th>\n",
       "      <th>date_uncertain</th>\n",
       "      <th>tlg_epithet</th>\n",
       "      <th>provenience</th>\n",
       "      <th>lemmatacount</th>\n",
       "      <th>periods</th>\n",
       "      <th>cents</th>\n",
       "    </tr>\n",
       "  </thead>\n",
       "  <tbody>\n",
       "    <tr>\n",
       "      <th>2</th>\n",
       "      <td>ogl0001</td>\n",
       "      <td>ogl0001.ogl001</td>\n",
       "      <td>ogl0001.ogl001.1st1K-grc1.xml</td>\n",
       "      <td>Pinytus</td>\n",
       "      <td>De Epistola Pinyti ad Dionysium</td>\n",
       "      <td>FRAGMENTUM BEATI PINYTI, CNOSSI IN CRETA EPISC...</td>\n",
       "      <td>180</td>\n",
       "      <td>1Kgr</td>\n",
       "      <td>[[Πινυτός, ἀντιγράφω, θαυμάζω, ἀποδέχω, Διονύσ...</td>\n",
       "      <td>grecy</td>\n",
       "      <td>None</td>\n",
       "      <td>101.0</td>\n",
       "      <td>200.0</td>\n",
       "      <td>None</td>\n",
       "      <td>[]</td>\n",
       "      <td>christian</td>\n",
       "      <td>34</td>\n",
       "      <td>[roman_peak]</td>\n",
       "      <td>[2CE]</td>\n",
       "    </tr>\n",
       "    <tr>\n",
       "      <th>8</th>\n",
       "      <td>tlg0005</td>\n",
       "      <td>tlg0005.tlg003</td>\n",
       "      <td>tlg0005.tlg003.1st1K-grc1.xml</td>\n",
       "      <td>Theocritus</td>\n",
       "      <td>Syrinx</td>\n",
       "      <td>Οὐδενὸς εὐνάτειρα Μακροπτολέμοιο δὲ μάτηρ  μαί...</td>\n",
       "      <td>77</td>\n",
       "      <td>1Kgr</td>\n",
       "      <td>[[οὐδενός, εὐνητήρ], [μακροπτολέμοιο, μήτηρ, μ...</td>\n",
       "      <td>grecy</td>\n",
       "      <td>4-3 B.C.</td>\n",
       "      <td>-400.0</td>\n",
       "      <td>-201.0</td>\n",
       "      <td>False</td>\n",
       "      <td>[Bucolici]</td>\n",
       "      <td>pagan</td>\n",
       "      <td>61</td>\n",
       "      <td>[classical, hellenistic]</td>\n",
       "      <td>[4BCE, 3BCE]</td>\n",
       "    </tr>\n",
       "    <tr>\n",
       "      <th>9</th>\n",
       "      <td>tlg0006</td>\n",
       "      <td>tlg0006.tlg020</td>\n",
       "      <td>tlg0006.tlg020.1st1K-grc1.xml</td>\n",
       "      <td>Euripides</td>\n",
       "      <td>Fragmenta</td>\n",
       "      <td>ποίαν σε φῶμεν γαῖαν ἐκλελοιπότα πόλει ξενοῦσθ...</td>\n",
       "      <td>17708</td>\n",
       "      <td>1Kgr</td>\n",
       "      <td>[[φημί, γῆ, ἐκλείπω, πόλις, ξενοῦσθαι], [πάτρα...</td>\n",
       "      <td>grecy</td>\n",
       "      <td>5 B.C.</td>\n",
       "      <td>-500.0</td>\n",
       "      <td>-401.0</td>\n",
       "      <td>False</td>\n",
       "      <td>[Tragici]</td>\n",
       "      <td>pagan</td>\n",
       "      <td>10277</td>\n",
       "      <td>[classical]</td>\n",
       "      <td>[5BCE]</td>\n",
       "    </tr>\n",
       "    <tr>\n",
       "      <th>10</th>\n",
       "      <td>tlg0007</td>\n",
       "      <td>tlg0007.tlg146</td>\n",
       "      <td>tlg0007.tlg146.1st1K-grc1.xml</td>\n",
       "      <td>Plutarch</td>\n",
       "      <td>Παροιμίαι αἷς Ἀλεξανδρεῖς ἐχρῶντο</td>\n",
       "      <td>Οἴκοι τὰ Μιλήσια: ἐπὶ τῶν ὅποι μὴ προςήκει τὴν...</td>\n",
       "      <td>2685</td>\n",
       "      <td>1Kgr</td>\n",
       "      <td>[[Μιλήσιος], [προςήκω, τρυφή, ἐπιδείκνυμι], [Ἀ...</td>\n",
       "      <td>grecy</td>\n",
       "      <td>A.D. 1-2</td>\n",
       "      <td>1.0</td>\n",
       "      <td>200.0</td>\n",
       "      <td>False</td>\n",
       "      <td>[Biographi, Philosophici/-ae]</td>\n",
       "      <td>pagan</td>\n",
       "      <td>1488</td>\n",
       "      <td>[roman_peak]</td>\n",
       "      <td>[1CE, 2CE]</td>\n",
       "    </tr>\n",
       "    <tr>\n",
       "      <th>11</th>\n",
       "      <td>tlg0007</td>\n",
       "      <td>tlg0007.tlg147</td>\n",
       "      <td>tlg0007.tlg147.1st1K-grc1.xml</td>\n",
       "      <td>Plutarch</td>\n",
       "      <td>Ἐκλογὴ περὶ τῶν ἀδυνάτων</td>\n",
       "      <td>Κατὰ πετρῶν σπείρεις. Πλίνθον πλύνεις. Δικτύῳ ...</td>\n",
       "      <td>143</td>\n",
       "      <td>1Kgr</td>\n",
       "      <td>[[πέτρα, σπείρω], [Πλίνθος, πλύνω, Δίκτυον, ἄν...</td>\n",
       "      <td>grecy</td>\n",
       "      <td>A.D. 1-2</td>\n",
       "      <td>1.0</td>\n",
       "      <td>200.0</td>\n",
       "      <td>False</td>\n",
       "      <td>[Biographi, Philosophici/-ae]</td>\n",
       "      <td>pagan</td>\n",
       "      <td>125</td>\n",
       "      <td>[roman_peak]</td>\n",
       "      <td>[1CE, 2CE]</td>\n",
       "    </tr>\n",
       "  </tbody>\n",
       "</table>\n",
       "</div>"
      ]
     },
     "execution_count": 4,
     "metadata": {},
     "output_type": "execute_result"
    }
   ],
   "execution_count": 4
  },
  {
   "metadata": {
    "ExecuteTime": {
     "end_time": "2024-02-15T11:38:45.610540Z",
     "start_time": "2024-02-15T11:38:45.606079Z"
    }
   },
   "cell_type": "code",
   "source": [
    "religion_final = [\"θεός\", \"Ζεύς\", \"εὐσεβής\", 'ἱερός']\n",
    "morality_final = [\"ἀγαθός\", \"ἀρετή\", \"δίκαιος\", \"τιμή\"]\n",
    "\n",
    "with open(\"../data/vocabulary_balanced.pickle\", \"rb\") as f:\n",
    "    vocabulary_balanced = pickle.load(f)"
   ],
   "outputs": [],
   "execution_count": 5
  },
  {
   "metadata": {
    "ExecuteTime": {
     "end_time": "2024-02-15T11:38:48.256328Z",
     "start_time": "2024-02-15T11:38:45.612106Z"
    }
   },
   "cell_type": "code",
   "source": [
    "wordcounts_df = pd.read_json(\"../data/large_data/wordcounts_df.json\")\n",
    "wordcounts_df.head(5)"
   ],
   "outputs": [
    {
     "data": {
      "text/plain": [
       "       pagan_archaic  pagan_classical  pagan_hellenistic  pagan_roman_peak  \\\n",
       "εἰμί          2983.0          74864.0            31177.0           99272.0   \n",
       "πᾶς           1637.0          19928.0             9108.0           31800.0   \n",
       "ἀνήρ          1614.0           8550.0             3700.0           10259.0   \n",
       "αὐτός         1534.0          42498.0            25174.0          107013.0   \n",
       "θεός          1468.0           5595.0             2802.0            9629.0   \n",
       "\n",
       "       pagan_roman_late  christian_roman_peak  christian_roman_late   jewish  \n",
       "εἰμί            19685.0                8324.0                5241.0  12319.0  \n",
       "πᾶς             15015.0                6883.0                9324.0  10776.0  \n",
       "ἀνήρ             4068.0                2053.0                3385.0   3086.0  \n",
       "αὐτός           28587.0                8447.0                9611.0  14221.0  \n",
       "θεός             6852.0               15349.0               20369.0   8856.0  "
      ],
      "text/html": [
       "<div>\n",
       "<style scoped>\n",
       "    .dataframe tbody tr th:only-of-type {\n",
       "        vertical-align: middle;\n",
       "    }\n",
       "\n",
       "    .dataframe tbody tr th {\n",
       "        vertical-align: top;\n",
       "    }\n",
       "\n",
       "    .dataframe thead th {\n",
       "        text-align: right;\n",
       "    }\n",
       "</style>\n",
       "<table border=\"1\" class=\"dataframe\">\n",
       "  <thead>\n",
       "    <tr style=\"text-align: right;\">\n",
       "      <th></th>\n",
       "      <th>pagan_archaic</th>\n",
       "      <th>pagan_classical</th>\n",
       "      <th>pagan_hellenistic</th>\n",
       "      <th>pagan_roman_peak</th>\n",
       "      <th>pagan_roman_late</th>\n",
       "      <th>christian_roman_peak</th>\n",
       "      <th>christian_roman_late</th>\n",
       "      <th>jewish</th>\n",
       "    </tr>\n",
       "  </thead>\n",
       "  <tbody>\n",
       "    <tr>\n",
       "      <th>εἰμί</th>\n",
       "      <td>2983.0</td>\n",
       "      <td>74864.0</td>\n",
       "      <td>31177.0</td>\n",
       "      <td>99272.0</td>\n",
       "      <td>19685.0</td>\n",
       "      <td>8324.0</td>\n",
       "      <td>5241.0</td>\n",
       "      <td>12319.0</td>\n",
       "    </tr>\n",
       "    <tr>\n",
       "      <th>πᾶς</th>\n",
       "      <td>1637.0</td>\n",
       "      <td>19928.0</td>\n",
       "      <td>9108.0</td>\n",
       "      <td>31800.0</td>\n",
       "      <td>15015.0</td>\n",
       "      <td>6883.0</td>\n",
       "      <td>9324.0</td>\n",
       "      <td>10776.0</td>\n",
       "    </tr>\n",
       "    <tr>\n",
       "      <th>ἀνήρ</th>\n",
       "      <td>1614.0</td>\n",
       "      <td>8550.0</td>\n",
       "      <td>3700.0</td>\n",
       "      <td>10259.0</td>\n",
       "      <td>4068.0</td>\n",
       "      <td>2053.0</td>\n",
       "      <td>3385.0</td>\n",
       "      <td>3086.0</td>\n",
       "    </tr>\n",
       "    <tr>\n",
       "      <th>αὐτός</th>\n",
       "      <td>1534.0</td>\n",
       "      <td>42498.0</td>\n",
       "      <td>25174.0</td>\n",
       "      <td>107013.0</td>\n",
       "      <td>28587.0</td>\n",
       "      <td>8447.0</td>\n",
       "      <td>9611.0</td>\n",
       "      <td>14221.0</td>\n",
       "    </tr>\n",
       "    <tr>\n",
       "      <th>θεός</th>\n",
       "      <td>1468.0</td>\n",
       "      <td>5595.0</td>\n",
       "      <td>2802.0</td>\n",
       "      <td>9629.0</td>\n",
       "      <td>6852.0</td>\n",
       "      <td>15349.0</td>\n",
       "      <td>20369.0</td>\n",
       "      <td>8856.0</td>\n",
       "    </tr>\n",
       "  </tbody>\n",
       "</table>\n",
       "</div>"
      ]
     },
     "execution_count": 6,
     "metadata": {},
     "output_type": "execute_result"
    }
   ],
   "execution_count": 6
  },
  {
   "metadata": {
    "ExecuteTime": {
     "end_time": "2024-02-15T11:38:48.303828Z",
     "start_time": "2024-02-15T11:38:48.257046Z"
    }
   },
   "cell_type": "code",
   "source": "wordcounts_df_balanced = wordcounts_df.loc[vocabulary_balanced]",
   "outputs": [],
   "execution_count": 7
  },
  {
   "cell_type": "markdown",
   "source": [
    "# Read subcorpora from ngrams - developing a memory-friendly reader"
   ],
   "metadata": {
    "collapsed": false
   }
  },
  {
   "cell_type": "code",
   "source": [
    "with open(\"../data/subcorpora_ids_dict.pickle\", \"rb\") as f:\n",
    "    subcorpora_ids_dict= pickle.load(f)\n",
    "    "
   ],
   "metadata": {
    "collapsed": false,
    "ExecuteTime": {
     "end_time": "2024-02-15T11:38:48.308363Z",
     "start_time": "2024-02-15T11:38:48.305546Z"
    }
   },
   "outputs": [],
   "execution_count": 8
  },
  {
   "metadata": {
    "ExecuteTime": {
     "end_time": "2024-02-15T11:38:48.312119Z",
     "start_time": "2024-02-15T11:38:48.309041Z"
    }
   },
   "cell_type": "code",
   "source": "ids_lines = pickle.load(open(\"../data/ids_lines_wide.pickle\", \"rb\"))",
   "outputs": [],
   "execution_count": 9
  },
  {
   "cell_type": "code",
   "source": [
    "list(ids_lines.items())[:5]"
   ],
   "metadata": {
    "collapsed": false,
    "ExecuteTime": {
     "end_time": "2024-02-15T11:38:48.317517Z",
     "start_time": "2024-02-15T11:38:48.314820Z"
    }
   },
   "outputs": [
    {
     "data": {
      "text/plain": [
       "[('ogl0001.ogl001', (0, 25)),\n",
       " ('tlg0005.tlg003', (25, 70)),\n",
       " ('tlg0006.tlg020', (70, 5712)),\n",
       " ('tlg0007.tlg146', (5712, 6527)),\n",
       " ('tlg0007.tlg147', (6527, 6587))]"
      ]
     },
     "execution_count": 10,
     "metadata": {},
     "output_type": "execute_result"
    }
   ],
   "execution_count": 10
  },
  {
   "cell_type": "code",
   "source": [
    "subcorpus_ids = subcorpora_ids_dict[\"pagan_archaic\"]\n",
    "len(subcorpus_ids)"
   ],
   "metadata": {
    "collapsed": false,
    "ExecuteTime": {
     "end_time": "2024-02-15T11:38:51.618310Z",
     "start_time": "2024-02-15T11:38:51.612844Z"
    }
   },
   "outputs": [
    {
     "data": {
      "text/plain": [
       "59"
      ]
     },
     "execution_count": 11,
     "metadata": {},
     "output_type": "execute_result"
    }
   ],
   "execution_count": 11
  },
  {
   "metadata": {
    "ExecuteTime": {
     "end_time": "2024-02-15T11:43:44.875621Z",
     "start_time": "2024-02-15T11:43:44.870294Z"
    }
   },
   "cell_type": "code",
   "source": [
    "pagan_archaic_sentsn = LAGT[LAGT[\"doc_id\"].isin(subcorpora_ids_dict[\"pagan_archaic\"])][\"lemmatized_sentences\"].apply(len).sum()\n",
    "pagan_archaic_sentsn"
   ],
   "outputs": [
    {
     "data": {
      "text/plain": [
       "27254"
      ]
     },
     "execution_count": 15,
     "metadata": {},
     "output_type": "execute_result"
    }
   ],
   "execution_count": 15
  },
  {
   "metadata": {
    "ExecuteTime": {
     "end_time": "2024-02-15T11:44:02.552268Z",
     "start_time": "2024-02-15T11:44:02.548738Z"
    }
   },
   "cell_type": "code",
   "source": [
    "pagan_roman_peak_sentsn = LAGT[LAGT[\"doc_id\"].isin(subcorpora_ids_dict[\"pagan_roman_peak\"])][\"lemmatized_sentences\"].apply(len).sum()\n",
    "pagan_roman_peak_sentsn"
   ],
   "outputs": [
    {
     "data": {
      "text/plain": [
       "662484"
      ]
     },
     "execution_count": 16,
     "metadata": {},
     "output_type": "execute_result"
    }
   ],
   "execution_count": 16
  },
  {
   "metadata": {
    "ExecuteTime": {
     "end_time": "2024-02-15T11:44:18.751581Z",
     "start_time": "2024-02-15T11:44:18.747826Z"
    }
   },
   "cell_type": "code",
   "source": "pagan_roman_peak_sentsn / pagan_archaic_sentsn",
   "outputs": [
    {
     "data": {
      "text/plain": [
       "24.307771336317604"
      ]
     },
     "execution_count": 18,
     "metadata": {},
     "output_type": "execute_result"
    }
   ],
   "execution_count": 18
  },
  {
   "cell_type": "code",
   "source": [
    "lines_list = [ ]\n",
    "for id in subcorpus_ids:\n",
    "    lines_list.extend([l for l in range(ids_lines[id][0], ids_lines[id][1])])\n",
    "ngrams_n = len(lines_list)\n",
    "ngrams_n"
   ],
   "metadata": {
    "collapsed": false,
    "ExecuteTime": {
     "end_time": "2024-02-15T11:38:58.042678Z",
     "start_time": "2024-02-15T11:38:58.035810Z"
    }
   },
   "outputs": [
    {
     "data": {
      "text/plain": [
       "126322"
      ]
     },
     "execution_count": 12,
     "metadata": {},
     "output_type": "execute_result"
    }
   ],
   "execution_count": 12
  },
  {
   "metadata": {},
   "cell_type": "code",
   "outputs": [],
   "execution_count": null,
   "source": ""
  },
  {
   "cell_type": "code",
   "source": [
    "sample_size=1000000\n",
    "if sample_size != None:\n",
    "    sample_inx =np.random.randint(0, ngrams_n, sample_size)\n",
    "else:\n",
    "    sample_inx =[n for n in range(0, ngrams_n)]"
   ],
   "metadata": {
    "collapsed": false,
    "ExecuteTime": {
     "end_time": "2024-02-13T22:46:32.088389Z",
     "start_time": "2024-02-13T22:46:32.081850Z"
    }
   },
   "outputs": [],
   "execution_count": 13
  },
  {
   "cell_type": "code",
   "source": [
    "sample_lines = np.array(lines_list)[sample_inx]\n",
    "len(sample_lines)"
   ],
   "metadata": {
    "collapsed": false,
    "ExecuteTime": {
     "end_time": "2024-02-13T22:46:32.240564Z",
     "start_time": "2024-02-13T22:46:32.232871Z"
    }
   },
   "outputs": [
    {
     "data": {
      "text/plain": [
       "1000000"
      ]
     },
     "execution_count": 14,
     "metadata": {},
     "output_type": "execute_result"
    }
   ],
   "execution_count": 14
  },
  {
   "cell_type": "code",
   "source": [
    "sample_lines[:5]"
   ],
   "metadata": {
    "collapsed": false,
    "ExecuteTime": {
     "end_time": "2024-02-13T22:46:33.123884Z",
     "start_time": "2024-02-13T22:46:33.119033Z"
    }
   },
   "outputs": [
    {
     "data": {
      "text/plain": [
       "array([6502150, 6236315, 6259082, 7442291, 7434404])"
      ]
     },
     "execution_count": 15,
     "metadata": {},
     "output_type": "execute_result"
    }
   ],
   "execution_count": 15
  },
  {
   "cell_type": "code",
   "source": [
    "test_ngrams = []\n",
    "with open(\"../data/large_data/corpus_ngrams_bydocid_wide.txt\", \"r\") as f:\n",
    "    lines = f.readlines()\n",
    "    for li in sample_lines:\n",
    "        line = lines[li]# for line index in subcorpus lineindexes\n",
    "        if bool(line.split()):\n",
    "            test_ngrams.append(line.split())"
   ],
   "metadata": {
    "collapsed": false,
    "ExecuteTime": {
     "end_time": "2024-02-13T22:46:38.527335Z",
     "start_time": "2024-02-13T22:46:33.457846Z"
    }
   },
   "outputs": [],
   "execution_count": 16
  },
  {
   "cell_type": "code",
   "source": [
    "len(test_ngrams)"
   ],
   "metadata": {
    "collapsed": false,
    "ExecuteTime": {
     "end_time": "2024-02-13T22:46:38.531342Z",
     "start_time": "2024-02-13T22:46:38.528747Z"
    }
   },
   "outputs": [
    {
     "data": {
      "text/plain": [
       "999246"
      ]
     },
     "execution_count": 17,
     "metadata": {},
     "output_type": "execute_result"
    }
   ],
   "execution_count": 17
  },
  {
   "cell_type": "markdown",
   "source": [
    "# Sample corpora with memory-friendly reader"
   ],
   "metadata": {
    "collapsed": false
   }
  },
  {
   "cell_type": "code",
   "source": [
    "class NgramCorpusSample(object):\n",
    "    def __init__(self, ids_list, ids_lines, fname, sample_size=None, sample_seed=1, bow=False, dct=None):\n",
    "        self.ids_list = ids_list\n",
    "        self.fname = fname\n",
    "        self.bow  = bow\n",
    "        self.dct = dct\n",
    "        self.sample_size = sample_size\n",
    "        self.ids_lines = ids_lines\n",
    "        lines_list = [ ]\n",
    "        for id in ids_list:\n",
    "            lines_list.extend([l for l in range(ids_lines[id][0], ids_lines[id][1])])\n",
    "        ngrams_n = len(lines_list)\n",
    "        if sample_size != None:\n",
    "            np.random.seed(sample_seed)\n",
    "            sample_inx =np.random.randint(0, ngrams_n, sample_size)\n",
    "        else:\n",
    "            sample_inx =[n for n in range(0, ngrams_n)]\n",
    "        sample_lines = np.array(lines_list)[sample_inx]\n",
    "        self.len = len(sample_lines)\n",
    "        self.sample_lines = sample_lines\n",
    "    def __len__(self):\n",
    "        #[el for el in self]\n",
    "        return self.len\n",
    "    def __iter__(self):\n",
    "        with open(self.fname, \"r\") as f:\n",
    "            lines = f.readlines()\n",
    "            for li in self.sample_lines:\n",
    "                line = lines[li] # for line index in subcorpus lineindexes\n",
    "                if bool(line.split()):\n",
    "                    if (self.bow) & (self.dct != None):\n",
    "                        yield self.dct.doc2bow(line.split())\n",
    "                    else:\n",
    "                        yield line.split()"
   ],
   "metadata": {
    "collapsed": false,
    "ExecuteTime": {
     "end_time": "2024-02-15T12:13:48.884057Z",
     "start_time": "2024-02-15T12:13:48.877836Z"
    }
   },
   "outputs": [],
   "execution_count": 21
  },
  {
   "metadata": {
    "ExecuteTime": {
     "end_time": "2024-02-15T12:13:52.422797Z",
     "start_time": "2024-02-15T12:13:49.538183Z"
    }
   },
   "cell_type": "code",
   "source": [
    "subcorpus_ids = subcorpora_ids_dict[\"pagan_archaic\"]\n",
    "subcorpus_ngrams =  NgramCorpusSample(subcorpus_ids, ids_lines, \"../data/large_data/corpus_ngrams_bydocid_wide.txt\")\n",
    "len([doc for doc in subcorpus_ngrams])"
   ],
   "outputs": [
    {
     "data": {
      "text/plain": [
       "126230"
      ]
     },
     "execution_count": 22,
     "metadata": {},
     "output_type": "execute_result"
    }
   ],
   "execution_count": 22
  },
  {
   "metadata": {
    "ExecuteTime": {
     "end_time": "2024-02-15T13:03:00.484595Z",
     "start_time": "2024-02-15T13:02:52.097070Z"
    }
   },
   "cell_type": "code",
   "source": [
    "subcorpus_ids = subcorpora_ids_dict[\"pagan_roman_peak\"]\n",
    "subcorpus_ngrams =  NgramCorpusSample(subcorpus_ids, ids_lines, \"../data/large_data/corpus_ngrams_bydocid_wide.txt\")\n",
    "len([doc for doc in subcorpus_ngrams])"
   ],
   "outputs": [
    {
     "data": {
      "text/plain": [
       "3258617"
      ]
     },
     "execution_count": 67,
     "metadata": {},
     "output_type": "execute_result"
    }
   ],
   "execution_count": 67
  },
  {
   "metadata": {
    "ExecuteTime": {
     "end_time": "2024-02-15T13:05:25.031020Z",
     "start_time": "2024-02-15T13:05:25.026315Z"
    }
   },
   "cell_type": "code",
   "source": "2000000 / 3258617",
   "outputs": [
    {
     "data": {
      "text/plain": [
       "0.6137573086987517"
      ]
     },
     "execution_count": 69,
     "metadata": {},
     "output_type": "execute_result"
    }
   ],
   "execution_count": 69
  },
  {
   "cell_type": "code",
   "source": [
    "# test with classical"
   ],
   "metadata": {
    "collapsed": false,
    "ExecuteTime": {
     "end_time": "2024-02-13T22:46:38.539193Z",
     "start_time": "2024-02-13T22:46:38.537591Z"
    }
   },
   "outputs": [],
   "execution_count": 19
  },
  {
   "cell_type": "code",
   "source": [
    "subcorpus_ids = subcorpora_ids_dict[\"pagan_classical\"]\n",
    "len(subcorpus_ids)"
   ],
   "metadata": {
    "collapsed": false,
    "ExecuteTime": {
     "end_time": "2024-02-13T22:46:38.541875Z",
     "start_time": "2024-02-13T22:46:38.539810Z"
    }
   },
   "outputs": [
    {
     "data": {
      "text/plain": [
       "454"
      ]
     },
     "execution_count": 20,
     "metadata": {},
     "output_type": "execute_result"
    }
   ],
   "execution_count": 20
  },
  {
   "cell_type": "code",
   "source": "subcorpus_ngrams =  NgramCorpusSample(subcorpus_ids, ids_lines, \"../data/large_data/corpus_ngrams_bydocid_wide.txt\", sample_size=1000000)",
   "metadata": {
    "collapsed": false,
    "ExecuteTime": {
     "end_time": "2024-02-13T22:46:38.632786Z",
     "start_time": "2024-02-13T22:46:38.542488Z"
    }
   },
   "outputs": [],
   "execution_count": 21
  },
  {
   "cell_type": "code",
   "source": [
    "len(subcorpus_ngrams)"
   ],
   "metadata": {
    "collapsed": false,
    "ExecuteTime": {
     "end_time": "2024-02-13T22:46:38.636027Z",
     "start_time": "2024-02-13T22:46:38.633508Z"
    }
   },
   "outputs": [
    {
     "data": {
      "text/plain": [
       "1000000"
      ]
     },
     "execution_count": 22,
     "metadata": {},
     "output_type": "execute_result"
    }
   ],
   "execution_count": 22
  },
  {
   "cell_type": "code",
   "source": [
    "len([doc for doc in subcorpus_ngrams])"
   ],
   "metadata": {
    "collapsed": false,
    "ExecuteTime": {
     "end_time": "2024-02-13T22:46:51.987567Z",
     "start_time": "2024-02-13T22:46:38.636756Z"
    }
   },
   "outputs": [
    {
     "data": {
      "text/plain": [
       "996432"
      ]
     },
     "execution_count": 23,
     "metadata": {},
     "output_type": "execute_result"
    }
   ],
   "execution_count": 23
  },
  {
   "cell_type": "code",
   "source": [
    "FreqDist([w for ng in subcorpus_ngrams for w in ng]).most_common()[:50]"
   ],
   "metadata": {
    "collapsed": false,
    "ExecuteTime": {
     "end_time": "2024-02-13T22:46:56.973937Z",
     "start_time": "2024-02-13T22:46:51.991319Z"
    }
   },
   "outputs": [
    {
     "data": {
      "text/plain": [
       "[('εἰμί', 204764),\n",
       " ('οὗτος', 157681),\n",
       " ('αὐτός', 125996),\n",
       " ('τις', 81863),\n",
       " ('λέγω', 73080),\n",
       " ('γίγνομαι', 68509),\n",
       " ('ἔχω', 67146),\n",
       " ('πολύς', 65793),\n",
       " ('ἄλλος', 56015),\n",
       " ('πᾶς', 55755),\n",
       " ('ποιέω', 43850),\n",
       " ('οὐδείς', 30993),\n",
       " ('πόλις', 29144),\n",
       " ('φημί', 27211),\n",
       " ('λόγος', 26680),\n",
       " ('δέω', 26351),\n",
       " ('τίς', 25856),\n",
       " ('ἀγαθός', 25741),\n",
       " ('μέγας', 25649),\n",
       " ('τοιοῦτος', 25200),\n",
       " ('ἀνήρ', 23337),\n",
       " ('ἐκεῖνος', 23317),\n",
       " ('δοκέω', 22008),\n",
       " ('ἄνθρωπος', 20137),\n",
       " ('λαμβάνω', 20125),\n",
       " ('ἕτερος', 18956),\n",
       " ('ἕκαστος', 18169),\n",
       " ('εἷς', 18117),\n",
       " ('πρῶτος', 17225),\n",
       " ('ὁράω', 16387),\n",
       " ('βούλομαι', 15338),\n",
       " ('ὅδε', 15326),\n",
       " ('σῶμα', 15220),\n",
       " ('θεός', 14806),\n",
       " ('χρόνος', 14480),\n",
       " ('ἅπας', 14277),\n",
       " ('δίδωμι', 13981),\n",
       " ('οἶδα', 13913),\n",
       " ('ἔρχομαι', 13687),\n",
       " ('φύσις', 13624),\n",
       " ('κακός', 13563),\n",
       " ('δύναμαι', 13430),\n",
       " ('ἀρχή', 13414),\n",
       " ('νόμος', 13281),\n",
       " ('Ἀθηναῖος', 13046),\n",
       " ('μηδείς', 12584),\n",
       " ('καλός', 12418),\n",
       " ('πράσσω', 12228),\n",
       " ('φαίνω', 12058),\n",
       " ('παῖς', 11988)]"
      ]
     },
     "execution_count": 24,
     "metadata": {},
     "output_type": "execute_result"
    }
   ],
   "execution_count": 24
  },
  {
   "cell_type": "code",
   "source": [
    "#with open(\"../data/large_data/subcorpora_vocabs.pickle\", \"rb\") as f:\n",
    "#    subcorpora_vocabs = pickle.load(f)"
   ],
   "metadata": {
    "collapsed": false,
    "ExecuteTime": {
     "end_time": "2024-02-13T22:46:56.977602Z",
     "start_time": "2024-02-13T22:46:56.976019Z"
    }
   },
   "outputs": [],
   "execution_count": 25
  },
  {
   "cell_type": "code",
   "source": [
    "wordcounts_df[\"christian_roman_peak\"].sort_values(ascending=False)[:100]\n",
    "#subcorpora_vocabs[\"christian\"][\"word_freqs\"][:100]"
   ],
   "metadata": {
    "collapsed": false,
    "ExecuteTime": {
     "end_time": "2024-02-13T22:46:57.006338Z",
     "start_time": "2024-02-13T22:46:56.978500Z"
    }
   },
   "outputs": [
    {
     "data": {
      "text/plain": [
       "λέγω         21028.0\n",
       "οὗτος        15609.0\n",
       "θεός         15349.0\n",
       "γίγνομαι      8581.0\n",
       "αὐτός         8447.0\n",
       "              ...   \n",
       "φέρω          1190.0\n",
       "ζητέω         1190.0\n",
       "ἀδελφός       1190.0\n",
       "ἀπόστολος     1181.0\n",
       "γνῶσις        1171.0\n",
       "Name: christian_roman_peak, Length: 100, dtype: float64"
      ]
     },
     "execution_count": 26,
     "metadata": {},
     "output_type": "execute_result"
    }
   ],
   "execution_count": 26
  },
  {
   "cell_type": "code",
   "source": [
    "subcorpus_ids = subcorpora_ids_dict[\"christian_roman_peak\"]\n",
    "subcorpus_ngrams_seed1 =  NgramCorpusSample(subcorpus_ids, ids_lines, \"../data/large_data/corpus_ngrams_bydocid_wide.txt\", sample_size=1000000, sample_seed=1)\n",
    "dict(FreqDist([w for ng in subcorpus_ngrams_seed1 for w in ng]).most_common()[:100])"
   ],
   "metadata": {
    "collapsed": false,
    "ExecuteTime": {
     "end_time": "2024-02-13T22:47:01.303839Z",
     "start_time": "2024-02-13T22:46:57.006949Z"
    }
   },
   "outputs": [
    {
     "data": {
      "text/plain": [
       "{'θεός': 98075,\n",
       " 'λέγω': 92818,\n",
       " 'οὗτος': 77341,\n",
       " 'αὐτός': 61590,\n",
       " 'εἰμί': 56022,\n",
       " 'γίγνομαι': 53487,\n",
       " 'λόγος': 52803,\n",
       " 'πᾶς': 45122,\n",
       " 'ἄνθρωπος': 43890,\n",
       " 'ἔχω': 40480,\n",
       " 'πολύς': 36891,\n",
       " 'Ἰησοῦς': 34123,\n",
       " 'ποιέω': 33791,\n",
       " 'κύριος': 28679,\n",
       " 'τίς': 27460,\n",
       " 'φημί': 26234,\n",
       " 'Χριστός': 25724,\n",
       " 'ψυχή': 25139,\n",
       " 'πατήρ': 23403,\n",
       " 'δύναμαι': 23000,\n",
       " 'ὁράω': 22534,\n",
       " 'υἱός': 21696,\n",
       " 'ἄλλος': 21367,\n",
       " 'τις': 20061,\n",
       " 'γῆ': 20052,\n",
       " 'πνεῦμα': 19485,\n",
       " 'μόνος': 18099,\n",
       " 'σῶμα': 17698,\n",
       " 'ἀγαθός': 16286,\n",
       " 'λαμβάνω': 15970,\n",
       " 'δίδωμι': 15771,\n",
       " 'δύναμις': 15154,\n",
       " 'ἀκούω': 14944,\n",
       " 'οὐρανός': 14606,\n",
       " 'ἔρχομαι': 14462,\n",
       " 'Θεός': 14308,\n",
       " 'νόμος': 13612,\n",
       " 'μέγας': 13474,\n",
       " 'οἶδα': 13359,\n",
       " 'ἅγιος': 13235,\n",
       " 'ὄνομα': 13152,\n",
       " 'ἐκεῖνος': 12966,\n",
       " 'ἡμέρα': 12646,\n",
       " 'ἀνήρ': 12516,\n",
       " 'βούλομαι': 12239,\n",
       " 'πιστεύω': 12228,\n",
       " 'οὐδείς': 12052,\n",
       " 'προφήτης': 11722,\n",
       " 'κόσμος': 11612,\n",
       " 'ἀλήθεια': 11550,\n",
       " 'ἔργον': 11285,\n",
       " 'τοιοῦτος': 11216,\n",
       " 'ὅλος': 11176,\n",
       " 'πρῶτος': 10930,\n",
       " 'ἕτερος': 10881,\n",
       " 'φύσις': 10688,\n",
       " 'ἕκαστος': 10552,\n",
       " 'θεῖος': 10349,\n",
       " 'καλέω': 10285,\n",
       " 'γυνή': 10238,\n",
       " 'εὑρίσκω': 9966,\n",
       " 'δίκαιος': 9905,\n",
       " 'Ἰουδαῖος': 9780,\n",
       " 'πίστις': 9659,\n",
       " 'ἀρχή': 9629,\n",
       " 'δοκέω': 9587,\n",
       " 'ἐθέλω': 9562,\n",
       " 'καλός': 9481,\n",
       " 'σοφία': 9465,\n",
       " 'ἔθνος': 9415,\n",
       " 'τόπος': 9349,\n",
       " 'θάνατος': 9237,\n",
       " 'δέω': 9216,\n",
       " 'γραφή': 9012,\n",
       " 'κακός': 8949,\n",
       " 'ἁμαρτία': 8921,\n",
       " 'καρδία': 8770,\n",
       " 'δόξα': 8757,\n",
       " 'ἄγγελος': 8682,\n",
       " 'ἴδιος': 8523,\n",
       " 'ζωή': 8490,\n",
       " 'μαθητής': 8471,\n",
       " 'μέλλω': 8414,\n",
       " 'βίος': 8392,\n",
       " 'σωτήρ': 8358,\n",
       " 'λαός': 8289,\n",
       " 'τυγχάνω': 8244,\n",
       " 'σάρξ': 8119,\n",
       " 'χείρ': 8100,\n",
       " 'νομίζω': 8061,\n",
       " 'γιγνώσκω': 7895,\n",
       " 'φέρω': 7595,\n",
       " 'βασιλεύς': 7556,\n",
       " 'γράφω': 7529,\n",
       " 'διδάσκω': 7221,\n",
       " 'πόλις': 7214,\n",
       " 'ἀδελφός': 7190,\n",
       " 'γνῶσις': 7102,\n",
       " 'ἀπόστολος': 7029,\n",
       " 'φωνή': 7013}"
      ]
     },
     "execution_count": 27,
     "metadata": {},
     "output_type": "execute_result"
    }
   ],
   "execution_count": 27
  },
  {
   "cell_type": "code",
   "source": [
    "subcorpus_ngrams_seed1 =  NgramCorpusSample(subcorpus_ids, ids_lines, \"../data/large_data/corpus_ngrams_bydocid_wide.txt\", sample_size=1000000, sample_seed=1)\n",
    "subcorpus_ngrams_seed2 =  NgramCorpusSample(subcorpus_ids, ids_lines, \"../data/large_data/corpus_ngrams_bydocid_wide.txt\", sample_size=1000000, sample_seed=2)"
   ],
   "metadata": {
    "collapsed": false,
    "ExecuteTime": {
     "end_time": "2024-02-13T22:47:01.393385Z",
     "start_time": "2024-02-13T22:47:01.304519Z"
    }
   },
   "outputs": [],
   "execution_count": 28
  },
  {
   "cell_type": "code",
   "source": [
    "freqs_comparison = pd.DataFrame(\n",
    "    [dict(wordcounts_df[\"christian_roman_peak\"][:5000]),\n",
    "    dict(FreqDist([w for ng in subcorpus_ngrams_seed1 for w in ng]).most_common()[:5000]),\n",
    "    dict(FreqDist([w for ng in subcorpus_ngrams_seed2 for w in ng]).most_common()[:5000])]\n",
    ").T"
   ],
   "metadata": {
    "collapsed": false,
    "ExecuteTime": {
     "end_time": "2024-02-13T22:47:10.189274Z",
     "start_time": "2024-02-13T22:47:01.394068Z"
    }
   },
   "outputs": [],
   "execution_count": 29
  },
  {
   "cell_type": "code",
   "source": [
    "freqs_comparison.dropna().corr()"
   ],
   "metadata": {
    "collapsed": false,
    "ExecuteTime": {
     "end_time": "2024-02-13T22:47:10.195407Z",
     "start_time": "2024-02-13T22:47:10.190143Z"
    }
   },
   "outputs": [
    {
     "data": {
      "text/plain": [
       "          0         1         2\n",
       "0  1.000000  0.985305  0.985546\n",
       "1  0.985305  1.000000  0.999940\n",
       "2  0.985546  0.999940  1.000000"
      ],
      "text/html": [
       "<div>\n",
       "<style scoped>\n",
       "    .dataframe tbody tr th:only-of-type {\n",
       "        vertical-align: middle;\n",
       "    }\n",
       "\n",
       "    .dataframe tbody tr th {\n",
       "        vertical-align: top;\n",
       "    }\n",
       "\n",
       "    .dataframe thead th {\n",
       "        text-align: right;\n",
       "    }\n",
       "</style>\n",
       "<table border=\"1\" class=\"dataframe\">\n",
       "  <thead>\n",
       "    <tr style=\"text-align: right;\">\n",
       "      <th></th>\n",
       "      <th>0</th>\n",
       "      <th>1</th>\n",
       "      <th>2</th>\n",
       "    </tr>\n",
       "  </thead>\n",
       "  <tbody>\n",
       "    <tr>\n",
       "      <th>0</th>\n",
       "      <td>1.000000</td>\n",
       "      <td>0.985305</td>\n",
       "      <td>0.985546</td>\n",
       "    </tr>\n",
       "    <tr>\n",
       "      <th>1</th>\n",
       "      <td>0.985305</td>\n",
       "      <td>1.000000</td>\n",
       "      <td>0.999940</td>\n",
       "    </tr>\n",
       "    <tr>\n",
       "      <th>2</th>\n",
       "      <td>0.985546</td>\n",
       "      <td>0.999940</td>\n",
       "      <td>1.000000</td>\n",
       "    </tr>\n",
       "  </tbody>\n",
       "</table>\n",
       "</div>"
      ]
     },
     "execution_count": 30,
     "metadata": {},
     "output_type": "execute_result"
    }
   ],
   "execution_count": 30
  },
  {
   "cell_type": "code",
   "source": [
    "len(freqs_comparison)"
   ],
   "metadata": {
    "collapsed": false,
    "ExecuteTime": {
     "end_time": "2024-02-13T22:47:10.198201Z",
     "start_time": "2024-02-13T22:47:10.196113Z"
    }
   },
   "outputs": [
    {
     "data": {
      "text/plain": [
       "8313"
      ]
     },
     "execution_count": 31,
     "metadata": {},
     "output_type": "execute_result"
    }
   ],
   "execution_count": 31
  },
  {
   "cell_type": "code",
   "source": [
    "freqs_comparison[:4000].corr(method=\"spearman\")"
   ],
   "metadata": {
    "collapsed": false,
    "ExecuteTime": {
     "end_time": "2024-02-13T22:47:10.205006Z",
     "start_time": "2024-02-13T22:47:10.198733Z"
    }
   },
   "outputs": [
    {
     "data": {
      "text/plain": [
       "          0         1         2\n",
       "0  1.000000  0.993027  0.993049\n",
       "1  0.993027  1.000000  0.997279\n",
       "2  0.993049  0.997279  1.000000"
      ],
      "text/html": [
       "<div>\n",
       "<style scoped>\n",
       "    .dataframe tbody tr th:only-of-type {\n",
       "        vertical-align: middle;\n",
       "    }\n",
       "\n",
       "    .dataframe tbody tr th {\n",
       "        vertical-align: top;\n",
       "    }\n",
       "\n",
       "    .dataframe thead th {\n",
       "        text-align: right;\n",
       "    }\n",
       "</style>\n",
       "<table border=\"1\" class=\"dataframe\">\n",
       "  <thead>\n",
       "    <tr style=\"text-align: right;\">\n",
       "      <th></th>\n",
       "      <th>0</th>\n",
       "      <th>1</th>\n",
       "      <th>2</th>\n",
       "    </tr>\n",
       "  </thead>\n",
       "  <tbody>\n",
       "    <tr>\n",
       "      <th>0</th>\n",
       "      <td>1.000000</td>\n",
       "      <td>0.993027</td>\n",
       "      <td>0.993049</td>\n",
       "    </tr>\n",
       "    <tr>\n",
       "      <th>1</th>\n",
       "      <td>0.993027</td>\n",
       "      <td>1.000000</td>\n",
       "      <td>0.997279</td>\n",
       "    </tr>\n",
       "    <tr>\n",
       "      <th>2</th>\n",
       "      <td>0.993049</td>\n",
       "      <td>0.997279</td>\n",
       "      <td>1.000000</td>\n",
       "    </tr>\n",
       "  </tbody>\n",
       "</table>\n",
       "</div>"
      ]
     },
     "execution_count": 32,
     "metadata": {},
     "output_type": "execute_result"
    }
   ],
   "execution_count": 32
  },
  {
   "cell_type": "code",
   "source": [
    "np.log2(freqs_comparison).corr(method=\"spearman\")"
   ],
   "metadata": {
    "collapsed": false,
    "ExecuteTime": {
     "end_time": "2024-02-13T22:47:10.212542Z",
     "start_time": "2024-02-13T22:47:10.205745Z"
    }
   },
   "outputs": [
    {
     "data": {
      "text/plain": [
       "          0         1         2\n",
       "0  1.000000  0.992209  0.992057\n",
       "1  0.992209  1.000000  0.988383\n",
       "2  0.992057  0.988383  1.000000"
      ],
      "text/html": [
       "<div>\n",
       "<style scoped>\n",
       "    .dataframe tbody tr th:only-of-type {\n",
       "        vertical-align: middle;\n",
       "    }\n",
       "\n",
       "    .dataframe tbody tr th {\n",
       "        vertical-align: top;\n",
       "    }\n",
       "\n",
       "    .dataframe thead th {\n",
       "        text-align: right;\n",
       "    }\n",
       "</style>\n",
       "<table border=\"1\" class=\"dataframe\">\n",
       "  <thead>\n",
       "    <tr style=\"text-align: right;\">\n",
       "      <th></th>\n",
       "      <th>0</th>\n",
       "      <th>1</th>\n",
       "      <th>2</th>\n",
       "    </tr>\n",
       "  </thead>\n",
       "  <tbody>\n",
       "    <tr>\n",
       "      <th>0</th>\n",
       "      <td>1.000000</td>\n",
       "      <td>0.992209</td>\n",
       "      <td>0.992057</td>\n",
       "    </tr>\n",
       "    <tr>\n",
       "      <th>1</th>\n",
       "      <td>0.992209</td>\n",
       "      <td>1.000000</td>\n",
       "      <td>0.988383</td>\n",
       "    </tr>\n",
       "    <tr>\n",
       "      <th>2</th>\n",
       "      <td>0.992057</td>\n",
       "      <td>0.988383</td>\n",
       "      <td>1.000000</td>\n",
       "    </tr>\n",
       "  </tbody>\n",
       "</table>\n",
       "</div>"
      ]
     },
     "execution_count": 33,
     "metadata": {},
     "output_type": "execute_result"
    }
   ],
   "execution_count": 33
  },
  {
   "cell_type": "code",
   "source": [
    "# let's build two models based on the same subcorpus but sampled with different seed"
   ],
   "metadata": {
    "collapsed": false,
    "ExecuteTime": {
     "end_time": "2024-02-13T22:47:10.214685Z",
     "start_time": "2024-02-13T22:47:10.213153Z"
    }
   },
   "outputs": [],
   "execution_count": 34
  },
  {
   "metadata": {
    "ExecuteTime": {
     "end_time": "2024-02-13T22:47:10.228747Z",
     "start_time": "2024-02-13T22:47:10.215208Z"
    }
   },
   "cell_type": "code",
   "source": [
    "\n",
    "dict(wordcounts_df_balanced[\"christian_roman_peak\"])"
   ],
   "outputs": [
    {
     "data": {
      "text/plain": [
       "{'ῥάχις': nan,\n",
       " 'βροτός': 53.0,\n",
       " 'συμπόσιον': 38.0,\n",
       " 'ἠγερέθομαι': nan,\n",
       " 'χέω': 21.0,\n",
       " 'λιμός': 100.0,\n",
       " 'ὕστερος': 291.0,\n",
       " 'κλείω': 40.0,\n",
       " 'κλύζω': nan,\n",
       " 'στοχάζομαι': 22.0,\n",
       " 'ἐπιστάτης': 19.0,\n",
       " 'ξένη': 9.0,\n",
       " 'ἐρῆμος': 54.0,\n",
       " 'βίος': 1197.0,\n",
       " 'ὀρθόω': 2.0,\n",
       " 'ἑπόμενος': 8.0,\n",
       " 'στρατηγέω': 6.0,\n",
       " 'συκοφάντης': 32.0,\n",
       " 'Ἀλκμήνη': 6.0,\n",
       " 'ἀγωνίζομαι': 143.0,\n",
       " 'βουκόλος': 1.0,\n",
       " 'ἡνίοχος': 19.0,\n",
       " 'ἀνάκειμαι': 107.0,\n",
       " 'ἀπογράφω': 23.0,\n",
       " 'ἀντικείμενος': 14.0,\n",
       " 'εὐφυής': 13.0,\n",
       " 'Τρωιός': nan,\n",
       " 'καταδέω': 8.0,\n",
       " 'καθεύδω': 67.0,\n",
       " 'φλεγμαίνω': 13.0,\n",
       " 'μάχαιρα': 156.0,\n",
       " 'προσαυδάω': 1.0,\n",
       " 'κατάσχεσις': 8.0,\n",
       " 'σαίνω': 4.0,\n",
       " 'Μωυσεύς': 117.0,\n",
       " 'ἐξαιρετός': 71.0,\n",
       " 'στεροπή': nan,\n",
       " 'οὖρον': 1.0,\n",
       " 'ἀφίστημι': 232.0,\n",
       " 'τυτθός': nan,\n",
       " 'ὑποτείνω': 1.0,\n",
       " 'ποτήριον': 195.0,\n",
       " 'παρθενία': 30.0,\n",
       " 'δισχίλιοι': 2.0,\n",
       " 'Μέδων': nan,\n",
       " 'φυλάσσω': 496.0,\n",
       " 'κακός': 1478.0,\n",
       " 'συμβάλλω': 80.0,\n",
       " 'ἀστήρ': 209.0,\n",
       " 'ὁμωνυμία': 8.0,\n",
       " 'ἧμαι': 3.0,\n",
       " 'στηρίζω': 41.0,\n",
       " 'Ῥόδος': 4.0,\n",
       " 'Σικελία': 31.0,\n",
       " 'φλαῦρος': 1.0,\n",
       " 'ἄσπετος': nan,\n",
       " 'καταντάω': 34.0,\n",
       " 'πόα': 32.0,\n",
       " 'τραυματίας': 2.0,\n",
       " 'ἐρῶ': 65.0,\n",
       " 'Κύκλωψ': 10.0,\n",
       " 'Πέρσης': 113.0,\n",
       " 'λιθάργυρος': nan,\n",
       " 'βοή': 12.0,\n",
       " 'ἐννέα': 10.0,\n",
       " 'ἔνδεια': 48.0,\n",
       " 'ὑπεροχή': 90.0,\n",
       " 'κανών': 47.0,\n",
       " 'σαλεύω': 52.0,\n",
       " 'εὐλογέω': 256.0,\n",
       " 'πλεῖστος': 12.0,\n",
       " 'προχειρίζω': 1.0,\n",
       " 'ὅπλον': 118.0,\n",
       " 'εὐδαίμων': 44.0,\n",
       " 'οὑτος': 76.0,\n",
       " 'δικάζω': 57.0,\n",
       " 'Νικίας': 5.0,\n",
       " 'ἄλγος': 8.0,\n",
       " 'νήιος': nan,\n",
       " 'κόνις': 3.0,\n",
       " 'καταφαίνω': 22.0,\n",
       " 'φθαρτός': 95.0,\n",
       " 'ἵλαος': 14.0,\n",
       " 'κατέπεφνον': nan,\n",
       " 'ὀμφαλός': 8.0,\n",
       " 'ἀπαλλάσσω': 173.0,\n",
       " 'τόκος': 31.0,\n",
       " 'ἔπαινος': 122.0,\n",
       " 'ἄγριος': 80.0,\n",
       " 'παρέθω': 8.0,\n",
       " 'προτερέω': 1.0,\n",
       " 'πάθημα': 95.0,\n",
       " 'Ἱερεμίας': 110.0,\n",
       " 'σύγγραμμα': 80.0,\n",
       " 'Μῆδος': 21.0,\n",
       " 'φίλιος': 44.0,\n",
       " 'βύβλος': 16.0,\n",
       " 'φορά': 38.0,\n",
       " 'ἰσχύω': 141.0,\n",
       " 'χριστιανός': 46.0,\n",
       " 'λαλέω': 1137.0,\n",
       " 'ἀξία': 62.0,\n",
       " 'Καισάρεια': 29.0,\n",
       " 'ἀκοντίζω': 2.0,\n",
       " 'δειρή': 2.0,\n",
       " 'ἄβυσσος': 71.0,\n",
       " 'ἐκβολή': 11.0,\n",
       " 'δένδρεον': 1.0,\n",
       " 'λάφυρα': nan,\n",
       " 'ἀγαυός': nan,\n",
       " 'ἐλεαίρω': nan,\n",
       " 'ἀλεείνω': nan,\n",
       " 'αἱρετός': 26.0,\n",
       " 'Ροβοαμ': nan,\n",
       " 'μιαίνω': 32.0,\n",
       " 'ἐκλέγω': 151.0,\n",
       " 'προπαροξύνω': nan,\n",
       " 'Ἀφροδίτη': 72.0,\n",
       " 'γλῶσσα': 256.0,\n",
       " 'Κωνστάντιος': nan,\n",
       " 'προίημι': 4.0,\n",
       " 'Προφήτης': 35.0,\n",
       " 'Ἀσκληπιάδης': 6.0,\n",
       " 'κλαίω': 191.0,\n",
       " 'ἀποχωρέω': 11.0,\n",
       " 'χαλκήρης': nan,\n",
       " 'ὑποτάσσω': 194.0,\n",
       " 'κῶμος': 18.0,\n",
       " 'κατακείω': nan,\n",
       " 'Πυθαγόρας': 62.0,\n",
       " 'ἀράομαι': 5.0,\n",
       " 'ἐχθρός': 687.0,\n",
       " 'χάρμη': 1.0,\n",
       " 'τόξον': 50.0,\n",
       " 'ἔκπαγλος': nan,\n",
       " 'τρόμος': 31.0,\n",
       " 'θεσμός': 8.0,\n",
       " 'θάνατος': 1586.0,\n",
       " 'κύκλος': 70.0,\n",
       " 'κατακόπτω': 5.0,\n",
       " 'ἔδεσμα': 17.0,\n",
       " 'γέγωνα': 1.0,\n",
       " 'νήπιος': 260.0,\n",
       " 'ποσοῦ': nan,\n",
       " 'πεδάω': 2.0,\n",
       " 'ἀρρωστία': 1.0,\n",
       " 'ἀπάτη': 181.0,\n",
       " 'Οὐλπιανός': nan,\n",
       " 'ἀγαθός': 2719.0,\n",
       " 'ἕννυμι': 2.0,\n",
       " 'καίνυμαι': nan,\n",
       " 'σπασμός': 1.0,\n",
       " 'ὕπαρχος': 9.0,\n",
       " 'τις': 2514.0,\n",
       " 'νότιος': 2.0,\n",
       " 'πεζός': 7.0,\n",
       " 'λοιγός': nan,\n",
       " 'θερίζω': 105.0,\n",
       " 'καιρός': 856.0,\n",
       " 'ᾁδω': 2.0,\n",
       " 'ἡβάω': 2.0,\n",
       " 'ἐντελέχεια': nan,\n",
       " 'αἰσθάνομαι': 122.0,\n",
       " 'κατακαίω': 45.0,\n",
       " 'σκοπέω': 157.0,\n",
       " 'κεφάλαιος': 37.0,\n",
       " 'Λούκιος': 4.0,\n",
       " 'κλαυθμός': 73.0,\n",
       " 'στείχω': 2.0,\n",
       " 'βλάπτω': 101.0,\n",
       " 'εἶδον': 16.0,\n",
       " 'μεγάθυμος': nan,\n",
       " 'ἕλκος': 28.0,\n",
       " 'μυριάς': 56.0,\n",
       " 'οἴομαι': 866.0,\n",
       " 'ἐπικατάρατος': 36.0,\n",
       " 'οὐγγία': nan,\n",
       " 'Θρᾴκη': 5.0,\n",
       " 'ἀντωνυμία': 1.0,\n",
       " 'ἐπιδημία': 239.0,\n",
       " 'δειλία': 27.0,\n",
       " 'οἰκονομία': 289.0,\n",
       " 'κοινωνός': 72.0,\n",
       " 'ἐφετμή': nan,\n",
       " 'τριάκοντα': 22.0,\n",
       " 'ἡμίσεια': nan,\n",
       " 'ποικίλλω': 12.0,\n",
       " 'ἀξίωμα': 55.0,\n",
       " 'ἐλπίς': 483.0,\n",
       " 'προστασία': 12.0,\n",
       " 'δειπνέω': 39.0,\n",
       " 'Κρήτη': 24.0,\n",
       " 'Ἀντίοχος': 10.0,\n",
       " 'χοϊκός': 79.0,\n",
       " 'στέργω': 22.0,\n",
       " 'κῶας': nan,\n",
       " 'δέχομαι': 352.0,\n",
       " 'φθέγγομαι': 84.0,\n",
       " 'ἐλάσσων': 202.0,\n",
       " 'Ἥφαιστος': 26.0,\n",
       " 'ἐνδεχομένω': 5.0,\n",
       " 'Ἔζ': nan,\n",
       " 'παρασκευάζω': 110.0,\n",
       " 'συγγραφή': 10.0,\n",
       " 'Ἀρταξέρξης': 8.0,\n",
       " 'τελετή': 48.0,\n",
       " 'Ἀριστόβουλος': 6.0,\n",
       " 'Ὀρέστης': 2.0,\n",
       " 'φανερός': 212.0,\n",
       " 'τέλος': 765.0,\n",
       " 'εὐλογία': 109.0,\n",
       " 'σκέπτομαι': 24.0,\n",
       " 'βασίλισσα': 18.0,\n",
       " 'Αἴγισθος': nan,\n",
       " 'ἐκπορεύομαι': 82.0,\n",
       " 'ἐξάγω': 83.0,\n",
       " 'οὖδας': 1.0,\n",
       " 'Ἀντίλοχος': 1.0,\n",
       " 'εἰδοί': 8.0,\n",
       " 'βολή': 5.0,\n",
       " 'προσφέρω': 288.0,\n",
       " 'μήτρα': 70.0,\n",
       " 'θωρήσσω': nan,\n",
       " 'πόλος': 8.0,\n",
       " 'ἀποβαίνω': 41.0,\n",
       " 'καταβαίνω': 403.0,\n",
       " 'Ιωβ': nan,\n",
       " 'μειλίχιος': 3.0,\n",
       " 'πηχύς': nan,\n",
       " 'πλήσσω': 44.0,\n",
       " 'Ἀγησίλαος': 10.0,\n",
       " 'πορεύομαι': 504.0,\n",
       " 'ἀπέρχομαι': 409.0,\n",
       " 'συνεγγίζω': 6.0,\n",
       " 'Ἑλλάς': 65.0,\n",
       " 'ἄνω': 12.0,\n",
       " 'ὁλοκαύτωμα': 16.0,\n",
       " 'τύμβος': nan,\n",
       " 'Νεῖλος': 21.0,\n",
       " 'Ἄλπεις': nan,\n",
       " 'Ἰωάννης': 1069.0,\n",
       " 'ἄνοδος': 20.0,\n",
       " 'φιλία': 118.0,\n",
       " 'Σαβῖνος': nan,\n",
       " 'Λευί': 12.0,\n",
       " 'περίττωμα': 6.0,\n",
       " 'ἄμπελος': 196.0,\n",
       " 'ἀκτίς': 30.0,\n",
       " 'χέρσος': 4.0,\n",
       " 'ἀνακρίνω': 52.0,\n",
       " 'μνάομαι': 1.0,\n",
       " 'κορωνίς': 3.0,\n",
       " 'ἀριστερός': 72.0,\n",
       " 'κτάομαι': 187.0,\n",
       " 'Αβεσσαλωμ': nan,\n",
       " 'σφυγμός': 8.0,\n",
       " 'ῥήτωρ': 22.0,\n",
       " 'φυλακή': 187.0,\n",
       " 'Χῖος': 7.0,\n",
       " 'συναγωγή': 214.0,\n",
       " 'γόης': 55.0,\n",
       " 'νεφέλη': 184.0,\n",
       " 'κῶνος': 1.0,\n",
       " 'χιτών': 63.0,\n",
       " 'ἀκοάς': 33.0,\n",
       " 'ὀρέγω': 87.0,\n",
       " 'τιθήνη': 5.0,\n",
       " 'Μοῦσα': 47.0,\n",
       " 'ἀπαρχή': 97.0,\n",
       " 'μάρτυς': 233.0,\n",
       " 'Τεῦκρος': 4.0,\n",
       " 'δηλέομαι': 13.0,\n",
       " 'προτάσις': 3.0,\n",
       " 'σφός': 2.0,\n",
       " 'οἴγω': nan,\n",
       " 'σπλήν': 1.0,\n",
       " 'ξένος': 160.0,\n",
       " 'ἄκος': nan,\n",
       " 'χρηστός': 176.0,\n",
       " 'ἄνοια': 41.0,\n",
       " 'Ἑλληνίς': 4.0,\n",
       " 'σκιά': 176.0,\n",
       " 'Ἄρειας': 1.0,\n",
       " 'δίαιτα': 55.0,\n",
       " 'Ἑλένη': 30.0,\n",
       " 'σεισμός': 40.0,\n",
       " 'ἀνδρεία': 81.0,\n",
       " 'ὠφέλιμος': 65.0,\n",
       " 'πῶλος': 132.0,\n",
       " 'λύκος': 47.0,\n",
       " 'Εὐρύκλεια': nan,\n",
       " 'πλανάω': 295.0,\n",
       " 'πληθύς': 19.0,\n",
       " 'ἐξελαύνω': 21.0,\n",
       " 'γονεύς': 113.0,\n",
       " 'πατέω': 35.0,\n",
       " 'Κλήμης': 125.0,\n",
       " 'Λιβύη': 12.0,\n",
       " 'ἕξ': 29.0,\n",
       " 'Λακωνικός': 13.0,\n",
       " 'συνάπτω': 56.0,\n",
       " 'κοινωνία': 178.0,\n",
       " 'συλλαμβάνω': 126.0,\n",
       " 'εἷς': 848.0,\n",
       " 'συγγραφεύς': 46.0,\n",
       " 'ἐλαφρός': 18.0,\n",
       " 'Ἐλισάβετ': 65.0,\n",
       " 'ἀρχιερωσύνη': 2.0,\n",
       " 'θεοσέβεια': 144.0,\n",
       " 'ἄημι': nan,\n",
       " 'ἀμφιβολία': 13.0,\n",
       " 'ἑκών': 123.0,\n",
       " 'εὐφραίνω': 126.0,\n",
       " 'κύστις': 3.0,\n",
       " 'Θεσσαλός': 10.0,\n",
       " 'σωφροσύνη': 189.0,\n",
       " 'μεθύω': 65.0,\n",
       " 'εὐθύς': 131.0,\n",
       " 'γράφομαι': 13.0,\n",
       " 'Ἀγαμέμνων': 33.0,\n",
       " 'Ααρων': nan,\n",
       " 'ἐνδεής': 78.0,\n",
       " 'τύπτω': 80.0,\n",
       " 'ζέω': 56.0,\n",
       " 'Ἀντήνωρ': nan,\n",
       " 'Καρκίνος': nan,\n",
       " 'ὑγίεια': 80.0,\n",
       " 'φιλοσοφία': 425.0,\n",
       " 'θέω': 53.0,\n",
       " 'Δαυΐδς': 103.0,\n",
       " 'πρόχω': 78.0,\n",
       " 'ἐπίσταμαι': 384.0,\n",
       " 'Λακεδαίμων': 7.0,\n",
       " 'ἥδομαι': 67.0,\n",
       " 'ὀρφανός': 50.0,\n",
       " 'σῴζω': 826.0,\n",
       " 'ἔρρω': 1.0,\n",
       " 'ὄρος': 656.0,\n",
       " 'πέτομαι': 23.0,\n",
       " 'μυστήριον': 459.0,\n",
       " 'τιμωρία': 134.0,\n",
       " 'προγνωστικός': 14.0,\n",
       " 'φαγεῖν': 1.0,\n",
       " 'Σύλλας': nan,\n",
       " 'ἀναίδεια': 6.0,\n",
       " 'πεντακόσιοι': 8.0,\n",
       " 'ὄχος': 1.0,\n",
       " 'σκληρύνω': 55.0,\n",
       " 'φλεγμονή': 6.0,\n",
       " 'πραγματεύομαι': 49.0,\n",
       " 'γίγνομαι': 8581.0,\n",
       " 'αἰχμαλωσία': 91.0,\n",
       " 'Ψαλμός': 48.0,\n",
       " 'δηλόω': 640.0,\n",
       " 'ἀποτίνω': 5.0,\n",
       " 'ὁρμαίνω': nan,\n",
       " 'πίστις': 1494.0,\n",
       " 'θιγγάνω': 20.0,\n",
       " 'σέβας': 3.0,\n",
       " 'Γένεσις': 49.0,\n",
       " 'ποίμνιον': 36.0,\n",
       " 'ἐκλείπω': 83.0,\n",
       " 'ἀρετή': 945.0,\n",
       " 'ποιότης': 71.0,\n",
       " 'νομικός': 66.0,\n",
       " 'φυλή': 201.0,\n",
       " 'συμπλοκή': 18.0,\n",
       " 'πρόειμι': 32.0,\n",
       " 'κασιγνήτη': 1.0,\n",
       " 'συλλογισμός': 14.0,\n",
       " 'ἔχω': 6853.0,\n",
       " 'φόβος': 554.0,\n",
       " 'πολύχρυσος': 5.0,\n",
       " 'ὑπόμνημα': 34.0,\n",
       " 'ἄδοξος': 18.0,\n",
       " 'Περικλῆς': 14.0,\n",
       " 'παρακολουθέω': 55.0,\n",
       " 'δεσπότης': 270.0,\n",
       " 'ψάμαθος': 1.0,\n",
       " 'Σαμουηλ': nan,\n",
       " 'ῥιπή': 9.0,\n",
       " 'τριάς': 17.0,\n",
       " 'μήδομαι': 1.0,\n",
       " 'κακοήθης': 5.0,\n",
       " 'Μανασσή': nan,\n",
       " 'ἐπιπίπτω': 22.0,\n",
       " 'ἔμπεδος': 2.0,\n",
       " 'ἔαρ': 16.0,\n",
       " 'ῥοή': 4.0,\n",
       " 'ἔμπορος': 22.0,\n",
       " 'μέταλλον': 10.0,\n",
       " 'πέδον': 1.0,\n",
       " 'ἀνάλογος': 141.0,\n",
       " 'τριακόσιοι': 11.0,\n",
       " 'ὄρχησις': 2.0,\n",
       " 'τελευτή': 77.0,\n",
       " 'ἕτοιμος': 97.0,\n",
       " 'πτέρυξ': 45.0,\n",
       " 'Αἰκανός': nan,\n",
       " 'χρῄζω': 121.0,\n",
       " 'δημιουργέω': 61.0,\n",
       " 'Κικέρων': nan,\n",
       " 'οἶδ': 23.0,\n",
       " 'Ἰάκωβος': 110.0,\n",
       " 'μόριος': 25.0,\n",
       " 'προσγράφω': 3.0,\n",
       " 'βοήθεια': 90.0,\n",
       " 'πάσχα': 174.0,\n",
       " 'κομίζω': 91.0,\n",
       " 'πρόδηλος': 36.0,\n",
       " 'ἐμπίμπλημι': 41.0,\n",
       " 'ἡμικύκλιον': nan,\n",
       " 'ὄρνις': 117.0,\n",
       " 'σοφία': 1486.0,\n",
       " 'κυρόω': 8.0,\n",
       " 'πονέω': 59.0,\n",
       " 'δαίω': 1.0,\n",
       " 'πατρίκιος': nan,\n",
       " 'ἀποδείκνυμι': 294.0,\n",
       " 'κρατέω': 374.0,\n",
       " 'θοῦρις': nan,\n",
       " 'Ἀντιόχεια': 60.0,\n",
       " 'τελέω': 154.0,\n",
       " 'πέντε': 48.0,\n",
       " 'ἀπειθέω': 70.0,\n",
       " 'διδάσκαλος': 596.0,\n",
       " 'ἐπίβουλος': 16.0,\n",
       " 'φόρτος': 4.0,\n",
       " 'ἀγανός': 5.0,\n",
       " 'δεῖξις': 9.0,\n",
       " 'παραλαμβάνω': 328.0,\n",
       " 'εὔφρων': nan,\n",
       " 'παλαίω': 25.0,\n",
       " 'νόημα': 158.0,\n",
       " 'σκληρός': 70.0,\n",
       " 'τύπος': 235.0,\n",
       " 'ὑπήκοος': 37.0,\n",
       " 'δακτύλιος': 12.0,\n",
       " 'μαντεύομαι': 38.0,\n",
       " 'σαφηνίζω': 67.0,\n",
       " 'φανερόω': 169.0,\n",
       " 'χωλός': 65.0,\n",
       " 'ὠφέλεια': 126.0,\n",
       " 'εὐσεβής': 112.0,\n",
       " 'Ἀλεξανδρεία': 12.0,\n",
       " 'Τισσαφέρνης': 2.0,\n",
       " 'μαθητεύω': 45.0,\n",
       " 'ὑπηρεσία': 39.0,\n",
       " 'θεσπέσιος': 12.0,\n",
       " 'Ἀθανάσιον': nan,\n",
       " 'ἀίσσω': 8.0,\n",
       " 'στρουθός': 10.0,\n",
       " 'ὀξύς': 50.0,\n",
       " 'παιπαλόεις': nan,\n",
       " 'Δελφοί': 13.0,\n",
       " 'στενός': 74.0,\n",
       " 'δαιδάλεος': nan,\n",
       " 'χιλίαρχος': 29.0,\n",
       " 'ὅμοιος': 766.0,\n",
       " 'χοῦς': 44.0,\n",
       " 'ἀλάομαι': 10.0,\n",
       " 'ὑποπίπτω': 41.0,\n",
       " 'σκοπιά': nan,\n",
       " 'παρίημι': 26.0,\n",
       " 'φύρω': 16.0,\n",
       " 'διαμαρτάνω': 6.0,\n",
       " 'παραλληλόγραμμος': nan,\n",
       " 'ταύτῃ': 79.0,\n",
       " 'συνίημι': 359.0,\n",
       " 'ποιότητος': 16.0,\n",
       " 'γένημα': 13.0,\n",
       " 'ἀφύσσω': 2.0,\n",
       " 'ψευδοπροφήτης': 50.0,\n",
       " 'ἀεικής': nan,\n",
       " 'προτιμάω': 28.0,\n",
       " 'μύρον': 82.0,\n",
       " 'Σατανᾶς': 168.0,\n",
       " 'στίξ': nan,\n",
       " 'δραχ': nan,\n",
       " 'σκῆπτρον': 14.0,\n",
       " 'μέλι': 84.0,\n",
       " 'ἐπίρρημα': nan,\n",
       " 'χαλινός': 13.0,\n",
       " 'λάζομαι': nan,\n",
       " 'θερινός': 2.0,\n",
       " 'ἐπίκλησις': 7.0,\n",
       " 'καταβολή': 67.0,\n",
       " 'ἀκάθαρτος': 216.0,\n",
       " 'Μωσεύς': 270.0,\n",
       " 'ὑγεία': 63.0,\n",
       " 'ἀλλόφυλος': 24.0,\n",
       " 'ὄνομα': 2091.0,\n",
       " 'πηλός': 56.0,\n",
       " 'μεταβάλλω': 178.0,\n",
       " 'ἐνέργειος': 11.0,\n",
       " 'ὄλβιος': 6.0,\n",
       " 'πλησιόχωρος': 2.0,\n",
       " 'διαστέλλω': 26.0,\n",
       " 'ἐπαίσσω': nan,\n",
       " 'στάσις': 105.0,\n",
       " 'εἷμα': 4.0,\n",
       " 'χειμάρρους': 2.0,\n",
       " 'Ιωακιμ': nan,\n",
       " 'ἄπορος': 28.0,\n",
       " 'κύκνος': 11.0,\n",
       " 'ἕπομαι': 249.0,\n",
       " 'ἀνόσιος': 50.0,\n",
       " 'νίζω': 9.0,\n",
       " 'Δαβίδ': 192.0,\n",
       " 'κρατύνω': 27.0,\n",
       " 'μένω': 751.0,\n",
       " 'ὄσσα': nan,\n",
       " 'κόλασις': 300.0,\n",
       " 'μακαρία': 27.0,\n",
       " 'προτρέπω': 101.0,\n",
       " 'ταρβέω': nan,\n",
       " 'ποιητής': 292.0,\n",
       " 'ἴσχω': 25.0,\n",
       " 'ἡσυχία': 51.0,\n",
       " 'ἁγνός': 85.0,\n",
       " 'Τιβέριος': 16.0,\n",
       " 'νύμφη': 142.0,\n",
       " 'βουληφόρος': 1.0,\n",
       " 'ἐπιδίδωμι': 118.0,\n",
       " 'ἐπίθεσις': 13.0,\n",
       " 'θεράπων': 62.0,\n",
       " 'ἔλαφος': 45.0,\n",
       " 'Αἰολεύς': 2.0,\n",
       " 'χωρέω': 418.0,\n",
       " 'χαρίζομαι': 81.0,\n",
       " 'ἄμαξα': 6.0,\n",
       " 'ὑμνέω': 68.0,\n",
       " 'Πύρρος': 1.0,\n",
       " 'στρογγύλος': 16.0,\n",
       " 'προοράω': 12.0,\n",
       " 'ἀριθμητικός': 11.0,\n",
       " 'ἀνιάω': 14.0,\n",
       " 'κύλινδρος': nan,\n",
       " 'κελαινός': nan,\n",
       " 'ἀτάλαντος': nan,\n",
       " 'ἰάλλω': nan,\n",
       " 'ἀβλαβής': 14.0,\n",
       " 'λίθος': 659.0,\n",
       " 'πιπράσκω': 38.0,\n",
       " 'ἰάχω': 3.0,\n",
       " 'Ἱερεμία': 91.0,\n",
       " 'ὁπλίτης': 15.0,\n",
       " 'αἰτέω': 428.0,\n",
       " 'διπλόος': 50.0,\n",
       " 'Κριός': nan,\n",
       " 'Φαρισαῖος': 334.0,\n",
       " 'γάμος': 297.0,\n",
       " 'πλάσσω': 107.0,\n",
       " 'ἀλλοδαπός': 6.0,\n",
       " 'σχιστός': nan,\n",
       " 'Ξενοφῶν': 19.0,\n",
       " 'ἐνέργεια': 236.0,\n",
       " 'αἰσθητός': 231.0,\n",
       " 'ὑποτίθημι': 40.0,\n",
       " 'γόνυ': 59.0,\n",
       " 'παραδέχομαι': 180.0,\n",
       " 'οὐδός': 21.0,\n",
       " 'ἔρος': 3.0,\n",
       " 'ἐνέπω': 1.0,\n",
       " 'παιδικός': 27.0,\n",
       " 'οἰνοχόος': 7.0,\n",
       " 'ἐξέτασις': 86.0,\n",
       " 'μάχομαι': 75.0,\n",
       " 'ἕτερος': 1767.0,\n",
       " 'χείρων': 246.0,\n",
       " 'πολύμητις': 1.0,\n",
       " 'Μυσός': 2.0,\n",
       " 'ὄρνυμι': 4.0,\n",
       " 'ἱερουργία': 3.0,\n",
       " 'Ἐφραΐμ': 14.0,\n",
       " 'Ἐρασίστρατος': nan,\n",
       " 'ἀπόστασις': 12.0,\n",
       " 'Λουκᾶς': 113.0,\n",
       " 'παράδειγμα': 206.0,\n",
       " 'γηθέω': nan,\n",
       " 'νέκυς': 6.0,\n",
       " 'ἐρύω': 71.0,\n",
       " 'Κροῖσος': 22.0,\n",
       " 'Δανιήλ': 113.0,\n",
       " 'στυπτηρία': nan,\n",
       " 'ἑκατόν': 29.0,\n",
       " 'νύσσω': 4.0,\n",
       " 'γένος': 811.0,\n",
       " 'Αἰών': 46.0,\n",
       " 'σκανδαλίζω': 101.0,\n",
       " 'ἐαρινός': 8.0,\n",
       " 'κρατύς': 181.0,\n",
       " 'μενοινάω': nan,\n",
       " 'Αἰγύπτιος': 399.0,\n",
       " 'κέλευθος': 1.0,\n",
       " 'ἕρκος': 5.0,\n",
       " 'δύναμαι': 3694.0,\n",
       " 'ἀσεβέω': 121.0,\n",
       " 'κρήδεμνον': 6.0,\n",
       " 'πίων': 20.0,\n",
       " 'δείκνυμι': 871.0,\n",
       " 'Κλεάνθης': 11.0,\n",
       " 'στρατιωτικός': 15.0,\n",
       " 'δένδρον': 178.0,\n",
       " 'ἄνθος': 120.0,\n",
       " 'ἰθύνω': 5.0,\n",
       " 'κλύω': 7.0,\n",
       " 'ἄφθαρτος': 101.0,\n",
       " 'αἰσθητέω': 19.0,\n",
       " 'νεμεσάω': 6.0,\n",
       " 'ἐκβάλλω': 266.0,\n",
       " 'δισσός': 25.0,\n",
       " 'ναυτικός': 8.0,\n",
       " 'Ἡράκλειος': 54.0,\n",
       " 'κάνθαρος': 6.0,\n",
       " 'πέπνυμαι': 1.0,\n",
       " 'θεά': 44.0,\n",
       " 'Ἀχαιίς': nan,\n",
       " 'ἔκγονος': 41.0,\n",
       " 'πᾶς': 6883.0,\n",
       " 'δείδω': 72.0,\n",
       " 'ἀμφίπολος': nan,\n",
       " 'αὐτοκράτωρ': 11.0,\n",
       " 'δίδυμος': 48.0,\n",
       " 'ἐποτρύνω': nan,\n",
       " 'Ῥώμη': 74.0,\n",
       " 'κατάστασις': 78.0,\n",
       " 'σιτίον': 28.0,\n",
       " 'εἰσβάλλω': 3.0,\n",
       " 'ἐνδέχω': 2.0,\n",
       " 'ἐπικύκλος': nan,\n",
       " 'ὁδηγέω': 52.0,\n",
       " 'ὀπαδέω': nan,\n",
       " 'στέρνον': 5.0,\n",
       " 'ἱλάσκομαι': 10.0,\n",
       " 'ἀντέχω': 27.0,\n",
       " 'ἀποσκευή': 4.0,\n",
       " 'συμφέρω': 192.0,\n",
       " 'Κάδμος': 14.0,\n",
       " 'εὐνοῦχος': 43.0,\n",
       " 'πλείων': 8.0,\n",
       " 'ἔνιοι': 94.0,\n",
       " 'καταστρέφω': 28.0,\n",
       " 'προίξ': 3.0,\n",
       " 'πανήγυρις': 52.0,\n",
       " 'ἐμπίπλημι': 3.0,\n",
       " 'στήλη': 25.0,\n",
       " 'περιστερά': 119.0,\n",
       " 'Ζή': nan,\n",
       " 'ὀργίζω': 77.0,\n",
       " 'διάστασις': 3.0,\n",
       " 'Μηδία': 4.0,\n",
       " 'Μυρμιδόνες': 2.0,\n",
       " 'εἰδωλολατρία': 32.0,\n",
       " 'Γαδ': nan,\n",
       " 'Ἰεζεκιήλ': 74.0,\n",
       " 'τρίβω': 11.0,\n",
       " 'ἔμφυτος': 21.0,\n",
       " 'ἐναντίον': 36.0,\n",
       " 'συβώτης': 1.0,\n",
       " 'ἔνεργεια': 2.0,\n",
       " 'ἐλεέω': 160.0,\n",
       " 'βιάω': 14.0,\n",
       " 'τεχνικός': 22.0,\n",
       " 'κρᾶσις': 35.0,\n",
       " 'προσφωνέω': 7.0,\n",
       " 'Χριστιανός': 410.0,\n",
       " 'παράλιος': 2.0,\n",
       " 'Μᾶρκος': 136.0,\n",
       " 'Θεόπομπος': 6.0,\n",
       " 'ἐπισεύω': nan,\n",
       " 'μέλω': 43.0,\n",
       " 'Υἱόν': 4.0,\n",
       " 'ἔνδυμα': 77.0,\n",
       " 'γεωργέω': 60.0,\n",
       " 'Γίγας': 6.0,\n",
       " 'ἐκφύω': 13.0,\n",
       " 'μῆκος': 45.0,\n",
       " 'δινεύω': nan,\n",
       " 'ξηρός': 97.0,\n",
       " 'φάραγξ': 12.0,\n",
       " 'κρίσις': 592.0,\n",
       " 'αἰώνιος': 478.0,\n",
       " 'μελία': 3.0,\n",
       " 'Τιβεριεύς': nan,\n",
       " 'Καρχηδών': 3.0,\n",
       " 'ἀΐδιος': 44.0,\n",
       " 'Λίβανος': 18.0,\n",
       " 'ἠγάθεος': 2.0,\n",
       " 'θύρα': 190.0,\n",
       " 'χαλεπαίνω': 25.0,\n",
       " 'μαρτυρέω': 404.0,\n",
       " 'πρᾶος': 35.0,\n",
       " 'σχεδία': 5.0,\n",
       " 'δοθίημι': 7.0,\n",
       " 'μηχανάομαι': 17.0,\n",
       " 'ἅλλομαι': 26.0,\n",
       " 'ἐλαχύς': 89.0,\n",
       " 'τεκμαίρομαι': 9.0,\n",
       " 'εὔνους': nan,\n",
       " 'ἀναφορά': 30.0,\n",
       " 'Εἰπών': 11.0,\n",
       " 'θαλάσσιος': 21.0,\n",
       " 'σχίζω': 42.0,\n",
       " 'ἀμβροσίη': nan,\n",
       " 'πλάσμα': 87.0,\n",
       " 'διαφορέω': 15.0,\n",
       " 'χρή': 775.0,\n",
       " 'ἔκφυσις': 2.0,\n",
       " 'παννύχιος': 2.0,\n",
       " 'ὑποχόνδριος': nan,\n",
       " 'Πυθών': nan,\n",
       " 'κύριος': 5391.0,\n",
       " 'ἡμισφαίριον': 1.0,\n",
       " 'ἀμηχανία': 5.0,\n",
       " 'Νέστωρ': 15.0,\n",
       " 'τόσος': 1.0,\n",
       " 'ἀνάβασις': 16.0,\n",
       " 'μάθημα': 169.0,\n",
       " 'ἔραμαι': 11.0,\n",
       " 'εὐπρεπής': 21.0,\n",
       " 'μαστός': 50.0,\n",
       " 'ἄχος': 1.0,\n",
       " 'κυκλόω': 22.0,\n",
       " 'χειμών': 75.0,\n",
       " 'προσποιέω': 42.0,\n",
       " 'στέλεχος': 4.0,\n",
       " 'βῆσσα': nan,\n",
       " 'θαρσύνω': nan,\n",
       " 'καθαίρεσις': 32.0,\n",
       " 'ἁγνεία': 71.0,\n",
       " 'αἶσχος': 11.0,\n",
       " 'αἰπεινός': nan,\n",
       " 'ἐπιτιμάω': 58.0,\n",
       " 'διηνεκής': 19.0,\n",
       " 'φάσγανον': nan,\n",
       " 'ὕμνος': 62.0,\n",
       " 'Γδ': nan,\n",
       " 'γεννάω': 728.0,\n",
       " 'Ναζαρά': 25.0,\n",
       " 'τροφός': 30.0,\n",
       " 'ῥεῦμα': 36.0,\n",
       " 'ἰσότης': 31.0,\n",
       " 'φιλόσοφος': 340.0,\n",
       " 'κενός': 198.0,\n",
       " 'ἰκμάς': 7.0,\n",
       " 'τρέφω': 311.0,\n",
       " 'ὄλλυμι': 10.0,\n",
       " 'φοιτάω': 19.0,\n",
       " 'ἄρδω': 6.0,\n",
       " 'δίφθογγος': nan,\n",
       " 'ἀποτίθημι': 120.0,\n",
       " 'Πυθαγόρειος': 32.0,\n",
       " 'περισσεύω': 79.0,\n",
       " 'ἀπαντάω': 135.0,\n",
       " 'ἐγχειρίζω': 10.0,\n",
       " 'πλοῦτος': 319.0,\n",
       " 'ἀνοίγω': 88.0,\n",
       " 'τίω': 6.0,\n",
       " 'προσλέγω': 15.0,\n",
       " 'ἰότης': nan,\n",
       " 'δρυμός': 17.0,\n",
       " 'ἀριστεύω': 7.0,\n",
       " 'ταῦθ': 11.0,\n",
       " 'ὑπόστασις': 82.0,\n",
       " 'προβάλλω': 90.0,\n",
       " 'φείδομαι': 88.0,\n",
       " 'ἱππόδαμος': 1.0,\n",
       " 'κομάω': 14.0,\n",
       " 'μέδομαι': nan,\n",
       " 'δέον': 107.0,\n",
       " 'ἐκκαλέω': 12.0,\n",
       " 'σπάνις': 4.0,\n",
       " 'καθίημι': 17.0,\n",
       " 'τάσις': 4.0,\n",
       " 'προκαλέω': 43.0,\n",
       " 'ἀναγωγή': 75.0,\n",
       " 'φυγάς': 9.0,\n",
       " 'παλάσσω': nan,\n",
       " 'δίπουν': nan,\n",
       " 'ἰάομαι': 151.0,\n",
       " 'κῆρυξ': 49.0,\n",
       " 'νεῖκος': 9.0,\n",
       " 'ὁμόφυλος': 11.0,\n",
       " 'ἐπιφέρω': 375.0,\n",
       " 'κύλιξ': 14.0,\n",
       " 'ἐξίστημι': 45.0,\n",
       " 'ἐκκέντρος': nan,\n",
       " 'σῶμα': 2607.0,\n",
       " 'φάος': 252.0,\n",
       " 'ἐγείρω': 401.0,\n",
       " 'εἰσφέρω': 38.0,\n",
       " 'φάσκω': 436.0,\n",
       " 'ἀμοιβή': 45.0,\n",
       " 'βροτολοιγός': 5.0,\n",
       " 'κύδιστος': nan,\n",
       " 'στρατός': 9.0,\n",
       " 'εὖχος': 1.0,\n",
       " 'Ἐπίκουρος': 75.0,\n",
       " 'λήθη': 34.0,\n",
       " 'πάτηρ': nan,\n",
       " 'Γλαύκων': nan,\n",
       " 'ἐπιπλέω': 3.0,\n",
       " 'ἴχνος': 97.0,\n",
       " 'διαλύω': 68.0,\n",
       " 'τεός': 1.0,\n",
       " 'προϋπάρχω': 10.0,\n",
       " 'ἐύς': 1.0,\n",
       " 'ὑμέτερος': 129.0,\n",
       " 'ἔλαιον': 102.0,\n",
       " 'Παρθένος': 7.0,\n",
       " 'ψυχή': 3916.0,\n",
       " 'ἀσθενής': 206.0,\n",
       " 'Δημόκριτος': 25.0,\n",
       " 'πειράω': 224.0,\n",
       " 'ἐκχωρέω': 6.0,\n",
       " 'τιταίνω': 1.0,\n",
       " 'κῆπος': 33.0,\n",
       " 'ὀρούω': 2.0,\n",
       " 'γνάθος': 6.0,\n",
       " 'ἱρός': 1.0,\n",
       " 'ἀκολασία': 56.0,\n",
       " 'παραβοηθέω': nan,\n",
       " 'διορισμός': 1.0,\n",
       " 'εὐτυχέω': 20.0,\n",
       " 'Πλάτων': 379.0,\n",
       " 'φθόνος': 81.0,\n",
       " 'ψωμίον': 77.0,\n",
       " 'εὐθεῖα': 4.0,\n",
       " 'ὑποστρέφω': 63.0,\n",
       " 'πάλλω': 8.0,\n",
       " 'ἔσχατος': 348.0,\n",
       " 'πέτρα': 251.0,\n",
       " 'μῶνυξ': nan,\n",
       " 'Σιών': 189.0,\n",
       " 'τήκω': 26.0,\n",
       " 'διάβολος': 615.0,\n",
       " 'πέπλος': 7.0,\n",
       " 'Μάρθα': 45.0,\n",
       " 'ἐρεθίζω': 18.0,\n",
       " 'νομα': 23.0,\n",
       " 'θέλω': 223.0,\n",
       " 'ὅριον': 73.0,\n",
       " 'μῆτις': 6.0,\n",
       " 'τυραννεύω': 3.0,\n",
       " 'δριμύτης': 3.0,\n",
       " 'νέκταρ': 1.0,\n",
       " 'συντείνω': 11.0,\n",
       " 'ἀνασπάω': 8.0,\n",
       " 'συμπεράσμα': nan,\n",
       " 'ποθέω': 84.0,\n",
       " 'ἀρή': 6.0,\n",
       " 'εὐσέβεια': 268.0,\n",
       " 'ἐυκνήμις': nan,\n",
       " 'Ἱεροσολυμίτης': 7.0,\n",
       " 'Σύμμαχος': 86.0,\n",
       " 'ἑπτά': 109.0,\n",
       " 'δανείζω': 24.0,\n",
       " 'πτῶσις': 28.0,\n",
       " 'ἐμβάλλω': 73.0,\n",
       " 'δίκαιος': 1724.0,\n",
       " 'προαιρέω': 45.0,\n",
       " 'ὑγρότης': 14.0,\n",
       " 'ἐφάπτω': 18.0,\n",
       " 'ἀόριστος': 5.0,\n",
       " 'κνέφας': nan,\n",
       " 'Ἄχαβος': nan,\n",
       " 'συνοράω': 36.0,\n",
       " 'πολύς': 5608.0,\n",
       " 'καταδύω': 7.0,\n",
       " 'ἀληθής': 1046.0,\n",
       " 'φῦλον': 17.0,\n",
       " 'φέρτατος': nan,\n",
       " 'ὑψηλός': 167.0,\n",
       " 'τύραννος': 81.0,\n",
       " 'ἱκετεύω': 30.0,\n",
       " 'Σικελικός': 9.0,\n",
       " 'διαφθείρω': 134.0,\n",
       " 'κλέπτης': 84.0,\n",
       " 'κτείνω': 14.0,\n",
       " 'Χερσόνησος': nan,\n",
       " 'ἄφθιτος': 3.0,\n",
       " 'γραῦς': 8.0,\n",
       " 'ὑπομένω': 251.0,\n",
       " 'ἐπίτροπος': 31.0,\n",
       " 'τρέχω': 107.0,\n",
       " 'τάφρος': 2.0,\n",
       " 'καταπλέω': 4.0,\n",
       " 'καταγιγνώσκω': 38.0,\n",
       " 'εἰσάγω': 211.0,\n",
       " 'εὐπραγία': 10.0,\n",
       " 'ἄω': nan,\n",
       " 'ἀποδίδωμι': 432.0,\n",
       " 'Ναβουχοδονόσορ': 48.0,\n",
       " 'δημοκρατία': 11.0,\n",
       " 'ἄγος': 6.0,\n",
       " 'ἀναπνοή': 18.0,\n",
       " 'οἷος': 153.0,\n",
       " 'διάλεκτος': 109.0,\n",
       " 'ὄψ': 1.0,\n",
       " 'Ποσειδῶν': 43.0,\n",
       " 'φάσκος': 5.0,\n",
       " 'ἐπάγω': 193.0,\n",
       " 'Ὀρφεύς': 72.0,\n",
       " 'Τιτάν': 20.0,\n",
       " 'ἄκριτος': 12.0,\n",
       " 'δικαστής': 88.0,\n",
       " 'ὠχρός': 1.0,\n",
       " 'Ἡρακλέης': 26.0,\n",
       " 'τέττιξ': 7.0,\n",
       " 'ζόφος': 21.0,\n",
       " 'εὐτελής': 67.0,\n",
       " 'ἠερόεις': 2.0,\n",
       " 'Εὐθύδημος': nan,\n",
       " 'βέβαιος': 131.0,\n",
       " 'Χαρίκλεια': nan,\n",
       " 'θάρσος': 18.0,\n",
       " 'Ἐμπεδοκλῆς': 23.0,\n",
       " 'ἀνύω': 49.0,\n",
       " 'δῖος': 7.0,\n",
       " 'Κένταυρος': 7.0,\n",
       " 'Ἀτρεύς': 2.0,\n",
       " 'ἐντέλλω': 153.0,\n",
       " 'Κάσσανδρος': nan,\n",
       " 'ἐξήγησις': 29.0,\n",
       " 'ἰαίνω': 1.0,\n",
       " 'τόλμα': 26.0,\n",
       " 'κυνηγός': 6.0,\n",
       " 'ἀναίνομαι': 1.0,\n",
       " 'μοῖρα': 85.0,\n",
       " 'πιφαύσκω': nan,\n",
       " 'οὖρος': 1.0,\n",
       " 'πρόμαχος': 1.0,\n",
       " 'ἄσμενος': 4.0,\n",
       " 'Ὑρκανός': nan,\n",
       " 'μόρος': 13.0,\n",
       " 'προστίθημι': 327.0,\n",
       " 'ἐξαπατάω': 44.0,\n",
       " 'μεγαλοπρεπής': 13.0,\n",
       " 'σκότος': 450.0,\n",
       " 'μελετάω': 68.0,\n",
       " 'μάγος': 139.0,\n",
       " 'Σαλαμίς': 2.0,\n",
       " 'φώς': 3.0,\n",
       " 'στέρησις': 14.0,\n",
       " 'σπήλαιον': 66.0,\n",
       " 'δεῖμα': 6.0,\n",
       " 'καίω': 84.0,\n",
       " 'Ἀέ': nan,\n",
       " 'ἀναίρεσις': 37.0,\n",
       " 'σπάω': 10.0,\n",
       " 'Πέτρος': 1208.0,\n",
       " 'Εὐσέβιος': nan,\n",
       " 'πῆχυς': 30.0,\n",
       " 'δύστηνος': 8.0,\n",
       " 'εὔκλεια': 6.0,\n",
       " 'μελίφρων': nan,\n",
       " 'Σχόλιος': nan,\n",
       " 'καταθνητός': 2.0,\n",
       " 'καρπός': 624.0,\n",
       " 'ἄορ': 1.0,\n",
       " 'Ἰερουσαλήμ': 130.0,\n",
       " 'Ἰακώβ': 513.0,\n",
       " 'κατακλυσμός': 98.0,\n",
       " 'ἀυτή': 1.0,\n",
       " 'ἰοχέαιρα': nan,\n",
       " 'μυστικός': 104.0,\n",
       " 'σχέτλιος': 6.0,\n",
       " 'κατάλοιπος': 2.0,\n",
       " 'Ἔφεσος': 48.0,\n",
       " 'μαραίνω': 14.0,\n",
       " 'συνάντησις': 4.0,\n",
       " 'Πελοπόννησος': 12.0,\n",
       " 'τοιόσδε': 159.0,\n",
       " 'ἁμάρτημα': 462.0,\n",
       " 'Κωνσταντίος': nan,\n",
       " 'δζ': nan,\n",
       " 'πύλη': 313.0,\n",
       " 'χήρα': 111.0,\n",
       " 'στεφανόω': 53.0,\n",
       " 'ζάω': 408.0,\n",
       " 'φωτεινός': 51.0,\n",
       " 'κωφός': 77.0,\n",
       " 'ἐμφανής': 38.0,\n",
       " 'ἅλιος': nan,\n",
       " 'ῥέω': 116.0,\n",
       " 'Ἰδομενεύς': nan,\n",
       " 'φλέψ': 10.0,\n",
       " 'μορφή': 200.0,\n",
       " 'παρακαλέω': 358.0,\n",
       " 'γένειον': 18.0,\n",
       " 'ἔοικα': 513.0,\n",
       " 'ὁμοίωμα': 65.0,\n",
       " 'ἀμφιέπω': 1.0,\n",
       " 'Ἑβραίω': 43.0,\n",
       " 'ὄνος': 152.0,\n",
       " 'ἐπικαλέω': 158.0,\n",
       " 'Μαρδόνιος': 3.0,\n",
       " 'ζώω': 6.0,\n",
       " 'ὑγιεινός': 27.0,\n",
       " ...}"
      ]
     },
     "execution_count": 35,
     "metadata": {},
     "output_type": "execute_result"
    }
   ],
   "execution_count": 35
  },
  {
   "metadata": {
    "ExecuteTime": {
     "end_time": "2024-02-15T12:35:10.866725Z",
     "start_time": "2024-02-15T12:35:10.860987Z"
    }
   },
   "cell_type": "code",
   "source": [
    "sub = \"pagan_archaic\"\n",
    "wordcounts_df_balanced[sub].dropna()"
   ],
   "outputs": [
    {
     "data": {
      "text/plain": [
       "ῥάχις           2.0\n",
       "βροτός        265.0\n",
       "συμπόσιον       3.0\n",
       "ἠγερέθομαι     18.0\n",
       "χέω           176.0\n",
       "              ...  \n",
       "ξανθός         54.0\n",
       "συνέχω          4.0\n",
       "κατορθόω        2.0\n",
       "μάχη          194.0\n",
       "ἐπιγινώσκω      2.0\n",
       "Name: pagan_archaic, Length: 3875, dtype: float64"
      ]
     },
     "execution_count": 43,
     "metadata": {},
     "output_type": "execute_result"
    }
   ],
   "execution_count": 43
  },
  {
   "metadata": {
    "ExecuteTime": {
     "end_time": "2024-02-15T12:35:11.622900Z",
     "start_time": "2024-02-15T12:35:11.615215Z"
    }
   },
   "cell_type": "code",
   "source": [
    "vocab_freqs = dict(wordcounts_df_balanced[sub].dropna())\n",
    "len(vocab_freqs)"
   ],
   "outputs": [
    {
     "data": {
      "text/plain": [
       "3875"
      ]
     },
     "execution_count": 44,
     "metadata": {},
     "output_type": "execute_result"
    }
   ],
   "execution_count": 44
  },
  {
   "metadata": {},
   "cell_type": "markdown",
   "source": "# Model developement"
  },
  {
   "cell_type": "code",
   "source": [
    "%%time\n",
    "sub = \"pagan_archaic\"\n",
    "\n",
    "ids_lines = pickle.load(open(\"../data/ids_lines_wide.pickle\", \"rb\"))\n",
    "\n",
    "\n",
    "def from_sub_to_vectors(sub, sample_size=None, sample_seed=1):\n",
    "    subcorpus_ids = subcorpora_ids_dict[sub]\n",
    "    vocab_freqs = dict(wordcounts_df_balanced[sub].dropna())\n",
    "    subcorpus_ngrams =  NgramCorpusSample(subcorpus_ids, ids_lines, \"../data/large_data/corpus_ngrams_bydocid_wide.txt\", sample_size=sample_size, sample_seed=sample_seed)\n",
    "    model = Word2Vec(vector_size=100, window=5, min_count=0, negative=5, ns_exponent=1, sg=0, epochs=5, workers=8)\n",
    "    model.build_vocab_from_freq(word_freq=vocab_freqs)\n",
    "    model.train(subcorpus_ngrams, total_examples=len(subcorpus_ngrams), epochs=model.epochs)\n",
    "    return model.wv"
   ],
   "metadata": {
    "collapsed": false,
    "ExecuteTime": {
     "end_time": "2024-02-15T12:28:25.318738Z",
     "start_time": "2024-02-15T12:28:25.304215Z"
    }
   },
   "outputs": [
    {
     "name": "stdout",
     "output_type": "stream",
     "text": [
      "CPU times: user 1.48 ms, sys: 5.39 ms, total: 6.87 ms\n",
      "Wall time: 7.9 ms\n"
     ]
    }
   ],
   "execution_count": 23
  },
  {
   "metadata": {
    "ExecuteTime": {
     "end_time": "2024-02-15T14:13:34.698971Z",
     "start_time": "2024-02-15T14:09:30.367377Z"
    }
   },
   "cell_type": "code",
   "source": [
    "\n",
    "parameters_list = [\n",
    "    (\"pagan_archaic\", None, 1),\n",
    "    (\"pagan_archaic\", None, 2),\n",
    "    (\"pagan_archaic\", 500000, 1),\n",
    "    (\"pagan_archaic\", 500000, 2),\n",
    "    (\"pagan_archaic\", 1000000, 1),\n",
    "    (\"pagan_archaic\", 1000000, 2),\n",
    "    (\"pagan_archaic\", 2000000, 1),\n",
    "    (\"pagan_archaic\", 2000000, 2),\n",
    "]\n",
    "\n",
    "vectors_dict = {}\n",
    "for param_tup in parameters_list:\n",
    "    vectors_dict[param_tup[0] + str(param_tup[1]) + \"seed\" + str(param_tup[2])] = from_sub_to_vectors(param_tup[0], param_tup[1], param_tup[2])"
   ],
   "outputs": [],
   "execution_count": 99
  },
  {
   "metadata": {
    "ExecuteTime": {
     "end_time": "2024-02-15T14:13:34.706993Z",
     "start_time": "2024-02-15T14:13:34.702302Z"
    }
   },
   "cell_type": "code",
   "source": "vectors_keys = list(vectors_dict.keys())",
   "outputs": [],
   "execution_count": 100
  },
  {
   "metadata": {
    "ExecuteTime": {
     "end_time": "2024-02-15T14:13:34.735253Z",
     "start_time": "2024-02-15T14:13:34.707698Z"
    }
   },
   "cell_type": "code",
   "source": [
    "vectors_dict[vectors_keys[0]\n",
    "].most_similar(religion_final[0])"
   ],
   "outputs": [
    {
     "data": {
      "text/plain": [
       "[('ἀγήραος', 0.6715943217277527),\n",
       " ('μάκαρ', 0.6137117147445679),\n",
       " ('θνητός', 0.6128644943237305),\n",
       " ('ἀθάνατος', 0.587373673915863),\n",
       " ('θεὸς', 0.5821996331214905),\n",
       " ('Ζεύς', 0.5772749185562134),\n",
       " ('ἐπιείκελος', 0.5750934481620789),\n",
       " ('τελευτάω', 0.5716179609298706),\n",
       " ('φυή', 0.5533278584480286),\n",
       " ('κατανεύω', 0.5532758831977844)]"
      ]
     },
     "execution_count": 101,
     "metadata": {},
     "output_type": "execute_result"
    }
   ],
   "execution_count": 101
  },
  {
   "metadata": {
    "ExecuteTime": {
     "end_time": "2024-02-15T14:13:34.772526Z",
     "start_time": "2024-02-15T14:13:34.759130Z"
    }
   },
   "cell_type": "code",
   "source": [
    "vectors_dict[vectors_keys[1]\n",
    "].most_similar(religion_final[0])"
   ],
   "outputs": [
    {
     "data": {
      "text/plain": [
       "[('ἀγήραος', 0.6966039538383484),\n",
       " ('μάκαρ', 0.6015915274620056),\n",
       " ('θνητός', 0.5978084802627563),\n",
       " ('ζεύς', 0.5743058919906616),\n",
       " ('εὐνάω', 0.5673794746398926),\n",
       " ('ἐπιείκελος', 0.5609884262084961),\n",
       " ('φάσκω', 0.5535681247711182),\n",
       " ('θεὸς', 0.542409360408783),\n",
       " ('τιμή', 0.5413025617599487),\n",
       " ('Οὐρανίωνες', 0.5393999814987183)]"
      ]
     },
     "execution_count": 102,
     "metadata": {},
     "output_type": "execute_result"
    }
   ],
   "execution_count": 102
  },
  {
   "metadata": {
    "ExecuteTime": {
     "end_time": "2024-02-15T14:13:34.810209Z",
     "start_time": "2024-02-15T14:13:34.800396Z"
    }
   },
   "cell_type": "code",
   "source": [
    "list1 = [tup[0] for tup in vectors_dict[vectors_keys[0]].most_similar(religion_final[0], topn=20)]\n",
    "list2 = [tup[0] for tup in vectors_dict[vectors_keys[4]].most_similar(religion_final[0], topn=20)]\n",
    "len(set(list1) & set(list2))"
   ],
   "outputs": [
    {
     "data": {
      "text/plain": [
       "10"
      ]
     },
     "execution_count": 106,
     "metadata": {},
     "output_type": "execute_result"
    }
   ],
   "execution_count": 106
  },
  {
   "metadata": {
    "ExecuteTime": {
     "end_time": "2024-02-15T14:13:34.822945Z",
     "start_time": "2024-02-15T14:13:34.811929Z"
    }
   },
   "cell_type": "code",
   "source": [
    "vectors_dict[vectors_keys[1]\n",
    "].most_similar(religion_final[0])"
   ],
   "outputs": [
    {
     "data": {
      "text/plain": [
       "[('ἀγήραος', 0.6966039538383484),\n",
       " ('μάκαρ', 0.6015915274620056),\n",
       " ('θνητός', 0.5978084802627563),\n",
       " ('ζεύς', 0.5743058919906616),\n",
       " ('εὐνάω', 0.5673794746398926),\n",
       " ('ἐπιείκελος', 0.5609884262084961),\n",
       " ('φάσκω', 0.5535681247711182),\n",
       " ('θεὸς', 0.542409360408783),\n",
       " ('τιμή', 0.5413025617599487),\n",
       " ('Οὐρανίωνες', 0.5393999814987183)]"
      ]
     },
     "execution_count": 107,
     "metadata": {},
     "output_type": "execute_result"
    }
   ],
   "execution_count": 107
  },
  {
   "metadata": {
    "ExecuteTime": {
     "end_time": "2024-02-15T14:13:34.831439Z",
     "start_time": "2024-02-15T14:13:34.827066Z"
    }
   },
   "cell_type": "code",
   "source": "vectors_dict.keys()",
   "outputs": [
    {
     "data": {
      "text/plain": [
       "dict_keys(['pagan_archaicNoneseed1', 'pagan_archaicNoneseed2', 'pagan_archaic500000seed1', 'pagan_archaic500000seed2', 'pagan_archaic1000000seed1', 'pagan_archaic1000000seed2', 'pagan_archaic2000000seed1', 'pagan_archaic2000000seed2'])"
      ]
     },
     "execution_count": 108,
     "metadata": {},
     "output_type": "execute_result"
    }
   ],
   "execution_count": 108
  },
  {
   "metadata": {
    "ExecuteTime": {
     "end_time": "2024-02-15T14:13:34.836888Z",
     "start_time": "2024-02-15T14:13:34.832969Z"
    }
   },
   "cell_type": "code",
   "source": [
    "vectors_matrices_list = [vectors_dict[key].vectors for key in vectors_dict.keys()]\n",
    "for matrix in vectors_matrices_list:\n",
    "    print(matrix.shape)"
   ],
   "outputs": [
    {
     "name": "stdout",
     "output_type": "stream",
     "text": [
      "(3875, 100)\n",
      "(3875, 100)\n",
      "(3875, 100)\n",
      "(3875, 100)\n",
      "(3875, 100)\n",
      "(3875, 100)\n",
      "(3875, 100)\n",
      "(3875, 100)\n"
     ]
    }
   ],
   "execution_count": 109
  },
  {
   "metadata": {
    "ExecuteTime": {
     "end_time": "2024-02-15T14:14:30.659593Z",
     "start_time": "2024-02-15T14:14:28.287378Z"
    }
   },
   "cell_type": "code",
   "source": [
    "def calculate_square_similarity_matrices(matrix_list):\n",
    "    similarity_matrix_list = []\n",
    "\n",
    "    for matrix in matrix_list:\n",
    "        similarity_matrix = cosine_similarity(matrix, matrix)\n",
    "        similarity_matrix_list.append(similarity_matrix)\n",
    "\n",
    "    return similarity_matrix_list\n",
    "\n",
    "\n",
    "def compare_similarity_matrices(similarity_matrix_list):\n",
    "    n = len(similarity_matrix_list)\n",
    "    comparison_matrix = np.zeros((n, n))\n",
    "\n",
    "    for i in range(n):\n",
    "        for j in range(i, n):\n",
    "            matrix1 = similarity_matrix_list[i].flatten().reshape(1, -1)\n",
    "            matrix2 = similarity_matrix_list[j].flatten().reshape(1, -1)\n",
    "            comparison_matrix[i][j] = cosine_similarity(matrix1, matrix2)[0][0]\n",
    "            comparison_matrix[j][i] = comparison_matrix[i][j]\n",
    "\n",
    "    return comparison_matrix\n",
    "\n",
    "\n",
    "word_embedding_similarity_matrix_list = calculate_square_similarity_matrices(vectors_matrices_list)\n",
    "final_comparison_matrix = compare_similarity_matrices(word_embedding_similarity_matrix_list)"
   ],
   "outputs": [],
   "execution_count": 112
  },
  {
   "metadata": {
    "ExecuteTime": {
     "end_time": "2024-02-15T14:14:36.891220Z",
     "start_time": "2024-02-15T14:14:36.882602Z"
    }
   },
   "cell_type": "code",
   "source": [
    "w2v_par_comparison_pagan_archaic_df = pd.DataFrame(final_comparison_matrix, columns=vectors_dict.keys(), index=vectors_dict.keys())\n",
    "w2v_par_comparison_pagan_archaic_df"
   ],
   "outputs": [
    {
     "data": {
      "text/plain": [
       "                           pagan_archaicNoneseed1  pagan_archaicNoneseed2  \\\n",
       "pagan_archaicNoneseed1                   0.999961                0.994105   \n",
       "pagan_archaicNoneseed2                   0.994105                0.999961   \n",
       "pagan_archaic500000seed1                 0.597465                0.590205   \n",
       "pagan_archaic500000seed2                 0.597452                0.590001   \n",
       "pagan_archaic1000000seed1                0.463940                0.457234   \n",
       "pagan_archaic1000000seed2                0.462883                0.456238   \n",
       "pagan_archaic2000000seed1                0.371623                0.365824   \n",
       "pagan_archaic2000000seed2                0.369635                0.363915   \n",
       "\n",
       "                           pagan_archaic500000seed1  pagan_archaic500000seed2  \\\n",
       "pagan_archaicNoneseed1                     0.597465                  0.597452   \n",
       "pagan_archaicNoneseed2                     0.590205                  0.590001   \n",
       "pagan_archaic500000seed1                   0.999722                  0.928212   \n",
       "pagan_archaic500000seed2                   0.928212                  0.999719   \n",
       "pagan_archaic1000000seed1                  0.908016                  0.886147   \n",
       "pagan_archaic1000000seed2                  0.885258                  0.906092   \n",
       "pagan_archaic2000000seed1                  0.825632                  0.809662   \n",
       "pagan_archaic2000000seed2                  0.808322                  0.824227   \n",
       "\n",
       "                           pagan_archaic1000000seed1  \\\n",
       "pagan_archaicNoneseed1                      0.463940   \n",
       "pagan_archaicNoneseed2                      0.457234   \n",
       "pagan_archaic500000seed1                    0.908016   \n",
       "pagan_archaic500000seed2                    0.886147   \n",
       "pagan_archaic1000000seed1                   0.999675   \n",
       "pagan_archaic1000000seed2                   0.906589   \n",
       "pagan_archaic2000000seed1                   0.894482   \n",
       "pagan_archaic2000000seed2                   0.870736   \n",
       "\n",
       "                           pagan_archaic1000000seed2  \\\n",
       "pagan_archaicNoneseed1                      0.462883   \n",
       "pagan_archaicNoneseed2                      0.456238   \n",
       "pagan_archaic500000seed1                    0.885258   \n",
       "pagan_archaic500000seed2                    0.906092   \n",
       "pagan_archaic1000000seed1                   0.906589   \n",
       "pagan_archaic1000000seed2                   0.999675   \n",
       "pagan_archaic2000000seed1                   0.872001   \n",
       "pagan_archaic2000000seed2                   0.893803   \n",
       "\n",
       "                           pagan_archaic2000000seed1  \\\n",
       "pagan_archaicNoneseed1                      0.371623   \n",
       "pagan_archaicNoneseed2                      0.365824   \n",
       "pagan_archaic500000seed1                    0.825632   \n",
       "pagan_archaic500000seed2                    0.809662   \n",
       "pagan_archaic1000000seed1                   0.894482   \n",
       "pagan_archaic1000000seed2                   0.872001   \n",
       "pagan_archaic2000000seed1                   0.999643   \n",
       "pagan_archaic2000000seed2                   0.879540   \n",
       "\n",
       "                           pagan_archaic2000000seed2  \n",
       "pagan_archaicNoneseed1                      0.369635  \n",
       "pagan_archaicNoneseed2                      0.363915  \n",
       "pagan_archaic500000seed1                    0.808322  \n",
       "pagan_archaic500000seed2                    0.824227  \n",
       "pagan_archaic1000000seed1                   0.870736  \n",
       "pagan_archaic1000000seed2                   0.893803  \n",
       "pagan_archaic2000000seed1                   0.879540  \n",
       "pagan_archaic2000000seed2                   0.999643  "
      ],
      "text/html": [
       "<div>\n",
       "<style scoped>\n",
       "    .dataframe tbody tr th:only-of-type {\n",
       "        vertical-align: middle;\n",
       "    }\n",
       "\n",
       "    .dataframe tbody tr th {\n",
       "        vertical-align: top;\n",
       "    }\n",
       "\n",
       "    .dataframe thead th {\n",
       "        text-align: right;\n",
       "    }\n",
       "</style>\n",
       "<table border=\"1\" class=\"dataframe\">\n",
       "  <thead>\n",
       "    <tr style=\"text-align: right;\">\n",
       "      <th></th>\n",
       "      <th>pagan_archaicNoneseed1</th>\n",
       "      <th>pagan_archaicNoneseed2</th>\n",
       "      <th>pagan_archaic500000seed1</th>\n",
       "      <th>pagan_archaic500000seed2</th>\n",
       "      <th>pagan_archaic1000000seed1</th>\n",
       "      <th>pagan_archaic1000000seed2</th>\n",
       "      <th>pagan_archaic2000000seed1</th>\n",
       "      <th>pagan_archaic2000000seed2</th>\n",
       "    </tr>\n",
       "  </thead>\n",
       "  <tbody>\n",
       "    <tr>\n",
       "      <th>pagan_archaicNoneseed1</th>\n",
       "      <td>0.999961</td>\n",
       "      <td>0.994105</td>\n",
       "      <td>0.597465</td>\n",
       "      <td>0.597452</td>\n",
       "      <td>0.463940</td>\n",
       "      <td>0.462883</td>\n",
       "      <td>0.371623</td>\n",
       "      <td>0.369635</td>\n",
       "    </tr>\n",
       "    <tr>\n",
       "      <th>pagan_archaicNoneseed2</th>\n",
       "      <td>0.994105</td>\n",
       "      <td>0.999961</td>\n",
       "      <td>0.590205</td>\n",
       "      <td>0.590001</td>\n",
       "      <td>0.457234</td>\n",
       "      <td>0.456238</td>\n",
       "      <td>0.365824</td>\n",
       "      <td>0.363915</td>\n",
       "    </tr>\n",
       "    <tr>\n",
       "      <th>pagan_archaic500000seed1</th>\n",
       "      <td>0.597465</td>\n",
       "      <td>0.590205</td>\n",
       "      <td>0.999722</td>\n",
       "      <td>0.928212</td>\n",
       "      <td>0.908016</td>\n",
       "      <td>0.885258</td>\n",
       "      <td>0.825632</td>\n",
       "      <td>0.808322</td>\n",
       "    </tr>\n",
       "    <tr>\n",
       "      <th>pagan_archaic500000seed2</th>\n",
       "      <td>0.597452</td>\n",
       "      <td>0.590001</td>\n",
       "      <td>0.928212</td>\n",
       "      <td>0.999719</td>\n",
       "      <td>0.886147</td>\n",
       "      <td>0.906092</td>\n",
       "      <td>0.809662</td>\n",
       "      <td>0.824227</td>\n",
       "    </tr>\n",
       "    <tr>\n",
       "      <th>pagan_archaic1000000seed1</th>\n",
       "      <td>0.463940</td>\n",
       "      <td>0.457234</td>\n",
       "      <td>0.908016</td>\n",
       "      <td>0.886147</td>\n",
       "      <td>0.999675</td>\n",
       "      <td>0.906589</td>\n",
       "      <td>0.894482</td>\n",
       "      <td>0.870736</td>\n",
       "    </tr>\n",
       "    <tr>\n",
       "      <th>pagan_archaic1000000seed2</th>\n",
       "      <td>0.462883</td>\n",
       "      <td>0.456238</td>\n",
       "      <td>0.885258</td>\n",
       "      <td>0.906092</td>\n",
       "      <td>0.906589</td>\n",
       "      <td>0.999675</td>\n",
       "      <td>0.872001</td>\n",
       "      <td>0.893803</td>\n",
       "    </tr>\n",
       "    <tr>\n",
       "      <th>pagan_archaic2000000seed1</th>\n",
       "      <td>0.371623</td>\n",
       "      <td>0.365824</td>\n",
       "      <td>0.825632</td>\n",
       "      <td>0.809662</td>\n",
       "      <td>0.894482</td>\n",
       "      <td>0.872001</td>\n",
       "      <td>0.999643</td>\n",
       "      <td>0.879540</td>\n",
       "    </tr>\n",
       "    <tr>\n",
       "      <th>pagan_archaic2000000seed2</th>\n",
       "      <td>0.369635</td>\n",
       "      <td>0.363915</td>\n",
       "      <td>0.808322</td>\n",
       "      <td>0.824227</td>\n",
       "      <td>0.870736</td>\n",
       "      <td>0.893803</td>\n",
       "      <td>0.879540</td>\n",
       "      <td>0.999643</td>\n",
       "    </tr>\n",
       "  </tbody>\n",
       "</table>\n",
       "</div>"
      ]
     },
     "execution_count": 114,
     "metadata": {},
     "output_type": "execute_result"
    }
   ],
   "execution_count": 114
  },
  {
   "metadata": {
    "ExecuteTime": {
     "end_time": "2024-02-15T14:14:47.861151Z",
     "start_time": "2024-02-15T14:14:47.855507Z"
    }
   },
   "cell_type": "code",
   "source": "w2v_par_comparison_pagan_archaic_df.to_csv(\"../data/w2v_par_comparison_pagan_archaic.csv\", index=False)",
   "outputs": [],
   "execution_count": 115
  },
  {
   "metadata": {
    "ExecuteTime": {
     "end_time": "2024-02-15T14:14:51.577887Z",
     "start_time": "2024-02-15T14:14:51.530862Z"
    }
   },
   "cell_type": "code",
   "source": [
    "dfs = []\n",
    "for key in vectors_dict.keys():\n",
    "    dfs.append(pd.DataFrame(vectors_dict[key].most_similar(religion_final[0], topn=len(vocab_freqs)), columns=['token', key]).set_index('token'))\n",
    "merged_df = pd.concat(dfs, axis=1)"
   ],
   "outputs": [],
   "execution_count": 116
  },
  {
   "metadata": {
    "ExecuteTime": {
     "end_time": "2024-02-15T14:14:51.811852Z",
     "start_time": "2024-02-15T14:14:51.797768Z"
    }
   },
   "cell_type": "code",
   "source": "merged_df",
   "outputs": [
    {
     "data": {
      "text/plain": [
       "           pagan_archaicNoneseed1  pagan_archaicNoneseed2  \\\n",
       "token                                                       \n",
       "ἀγήραος                  0.671594                0.696604   \n",
       "μάκαρ                    0.613712                0.601592   \n",
       "θνητός                   0.612864                0.597808   \n",
       "ἀθάνατος                 0.587374                0.524651   \n",
       "θεὸς                     0.582200                0.542409   \n",
       "...                           ...                     ...   \n",
       "κεῖμαι                  -0.238731               -0.308998   \n",
       "καταπίπτω               -0.244738               -0.205531   \n",
       "κονία                   -0.254587               -0.247936   \n",
       "λίθος                   -0.255731               -0.167843   \n",
       "ὀστέον                  -0.301573               -0.273515   \n",
       "\n",
       "           pagan_archaic500000seed1  pagan_archaic500000seed2  \\\n",
       "token                                                           \n",
       "ἀγήραος                    0.424621                  0.415075   \n",
       "μάκαρ                      0.434278                  0.464661   \n",
       "θνητός                     0.368540                  0.376315   \n",
       "ἀθάνατος                   0.328556                  0.370276   \n",
       "θεὸς                       0.366217                  0.386441   \n",
       "...                             ...                       ...   \n",
       "κεῖμαι                    -0.243071                 -0.164368   \n",
       "καταπίπτω                 -0.265858                 -0.250700   \n",
       "κονία                     -0.169894                 -0.194559   \n",
       "λίθος                     -0.301051                 -0.223643   \n",
       "ὀστέον                    -0.238820                 -0.277949   \n",
       "\n",
       "           pagan_archaic1000000seed1  pagan_archaic1000000seed2  \\\n",
       "token                                                             \n",
       "ἀγήραος                     0.339688                   0.325511   \n",
       "μάκαρ                       0.377499                   0.466196   \n",
       "θνητός                      0.330312                   0.359011   \n",
       "ἀθάνατος                    0.413555                   0.417522   \n",
       "θεὸς                        0.326610                   0.358282   \n",
       "...                              ...                        ...   \n",
       "κεῖμαι                     -0.245509                  -0.204892   \n",
       "καταπίπτω                  -0.267997                  -0.272037   \n",
       "κονία                      -0.255916                  -0.279417   \n",
       "λίθος                      -0.211125                  -0.286522   \n",
       "ὀστέον                     -0.343917                  -0.345814   \n",
       "\n",
       "           pagan_archaic2000000seed1  pagan_archaic2000000seed2  \n",
       "token                                                            \n",
       "ἀγήραος                     0.309348                   0.301138  \n",
       "μάκαρ                       0.423868                   0.414279  \n",
       "θνητός                      0.349039                   0.315449  \n",
       "ἀθάνατος                    0.416487                   0.411001  \n",
       "θεὸς                        0.302120                   0.323170  \n",
       "...                              ...                        ...  \n",
       "κεῖμαι                     -0.202918                  -0.227642  \n",
       "καταπίπτω                  -0.220211                  -0.265391  \n",
       "κονία                      -0.281697                  -0.330019  \n",
       "λίθος                      -0.187393                  -0.265953  \n",
       "ὀστέον                     -0.355571                  -0.268805  \n",
       "\n",
       "[3874 rows x 8 columns]"
      ],
      "text/html": [
       "<div>\n",
       "<style scoped>\n",
       "    .dataframe tbody tr th:only-of-type {\n",
       "        vertical-align: middle;\n",
       "    }\n",
       "\n",
       "    .dataframe tbody tr th {\n",
       "        vertical-align: top;\n",
       "    }\n",
       "\n",
       "    .dataframe thead th {\n",
       "        text-align: right;\n",
       "    }\n",
       "</style>\n",
       "<table border=\"1\" class=\"dataframe\">\n",
       "  <thead>\n",
       "    <tr style=\"text-align: right;\">\n",
       "      <th></th>\n",
       "      <th>pagan_archaicNoneseed1</th>\n",
       "      <th>pagan_archaicNoneseed2</th>\n",
       "      <th>pagan_archaic500000seed1</th>\n",
       "      <th>pagan_archaic500000seed2</th>\n",
       "      <th>pagan_archaic1000000seed1</th>\n",
       "      <th>pagan_archaic1000000seed2</th>\n",
       "      <th>pagan_archaic2000000seed1</th>\n",
       "      <th>pagan_archaic2000000seed2</th>\n",
       "    </tr>\n",
       "    <tr>\n",
       "      <th>token</th>\n",
       "      <th></th>\n",
       "      <th></th>\n",
       "      <th></th>\n",
       "      <th></th>\n",
       "      <th></th>\n",
       "      <th></th>\n",
       "      <th></th>\n",
       "      <th></th>\n",
       "    </tr>\n",
       "  </thead>\n",
       "  <tbody>\n",
       "    <tr>\n",
       "      <th>ἀγήραος</th>\n",
       "      <td>0.671594</td>\n",
       "      <td>0.696604</td>\n",
       "      <td>0.424621</td>\n",
       "      <td>0.415075</td>\n",
       "      <td>0.339688</td>\n",
       "      <td>0.325511</td>\n",
       "      <td>0.309348</td>\n",
       "      <td>0.301138</td>\n",
       "    </tr>\n",
       "    <tr>\n",
       "      <th>μάκαρ</th>\n",
       "      <td>0.613712</td>\n",
       "      <td>0.601592</td>\n",
       "      <td>0.434278</td>\n",
       "      <td>0.464661</td>\n",
       "      <td>0.377499</td>\n",
       "      <td>0.466196</td>\n",
       "      <td>0.423868</td>\n",
       "      <td>0.414279</td>\n",
       "    </tr>\n",
       "    <tr>\n",
       "      <th>θνητός</th>\n",
       "      <td>0.612864</td>\n",
       "      <td>0.597808</td>\n",
       "      <td>0.368540</td>\n",
       "      <td>0.376315</td>\n",
       "      <td>0.330312</td>\n",
       "      <td>0.359011</td>\n",
       "      <td>0.349039</td>\n",
       "      <td>0.315449</td>\n",
       "    </tr>\n",
       "    <tr>\n",
       "      <th>ἀθάνατος</th>\n",
       "      <td>0.587374</td>\n",
       "      <td>0.524651</td>\n",
       "      <td>0.328556</td>\n",
       "      <td>0.370276</td>\n",
       "      <td>0.413555</td>\n",
       "      <td>0.417522</td>\n",
       "      <td>0.416487</td>\n",
       "      <td>0.411001</td>\n",
       "    </tr>\n",
       "    <tr>\n",
       "      <th>θεὸς</th>\n",
       "      <td>0.582200</td>\n",
       "      <td>0.542409</td>\n",
       "      <td>0.366217</td>\n",
       "      <td>0.386441</td>\n",
       "      <td>0.326610</td>\n",
       "      <td>0.358282</td>\n",
       "      <td>0.302120</td>\n",
       "      <td>0.323170</td>\n",
       "    </tr>\n",
       "    <tr>\n",
       "      <th>...</th>\n",
       "      <td>...</td>\n",
       "      <td>...</td>\n",
       "      <td>...</td>\n",
       "      <td>...</td>\n",
       "      <td>...</td>\n",
       "      <td>...</td>\n",
       "      <td>...</td>\n",
       "      <td>...</td>\n",
       "    </tr>\n",
       "    <tr>\n",
       "      <th>κεῖμαι</th>\n",
       "      <td>-0.238731</td>\n",
       "      <td>-0.308998</td>\n",
       "      <td>-0.243071</td>\n",
       "      <td>-0.164368</td>\n",
       "      <td>-0.245509</td>\n",
       "      <td>-0.204892</td>\n",
       "      <td>-0.202918</td>\n",
       "      <td>-0.227642</td>\n",
       "    </tr>\n",
       "    <tr>\n",
       "      <th>καταπίπτω</th>\n",
       "      <td>-0.244738</td>\n",
       "      <td>-0.205531</td>\n",
       "      <td>-0.265858</td>\n",
       "      <td>-0.250700</td>\n",
       "      <td>-0.267997</td>\n",
       "      <td>-0.272037</td>\n",
       "      <td>-0.220211</td>\n",
       "      <td>-0.265391</td>\n",
       "    </tr>\n",
       "    <tr>\n",
       "      <th>κονία</th>\n",
       "      <td>-0.254587</td>\n",
       "      <td>-0.247936</td>\n",
       "      <td>-0.169894</td>\n",
       "      <td>-0.194559</td>\n",
       "      <td>-0.255916</td>\n",
       "      <td>-0.279417</td>\n",
       "      <td>-0.281697</td>\n",
       "      <td>-0.330019</td>\n",
       "    </tr>\n",
       "    <tr>\n",
       "      <th>λίθος</th>\n",
       "      <td>-0.255731</td>\n",
       "      <td>-0.167843</td>\n",
       "      <td>-0.301051</td>\n",
       "      <td>-0.223643</td>\n",
       "      <td>-0.211125</td>\n",
       "      <td>-0.286522</td>\n",
       "      <td>-0.187393</td>\n",
       "      <td>-0.265953</td>\n",
       "    </tr>\n",
       "    <tr>\n",
       "      <th>ὀστέον</th>\n",
       "      <td>-0.301573</td>\n",
       "      <td>-0.273515</td>\n",
       "      <td>-0.238820</td>\n",
       "      <td>-0.277949</td>\n",
       "      <td>-0.343917</td>\n",
       "      <td>-0.345814</td>\n",
       "      <td>-0.355571</td>\n",
       "      <td>-0.268805</td>\n",
       "    </tr>\n",
       "  </tbody>\n",
       "</table>\n",
       "<p>3874 rows × 8 columns</p>\n",
       "</div>"
      ]
     },
     "execution_count": 117,
     "metadata": {},
     "output_type": "execute_result"
    }
   ],
   "execution_count": 117
  },
  {
   "metadata": {
    "ExecuteTime": {
     "end_time": "2024-02-15T14:14:54.123624Z",
     "start_time": "2024-02-15T14:14:54.114541Z"
    }
   },
   "cell_type": "code",
   "source": "merged_df.corr()",
   "outputs": [
    {
     "data": {
      "text/plain": [
       "                           pagan_archaicNoneseed1  pagan_archaicNoneseed2  \\\n",
       "pagan_archaicNoneseed1                   1.000000                0.962014   \n",
       "pagan_archaicNoneseed2                   0.962014                1.000000   \n",
       "pagan_archaic500000seed1                 0.543999                0.517693   \n",
       "pagan_archaic500000seed2                 0.541970                0.511513   \n",
       "pagan_archaic1000000seed1                0.548594                0.525255   \n",
       "pagan_archaic1000000seed2                0.553371                0.529047   \n",
       "pagan_archaic2000000seed1                0.576690                0.554953   \n",
       "pagan_archaic2000000seed2                0.572524                0.550635   \n",
       "\n",
       "                           pagan_archaic500000seed1  pagan_archaic500000seed2  \\\n",
       "pagan_archaicNoneseed1                     0.543999                  0.541970   \n",
       "pagan_archaicNoneseed2                     0.517693                  0.511513   \n",
       "pagan_archaic500000seed1                   1.000000                  0.916949   \n",
       "pagan_archaic500000seed2                   0.916949                  1.000000   \n",
       "pagan_archaic1000000seed1                  0.924484                  0.907501   \n",
       "pagan_archaic1000000seed2                  0.904272                  0.930288   \n",
       "pagan_archaic2000000seed1                  0.886130                  0.884109   \n",
       "pagan_archaic2000000seed2                  0.864834                  0.888525   \n",
       "\n",
       "                           pagan_archaic1000000seed1  \\\n",
       "pagan_archaicNoneseed1                      0.548594   \n",
       "pagan_archaicNoneseed2                      0.525255   \n",
       "pagan_archaic500000seed1                    0.924484   \n",
       "pagan_archaic500000seed2                    0.907501   \n",
       "pagan_archaic1000000seed1                   1.000000   \n",
       "pagan_archaic1000000seed2                   0.938262   \n",
       "pagan_archaic2000000seed1                   0.941730   \n",
       "pagan_archaic2000000seed2                   0.923030   \n",
       "\n",
       "                           pagan_archaic1000000seed2  \\\n",
       "pagan_archaicNoneseed1                      0.553371   \n",
       "pagan_archaicNoneseed2                      0.529047   \n",
       "pagan_archaic500000seed1                    0.904272   \n",
       "pagan_archaic500000seed2                    0.930288   \n",
       "pagan_archaic1000000seed1                   0.938262   \n",
       "pagan_archaic1000000seed2                   1.000000   \n",
       "pagan_archaic2000000seed1                   0.926405   \n",
       "pagan_archaic2000000seed2                   0.941613   \n",
       "\n",
       "                           pagan_archaic2000000seed1  \\\n",
       "pagan_archaicNoneseed1                      0.576690   \n",
       "pagan_archaicNoneseed2                      0.554953   \n",
       "pagan_archaic500000seed1                    0.886130   \n",
       "pagan_archaic500000seed2                    0.884109   \n",
       "pagan_archaic1000000seed1                   0.941730   \n",
       "pagan_archaic1000000seed2                   0.926405   \n",
       "pagan_archaic2000000seed1                   1.000000   \n",
       "pagan_archaic2000000seed2                   0.933806   \n",
       "\n",
       "                           pagan_archaic2000000seed2  \n",
       "pagan_archaicNoneseed1                      0.572524  \n",
       "pagan_archaicNoneseed2                      0.550635  \n",
       "pagan_archaic500000seed1                    0.864834  \n",
       "pagan_archaic500000seed2                    0.888525  \n",
       "pagan_archaic1000000seed1                   0.923030  \n",
       "pagan_archaic1000000seed2                   0.941613  \n",
       "pagan_archaic2000000seed1                   0.933806  \n",
       "pagan_archaic2000000seed2                   1.000000  "
      ],
      "text/html": [
       "<div>\n",
       "<style scoped>\n",
       "    .dataframe tbody tr th:only-of-type {\n",
       "        vertical-align: middle;\n",
       "    }\n",
       "\n",
       "    .dataframe tbody tr th {\n",
       "        vertical-align: top;\n",
       "    }\n",
       "\n",
       "    .dataframe thead th {\n",
       "        text-align: right;\n",
       "    }\n",
       "</style>\n",
       "<table border=\"1\" class=\"dataframe\">\n",
       "  <thead>\n",
       "    <tr style=\"text-align: right;\">\n",
       "      <th></th>\n",
       "      <th>pagan_archaicNoneseed1</th>\n",
       "      <th>pagan_archaicNoneseed2</th>\n",
       "      <th>pagan_archaic500000seed1</th>\n",
       "      <th>pagan_archaic500000seed2</th>\n",
       "      <th>pagan_archaic1000000seed1</th>\n",
       "      <th>pagan_archaic1000000seed2</th>\n",
       "      <th>pagan_archaic2000000seed1</th>\n",
       "      <th>pagan_archaic2000000seed2</th>\n",
       "    </tr>\n",
       "  </thead>\n",
       "  <tbody>\n",
       "    <tr>\n",
       "      <th>pagan_archaicNoneseed1</th>\n",
       "      <td>1.000000</td>\n",
       "      <td>0.962014</td>\n",
       "      <td>0.543999</td>\n",
       "      <td>0.541970</td>\n",
       "      <td>0.548594</td>\n",
       "      <td>0.553371</td>\n",
       "      <td>0.576690</td>\n",
       "      <td>0.572524</td>\n",
       "    </tr>\n",
       "    <tr>\n",
       "      <th>pagan_archaicNoneseed2</th>\n",
       "      <td>0.962014</td>\n",
       "      <td>1.000000</td>\n",
       "      <td>0.517693</td>\n",
       "      <td>0.511513</td>\n",
       "      <td>0.525255</td>\n",
       "      <td>0.529047</td>\n",
       "      <td>0.554953</td>\n",
       "      <td>0.550635</td>\n",
       "    </tr>\n",
       "    <tr>\n",
       "      <th>pagan_archaic500000seed1</th>\n",
       "      <td>0.543999</td>\n",
       "      <td>0.517693</td>\n",
       "      <td>1.000000</td>\n",
       "      <td>0.916949</td>\n",
       "      <td>0.924484</td>\n",
       "      <td>0.904272</td>\n",
       "      <td>0.886130</td>\n",
       "      <td>0.864834</td>\n",
       "    </tr>\n",
       "    <tr>\n",
       "      <th>pagan_archaic500000seed2</th>\n",
       "      <td>0.541970</td>\n",
       "      <td>0.511513</td>\n",
       "      <td>0.916949</td>\n",
       "      <td>1.000000</td>\n",
       "      <td>0.907501</td>\n",
       "      <td>0.930288</td>\n",
       "      <td>0.884109</td>\n",
       "      <td>0.888525</td>\n",
       "    </tr>\n",
       "    <tr>\n",
       "      <th>pagan_archaic1000000seed1</th>\n",
       "      <td>0.548594</td>\n",
       "      <td>0.525255</td>\n",
       "      <td>0.924484</td>\n",
       "      <td>0.907501</td>\n",
       "      <td>1.000000</td>\n",
       "      <td>0.938262</td>\n",
       "      <td>0.941730</td>\n",
       "      <td>0.923030</td>\n",
       "    </tr>\n",
       "    <tr>\n",
       "      <th>pagan_archaic1000000seed2</th>\n",
       "      <td>0.553371</td>\n",
       "      <td>0.529047</td>\n",
       "      <td>0.904272</td>\n",
       "      <td>0.930288</td>\n",
       "      <td>0.938262</td>\n",
       "      <td>1.000000</td>\n",
       "      <td>0.926405</td>\n",
       "      <td>0.941613</td>\n",
       "    </tr>\n",
       "    <tr>\n",
       "      <th>pagan_archaic2000000seed1</th>\n",
       "      <td>0.576690</td>\n",
       "      <td>0.554953</td>\n",
       "      <td>0.886130</td>\n",
       "      <td>0.884109</td>\n",
       "      <td>0.941730</td>\n",
       "      <td>0.926405</td>\n",
       "      <td>1.000000</td>\n",
       "      <td>0.933806</td>\n",
       "    </tr>\n",
       "    <tr>\n",
       "      <th>pagan_archaic2000000seed2</th>\n",
       "      <td>0.572524</td>\n",
       "      <td>0.550635</td>\n",
       "      <td>0.864834</td>\n",
       "      <td>0.888525</td>\n",
       "      <td>0.923030</td>\n",
       "      <td>0.941613</td>\n",
       "      <td>0.933806</td>\n",
       "      <td>1.000000</td>\n",
       "    </tr>\n",
       "  </tbody>\n",
       "</table>\n",
       "</div>"
      ]
     },
     "execution_count": 118,
     "metadata": {},
     "output_type": "execute_result"
    }
   ],
   "execution_count": 118
  },
  {
   "metadata": {
    "ExecuteTime": {
     "end_time": "2024-02-15T14:21:03.789029Z",
     "start_time": "2024-02-15T14:15:14.678561Z"
    }
   },
   "cell_type": "code",
   "source": [
    "parameters_list = [\n",
    "    (\"pagan_roman_peak\", None, 1),\n",
    "    (\"pagan_roman_peak\", None, 2),\n",
    "    (\"pagan_roman_peak\", 500000, 1),\n",
    "    (\"pagan_roman_peak\", 500000, 2),\n",
    "    (\"pagan_roman_peak\", 1000000, 1),\n",
    "    (\"pagan_roman_peak\", 1000000, 2),\n",
    "    (\"pagan_roman_peak\", 2000000, 1),\n",
    "    (\"pagan_roman_peak\", 2000000, 2),\n",
    "]\n",
    "vectors_dict = {}\n",
    "for param_tup in parameters_list:\n",
    "    vectors_dict[param_tup[0] + str(param_tup[1]) + \"seed\" + str(param_tup[2])] = from_sub_to_vectors(param_tup[0], param_tup[1], param_tup[2])"
   ],
   "outputs": [],
   "execution_count": 119
  },
  {
   "metadata": {
    "ExecuteTime": {
     "end_time": "2024-02-15T14:21:03.883337Z",
     "start_time": "2024-02-15T14:21:03.790278Z"
    }
   },
   "cell_type": "code",
   "source": [
    "dfs = []\n",
    "for key in vectors_dict.keys():\n",
    "    dfs.append(pd.DataFrame(vectors_dict[key].most_similar(religion_final[0], topn=len(vocab_freqs)), columns=['token', key]).set_index('token'))\n",
    "merged_df = pd.concat(dfs, axis=1)\n",
    "merged_df.corr()"
   ],
   "outputs": [
    {
     "data": {
      "text/plain": [
       "                              pagan_roman_peakNoneseed1  \\\n",
       "pagan_roman_peakNoneseed1                      1.000000   \n",
       "pagan_roman_peakNoneseed2                      0.936376   \n",
       "pagan_roman_peak500000seed1                    0.675780   \n",
       "pagan_roman_peak500000seed2                    0.651585   \n",
       "pagan_roman_peak1000000seed1                   0.739853   \n",
       "pagan_roman_peak1000000seed2                   0.732712   \n",
       "pagan_roman_peak2000000seed1                   0.780782   \n",
       "pagan_roman_peak2000000seed2                   0.774650   \n",
       "\n",
       "                              pagan_roman_peakNoneseed2  \\\n",
       "pagan_roman_peakNoneseed1                      0.936376   \n",
       "pagan_roman_peakNoneseed2                      1.000000   \n",
       "pagan_roman_peak500000seed1                    0.686612   \n",
       "pagan_roman_peak500000seed2                    0.663167   \n",
       "pagan_roman_peak1000000seed1                   0.753521   \n",
       "pagan_roman_peak1000000seed2                   0.745057   \n",
       "pagan_roman_peak2000000seed1                   0.799118   \n",
       "pagan_roman_peak2000000seed2                   0.782118   \n",
       "\n",
       "                              pagan_roman_peak500000seed1  \\\n",
       "pagan_roman_peakNoneseed1                        0.675780   \n",
       "pagan_roman_peakNoneseed2                        0.686612   \n",
       "pagan_roman_peak500000seed1                      1.000000   \n",
       "pagan_roman_peak500000seed2                      0.820208   \n",
       "pagan_roman_peak1000000seed1                     0.885312   \n",
       "pagan_roman_peak1000000seed2                     0.814801   \n",
       "pagan_roman_peak2000000seed1                     0.835262   \n",
       "pagan_roman_peak2000000seed2                     0.797602   \n",
       "\n",
       "                              pagan_roman_peak500000seed2  \\\n",
       "pagan_roman_peakNoneseed1                        0.651585   \n",
       "pagan_roman_peakNoneseed2                        0.663167   \n",
       "pagan_roman_peak500000seed1                      0.820208   \n",
       "pagan_roman_peak500000seed2                      1.000000   \n",
       "pagan_roman_peak1000000seed1                     0.806587   \n",
       "pagan_roman_peak1000000seed2                     0.873460   \n",
       "pagan_roman_peak2000000seed1                     0.798573   \n",
       "pagan_roman_peak2000000seed2                     0.813019   \n",
       "\n",
       "                              pagan_roman_peak1000000seed1  \\\n",
       "pagan_roman_peakNoneseed1                         0.739853   \n",
       "pagan_roman_peakNoneseed2                         0.753521   \n",
       "pagan_roman_peak500000seed1                       0.885312   \n",
       "pagan_roman_peak500000seed2                       0.806587   \n",
       "pagan_roman_peak1000000seed1                      1.000000   \n",
       "pagan_roman_peak1000000seed2                      0.862345   \n",
       "pagan_roman_peak2000000seed1                      0.926832   \n",
       "pagan_roman_peak2000000seed2                      0.868767   \n",
       "\n",
       "                              pagan_roman_peak1000000seed2  \\\n",
       "pagan_roman_peakNoneseed1                         0.732712   \n",
       "pagan_roman_peakNoneseed2                         0.745057   \n",
       "pagan_roman_peak500000seed1                       0.814801   \n",
       "pagan_roman_peak500000seed2                       0.873460   \n",
       "pagan_roman_peak1000000seed1                      0.862345   \n",
       "pagan_roman_peak1000000seed2                      1.000000   \n",
       "pagan_roman_peak2000000seed1                      0.872458   \n",
       "pagan_roman_peak2000000seed2                      0.923317   \n",
       "\n",
       "                              pagan_roman_peak2000000seed1  \\\n",
       "pagan_roman_peakNoneseed1                         0.780782   \n",
       "pagan_roman_peakNoneseed2                         0.799118   \n",
       "pagan_roman_peak500000seed1                       0.835262   \n",
       "pagan_roman_peak500000seed2                       0.798573   \n",
       "pagan_roman_peak1000000seed1                      0.926832   \n",
       "pagan_roman_peak1000000seed2                      0.872458   \n",
       "pagan_roman_peak2000000seed1                      1.000000   \n",
       "pagan_roman_peak2000000seed2                      0.903213   \n",
       "\n",
       "                              pagan_roman_peak2000000seed2  \n",
       "pagan_roman_peakNoneseed1                         0.774650  \n",
       "pagan_roman_peakNoneseed2                         0.782118  \n",
       "pagan_roman_peak500000seed1                       0.797602  \n",
       "pagan_roman_peak500000seed2                       0.813019  \n",
       "pagan_roman_peak1000000seed1                      0.868767  \n",
       "pagan_roman_peak1000000seed2                      0.923317  \n",
       "pagan_roman_peak2000000seed1                      0.903213  \n",
       "pagan_roman_peak2000000seed2                      1.000000  "
      ],
      "text/html": [
       "<div>\n",
       "<style scoped>\n",
       "    .dataframe tbody tr th:only-of-type {\n",
       "        vertical-align: middle;\n",
       "    }\n",
       "\n",
       "    .dataframe tbody tr th {\n",
       "        vertical-align: top;\n",
       "    }\n",
       "\n",
       "    .dataframe thead th {\n",
       "        text-align: right;\n",
       "    }\n",
       "</style>\n",
       "<table border=\"1\" class=\"dataframe\">\n",
       "  <thead>\n",
       "    <tr style=\"text-align: right;\">\n",
       "      <th></th>\n",
       "      <th>pagan_roman_peakNoneseed1</th>\n",
       "      <th>pagan_roman_peakNoneseed2</th>\n",
       "      <th>pagan_roman_peak500000seed1</th>\n",
       "      <th>pagan_roman_peak500000seed2</th>\n",
       "      <th>pagan_roman_peak1000000seed1</th>\n",
       "      <th>pagan_roman_peak1000000seed2</th>\n",
       "      <th>pagan_roman_peak2000000seed1</th>\n",
       "      <th>pagan_roman_peak2000000seed2</th>\n",
       "    </tr>\n",
       "  </thead>\n",
       "  <tbody>\n",
       "    <tr>\n",
       "      <th>pagan_roman_peakNoneseed1</th>\n",
       "      <td>1.000000</td>\n",
       "      <td>0.936376</td>\n",
       "      <td>0.675780</td>\n",
       "      <td>0.651585</td>\n",
       "      <td>0.739853</td>\n",
       "      <td>0.732712</td>\n",
       "      <td>0.780782</td>\n",
       "      <td>0.774650</td>\n",
       "    </tr>\n",
       "    <tr>\n",
       "      <th>pagan_roman_peakNoneseed2</th>\n",
       "      <td>0.936376</td>\n",
       "      <td>1.000000</td>\n",
       "      <td>0.686612</td>\n",
       "      <td>0.663167</td>\n",
       "      <td>0.753521</td>\n",
       "      <td>0.745057</td>\n",
       "      <td>0.799118</td>\n",
       "      <td>0.782118</td>\n",
       "    </tr>\n",
       "    <tr>\n",
       "      <th>pagan_roman_peak500000seed1</th>\n",
       "      <td>0.675780</td>\n",
       "      <td>0.686612</td>\n",
       "      <td>1.000000</td>\n",
       "      <td>0.820208</td>\n",
       "      <td>0.885312</td>\n",
       "      <td>0.814801</td>\n",
       "      <td>0.835262</td>\n",
       "      <td>0.797602</td>\n",
       "    </tr>\n",
       "    <tr>\n",
       "      <th>pagan_roman_peak500000seed2</th>\n",
       "      <td>0.651585</td>\n",
       "      <td>0.663167</td>\n",
       "      <td>0.820208</td>\n",
       "      <td>1.000000</td>\n",
       "      <td>0.806587</td>\n",
       "      <td>0.873460</td>\n",
       "      <td>0.798573</td>\n",
       "      <td>0.813019</td>\n",
       "    </tr>\n",
       "    <tr>\n",
       "      <th>pagan_roman_peak1000000seed1</th>\n",
       "      <td>0.739853</td>\n",
       "      <td>0.753521</td>\n",
       "      <td>0.885312</td>\n",
       "      <td>0.806587</td>\n",
       "      <td>1.000000</td>\n",
       "      <td>0.862345</td>\n",
       "      <td>0.926832</td>\n",
       "      <td>0.868767</td>\n",
       "    </tr>\n",
       "    <tr>\n",
       "      <th>pagan_roman_peak1000000seed2</th>\n",
       "      <td>0.732712</td>\n",
       "      <td>0.745057</td>\n",
       "      <td>0.814801</td>\n",
       "      <td>0.873460</td>\n",
       "      <td>0.862345</td>\n",
       "      <td>1.000000</td>\n",
       "      <td>0.872458</td>\n",
       "      <td>0.923317</td>\n",
       "    </tr>\n",
       "    <tr>\n",
       "      <th>pagan_roman_peak2000000seed1</th>\n",
       "      <td>0.780782</td>\n",
       "      <td>0.799118</td>\n",
       "      <td>0.835262</td>\n",
       "      <td>0.798573</td>\n",
       "      <td>0.926832</td>\n",
       "      <td>0.872458</td>\n",
       "      <td>1.000000</td>\n",
       "      <td>0.903213</td>\n",
       "    </tr>\n",
       "    <tr>\n",
       "      <th>pagan_roman_peak2000000seed2</th>\n",
       "      <td>0.774650</td>\n",
       "      <td>0.782118</td>\n",
       "      <td>0.797602</td>\n",
       "      <td>0.813019</td>\n",
       "      <td>0.868767</td>\n",
       "      <td>0.923317</td>\n",
       "      <td>0.903213</td>\n",
       "      <td>1.000000</td>\n",
       "    </tr>\n",
       "  </tbody>\n",
       "</table>\n",
       "</div>"
      ]
     },
     "execution_count": 120,
     "metadata": {},
     "output_type": "execute_result"
    }
   ],
   "execution_count": 120
  },
  {
   "metadata": {
    "ExecuteTime": {
     "end_time": "2024-02-15T14:21:03.916545Z",
     "start_time": "2024-02-15T14:21:03.893261Z"
    }
   },
   "cell_type": "code",
   "source": [
    "vectors_matrices_list = [vectors_dict[key].vectors for key in vectors_dict.keys()]\n",
    "for matrix in vectors_matrices_list:\n",
    "    print(matrix.shape)"
   ],
   "outputs": [
    {
     "name": "stdout",
     "output_type": "stream",
     "text": [
      "(5180, 100)\n",
      "(5180, 100)\n",
      "(5180, 100)\n",
      "(5180, 100)\n",
      "(5180, 100)\n",
      "(5180, 100)\n",
      "(5180, 100)\n",
      "(5180, 100)\n"
     ]
    }
   ],
   "execution_count": 121
  },
  {
   "metadata": {
    "ExecuteTime": {
     "end_time": "2024-02-15T14:21:07.959795Z",
     "start_time": "2024-02-15T14:21:03.919524Z"
    }
   },
   "cell_type": "code",
   "source": [
    "word_embedding_similarity_matrix_list = calculate_square_similarity_matrices(vectors_matrices_list)\n",
    "final_comparison_matrix = compare_similarity_matrices(word_embedding_similarity_matrix_list)\n",
    "w2v_par_comparison_roman_pagan_peak_df = pd.DataFrame(final_comparison_matrix, columns=vectors_dict.keys(), index=vectors_dict.keys())\n",
    "w2v_par_comparison_roman_pagan_peak_df"
   ],
   "outputs": [
    {
     "data": {
      "text/plain": [
       "                              pagan_roman_peakNoneseed1  \\\n",
       "pagan_roman_peakNoneseed1                      0.999185   \n",
       "pagan_roman_peakNoneseed2                      0.950109   \n",
       "pagan_roman_peak500000seed1                    0.506866   \n",
       "pagan_roman_peak500000seed2                    0.505264   \n",
       "pagan_roman_peak1000000seed1                   0.694576   \n",
       "pagan_roman_peak1000000seed2                   0.697209   \n",
       "pagan_roman_peak2000000seed1                   0.793288   \n",
       "pagan_roman_peak2000000seed2                   0.794099   \n",
       "\n",
       "                              pagan_roman_peakNoneseed2  \\\n",
       "pagan_roman_peakNoneseed1                      0.950109   \n",
       "pagan_roman_peakNoneseed2                      0.999192   \n",
       "pagan_roman_peak500000seed1                    0.506733   \n",
       "pagan_roman_peak500000seed2                    0.504541   \n",
       "pagan_roman_peak1000000seed1                   0.694664   \n",
       "pagan_roman_peak1000000seed2                   0.696734   \n",
       "pagan_roman_peak2000000seed1                   0.793563   \n",
       "pagan_roman_peak2000000seed2                   0.793899   \n",
       "\n",
       "                              pagan_roman_peak500000seed1  \\\n",
       "pagan_roman_peakNoneseed1                        0.506866   \n",
       "pagan_roman_peakNoneseed2                        0.506733   \n",
       "pagan_roman_peak500000seed1                      0.999493   \n",
       "pagan_roman_peak500000seed2                      0.931827   \n",
       "pagan_roman_peak1000000seed1                     0.889826   \n",
       "pagan_roman_peak1000000seed2                     0.858504   \n",
       "pagan_roman_peak2000000seed1                     0.756095   \n",
       "pagan_roman_peak2000000seed2                     0.740701   \n",
       "\n",
       "                              pagan_roman_peak500000seed2  \\\n",
       "pagan_roman_peakNoneseed1                        0.505264   \n",
       "pagan_roman_peakNoneseed2                        0.504541   \n",
       "pagan_roman_peak500000seed1                      0.931827   \n",
       "pagan_roman_peak500000seed2                      0.999463   \n",
       "pagan_roman_peak1000000seed1                     0.853581   \n",
       "pagan_roman_peak1000000seed2                     0.885075   \n",
       "pagan_roman_peak2000000seed1                     0.741533   \n",
       "pagan_roman_peak2000000seed2                     0.752219   \n",
       "\n",
       "                              pagan_roman_peak1000000seed1  \\\n",
       "pagan_roman_peakNoneseed1                         0.694576   \n",
       "pagan_roman_peakNoneseed2                         0.694664   \n",
       "pagan_roman_peak500000seed1                       0.889826   \n",
       "pagan_roman_peak500000seed2                       0.853581   \n",
       "pagan_roman_peak1000000seed1                      0.999392   \n",
       "pagan_roman_peak1000000seed2                      0.931247   \n",
       "pagan_roman_peak2000000seed1                      0.926740   \n",
       "pagan_roman_peak2000000seed2                      0.894031   \n",
       "\n",
       "                              pagan_roman_peak1000000seed2  \\\n",
       "pagan_roman_peakNoneseed1                         0.697209   \n",
       "pagan_roman_peakNoneseed2                         0.696734   \n",
       "pagan_roman_peak500000seed1                       0.858504   \n",
       "pagan_roman_peak500000seed2                       0.885075   \n",
       "pagan_roman_peak1000000seed1                      0.931247   \n",
       "pagan_roman_peak1000000seed2                      0.999388   \n",
       "pagan_roman_peak2000000seed1                      0.899223   \n",
       "pagan_roman_peak2000000seed2                      0.927881   \n",
       "\n",
       "                              pagan_roman_peak2000000seed1  \\\n",
       "pagan_roman_peakNoneseed1                         0.793288   \n",
       "pagan_roman_peakNoneseed2                         0.793563   \n",
       "pagan_roman_peak500000seed1                       0.756095   \n",
       "pagan_roman_peak500000seed2                       0.741533   \n",
       "pagan_roman_peak1000000seed1                      0.926740   \n",
       "pagan_roman_peak1000000seed2                      0.899223   \n",
       "pagan_roman_peak2000000seed1                      0.999303   \n",
       "pagan_roman_peak2000000seed2                      0.935903   \n",
       "\n",
       "                              pagan_roman_peak2000000seed2  \n",
       "pagan_roman_peakNoneseed1                         0.794099  \n",
       "pagan_roman_peakNoneseed2                         0.793899  \n",
       "pagan_roman_peak500000seed1                       0.740701  \n",
       "pagan_roman_peak500000seed2                       0.752219  \n",
       "pagan_roman_peak1000000seed1                      0.894031  \n",
       "pagan_roman_peak1000000seed2                      0.927881  \n",
       "pagan_roman_peak2000000seed1                      0.935903  \n",
       "pagan_roman_peak2000000seed2                      0.999291  "
      ],
      "text/html": [
       "<div>\n",
       "<style scoped>\n",
       "    .dataframe tbody tr th:only-of-type {\n",
       "        vertical-align: middle;\n",
       "    }\n",
       "\n",
       "    .dataframe tbody tr th {\n",
       "        vertical-align: top;\n",
       "    }\n",
       "\n",
       "    .dataframe thead th {\n",
       "        text-align: right;\n",
       "    }\n",
       "</style>\n",
       "<table border=\"1\" class=\"dataframe\">\n",
       "  <thead>\n",
       "    <tr style=\"text-align: right;\">\n",
       "      <th></th>\n",
       "      <th>pagan_roman_peakNoneseed1</th>\n",
       "      <th>pagan_roman_peakNoneseed2</th>\n",
       "      <th>pagan_roman_peak500000seed1</th>\n",
       "      <th>pagan_roman_peak500000seed2</th>\n",
       "      <th>pagan_roman_peak1000000seed1</th>\n",
       "      <th>pagan_roman_peak1000000seed2</th>\n",
       "      <th>pagan_roman_peak2000000seed1</th>\n",
       "      <th>pagan_roman_peak2000000seed2</th>\n",
       "    </tr>\n",
       "  </thead>\n",
       "  <tbody>\n",
       "    <tr>\n",
       "      <th>pagan_roman_peakNoneseed1</th>\n",
       "      <td>0.999185</td>\n",
       "      <td>0.950109</td>\n",
       "      <td>0.506866</td>\n",
       "      <td>0.505264</td>\n",
       "      <td>0.694576</td>\n",
       "      <td>0.697209</td>\n",
       "      <td>0.793288</td>\n",
       "      <td>0.794099</td>\n",
       "    </tr>\n",
       "    <tr>\n",
       "      <th>pagan_roman_peakNoneseed2</th>\n",
       "      <td>0.950109</td>\n",
       "      <td>0.999192</td>\n",
       "      <td>0.506733</td>\n",
       "      <td>0.504541</td>\n",
       "      <td>0.694664</td>\n",
       "      <td>0.696734</td>\n",
       "      <td>0.793563</td>\n",
       "      <td>0.793899</td>\n",
       "    </tr>\n",
       "    <tr>\n",
       "      <th>pagan_roman_peak500000seed1</th>\n",
       "      <td>0.506866</td>\n",
       "      <td>0.506733</td>\n",
       "      <td>0.999493</td>\n",
       "      <td>0.931827</td>\n",
       "      <td>0.889826</td>\n",
       "      <td>0.858504</td>\n",
       "      <td>0.756095</td>\n",
       "      <td>0.740701</td>\n",
       "    </tr>\n",
       "    <tr>\n",
       "      <th>pagan_roman_peak500000seed2</th>\n",
       "      <td>0.505264</td>\n",
       "      <td>0.504541</td>\n",
       "      <td>0.931827</td>\n",
       "      <td>0.999463</td>\n",
       "      <td>0.853581</td>\n",
       "      <td>0.885075</td>\n",
       "      <td>0.741533</td>\n",
       "      <td>0.752219</td>\n",
       "    </tr>\n",
       "    <tr>\n",
       "      <th>pagan_roman_peak1000000seed1</th>\n",
       "      <td>0.694576</td>\n",
       "      <td>0.694664</td>\n",
       "      <td>0.889826</td>\n",
       "      <td>0.853581</td>\n",
       "      <td>0.999392</td>\n",
       "      <td>0.931247</td>\n",
       "      <td>0.926740</td>\n",
       "      <td>0.894031</td>\n",
       "    </tr>\n",
       "    <tr>\n",
       "      <th>pagan_roman_peak1000000seed2</th>\n",
       "      <td>0.697209</td>\n",
       "      <td>0.696734</td>\n",
       "      <td>0.858504</td>\n",
       "      <td>0.885075</td>\n",
       "      <td>0.931247</td>\n",
       "      <td>0.999388</td>\n",
       "      <td>0.899223</td>\n",
       "      <td>0.927881</td>\n",
       "    </tr>\n",
       "    <tr>\n",
       "      <th>pagan_roman_peak2000000seed1</th>\n",
       "      <td>0.793288</td>\n",
       "      <td>0.793563</td>\n",
       "      <td>0.756095</td>\n",
       "      <td>0.741533</td>\n",
       "      <td>0.926740</td>\n",
       "      <td>0.899223</td>\n",
       "      <td>0.999303</td>\n",
       "      <td>0.935903</td>\n",
       "    </tr>\n",
       "    <tr>\n",
       "      <th>pagan_roman_peak2000000seed2</th>\n",
       "      <td>0.794099</td>\n",
       "      <td>0.793899</td>\n",
       "      <td>0.740701</td>\n",
       "      <td>0.752219</td>\n",
       "      <td>0.894031</td>\n",
       "      <td>0.927881</td>\n",
       "      <td>0.935903</td>\n",
       "      <td>0.999291</td>\n",
       "    </tr>\n",
       "  </tbody>\n",
       "</table>\n",
       "</div>"
      ]
     },
     "execution_count": 122,
     "metadata": {},
     "output_type": "execute_result"
    }
   ],
   "execution_count": 122
  },
  {
   "metadata": {
    "ExecuteTime": {
     "end_time": "2024-02-15T14:21:38.748463Z",
     "start_time": "2024-02-15T14:21:38.744683Z"
    }
   },
   "cell_type": "code",
   "source": "w2v_par_comparison_roman_pagan_peak_df.to_csv(\"../data/w2v_par_comparison_roman_pagan_peak.csv\", index=False)",
   "outputs": [],
   "execution_count": 123
  },
  {
   "metadata": {},
   "cell_type": "markdown",
   "source": "# Training the full models"
  },
  {
   "cell_type": "code",
   "source": [
    "ids_lines = pickle.load(open(\"../data/ids_lines_wide.pickle\", \"rb\"))\n",
    "\n",
    "vectors_full_dict = {}\n",
    "for sub in subcorpora_ids_dict.keys():\n",
    "    print(\"generating model for \" + sub)\n",
    "    vectors_full_dict[sub] = from_sub_to_vectors(sub, None, 1)\n",
    "    print(sub + \" model ready\")"
   ],
   "metadata": {
    "collapsed": false,
    "ExecuteTime": {
     "end_time": "2024-02-13T22:57:44.389695Z",
     "start_time": "2024-02-13T22:54:19.738611Z"
    }
   },
   "outputs": [
    {
     "name": "stdout",
     "output_type": "stream",
     "text": [
      "generating model for pagan_archaic\n",
      "pagan_archaic model ready\n",
      "generating model for pagan_classical\n",
      "pagan_classical model ready\n",
      "generating model for pagan_hellenistic\n",
      "pagan_hellenistic model ready\n",
      "generating model for pagan_roman_peak\n",
      "pagan_roman_peak model ready\n",
      "generating model for pagan_roman_late\n",
      "pagan_roman_late model ready\n",
      "generating model for christian_roman_peak\n",
      "christian_roman_peak model ready\n",
      "generating model for christian_roman_late\n",
      "christian_roman_late model ready\n",
      "generating model for jewish\n",
      "jewish model ready\n"
     ]
    }
   ],
   "execution_count": 42
  },
  {
   "metadata": {
    "ExecuteTime": {
     "end_time": "2024-02-13T11:38:17.034647Z",
     "start_time": "2024-02-13T11:38:16.972057Z"
    }
   },
   "cell_type": "code",
   "source": [
    "for key in vectors_full_dict.keys():\n",
    "    print(key, vectors_full_dict[key].most_similar(religion_final[0]))"
   ],
   "outputs": [
    {
     "name": "stdout",
     "output_type": "stream",
     "text": [
      "pagan_archaic [('ἀγήραος', 0.6705738306045532), ('θνητός', 0.5867362022399902), ('τελευτάω', 0.574408233165741), ('φάσκω', 0.571843147277832), ('ἀθάνατος', 0.5616358518600464), ('ὅρκος', 0.5421302914619446), ('βροτός', 0.5359242558479309), ('ἕδος', 0.5346282124519348), ('εὐνάω', 0.5322130918502808), ('στυγέω', 0.5313319563865662)]\n",
      "pagan_classical [('δαίμων', 0.5859773755073547), ('εὐσεβής', 0.551023006439209), ('Ἀπόλλων', 0.5408515334129333), ('τελετή', 0.5009570717811584), ('δαιμόνιον', 0.4783174693584442), ('θυσία', 0.47501036524772644), ('εὐχή', 0.47273126244544983), ('θεά', 0.4726860523223877), ('θεῖος', 0.4662834107875824), ('σωτήρ', 0.46541956067085266)]\n",
      "pagan_hellenistic [('θεῖος', 0.5941888093948364), ('Ζεύς', 0.5695279836654663), ('μυστήριον', 0.5550289154052734), ('τελετή', 0.5343388915061951), ('ἀθάνατος', 0.5151388049125671), ('θυσία', 0.4791301488876343), ('θεά', 0.47766241431236267), ('δαίμων', 0.4642082154750824), ('ἀθανασία', 0.4511449933052063), ('δαιμόνιον', 0.4457128345966339)]\n",
      "pagan_roman_peak [('Ζεύς', 0.6153551936149597), ('θεῖος', 0.5799469351768494), ('ἰσόθεος', 0.5751028060913086), ('Ἀπόλλων', 0.5574658513069153), ('ἱερουργία', 0.5513836741447449), ('θεοφιλής', 0.5459983944892883), ('δαίμων', 0.533464789390564), ('προφήτης', 0.5283328294754028), ('σέβω', 0.5265998244285583), ('ὅσιος', 0.5252082347869873)]\n",
      "pagan_roman_late [('Ἰησοῦς', 0.5715429782867432), ('εὐχή', 0.5605950951576233), ('Ζεύς', 0.5445995926856995), ('θυσία', 0.5382317900657654), ('θεῖον', 0.5338684916496277), ('σωτήρ', 0.5152668356895447), ('Ἀπόλλων', 0.513382077217102), ('Ἀφροδίτη', 0.5127779841423035), ('θεῖος', 0.5019826889038086), ('δαίμων', 0.4960261583328247)]\n",
      "christian_roman_peak [('Θεός', 0.6356110572814941), ('πατήρ', 0.5577906966209412), ('μονογενής', 0.5416107177734375), ('παντοκράτωρ', 0.5086255669593811), ('Πατήρ', 0.5079283118247986), ('δημιουργός', 0.4984053075313568), ('κύριος', 0.4899187684059143), ('Παντοκράτωρ', 0.48793867230415344), ('πατρικός', 0.466957151889801), ('ὕψιστος', 0.4592559337615967)]\n",
      "christian_roman_late [('Θεός', 0.6663175225257874), ('πατήρ', 0.6330392360687256), ('πατρικός', 0.5307363867759705), ('κύριος', 0.5292618870735168), ('δημιουργός', 0.5030083060264587), ('μονογενής', 0.47904035449028015), ('ὕψιστος', 0.4726378321647644), ('κτίζω', 0.45895832777023315), ('υἱός', 0.45685991644859314), ('κτιστός', 0.4562627375125885)]\n",
      "jewish [('κύριος', 0.5005781054496765), ('θεῖος', 0.48309874534606934), ('θεῖον', 0.47170305252075195), ('εὐλογητός', 0.46699297428131104), ('εὔχομαι', 0.4551601707935333), ('ψάλλω', 0.45498937368392944), ('Μωυσῆς', 0.44789302349090576), ('παντοκράτωρ', 0.4472748041152954), ('σωτήριον', 0.4286291301250458), ('ὕψιστος', 0.42669692635536194)]\n"
     ]
    }
   ],
   "execution_count": 140
  },
  {
   "cell_type": "code",
   "source": [
    "with open(\"../data/large_data/vectors_full_dict.pickle\", \"wb\") as f:\n",
    "    pickle.dump(vectors_full_dict, f)"
   ],
   "metadata": {
    "collapsed": false,
    "ExecuteTime": {
     "end_time": "2024-02-13T11:47:44.128350Z",
     "start_time": "2024-02-13T11:47:44.097347Z"
    }
   },
   "outputs": [],
   "execution_count": 141
  },
  {
   "metadata": {},
   "cell_type": "markdown",
   "source": "# Training the model based on samples"
  },
  {
   "cell_type": "code",
   "source": [
    "\n",
    "vectors_sample2m_dict = {}\n",
    "for sub in subcorpora_ids_dict.keys():\n",
    "    print(\"generating model for \" + sub)\n",
    "    vectors_sample2m_dict[sub] = from_sub_to_vectors(sub, 2000000, 1)\n",
    "    print(sub + \" model ready\")"
   ],
   "metadata": {
    "collapsed": false,
    "ExecuteTime": {
     "end_time": "2024-02-15T13:50:39.016443Z",
     "start_time": "2024-02-15T13:43:39.301640Z"
    }
   },
   "outputs": [
    {
     "name": "stdout",
     "output_type": "stream",
     "text": [
      "generating model for pagan_archaic\n",
      "pagan_archaic model ready\n",
      "generating model for pagan_classical\n",
      "pagan_classical model ready\n",
      "generating model for pagan_hellenistic\n",
      "pagan_hellenistic model ready\n",
      "generating model for pagan_roman_peak\n",
      "pagan_roman_peak model ready\n",
      "generating model for pagan_roman_late\n",
      "pagan_roman_late model ready\n",
      "generating model for christian_roman_peak\n",
      "christian_roman_peak model ready\n",
      "generating model for christian_roman_late\n",
      "christian_roman_late model ready\n",
      "generating model for jewish\n",
      "jewish model ready\n"
     ]
    }
   ],
   "execution_count": 96
  },
  {
   "cell_type": "code",
   "source": [
    "with open(\"../data/large_data/vectors_sample2m_dict.pickle\", \"wb\") as f:\n",
    "    pickle.dump(vectors_sample2m_dict, f)"
   ],
   "metadata": {
    "collapsed": false,
    "ExecuteTime": {
     "end_time": "2024-02-15T13:50:39.049913Z",
     "start_time": "2024-02-15T13:50:39.018259Z"
    }
   },
   "outputs": [],
   "execution_count": 97
  },
  {
   "cell_type": "code",
   "source": [
    "vectors_sample1m_dict = {}\n",
    "for sub in subcorpora_ids_dict.keys():\n",
    "    print(\"generating model for \" + sub)\n",
    "    vectors_sample1m_dict[sub] = from_sub_to_vectors(sub, 1000000, 1)\n",
    "    print(sub + \" model ready\")"
   ],
   "metadata": {
    "collapsed": false,
    "ExecuteTime": {
     "end_time": "2024-02-15T13:38:29.494439Z",
     "start_time": "2024-02-15T13:34:07.043326Z"
    }
   },
   "outputs": [
    {
     "name": "stdout",
     "output_type": "stream",
     "text": [
      "generating model for pagan_archaic\n",
      "pagan_archaic model ready\n",
      "generating model for pagan_classical\n",
      "pagan_classical model ready\n",
      "generating model for pagan_hellenistic\n",
      "pagan_hellenistic model ready\n",
      "generating model for pagan_roman_peak\n",
      "pagan_roman_peak model ready\n",
      "generating model for pagan_roman_late\n",
      "pagan_roman_late model ready\n",
      "generating model for christian_roman_peak\n",
      "christian_roman_peak model ready\n",
      "generating model for christian_roman_late\n",
      "christian_roman_late model ready\n",
      "generating model for jewish\n",
      "jewish model ready\n"
     ]
    }
   ],
   "execution_count": 93
  },
  {
   "metadata": {
    "ExecuteTime": {
     "end_time": "2024-02-15T13:43:29.184010Z",
     "start_time": "2024-02-15T13:43:29.148474Z"
    }
   },
   "cell_type": "code",
   "source": [
    "with open(\"../data/large_data/vectors_sample1m_dict.pickle\", \"wb\") as f:\n",
    "    pickle.dump(vectors_sample1m_dict, f)"
   ],
   "outputs": [],
   "execution_count": 95
  },
  {
   "metadata": {},
   "cell_type": "code",
   "outputs": [],
   "execution_count": null,
   "source": ""
  }
 ],
 "metadata": {
  "kernelspec": {
   "name": "python3",
   "language": "python",
   "display_name": "Python 3 (ipykernel)"
  },
  "language_info": {
   "codemirror_mode": {
    "name": "ipython",
    "version": 2
   },
   "file_extension": ".py",
   "mimetype": "text/x-python",
   "name": "python",
   "nbconvert_exporter": "python",
   "pygments_lexer": "ipython2",
   "version": "2.7.6"
  }
 },
 "nbformat": 4,
 "nbformat_minor": 0
}
