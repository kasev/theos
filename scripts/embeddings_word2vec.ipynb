{
 "cells": [
  {
   "cell_type": "code",
   "execution_count": 4,
   "metadata": {
    "collapsed": true
   },
   "outputs": [],
   "source": [
    "import numpy as np\n",
    "import pandas as pd\n",
    "import os\n",
    "import requests\n",
    "import re\n",
    "import nltk\n",
    "from sklearn.feature_extraction.text import CountVectorizer\n",
    "from sklearn.decomposition import TruncatedSVD\n",
    "from sklearn.metrics.pairwise import cosine_similarity\n",
    "import pickle\n",
    "from cltk.stops.grc import STOPS as stopwords\n",
    "from gensim.corpora import Dictionary\n",
    "import unicodedata\n",
    "import json"
   ]
  },
  {
   "cell_type": "code",
   "execution_count": 3,
   "outputs": [
    {
     "name": "stdout",
     "output_type": "stream",
     "text": [
      "['/Users/kasev/Projects/LAGT/data/large_files/LAGT_v2-0.json']\n"
     ]
    }
   ],
   "source": [
    "# find local version of the input dataset\n",
    "local_paths = !find ~/Projects -name \"LAGT_v2-0.json\"\n",
    "print(local_paths)"
   ],
   "metadata": {
    "collapsed": false
   }
  },
  {
   "cell_type": "code",
   "execution_count": 84,
   "outputs": [],
   "source": [
    "os.mkdir(\"../data/large_data/\")"
   ],
   "metadata": {
    "collapsed": false
   }
  },
  {
   "cell_type": "code",
   "execution_count": 5,
   "outputs": [],
   "source": [
    "# load LAGT (v2.0) dataset locally or download it directly from Zenodo\n",
    "try:\n",
    "    LAGT = pd.read_json(local_paths[0])\n",
    "except:\n",
    "    resp = requests.get(\"https://zenodo.org/record/7221150/files/LAGT_v2-0.json?download=1\")\n",
    "    # save it for next time\n",
    "    LAGT = pd.DataFrame(resp.json())\n",
    "    LAGT.to_json(\"../data/large_data/LIRE_v2-0.json\")"
   ],
   "metadata": {
    "collapsed": false
   }
  },
  {
   "cell_type": "markdown",
   "source": [
    "# additional cleaning"
   ],
   "metadata": {
    "collapsed": false
   }
  },
  {
   "cell_type": "code",
   "execution_count": 10,
   "outputs": [],
   "source": [
    "# remove one-letter words...\n",
    "LAGT[\"lemmatized_sentences\"] = LAGT[\"lemmatized_sentences\"].apply(lambda x: [[w for w in s if len(w) > 1] for s in x])\n"
   ],
   "metadata": {
    "collapsed": false
   }
  },
  {
   "cell_type": "code",
   "execution_count": 11,
   "outputs": [],
   "source": [
    "LAGT_metadata = pd.read_csv(\"../data/LAGT_metadata.csv\")\n",
    "provenience_dict = dict(zip(LAGT_metadata[\"filename\"],  LAGT_metadata[\"provenience\"]))\n",
    "author_dict = dict(zip(LAGT_metadata[\"author_id\"],  LAGT_metadata[\"author\"]))\n",
    "LAGT[\"provenience\"] = LAGT[\"filename\"].apply(lambda x: provenience_dict[x])"
   ],
   "metadata": {
    "collapsed": false
   }
  },
  {
   "cell_type": "code",
   "execution_count": 79,
   "outputs": [
    {
     "data": {
      "text/plain": "                              filename  \\\n753      tlg0092.tlg001.1st1K-grc1.xml   \n845        tlg0527.tlg001.opp-grc2.xml   \n846        tlg0527.tlg002.opp-grc2.xml   \n847        tlg0527.tlg003.opp-grc2.xml   \n848        tlg0527.tlg004.opp-grc2.xml   \n...                                ...   \n1475   tlg5026.tlg007.First1K-grc1.xml   \n1476  tlg5034.tlg001d.perseus-grc1.xml   \n1477     tlg5037.tlg004.1st1K-grc1.xml   \n1478   tlg7000.tlg001.perseus-grc5.xml   \n1479       tlg9004.tlg001.opp-grc1.xml   \n\n                                                 author  \\\n753                                           Anonymous   \n845                                         Septuaginta   \n846                                         Septuaginta   \n847                                         Septuaginta   \n848                                         Septuaginta   \n...                                                 ...   \n1475                                 Scholia in Homerum   \n1476                                     Pindar Scholia   \n1477                               Scholia in Sophoclem   \n1478                                               None   \n1479  Anonymi In Aristotelis Librum Alterum Analytic...   \n\n                                                  title  wordcount author_id  \\\n753                  Geographiae expositio compendiaria       4428   tlg0092   \n845                                             Genesis      41465   tlg0527   \n846                                              Exodus      33068   tlg0527   \n847                                           Leviticus      24834   tlg0527   \n848                                              Numeri      32418   tlg0527   \n...                                                 ...        ...       ...   \n1475                                Scholia in Odysseam     205760   tlg5026   \n1476                  Scholia in Pindarum Isthmian Odes      18142   tlg5034   \n1477              Scholia in Sophoclem (scholia vetera)      80736   tlg5037   \n1478                          Greek Anthology, Volume V      20222   tlg7000   \n1479  Anonymi in analyticorum posteriorum librum alt...      21649   tlg9004   \n\n              doc_id  raw_date  date_avr date_probs  date_manual provenience  \\\n753   tlg0092.tlg001  Incertum       NaN         {}          NaN         NaN   \n845   tlg0527.tlg001     Varia       NaN         {}          NaN      jewish   \n846   tlg0527.tlg002     Varia       NaN         {}          NaN      jewish   \n847   tlg0527.tlg003     Varia       NaN         {}          NaN      jewish   \n848   tlg0527.tlg004     Varia       NaN         {}          NaN      jewish   \n...              ...       ...       ...        ...          ...         ...   \n1475  tlg5026.tlg007     Varia       NaN         {}          NaN       pagan   \n1476  tlg5034.tlg001     Varia       NaN         {}         -4.5       pagan   \n1477  tlg5037.tlg004     Varia       NaN         {}          NaN       pagan   \n1478  tlg7000.tlg001     Varia       NaN         {}          NaN       pagan   \n1479  tlg9004.tlg001  Incertum       NaN         {}          NaN         NaN   \n\n     tlg_epithet                                       clean_string  \\\n753           []  . Ἡ τῆς ὅλης γῆς περίμετρος σταδίων ,κα μυριάδ...   \n845           []  ΕΝ ἐποίησεν ὁ θεὸς τὸν οὐρανὸν καὶ τὴν γῆν. ἡ ...   \n846           []  ταῦτα τὰ ὀνόματα τῶν υἱῶν Ἰσραὴλ τῶν εἰσπεπορε...   \n847           []   ἀνεκάλεσεν Μωυσῆν καὶ ἐλάλησεν Κύριος αὐτῷ ἐκ...   \n848           []   ἐλάλησεν κύριος πρὸς Μωυσῆν ἐν τῇ ἐρήμῳ τῇ Σε...   \n...          ...                                                ...   \n1475          []  Α. ΘΕΩΝ ἀγορά. Ἀθηνᾶς παραίνεσις πρὸς Τηλέμαχο...   \n1476          []   . Ἐτελοῦντο μὲν οἱ παλαιοὶ πάντες ἀγῶνες ἐπί ...   \n1477          []  πάρεστιν Ὀδυσσεὺς ἐπὶ τὴν σκηνὴν ἀγωνιῶν καὶ ....   \n1478          []  Ἰίαίρβ θεὰ Παφίη· σὴν γὰ̆ ἀεὶ δύναμιν κάλλος τ...   \n1479          []  . Τὰ ζητούμενά ἐστιν ἴσα τὸν ἀριθμὸν ὅσαπερ ἐπ...   \n\n      n_sentences                               lemmatized_sentences  GLAUx?  \\\n753           277  [[], [ὅλος, γῆ, περίμετρος, στάδιον, μυριάς, π...   False   \n845          3257  [[εἰμί, ποιέω, θεός, οὐρανός, γῆ], [γῆ, εἰμί, ...   False   \n846          2227  [[ὄνομα, υἱός, Ἰσραήλ, εἰσπεπορευμένων, Αἴγυπτ...   False   \n847          1370  [[ἀνακαλέω, μωυσῆν, λαλέω, κύριος, σκηνή, μαρτ...   False   \n848          2089  [[λαλέω, κύριος, μωυσῆν, ἔρημος, σεινά, εἰμί, ...   False   \n...           ...                                                ...     ...   \n1475        49661  [[], [θεός, ἀγορά], [Ἀθήνη, παραίνεσις, τηλεμά...   False   \n1476         2265  [[], [τελέω, παλαιός, ἀγών, τετελευτηκόσιν], [...   False   \n1477        12324  [[πάρειμι, Ὀδυσσεύς, σκηνή, ἀγωνιάω], [πολυπρά...   False   \n1478         1971  [[ἰίαίρβ, θεά, Πάφος], [σός, δύναμις, κάλλος, ...   False   \n1479         2414  [[], [ζητούμενά, ἴσος, ἀριθμός, ὅσος, ἐπίσταμα...   False   \n\n     subcorpus  \n753       None  \n845     jewish  \n846     jewish  \n847     jewish  \n848     jewish  \n...        ...  \n1475      None  \n1476      None  \n1477      None  \n1478      None  \n1479      None  \n\n[98 rows x 17 columns]",
      "text/html": "<div>\n<style scoped>\n    .dataframe tbody tr th:only-of-type {\n        vertical-align: middle;\n    }\n\n    .dataframe tbody tr th {\n        vertical-align: top;\n    }\n\n    .dataframe thead th {\n        text-align: right;\n    }\n</style>\n<table border=\"1\" class=\"dataframe\">\n  <thead>\n    <tr style=\"text-align: right;\">\n      <th></th>\n      <th>filename</th>\n      <th>author</th>\n      <th>title</th>\n      <th>wordcount</th>\n      <th>author_id</th>\n      <th>doc_id</th>\n      <th>raw_date</th>\n      <th>date_avr</th>\n      <th>date_probs</th>\n      <th>date_manual</th>\n      <th>provenience</th>\n      <th>tlg_epithet</th>\n      <th>clean_string</th>\n      <th>n_sentences</th>\n      <th>lemmatized_sentences</th>\n      <th>GLAUx?</th>\n      <th>subcorpus</th>\n    </tr>\n  </thead>\n  <tbody>\n    <tr>\n      <th>753</th>\n      <td>tlg0092.tlg001.1st1K-grc1.xml</td>\n      <td>Anonymous</td>\n      <td>Geographiae expositio compendiaria</td>\n      <td>4428</td>\n      <td>tlg0092</td>\n      <td>tlg0092.tlg001</td>\n      <td>Incertum</td>\n      <td>NaN</td>\n      <td>{}</td>\n      <td>NaN</td>\n      <td>NaN</td>\n      <td>[]</td>\n      <td>. Ἡ τῆς ὅλης γῆς περίμετρος σταδίων ,κα μυριάδ...</td>\n      <td>277</td>\n      <td>[[], [ὅλος, γῆ, περίμετρος, στάδιον, μυριάς, π...</td>\n      <td>False</td>\n      <td>None</td>\n    </tr>\n    <tr>\n      <th>845</th>\n      <td>tlg0527.tlg001.opp-grc2.xml</td>\n      <td>Septuaginta</td>\n      <td>Genesis</td>\n      <td>41465</td>\n      <td>tlg0527</td>\n      <td>tlg0527.tlg001</td>\n      <td>Varia</td>\n      <td>NaN</td>\n      <td>{}</td>\n      <td>NaN</td>\n      <td>jewish</td>\n      <td>[]</td>\n      <td>ΕΝ ἐποίησεν ὁ θεὸς τὸν οὐρανὸν καὶ τὴν γῆν. ἡ ...</td>\n      <td>3257</td>\n      <td>[[εἰμί, ποιέω, θεός, οὐρανός, γῆ], [γῆ, εἰμί, ...</td>\n      <td>False</td>\n      <td>jewish</td>\n    </tr>\n    <tr>\n      <th>846</th>\n      <td>tlg0527.tlg002.opp-grc2.xml</td>\n      <td>Septuaginta</td>\n      <td>Exodus</td>\n      <td>33068</td>\n      <td>tlg0527</td>\n      <td>tlg0527.tlg002</td>\n      <td>Varia</td>\n      <td>NaN</td>\n      <td>{}</td>\n      <td>NaN</td>\n      <td>jewish</td>\n      <td>[]</td>\n      <td>ταῦτα τὰ ὀνόματα τῶν υἱῶν Ἰσραὴλ τῶν εἰσπεπορε...</td>\n      <td>2227</td>\n      <td>[[ὄνομα, υἱός, Ἰσραήλ, εἰσπεπορευμένων, Αἴγυπτ...</td>\n      <td>False</td>\n      <td>jewish</td>\n    </tr>\n    <tr>\n      <th>847</th>\n      <td>tlg0527.tlg003.opp-grc2.xml</td>\n      <td>Septuaginta</td>\n      <td>Leviticus</td>\n      <td>24834</td>\n      <td>tlg0527</td>\n      <td>tlg0527.tlg003</td>\n      <td>Varia</td>\n      <td>NaN</td>\n      <td>{}</td>\n      <td>NaN</td>\n      <td>jewish</td>\n      <td>[]</td>\n      <td>ἀνεκάλεσεν Μωυσῆν καὶ ἐλάλησεν Κύριος αὐτῷ ἐκ...</td>\n      <td>1370</td>\n      <td>[[ἀνακαλέω, μωυσῆν, λαλέω, κύριος, σκηνή, μαρτ...</td>\n      <td>False</td>\n      <td>jewish</td>\n    </tr>\n    <tr>\n      <th>848</th>\n      <td>tlg0527.tlg004.opp-grc2.xml</td>\n      <td>Septuaginta</td>\n      <td>Numeri</td>\n      <td>32418</td>\n      <td>tlg0527</td>\n      <td>tlg0527.tlg004</td>\n      <td>Varia</td>\n      <td>NaN</td>\n      <td>{}</td>\n      <td>NaN</td>\n      <td>jewish</td>\n      <td>[]</td>\n      <td>ἐλάλησεν κύριος πρὸς Μωυσῆν ἐν τῇ ἐρήμῳ τῇ Σε...</td>\n      <td>2089</td>\n      <td>[[λαλέω, κύριος, μωυσῆν, ἔρημος, σεινά, εἰμί, ...</td>\n      <td>False</td>\n      <td>jewish</td>\n    </tr>\n    <tr>\n      <th>...</th>\n      <td>...</td>\n      <td>...</td>\n      <td>...</td>\n      <td>...</td>\n      <td>...</td>\n      <td>...</td>\n      <td>...</td>\n      <td>...</td>\n      <td>...</td>\n      <td>...</td>\n      <td>...</td>\n      <td>...</td>\n      <td>...</td>\n      <td>...</td>\n      <td>...</td>\n      <td>...</td>\n      <td>...</td>\n    </tr>\n    <tr>\n      <th>1475</th>\n      <td>tlg5026.tlg007.First1K-grc1.xml</td>\n      <td>Scholia in Homerum</td>\n      <td>Scholia in Odysseam</td>\n      <td>205760</td>\n      <td>tlg5026</td>\n      <td>tlg5026.tlg007</td>\n      <td>Varia</td>\n      <td>NaN</td>\n      <td>{}</td>\n      <td>NaN</td>\n      <td>pagan</td>\n      <td>[]</td>\n      <td>Α. ΘΕΩΝ ἀγορά. Ἀθηνᾶς παραίνεσις πρὸς Τηλέμαχο...</td>\n      <td>49661</td>\n      <td>[[], [θεός, ἀγορά], [Ἀθήνη, παραίνεσις, τηλεμά...</td>\n      <td>False</td>\n      <td>None</td>\n    </tr>\n    <tr>\n      <th>1476</th>\n      <td>tlg5034.tlg001d.perseus-grc1.xml</td>\n      <td>Pindar Scholia</td>\n      <td>Scholia in Pindarum Isthmian Odes</td>\n      <td>18142</td>\n      <td>tlg5034</td>\n      <td>tlg5034.tlg001</td>\n      <td>Varia</td>\n      <td>NaN</td>\n      <td>{}</td>\n      <td>-4.5</td>\n      <td>pagan</td>\n      <td>[]</td>\n      <td>. Ἐτελοῦντο μὲν οἱ παλαιοὶ πάντες ἀγῶνες ἐπί ...</td>\n      <td>2265</td>\n      <td>[[], [τελέω, παλαιός, ἀγών, τετελευτηκόσιν], [...</td>\n      <td>False</td>\n      <td>None</td>\n    </tr>\n    <tr>\n      <th>1477</th>\n      <td>tlg5037.tlg004.1st1K-grc1.xml</td>\n      <td>Scholia in Sophoclem</td>\n      <td>Scholia in Sophoclem (scholia vetera)</td>\n      <td>80736</td>\n      <td>tlg5037</td>\n      <td>tlg5037.tlg004</td>\n      <td>Varia</td>\n      <td>NaN</td>\n      <td>{}</td>\n      <td>NaN</td>\n      <td>pagan</td>\n      <td>[]</td>\n      <td>πάρεστιν Ὀδυσσεὺς ἐπὶ τὴν σκηνὴν ἀγωνιῶν καὶ ....</td>\n      <td>12324</td>\n      <td>[[πάρειμι, Ὀδυσσεύς, σκηνή, ἀγωνιάω], [πολυπρά...</td>\n      <td>False</td>\n      <td>None</td>\n    </tr>\n    <tr>\n      <th>1478</th>\n      <td>tlg7000.tlg001.perseus-grc5.xml</td>\n      <td>None</td>\n      <td>Greek Anthology, Volume V</td>\n      <td>20222</td>\n      <td>tlg7000</td>\n      <td>tlg7000.tlg001</td>\n      <td>Varia</td>\n      <td>NaN</td>\n      <td>{}</td>\n      <td>NaN</td>\n      <td>pagan</td>\n      <td>[]</td>\n      <td>Ἰίαίρβ θεὰ Παφίη· σὴν γὰ̆ ἀεὶ δύναμιν κάλλος τ...</td>\n      <td>1971</td>\n      <td>[[ἰίαίρβ, θεά, Πάφος], [σός, δύναμις, κάλλος, ...</td>\n      <td>False</td>\n      <td>None</td>\n    </tr>\n    <tr>\n      <th>1479</th>\n      <td>tlg9004.tlg001.opp-grc1.xml</td>\n      <td>Anonymi In Aristotelis Librum Alterum Analytic...</td>\n      <td>Anonymi in analyticorum posteriorum librum alt...</td>\n      <td>21649</td>\n      <td>tlg9004</td>\n      <td>tlg9004.tlg001</td>\n      <td>Incertum</td>\n      <td>NaN</td>\n      <td>{}</td>\n      <td>NaN</td>\n      <td>NaN</td>\n      <td>[]</td>\n      <td>. Τὰ ζητούμενά ἐστιν ἴσα τὸν ἀριθμὸν ὅσαπερ ἐπ...</td>\n      <td>2414</td>\n      <td>[[], [ζητούμενά, ἴσος, ἀριθμός, ὅσος, ἐπίσταμα...</td>\n      <td>False</td>\n      <td>None</td>\n    </tr>\n  </tbody>\n</table>\n<p>98 rows × 17 columns</p>\n</div>"
     },
     "execution_count": 79,
     "metadata": {},
     "output_type": "execute_result"
    }
   ],
   "source": [
    "LAGT[LAGT[\"date_avr\"].isnull()]"
   ],
   "metadata": {
    "collapsed": false
   }
  },
  {
   "cell_type": "code",
   "execution_count": 12,
   "outputs": [
    {
     "data": {
      "text/plain": "                          filename              author  \\\n0  tlg0001.tlg001.perseus-grc2.xml  Apollonius Rhodius   \n1  tlg0003.tlg001.perseus-grc2.xml          Thucydides   \n2  tlg0004.tlg001.perseus-grc1.xml   Diogenes Laertius   \n3  tlg0005.tlg001.perseus-grc1.xml          Theocritus   \n4  tlg0005.tlg002.perseus-grc1.xml          Theocritus   \n\n                           title  wordcount author_id          doc_id  \\\n0                    Argonautica      38822   tlg0001  tlg0001.tlg001   \n1          The Peloponnesian War     150118   tlg0003  tlg0003.tlg001   \n2  Lives of Eminent Philosophers     110763   tlg0004  tlg0004.tlg001   \n3                        Idylls       19200   tlg0005  tlg0005.tlg001   \n4                      Epigrams        1734   tlg0005  tlg0005.tlg002   \n\n   raw_date  date_avr                  date_probs  date_manual provenience  \\\n0    3 B.C.      -2.5                 {'-2.5': 1}         -2.5       pagan   \n1    5 B.C.      -4.5                 {'-4.5': 1}         -4.5       pagan   \n2    A.D. 3       2.5                  {'2.5': 1}          NaN       pagan   \n3  4-3 B.C.      -3.0  {'-3.5': 0.5, '-2.5': 0.5}          NaN       pagan   \n4  4-3 B.C.      -3.0  {'-3.5': 0.5, '-2.5': 0.5}          NaN       pagan   \n\n     tlg_epithet                                       clean_string  \\\n0      Epici/-ae  ἀρχόμενος σέο, Φοῖβε, παλαιγενέων κλέα φωτῶν μ...   \n1  Historici/-ae   Θουκυδίδης Ἀθηναῖος ξυνέγραψε τὸν πόλεμον τῶν...   \n2      Biographi  Τὸ τῆς φιλοσοφίας ἔργον ἔνιοί φασιν ἀπὸ βαρβάρ...   \n3       Bucolici   ̔Αδύ τι τὸ ψιθύρισμα καὶ ἁ πίτυς αἰπόλε τήνα,...   \n4       Bucolici  τὰ ῥόδα τὰ δροσόεντα καὶ ἁ κατάπυκνος ἐκείνα ἕ...   \n\n   n_sentences                               lemmatized_sentences  GLAUx?  \n0         3252  [[ἄρχω, Φοῖβος, παλαιγενής, κλέος, φώς, μιμνῄσ...    True  \n1         6068  [[Θουκυδίδης, Ἀθηναῖος, συγγράφω, πόλεμος, Πελ...    True  \n2        10245  [[φιλοσοφία, ἔργον, ἔνιοι, φημί, βάρβαρος, ἄρχ...   False  \n3         1982  [[ἡδύς, τις, ψιθύρισμα, πίτυς, αἰπόλος, ἐκεῖνο...    True  \n4          152  [[ῥόδον, δροσόεις, κατάπυκνος, ἐκεῖνος, ἕρπυλλ...    True  ",
      "text/html": "<div>\n<style scoped>\n    .dataframe tbody tr th:only-of-type {\n        vertical-align: middle;\n    }\n\n    .dataframe tbody tr th {\n        vertical-align: top;\n    }\n\n    .dataframe thead th {\n        text-align: right;\n    }\n</style>\n<table border=\"1\" class=\"dataframe\">\n  <thead>\n    <tr style=\"text-align: right;\">\n      <th></th>\n      <th>filename</th>\n      <th>author</th>\n      <th>title</th>\n      <th>wordcount</th>\n      <th>author_id</th>\n      <th>doc_id</th>\n      <th>raw_date</th>\n      <th>date_avr</th>\n      <th>date_probs</th>\n      <th>date_manual</th>\n      <th>provenience</th>\n      <th>tlg_epithet</th>\n      <th>clean_string</th>\n      <th>n_sentences</th>\n      <th>lemmatized_sentences</th>\n      <th>GLAUx?</th>\n    </tr>\n  </thead>\n  <tbody>\n    <tr>\n      <th>0</th>\n      <td>tlg0001.tlg001.perseus-grc2.xml</td>\n      <td>Apollonius Rhodius</td>\n      <td>Argonautica</td>\n      <td>38822</td>\n      <td>tlg0001</td>\n      <td>tlg0001.tlg001</td>\n      <td>3 B.C.</td>\n      <td>-2.5</td>\n      <td>{'-2.5': 1}</td>\n      <td>-2.5</td>\n      <td>pagan</td>\n      <td>Epici/-ae</td>\n      <td>ἀρχόμενος σέο, Φοῖβε, παλαιγενέων κλέα φωτῶν μ...</td>\n      <td>3252</td>\n      <td>[[ἄρχω, Φοῖβος, παλαιγενής, κλέος, φώς, μιμνῄσ...</td>\n      <td>True</td>\n    </tr>\n    <tr>\n      <th>1</th>\n      <td>tlg0003.tlg001.perseus-grc2.xml</td>\n      <td>Thucydides</td>\n      <td>The Peloponnesian War</td>\n      <td>150118</td>\n      <td>tlg0003</td>\n      <td>tlg0003.tlg001</td>\n      <td>5 B.C.</td>\n      <td>-4.5</td>\n      <td>{'-4.5': 1}</td>\n      <td>-4.5</td>\n      <td>pagan</td>\n      <td>Historici/-ae</td>\n      <td>Θουκυδίδης Ἀθηναῖος ξυνέγραψε τὸν πόλεμον τῶν...</td>\n      <td>6068</td>\n      <td>[[Θουκυδίδης, Ἀθηναῖος, συγγράφω, πόλεμος, Πελ...</td>\n      <td>True</td>\n    </tr>\n    <tr>\n      <th>2</th>\n      <td>tlg0004.tlg001.perseus-grc1.xml</td>\n      <td>Diogenes Laertius</td>\n      <td>Lives of Eminent Philosophers</td>\n      <td>110763</td>\n      <td>tlg0004</td>\n      <td>tlg0004.tlg001</td>\n      <td>A.D. 3</td>\n      <td>2.5</td>\n      <td>{'2.5': 1}</td>\n      <td>NaN</td>\n      <td>pagan</td>\n      <td>Biographi</td>\n      <td>Τὸ τῆς φιλοσοφίας ἔργον ἔνιοί φασιν ἀπὸ βαρβάρ...</td>\n      <td>10245</td>\n      <td>[[φιλοσοφία, ἔργον, ἔνιοι, φημί, βάρβαρος, ἄρχ...</td>\n      <td>False</td>\n    </tr>\n    <tr>\n      <th>3</th>\n      <td>tlg0005.tlg001.perseus-grc1.xml</td>\n      <td>Theocritus</td>\n      <td>Idylls</td>\n      <td>19200</td>\n      <td>tlg0005</td>\n      <td>tlg0005.tlg001</td>\n      <td>4-3 B.C.</td>\n      <td>-3.0</td>\n      <td>{'-3.5': 0.5, '-2.5': 0.5}</td>\n      <td>NaN</td>\n      <td>pagan</td>\n      <td>Bucolici</td>\n      <td>̔Αδύ τι τὸ ψιθύρισμα καὶ ἁ πίτυς αἰπόλε τήνα,...</td>\n      <td>1982</td>\n      <td>[[ἡδύς, τις, ψιθύρισμα, πίτυς, αἰπόλος, ἐκεῖνο...</td>\n      <td>True</td>\n    </tr>\n    <tr>\n      <th>4</th>\n      <td>tlg0005.tlg002.perseus-grc1.xml</td>\n      <td>Theocritus</td>\n      <td>Epigrams</td>\n      <td>1734</td>\n      <td>tlg0005</td>\n      <td>tlg0005.tlg002</td>\n      <td>4-3 B.C.</td>\n      <td>-3.0</td>\n      <td>{'-3.5': 0.5, '-2.5': 0.5}</td>\n      <td>NaN</td>\n      <td>pagan</td>\n      <td>Bucolici</td>\n      <td>τὰ ῥόδα τὰ δροσόεντα καὶ ἁ κατάπυκνος ἐκείνα ἕ...</td>\n      <td>152</td>\n      <td>[[ῥόδον, δροσόεις, κατάπυκνος, ἐκεῖνος, ἕρπυλλ...</td>\n      <td>True</td>\n    </tr>\n  </tbody>\n</table>\n</div>"
     },
     "execution_count": 12,
     "metadata": {},
     "output_type": "execute_result"
    }
   ],
   "source": [
    "LAGT.head(5)"
   ],
   "metadata": {
    "collapsed": false
   }
  },
  {
   "cell_type": "code",
   "execution_count": 14,
   "outputs": [],
   "source": [
    "sents = [sen for work in LAGT[\"lemmatized_sentences\"] for sen in work]"
   ],
   "metadata": {
    "collapsed": false
   }
  },
  {
   "cell_type": "code",
   "execution_count": 15,
   "outputs": [
    {
     "data": {
      "text/plain": "2803645"
     },
     "execution_count": 15,
     "metadata": {},
     "output_type": "execute_result"
    }
   ],
   "source": [
    "len(sents)"
   ],
   "metadata": {
    "collapsed": false
   }
  },
  {
   "cell_type": "code",
   "execution_count": 16,
   "outputs": [],
   "source": [
    "min_freq = 50\n",
    "\n",
    "def get_vocab(docs, min_freq=min_freq):\n",
    "    words_flat = [item for sublist in docs for item in sublist]\n",
    "    word_freq_tups = nltk.FreqDist(words_flat).most_common()\n",
    "    vocabulary = [tup[0] for tup in word_freq_tups if tup[1] >= min_freq]\n",
    "    #vocab_freqs = [len([doc for doc in docs if word in doc]) for word in vocabulary]\n",
    "    return word_freq_tups, words_flat, vocabulary"
   ],
   "metadata": {
    "collapsed": false
   }
  },
  {
   "cell_type": "code",
   "execution_count": 17,
   "outputs": [],
   "source": [
    "word_freqs, words, vocabulary = get_vocab(sents)"
   ],
   "metadata": {
    "collapsed": false
   }
  },
  {
   "cell_type": "code",
   "execution_count": 18,
   "outputs": [
    {
     "data": {
      "text/plain": "[('εἰμί', 461544),\n ('οὗτος', 293455),\n ('αὐτός', 261844),\n ('λέγω', 242398),\n ('γίγνομαι', 157086),\n ('ἔχω', 149368),\n ('πᾶς', 127741),\n ('πολύς', 121928),\n ('ἄλλος', 103309),\n ('φημί', 102944),\n ('τις', 91552),\n ('ποιέω', 85124),\n ('λόγος', 84616),\n ('θεός', 70419),\n ('μέγας', 56125),\n ('τοιοῦτος', 52980),\n ('ἄνθρωπος', 52604),\n ('πρῶτος', 50764),\n ('ἐκεῖνος', 50063),\n ('οὐδείς', 48157),\n ('ἕτερος', 47424),\n ('σῶμα', 45082),\n ('ἀγαθός', 43140),\n ('λαμβάνω', 42387),\n ('πόλις', 41764),\n ('μόνος', 41748),\n ('ὁράω', 41271),\n ('φύσις', 41145),\n ('ἀρχή', 37518),\n ('δύναμις', 37212),\n ('ἀνήρ', 37038),\n ('δοκέω', 36569),\n ('εἷς', 36407),\n ('ἕκαστος', 35169),\n ('τὶς', 34516),\n ('δύναμαι', 33323),\n ('χρόνος', 32486),\n ('δίδωμι', 32458),\n ('ὑπάρχω', 32163),\n ('γῆ', 32018),\n ('μέρος', 31923),\n ('ψυχή', 31296),\n ('καλέω', 31278),\n ('δέω', 30449),\n ('ἅπας', 29470),\n ('κύριος', 28854),\n ('βασιλεύς', 28755),\n ('δείκνυμι', 27793),\n ('γένος', 26375),\n ('πατήρ', 25693),\n ('εἶδος', 25645),\n ('τόπος', 25535),\n ('ὅλος', 25436),\n ('οἶδα', 25343),\n ('ὄνομα', 25081),\n ('βούλομαι', 24813),\n ('χράω', 24692),\n ('ἡμέρα', 24414),\n ('ἔρχομαι', 24199),\n ('τίς', 24145),\n ('κίνησις', 23368),\n ('δεῖ', 23156),\n ('υἱός', 23122),\n ('οὐσία', 23012),\n ('φέρω', 22950),\n ('οἷος', 22698),\n ('κινέω', 21942),\n ('φαίνω', 21807),\n ('ἴσος', 21775),\n ('μηδείς', 21526),\n ('ἀκούω', 21165),\n ('γράφω', 21164),\n ('πρᾶγμα', 20920),\n ('μέσος', 20618),\n ('κακός', 20439),\n ('ὕδωρ', 20224),\n ('ἀνάγκη', 19720),\n ('ἴδιος', 19702),\n ('γυνή', 19270),\n ('ἐναντίος', 19106),\n ('πρότερος', 19019),\n ('καλός', 18921),\n ('τρόπος', 18783),\n ('ὅδε', 18750),\n ('παῖς', 18556),\n ('ἔργον', 18184),\n ('αἰτία', 17850),\n ('Ζεύς', 17815),\n ('εὑρίσκω', 17750),\n ('νόμος', 17579),\n ('τίθημι', 17482),\n ('κοινός', 17435),\n ('χείρ', 17274),\n ('λοιπός', 17107),\n ('συμβαίνω', 17030),\n ('δεύτερος', 16961),\n ('τυγχάνω', 16902),\n ('μέλλω', 16450),\n ('πάσχω', 16431),\n ('ἀληθής', 16297)]"
     },
     "execution_count": 18,
     "metadata": {},
     "output_type": "execute_result"
    }
   ],
   "source": [
    "word_freqs[:100]"
   ],
   "metadata": {
    "collapsed": false
   }
  },
  {
   "cell_type": "code",
   "execution_count": 19,
   "outputs": [
    {
     "data": {
      "text/plain": "15243"
     },
     "execution_count": 19,
     "metadata": {},
     "output_type": "execute_result"
    }
   ],
   "source": [
    "len(vocabulary)"
   ],
   "metadata": {
    "collapsed": false
   }
  },
  {
   "cell_type": "markdown",
   "source": [
    "# Prepare subcorpora"
   ],
   "metadata": {
    "collapsed": false
   }
  },
  {
   "cell_type": "code",
   "execution_count": 73,
   "outputs": [],
   "source": [
    "def assign_subcorpus(row):\n",
    "    if row[\"date_avr\"] <= -5:\n",
    "        subcorpus = \"archaic\"\n",
    "    elif row[\"date_avr\"] < -2:\n",
    "        subcorpus = \"classical\"\n",
    "    elif (row[\"provenience\"]==\"christian\") & (row[\"date_avr\"]<3):\n",
    "        subcorpus = \"christian\"\n",
    "    elif (row[\"provenience\"]==\"pagan\") & (row[\"date_avr\"]<3):\n",
    "        subcorpus = \"roman\"\n",
    "    elif (row[\"provenience\"]==\"jewish\"):\n",
    "        subcorpus = \"jewish\"\n",
    "    else:\n",
    "        subcorpus = None\n",
    "    return subcorpus"
   ],
   "metadata": {
    "collapsed": false
   }
  },
  {
   "cell_type": "code",
   "execution_count": 74,
   "outputs": [
    {
     "data": {
      "text/plain": "array([<class 'float'>], dtype=object)"
     },
     "execution_count": 74,
     "metadata": {},
     "output_type": "execute_result"
    }
   ],
   "source": [
    "LAGT[\"date_avr\"].apply(type).unique()"
   ],
   "metadata": {
    "collapsed": false
   }
  },
  {
   "cell_type": "code",
   "execution_count": 75,
   "outputs": [],
   "source": [
    "LAGT[\"subcorpus\"] = LAGT.apply(lambda row: assign_subcorpus(row), axis=1)"
   ],
   "metadata": {
    "collapsed": false
   }
  },
  {
   "cell_type": "code",
   "execution_count": 76,
   "outputs": [
    {
     "data": {
      "text/plain": "   subcorpus  n_works\n0    archaic       26\n1  christian      104\n2  classical      408\n3     jewish       95\n4      roman      596",
      "text/html": "<div>\n<style scoped>\n    .dataframe tbody tr th:only-of-type {\n        vertical-align: middle;\n    }\n\n    .dataframe tbody tr th {\n        vertical-align: top;\n    }\n\n    .dataframe thead th {\n        text-align: right;\n    }\n</style>\n<table border=\"1\" class=\"dataframe\">\n  <thead>\n    <tr style=\"text-align: right;\">\n      <th></th>\n      <th>subcorpus</th>\n      <th>n_works</th>\n    </tr>\n  </thead>\n  <tbody>\n    <tr>\n      <th>0</th>\n      <td>archaic</td>\n      <td>26</td>\n    </tr>\n    <tr>\n      <th>1</th>\n      <td>christian</td>\n      <td>104</td>\n    </tr>\n    <tr>\n      <th>2</th>\n      <td>classical</td>\n      <td>408</td>\n    </tr>\n    <tr>\n      <th>3</th>\n      <td>jewish</td>\n      <td>95</td>\n    </tr>\n    <tr>\n      <th>4</th>\n      <td>roman</td>\n      <td>596</td>\n    </tr>\n  </tbody>\n</table>\n</div>"
     },
     "execution_count": 76,
     "metadata": {},
     "output_type": "execute_result"
    }
   ],
   "source": [
    "df_size = LAGT.groupby(\"subcorpus\").size().reset_index()\n",
    "df_size.rename(columns={0:\"n_works\"}, inplace=True)\n",
    "df_size"
   ],
   "metadata": {
    "collapsed": false
   }
  },
  {
   "cell_type": "code",
   "execution_count": 77,
   "outputs": [
    {
     "data": {
      "text/plain": "   subcorpus  n_works  wordcount  n_sentences  GLAUx?\n0    archaic       26     331410        26561      24\n1  christian      104    1711991       180658      19\n2  classical      408    4104920       319695     370\n3     jewish       95    1953311       166050       4\n4      roman      596   11481179       932972     409",
      "text/html": "<div>\n<style scoped>\n    .dataframe tbody tr th:only-of-type {\n        vertical-align: middle;\n    }\n\n    .dataframe tbody tr th {\n        vertical-align: top;\n    }\n\n    .dataframe thead th {\n        text-align: right;\n    }\n</style>\n<table border=\"1\" class=\"dataframe\">\n  <thead>\n    <tr style=\"text-align: right;\">\n      <th></th>\n      <th>subcorpus</th>\n      <th>n_works</th>\n      <th>wordcount</th>\n      <th>n_sentences</th>\n      <th>GLAUx?</th>\n    </tr>\n  </thead>\n  <tbody>\n    <tr>\n      <th>0</th>\n      <td>archaic</td>\n      <td>26</td>\n      <td>331410</td>\n      <td>26561</td>\n      <td>24</td>\n    </tr>\n    <tr>\n      <th>1</th>\n      <td>christian</td>\n      <td>104</td>\n      <td>1711991</td>\n      <td>180658</td>\n      <td>19</td>\n    </tr>\n    <tr>\n      <th>2</th>\n      <td>classical</td>\n      <td>408</td>\n      <td>4104920</td>\n      <td>319695</td>\n      <td>370</td>\n    </tr>\n    <tr>\n      <th>3</th>\n      <td>jewish</td>\n      <td>95</td>\n      <td>1953311</td>\n      <td>166050</td>\n      <td>4</td>\n    </tr>\n    <tr>\n      <th>4</th>\n      <td>roman</td>\n      <td>596</td>\n      <td>11481179</td>\n      <td>932972</td>\n      <td>409</td>\n    </tr>\n  </tbody>\n</table>\n</div>"
     },
     "execution_count": 77,
     "metadata": {},
     "output_type": "execute_result"
    }
   ],
   "source": [
    "df_sum = LAGT.groupby(\"subcorpus\").sum()[[\"wordcount\", \"n_sentences\", \"GLAUx?\"]]\n",
    "pd.merge(df_size, df_sum.reset_index())"
   ],
   "metadata": {
    "collapsed": false
   }
  },
  {
   "cell_type": "code",
   "execution_count": 80,
   "outputs": [
    {
     "data": {
      "text/plain": "                            filename        author  \\\n202  tlg0012.tlg001.perseus-grc2.xml         Homer   \n203  tlg0012.tlg002.perseus-grc2.xml         Homer   \n204  tlg0012.tlg003.perseus-grc1.xml         Homer   \n205  tlg0013.tlg001.perseus-grc2.xml  Homeric hymn   \n206  tlg0013.tlg002.perseus-grc2.xml  Homeric hymn   \n207  tlg0013.tlg003.perseus-grc2.xml  Homeric hymn   \n208  tlg0013.tlg004.perseus-grc2.xml  Homeric hymn   \n209  tlg0013.tlg005.perseus-grc2.xml  Homeric hymn   \n211  tlg0013.tlg007.perseus-grc2.xml  Homeric hymn   \n223  tlg0013.tlg019.perseus-grc2.xml  Homeric hymn   \n357  tlg0020.tlg001.perseus-grc2.xml        Hesiod   \n358  tlg0020.tlg002.perseus-grc2.xml        Hesiod   \n359  tlg0020.tlg003.perseus-grc2.xml        Hesiod   \n426  tlg0033.tlg001.perseus-grc2.xml        Pindar   \n427  tlg0033.tlg002.perseus-grc2.xml        Pindar   \n428  tlg0033.tlg003.perseus-grc2.xml        Pindar   \n429  tlg0033.tlg004.perseus-grc2.xml        Pindar   \n678  tlg0085.tlg001.perseus-grc2.xml     Aeschylus   \n679  tlg0085.tlg002.perseus-grc2.xml     Aeschylus   \n680  tlg0085.tlg003.perseus-grc2.xml     Aeschylus   \n681  tlg0085.tlg004.perseus-grc2.xml     Aeschylus   \n682  tlg0085.tlg005.perseus-grc2.xml     Aeschylus   \n683  tlg0085.tlg006.perseus-grc2.xml     Aeschylus   \n684  tlg0085.tlg007.perseus-grc2.xml     Aeschylus   \n766  tlg0096.tlg002.First1K-grc1.xml         Aesop   \n770    tlg0233.tlg001.1st1K-grc1.xml      Hipponax   \n\n                                                 title  wordcount  \\\n202               Iliad (Greek). Machine readable text     111888   \n203             Odyssey (Greek). Machine readable text      87177   \n204                                        Ἐπιγράμματα        757   \n205                                 Hymn 1 To Dionysus        144   \n206                                  Hymn 2 To Demeter       3373   \n207                                   Hymn 3 To Apollo       3848   \n208                                   Hymn 4 To Hermes       4031   \n209                                Hymn 5 To Aphrodite       2047   \n211                                 Hymn 7 To Dionysus        425   \n223                                     Hymn 19 to Pan        336   \n357            Theogony (Greek). Machine readable text       7039   \n358      Works and Days (Greek). Machine readable text       5856   \n359  Shield of Heracles (Greek). Machine readable text       3298   \n426           Odes (Greek). Machine readable text - O.       5875   \n427           Odes (Greek). Machine readable text - P.       7427   \n428           Odes (Greek). Machine readable text - N.       4944   \n429           Odes (Greek). Machine readable text - I.       2899   \n678                                  Suppliant Maidens       4977   \n679                                           Persians       5221   \n680                                   Prometheus Bound       5943   \n681                               Seven Against Thebes       5157   \n682                                          Agamemnon       8254   \n683                                   Libation Bearers       5463   \n684                                          Eumenides       5320   \n766                                            Fabulae      39492   \n770                                   Fragmentum (128)        219   \n\n       author_id          doc_id   raw_date  date_avr  \\\n202      tlg0012  tlg0012.tlg001     8 B.C.      -7.5   \n203      tlg0012  tlg0012.tlg002     8 B.C.      -7.5   \n204      tlg0012  tlg0012.tlg003     8 B.C.      -7.5   \n205  tlg0013dyon  tlg0013.tlg001   8-6 B.C.      -6.5   \n206  tlg0013deme  tlg0013.tlg002   8-6 B.C.      -6.0   \n207  tlg0013apol  tlg0013.tlg003   8-6 B.C.      -6.0   \n208  tlg0013herm  tlg0013.tlg004   8-6 B.C.      -5.0   \n209  tlg0013aphr  tlg0013.tlg005   8-6 B.C.      -6.0   \n211  tlg0013dyo2  tlg0013.tlg007   8-6 B.C.      -5.0   \n223   tlg0013pan  tlg0013.tlg019   8-6 B.C.      -5.0   \n357      tlg0020  tlg0020.tlg001  8/7 B.C.?      -7.0   \n358      tlg0020  tlg0020.tlg002  8/7 B.C.?      -7.0   \n359      tlg0020  tlg0020.tlg003  8/7 B.C.?      -7.0   \n426      tlg0033  tlg0033.tlg001   6-5 B.C.      -5.0   \n427      tlg0033  tlg0033.tlg002   6-5 B.C.      -5.0   \n428      tlg0033  tlg0033.tlg003   6-5 B.C.      -5.0   \n429      tlg0033  tlg0033.tlg004   6-5 B.C.      -5.0   \n678      tlg0085  tlg0085.tlg001   6-5 B.C.      -5.0   \n679      tlg0085  tlg0085.tlg002   6-5 B.C.      -5.0   \n680      tlg0085  tlg0085.tlg003   6-5 B.C.      -5.0   \n681      tlg0085  tlg0085.tlg004   6-5 B.C.      -5.0   \n682      tlg0085  tlg0085.tlg005   6-5 B.C.      -5.0   \n683      tlg0085  tlg0085.tlg006   6-5 B.C.      -5.0   \n684      tlg0085  tlg0085.tlg007   6-5 B.C.      -5.0   \n766      tlg0096  tlg0096.tlg002     6 B.C.      -5.5   \n770      tlg0233  tlg0233.tlg001     6 B.C.      -5.5   \n\n                                            date_probs  date_manual  \\\n202                                        {'-7.5': 1}         -7.5   \n203                                        {'-7.5': 1}         -7.5   \n204                                        {'-7.5': 1}         -7.5   \n205  {'-7.5': 0.33330000000000004, '-6.5': 0.333300...         -7.0   \n206  {'-7.5': 0.33330000000000004, '-6.5': 0.333300...         -7.0   \n207  {'-7.5': 0.33330000000000004, '-6.5': 0.333300...         -7.0   \n208  {'-7.5': 0.33330000000000004, '-6.5': 0.333300...         -7.0   \n209  {'-7.5': 0.33330000000000004, '-6.5': 0.333300...         -7.0   \n211  {'-7.5': 0.33330000000000004, '-6.5': 0.333300...         -7.0   \n223  {'-7.5': 0.33330000000000004, '-6.5': 0.333300...         -7.0   \n357                         {'-7.5': 0.5, '-6.5': 0.5}         -6.5   \n358                         {'-7.5': 0.5, '-6.5': 0.5}         -6.5   \n359                         {'-7.5': 0.5, '-6.5': 0.5}         -6.5   \n426                         {'-5.5': 0.5, '-4.5': 0.5}         -4.5   \n427                         {'-5.5': 0.5, '-4.5': 0.5}         -4.5   \n428                         {'-5.5': 0.5, '-4.5': 0.5}         -4.5   \n429                         {'-5.5': 0.5, '-4.5': 0.5}         -4.5   \n678                         {'-5.5': 0.5, '-4.5': 0.5}         -4.5   \n679                         {'-5.5': 0.5, '-4.5': 0.5}         -4.5   \n680                         {'-5.5': 0.5, '-4.5': 0.5}         -4.5   \n681                         {'-5.5': 0.5, '-4.5': 0.5}         -4.5   \n682                         {'-5.5': 0.5, '-4.5': 0.5}         -4.5   \n683                         {'-5.5': 0.5, '-4.5': 0.5}         -4.5   \n684                         {'-5.5': 0.5, '-4.5': 0.5}         -4.5   \n766                                        {'-5.5': 1}         -5.5   \n770                                        {'-5.5': 1}          NaN   \n\n    provenience           tlg_epithet  \\\n202       pagan             Epici/-ae   \n203       pagan             Epici/-ae   \n204       pagan             Epici/-ae   \n205       pagan                    []   \n206       pagan                    []   \n207       pagan                    []   \n208       pagan                    []   \n209       pagan                    []   \n211       pagan                    []   \n223       pagan                    []   \n357       pagan             Epici/-ae   \n358       pagan             Epici/-ae   \n359       pagan             Epici/-ae   \n426       pagan            Lyrici/-ae   \n427       pagan            Lyrici/-ae   \n428       pagan            Lyrici/-ae   \n429       pagan            Lyrici/-ae   \n678       pagan               Tragici   \n679       pagan               Tragici   \n680       pagan               Tragici   \n681       pagan               Tragici   \n682       pagan               Tragici   \n683       pagan               Tragici   \n684       pagan               Tragici   \n766       pagan  Scriptores Fabularum   \n770       pagan               Iambici   \n\n                                          clean_string  n_sentences  \\\n202   μῆνιν ἄειδε θεὰ Πηληϊάδεω Ἀχιλῆος οὐλομένην, ...         8415   \n203  ἄνδρα μοι ἔννεπε, μοῦσα, πολύτροπον, ὃς μάλα π...         6729   \n204  Αἰδεῖσθε ξενίων κεχρημένον ἠδὲ δόμοιο, οἳ πόλι...           72   \n205   οἳ μὲν γὰρ Δρακάνῳ σʼ, οἳ δʼ Ἰκάρῳ ἠνεμοέσσῃ ...           13   \n206   Δήμητρʼ ἠύκομον, σεμνὴν θεόν, ἄρχομʼ ἀείδειν,...          256   \n207  μνήσομαι οὐδὲ λάθωμαι Ἀπόλλωνος ἑκάτοιο, ὅντε ...          295   \n208  Ἑρμῆν ὕμνει, Μοῦσα, Διὸς καὶ Μαιάδος υἱόν, Κυλ...          332   \n209  μοῦσά μοι ἔννεπε ἔργα πολυχρύσου Ἀφροδίτης, Κύ...          148   \n211  ἀμφὶ Διώνυσον, Σεμέλης ἐρικυδέος υἱόν, μνήσομα...           42   \n223  ἀμφί μοι Ἑρμείαο φίλον γόνον ἔννεπε, Μοῦσα, αἰ...           19   \n357   Μουσάων Ἑλικωνιάδων ἀρχώμεθʼ ἀείδειν, αἵθʼ Ἑλ...          438   \n358   μοῦσαι Πιερίηθεν ἀοιδῇσιν κλείουσαι δεῦτε, Δί...          490   \n359   ἢ οἵη προλιποῦσα δόμους καὶ πατρίδα γαῖαν ἤλυ...          255   \n426   ἄριστον μὲν ὕδωρ, ὁ δὲ χρυσὸς αἰθόμενον πῦρ ἅ...          427   \n427   χρυσέα φόρμιγξ, Ἀπόλλωνος καὶ ἰοπλοκάμων σύνδ...          595   \n428   ἄμπνευμα σεμνὸν Ἀλφεοῦ, κλεινᾶν Συρακοσσᾶν θά...          402   \n429   μᾶτερ ἐμά, τὸ τεόν, χρύσασπι Θήβα, πρᾶγμα καὶ...          222   \n678  Ζεὺς μὲν ἀφίκτωρ ἐπίδοι προφρόνως στόλον ἡμέτε...          527   \n679  Τάδε μὲν Περσῶν τῶν οἰχομένων Ἑλλάδʼ ἐς αἶαν π...          481   \n680  Χθονὸς μὲν ἐς τηλουρὸν ἥκομεν πέδον, Σκύθην ἐς...          590   \n681  Κάδμου πολῖται, χρὴ λέγειν τὰ καίρια ὅστις φυλ...          523   \n682  Φύλαξ θεοὺς μὲν αἰτῶ τῶνδʼ ἀπαλλαγὴν πόνων φρο...          807   \n683   Ἑρμῆ χθόνιε, πατρῷʼ ἐποπτεύων κράτη, σωτὴρ γε...          571   \n684  πρῶτον μὲν εὐχῇ τῇδε πρεσβεύω θεῶν τὴν πρωτόμα...          521   \n766  Ἀγαθὰ πάντα ὑπὸ τῶν κακῶν ἐδιώχθη, ὡς ἀσθενῆ ὄ...         3333   \n770   Μοῦσά μοι Εὐρυμεδοντιάδεα, τὴν πολτοχάρυβδιν,...           58   \n\n                                  lemmatized_sentences  GLAUx? subcorpus  \n202  [[μῆνις, ἀείδω, θεά, Πηληϊάδης, Ἀχιλλεύς, ὄλλυ...    True   archaic  \n203  [[ἀνήρ, ἐνέπω, Μοῦσα, πολύτροπος, πολύς, πλάζω...    True   archaic  \n204  [[Ἕλλην, πλῆθος, Ἴλιος, στρατόω, ἑπτά, εἰμί, μ...    True   archaic  \n205  [[Δράκανος, Ἴκαρος, ἠνεμόεις, φημί, Νάξος, δῖο...    True   archaic  \n206  [[Δημήτηρ, εὔκομος, σεμνός, θεός, ἄρχω, ἀείδω,...    True   archaic  \n207  [[μιμνῄσκω, λανθάνω, Ἀπόλλων, ἕκατος, θεός, δῶ...    True   archaic  \n208  [[Ἑρμῆς, ὑμνέω, Μοῦσα, Ζεύς, Μαιάς, υἱός, Κυλλ...    True   archaic  \n209  [[Μοῦσα, ἐνέπω, ἔργον, πολύχρυσος, Ἀφροδίτη, Κ...    True   archaic  \n211  [[Διόνυσος, Σεμέλη, ἐρικυδής, υἱός, μιμνῄσκω, ...    True   archaic  \n223  [[Ἑρμῆς, φίλος, γόνος, ἐνέπω, Μοῦσα, αἰγιπόδης...    True   archaic  \n357  [[Μοῦσα, Ἑλικωνιάδες, ἄρχω, ἀείδω, Ἑλικών, ἔχω...    True   archaic  \n358  [[Μοῦσα, ἀοιδή, κλείω, Ζεύς, ἐνέπω, σφέτερος, ...    True   archaic  \n359  [[προλείπω, δόμος, πατρίς, γῆ, ἔρχομαι, Θῆβαι,...    True   archaic  \n426  [[ἀγαθός, ὕδωρ, χρυσός, αἴθω, πῦρ, διαπρέπω, ν...    True   archaic  \n427  [[χρύσεος, φόρμιγξ, Ἀπόλλων, ἰοπλόκαμος, σύνδι...    True   archaic  \n428  [[ἀνάπνευμα, σεμνός, Ἀλφεός, κλεινός, Σύρακοσσ...    True   archaic  \n429  [[μήτηρ, ἐμός, τεός, χρύσασπις, Θήβη, πρᾶγμα, ...    True   archaic  \n678  [[Ζεύς, ἀφίκτωρ, ἐφοράω, στόλος, ἡμέτερος, νήι...    True   archaic  \n679  [[Πέρσης, οἴχομαι, Ἑλλάς, αἶα, πιστός, καλέω, ...    True   archaic  \n680  [[Χθών, τηλουρός, ἥκω, πέδον, Σκύθης, οἷμος, ἄ...    True   archaic  \n681  [[Κάδμος, πολίτης, χρή, λέγω, καίριος, φυλάσσω...    True   archaic  \n682  [[Φύλαξ, θεός, αἰτέω, ὅδε, ἀπαλλαγή, πόνος, φρ...    True   archaic  \n683  [[Ἑρμῆς, χθόνιος, πατρῷος, ἐποπτεύω, κράτος, σ...    True   archaic  \n684  [[πρῶτος, εὐχή, ὅδε, πρεσβεύω, θεός, πρωτόμαντ...    True   archaic  \n766  [[ἀγαθός, πᾶς, κακός, διώκω, ἀσθενής, εἰμί], [...   False   archaic  \n770  [[Μοῦσα, εὐρυμεδοντιάδεα, πολτοχάρυβδιν, ἐγγασ...   False   archaic  ",
      "text/html": "<div>\n<style scoped>\n    .dataframe tbody tr th:only-of-type {\n        vertical-align: middle;\n    }\n\n    .dataframe tbody tr th {\n        vertical-align: top;\n    }\n\n    .dataframe thead th {\n        text-align: right;\n    }\n</style>\n<table border=\"1\" class=\"dataframe\">\n  <thead>\n    <tr style=\"text-align: right;\">\n      <th></th>\n      <th>filename</th>\n      <th>author</th>\n      <th>title</th>\n      <th>wordcount</th>\n      <th>author_id</th>\n      <th>doc_id</th>\n      <th>raw_date</th>\n      <th>date_avr</th>\n      <th>date_probs</th>\n      <th>date_manual</th>\n      <th>provenience</th>\n      <th>tlg_epithet</th>\n      <th>clean_string</th>\n      <th>n_sentences</th>\n      <th>lemmatized_sentences</th>\n      <th>GLAUx?</th>\n      <th>subcorpus</th>\n    </tr>\n  </thead>\n  <tbody>\n    <tr>\n      <th>202</th>\n      <td>tlg0012.tlg001.perseus-grc2.xml</td>\n      <td>Homer</td>\n      <td>Iliad (Greek). Machine readable text</td>\n      <td>111888</td>\n      <td>tlg0012</td>\n      <td>tlg0012.tlg001</td>\n      <td>8 B.C.</td>\n      <td>-7.5</td>\n      <td>{'-7.5': 1}</td>\n      <td>-7.5</td>\n      <td>pagan</td>\n      <td>Epici/-ae</td>\n      <td>μῆνιν ἄειδε θεὰ Πηληϊάδεω Ἀχιλῆος οὐλομένην, ...</td>\n      <td>8415</td>\n      <td>[[μῆνις, ἀείδω, θεά, Πηληϊάδης, Ἀχιλλεύς, ὄλλυ...</td>\n      <td>True</td>\n      <td>archaic</td>\n    </tr>\n    <tr>\n      <th>203</th>\n      <td>tlg0012.tlg002.perseus-grc2.xml</td>\n      <td>Homer</td>\n      <td>Odyssey (Greek). Machine readable text</td>\n      <td>87177</td>\n      <td>tlg0012</td>\n      <td>tlg0012.tlg002</td>\n      <td>8 B.C.</td>\n      <td>-7.5</td>\n      <td>{'-7.5': 1}</td>\n      <td>-7.5</td>\n      <td>pagan</td>\n      <td>Epici/-ae</td>\n      <td>ἄνδρα μοι ἔννεπε, μοῦσα, πολύτροπον, ὃς μάλα π...</td>\n      <td>6729</td>\n      <td>[[ἀνήρ, ἐνέπω, Μοῦσα, πολύτροπος, πολύς, πλάζω...</td>\n      <td>True</td>\n      <td>archaic</td>\n    </tr>\n    <tr>\n      <th>204</th>\n      <td>tlg0012.tlg003.perseus-grc1.xml</td>\n      <td>Homer</td>\n      <td>Ἐπιγράμματα</td>\n      <td>757</td>\n      <td>tlg0012</td>\n      <td>tlg0012.tlg003</td>\n      <td>8 B.C.</td>\n      <td>-7.5</td>\n      <td>{'-7.5': 1}</td>\n      <td>-7.5</td>\n      <td>pagan</td>\n      <td>Epici/-ae</td>\n      <td>Αἰδεῖσθε ξενίων κεχρημένον ἠδὲ δόμοιο, οἳ πόλι...</td>\n      <td>72</td>\n      <td>[[Ἕλλην, πλῆθος, Ἴλιος, στρατόω, ἑπτά, εἰμί, μ...</td>\n      <td>True</td>\n      <td>archaic</td>\n    </tr>\n    <tr>\n      <th>205</th>\n      <td>tlg0013.tlg001.perseus-grc2.xml</td>\n      <td>Homeric hymn</td>\n      <td>Hymn 1 To Dionysus</td>\n      <td>144</td>\n      <td>tlg0013dyon</td>\n      <td>tlg0013.tlg001</td>\n      <td>8-6 B.C.</td>\n      <td>-6.5</td>\n      <td>{'-7.5': 0.33330000000000004, '-6.5': 0.333300...</td>\n      <td>-7.0</td>\n      <td>pagan</td>\n      <td>[]</td>\n      <td>οἳ μὲν γὰρ Δρακάνῳ σʼ, οἳ δʼ Ἰκάρῳ ἠνεμοέσσῃ ...</td>\n      <td>13</td>\n      <td>[[Δράκανος, Ἴκαρος, ἠνεμόεις, φημί, Νάξος, δῖο...</td>\n      <td>True</td>\n      <td>archaic</td>\n    </tr>\n    <tr>\n      <th>206</th>\n      <td>tlg0013.tlg002.perseus-grc2.xml</td>\n      <td>Homeric hymn</td>\n      <td>Hymn 2 To Demeter</td>\n      <td>3373</td>\n      <td>tlg0013deme</td>\n      <td>tlg0013.tlg002</td>\n      <td>8-6 B.C.</td>\n      <td>-6.0</td>\n      <td>{'-7.5': 0.33330000000000004, '-6.5': 0.333300...</td>\n      <td>-7.0</td>\n      <td>pagan</td>\n      <td>[]</td>\n      <td>Δήμητρʼ ἠύκομον, σεμνὴν θεόν, ἄρχομʼ ἀείδειν,...</td>\n      <td>256</td>\n      <td>[[Δημήτηρ, εὔκομος, σεμνός, θεός, ἄρχω, ἀείδω,...</td>\n      <td>True</td>\n      <td>archaic</td>\n    </tr>\n    <tr>\n      <th>207</th>\n      <td>tlg0013.tlg003.perseus-grc2.xml</td>\n      <td>Homeric hymn</td>\n      <td>Hymn 3 To Apollo</td>\n      <td>3848</td>\n      <td>tlg0013apol</td>\n      <td>tlg0013.tlg003</td>\n      <td>8-6 B.C.</td>\n      <td>-6.0</td>\n      <td>{'-7.5': 0.33330000000000004, '-6.5': 0.333300...</td>\n      <td>-7.0</td>\n      <td>pagan</td>\n      <td>[]</td>\n      <td>μνήσομαι οὐδὲ λάθωμαι Ἀπόλλωνος ἑκάτοιο, ὅντε ...</td>\n      <td>295</td>\n      <td>[[μιμνῄσκω, λανθάνω, Ἀπόλλων, ἕκατος, θεός, δῶ...</td>\n      <td>True</td>\n      <td>archaic</td>\n    </tr>\n    <tr>\n      <th>208</th>\n      <td>tlg0013.tlg004.perseus-grc2.xml</td>\n      <td>Homeric hymn</td>\n      <td>Hymn 4 To Hermes</td>\n      <td>4031</td>\n      <td>tlg0013herm</td>\n      <td>tlg0013.tlg004</td>\n      <td>8-6 B.C.</td>\n      <td>-5.0</td>\n      <td>{'-7.5': 0.33330000000000004, '-6.5': 0.333300...</td>\n      <td>-7.0</td>\n      <td>pagan</td>\n      <td>[]</td>\n      <td>Ἑρμῆν ὕμνει, Μοῦσα, Διὸς καὶ Μαιάδος υἱόν, Κυλ...</td>\n      <td>332</td>\n      <td>[[Ἑρμῆς, ὑμνέω, Μοῦσα, Ζεύς, Μαιάς, υἱός, Κυλλ...</td>\n      <td>True</td>\n      <td>archaic</td>\n    </tr>\n    <tr>\n      <th>209</th>\n      <td>tlg0013.tlg005.perseus-grc2.xml</td>\n      <td>Homeric hymn</td>\n      <td>Hymn 5 To Aphrodite</td>\n      <td>2047</td>\n      <td>tlg0013aphr</td>\n      <td>tlg0013.tlg005</td>\n      <td>8-6 B.C.</td>\n      <td>-6.0</td>\n      <td>{'-7.5': 0.33330000000000004, '-6.5': 0.333300...</td>\n      <td>-7.0</td>\n      <td>pagan</td>\n      <td>[]</td>\n      <td>μοῦσά μοι ἔννεπε ἔργα πολυχρύσου Ἀφροδίτης, Κύ...</td>\n      <td>148</td>\n      <td>[[Μοῦσα, ἐνέπω, ἔργον, πολύχρυσος, Ἀφροδίτη, Κ...</td>\n      <td>True</td>\n      <td>archaic</td>\n    </tr>\n    <tr>\n      <th>211</th>\n      <td>tlg0013.tlg007.perseus-grc2.xml</td>\n      <td>Homeric hymn</td>\n      <td>Hymn 7 To Dionysus</td>\n      <td>425</td>\n      <td>tlg0013dyo2</td>\n      <td>tlg0013.tlg007</td>\n      <td>8-6 B.C.</td>\n      <td>-5.0</td>\n      <td>{'-7.5': 0.33330000000000004, '-6.5': 0.333300...</td>\n      <td>-7.0</td>\n      <td>pagan</td>\n      <td>[]</td>\n      <td>ἀμφὶ Διώνυσον, Σεμέλης ἐρικυδέος υἱόν, μνήσομα...</td>\n      <td>42</td>\n      <td>[[Διόνυσος, Σεμέλη, ἐρικυδής, υἱός, μιμνῄσκω, ...</td>\n      <td>True</td>\n      <td>archaic</td>\n    </tr>\n    <tr>\n      <th>223</th>\n      <td>tlg0013.tlg019.perseus-grc2.xml</td>\n      <td>Homeric hymn</td>\n      <td>Hymn 19 to Pan</td>\n      <td>336</td>\n      <td>tlg0013pan</td>\n      <td>tlg0013.tlg019</td>\n      <td>8-6 B.C.</td>\n      <td>-5.0</td>\n      <td>{'-7.5': 0.33330000000000004, '-6.5': 0.333300...</td>\n      <td>-7.0</td>\n      <td>pagan</td>\n      <td>[]</td>\n      <td>ἀμφί μοι Ἑρμείαο φίλον γόνον ἔννεπε, Μοῦσα, αἰ...</td>\n      <td>19</td>\n      <td>[[Ἑρμῆς, φίλος, γόνος, ἐνέπω, Μοῦσα, αἰγιπόδης...</td>\n      <td>True</td>\n      <td>archaic</td>\n    </tr>\n    <tr>\n      <th>357</th>\n      <td>tlg0020.tlg001.perseus-grc2.xml</td>\n      <td>Hesiod</td>\n      <td>Theogony (Greek). Machine readable text</td>\n      <td>7039</td>\n      <td>tlg0020</td>\n      <td>tlg0020.tlg001</td>\n      <td>8/7 B.C.?</td>\n      <td>-7.0</td>\n      <td>{'-7.5': 0.5, '-6.5': 0.5}</td>\n      <td>-6.5</td>\n      <td>pagan</td>\n      <td>Epici/-ae</td>\n      <td>Μουσάων Ἑλικωνιάδων ἀρχώμεθʼ ἀείδειν, αἵθʼ Ἑλ...</td>\n      <td>438</td>\n      <td>[[Μοῦσα, Ἑλικωνιάδες, ἄρχω, ἀείδω, Ἑλικών, ἔχω...</td>\n      <td>True</td>\n      <td>archaic</td>\n    </tr>\n    <tr>\n      <th>358</th>\n      <td>tlg0020.tlg002.perseus-grc2.xml</td>\n      <td>Hesiod</td>\n      <td>Works and Days (Greek). Machine readable text</td>\n      <td>5856</td>\n      <td>tlg0020</td>\n      <td>tlg0020.tlg002</td>\n      <td>8/7 B.C.?</td>\n      <td>-7.0</td>\n      <td>{'-7.5': 0.5, '-6.5': 0.5}</td>\n      <td>-6.5</td>\n      <td>pagan</td>\n      <td>Epici/-ae</td>\n      <td>μοῦσαι Πιερίηθεν ἀοιδῇσιν κλείουσαι δεῦτε, Δί...</td>\n      <td>490</td>\n      <td>[[Μοῦσα, ἀοιδή, κλείω, Ζεύς, ἐνέπω, σφέτερος, ...</td>\n      <td>True</td>\n      <td>archaic</td>\n    </tr>\n    <tr>\n      <th>359</th>\n      <td>tlg0020.tlg003.perseus-grc2.xml</td>\n      <td>Hesiod</td>\n      <td>Shield of Heracles (Greek). Machine readable text</td>\n      <td>3298</td>\n      <td>tlg0020</td>\n      <td>tlg0020.tlg003</td>\n      <td>8/7 B.C.?</td>\n      <td>-7.0</td>\n      <td>{'-7.5': 0.5, '-6.5': 0.5}</td>\n      <td>-6.5</td>\n      <td>pagan</td>\n      <td>Epici/-ae</td>\n      <td>ἢ οἵη προλιποῦσα δόμους καὶ πατρίδα γαῖαν ἤλυ...</td>\n      <td>255</td>\n      <td>[[προλείπω, δόμος, πατρίς, γῆ, ἔρχομαι, Θῆβαι,...</td>\n      <td>True</td>\n      <td>archaic</td>\n    </tr>\n    <tr>\n      <th>426</th>\n      <td>tlg0033.tlg001.perseus-grc2.xml</td>\n      <td>Pindar</td>\n      <td>Odes (Greek). Machine readable text - O.</td>\n      <td>5875</td>\n      <td>tlg0033</td>\n      <td>tlg0033.tlg001</td>\n      <td>6-5 B.C.</td>\n      <td>-5.0</td>\n      <td>{'-5.5': 0.5, '-4.5': 0.5}</td>\n      <td>-4.5</td>\n      <td>pagan</td>\n      <td>Lyrici/-ae</td>\n      <td>ἄριστον μὲν ὕδωρ, ὁ δὲ χρυσὸς αἰθόμενον πῦρ ἅ...</td>\n      <td>427</td>\n      <td>[[ἀγαθός, ὕδωρ, χρυσός, αἴθω, πῦρ, διαπρέπω, ν...</td>\n      <td>True</td>\n      <td>archaic</td>\n    </tr>\n    <tr>\n      <th>427</th>\n      <td>tlg0033.tlg002.perseus-grc2.xml</td>\n      <td>Pindar</td>\n      <td>Odes (Greek). Machine readable text - P.</td>\n      <td>7427</td>\n      <td>tlg0033</td>\n      <td>tlg0033.tlg002</td>\n      <td>6-5 B.C.</td>\n      <td>-5.0</td>\n      <td>{'-5.5': 0.5, '-4.5': 0.5}</td>\n      <td>-4.5</td>\n      <td>pagan</td>\n      <td>Lyrici/-ae</td>\n      <td>χρυσέα φόρμιγξ, Ἀπόλλωνος καὶ ἰοπλοκάμων σύνδ...</td>\n      <td>595</td>\n      <td>[[χρύσεος, φόρμιγξ, Ἀπόλλων, ἰοπλόκαμος, σύνδι...</td>\n      <td>True</td>\n      <td>archaic</td>\n    </tr>\n    <tr>\n      <th>428</th>\n      <td>tlg0033.tlg003.perseus-grc2.xml</td>\n      <td>Pindar</td>\n      <td>Odes (Greek). Machine readable text - N.</td>\n      <td>4944</td>\n      <td>tlg0033</td>\n      <td>tlg0033.tlg003</td>\n      <td>6-5 B.C.</td>\n      <td>-5.0</td>\n      <td>{'-5.5': 0.5, '-4.5': 0.5}</td>\n      <td>-4.5</td>\n      <td>pagan</td>\n      <td>Lyrici/-ae</td>\n      <td>ἄμπνευμα σεμνὸν Ἀλφεοῦ, κλεινᾶν Συρακοσσᾶν θά...</td>\n      <td>402</td>\n      <td>[[ἀνάπνευμα, σεμνός, Ἀλφεός, κλεινός, Σύρακοσσ...</td>\n      <td>True</td>\n      <td>archaic</td>\n    </tr>\n    <tr>\n      <th>429</th>\n      <td>tlg0033.tlg004.perseus-grc2.xml</td>\n      <td>Pindar</td>\n      <td>Odes (Greek). Machine readable text - I.</td>\n      <td>2899</td>\n      <td>tlg0033</td>\n      <td>tlg0033.tlg004</td>\n      <td>6-5 B.C.</td>\n      <td>-5.0</td>\n      <td>{'-5.5': 0.5, '-4.5': 0.5}</td>\n      <td>-4.5</td>\n      <td>pagan</td>\n      <td>Lyrici/-ae</td>\n      <td>μᾶτερ ἐμά, τὸ τεόν, χρύσασπι Θήβα, πρᾶγμα καὶ...</td>\n      <td>222</td>\n      <td>[[μήτηρ, ἐμός, τεός, χρύσασπις, Θήβη, πρᾶγμα, ...</td>\n      <td>True</td>\n      <td>archaic</td>\n    </tr>\n    <tr>\n      <th>678</th>\n      <td>tlg0085.tlg001.perseus-grc2.xml</td>\n      <td>Aeschylus</td>\n      <td>Suppliant Maidens</td>\n      <td>4977</td>\n      <td>tlg0085</td>\n      <td>tlg0085.tlg001</td>\n      <td>6-5 B.C.</td>\n      <td>-5.0</td>\n      <td>{'-5.5': 0.5, '-4.5': 0.5}</td>\n      <td>-4.5</td>\n      <td>pagan</td>\n      <td>Tragici</td>\n      <td>Ζεὺς μὲν ἀφίκτωρ ἐπίδοι προφρόνως στόλον ἡμέτε...</td>\n      <td>527</td>\n      <td>[[Ζεύς, ἀφίκτωρ, ἐφοράω, στόλος, ἡμέτερος, νήι...</td>\n      <td>True</td>\n      <td>archaic</td>\n    </tr>\n    <tr>\n      <th>679</th>\n      <td>tlg0085.tlg002.perseus-grc2.xml</td>\n      <td>Aeschylus</td>\n      <td>Persians</td>\n      <td>5221</td>\n      <td>tlg0085</td>\n      <td>tlg0085.tlg002</td>\n      <td>6-5 B.C.</td>\n      <td>-5.0</td>\n      <td>{'-5.5': 0.5, '-4.5': 0.5}</td>\n      <td>-4.5</td>\n      <td>pagan</td>\n      <td>Tragici</td>\n      <td>Τάδε μὲν Περσῶν τῶν οἰχομένων Ἑλλάδʼ ἐς αἶαν π...</td>\n      <td>481</td>\n      <td>[[Πέρσης, οἴχομαι, Ἑλλάς, αἶα, πιστός, καλέω, ...</td>\n      <td>True</td>\n      <td>archaic</td>\n    </tr>\n    <tr>\n      <th>680</th>\n      <td>tlg0085.tlg003.perseus-grc2.xml</td>\n      <td>Aeschylus</td>\n      <td>Prometheus Bound</td>\n      <td>5943</td>\n      <td>tlg0085</td>\n      <td>tlg0085.tlg003</td>\n      <td>6-5 B.C.</td>\n      <td>-5.0</td>\n      <td>{'-5.5': 0.5, '-4.5': 0.5}</td>\n      <td>-4.5</td>\n      <td>pagan</td>\n      <td>Tragici</td>\n      <td>Χθονὸς μὲν ἐς τηλουρὸν ἥκομεν πέδον, Σκύθην ἐς...</td>\n      <td>590</td>\n      <td>[[Χθών, τηλουρός, ἥκω, πέδον, Σκύθης, οἷμος, ἄ...</td>\n      <td>True</td>\n      <td>archaic</td>\n    </tr>\n    <tr>\n      <th>681</th>\n      <td>tlg0085.tlg004.perseus-grc2.xml</td>\n      <td>Aeschylus</td>\n      <td>Seven Against Thebes</td>\n      <td>5157</td>\n      <td>tlg0085</td>\n      <td>tlg0085.tlg004</td>\n      <td>6-5 B.C.</td>\n      <td>-5.0</td>\n      <td>{'-5.5': 0.5, '-4.5': 0.5}</td>\n      <td>-4.5</td>\n      <td>pagan</td>\n      <td>Tragici</td>\n      <td>Κάδμου πολῖται, χρὴ λέγειν τὰ καίρια ὅστις φυλ...</td>\n      <td>523</td>\n      <td>[[Κάδμος, πολίτης, χρή, λέγω, καίριος, φυλάσσω...</td>\n      <td>True</td>\n      <td>archaic</td>\n    </tr>\n    <tr>\n      <th>682</th>\n      <td>tlg0085.tlg005.perseus-grc2.xml</td>\n      <td>Aeschylus</td>\n      <td>Agamemnon</td>\n      <td>8254</td>\n      <td>tlg0085</td>\n      <td>tlg0085.tlg005</td>\n      <td>6-5 B.C.</td>\n      <td>-5.0</td>\n      <td>{'-5.5': 0.5, '-4.5': 0.5}</td>\n      <td>-4.5</td>\n      <td>pagan</td>\n      <td>Tragici</td>\n      <td>Φύλαξ θεοὺς μὲν αἰτῶ τῶνδʼ ἀπαλλαγὴν πόνων φρο...</td>\n      <td>807</td>\n      <td>[[Φύλαξ, θεός, αἰτέω, ὅδε, ἀπαλλαγή, πόνος, φρ...</td>\n      <td>True</td>\n      <td>archaic</td>\n    </tr>\n    <tr>\n      <th>683</th>\n      <td>tlg0085.tlg006.perseus-grc2.xml</td>\n      <td>Aeschylus</td>\n      <td>Libation Bearers</td>\n      <td>5463</td>\n      <td>tlg0085</td>\n      <td>tlg0085.tlg006</td>\n      <td>6-5 B.C.</td>\n      <td>-5.0</td>\n      <td>{'-5.5': 0.5, '-4.5': 0.5}</td>\n      <td>-4.5</td>\n      <td>pagan</td>\n      <td>Tragici</td>\n      <td>Ἑρμῆ χθόνιε, πατρῷʼ ἐποπτεύων κράτη, σωτὴρ γε...</td>\n      <td>571</td>\n      <td>[[Ἑρμῆς, χθόνιος, πατρῷος, ἐποπτεύω, κράτος, σ...</td>\n      <td>True</td>\n      <td>archaic</td>\n    </tr>\n    <tr>\n      <th>684</th>\n      <td>tlg0085.tlg007.perseus-grc2.xml</td>\n      <td>Aeschylus</td>\n      <td>Eumenides</td>\n      <td>5320</td>\n      <td>tlg0085</td>\n      <td>tlg0085.tlg007</td>\n      <td>6-5 B.C.</td>\n      <td>-5.0</td>\n      <td>{'-5.5': 0.5, '-4.5': 0.5}</td>\n      <td>-4.5</td>\n      <td>pagan</td>\n      <td>Tragici</td>\n      <td>πρῶτον μὲν εὐχῇ τῇδε πρεσβεύω θεῶν τὴν πρωτόμα...</td>\n      <td>521</td>\n      <td>[[πρῶτος, εὐχή, ὅδε, πρεσβεύω, θεός, πρωτόμαντ...</td>\n      <td>True</td>\n      <td>archaic</td>\n    </tr>\n    <tr>\n      <th>766</th>\n      <td>tlg0096.tlg002.First1K-grc1.xml</td>\n      <td>Aesop</td>\n      <td>Fabulae</td>\n      <td>39492</td>\n      <td>tlg0096</td>\n      <td>tlg0096.tlg002</td>\n      <td>6 B.C.</td>\n      <td>-5.5</td>\n      <td>{'-5.5': 1}</td>\n      <td>-5.5</td>\n      <td>pagan</td>\n      <td>Scriptores Fabularum</td>\n      <td>Ἀγαθὰ πάντα ὑπὸ τῶν κακῶν ἐδιώχθη, ὡς ἀσθενῆ ὄ...</td>\n      <td>3333</td>\n      <td>[[ἀγαθός, πᾶς, κακός, διώκω, ἀσθενής, εἰμί], [...</td>\n      <td>False</td>\n      <td>archaic</td>\n    </tr>\n    <tr>\n      <th>770</th>\n      <td>tlg0233.tlg001.1st1K-grc1.xml</td>\n      <td>Hipponax</td>\n      <td>Fragmentum (128)</td>\n      <td>219</td>\n      <td>tlg0233</td>\n      <td>tlg0233.tlg001</td>\n      <td>6 B.C.</td>\n      <td>-5.5</td>\n      <td>{'-5.5': 1}</td>\n      <td>NaN</td>\n      <td>pagan</td>\n      <td>Iambici</td>\n      <td>Μοῦσά μοι Εὐρυμεδοντιάδεα, τὴν πολτοχάρυβδιν,...</td>\n      <td>58</td>\n      <td>[[Μοῦσα, εὐρυμεδοντιάδεα, πολτοχάρυβδιν, ἐγγασ...</td>\n      <td>False</td>\n      <td>archaic</td>\n    </tr>\n  </tbody>\n</table>\n</div>"
     },
     "execution_count": 80,
     "metadata": {},
     "output_type": "execute_result"
    }
   ],
   "source": [
    "LAGT[LAGT[\"subcorpus\"]==\"archaic\"]"
   ],
   "metadata": {
    "collapsed": false
   }
  },
  {
   "cell_type": "code",
   "execution_count": 81,
   "outputs": [
    {
     "data": {
      "text/plain": "1229"
     },
     "execution_count": 81,
     "metadata": {},
     "output_type": "execute_result"
    }
   ],
   "source": [
    "doc_ids = LAGT[LAGT[\"subcorpus\"].notnull()][\"doc_id\"].tolist()\n",
    "len(doc_ids)"
   ],
   "metadata": {
    "collapsed": false
   }
  },
  {
   "cell_type": "markdown",
   "source": [
    "# Generate ngrams data"
   ],
   "metadata": {
    "collapsed": false
   }
  },
  {
   "cell_type": "code",
   "execution_count": 86,
   "outputs": [],
   "source": [
    "line = 0\n",
    "ids_lines = {}\n",
    "\n",
    "f = open(\"../data/large_data/corpus_ngrams_bydocid.txt\", \"w\", encoding=\"utf-8\")\n",
    "for doc_id in doc_ids:\n",
    "    lagt_subset = LAGT[LAGT[\"doc_id\"]==doc_id]\n",
    "    sents = [sen for work in lagt_subset[\"lemmatized_sentences\"] for sen in work]\n",
    "    sents_bigrams = [list(el) for sublist in [[ng for ng in nltk.bigrams(sent)] for sent in sents] for el in sublist]\n",
    "    sents_trigrams = [list(el) for sublist in [[ng for ng in nltk.trigrams(sent)] for sent in sents] for el in sublist]\n",
    "    ngrams_data = sents + sents_bigrams + sents_trigrams\n",
    "    ngrams_data = [\" \".join(ngram) for ngram in ngrams_data]\n",
    "    f.writelines(\"\\n\".join(ngrams_data)+\"\\n\")\n",
    "    if bool(ngrams_data):\n",
    "        ids_lines[doc_id] = (line, line+len(ngrams_data))\n",
    "        line += len(ngrams_data)\n",
    "    else:\n",
    "        ids_lines[doc_id] = (line, line+1)\n",
    "        line += 1"
   ],
   "metadata": {
    "collapsed": false
   }
  },
  {
   "cell_type": "code",
   "execution_count": null,
   "outputs": [],
   "source": [],
   "metadata": {
    "collapsed": false
   }
  }
 ],
 "metadata": {
  "kernelspec": {
   "name": "conda_base",
   "language": "python",
   "display_name": "conda_base"
  },
  "language_info": {
   "codemirror_mode": {
    "name": "ipython",
    "version": 2
   },
   "file_extension": ".py",
   "mimetype": "text/x-python",
   "name": "python",
   "nbconvert_exporter": "python",
   "pygments_lexer": "ipython2",
   "version": "2.7.6"
  }
 },
 "nbformat": 4,
 "nbformat_minor": 0
}
