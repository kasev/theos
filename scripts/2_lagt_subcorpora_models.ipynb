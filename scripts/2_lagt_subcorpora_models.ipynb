{
 "cells": [
  {
   "cell_type": "code",
   "execution_count": 1,
   "outputs": [],
   "source": [
    "import pandas as pd\n",
    "from nltk import FreqDist\n",
    "import pickle\n",
    "import numpy as np\n",
    "from gensim.models import Word2Vec"
   ],
   "metadata": {
    "collapsed": false
   }
  },
  {
   "cell_type": "code",
   "execution_count": 2,
   "metadata": {
    "collapsed": true
   },
   "outputs": [],
   "source": [
    "import numpy as np\n",
    "import pandas as pd\n",
    "import os\n",
    "import requests\n",
    "import re\n",
    "from nltk import FreqDist\n",
    "from sklearn.feature_extraction.text import CountVectorizer\n",
    "from sklearn.decomposition import TruncatedSVD\n",
    "from sklearn.metrics.pairwise import cosine_similarity\n",
    "import pickle\n",
    "from cltk.stops.grc import STOPS as stopwords\n",
    "from gensim.corpora import Dictionary\n",
    "import unicodedata\n",
    "import json"
   ]
  },
  {
   "cell_type": "code",
   "execution_count": 3,
   "outputs": [],
   "source": [
    "LAGT = pd.read_json(\"../data/large_data/LAGT_metadata.json\")"
   ],
   "metadata": {
    "collapsed": false
   }
  },
  {
   "cell_type": "code",
   "execution_count": 4,
   "outputs": [
    {
     "data": {
      "text/plain": "  author_id          doc_id  GLAUx?                         filename  \\\n0   tlg0001  tlg0001.tlg001    True  tlg0001.tlg001.perseus-grc2.xml   \n1   tlg0003  tlg0003.tlg001    True  tlg0003.tlg001.perseus-grc2.xml   \n2   tlg0004  tlg0004.tlg001   False  tlg0004.tlg001.perseus-grc1.xml   \n3   tlg0005  tlg0005.tlg001    True  tlg0005.tlg001.perseus-grc1.xml   \n4   tlg0005  tlg0005.tlg002    True  tlg0005.tlg002.perseus-grc1.xml   \n\n   subcorpus              author                          title  date_avr  \\\n0  classical  Apollonius Rhodius                    Argonautica      -2.5   \n1  classical          Thucydides          The Peloponnesian War      -4.5   \n2      roman   Diogenes Laertius  Lives of Eminent Philosophers       2.5   \n3  classical          Theocritus                        Idylls       -3.0   \n4  classical          Theocritus                      Epigrams       -3.0   \n\n  provenience    tlg_epithet  n_sentences  wordcount  \n0       pagan      Epici/-ae         3252      38822  \n1       pagan  Historici/-ae         6068     150118  \n2       pagan      Biographi        10245     110763  \n3       pagan       Bucolici         1982      19200  \n4       pagan       Bucolici          152       1734  ",
      "text/html": "<div>\n<style scoped>\n    .dataframe tbody tr th:only-of-type {\n        vertical-align: middle;\n    }\n\n    .dataframe tbody tr th {\n        vertical-align: top;\n    }\n\n    .dataframe thead th {\n        text-align: right;\n    }\n</style>\n<table border=\"1\" class=\"dataframe\">\n  <thead>\n    <tr style=\"text-align: right;\">\n      <th></th>\n      <th>author_id</th>\n      <th>doc_id</th>\n      <th>GLAUx?</th>\n      <th>filename</th>\n      <th>subcorpus</th>\n      <th>author</th>\n      <th>title</th>\n      <th>date_avr</th>\n      <th>provenience</th>\n      <th>tlg_epithet</th>\n      <th>n_sentences</th>\n      <th>wordcount</th>\n    </tr>\n  </thead>\n  <tbody>\n    <tr>\n      <th>0</th>\n      <td>tlg0001</td>\n      <td>tlg0001.tlg001</td>\n      <td>True</td>\n      <td>tlg0001.tlg001.perseus-grc2.xml</td>\n      <td>classical</td>\n      <td>Apollonius Rhodius</td>\n      <td>Argonautica</td>\n      <td>-2.5</td>\n      <td>pagan</td>\n      <td>Epici/-ae</td>\n      <td>3252</td>\n      <td>38822</td>\n    </tr>\n    <tr>\n      <th>1</th>\n      <td>tlg0003</td>\n      <td>tlg0003.tlg001</td>\n      <td>True</td>\n      <td>tlg0003.tlg001.perseus-grc2.xml</td>\n      <td>classical</td>\n      <td>Thucydides</td>\n      <td>The Peloponnesian War</td>\n      <td>-4.5</td>\n      <td>pagan</td>\n      <td>Historici/-ae</td>\n      <td>6068</td>\n      <td>150118</td>\n    </tr>\n    <tr>\n      <th>2</th>\n      <td>tlg0004</td>\n      <td>tlg0004.tlg001</td>\n      <td>False</td>\n      <td>tlg0004.tlg001.perseus-grc1.xml</td>\n      <td>roman</td>\n      <td>Diogenes Laertius</td>\n      <td>Lives of Eminent Philosophers</td>\n      <td>2.5</td>\n      <td>pagan</td>\n      <td>Biographi</td>\n      <td>10245</td>\n      <td>110763</td>\n    </tr>\n    <tr>\n      <th>3</th>\n      <td>tlg0005</td>\n      <td>tlg0005.tlg001</td>\n      <td>True</td>\n      <td>tlg0005.tlg001.perseus-grc1.xml</td>\n      <td>classical</td>\n      <td>Theocritus</td>\n      <td>Idylls</td>\n      <td>-3.0</td>\n      <td>pagan</td>\n      <td>Bucolici</td>\n      <td>1982</td>\n      <td>19200</td>\n    </tr>\n    <tr>\n      <th>4</th>\n      <td>tlg0005</td>\n      <td>tlg0005.tlg002</td>\n      <td>True</td>\n      <td>tlg0005.tlg002.perseus-grc1.xml</td>\n      <td>classical</td>\n      <td>Theocritus</td>\n      <td>Epigrams</td>\n      <td>-3.0</td>\n      <td>pagan</td>\n      <td>Bucolici</td>\n      <td>152</td>\n      <td>1734</td>\n    </tr>\n  </tbody>\n</table>\n</div>"
     },
     "execution_count": 4,
     "metadata": {},
     "output_type": "execute_result"
    }
   ],
   "source": [
    "LAGT.head(5)"
   ],
   "metadata": {
    "collapsed": false
   }
  },
  {
   "cell_type": "code",
   "execution_count": 5,
   "outputs": [],
   "source": [
    "subcorpora = ['archaic', 'classical', 'roman', 'christian', 'jewish']"
   ],
   "metadata": {
    "collapsed": false
   }
  },
  {
   "cell_type": "markdown",
   "source": [
    "# Read subcorpora from ngrams - developing a memory-friendly reader"
   ],
   "metadata": {
    "collapsed": false
   }
  },
  {
   "cell_type": "code",
   "execution_count": 6,
   "outputs": [],
   "source": [
    "ids_lines = pickle.load(open(\"../data/ids_lines.pickle\", \"rb\"))"
   ],
   "metadata": {
    "collapsed": false
   }
  },
  {
   "cell_type": "code",
   "execution_count": 7,
   "outputs": [
    {
     "data": {
      "text/plain": "[('tlg0001.tlg001', (0, 41193)),\n ('tlg0003.tlg001', (41193, 184616)),\n ('tlg0004.tlg001', (184616, 280036)),\n ('tlg0005.tlg001', (280036, 300693)),\n ('tlg0005.tlg002', (300693, 302641))]"
     },
     "execution_count": 7,
     "metadata": {},
     "output_type": "execute_result"
    }
   ],
   "source": [
    "list(ids_lines.items())[:5]"
   ],
   "metadata": {
    "collapsed": false
   }
  },
  {
   "cell_type": "code",
   "execution_count": 8,
   "outputs": [
    {
     "data": {
      "text/plain": "26"
     },
     "execution_count": 8,
     "metadata": {},
     "output_type": "execute_result"
    }
   ],
   "source": [
    "subcorpus_ids = LAGT[LAGT[\"subcorpus\"]==\"archaic\"][\"doc_id\"].tolist()\n",
    "len(subcorpus_ids)"
   ],
   "metadata": {
    "collapsed": false
   }
  },
  {
   "cell_type": "code",
   "execution_count": 9,
   "outputs": [
    {
     "data": {
      "text/plain": "339423"
     },
     "execution_count": 9,
     "metadata": {},
     "output_type": "execute_result"
    }
   ],
   "source": [
    "lines_list = [ ]\n",
    "for id in subcorpus_ids:\n",
    "    lines_list.extend([l for l in range(ids_lines[id][0], ids_lines[id][1])])\n",
    "ngrams_n = len(lines_list)\n",
    "ngrams_n"
   ],
   "metadata": {
    "collapsed": false
   }
  },
  {
   "cell_type": "code",
   "execution_count": 10,
   "outputs": [],
   "source": [
    "sample_size=1000000\n",
    "if sample_size != None:\n",
    "    sample_inx =np.random.randint(0, ngrams_n, sample_size)\n",
    "else:\n",
    "    sample_inx =[n for n in range(0, ngrams_n)]"
   ],
   "metadata": {
    "collapsed": false
   }
  },
  {
   "cell_type": "code",
   "execution_count": 11,
   "outputs": [
    {
     "data": {
      "text/plain": "1000000"
     },
     "execution_count": 11,
     "metadata": {},
     "output_type": "execute_result"
    }
   ],
   "source": [
    "sample_lines = np.array(lines_list)[sample_inx]\n",
    "len(sample_lines)"
   ],
   "metadata": {
    "collapsed": false
   }
  },
  {
   "cell_type": "code",
   "execution_count": 12,
   "outputs": [
    {
     "data": {
      "text/plain": "array([7902850, 2075737, 8978287, 1931259, 3268909])"
     },
     "execution_count": 12,
     "metadata": {},
     "output_type": "execute_result"
    }
   ],
   "source": [
    "sample_lines[:5]"
   ],
   "metadata": {
    "collapsed": false
   }
  },
  {
   "cell_type": "code",
   "execution_count": 13,
   "outputs": [],
   "source": [
    "test_ngrams = []\n",
    "with open(\"../data/large_data/corpus_ngrams_bydocid.txt\", \"r\") as f:\n",
    "    lines = f.readlines()\n",
    "    for li in sample_lines:\n",
    "        line = lines[li]# for line index in subcorpus lineindexes\n",
    "        if bool(line.split()):\n",
    "            test_ngrams.append(line.split())"
   ],
   "metadata": {
    "collapsed": false
   }
  },
  {
   "cell_type": "code",
   "execution_count": 14,
   "outputs": [
    {
     "data": {
      "text/plain": "999651"
     },
     "execution_count": 14,
     "metadata": {},
     "output_type": "execute_result"
    }
   ],
   "source": [
    "len(test_ngrams)"
   ],
   "metadata": {
    "collapsed": false
   }
  },
  {
   "cell_type": "markdown",
   "source": [
    "# Sample corpora with memory-friendly reader"
   ],
   "metadata": {
    "collapsed": false
   }
  },
  {
   "cell_type": "code",
   "execution_count": 15,
   "outputs": [],
   "source": [
    "class NgramCorpusSample(object):\n",
    "    def __init__(self, ids_list, ids_lines, fname, sample_size=None, sample_seed=1, bow=False, dct=None):\n",
    "        self.ids_list = ids_list\n",
    "        self.fname = fname\n",
    "        self.bow  = bow\n",
    "        self.dct = dct\n",
    "        self.sample_size = sample_size\n",
    "        self.ids_lines = ids_lines\n",
    "        lines_list = [ ]\n",
    "        for id in ids_list:\n",
    "            lines_list.extend([l for l in range(ids_lines[id][0], ids_lines[id][1])])\n",
    "        ngrams_n = len(lines_list)\n",
    "        if sample_size != None:\n",
    "            np.random.seed(sample_seed)\n",
    "            sample_inx =np.random.randint(0, ngrams_n, sample_size)\n",
    "        else:\n",
    "            sample_inx =[n for n in range(0, ngrams_n)]\n",
    "        sample_lines = np.array(lines_list)[sample_inx]\n",
    "        self.len = len(sample_lines)\n",
    "        self.sample_lines = sample_lines\n",
    "    def __len__(self):\n",
    "        #[el for el in self]\n",
    "        return self.len\n",
    "    def __iter__(self):\n",
    "        with open(self.fname, \"r\") as f:\n",
    "            lines = f.readlines()\n",
    "            for li in self.sample_lines:\n",
    "                line = lines[li] # for line index in subcorpus lineindexes\n",
    "                if bool(line.split()):\n",
    "                    if (self.bow) & (self.dct != None):\n",
    "                        yield self.dct.doc2bow(line.split())\n",
    "                    else:\n",
    "                        yield line.split()"
   ],
   "metadata": {
    "collapsed": false
   }
  },
  {
   "cell_type": "code",
   "execution_count": 16,
   "outputs": [],
   "source": [
    "# test with classical"
   ],
   "metadata": {
    "collapsed": false
   }
  },
  {
   "cell_type": "code",
   "execution_count": 17,
   "outputs": [
    {
     "data": {
      "text/plain": "596"
     },
     "execution_count": 17,
     "metadata": {},
     "output_type": "execute_result"
    }
   ],
   "source": [
    "subcorpus_ids = LAGT[LAGT[\"subcorpus\"]==\"roman\"][\"doc_id\"].tolist()\n",
    "len(subcorpus_ids)"
   ],
   "metadata": {
    "collapsed": false
   }
  },
  {
   "cell_type": "code",
   "execution_count": 18,
   "outputs": [],
   "source": [
    "subcorpus_ngrams =  NgramCorpusSample(subcorpus_ids, ids_lines, \"../data/large_data/corpus_ngrams_bydocid.txt\", sample_size=1000000)"
   ],
   "metadata": {
    "collapsed": false
   }
  },
  {
   "cell_type": "code",
   "execution_count": 19,
   "outputs": [
    {
     "data": {
      "text/plain": "1000000"
     },
     "execution_count": 19,
     "metadata": {},
     "output_type": "execute_result"
    }
   ],
   "source": [
    "len(subcorpus_ngrams)"
   ],
   "metadata": {
    "collapsed": false
   }
  },
  {
   "cell_type": "code",
   "execution_count": 20,
   "outputs": [
    {
     "data": {
      "text/plain": "980208"
     },
     "execution_count": 20,
     "metadata": {},
     "output_type": "execute_result"
    }
   ],
   "source": [
    "len([doc for doc in subcorpus_ngrams])"
   ],
   "metadata": {
    "collapsed": false
   }
  },
  {
   "cell_type": "code",
   "execution_count": 21,
   "outputs": [
    {
     "data": {
      "text/plain": "[('εἰμί', 86416),\n ('αὐτός', 68360),\n ('οὗτος', 55211),\n ('λέγω', 37546),\n ('γίγνομαι', 31525),\n ('τις', 30334),\n ('ἔχω', 29557),\n ('πολύς', 28087),\n ('πᾶς', 22650),\n ('ἄλλος', 21668),\n ('φημί', 17161),\n ('ποιέω', 15230),\n ('λόγος', 14224),\n ('ἐκεῖνος', 11745),\n ('τοιοῦτος', 11694),\n ('μέγας', 11540),\n ('πρῶτος', 10766),\n ('οὐδείς', 9887),\n ('ἕτερος', 9696),\n ('πόλις', 9384),\n ('σῶμα', 8978),\n ('ἅπας', 8360),\n ('ἀγαθός', 8282),\n ('φύσις', 8149),\n ('δύναμις', 8130),\n ('μέρος', 7951),\n ('ἄνθρωπος', 7917),\n ('εἷς', 7831),\n ('ἀρχή', 7814),\n ('λαμβάνω', 7582),\n ('ἕκαστος', 7256),\n ('δοκέω', 7100),\n ('ὁράω', 6997),\n ('δέω', 6949),\n ('μόνος', 6823),\n ('ἀνήρ', 6793),\n ('καλέω', 6710),\n ('δύναμαι', 6256),\n ('ὑπάρχω', 6136),\n ('χρόνος', 5940),\n ('θεός', 5916),\n ('χράω', 5609),\n ('δίδωμι', 5491),\n ('ὅλος', 4946),\n ('ἡμέρα', 4905),\n ('μηδείς', 4883),\n ('γράφω', 4851),\n ('γένος', 4826),\n ('τὶς', 4718),\n ('τίς', 4716)]"
     },
     "execution_count": 21,
     "metadata": {},
     "output_type": "execute_result"
    }
   ],
   "source": [
    "FreqDist([w for ng in subcorpus_ngrams for w in ng]).most_common()[:50]"
   ],
   "metadata": {
    "collapsed": false
   }
  },
  {
   "cell_type": "code",
   "execution_count": 22,
   "outputs": [],
   "source": [
    "with open(\"../data/large_data/subcorpora_vocabs.pickle\", \"rb\") as f:\n",
    "    subcorpora_vocabs = pickle.load(f)"
   ],
   "metadata": {
    "collapsed": false
   }
  },
  {
   "cell_type": "code",
   "execution_count": 23,
   "outputs": [],
   "source": [
    "subcorpus_ngrams_seed1 =  NgramCorpusSample(subcorpus_ids, ids_lines, \"../data/large_data/corpus_ngrams_bydocid.txt\", sample_size=1000000, sample_seed=1)\n",
    "subcorpus_ngrams_seed2 =  NgramCorpusSample(subcorpus_ids, ids_lines, \"../data/large_data/corpus_ngrams_bydocid.txt\", sample_size=1000000, sample_seed=2)"
   ],
   "metadata": {
    "collapsed": false
   }
  },
  {
   "cell_type": "code",
   "execution_count": 24,
   "outputs": [],
   "source": [
    "freqs_comparison = pd.DataFrame(\n",
    "    [dict(subcorpora_vocabs[\"roman\"][\"word_freqs\"][:5000]),\n",
    "    dict(FreqDist([w for ng in subcorpus_ngrams_seed1 for w in ng]).most_common()[:5000]),\n",
    "    dict(FreqDist([w for ng in subcorpus_ngrams_seed2 for w in ng]).most_common()[:5000])]\n",
    ").T"
   ],
   "metadata": {
    "collapsed": false
   }
  },
  {
   "cell_type": "code",
   "execution_count": 25,
   "outputs": [
    {
     "data": {
      "text/plain": "          0         1         2\n0  1.000000  0.998884  0.998790\n1  0.998884  1.000000  0.999912\n2  0.998790  0.999912  1.000000",
      "text/html": "<div>\n<style scoped>\n    .dataframe tbody tr th:only-of-type {\n        vertical-align: middle;\n    }\n\n    .dataframe tbody tr th {\n        vertical-align: top;\n    }\n\n    .dataframe thead th {\n        text-align: right;\n    }\n</style>\n<table border=\"1\" class=\"dataframe\">\n  <thead>\n    <tr style=\"text-align: right;\">\n      <th></th>\n      <th>0</th>\n      <th>1</th>\n      <th>2</th>\n    </tr>\n  </thead>\n  <tbody>\n    <tr>\n      <th>0</th>\n      <td>1.000000</td>\n      <td>0.998884</td>\n      <td>0.998790</td>\n    </tr>\n    <tr>\n      <th>1</th>\n      <td>0.998884</td>\n      <td>1.000000</td>\n      <td>0.999912</td>\n    </tr>\n    <tr>\n      <th>2</th>\n      <td>0.998790</td>\n      <td>0.999912</td>\n      <td>1.000000</td>\n    </tr>\n  </tbody>\n</table>\n</div>"
     },
     "execution_count": 25,
     "metadata": {},
     "output_type": "execute_result"
    }
   ],
   "source": [
    "freqs_comparison.dropna().corr()"
   ],
   "metadata": {
    "collapsed": false
   }
  },
  {
   "cell_type": "code",
   "execution_count": 26,
   "outputs": [
    {
     "data": {
      "text/plain": "5365"
     },
     "execution_count": 26,
     "metadata": {},
     "output_type": "execute_result"
    }
   ],
   "source": [
    "len(freqs_comparison)"
   ],
   "metadata": {
    "collapsed": false
   }
  },
  {
   "cell_type": "code",
   "execution_count": 27,
   "outputs": [
    {
     "data": {
      "text/plain": "          0         1         2\n0  1.000000  0.987949  0.988137\n1  0.987949  1.000000  0.985046\n2  0.988137  0.985046  1.000000",
      "text/html": "<div>\n<style scoped>\n    .dataframe tbody tr th:only-of-type {\n        vertical-align: middle;\n    }\n\n    .dataframe tbody tr th {\n        vertical-align: top;\n    }\n\n    .dataframe thead th {\n        text-align: right;\n    }\n</style>\n<table border=\"1\" class=\"dataframe\">\n  <thead>\n    <tr style=\"text-align: right;\">\n      <th></th>\n      <th>0</th>\n      <th>1</th>\n      <th>2</th>\n    </tr>\n  </thead>\n  <tbody>\n    <tr>\n      <th>0</th>\n      <td>1.000000</td>\n      <td>0.987949</td>\n      <td>0.988137</td>\n    </tr>\n    <tr>\n      <th>1</th>\n      <td>0.987949</td>\n      <td>1.000000</td>\n      <td>0.985046</td>\n    </tr>\n    <tr>\n      <th>2</th>\n      <td>0.988137</td>\n      <td>0.985046</td>\n      <td>1.000000</td>\n    </tr>\n  </tbody>\n</table>\n</div>"
     },
     "execution_count": 27,
     "metadata": {},
     "output_type": "execute_result"
    }
   ],
   "source": [
    "freqs_comparison[:4000].corr(method=\"spearman\")"
   ],
   "metadata": {
    "collapsed": false
   }
  },
  {
   "cell_type": "code",
   "execution_count": 28,
   "outputs": [
    {
     "data": {
      "text/plain": "          0         1         2\n0  1.000000  0.986517  0.986683\n1  0.986517  1.000000  0.982736\n2  0.986683  0.982736  1.000000",
      "text/html": "<div>\n<style scoped>\n    .dataframe tbody tr th:only-of-type {\n        vertical-align: middle;\n    }\n\n    .dataframe tbody tr th {\n        vertical-align: top;\n    }\n\n    .dataframe thead th {\n        text-align: right;\n    }\n</style>\n<table border=\"1\" class=\"dataframe\">\n  <thead>\n    <tr style=\"text-align: right;\">\n      <th></th>\n      <th>0</th>\n      <th>1</th>\n      <th>2</th>\n    </tr>\n  </thead>\n  <tbody>\n    <tr>\n      <th>0</th>\n      <td>1.000000</td>\n      <td>0.986517</td>\n      <td>0.986683</td>\n    </tr>\n    <tr>\n      <th>1</th>\n      <td>0.986517</td>\n      <td>1.000000</td>\n      <td>0.982736</td>\n    </tr>\n    <tr>\n      <th>2</th>\n      <td>0.986683</td>\n      <td>0.982736</td>\n      <td>1.000000</td>\n    </tr>\n  </tbody>\n</table>\n</div>"
     },
     "execution_count": 28,
     "metadata": {},
     "output_type": "execute_result"
    }
   ],
   "source": [
    "np.log2(freqs_comparison).corr(method=\"spearman\")"
   ],
   "metadata": {
    "collapsed": false
   }
  },
  {
   "cell_type": "code",
   "execution_count": 29,
   "outputs": [],
   "source": [
    "# let's build two models based on the same subcorpus but sampled with different seed"
   ],
   "metadata": {
    "collapsed": false
   }
  },
  {
   "cell_type": "code",
   "execution_count": 30,
   "outputs": [
    {
     "name": "stdout",
     "output_type": "stream",
     "text": [
      "CPU times: user 1min 29s, sys: 1min 40s, total: 3min 9s\n",
      "Wall time: 3min 40s\n"
     ]
    }
   ],
   "source": [
    "%%time\n",
    "sub = \"classical\"\n",
    "subcorpus_ids = LAGT[LAGT[\"subcorpus\"]==\"roman\"][\"doc_id\"].tolist()\n",
    "\n",
    "subcorpus_ngrams_seed1 =  NgramCorpusSample(subcorpus_ids, ids_lines, \"../data/large_data/corpus_ngrams_bydocid.txt\", sample_size=1000000, sample_seed=1)\n",
    "model_seed1 = Word2Vec(vector_size=150, window=3, negative=5, ns_exponent=1, sg=0, epochs=5, workers=8)\n",
    "model_seed1.build_vocab_from_freq(word_freq=dict(subcorpora_vocabs[sub][\"word_freqs\"][:5000]))\n",
    "model_seed1.train(subcorpus_ngrams, total_examples=len(subcorpus_ngrams_seed1), epochs=model_seed1.epochs)\n",
    "vectors_seed1 = model_seed1.wv\n",
    "\n",
    "subcorpus_ngrams_seed2 =  NgramCorpusSample(subcorpus_ids, ids_lines, \"../data/large_data/corpus_ngrams_bydocid.txt\", sample_size=1000000, sample_seed=2)\n",
    "model_seed2 = Word2Vec(vector_size=150, window=3, negative=5, ns_exponent=1, sg=0, epochs=5, workers=8)\n",
    "model_seed2.build_vocab_from_freq(word_freq=dict(subcorpora_vocabs[sub][\"word_freqs\"][:5000]))\n",
    "model_seed2.train(subcorpus_ngrams, total_examples=len(subcorpus_ngrams_seed2), epochs=model_seed1.epochs)\n",
    "vectors_seed2 = model_seed2.wv"
   ],
   "metadata": {
    "collapsed": false
   }
  },
  {
   "cell_type": "code",
   "execution_count": 31,
   "outputs": [
    {
     "data": {
      "text/plain": "[('θυσία', 0.7014735341072083),\n ('εὔχομαι', 0.644244372844696),\n ('θεῖος', 0.6418712139129639),\n ('ἥρως', 0.6404505968093872),\n ('θύω', 0.6360121965408325),\n ('δαίμων', 0.6353362798690796),\n ('σέβω', 0.6338143944740295),\n ('Ζεύς', 0.6313347816467285),\n ('σωτήρ', 0.6171830296516418),\n ('ὅσιος', 0.6013766527175903),\n ('τιμάω', 0.5994257926940918),\n ('ἱερόν', 0.5989795923233032),\n ('εὐσεβής', 0.5937182307243347),\n ('εὐχή', 0.5934133529663086),\n ('ὑμνέω', 0.5852774381637573),\n ('Ἀπόλλων', 0.5815355181694031),\n ('Ἡρακλῆς', 0.576744556427002),\n ('πάτριος', 0.5744653940200806),\n ('εὐεργέτης', 0.5719175934791565),\n ('προσκυνέω', 0.56976318359375)]"
     },
     "execution_count": 31,
     "metadata": {},
     "output_type": "execute_result"
    }
   ],
   "source": [
    "vectors_seed1.most_similar(\"θεός\", topn=20)"
   ],
   "metadata": {
    "collapsed": false
   }
  },
  {
   "cell_type": "code",
   "execution_count": 32,
   "outputs": [
    {
     "data": {
      "text/plain": "[('θυσία', 0.7163611650466919),\n ('σέβω', 0.6574140787124634),\n ('θεῖος', 0.6565834283828735),\n ('εὔχομαι', 0.6547293663024902),\n ('δαίμων', 0.6413161158561707),\n ('θύω', 0.6328307390213013),\n ('ὅσιος', 0.6319435238838196),\n ('Ζεύς', 0.6233252882957458),\n ('σωτήρ', 0.6160833835601807),\n ('ἥρως', 0.615529477596283),\n ('τιμάω', 0.5929490923881531),\n ('Ἀπόλλων', 0.5900370478630066),\n ('ὑμνέω', 0.5896173715591431),\n ('πάτριος', 0.5870264768600464),\n ('εὐσεβής', 0.5869643092155457),\n ('εὐχή', 0.5867000818252563),\n ('εὐδαίμων', 0.5801908373832703),\n ('θεά', 0.5786188840866089),\n ('δαιμόνιον', 0.5773245692253113),\n ('βροτός', 0.5772062540054321)]"
     },
     "execution_count": 32,
     "metadata": {},
     "output_type": "execute_result"
    }
   ],
   "source": [
    "vectors_seed2.most_similar(\"θεός\", topn=20)"
   ],
   "metadata": {
    "collapsed": false
   }
  },
  {
   "cell_type": "code",
   "execution_count": 33,
   "outputs": [
    {
     "name": "stdout",
     "output_type": "stream",
     "text": [
      "generating model for the archaic subcorpus...\n",
      "archaic model ready\n",
      "generating model for the classical subcorpus...\n",
      "classical model ready\n",
      "generating model for the roman subcorpus...\n",
      "roman model ready\n",
      "generating model for the christian subcorpus...\n",
      "christian model ready\n",
      "generating model for the jewish subcorpus...\n",
      "jewish model ready\n"
     ]
    }
   ],
   "source": [
    "for sub in subcorpora:\n",
    "    subcorpus_ids = LAGT[LAGT[\"subcorpus\"]==sub][\"doc_id\"].tolist()\n",
    "    #do the stuff above\n",
    "    print(\"generating model for the {} subcorpus...\".format(sub))\n",
    "    subcorpus_ngrams_seed1 =  NgramCorpusSample(subcorpus_ids, ids_lines, \"../data/large_data/corpus_ngrams_bydocid.txt\", sample_size=1000000, sample_seed=1)\n",
    "    model_seed1 = Word2Vec(vector_size=150, window=3, negative=5, ns_exponent=1, sg=0, epochs=5, workers=8)\n",
    "    model_seed1.build_vocab_from_freq(word_freq=dict(subcorpora_vocabs[sub][\"word_freqs\"][:5000]))\n",
    "    model_seed1.train(subcorpus_ngrams, total_examples=len(subcorpus_ngrams_seed1), epochs=model_seed1.epochs)\n",
    "    vectors_seed1 = model_seed1.wv\n",
    "    vectors_seed1.save(\"../data/large_data/vectors_{}_seed1.kv\".format(sub))\n",
    "    subcorpus_ngrams_seed2 =  NgramCorpusSample(subcorpus_ids, ids_lines, \"../data/large_data/corpus_ngrams_bydocid.txt\", sample_size=1000000, sample_seed=2)\n",
    "    model_seed2 = Word2Vec(vector_size=150, window=3, negative=5, ns_exponent=1, sg=0, epochs=5, workers=8)\n",
    "    model_seed2.build_vocab_from_freq(word_freq=dict(subcorpora_vocabs[sub][\"word_freqs\"][:5000]))\n",
    "    model_seed2.train(subcorpus_ngrams, total_examples=len(subcorpus_ngrams_seed2), epochs=model_seed1.epochs)\n",
    "    vectors_seed2 = model_seed2.wv\n",
    "    vectors_seed2.save(\"../data/large_data/vectors_{}_seed2.kv\".format(sub))\n",
    "    print(\"{} model ready\".format(sub))\n"
   ],
   "metadata": {
    "collapsed": false
   }
  },
  {
   "cell_type": "code",
   "execution_count": null,
   "outputs": [],
   "source": [],
   "metadata": {
    "collapsed": false
   }
  }
 ],
 "metadata": {
  "kernelspec": {
   "name": "conda_base",
   "language": "python",
   "display_name": "conda_base"
  },
  "language_info": {
   "codemirror_mode": {
    "name": "ipython",
    "version": 2
   },
   "file_extension": ".py",
   "mimetype": "text/x-python",
   "name": "python",
   "nbconvert_exporter": "python",
   "pygments_lexer": "ipython2",
   "version": "2.7.6"
  }
 },
 "nbformat": 4,
 "nbformat_minor": 0
}
