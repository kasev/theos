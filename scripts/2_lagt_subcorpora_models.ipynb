{
 "cells": [
  {
   "cell_type": "code",
   "execution_count": 1,
   "outputs": [],
   "source": [
    "import pandas as pd\n",
    "from nltk import FreqDist\n",
    "import pickle\n",
    "import numpy as np\n",
    "from gensim.models import Word2Vec"
   ],
   "metadata": {
    "collapsed": false
   }
  },
  {
   "cell_type": "code",
   "execution_count": 2,
   "metadata": {
    "collapsed": true
   },
   "outputs": [],
   "source": [
    "import numpy as np\n",
    "import pandas as pd\n",
    "import os\n",
    "import requests\n",
    "import re\n",
    "from nltk import FreqDist\n",
    "from sklearn.feature_extraction.text import CountVectorizer\n",
    "from sklearn.decomposition import TruncatedSVD\n",
    "from sklearn.metrics.pairwise import cosine_similarity\n",
    "import pickle\n",
    "from cltk.stops.grc import STOPS as stopwords\n",
    "from gensim.corpora import Dictionary\n",
    "import unicodedata\n",
    "import json"
   ]
  },
  {
   "cell_type": "code",
   "execution_count": 3,
   "outputs": [],
   "source": [
    "LAGT = pd.read_json(\"../data/large_data/LAGT_metadata.json\")"
   ],
   "metadata": {
    "collapsed": false
   }
  },
  {
   "cell_type": "code",
   "execution_count": 4,
   "outputs": [
    {
     "data": {
      "text/plain": "  author_id          doc_id  GLAUx?                         filename  \\\n0   tlg0001  tlg0001.tlg001    True  tlg0001.tlg001.perseus-grc2.xml   \n1   tlg0003  tlg0003.tlg001    True  tlg0003.tlg001.perseus-grc2.xml   \n2   tlg0004  tlg0004.tlg001   False  tlg0004.tlg001.perseus-grc1.xml   \n3   tlg0005  tlg0005.tlg001    True  tlg0005.tlg001.perseus-grc1.xml   \n4   tlg0005  tlg0005.tlg002    True  tlg0005.tlg002.perseus-grc1.xml   \n\n   subcorpus              author                          title  date_avr  \\\n0  classical  Apollonius Rhodius                    Argonautica      -2.5   \n1  classical          Thucydides          The Peloponnesian War      -4.5   \n2      roman   Diogenes Laertius  Lives of Eminent Philosophers       2.5   \n3  classical          Theocritus                        Idylls       -3.0   \n4  classical          Theocritus                      Epigrams       -3.0   \n\n  provenience    tlg_epithet  n_sentences  wordcount  \n0       pagan      Epici/-ae         3252      38822  \n1       pagan  Historici/-ae         6068     150118  \n2       pagan      Biographi        10245     110763  \n3       pagan       Bucolici         1982      19200  \n4       pagan       Bucolici          152       1734  ",
      "text/html": "<div>\n<style scoped>\n    .dataframe tbody tr th:only-of-type {\n        vertical-align: middle;\n    }\n\n    .dataframe tbody tr th {\n        vertical-align: top;\n    }\n\n    .dataframe thead th {\n        text-align: right;\n    }\n</style>\n<table border=\"1\" class=\"dataframe\">\n  <thead>\n    <tr style=\"text-align: right;\">\n      <th></th>\n      <th>author_id</th>\n      <th>doc_id</th>\n      <th>GLAUx?</th>\n      <th>filename</th>\n      <th>subcorpus</th>\n      <th>author</th>\n      <th>title</th>\n      <th>date_avr</th>\n      <th>provenience</th>\n      <th>tlg_epithet</th>\n      <th>n_sentences</th>\n      <th>wordcount</th>\n    </tr>\n  </thead>\n  <tbody>\n    <tr>\n      <th>0</th>\n      <td>tlg0001</td>\n      <td>tlg0001.tlg001</td>\n      <td>True</td>\n      <td>tlg0001.tlg001.perseus-grc2.xml</td>\n      <td>classical</td>\n      <td>Apollonius Rhodius</td>\n      <td>Argonautica</td>\n      <td>-2.5</td>\n      <td>pagan</td>\n      <td>Epici/-ae</td>\n      <td>3252</td>\n      <td>38822</td>\n    </tr>\n    <tr>\n      <th>1</th>\n      <td>tlg0003</td>\n      <td>tlg0003.tlg001</td>\n      <td>True</td>\n      <td>tlg0003.tlg001.perseus-grc2.xml</td>\n      <td>classical</td>\n      <td>Thucydides</td>\n      <td>The Peloponnesian War</td>\n      <td>-4.5</td>\n      <td>pagan</td>\n      <td>Historici/-ae</td>\n      <td>6068</td>\n      <td>150118</td>\n    </tr>\n    <tr>\n      <th>2</th>\n      <td>tlg0004</td>\n      <td>tlg0004.tlg001</td>\n      <td>False</td>\n      <td>tlg0004.tlg001.perseus-grc1.xml</td>\n      <td>roman</td>\n      <td>Diogenes Laertius</td>\n      <td>Lives of Eminent Philosophers</td>\n      <td>2.5</td>\n      <td>pagan</td>\n      <td>Biographi</td>\n      <td>10245</td>\n      <td>110763</td>\n    </tr>\n    <tr>\n      <th>3</th>\n      <td>tlg0005</td>\n      <td>tlg0005.tlg001</td>\n      <td>True</td>\n      <td>tlg0005.tlg001.perseus-grc1.xml</td>\n      <td>classical</td>\n      <td>Theocritus</td>\n      <td>Idylls</td>\n      <td>-3.0</td>\n      <td>pagan</td>\n      <td>Bucolici</td>\n      <td>1982</td>\n      <td>19200</td>\n    </tr>\n    <tr>\n      <th>4</th>\n      <td>tlg0005</td>\n      <td>tlg0005.tlg002</td>\n      <td>True</td>\n      <td>tlg0005.tlg002.perseus-grc1.xml</td>\n      <td>classical</td>\n      <td>Theocritus</td>\n      <td>Epigrams</td>\n      <td>-3.0</td>\n      <td>pagan</td>\n      <td>Bucolici</td>\n      <td>152</td>\n      <td>1734</td>\n    </tr>\n  </tbody>\n</table>\n</div>"
     },
     "execution_count": 4,
     "metadata": {},
     "output_type": "execute_result"
    }
   ],
   "source": [
    "LAGT.head(5)"
   ],
   "metadata": {
    "collapsed": false
   }
  },
  {
   "cell_type": "code",
   "execution_count": 5,
   "outputs": [],
   "source": [
    "subcorpora = ['archaic', 'classical', 'roman', 'christian', 'jewish']"
   ],
   "metadata": {
    "collapsed": false
   }
  },
  {
   "cell_type": "markdown",
   "source": [
    "# Read subcorpora from ngrams - developing a memory-friendly reader"
   ],
   "metadata": {
    "collapsed": false
   }
  },
  {
   "cell_type": "code",
   "execution_count": 6,
   "outputs": [],
   "source": [
    "ids_lines = pickle.load(open(\"../data/ids_lines.pickle\", \"rb\"))"
   ],
   "metadata": {
    "collapsed": false
   }
  },
  {
   "cell_type": "code",
   "execution_count": 7,
   "outputs": [
    {
     "data": {
      "text/plain": "[('tlg0001.tlg001', (0, 41193)),\n ('tlg0003.tlg001', (41193, 184616)),\n ('tlg0004.tlg001', (184616, 280036)),\n ('tlg0005.tlg001', (280036, 300693)),\n ('tlg0005.tlg002', (300693, 302641))]"
     },
     "execution_count": 7,
     "metadata": {},
     "output_type": "execute_result"
    }
   ],
   "source": [
    "list(ids_lines.items())[:5]"
   ],
   "metadata": {
    "collapsed": false
   }
  },
  {
   "cell_type": "code",
   "execution_count": 8,
   "outputs": [
    {
     "data": {
      "text/plain": "26"
     },
     "execution_count": 8,
     "metadata": {},
     "output_type": "execute_result"
    }
   ],
   "source": [
    "subcorpus_ids = LAGT[LAGT[\"subcorpus\"]==\"archaic\"][\"doc_id\"].tolist()\n",
    "len(subcorpus_ids)"
   ],
   "metadata": {
    "collapsed": false
   }
  },
  {
   "cell_type": "code",
   "execution_count": 9,
   "outputs": [
    {
     "data": {
      "text/plain": "339423"
     },
     "execution_count": 9,
     "metadata": {},
     "output_type": "execute_result"
    }
   ],
   "source": [
    "lines_list = [ ]\n",
    "for id in subcorpus_ids:\n",
    "    lines_list.extend([l for l in range(ids_lines[id][0], ids_lines[id][1])])\n",
    "ngrams_n = len(lines_list)\n",
    "ngrams_n"
   ],
   "metadata": {
    "collapsed": false
   }
  },
  {
   "cell_type": "code",
   "execution_count": 10,
   "outputs": [],
   "source": [
    "sample_size=1000000\n",
    "if sample_size != None:\n",
    "    sample_inx =np.random.randint(0, ngrams_n, sample_size)\n",
    "else:\n",
    "    sample_inx =[n for n in range(0, ngrams_n)]"
   ],
   "metadata": {
    "collapsed": false
   }
  },
  {
   "cell_type": "code",
   "execution_count": 11,
   "outputs": [
    {
     "data": {
      "text/plain": "1000000"
     },
     "execution_count": 11,
     "metadata": {},
     "output_type": "execute_result"
    }
   ],
   "source": [
    "sample_lines = np.array(lines_list)[sample_inx]\n",
    "len(sample_lines)"
   ],
   "metadata": {
    "collapsed": false
   }
  },
  {
   "cell_type": "code",
   "execution_count": 12,
   "outputs": [
    {
     "data": {
      "text/plain": "array([7902850, 2075737, 8978287, 1931259, 3268909])"
     },
     "execution_count": 12,
     "metadata": {},
     "output_type": "execute_result"
    }
   ],
   "source": [
    "sample_lines[:5]"
   ],
   "metadata": {
    "collapsed": false
   }
  },
  {
   "cell_type": "code",
   "execution_count": 13,
   "outputs": [],
   "source": [
    "test_ngrams = []\n",
    "with open(\"../data/large_data/corpus_ngrams_bydocid.txt\", \"r\") as f:\n",
    "    lines = f.readlines()\n",
    "    for li in sample_lines:\n",
    "        line = lines[li]# for line index in subcorpus lineindexes\n",
    "        if bool(line.split()):\n",
    "            test_ngrams.append(line.split())"
   ],
   "metadata": {
    "collapsed": false
   }
  },
  {
   "cell_type": "code",
   "execution_count": 14,
   "outputs": [
    {
     "data": {
      "text/plain": "999651"
     },
     "execution_count": 14,
     "metadata": {},
     "output_type": "execute_result"
    }
   ],
   "source": [
    "len(test_ngrams)"
   ],
   "metadata": {
    "collapsed": false
   }
  },
  {
   "cell_type": "markdown",
   "source": [
    "# Sample corpora with memory-friendly reader"
   ],
   "metadata": {
    "collapsed": false
   }
  },
  {
   "cell_type": "code",
   "execution_count": 15,
   "outputs": [],
   "source": [
    "class NgramCorpusSample(object):\n",
    "    def __init__(self, ids_list, ids_lines, fname, sample_size=None, sample_seed=1, bow=False, dct=None):\n",
    "        self.ids_list = ids_list\n",
    "        self.fname = fname\n",
    "        self.bow  = bow\n",
    "        self.dct = dct\n",
    "        self.sample_size = sample_size\n",
    "        self.ids_lines = ids_lines\n",
    "        lines_list = [ ]\n",
    "        for id in ids_list:\n",
    "            lines_list.extend([l for l in range(ids_lines[id][0], ids_lines[id][1])])\n",
    "        ngrams_n = len(lines_list)\n",
    "        if sample_size != None:\n",
    "            np.random.seed(sample_seed)\n",
    "            sample_inx =np.random.randint(0, ngrams_n, sample_size)\n",
    "        else:\n",
    "            sample_inx =[n for n in range(0, ngrams_n)]\n",
    "        sample_lines = np.array(lines_list)[sample_inx]\n",
    "        self.len = len(sample_lines)\n",
    "        self.sample_lines = sample_lines\n",
    "    def __len__(self):\n",
    "        #[el for el in self]\n",
    "        return self.len\n",
    "    def __iter__(self):\n",
    "        with open(self.fname, \"r\") as f:\n",
    "            lines = f.readlines()\n",
    "            for li in self.sample_lines:\n",
    "                line = lines[li] # for line index in subcorpus lineindexes\n",
    "                if bool(line.split()):\n",
    "                    if (self.bow) & (self.dct != None):\n",
    "                        yield self.dct.doc2bow(line.split())\n",
    "                    else:\n",
    "                        yield line.split()"
   ],
   "metadata": {
    "collapsed": false
   }
  },
  {
   "cell_type": "code",
   "execution_count": 16,
   "outputs": [],
   "source": [
    "# test with classical"
   ],
   "metadata": {
    "collapsed": false
   }
  },
  {
   "cell_type": "code",
   "execution_count": 17,
   "outputs": [
    {
     "data": {
      "text/plain": "596"
     },
     "execution_count": 17,
     "metadata": {},
     "output_type": "execute_result"
    }
   ],
   "source": [
    "subcorpus_ids = LAGT[LAGT[\"subcorpus\"]==\"roman\"][\"doc_id\"].tolist()\n",
    "len(subcorpus_ids)"
   ],
   "metadata": {
    "collapsed": false
   }
  },
  {
   "cell_type": "code",
   "execution_count": 18,
   "outputs": [],
   "source": [
    "subcorpus_ngrams =  NgramCorpusSample(subcorpus_ids, ids_lines, \"../data/large_data/corpus_ngrams_bydocid.txt\", sample_size=1000000)"
   ],
   "metadata": {
    "collapsed": false
   }
  },
  {
   "cell_type": "code",
   "execution_count": 19,
   "outputs": [
    {
     "data": {
      "text/plain": "1000000"
     },
     "execution_count": 19,
     "metadata": {},
     "output_type": "execute_result"
    }
   ],
   "source": [
    "len(subcorpus_ngrams)"
   ],
   "metadata": {
    "collapsed": false
   }
  },
  {
   "cell_type": "code",
   "execution_count": 20,
   "outputs": [
    {
     "data": {
      "text/plain": "980208"
     },
     "execution_count": 20,
     "metadata": {},
     "output_type": "execute_result"
    }
   ],
   "source": [
    "len([doc for doc in subcorpus_ngrams])"
   ],
   "metadata": {
    "collapsed": false
   }
  },
  {
   "cell_type": "code",
   "execution_count": 21,
   "outputs": [
    {
     "data": {
      "text/plain": "[('εἰμί', 86416),\n ('αὐτός', 68360),\n ('οὗτος', 55211),\n ('λέγω', 37546),\n ('γίγνομαι', 31525),\n ('τις', 30334),\n ('ἔχω', 29557),\n ('πολύς', 28087),\n ('πᾶς', 22650),\n ('ἄλλος', 21668),\n ('φημί', 17161),\n ('ποιέω', 15230),\n ('λόγος', 14224),\n ('ἐκεῖνος', 11745),\n ('τοιοῦτος', 11694),\n ('μέγας', 11540),\n ('πρῶτος', 10766),\n ('οὐδείς', 9887),\n ('ἕτερος', 9696),\n ('πόλις', 9384),\n ('σῶμα', 8978),\n ('ἅπας', 8360),\n ('ἀγαθός', 8282),\n ('φύσις', 8149),\n ('δύναμις', 8130),\n ('μέρος', 7951),\n ('ἄνθρωπος', 7917),\n ('εἷς', 7831),\n ('ἀρχή', 7814),\n ('λαμβάνω', 7582),\n ('ἕκαστος', 7256),\n ('δοκέω', 7100),\n ('ὁράω', 6997),\n ('δέω', 6949),\n ('μόνος', 6823),\n ('ἀνήρ', 6793),\n ('καλέω', 6710),\n ('δύναμαι', 6256),\n ('ὑπάρχω', 6136),\n ('χρόνος', 5940),\n ('θεός', 5916),\n ('χράω', 5609),\n ('δίδωμι', 5491),\n ('ὅλος', 4946),\n ('ἡμέρα', 4905),\n ('μηδείς', 4883),\n ('γράφω', 4851),\n ('γένος', 4826),\n ('τὶς', 4718),\n ('τίς', 4716)]"
     },
     "execution_count": 21,
     "metadata": {},
     "output_type": "execute_result"
    }
   ],
   "source": [
    "FreqDist([w for ng in subcorpus_ngrams for w in ng]).most_common()[:50]"
   ],
   "metadata": {
    "collapsed": false
   }
  },
  {
   "cell_type": "code",
   "execution_count": 22,
   "outputs": [],
   "source": [
    "with open(\"../data/large_data/subcorpora_vocabs.pickle\", \"rb\") as f:\n",
    "    subcorpora_vocabs = pickle.load(f)"
   ],
   "metadata": {
    "collapsed": false
   }
  },
  {
   "cell_type": "code",
   "execution_count": 45,
   "outputs": [
    {
     "data": {
      "text/plain": "[('εἰμί', 18108),\n ('λέγω', 15873),\n ('θεός', 13922),\n ('οὗτος', 11814),\n ('αὐτός', 11282),\n ('πᾶς', 7431),\n ('γίγνομαι', 7316),\n ('λόγος', 6836),\n ('ἄνθρωπος', 5723),\n ('ἔχω', 5375),\n ('κύριος', 5300),\n ('φημί', 5294),\n ('ποιέω', 4416),\n ('πολύς', 4229),\n ('Ἰησοῦς', 4155),\n ('ὁράω', 3320),\n ('πατήρ', 3158),\n ('Χριστός', 3087),\n ('ψυχή', 3037),\n ('γῆ', 2859),\n ('ἄλλος', 2826),\n ('υἱός', 2753),\n ('δύναμαι', 2654),\n ('πνεῦμα', 2587),\n ('τις', 2552),\n ('ἔρχομαι', 2260),\n ('ἀκούω', 2175),\n ('σῶμα', 2130),\n ('μόνος', 2087),\n ('τοιοῦτος', 2069),\n ('δίδωμι', 2049),\n ('ἀγαθός', 2034),\n ('δύναμις', 1981),\n ('οὐρανός', 1881),\n ('λαμβάνω', 1878),\n ('ἐκεῖνος', 1854),\n ('ὄνομα', 1846),\n ('οἶδα', 1776),\n ('τὶς', 1770),\n ('οὐδείς', 1765),\n ('προφήτης', 1660),\n ('ἅγιος', 1653),\n ('μέγας', 1641),\n ('πιστεύω', 1631),\n ('ἡμέρα', 1628),\n ('κόσμος', 1626),\n ('νόμος', 1593),\n ('καλέω', 1481),\n ('ἀνήρ', 1417),\n ('ἔργον', 1417),\n ('βούλομαι', 1400),\n ('πρῶτος', 1390),\n ('ἕτερος', 1387),\n ('εἷς', 1370),\n ('ὅλος', 1317),\n ('ἀλήθεια', 1315),\n ('εὑρίσκω', 1309),\n ('ἐθέλω', 1303),\n ('γιγνώσκω', 1300),\n ('ἔθνος', 1289),\n ('ἀρχή', 1288),\n ('δοκέω', 1276),\n ('ἕκαστος', 1264),\n ('Ἰουδαῖος', 1258),\n ('φύσις', 1257),\n ('δίκαιος', 1231),\n ('καλός', 1231),\n ('σοφία', 1227),\n ('ἄγγελος', 1213),\n ('ζωή', 1208),\n ('ἁμαρτία', 1206),\n ('καρδία', 1201),\n ('σωτήρ', 1199),\n ('γράφω', 1195),\n ('θεῖος', 1190),\n ('τίς', 1179),\n ('λαός', 1161),\n ('μαθητής', 1080),\n ('τόπος', 1076),\n ('θάνατος', 1074),\n ('δεῖ', 1064),\n ('κακός', 1053),\n ('δόξα', 1047),\n ('γυνή', 1045),\n ('γραφή', 1044),\n ('λαλέω', 1042),\n ('χείρ', 1041),\n ('φωνή', 1036),\n ('αἰών', 1022),\n ('δέω', 1018),\n ('μέλλω', 1011),\n ('σάρξ', 1006),\n ('Ζεύς', 1005),\n ('πίστις', 978),\n ('ὕδωρ', 940),\n ('βασιλεύς', 931),\n ('φέρω', 931),\n ('πῦρ', 922),\n ('διδάσκω', 922),\n ('φῶς', 913)]"
     },
     "execution_count": 45,
     "metadata": {},
     "output_type": "execute_result"
    }
   ],
   "source": [
    "subcorpora_vocabs[\"christian\"][\"word_freqs\"][:100]"
   ],
   "metadata": {
    "collapsed": false
   }
  },
  {
   "cell_type": "code",
   "execution_count": 47,
   "outputs": [
    {
     "data": {
      "text/plain": "{'εἰμί': 68779,\n 'θεός': 54401,\n 'λέγω': 53299,\n 'αὐτός': 44000,\n 'οὗτος': 39635,\n 'πᾶς': 29215,\n 'γίγνομαι': 27883,\n 'λόγος': 26969,\n 'ἄνθρωπος': 22561,\n 'ἔχω': 20629,\n 'κύριος': 19568,\n 'φημί': 17691,\n 'ποιέω': 16660,\n 'πολύς': 16373,\n 'Ἰησοῦς': 16227,\n 'πατήρ': 12170,\n 'Χριστός': 12010,\n 'ψυχή': 11777,\n 'ὁράω': 11503,\n 'ἄλλος': 10979,\n 'υἱός': 10971,\n 'τις': 10790,\n 'γῆ': 10742,\n 'πνεῦμα': 10233,\n 'δύναμαι': 9945,\n 'σῶμα': 8386,\n 'μόνος': 8260,\n 'ἔρχομαι': 8161,\n 'δύναμις': 8053,\n 'τοιοῦτος': 7643,\n 'δίδωμι': 7637,\n 'ἀγαθός': 7582,\n 'ἀκούω': 7534,\n 'ὄνομα': 7222,\n 'οὐρανός': 7217,\n 'λαμβάνω': 7091,\n 'ἐκεῖνος': 6962,\n 'ἅγιος': 6598,\n 'μέγας': 6584,\n 'τὶς': 6472,\n 'προφήτης': 6457,\n 'κόσμος': 6421,\n 'οὐδείς': 6405,\n 'ἡμέρα': 6269,\n 'νόμος': 6201,\n 'οἶδα': 6183,\n 'πιστεύω': 6009,\n 'καλέω': 5594,\n 'ἀνήρ': 5586,\n 'ἔργον': 5528,\n 'εἷς': 5356,\n 'ὅλος': 5325,\n 'πρῶτος': 5189,\n 'ἕτερος': 5164,\n 'βούλομαι': 5107,\n 'ἀρχή': 5094,\n 'ἀλήθεια': 5040,\n 'ἔθνος': 5026,\n 'φύσις': 5013,\n 'Ἰουδαῖος': 4985,\n 'θεῖος': 4960,\n 'εὑρίσκω': 4923,\n 'σοφία': 4880,\n 'ἕκαστος': 4854,\n 'ἄγγελος': 4809,\n 'καρδία': 4719,\n 'γιγνώσκω': 4675,\n 'δίκαιος': 4659,\n 'καλός': 4656,\n 'ζωή': 4646,\n 'ἐθέλω': 4646,\n 'ἁμαρτία': 4593,\n 'σωτήρ': 4554,\n 'δοκέω': 4541,\n 'λαός': 4345,\n 'θάνατος': 4224,\n 'τόπος': 4196,\n 'χείρ': 4188,\n 'μαθητής': 4139,\n 'φωνή': 4098,\n 'γραφή': 4088,\n 'δόξα': 4081,\n 'γυνή': 4030,\n 'Ζεύς': 4013,\n 'γράφω': 3994,\n 'κακός': 3989,\n 'μέλλω': 3967,\n 'σάρξ': 3924,\n 'δέω': 3891,\n 'ἴδιος': 3806,\n 'πίστις': 3761,\n 'δεῖ': 3747,\n 'αἰών': 3746,\n 'ὕδωρ': 3722,\n 'λαλέω': 3713,\n 'τίς': 3613,\n 'διδάσκω': 3588,\n 'νομίζω': 3565,\n 'τυγχάνω': 3556,\n 'βασιλεύς': 3530}"
     },
     "execution_count": 47,
     "metadata": {},
     "output_type": "execute_result"
    }
   ],
   "source": [
    "subcorpus_ids = LAGT[LAGT[\"subcorpus\"]==\"christian\"][\"doc_id\"].tolist()\n",
    "subcorpus_ngrams_seed1 =  NgramCorpusSample(subcorpus_ids, ids_lines, \"../data/large_data/corpus_ngrams_bydocid.txt\", sample_size=1000000, sample_seed=1)\n",
    "dict(FreqDist([w for ng in subcorpus_ngrams_seed1 for w in ng]).most_common()[:100])"
   ],
   "metadata": {
    "collapsed": false
   }
  },
  {
   "cell_type": "code",
   "execution_count": 23,
   "outputs": [],
   "source": [
    "subcorpus_ngrams_seed1 =  NgramCorpusSample(subcorpus_ids, ids_lines, \"../data/large_data/corpus_ngrams_bydocid.txt\", sample_size=1000000, sample_seed=1)\n",
    "subcorpus_ngrams_seed2 =  NgramCorpusSample(subcorpus_ids, ids_lines, \"../data/large_data/corpus_ngrams_bydocid.txt\", sample_size=1000000, sample_seed=2)"
   ],
   "metadata": {
    "collapsed": false
   }
  },
  {
   "cell_type": "code",
   "execution_count": 24,
   "outputs": [],
   "source": [
    "freqs_comparison = pd.DataFrame(\n",
    "    [dict(subcorpora_vocabs[\"roman\"][\"word_freqs\"][:5000]),\n",
    "    dict(FreqDist([w for ng in subcorpus_ngrams_seed1 for w in ng]).most_common()[:5000]),\n",
    "    dict(FreqDist([w for ng in subcorpus_ngrams_seed2 for w in ng]).most_common()[:5000])]\n",
    ").T"
   ],
   "metadata": {
    "collapsed": false
   }
  },
  {
   "cell_type": "code",
   "execution_count": 25,
   "outputs": [
    {
     "data": {
      "text/plain": "          0         1         2\n0  1.000000  0.998884  0.998790\n1  0.998884  1.000000  0.999912\n2  0.998790  0.999912  1.000000",
      "text/html": "<div>\n<style scoped>\n    .dataframe tbody tr th:only-of-type {\n        vertical-align: middle;\n    }\n\n    .dataframe tbody tr th {\n        vertical-align: top;\n    }\n\n    .dataframe thead th {\n        text-align: right;\n    }\n</style>\n<table border=\"1\" class=\"dataframe\">\n  <thead>\n    <tr style=\"text-align: right;\">\n      <th></th>\n      <th>0</th>\n      <th>1</th>\n      <th>2</th>\n    </tr>\n  </thead>\n  <tbody>\n    <tr>\n      <th>0</th>\n      <td>1.000000</td>\n      <td>0.998884</td>\n      <td>0.998790</td>\n    </tr>\n    <tr>\n      <th>1</th>\n      <td>0.998884</td>\n      <td>1.000000</td>\n      <td>0.999912</td>\n    </tr>\n    <tr>\n      <th>2</th>\n      <td>0.998790</td>\n      <td>0.999912</td>\n      <td>1.000000</td>\n    </tr>\n  </tbody>\n</table>\n</div>"
     },
     "execution_count": 25,
     "metadata": {},
     "output_type": "execute_result"
    }
   ],
   "source": [
    "freqs_comparison.dropna().corr()"
   ],
   "metadata": {
    "collapsed": false
   }
  },
  {
   "cell_type": "code",
   "execution_count": 26,
   "outputs": [
    {
     "data": {
      "text/plain": "5365"
     },
     "execution_count": 26,
     "metadata": {},
     "output_type": "execute_result"
    }
   ],
   "source": [
    "len(freqs_comparison)"
   ],
   "metadata": {
    "collapsed": false
   }
  },
  {
   "cell_type": "code",
   "execution_count": 27,
   "outputs": [
    {
     "data": {
      "text/plain": "          0         1         2\n0  1.000000  0.987949  0.988137\n1  0.987949  1.000000  0.985046\n2  0.988137  0.985046  1.000000",
      "text/html": "<div>\n<style scoped>\n    .dataframe tbody tr th:only-of-type {\n        vertical-align: middle;\n    }\n\n    .dataframe tbody tr th {\n        vertical-align: top;\n    }\n\n    .dataframe thead th {\n        text-align: right;\n    }\n</style>\n<table border=\"1\" class=\"dataframe\">\n  <thead>\n    <tr style=\"text-align: right;\">\n      <th></th>\n      <th>0</th>\n      <th>1</th>\n      <th>2</th>\n    </tr>\n  </thead>\n  <tbody>\n    <tr>\n      <th>0</th>\n      <td>1.000000</td>\n      <td>0.987949</td>\n      <td>0.988137</td>\n    </tr>\n    <tr>\n      <th>1</th>\n      <td>0.987949</td>\n      <td>1.000000</td>\n      <td>0.985046</td>\n    </tr>\n    <tr>\n      <th>2</th>\n      <td>0.988137</td>\n      <td>0.985046</td>\n      <td>1.000000</td>\n    </tr>\n  </tbody>\n</table>\n</div>"
     },
     "execution_count": 27,
     "metadata": {},
     "output_type": "execute_result"
    }
   ],
   "source": [
    "freqs_comparison[:4000].corr(method=\"spearman\")"
   ],
   "metadata": {
    "collapsed": false
   }
  },
  {
   "cell_type": "code",
   "execution_count": 28,
   "outputs": [
    {
     "data": {
      "text/plain": "          0         1         2\n0  1.000000  0.986517  0.986683\n1  0.986517  1.000000  0.982736\n2  0.986683  0.982736  1.000000",
      "text/html": "<div>\n<style scoped>\n    .dataframe tbody tr th:only-of-type {\n        vertical-align: middle;\n    }\n\n    .dataframe tbody tr th {\n        vertical-align: top;\n    }\n\n    .dataframe thead th {\n        text-align: right;\n    }\n</style>\n<table border=\"1\" class=\"dataframe\">\n  <thead>\n    <tr style=\"text-align: right;\">\n      <th></th>\n      <th>0</th>\n      <th>1</th>\n      <th>2</th>\n    </tr>\n  </thead>\n  <tbody>\n    <tr>\n      <th>0</th>\n      <td>1.000000</td>\n      <td>0.986517</td>\n      <td>0.986683</td>\n    </tr>\n    <tr>\n      <th>1</th>\n      <td>0.986517</td>\n      <td>1.000000</td>\n      <td>0.982736</td>\n    </tr>\n    <tr>\n      <th>2</th>\n      <td>0.986683</td>\n      <td>0.982736</td>\n      <td>1.000000</td>\n    </tr>\n  </tbody>\n</table>\n</div>"
     },
     "execution_count": 28,
     "metadata": {},
     "output_type": "execute_result"
    }
   ],
   "source": [
    "np.log2(freqs_comparison).corr(method=\"spearman\")"
   ],
   "metadata": {
    "collapsed": false
   }
  },
  {
   "cell_type": "code",
   "execution_count": 29,
   "outputs": [],
   "source": [
    "# let's build two models based on the same subcorpus but sampled with different seed"
   ],
   "metadata": {
    "collapsed": false
   }
  },
  {
   "cell_type": "code",
   "execution_count": 54,
   "outputs": [
    {
     "name": "stdout",
     "output_type": "stream",
     "text": [
      "CPU times: user 1min 34s, sys: 1min 33s, total: 3min 8s\n",
      "Wall time: 3min 41s\n"
     ]
    }
   ],
   "source": [
    "%%time\n",
    "sub = \"christian\"\n",
    "\n",
    "ids_lines = pickle.load(open(\"../data/ids_lines_wide.pickle\", \"rb\"))\n",
    "\n",
    "subcorpus_ids = LAGT[LAGT[\"subcorpus\"]==sub][\"doc_id\"].tolist()\n",
    "subcorpus_ngrams_seed1 =  NgramCorpusSample(subcorpus_ids, ids_lines, \"../data/large_data/corpus_ngrams_bydocid_wide.txt\", sample_size=1000000, sample_seed=1)\n",
    "model_seed1 = Word2Vec(vector_size=300, window=5, negative=5, ns_exponent=1, sg=0, epochs=5, workers=8)\n",
    "model_seed1.build_vocab_from_freq(word_freq=dict(subcorpora_vocabs[sub][\"word_freqs\"][:5000]))\n",
    "model_seed1.train(subcorpus_ngrams_seed1, total_examples=len(subcorpus_ngrams_seed1), epochs=model_seed1.epochs)\n",
    "vectors_seed1 = model_seed1.wv\n",
    "\n",
    "subcorpus_ngrams_seed2 =  NgramCorpusSample(subcorpus_ids, ids_lines, \"../data/large_data/corpus_ngrams_bydocid_wide.txt\", sample_size=1000000, sample_seed=2)\n",
    "model_seed2 = Word2Vec(vector_size=300, window=5, negative=5, ns_exponent=1, sg=0, epochs=5, workers=8)\n",
    "model_seed2.build_vocab_from_freq(word_freq=dict(subcorpora_vocabs[sub][\"word_freqs\"][:5000]))\n",
    "model_seed2.train(subcorpus_ngrams_seed2, total_examples=len(subcorpus_ngrams_seed2), epochs=model_seed1.epochs)\n",
    "vectors_seed2 = model_seed2.wv"
   ],
   "metadata": {
    "collapsed": false
   }
  },
  {
   "cell_type": "code",
   "execution_count": 67,
   "outputs": [
    {
     "name": "stdout",
     "output_type": "stream",
     "text": [
      "CPU times: user 2min 2s, sys: 1min 36s, total: 3min 38s\n",
      "Wall time: 3min 36s\n"
     ]
    }
   ],
   "source": [
    "%%time\n",
    "sub = \"christian\"\n",
    "\n",
    "ids_lines = pickle.load(open(\"../data/ids_lines_wide.pickle\", \"rb\"))\n",
    "\n",
    "subcorpus_ids = LAGT[LAGT[\"subcorpus\"]==sub][\"doc_id\"].tolist()\n",
    "subcorpus_ngrams_seed1 =  NgramCorpusSample(subcorpus_ids, ids_lines, \"../data/large_data/corpus_ngrams_bydocid_wide.txt\", sample_size=1000000, sample_seed=1)\n",
    "model_seed1 = Word2Vec(vector_size=150, window=5, negative=10, ns_exponent=1, sg=0, epochs=10, workers=8)\n",
    "model_seed1.build_vocab_from_freq(word_freq=dict(subcorpora_vocabs[sub][\"word_freqs\"][:5000]))\n",
    "model_seed1.train(subcorpus_ngrams_seed1, total_examples=len(subcorpus_ngrams_seed1), epochs=model_seed1.epochs)\n",
    "vectors_seed1 = model_seed1.wv"
   ],
   "metadata": {
    "collapsed": false
   }
  },
  {
   "cell_type": "code",
   "execution_count": 68,
   "outputs": [
    {
     "data": {
      "text/plain": "[('πατήρ', 0.6515190601348877),\n ('πᾶς', 0.5908412337303162),\n ('κύριος', 0.5609226226806641),\n ('αὐτός', 0.5474833846092224),\n ('ἄνθρωπος', 0.5271167755126953),\n ('υἱός', 0.5110946893692017),\n ('θεάομαι', 0.4859754741191864),\n ('εἰμί', 0.47749844193458557),\n ('Χριστός', 0.46819695830345154),\n ('ποιέω', 0.45377299189567566),\n ('μόνος', 0.4350758492946625),\n ('οὗτος', 0.42706435918807983),\n ('ὕψιστος', 0.4268984794616699),\n ('ἅγιος', 0.413791298866272),\n ('κτίζω', 0.40416866540908813),\n ('σωτήρ', 0.38842055201530457),\n ('γιγνώσκω', 0.38503652811050415),\n ('δημιουργός', 0.38192018866539),\n ('θέλημα', 0.3792124092578888),\n ('μονογενής', 0.3734242022037506),\n ('ἔργον', 0.3722973167896271),\n ('ἄγγελος', 0.3703501224517822),\n ('ἐκεῖνος', 0.36784207820892334),\n ('πνεῦμα', 0.3632454574108124),\n ('δικαιοσύνη', 0.3629826605319977),\n ('δοξάζω', 0.3620379865169525),\n ('γίγνομαι', 0.3476223051548004),\n ('δίδωμι', 0.34688252210617065),\n ('δόξα', 0.34507009387016296),\n ('λέγω', 0.34485557675361633),\n ('Ἰησοῦς', 0.3372294306755066),\n ('δικαιόω', 0.3364727795124054),\n ('ζωή', 0.3341730237007141),\n ('πιστεύω', 0.3332116901874542),\n ('χριστός', 0.3323409855365753),\n ('ἔθνος', 0.32909056544303894),\n ('λόγος', 0.3285239636898041),\n ('σοφία', 0.3267665505409241),\n ('ἀληθινός', 0.32657331228256226),\n ('ὅλος', 0.32601234316825867),\n ('αἰών', 0.32581326365470886),\n ('παντοκράτωρ', 0.32114240527153015),\n ('κόσμος', 0.3207765221595764),\n ('τέλειος', 0.319065660238266),\n ('προορίζω', 0.3182048797607422),\n ('λαλέω', 0.3177869915962219),\n ('θεῖος', 0.3162415623664856),\n ('οὐρανός', 0.3149015009403229),\n ('δίκαιος', 0.3144320547580719),\n ('σῴζω', 0.31207653880119324),\n ('ἐπιγιγνώσκω', 0.30703970789909363),\n ('Ἀβραάμ', 0.3055948317050934),\n ('Ἰακώβ', 0.30554014444351196),\n ('προφήτης', 0.3043636083602905),\n ('σωτηρία', 0.30425161123275757),\n ('τίς', 0.3026820123195648),\n ('κληρονομέω', 0.3025510311126709),\n ('ἀγαθός', 0.3019382059574127),\n ('Ἰσραήλ', 0.30097782611846924),\n ('νοέω', 0.2996910810470581),\n ('ἀπαύγασμα', 0.2973575294017792),\n ('ἀλήθεια', 0.2960739731788635),\n ('λαμβάνω', 0.2926807999610901),\n ('φανερόω', 0.2912173569202423),\n ('υἱοθεσία', 0.28574711084365845),\n ('πίστις', 0.28448885679244995),\n ('σός', 0.28402259945869446),\n ('ἐμός', 0.2834528684616089),\n ('ἀγαπάω', 0.28290873765945435),\n ('σάρξ', 0.28224948048591614),\n ('νόμος', 0.2821607291698456),\n ('ζῶ', 0.280274361371994),\n ('οἶδα', 0.27752894163131714),\n ('ἐπουράνιος', 0.27735427021980286),\n ('ἴδιος', 0.2754972279071808),\n ('ὑπακούω', 0.2726038992404938),\n ('οὐράνιος', 0.2720203101634979),\n ('ἀρχή', 0.27171817421913147),\n ('καρδία', 0.27159950137138367),\n ('κτίσις', 0.27134808897972107),\n ('δύναμις', 0.2705925703048706),\n ('ἴς', 0.2699109613895416),\n ('πατρικός', 0.26914992928504944),\n ('σύμμορφος', 0.2674277424812317),\n ('πρωτότοκος', 0.26547834277153015),\n ('ἐγκαταλείπω', 0.2644122540950775),\n ('κρίσις', 0.26348254084587097),\n ('μεγαλειότης', 0.26242882013320923),\n ('ἄρχων', 0.260234534740448),\n ('ὄνομα', 0.26002395153045654),\n ('μετοχή', 0.2560986578464508),\n ('οὐδείς', 0.25594258308410645),\n ('μέγας', 0.254874587059021),\n ('ἁμαρτία', 0.2544448971748352),\n ('βουλή', 0.25317367911338806),\n ('αἰώνιος', 0.2522723376750946),\n ('γνωρίζω', 0.24990560114383698),\n ('ἀίδιος', 0.2494499236345291),\n ('κτίστης', 0.24839568138122559),\n ('διάβολος', 0.24626852571964264)]"
     },
     "execution_count": 68,
     "metadata": {},
     "output_type": "execute_result"
    }
   ],
   "source": [
    "vectors_seed1.most_similar(\"θεός\", topn=100)"
   ],
   "metadata": {
    "collapsed": false
   }
  },
  {
   "cell_type": "code",
   "execution_count": 53,
   "outputs": [
    {
     "data": {
      "text/plain": "[('πατήρ', 0.5577408671379089),\n ('θεάομαι', 0.5401045083999634),\n ('μονογενής', 0.4900631010532379),\n ('κτίζω', 0.4816646873950958),\n ('δικαιόω', 0.46700701117515564),\n ('δοξάζω', 0.46657902002334595),\n ('κύριος', 0.46452370285987854),\n ('ὕψιστος', 0.4622103273868561),\n ('λατρεύω', 0.4573732316493988),\n ('κτίστης', 0.43176156282424927),\n ('δημιουργός', 0.43148964643478394),\n ('ἅγιος', 0.4267151355743408),\n ('πρωτότοκος', 0.4232553243637085),\n ('θέλημα', 0.42045000195503235),\n ('ἐποπτεύω', 0.4169687330722809),\n ('φιλανθρωπία', 0.4122227430343628),\n ('ἀγγέλλω', 0.40653756260871887),\n ('εὐδοκία', 0.4060286581516266),\n ('κτίσις', 0.39396706223487854),\n ('παντοκράτωρ', 0.38986948132514954),\n ('ἐπουράνιος', 0.3892580568790436),\n ('ὑπακούω', 0.38902029395103455),\n ('πατρικός', 0.38235482573509216),\n ('ἀθετέω', 0.37913358211517334),\n ('ἄγγελος', 0.3788931667804718),\n ('δικαιοσύνη', 0.37796279788017273),\n ('Δευτερονόμιον', 0.37541821599006653),\n ('γνωρίζω', 0.36965903639793396),\n ('δεσπότης', 0.3687635064125061),\n ('ὑποτάσσω', 0.36754798889160156),\n ('ἀπεκδέχομαι', 0.36686670780181885),\n ('σύμμορφος', 0.362184077501297),\n ('εὔχομαι', 0.3551553785800934),\n ('ἀρνούμενος', 0.35386019945144653),\n ('διατάσσω', 0.3502766788005829),\n ('διακονέω', 0.348652720451355),\n ('χριστός', 0.34623292088508606),\n ('δωρεά', 0.34352973103523254),\n ('βουλή', 0.3428083658218384),\n ('ὑμνέω', 0.34222084283828735),\n ('ἀποκάλυψις', 0.3417741656303406),\n ('προορίζω', 0.3417307436466217),\n ('τελείωσις', 0.34166210889816284),\n ('ἀγνοέω', 0.33742818236351013),\n ('ὅσιος', 0.33667242527008057),\n ('Χριστός', 0.3353364169597626),\n ('μερίς', 0.33406734466552734),\n ('Ἀβραάμ', 0.3330709934234619),\n ('Ἰακώβ', 0.3319649398326874),\n ('σωτήρ', 0.33138686418533325)]"
     },
     "execution_count": 53,
     "metadata": {},
     "output_type": "execute_result"
    }
   ],
   "source": [
    "vectors_seed1.most_similar(\"θεός\", topn=50)"
   ],
   "metadata": {
    "collapsed": false
   }
  },
  {
   "cell_type": "code",
   "execution_count": 50,
   "outputs": [
    {
     "data": {
      "text/plain": "[('θεάομαι', 0.5411101579666138),\n ('πατήρ', 0.5052980780601501),\n ('ὕψιστος', 0.4751611351966858),\n ('δικαιόω', 0.44995972514152527),\n ('κύριος', 0.437126100063324),\n ('δοξάζω', 0.430563360452652),\n ('πατρικός', 0.3941265642642975),\n ('κτίζω', 0.3896220922470093),\n ('Παντοκράτωρ', 0.3879062533378601),\n ('βουλή', 0.3842664361000061),\n ('μονογενής', 0.3815300464630127),\n ('πρωτότοκος', 0.37906092405319214),\n ('προορίζω', 0.37243735790252686),\n ('παντοκράτωρ', 0.3713606595993042),\n ('ἀποκάλυψις', 0.36500269174575806),\n ('κόλπος', 0.3639462888240814),\n ('δικαίωμα', 0.3613603711128235),\n ('εὐδοκία', 0.3578028380870819),\n ('ὑμνέω', 0.35749974846839905),\n ('ἀπαύγασμα', 0.35647052526474)]"
     },
     "execution_count": 50,
     "metadata": {},
     "output_type": "execute_result"
    }
   ],
   "source": [
    "vectors_seed2.most_similar(\"θεός\", topn=20)"
   ],
   "metadata": {
    "collapsed": false
   }
  },
  {
   "cell_type": "code",
   "execution_count": 51,
   "outputs": [
    {
     "name": "stdout",
     "output_type": "stream",
     "text": [
      "generating model for the archaic subcorpus...\n",
      "archaic model ready\n",
      "generating model for the classical subcorpus...\n",
      "classical model ready\n",
      "generating model for the roman subcorpus...\n",
      "roman model ready\n",
      "generating model for the christian subcorpus...\n",
      "christian model ready\n",
      "generating model for the jewish subcorpus...\n",
      "jewish model ready\n"
     ]
    }
   ],
   "source": [
    "for sub in subcorpora:\n",
    "    subcorpus_ids = LAGT[LAGT[\"subcorpus\"]==sub][\"doc_id\"].tolist()\n",
    "    #do the stuff above\n",
    "    print(\"generating model for the {} subcorpus...\".format(sub))\n",
    "    subcorpus_ngrams_seed1 =  NgramCorpusSample(subcorpus_ids, ids_lines, \"../data/large_data/corpus_ngrams_bydocid.txt\", sample_size=1000000, sample_seed=1)\n",
    "    model_seed1 = Word2Vec(vector_size=300, window=5, negative=2, ns_exponent=1, sg=0, epochs=5, workers=8)\n",
    "    model_seed1.build_vocab_from_freq(word_freq=dict(subcorpora_vocabs[sub][\"word_freqs\"][:5000]))\n",
    "    model_seed1.train(subcorpus_ngrams_seed1, total_examples=len(subcorpus_ngrams_seed1), epochs=model_seed1.epochs)\n",
    "    vectors_seed1 = model_seed1.wv\n",
    "    vectors_seed1.save(\"../data/large_data/vectors_{}_seed1.kv\".format(sub))\n",
    "    subcorpus_ngrams_seed2 =  NgramCorpusSample(subcorpus_ids, ids_lines, \"../data/large_data/corpus_ngrams_bydocid.txt\", sample_size=1000000, sample_seed=2)\n",
    "    model_seed2 = Word2Vec(vector_size=300, window=5, negative=2, ns_exponent=1, sg=0, epochs=5, workers=8)\n",
    "    model_seed2.build_vocab_from_freq(word_freq=dict(subcorpora_vocabs[sub][\"word_freqs\"][:5000]))\n",
    "    model_seed2.train(subcorpus_ngrams_seed1, total_examples=len(subcorpus_ngrams_seed2), epochs=model_seed1.epochs)\n",
    "    vectors_seed2 = model_seed2.wv\n",
    "    vectors_seed2.save(\"../data/large_data/vectors_{}_seed2.kv\".format(sub))\n",
    "    print(\"{} model ready\".format(sub))\n"
   ],
   "metadata": {
    "collapsed": false
   }
  },
  {
   "cell_type": "code",
   "execution_count": null,
   "outputs": [],
   "source": [],
   "metadata": {
    "collapsed": false
   }
  }
 ],
 "metadata": {
  "kernelspec": {
   "name": "conda_base",
   "language": "python",
   "display_name": "conda_base"
  },
  "language_info": {
   "codemirror_mode": {
    "name": "ipython",
    "version": 2
   },
   "file_extension": ".py",
   "mimetype": "text/x-python",
   "name": "python",
   "nbconvert_exporter": "python",
   "pygments_lexer": "ipython2",
   "version": "2.7.6"
  }
 },
 "nbformat": 4,
 "nbformat_minor": 0
}
