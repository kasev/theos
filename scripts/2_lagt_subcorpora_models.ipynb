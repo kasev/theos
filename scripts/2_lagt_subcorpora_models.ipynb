{
 "cells": [
  {
   "cell_type": "code",
   "execution_count": 4,
   "outputs": [],
   "source": [
    "import pandas as pd\n",
    "from nltk import FreqDist\n",
    "import pickle\n",
    "import numpy as np\n",
    "from gensim.models import Word2Vec"
   ],
   "metadata": {
    "collapsed": false
   }
  },
  {
   "cell_type": "code",
   "execution_count": 5,
   "metadata": {
    "collapsed": true
   },
   "outputs": [],
   "source": [
    "import numpy as np\n",
    "import pandas as pd\n",
    "import os\n",
    "import requests\n",
    "import re\n",
    "from nltk import FreqDist\n",
    "from sklearn.feature_extraction.text import CountVectorizer\n",
    "from sklearn.decomposition import TruncatedSVD\n",
    "from sklearn.metrics.pairwise import cosine_similarity\n",
    "import pickle\n",
    "from cltk.stops.grc import STOPS as stopwords\n",
    "from gensim.corpora import Dictionary\n",
    "import unicodedata\n",
    "import json"
   ]
  },
  {
   "cell_type": "code",
   "execution_count": 7,
   "outputs": [],
   "source": [
    "LAGT = pd.read_json(\"../data/large_data/LAGT_metadata.json\")"
   ],
   "metadata": {
    "collapsed": false
   }
  },
  {
   "cell_type": "code",
   "execution_count": 8,
   "outputs": [
    {
     "data": {
      "text/plain": "  author_id          doc_id  GLAUx?                         filename  \\\n0   tlg0001  tlg0001.tlg001    True  tlg0001.tlg001.perseus-grc2.xml   \n1   tlg0003  tlg0003.tlg001    True  tlg0003.tlg001.perseus-grc2.xml   \n2   tlg0004  tlg0004.tlg001   False  tlg0004.tlg001.perseus-grc1.xml   \n3   tlg0005  tlg0005.tlg001    True  tlg0005.tlg001.perseus-grc1.xml   \n4   tlg0005  tlg0005.tlg002    True  tlg0005.tlg002.perseus-grc1.xml   \n\n   subcorpus              author                          title  date_avr  \\\n0  classical  Apollonius Rhodius                    Argonautica      -2.5   \n1  classical          Thucydides          The Peloponnesian War      -4.5   \n2      roman   Diogenes Laertius  Lives of Eminent Philosophers       2.5   \n3  classical          Theocritus                        Idylls       -3.0   \n4  classical          Theocritus                      Epigrams       -3.0   \n\n  provenience    tlg_epithet  n_sentences  wordcount  \n0       pagan      Epici/-ae         3252      38822  \n1       pagan  Historici/-ae         6068     150118  \n2       pagan      Biographi        10245     110763  \n3       pagan       Bucolici         1982      19200  \n4       pagan       Bucolici          152       1734  ",
      "text/html": "<div>\n<style scoped>\n    .dataframe tbody tr th:only-of-type {\n        vertical-align: middle;\n    }\n\n    .dataframe tbody tr th {\n        vertical-align: top;\n    }\n\n    .dataframe thead th {\n        text-align: right;\n    }\n</style>\n<table border=\"1\" class=\"dataframe\">\n  <thead>\n    <tr style=\"text-align: right;\">\n      <th></th>\n      <th>author_id</th>\n      <th>doc_id</th>\n      <th>GLAUx?</th>\n      <th>filename</th>\n      <th>subcorpus</th>\n      <th>author</th>\n      <th>title</th>\n      <th>date_avr</th>\n      <th>provenience</th>\n      <th>tlg_epithet</th>\n      <th>n_sentences</th>\n      <th>wordcount</th>\n    </tr>\n  </thead>\n  <tbody>\n    <tr>\n      <th>0</th>\n      <td>tlg0001</td>\n      <td>tlg0001.tlg001</td>\n      <td>True</td>\n      <td>tlg0001.tlg001.perseus-grc2.xml</td>\n      <td>classical</td>\n      <td>Apollonius Rhodius</td>\n      <td>Argonautica</td>\n      <td>-2.5</td>\n      <td>pagan</td>\n      <td>Epici/-ae</td>\n      <td>3252</td>\n      <td>38822</td>\n    </tr>\n    <tr>\n      <th>1</th>\n      <td>tlg0003</td>\n      <td>tlg0003.tlg001</td>\n      <td>True</td>\n      <td>tlg0003.tlg001.perseus-grc2.xml</td>\n      <td>classical</td>\n      <td>Thucydides</td>\n      <td>The Peloponnesian War</td>\n      <td>-4.5</td>\n      <td>pagan</td>\n      <td>Historici/-ae</td>\n      <td>6068</td>\n      <td>150118</td>\n    </tr>\n    <tr>\n      <th>2</th>\n      <td>tlg0004</td>\n      <td>tlg0004.tlg001</td>\n      <td>False</td>\n      <td>tlg0004.tlg001.perseus-grc1.xml</td>\n      <td>roman</td>\n      <td>Diogenes Laertius</td>\n      <td>Lives of Eminent Philosophers</td>\n      <td>2.5</td>\n      <td>pagan</td>\n      <td>Biographi</td>\n      <td>10245</td>\n      <td>110763</td>\n    </tr>\n    <tr>\n      <th>3</th>\n      <td>tlg0005</td>\n      <td>tlg0005.tlg001</td>\n      <td>True</td>\n      <td>tlg0005.tlg001.perseus-grc1.xml</td>\n      <td>classical</td>\n      <td>Theocritus</td>\n      <td>Idylls</td>\n      <td>-3.0</td>\n      <td>pagan</td>\n      <td>Bucolici</td>\n      <td>1982</td>\n      <td>19200</td>\n    </tr>\n    <tr>\n      <th>4</th>\n      <td>tlg0005</td>\n      <td>tlg0005.tlg002</td>\n      <td>True</td>\n      <td>tlg0005.tlg002.perseus-grc1.xml</td>\n      <td>classical</td>\n      <td>Theocritus</td>\n      <td>Epigrams</td>\n      <td>-3.0</td>\n      <td>pagan</td>\n      <td>Bucolici</td>\n      <td>152</td>\n      <td>1734</td>\n    </tr>\n  </tbody>\n</table>\n</div>"
     },
     "execution_count": 8,
     "metadata": {},
     "output_type": "execute_result"
    }
   ],
   "source": [
    "LAGT.head(5)"
   ],
   "metadata": {
    "collapsed": false
   }
  },
  {
   "cell_type": "code",
   "execution_count": 9,
   "outputs": [],
   "source": [
    "subcorpora = ['archaic', 'classical', 'roman', 'christian', 'jewish']"
   ],
   "metadata": {
    "collapsed": false
   }
  },
  {
   "cell_type": "markdown",
   "source": [
    "# Read subcorpora from ngrams - developing a memory-friendly reader"
   ],
   "metadata": {
    "collapsed": false
   }
  },
  {
   "cell_type": "code",
   "execution_count": 10,
   "outputs": [],
   "source": [
    "ids_lines = pickle.load(open(\"../data/ids_lines.pickle\", \"rb\"))"
   ],
   "metadata": {
    "collapsed": false
   }
  },
  {
   "cell_type": "code",
   "execution_count": 11,
   "outputs": [
    {
     "data": {
      "text/plain": "[('tlg0001.tlg001', (0, 41193)),\n ('tlg0003.tlg001', (41193, 184616)),\n ('tlg0004.tlg001', (184616, 280036)),\n ('tlg0005.tlg001', (280036, 300693)),\n ('tlg0005.tlg002', (300693, 302641))]"
     },
     "execution_count": 11,
     "metadata": {},
     "output_type": "execute_result"
    }
   ],
   "source": [
    "list(ids_lines.items())[:5]"
   ],
   "metadata": {
    "collapsed": false
   }
  },
  {
   "cell_type": "code",
   "execution_count": 12,
   "outputs": [
    {
     "data": {
      "text/plain": "26"
     },
     "execution_count": 12,
     "metadata": {},
     "output_type": "execute_result"
    }
   ],
   "source": [
    "subcorpus_ids = LAGT[LAGT[\"subcorpus\"]==\"archaic\"][\"doc_id\"].tolist()\n",
    "len(subcorpus_ids)"
   ],
   "metadata": {
    "collapsed": false
   }
  },
  {
   "cell_type": "code",
   "execution_count": 13,
   "outputs": [
    {
     "data": {
      "text/plain": "339423"
     },
     "execution_count": 13,
     "metadata": {},
     "output_type": "execute_result"
    }
   ],
   "source": [
    "lines_list = [ ]\n",
    "for id in subcorpus_ids:\n",
    "    lines_list.extend([l for l in range(ids_lines[id][0], ids_lines[id][1])])\n",
    "ngrams_n = len(lines_list)\n",
    "ngrams_n"
   ],
   "metadata": {
    "collapsed": false
   }
  },
  {
   "cell_type": "code",
   "execution_count": 14,
   "outputs": [],
   "source": [
    "sample_size=1000000\n",
    "if sample_size != None:\n",
    "    sample_inx =np.random.randint(0, ngrams_n, sample_size)\n",
    "else:\n",
    "    sample_inx =[n for n in range(0, ngrams_n)]"
   ],
   "metadata": {
    "collapsed": false
   }
  },
  {
   "cell_type": "code",
   "execution_count": 15,
   "outputs": [
    {
     "data": {
      "text/plain": "1000000"
     },
     "execution_count": 15,
     "metadata": {},
     "output_type": "execute_result"
    }
   ],
   "source": [
    "sample_lines = np.array(lines_list)[sample_inx]\n",
    "len(sample_lines)"
   ],
   "metadata": {
    "collapsed": false
   }
  },
  {
   "cell_type": "code",
   "execution_count": 16,
   "outputs": [
    {
     "data": {
      "text/plain": "array([1926776, 8953697, 1996386, 1946178, 2014175])"
     },
     "execution_count": 16,
     "metadata": {},
     "output_type": "execute_result"
    }
   ],
   "source": [
    "sample_lines[:5]"
   ],
   "metadata": {
    "collapsed": false
   }
  },
  {
   "cell_type": "code",
   "execution_count": 17,
   "outputs": [],
   "source": [
    "test_ngrams = []\n",
    "with open(\"../data/large_data/corpus_ngrams_bydocid.txt\", \"r\") as f:\n",
    "    lines = f.readlines()\n",
    "    for li in sample_lines:\n",
    "        line = lines[li]# for line index in subcorpus lineindexes\n",
    "        if bool(line.split()):\n",
    "            test_ngrams.append(line.split())"
   ],
   "metadata": {
    "collapsed": false
   }
  },
  {
   "cell_type": "code",
   "execution_count": 18,
   "outputs": [
    {
     "data": {
      "text/plain": "999638"
     },
     "execution_count": 18,
     "metadata": {},
     "output_type": "execute_result"
    }
   ],
   "source": [
    "len(test_ngrams)"
   ],
   "metadata": {
    "collapsed": false
   }
  },
  {
   "cell_type": "markdown",
   "source": [
    "# Sample corpora with memory-friendly reader"
   ],
   "metadata": {
    "collapsed": false
   }
  },
  {
   "cell_type": "code",
   "execution_count": 19,
   "outputs": [],
   "source": [
    "class NgramCorpusSample(object):\n",
    "    def __init__(self, ids_list, ids_lines, fname, sample_size=None, sample_seed=1, bow=False, dct=None):\n",
    "        self.ids_list = ids_list\n",
    "        self.fname = fname\n",
    "        self.bow  = bow\n",
    "        self.dct = dct\n",
    "        self.sample_size = sample_size\n",
    "        self.ids_lines = ids_lines\n",
    "        lines_list = [ ]\n",
    "        for id in ids_list:\n",
    "            lines_list.extend([l for l in range(ids_lines[id][0], ids_lines[id][1])])\n",
    "        ngrams_n = len(lines_list)\n",
    "        if sample_size != None:\n",
    "            np.random.seed(sample_seed)\n",
    "            sample_inx =np.random.randint(0, ngrams_n, sample_size)\n",
    "        else:\n",
    "            sample_inx =[n for n in range(0, ngrams_n)]\n",
    "        sample_lines = np.array(lines_list)[sample_inx]\n",
    "        self.len = len(sample_lines)\n",
    "        self.sample_lines = sample_lines\n",
    "    def __len__(self):\n",
    "        #[el for el in self]\n",
    "        return self.len\n",
    "    def __iter__(self):\n",
    "        with open(self.fname, \"r\") as f:\n",
    "            lines = f.readlines()\n",
    "            for li in self.sample_lines:\n",
    "                line = lines[li] # for line index in subcorpus lineindexes\n",
    "                if bool(line.split()):\n",
    "                    if (self.bow) & (self.dct != None):\n",
    "                        yield self.dct.doc2bow(line.split())\n",
    "                    else:\n",
    "                        yield line.split()"
   ],
   "metadata": {
    "collapsed": false
   }
  },
  {
   "cell_type": "code",
   "execution_count": 20,
   "outputs": [],
   "source": [
    "# test with classical"
   ],
   "metadata": {
    "collapsed": false
   }
  },
  {
   "cell_type": "code",
   "execution_count": 21,
   "outputs": [
    {
     "data": {
      "text/plain": "596"
     },
     "execution_count": 21,
     "metadata": {},
     "output_type": "execute_result"
    }
   ],
   "source": [
    "subcorpus_ids = LAGT[LAGT[\"subcorpus\"]==\"roman\"][\"doc_id\"].tolist()\n",
    "len(subcorpus_ids)"
   ],
   "metadata": {
    "collapsed": false
   }
  },
  {
   "cell_type": "code",
   "execution_count": 22,
   "outputs": [],
   "source": [
    "subcorpus_ngrams =  NgramCorpusSample(subcorpus_ids, ids_lines, \"../data/large_data/corpus_ngrams_bydocid.txt\", sample_size=1000000)"
   ],
   "metadata": {
    "collapsed": false
   }
  },
  {
   "cell_type": "code",
   "execution_count": 23,
   "outputs": [
    {
     "data": {
      "text/plain": "1000000"
     },
     "execution_count": 23,
     "metadata": {},
     "output_type": "execute_result"
    }
   ],
   "source": [
    "len(subcorpus_ngrams)"
   ],
   "metadata": {
    "collapsed": false
   }
  },
  {
   "cell_type": "code",
   "execution_count": 24,
   "outputs": [
    {
     "data": {
      "text/plain": "980208"
     },
     "execution_count": 24,
     "metadata": {},
     "output_type": "execute_result"
    }
   ],
   "source": [
    "len([doc for doc in subcorpus_ngrams])"
   ],
   "metadata": {
    "collapsed": false
   }
  },
  {
   "cell_type": "code",
   "execution_count": 25,
   "outputs": [
    {
     "data": {
      "text/plain": "[('εἰμί', 86416),\n ('αὐτός', 68360),\n ('οὗτος', 55211),\n ('λέγω', 37546),\n ('γίγνομαι', 31525),\n ('τις', 30334),\n ('ἔχω', 29557),\n ('πολύς', 28087),\n ('πᾶς', 22650),\n ('ἄλλος', 21668),\n ('φημί', 17161),\n ('ποιέω', 15230),\n ('λόγος', 14224),\n ('ἐκεῖνος', 11745),\n ('τοιοῦτος', 11694),\n ('μέγας', 11540),\n ('πρῶτος', 10766),\n ('οὐδείς', 9887),\n ('ἕτερος', 9696),\n ('πόλις', 9384),\n ('σῶμα', 8978),\n ('ἅπας', 8360),\n ('ἀγαθός', 8282),\n ('φύσις', 8149),\n ('δύναμις', 8130),\n ('μέρος', 7951),\n ('ἄνθρωπος', 7917),\n ('εἷς', 7831),\n ('ἀρχή', 7814),\n ('λαμβάνω', 7582),\n ('ἕκαστος', 7256),\n ('δοκέω', 7100),\n ('ὁράω', 6997),\n ('δέω', 6949),\n ('μόνος', 6823),\n ('ἀνήρ', 6793),\n ('καλέω', 6710),\n ('δύναμαι', 6256),\n ('ὑπάρχω', 6136),\n ('χρόνος', 5940),\n ('θεός', 5916),\n ('χράω', 5609),\n ('δίδωμι', 5491),\n ('ὅλος', 4946),\n ('ἡμέρα', 4905),\n ('μηδείς', 4883),\n ('γράφω', 4851),\n ('γένος', 4826),\n ('τὶς', 4718),\n ('τίς', 4716)]"
     },
     "execution_count": 25,
     "metadata": {},
     "output_type": "execute_result"
    }
   ],
   "source": [
    "FreqDist([w for ng in subcorpus_ngrams for w in ng]).most_common()[:50]"
   ],
   "metadata": {
    "collapsed": false
   }
  },
  {
   "cell_type": "code",
   "execution_count": 26,
   "outputs": [],
   "source": [
    "with open(\"../data/large_data/subcorpora_vocabs.pickle\", \"rb\") as f:\n",
    "    subcorpora_vocabs = pickle.load(f)"
   ],
   "metadata": {
    "collapsed": false
   }
  },
  {
   "cell_type": "code",
   "execution_count": 27,
   "outputs": [
    {
     "data": {
      "text/plain": "[('εἰμί', 18108),\n ('λέγω', 15873),\n ('θεός', 13922),\n ('οὗτος', 11814),\n ('αὐτός', 11282),\n ('πᾶς', 7431),\n ('γίγνομαι', 7316),\n ('λόγος', 6836),\n ('ἄνθρωπος', 5723),\n ('ἔχω', 5375),\n ('κύριος', 5300),\n ('φημί', 5294),\n ('ποιέω', 4416),\n ('πολύς', 4229),\n ('Ἰησοῦς', 4155),\n ('ὁράω', 3320),\n ('πατήρ', 3158),\n ('Χριστός', 3087),\n ('ψυχή', 3037),\n ('γῆ', 2859),\n ('ἄλλος', 2826),\n ('υἱός', 2753),\n ('δύναμαι', 2654),\n ('πνεῦμα', 2587),\n ('τις', 2552),\n ('ἔρχομαι', 2260),\n ('ἀκούω', 2175),\n ('σῶμα', 2130),\n ('μόνος', 2087),\n ('τοιοῦτος', 2069),\n ('δίδωμι', 2049),\n ('ἀγαθός', 2034),\n ('δύναμις', 1981),\n ('οὐρανός', 1881),\n ('λαμβάνω', 1878),\n ('ἐκεῖνος', 1854),\n ('ὄνομα', 1846),\n ('οἶδα', 1776),\n ('τὶς', 1770),\n ('οὐδείς', 1765),\n ('προφήτης', 1660),\n ('ἅγιος', 1653),\n ('μέγας', 1641),\n ('πιστεύω', 1631),\n ('ἡμέρα', 1628),\n ('κόσμος', 1626),\n ('νόμος', 1593),\n ('καλέω', 1481),\n ('ἀνήρ', 1417),\n ('ἔργον', 1417),\n ('βούλομαι', 1400),\n ('πρῶτος', 1390),\n ('ἕτερος', 1387),\n ('εἷς', 1370),\n ('ὅλος', 1317),\n ('ἀλήθεια', 1315),\n ('εὑρίσκω', 1309),\n ('ἐθέλω', 1303),\n ('γιγνώσκω', 1300),\n ('ἔθνος', 1289),\n ('ἀρχή', 1288),\n ('δοκέω', 1276),\n ('ἕκαστος', 1264),\n ('Ἰουδαῖος', 1258),\n ('φύσις', 1257),\n ('δίκαιος', 1231),\n ('καλός', 1231),\n ('σοφία', 1227),\n ('ἄγγελος', 1213),\n ('ζωή', 1208),\n ('ἁμαρτία', 1206),\n ('καρδία', 1201),\n ('σωτήρ', 1199),\n ('γράφω', 1195),\n ('θεῖος', 1190),\n ('τίς', 1179),\n ('λαός', 1161),\n ('μαθητής', 1080),\n ('τόπος', 1076),\n ('θάνατος', 1074),\n ('δεῖ', 1064),\n ('κακός', 1053),\n ('δόξα', 1047),\n ('γυνή', 1045),\n ('γραφή', 1044),\n ('λαλέω', 1042),\n ('χείρ', 1041),\n ('φωνή', 1036),\n ('αἰών', 1022),\n ('δέω', 1018),\n ('μέλλω', 1011),\n ('σάρξ', 1006),\n ('Ζεύς', 1005),\n ('πίστις', 978),\n ('ὕδωρ', 940),\n ('βασιλεύς', 931),\n ('φέρω', 931),\n ('πῦρ', 922),\n ('διδάσκω', 922),\n ('φῶς', 913)]"
     },
     "execution_count": 27,
     "metadata": {},
     "output_type": "execute_result"
    }
   ],
   "source": [
    "subcorpora_vocabs[\"christian\"][\"word_freqs\"][:100]"
   ],
   "metadata": {
    "collapsed": false
   }
  },
  {
   "cell_type": "code",
   "execution_count": 28,
   "outputs": [
    {
     "data": {
      "text/plain": "{'εἰμί': 68779,\n 'θεός': 54401,\n 'λέγω': 53299,\n 'αὐτός': 44000,\n 'οὗτος': 39635,\n 'πᾶς': 29215,\n 'γίγνομαι': 27883,\n 'λόγος': 26969,\n 'ἄνθρωπος': 22561,\n 'ἔχω': 20629,\n 'κύριος': 19568,\n 'φημί': 17691,\n 'ποιέω': 16660,\n 'πολύς': 16373,\n 'Ἰησοῦς': 16227,\n 'πατήρ': 12170,\n 'Χριστός': 12010,\n 'ψυχή': 11777,\n 'ὁράω': 11503,\n 'ἄλλος': 10979,\n 'υἱός': 10971,\n 'τις': 10790,\n 'γῆ': 10742,\n 'πνεῦμα': 10233,\n 'δύναμαι': 9945,\n 'σῶμα': 8386,\n 'μόνος': 8260,\n 'ἔρχομαι': 8161,\n 'δύναμις': 8053,\n 'τοιοῦτος': 7643,\n 'δίδωμι': 7637,\n 'ἀγαθός': 7582,\n 'ἀκούω': 7534,\n 'ὄνομα': 7222,\n 'οὐρανός': 7217,\n 'λαμβάνω': 7091,\n 'ἐκεῖνος': 6962,\n 'ἅγιος': 6598,\n 'μέγας': 6584,\n 'τὶς': 6472,\n 'προφήτης': 6457,\n 'κόσμος': 6421,\n 'οὐδείς': 6405,\n 'ἡμέρα': 6269,\n 'νόμος': 6201,\n 'οἶδα': 6183,\n 'πιστεύω': 6009,\n 'καλέω': 5594,\n 'ἀνήρ': 5586,\n 'ἔργον': 5528,\n 'εἷς': 5356,\n 'ὅλος': 5325,\n 'πρῶτος': 5189,\n 'ἕτερος': 5164,\n 'βούλομαι': 5107,\n 'ἀρχή': 5094,\n 'ἀλήθεια': 5040,\n 'ἔθνος': 5026,\n 'φύσις': 5013,\n 'Ἰουδαῖος': 4985,\n 'θεῖος': 4960,\n 'εὑρίσκω': 4923,\n 'σοφία': 4880,\n 'ἕκαστος': 4854,\n 'ἄγγελος': 4809,\n 'καρδία': 4719,\n 'γιγνώσκω': 4675,\n 'δίκαιος': 4659,\n 'καλός': 4656,\n 'ζωή': 4646,\n 'ἐθέλω': 4646,\n 'ἁμαρτία': 4593,\n 'σωτήρ': 4554,\n 'δοκέω': 4541,\n 'λαός': 4345,\n 'θάνατος': 4224,\n 'τόπος': 4196,\n 'χείρ': 4188,\n 'μαθητής': 4139,\n 'φωνή': 4098,\n 'γραφή': 4088,\n 'δόξα': 4081,\n 'γυνή': 4030,\n 'Ζεύς': 4013,\n 'γράφω': 3994,\n 'κακός': 3989,\n 'μέλλω': 3967,\n 'σάρξ': 3924,\n 'δέω': 3891,\n 'ἴδιος': 3806,\n 'πίστις': 3761,\n 'δεῖ': 3747,\n 'αἰών': 3746,\n 'ὕδωρ': 3722,\n 'λαλέω': 3713,\n 'τίς': 3613,\n 'διδάσκω': 3588,\n 'νομίζω': 3565,\n 'τυγχάνω': 3556,\n 'βασιλεύς': 3530}"
     },
     "execution_count": 28,
     "metadata": {},
     "output_type": "execute_result"
    }
   ],
   "source": [
    "subcorpus_ids = LAGT[LAGT[\"subcorpus\"]==\"christian\"][\"doc_id\"].tolist()\n",
    "subcorpus_ngrams_seed1 =  NgramCorpusSample(subcorpus_ids, ids_lines, \"../data/large_data/corpus_ngrams_bydocid.txt\", sample_size=1000000, sample_seed=1)\n",
    "dict(FreqDist([w for ng in subcorpus_ngrams_seed1 for w in ng]).most_common()[:100])"
   ],
   "metadata": {
    "collapsed": false
   }
  },
  {
   "cell_type": "code",
   "execution_count": 29,
   "outputs": [],
   "source": [
    "subcorpus_ngrams_seed1 =  NgramCorpusSample(subcorpus_ids, ids_lines, \"../data/large_data/corpus_ngrams_bydocid.txt\", sample_size=1000000, sample_seed=1)\n",
    "subcorpus_ngrams_seed2 =  NgramCorpusSample(subcorpus_ids, ids_lines, \"../data/large_data/corpus_ngrams_bydocid.txt\", sample_size=1000000, sample_seed=2)"
   ],
   "metadata": {
    "collapsed": false
   }
  },
  {
   "cell_type": "code",
   "execution_count": 30,
   "outputs": [],
   "source": [
    "freqs_comparison = pd.DataFrame(\n",
    "    [dict(subcorpora_vocabs[\"roman\"][\"word_freqs\"][:5000]),\n",
    "    dict(FreqDist([w for ng in subcorpus_ngrams_seed1 for w in ng]).most_common()[:5000]),\n",
    "    dict(FreqDist([w for ng in subcorpus_ngrams_seed2 for w in ng]).most_common()[:5000])]\n",
    ").T"
   ],
   "metadata": {
    "collapsed": false
   }
  },
  {
   "cell_type": "code",
   "execution_count": 31,
   "outputs": [
    {
     "data": {
      "text/plain": "          0         1         2\n0  1.000000  0.847227  0.846015\n1  0.847227  1.000000  0.999908\n2  0.846015  0.999908  1.000000",
      "text/html": "<div>\n<style scoped>\n    .dataframe tbody tr th:only-of-type {\n        vertical-align: middle;\n    }\n\n    .dataframe tbody tr th {\n        vertical-align: top;\n    }\n\n    .dataframe thead th {\n        text-align: right;\n    }\n</style>\n<table border=\"1\" class=\"dataframe\">\n  <thead>\n    <tr style=\"text-align: right;\">\n      <th></th>\n      <th>0</th>\n      <th>1</th>\n      <th>2</th>\n    </tr>\n  </thead>\n  <tbody>\n    <tr>\n      <th>0</th>\n      <td>1.000000</td>\n      <td>0.847227</td>\n      <td>0.846015</td>\n    </tr>\n    <tr>\n      <th>1</th>\n      <td>0.847227</td>\n      <td>1.000000</td>\n      <td>0.999908</td>\n    </tr>\n    <tr>\n      <th>2</th>\n      <td>0.846015</td>\n      <td>0.999908</td>\n      <td>1.000000</td>\n    </tr>\n  </tbody>\n</table>\n</div>"
     },
     "execution_count": 31,
     "metadata": {},
     "output_type": "execute_result"
    }
   ],
   "source": [
    "freqs_comparison.dropna().corr()"
   ],
   "metadata": {
    "collapsed": false
   }
  },
  {
   "cell_type": "code",
   "execution_count": 32,
   "outputs": [
    {
     "data": {
      "text/plain": "7185"
     },
     "execution_count": 32,
     "metadata": {},
     "output_type": "execute_result"
    }
   ],
   "source": [
    "len(freqs_comparison)"
   ],
   "metadata": {
    "collapsed": false
   }
  },
  {
   "cell_type": "code",
   "execution_count": 33,
   "outputs": [
    {
     "data": {
      "text/plain": "          0         1         2\n0  1.000000  0.592499  0.592932\n1  0.592499  1.000000  0.992367\n2  0.592932  0.992367  1.000000",
      "text/html": "<div>\n<style scoped>\n    .dataframe tbody tr th:only-of-type {\n        vertical-align: middle;\n    }\n\n    .dataframe tbody tr th {\n        vertical-align: top;\n    }\n\n    .dataframe thead th {\n        text-align: right;\n    }\n</style>\n<table border=\"1\" class=\"dataframe\">\n  <thead>\n    <tr style=\"text-align: right;\">\n      <th></th>\n      <th>0</th>\n      <th>1</th>\n      <th>2</th>\n    </tr>\n  </thead>\n  <tbody>\n    <tr>\n      <th>0</th>\n      <td>1.000000</td>\n      <td>0.592499</td>\n      <td>0.592932</td>\n    </tr>\n    <tr>\n      <th>1</th>\n      <td>0.592499</td>\n      <td>1.000000</td>\n      <td>0.992367</td>\n    </tr>\n    <tr>\n      <th>2</th>\n      <td>0.592932</td>\n      <td>0.992367</td>\n      <td>1.000000</td>\n    </tr>\n  </tbody>\n</table>\n</div>"
     },
     "execution_count": 33,
     "metadata": {},
     "output_type": "execute_result"
    }
   ],
   "source": [
    "freqs_comparison[:4000].corr(method=\"spearman\")"
   ],
   "metadata": {
    "collapsed": false
   }
  },
  {
   "cell_type": "code",
   "execution_count": 34,
   "outputs": [
    {
     "data": {
      "text/plain": "          0         1         2\n0  1.000000  0.590499  0.592962\n1  0.590499  1.000000  0.982044\n2  0.592962  0.982044  1.000000",
      "text/html": "<div>\n<style scoped>\n    .dataframe tbody tr th:only-of-type {\n        vertical-align: middle;\n    }\n\n    .dataframe tbody tr th {\n        vertical-align: top;\n    }\n\n    .dataframe thead th {\n        text-align: right;\n    }\n</style>\n<table border=\"1\" class=\"dataframe\">\n  <thead>\n    <tr style=\"text-align: right;\">\n      <th></th>\n      <th>0</th>\n      <th>1</th>\n      <th>2</th>\n    </tr>\n  </thead>\n  <tbody>\n    <tr>\n      <th>0</th>\n      <td>1.000000</td>\n      <td>0.590499</td>\n      <td>0.592962</td>\n    </tr>\n    <tr>\n      <th>1</th>\n      <td>0.590499</td>\n      <td>1.000000</td>\n      <td>0.982044</td>\n    </tr>\n    <tr>\n      <th>2</th>\n      <td>0.592962</td>\n      <td>0.982044</td>\n      <td>1.000000</td>\n    </tr>\n  </tbody>\n</table>\n</div>"
     },
     "execution_count": 34,
     "metadata": {},
     "output_type": "execute_result"
    }
   ],
   "source": [
    "np.log2(freqs_comparison).corr(method=\"spearman\")"
   ],
   "metadata": {
    "collapsed": false
   }
  },
  {
   "cell_type": "code",
   "execution_count": 35,
   "outputs": [],
   "source": [
    "# let's build two models based on the same subcorpus but sampled with different seed"
   ],
   "metadata": {
    "collapsed": false
   }
  },
  {
   "cell_type": "code",
   "execution_count": 39,
   "outputs": [
    {
     "name": "stdout",
     "output_type": "stream",
     "text": [
      "CPU times: user 3min 37s, sys: 2min 40s, total: 6min 18s\n",
      "Wall time: 5min 25s\n"
     ]
    }
   ],
   "source": [
    "%%time\n",
    "sub = \"christian\"\n",
    "\n",
    "ids_lines = pickle.load(open(\"../data/ids_lines_wide.pickle\", \"rb\"))\n",
    "\n",
    "subcorpus_ids = LAGT[LAGT[\"subcorpus\"]==sub][\"doc_id\"].tolist()\n",
    "subcorpus_ngrams_seed1 =  NgramCorpusSample(subcorpus_ids, ids_lines, \"../data/large_data/corpus_ngrams_bydocid_wide.txt\", sample_size=2000000, sample_seed=1)\n",
    "model_seed1 = Word2Vec(vector_size=300, window=5, negative=5, ns_exponent=1, sg=0, epochs=5, workers=8)\n",
    "model_seed1.build_vocab_from_freq(word_freq=dict(subcorpora_vocabs[sub][\"word_freqs\"][:5000]))\n",
    "model_seed1.train(subcorpus_ngrams_seed1, total_examples=len(subcorpus_ngrams_seed1), epochs=model_seed1.epochs)\n",
    "vectors_seed1 = model_seed1.wv\n",
    "\n",
    "subcorpus_ngrams_seed2 =  NgramCorpusSample(subcorpus_ids, ids_lines, \"../data/large_data/corpus_ngrams_bydocid_wide.txt\", sample_size=2000000, sample_seed=2)\n",
    "model_seed2 = Word2Vec(vector_size=300, window=5, negative=5, ns_exponent=1, sg=0, epochs=5, workers=8)\n",
    "model_seed2.build_vocab_from_freq(word_freq=dict(subcorpora_vocabs[sub][\"word_freqs\"][:5000]))\n",
    "model_seed2.train(subcorpus_ngrams_seed2, total_examples=len(subcorpus_ngrams_seed2), epochs=model_seed1.epochs)\n",
    "vectors_seed2 = model_seed2.wv"
   ],
   "metadata": {
    "collapsed": false
   }
  },
  {
   "cell_type": "code",
   "execution_count": 40,
   "outputs": [
    {
     "data": {
      "text/plain": "[('πατήρ', 0.5557961463928223),\n ('αὐτός', 0.5000535845756531),\n ('ἄνθρωπος', 0.4995989203453064),\n ('πᾶς', 0.4778946340084076),\n ('οὗτος', 0.4433239996433258),\n ('εἰμί', 0.42690980434417725),\n ('θεάομαι', 0.4257691502571106),\n ('κύριος', 0.4222211539745331),\n ('Χριστός', 0.4118606150150299),\n ('ποιέω', 0.4057454764842987),\n ('ἅγιος', 0.40237194299697876),\n ('Ἰησοῦς', 0.39687812328338623),\n ('γιγνώσκω', 0.38439440727233887),\n ('πιστεύω', 0.3818025290966034),\n ('υἱός', 0.3767784833908081),\n ('γίγνομαι', 0.3741817772388458),\n ('δικαιοσύνη', 0.3740927278995514),\n ('πνεῦμα', 0.3736878037452698),\n ('μόνος', 0.36905622482299805),\n ('λέγω', 0.35966256260871887),\n ('ἄγγελος', 0.3433505594730377),\n ('ἔργον', 0.3399260938167572),\n ('ὅλος', 0.33570486307144165),\n ('ἐκεῖνος', 0.33482205867767334),\n ('κτίζω', 0.3315247893333435),\n ('σωτήρ', 0.33064356446266174),\n ('ὕψιστος', 0.32210874557495117),\n ('θεῖος', 0.3217916786670685),\n ('λόγος', 0.3198496401309967),\n ('δημιουργός', 0.3189813196659088),\n ('δύναμαι', 0.3165700435638428),\n ('ζωή', 0.3094402253627777),\n ('δίκαιος', 0.30559200048446655),\n ('οὐρανός', 0.3044707179069519),\n ('λαμβάνω', 0.3041536808013916),\n ('κόσμος', 0.3041312098503113),\n ('δύναμις', 0.30150267481803894),\n ('νόμος', 0.30038702487945557),\n ('δίδωμι', 0.2997589409351349),\n ('σάρξ', 0.2993175983428955),\n ('ἀγαθός', 0.2954992353916168),\n ('προφήτης', 0.291134238243103),\n ('ἀλήθεια', 0.2861920893192291),\n ('ἁμαρτία', 0.2860383093357086),\n ('θέλημα', 0.2843306362628937),\n ('μονογενής', 0.2828781306743622),\n ('μέγας', 0.28247252106666565),\n ('ἕκαστος', 0.2807964086532593),\n ('ὄνομα', 0.27962642908096313),\n ('χριστός', 0.27771222591400146),\n ('σοφία', 0.27687788009643555),\n ('πίστις', 0.2766859829425812),\n ('οἶδα', 0.26963531970977783),\n ('ἀκούω', 0.2686440646648407),\n ('καρδία', 0.26776278018951416),\n ('αἰών', 0.2668783962726593),\n ('ἔχω', 0.2624290883541107),\n ('αἰώνιος', 0.26171839237213135),\n ('δόξα', 0.26116451621055603),\n ('ἔθνος', 0.25757116079330444),\n ('λαλέω', 0.25740933418273926),\n ('φῶς', 0.25693511962890625),\n ('κρυπτός', 0.25224122405052185),\n ('ἐθέλω', 0.2476004809141159),\n ('μέλλω', 0.24570773541927338),\n ('νοέω', 0.24562227725982666),\n ('Ἀβραάμ', 0.24286161363124847),\n ('πνευματικός', 0.2420431226491928),\n ('ἐπουράνιος', 0.24019497632980347),\n ('ἀρχή', 0.23894797265529633),\n ('σωτηρία', 0.23734033107757568),\n ('ἀγάπη', 0.23722600936889648),\n ('δοξάζω', 0.23658499121665955),\n ('ὁράω', 0.23492716252803802),\n ('γῆ', 0.2342606782913208),\n ('ἕτερος', 0.23365844786167145),\n ('φάος', 0.232315793633461),\n ('διδάσκω', 0.23202437162399292),\n ('κτίστης', 0.2296733558177948),\n ('Ἰσραήλ', 0.2296677529811859),\n ('γράφω', 0.22919104993343353),\n ('βλέπω', 0.22906038165092468),\n ('δικαιόω', 0.22893601655960083),\n ('ἀνθρώπινος', 0.22687609493732452),\n ('λαός', 0.22651195526123047),\n ('κτίσις', 0.22579222917556763),\n ('ἐπαγγελία', 0.22560368478298187),\n ('πρέπω', 0.2246776670217514),\n ('κρίνω', 0.2242012768983841),\n ('υἱοθεσία', 0.22394686937332153),\n ('κρίσις', 0.22325006127357483),\n ('ἀγαπάω', 0.22291617095470428),\n ('σῴζω', 0.22288952767848969),\n ('τίς', 0.22192905843257904),\n ('φημί', 0.2211798131465912),\n ('ἴδιος', 0.22017349302768707),\n ('τις', 0.2196192592382431),\n ('ἄλλος', 0.21911610662937164),\n ('εὑρίσκω', 0.2184869945049286),\n ('γραφή', 0.21787866950035095)]"
     },
     "execution_count": 40,
     "metadata": {},
     "output_type": "execute_result"
    }
   ],
   "source": [
    "vectors_seed1.most_similar(\"θεός\", topn=100)"
   ],
   "metadata": {
    "collapsed": false
   }
  },
  {
   "cell_type": "code",
   "execution_count": 41,
   "outputs": [
    {
     "data": {
      "text/plain": "[('πατήρ', 0.5557961463928223),\n ('αὐτός', 0.5000535845756531),\n ('ἄνθρωπος', 0.4995989203453064),\n ('πᾶς', 0.4778946340084076),\n ('οὗτος', 0.4433239996433258),\n ('εἰμί', 0.42690980434417725),\n ('θεάομαι', 0.4257691502571106),\n ('κύριος', 0.4222211539745331),\n ('Χριστός', 0.4118606150150299),\n ('ποιέω', 0.4057454764842987),\n ('ἅγιος', 0.40237194299697876),\n ('Ἰησοῦς', 0.39687812328338623),\n ('γιγνώσκω', 0.38439440727233887),\n ('πιστεύω', 0.3818025290966034),\n ('υἱός', 0.3767784833908081),\n ('γίγνομαι', 0.3741817772388458),\n ('δικαιοσύνη', 0.3740927278995514),\n ('πνεῦμα', 0.3736878037452698),\n ('μόνος', 0.36905622482299805),\n ('λέγω', 0.35966256260871887),\n ('ἄγγελος', 0.3433505594730377),\n ('ἔργον', 0.3399260938167572),\n ('ὅλος', 0.33570486307144165),\n ('ἐκεῖνος', 0.33482205867767334),\n ('κτίζω', 0.3315247893333435),\n ('σωτήρ', 0.33064356446266174),\n ('ὕψιστος', 0.32210874557495117),\n ('θεῖος', 0.3217916786670685),\n ('λόγος', 0.3198496401309967),\n ('δημιουργός', 0.3189813196659088),\n ('δύναμαι', 0.3165700435638428),\n ('ζωή', 0.3094402253627777),\n ('δίκαιος', 0.30559200048446655),\n ('οὐρανός', 0.3044707179069519),\n ('λαμβάνω', 0.3041536808013916),\n ('κόσμος', 0.3041312098503113),\n ('δύναμις', 0.30150267481803894),\n ('νόμος', 0.30038702487945557),\n ('δίδωμι', 0.2997589409351349),\n ('σάρξ', 0.2993175983428955),\n ('ἀγαθός', 0.2954992353916168),\n ('προφήτης', 0.291134238243103),\n ('ἀλήθεια', 0.2861920893192291),\n ('ἁμαρτία', 0.2860383093357086),\n ('θέλημα', 0.2843306362628937),\n ('μονογενής', 0.2828781306743622),\n ('μέγας', 0.28247252106666565),\n ('ἕκαστος', 0.2807964086532593),\n ('ὄνομα', 0.27962642908096313),\n ('χριστός', 0.27771222591400146)]"
     },
     "execution_count": 41,
     "metadata": {},
     "output_type": "execute_result"
    }
   ],
   "source": [
    "vectors_seed1.most_similar(\"θεός\", topn=50)"
   ],
   "metadata": {
    "collapsed": false
   }
  },
  {
   "cell_type": "code",
   "execution_count": 42,
   "outputs": [
    {
     "data": {
      "text/plain": "[('πατήρ', 0.5709953308105469),\n ('ἄνθρωπος', 0.5284956097602844),\n ('πᾶς', 0.5262690782546997),\n ('αὐτός', 0.5137842297554016),\n ('οὗτος', 0.47617703676223755),\n ('ποιέω', 0.44931966066360474),\n ('εἰμί', 0.44723793864250183),\n ('κύριος', 0.44674548506736755),\n ('Χριστός', 0.4320816397666931),\n ('θεάομαι', 0.4268374443054199),\n ('ἅγιος', 0.40607118606567383),\n ('υἱός', 0.4031791090965271),\n ('λέγω', 0.39098936319351196),\n ('γιγνώσκω', 0.3834850788116455),\n ('Ἰησοῦς', 0.3718329668045044),\n ('πιστεύω', 0.36237087845802307),\n ('μόνος', 0.36228111386299133),\n ('λόγος', 0.36006295680999756),\n ('δικαιοσύνη', 0.35127192735671997),\n ('πνεῦμα', 0.3459026515483856)]"
     },
     "execution_count": 42,
     "metadata": {},
     "output_type": "execute_result"
    }
   ],
   "source": [
    "vectors_seed2.most_similar(\"θεός\", topn=20)"
   ],
   "metadata": {
    "collapsed": false
   }
  },
  {
   "cell_type": "code",
   "execution_count": 36,
   "outputs": [
    {
     "name": "stdout",
     "output_type": "stream",
     "text": [
      "generating model for the archaic subcorpus...\n",
      "archaic model ready\n",
      "generating model for the classical subcorpus...\n",
      "classical model ready\n",
      "generating model for the roman subcorpus...\n",
      "roman model ready\n",
      "generating model for the christian subcorpus...\n",
      "christian model ready\n",
      "generating model for the jewish subcorpus...\n",
      "jewish model ready\n"
     ]
    }
   ],
   "source": [
    "ids_lines = pickle.load(open(\"../data/ids_lines_wide.pickle\", \"rb\"))\n",
    "\n",
    "for sub in subcorpora:\n",
    "    subcorpus_ids = LAGT[LAGT[\"subcorpus\"]==sub][\"doc_id\"].tolist()\n",
    "    #do the stuff above\n",
    "    print(\"generating model for the {} subcorpus...\".format(sub))\n",
    "    subcorpus_ngrams_seed1 =  NgramCorpusSample(subcorpus_ids, ids_lines, \"../data/large_data/corpus_ngrams_bydocid_wide.txt\", sample_size=1000000, sample_seed=1)\n",
    "    model_seed1 = Word2Vec(vector_size=150, window=5, negative=5, ns_exponent=1, sg=0, epochs=10, workers=8)\n",
    "    model_seed1.build_vocab_from_freq(word_freq=dict(subcorpora_vocabs[sub][\"word_freqs\"][:5000]))\n",
    "    model_seed1.train(subcorpus_ngrams_seed1, total_examples=len(subcorpus_ngrams_seed1), epochs=model_seed1.epochs)\n",
    "    vectors_seed1 = model_seed1.wv\n",
    "    vectors_seed1.save(\"../data/large_data/vectors_{}_seed1.kv\".format(sub))\n",
    "    subcorpus_ngrams_seed2 =  NgramCorpusSample(subcorpus_ids, ids_lines, \"../data/large_data/corpus_ngrams_bydocid_wide.txt\", sample_size=1000000, sample_seed=2)\n",
    "    model_seed2 = Word2Vec(vector_size=150, window=5, negative=5, ns_exponent=1, sg=0, epochs=10, workers=8)\n",
    "    model_seed2.build_vocab_from_freq(word_freq=dict(subcorpora_vocabs[sub][\"word_freqs\"][:5000]))\n",
    "    model_seed2.train(subcorpus_ngrams_seed1, total_examples=len(subcorpus_ngrams_seed2), epochs=model_seed1.epochs)\n",
    "    vectors_seed2 = model_seed2.wv\n",
    "    vectors_seed2.save(\"../data/large_data/vectors_{}_seed2.kv\".format(sub))\n",
    "    print(\"{} model ready\".format(sub))\n"
   ],
   "metadata": {
    "collapsed": false
   }
  },
  {
   "cell_type": "code",
   "execution_count": 38,
   "outputs": [
    {
     "name": "stdout",
     "output_type": "stream",
     "text": [
      "generating model for the archaic subcorpus...\n",
      "archaic model ready\n",
      "generating model for the classical subcorpus...\n",
      "classical model ready\n",
      "generating model for the roman subcorpus...\n",
      "roman model ready\n",
      "generating model for the christian subcorpus...\n",
      "christian model ready\n",
      "generating model for the jewish subcorpus...\n",
      "jewish model ready\n"
     ]
    }
   ],
   "source": [
    "ids_lines = pickle.load(open(\"../data/ids_lines_wide.pickle\", \"rb\"))\n",
    "\n",
    "for sub in subcorpora:\n",
    "    subcorpus_ids = LAGT[LAGT[\"subcorpus\"]==sub][\"doc_id\"].tolist()\n",
    "    #do the stuff above\n",
    "    print(\"generating model for the {} subcorpus...\".format(sub))\n",
    "    subcorpus_ngrams_seed1 =  NgramCorpusSample(subcorpus_ids, ids_lines, \"../data/large_data/corpus_ngrams_bydocid_wide.txt\", sample_size=None, sample_seed=1)\n",
    "    model_seed1 = Word2Vec(vector_size=150, window=5, negative=5, ns_exponent=1, sg=0, epochs=10, workers=8)\n",
    "    model_seed1.build_vocab_from_freq(word_freq=dict(subcorpora_vocabs[sub][\"word_freqs\"][:5000]))\n",
    "    model_seed1.train(subcorpus_ngrams_seed1, total_examples=len(subcorpus_ngrams_seed1), epochs=model_seed1.epochs)\n",
    "    vectors_seed1 = model_seed1.wv\n",
    "    vectors_seed1.save(\"../data/large_data/vectors_{}_seed1_notsampled.kv\".format(sub))\n",
    "    subcorpus_ngrams_seed2 =  NgramCorpusSample(subcorpus_ids, ids_lines, \"../data/large_data/corpus_ngrams_bydocid_wide.txt\", sample_size=None, sample_seed=2)\n",
    "    model_seed2 = Word2Vec(vector_size=150, window=5, negative=5, ns_exponent=1, sg=0, epochs=10, workers=8)\n",
    "    model_seed2.build_vocab_from_freq(word_freq=dict(subcorpora_vocabs[sub][\"word_freqs\"][:5000]))\n",
    "    model_seed2.train(subcorpus_ngrams_seed1, total_examples=len(subcorpus_ngrams_seed2), epochs=model_seed1.epochs)\n",
    "    vectors_seed2 = model_seed2.wv\n",
    "    vectors_seed2.save(\"../data/large_data/vectors_{}_seed2_notsampled.kv\".format(sub))\n",
    "    print(\"{} model ready\".format(sub))"
   ],
   "metadata": {
    "collapsed": false
   }
  },
  {
   "cell_type": "code",
   "execution_count": null,
   "outputs": [],
   "source": [],
   "metadata": {
    "collapsed": false
   }
  }
 ],
 "metadata": {
  "kernelspec": {
   "name": "conda_base",
   "language": "python",
   "display_name": "conda_base"
  },
  "language_info": {
   "codemirror_mode": {
    "name": "ipython",
    "version": 2
   },
   "file_extension": ".py",
   "mimetype": "text/x-python",
   "name": "python",
   "nbconvert_exporter": "python",
   "pygments_lexer": "ipython2",
   "version": "2.7.6"
  }
 },
 "nbformat": 4,
 "nbformat_minor": 0
}
