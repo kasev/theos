{
 "cells": [
  {
   "cell_type": "code",
   "metadata": {
    "collapsed": true,
    "ExecuteTime": {
     "end_time": "2024-01-29T14:22:43.375814Z",
     "start_time": "2024-01-29T14:22:40.125026Z"
    }
   },
   "outputs": [],
   "source": [
    "import numpy as np\n",
    "import pandas as pd\n",
    "pd.set_option('display.max_colwidth', 50)\n",
    "import os\n",
    "import requests\n",
    "import re\n",
    "from nltk import FreqDist\n",
    "import nltk\n",
    "from sklearn.feature_extraction.text import CountVectorizer\n",
    "from sklearn.decomposition import TruncatedSVD\n",
    "from sklearn.metrics.pairwise import cosine_similarity\n",
    "import pickle\n",
    "from cltk.stops.grc import STOPS as stopwords\n",
    "from gensim.corpora import Dictionary\n",
    "import unicodedata\n",
    "import json"
   ],
   "execution_count": 1
  },
  {
   "cell_type": "code",
   "outputs": [
    {
     "name": "stdout",
     "output_type": "stream",
     "text": [
      "['/Users/vojtechkase/Projects/LAGT/data/large_files/LAGT_v3-0.parquet']\n"
     ]
    }
   ],
   "source": [
    "# find local version of the input dataset\n",
    "local_paths = !find ~/Projects -name \"LAGT_v3-0.parquet\"\n",
    "print(local_paths)"
   ],
   "metadata": {
    "collapsed": false,
    "ExecuteTime": {
     "end_time": "2024-01-29T14:22:49.202483Z",
     "start_time": "2024-01-29T14:22:43.886743Z"
    }
   },
   "execution_count": 2
  },
  {
   "cell_type": "code",
   "outputs": [],
   "source": [
    "# load LAGT (v2.0) dataset locally or download it directly from Zenodo\n",
    "try:\n",
    "    LAGT = pd.read_parquet(local_paths[0])\n",
    "except:\n",
    "    pass\n",
    "    #resp = requests.get(\"https://zenodo.org/record/7221150/files/LAGT_v2-0.json?download=1\")\n",
    "    # save it for next time\n",
    "    #LAGT = pd.DataFrame(resp.json())\n",
    "    #os.mkdir(\"../data/large_data/\")\n",
    "    #LAGT.to_json(\"../data/large_data/LIRE_v2-0.json\")"
   ],
   "metadata": {
    "collapsed": false,
    "ExecuteTime": {
     "end_time": "2024-01-29T14:22:51.873219Z",
     "start_time": "2024-01-29T14:22:49.204043Z"
    }
   },
   "execution_count": 3
  },
  {
   "cell_type": "markdown",
   "source": [
    "# Short demonstration of the LAGT dataset..."
   ],
   "metadata": {
    "collapsed": false
   }
  },
  {
   "cell_type": "code",
   "outputs": [
    {
     "data": {
      "text/plain": [
       "   author_id          doc_id                       filename         author  \\\n",
       "9    tlg0006  tlg0006.tlg020  tlg0006.tlg020.1st1K-grc1.xml      Euripides   \n",
       "10   tlg0007  tlg0007.tlg146  tlg0007.tlg146.1st1K-grc1.xml       Plutarch   \n",
       "11   tlg0007  tlg0007.tlg147  tlg0007.tlg147.1st1K-grc1.xml       Plutarch   \n",
       "12   tlg0015  tlg0015.tlg001  tlg0015.tlg001.1st1K-grc1.xml       Herodian   \n",
       "14   tlg0018  tlg0018.tlg001  tlg0018.tlg001.1st1K-grc1.xml  Philo Judaeus   \n",
       "\n",
       "                                title  \\\n",
       "9                           Fragmenta   \n",
       "10  Παροιμίαι αἷς Ἀλεξανδρεῖς ἐχρῶντο   \n",
       "11           Ἐκλογὴ περὶ τῶν ἀδυνάτων   \n",
       "12              Ab excessu divi Marci   \n",
       "14                  De opificio mundi   \n",
       "\n",
       "                                               string  wordcount source  \\\n",
       "9   ποίαν σε φῶμεν γαῖαν ἐκλελοιπότα πόλει ξενοῦσθ...      17708   1Kgr   \n",
       "10  Οἴκοι τὰ Μιλήσια: ἐπὶ τῶν ὅποι μὴ προςήκει τὴν...       2685   1Kgr   \n",
       "11  Κατὰ πετρῶν σπείρεις. Πλίνθον πλύνεις. Δικτύῳ ...        143   1Kgr   \n",
       "12  \\nΟἱ πλεῖστοι τῶν περὶ συγκομιδὴν ἱστορίας ἀσχ...      46751   1Kgr   \n",
       "14   Τῶν ἄλλων νομοθετῶν οἱ μὲν ἀκαλλώπιστα καὶ γυ...      24591   1Kgr   \n",
       "\n",
       "                                 lemmatized_sentences lemmata_source  \\\n",
       "9   [[φημί, γῆ, ἐκλείπω, πόλις, ξενοῦσθαι], [πάτρα...          grecy   \n",
       "10  [[Μιλήσιος], [προςήκω, τρυφή, ἐπιδείκνυμι], [Ἀ...          grecy   \n",
       "11  [[πέτρα, σπείρω], [Πλίνθος, πλύνω, Δίκτυον, ἄν...          grecy   \n",
       "12  [[πολύς, συγκομιδή, ἱστορία, ἀσχολέω, ἔργον, γ...          glaux   \n",
       "14  [[ἄλλος, νομοθέτης, ἀκαλλώπιστος, γυμνάζω, νομ...          grecy   \n",
       "\n",
       "         tlg_date  not_before  not_after date_uncertain  \\\n",
       "9          5 B.C.      -500.0     -401.0          False   \n",
       "10       A.D. 1-2         1.0      200.0          False   \n",
       "11       A.D. 1-2         1.0      200.0          False   \n",
       "12       A.D. 2-3       101.0      300.0          False   \n",
       "14  1 B.C.-A.D. 1      -100.0      100.0          False   \n",
       "\n",
       "                      tlg_epithet provenience  lemmatacount  \n",
       "9                       [Tragici]       pagan         10277  \n",
       "10  [Biographi, Philosophici/-ae]       pagan          1488  \n",
       "11  [Biographi, Philosophici/-ae]       pagan           125  \n",
       "12                [Historici/-ae]       pagan         25832  \n",
       "14             [Philosophici/-ae]      jewish          9589  "
      ],
      "text/html": [
       "<div>\n",
       "<style scoped>\n",
       "    .dataframe tbody tr th:only-of-type {\n",
       "        vertical-align: middle;\n",
       "    }\n",
       "\n",
       "    .dataframe tbody tr th {\n",
       "        vertical-align: top;\n",
       "    }\n",
       "\n",
       "    .dataframe thead th {\n",
       "        text-align: right;\n",
       "    }\n",
       "</style>\n",
       "<table border=\"1\" class=\"dataframe\">\n",
       "  <thead>\n",
       "    <tr style=\"text-align: right;\">\n",
       "      <th></th>\n",
       "      <th>author_id</th>\n",
       "      <th>doc_id</th>\n",
       "      <th>filename</th>\n",
       "      <th>author</th>\n",
       "      <th>title</th>\n",
       "      <th>string</th>\n",
       "      <th>wordcount</th>\n",
       "      <th>source</th>\n",
       "      <th>lemmatized_sentences</th>\n",
       "      <th>lemmata_source</th>\n",
       "      <th>tlg_date</th>\n",
       "      <th>not_before</th>\n",
       "      <th>not_after</th>\n",
       "      <th>date_uncertain</th>\n",
       "      <th>tlg_epithet</th>\n",
       "      <th>provenience</th>\n",
       "      <th>lemmatacount</th>\n",
       "    </tr>\n",
       "  </thead>\n",
       "  <tbody>\n",
       "    <tr>\n",
       "      <th>9</th>\n",
       "      <td>tlg0006</td>\n",
       "      <td>tlg0006.tlg020</td>\n",
       "      <td>tlg0006.tlg020.1st1K-grc1.xml</td>\n",
       "      <td>Euripides</td>\n",
       "      <td>Fragmenta</td>\n",
       "      <td>ποίαν σε φῶμεν γαῖαν ἐκλελοιπότα πόλει ξενοῦσθ...</td>\n",
       "      <td>17708</td>\n",
       "      <td>1Kgr</td>\n",
       "      <td>[[φημί, γῆ, ἐκλείπω, πόλις, ξενοῦσθαι], [πάτρα...</td>\n",
       "      <td>grecy</td>\n",
       "      <td>5 B.C.</td>\n",
       "      <td>-500.0</td>\n",
       "      <td>-401.0</td>\n",
       "      <td>False</td>\n",
       "      <td>[Tragici]</td>\n",
       "      <td>pagan</td>\n",
       "      <td>10277</td>\n",
       "    </tr>\n",
       "    <tr>\n",
       "      <th>10</th>\n",
       "      <td>tlg0007</td>\n",
       "      <td>tlg0007.tlg146</td>\n",
       "      <td>tlg0007.tlg146.1st1K-grc1.xml</td>\n",
       "      <td>Plutarch</td>\n",
       "      <td>Παροιμίαι αἷς Ἀλεξανδρεῖς ἐχρῶντο</td>\n",
       "      <td>Οἴκοι τὰ Μιλήσια: ἐπὶ τῶν ὅποι μὴ προςήκει τὴν...</td>\n",
       "      <td>2685</td>\n",
       "      <td>1Kgr</td>\n",
       "      <td>[[Μιλήσιος], [προςήκω, τρυφή, ἐπιδείκνυμι], [Ἀ...</td>\n",
       "      <td>grecy</td>\n",
       "      <td>A.D. 1-2</td>\n",
       "      <td>1.0</td>\n",
       "      <td>200.0</td>\n",
       "      <td>False</td>\n",
       "      <td>[Biographi, Philosophici/-ae]</td>\n",
       "      <td>pagan</td>\n",
       "      <td>1488</td>\n",
       "    </tr>\n",
       "    <tr>\n",
       "      <th>11</th>\n",
       "      <td>tlg0007</td>\n",
       "      <td>tlg0007.tlg147</td>\n",
       "      <td>tlg0007.tlg147.1st1K-grc1.xml</td>\n",
       "      <td>Plutarch</td>\n",
       "      <td>Ἐκλογὴ περὶ τῶν ἀδυνάτων</td>\n",
       "      <td>Κατὰ πετρῶν σπείρεις. Πλίνθον πλύνεις. Δικτύῳ ...</td>\n",
       "      <td>143</td>\n",
       "      <td>1Kgr</td>\n",
       "      <td>[[πέτρα, σπείρω], [Πλίνθος, πλύνω, Δίκτυον, ἄν...</td>\n",
       "      <td>grecy</td>\n",
       "      <td>A.D. 1-2</td>\n",
       "      <td>1.0</td>\n",
       "      <td>200.0</td>\n",
       "      <td>False</td>\n",
       "      <td>[Biographi, Philosophici/-ae]</td>\n",
       "      <td>pagan</td>\n",
       "      <td>125</td>\n",
       "    </tr>\n",
       "    <tr>\n",
       "      <th>12</th>\n",
       "      <td>tlg0015</td>\n",
       "      <td>tlg0015.tlg001</td>\n",
       "      <td>tlg0015.tlg001.1st1K-grc1.xml</td>\n",
       "      <td>Herodian</td>\n",
       "      <td>Ab excessu divi Marci</td>\n",
       "      <td>\\nΟἱ πλεῖστοι τῶν περὶ συγκομιδὴν ἱστορίας ἀσχ...</td>\n",
       "      <td>46751</td>\n",
       "      <td>1Kgr</td>\n",
       "      <td>[[πολύς, συγκομιδή, ἱστορία, ἀσχολέω, ἔργον, γ...</td>\n",
       "      <td>glaux</td>\n",
       "      <td>A.D. 2-3</td>\n",
       "      <td>101.0</td>\n",
       "      <td>300.0</td>\n",
       "      <td>False</td>\n",
       "      <td>[Historici/-ae]</td>\n",
       "      <td>pagan</td>\n",
       "      <td>25832</td>\n",
       "    </tr>\n",
       "    <tr>\n",
       "      <th>14</th>\n",
       "      <td>tlg0018</td>\n",
       "      <td>tlg0018.tlg001</td>\n",
       "      <td>tlg0018.tlg001.1st1K-grc1.xml</td>\n",
       "      <td>Philo Judaeus</td>\n",
       "      <td>De opificio mundi</td>\n",
       "      <td>Τῶν ἄλλων νομοθετῶν οἱ μὲν ἀκαλλώπιστα καὶ γυ...</td>\n",
       "      <td>24591</td>\n",
       "      <td>1Kgr</td>\n",
       "      <td>[[ἄλλος, νομοθέτης, ἀκαλλώπιστος, γυμνάζω, νομ...</td>\n",
       "      <td>grecy</td>\n",
       "      <td>1 B.C.-A.D. 1</td>\n",
       "      <td>-100.0</td>\n",
       "      <td>100.0</td>\n",
       "      <td>False</td>\n",
       "      <td>[Philosophici/-ae]</td>\n",
       "      <td>jewish</td>\n",
       "      <td>9589</td>\n",
       "    </tr>\n",
       "  </tbody>\n",
       "</table>\n",
       "</div>"
      ]
     },
     "metadata": {},
     "output_type": "execute_result",
     "execution_count": 4
    }
   ],
   "source": [
    "# download and display first 5 rows of the dataset\n",
    "#LAGT = pd.read_json(\"https://zenodo.org/record/7221150/files/LAGT_v2-0.json?download=1\")\n",
    "LAGT.head(5)"
   ],
   "metadata": {
    "collapsed": false,
    "ExecuteTime": {
     "end_time": "2024-01-29T14:22:51.922458Z",
     "start_time": "2024-01-29T14:22:51.874222Z"
    }
   },
   "execution_count": 4
  },
  {
   "cell_type": "code",
   "outputs": [
    {
     "data": {
      "text/plain": [
       "1630"
      ]
     },
     "metadata": {},
     "output_type": "execute_result",
     "execution_count": 5
    }
   ],
   "source": [
    "len(LAGT)"
   ],
   "metadata": {
    "collapsed": false,
    "ExecuteTime": {
     "end_time": "2024-01-29T14:22:51.926698Z",
     "start_time": "2024-01-29T14:22:51.921285Z"
    }
   },
   "execution_count": 5
  },
  {
   "cell_type": "code",
   "outputs": [
    {
     "data": {
      "text/plain": [
       "312"
      ]
     },
     "metadata": {},
     "output_type": "execute_result",
     "execution_count": 6
    }
   ],
   "source": [
    "LAGT[\"author_id\"].nunique()"
   ],
   "metadata": {
    "collapsed": false,
    "ExecuteTime": {
     "end_time": "2024-01-29T14:22:51.938139Z",
     "start_time": "2024-01-29T14:22:51.924411Z"
    }
   },
   "execution_count": 6
  },
  {
   "cell_type": "code",
   "outputs": [
    {
     "data": {
      "text/plain": [
       "32236367"
      ]
     },
     "metadata": {},
     "output_type": "execute_result",
     "execution_count": 7
    }
   ],
   "source": [
    "\n",
    "LAGT[\"wordcount\"].sum()"
   ],
   "metadata": {
    "collapsed": false,
    "ExecuteTime": {
     "end_time": "2024-01-29T14:22:51.941886Z",
     "start_time": "2024-01-29T14:22:51.927882Z"
    }
   },
   "execution_count": 7
  },
  {
   "cell_type": "code",
   "outputs": [
    {
     "data": {
      "text/plain": [
       "        author_id          doc_id                         filename  \\\n",
       "1525     tlg0031a  tlg0031.tlg001  tlg0031.tlg001.perseus-grc2.xml   \n",
       "1526     tlg0031b  tlg0031.tlg002  tlg0031.tlg002.perseus-grc2.xml   \n",
       "1527  tlg0031luke  tlg0031.tlg003  tlg0031.tlg003.perseus-grc2.xml   \n",
       "1528  tlg0031john  tlg0031.tlg004  tlg0031.tlg004.perseus-grc2.xml   \n",
       "1529  tlg0031luke  tlg0031.tlg005  tlg0031.tlg005.perseus-grc2.xml   \n",
       "1530  tlg0031paul  tlg0031.tlg006  tlg0031.tlg006.perseus-grc2.xml   \n",
       "1531  tlg0031paul  tlg0031.tlg007  tlg0031.tlg007.perseus-grc2.xml   \n",
       "1532  tlg0031paul  tlg0031.tlg008  tlg0031.tlg008.perseus-grc2.xml   \n",
       "1533  tlg0031paul  tlg0031.tlg009  tlg0031.tlg009.perseus-grc2.xml   \n",
       "1534  tlg0031pspa  tlg0031.tlg010  tlg0031.tlg010.perseus-grc2.xml   \n",
       "1535  tlg0031paul  tlg0031.tlg011  tlg0031.tlg011.perseus-grc2.xml   \n",
       "1536  tlg0031pspa  tlg0031.tlg012  tlg0031.tlg012.perseus-grc2.xml   \n",
       "1537  tlg0031paul  tlg0031.tlg013  tlg0031.tlg013.perseus-grc2.xml   \n",
       "1538  tlg0031pspa  tlg0031.tlg014  tlg0031.tlg014.perseus-grc2.xml   \n",
       "1539  tlg0031pspa  tlg0031.tlg015  tlg0031.tlg015.perseus-grc2.xml   \n",
       "1540  tlg0031pspa  tlg0031.tlg016  tlg0031.tlg016.perseus-grc2.xml   \n",
       "1541  tlg0031pspa  tlg0031.tlg017  tlg0031.tlg017.perseus-grc2.xml   \n",
       "1542  tlg0031paul  tlg0031.tlg018  tlg0031.tlg018.perseus-grc2.xml   \n",
       "1543     tlg0031c  tlg0031.tlg019  tlg0031.tlg019.perseus-grc2.xml   \n",
       "1544     tlg0031d  tlg0031.tlg020  tlg0031.tlg020.perseus-grc2.xml   \n",
       "1545     tlg0031e  tlg0031.tlg021  tlg0031.tlg021.perseus-grc2.xml   \n",
       "1546     tlg0031f  tlg0031.tlg022  tlg0031.tlg022.perseus-grc2.xml   \n",
       "1547  tlg0031john  tlg0031.tlg023  tlg0031.tlg023.perseus-grc2.xml   \n",
       "1548  tlg0031john  tlg0031.tlg024  tlg0031.tlg024.perseus-grc2.xml   \n",
       "1549  tlg0031john  tlg0031.tlg025  tlg0031.tlg025.perseus-grc2.xml   \n",
       "1550     tlg0031g  tlg0031.tlg026  tlg0031.tlg026.perseus-grc2.xml   \n",
       "1551     tlg0031h  tlg0031.tlg027  tlg0031.tlg027.perseus-grc2.xml   \n",
       "\n",
       "                     author                            title  \\\n",
       "1525                   None          New Testament - Matthew   \n",
       "1526                   None             New Testament - Mark   \n",
       "1527  Luke (the evangelist)             New Testament - Luke   \n",
       "1528  Johnannine literature             New Testament - John   \n",
       "1529  Luke (the evangelist)             New Testament - Acts   \n",
       "1530         Paul of Tarsus           New Testament - Romans   \n",
       "1531         Paul of Tarsus    New Testament - 1 Corinthians   \n",
       "1532         Paul of Tarsus    New Testament - 2 Corinthians   \n",
       "1533         Paul of Tarsus        New Testament - Galatians   \n",
       "1534     Pauline literature        New Testament - Ephesians   \n",
       "1535         Paul of Tarsus      New Testament - Philippians   \n",
       "1536     Pauline literature       New Testament - Colossians   \n",
       "1537         Paul of Tarsus  New Testament - 1 Thessalonians   \n",
       "1538     Pauline literature  New Testament - 2 Thessalonians   \n",
       "1539     Pauline literature        New Testament - 1 Timothy   \n",
       "1540     Pauline literature        New Testament - 2 Timothy   \n",
       "1541     Pauline literature            New Testament - Titus   \n",
       "1542         Paul of Tarsus         New Testament - Philemon   \n",
       "1543                   None          New Testament - Hebrews   \n",
       "1544                   None            New Testament - James   \n",
       "1545                   None          New Testament - 1 Peter   \n",
       "1546                   None          New Testament - 2 Peter   \n",
       "1547  Johnannine literature           New Testament - 1 John   \n",
       "1548  Johnannine literature           New Testament - 2 John   \n",
       "1549  Johnannine literature           New Testament - 3 John   \n",
       "1550                   None             New Testament - Jude   \n",
       "1551                   None       New Testament - Revelation   \n",
       "\n",
       "                                                 string  wordcount   source  \\\n",
       "1525    ΒΙΒΛΟΣ γενέσεως Ἰησοῦ Χριστοῦ υἱοῦ Δαυεὶδ υἱ...      18288  perseus   \n",
       "1526  \\n\\n                    ΑΡΧΗ τοῦ εὐαγγελίου Ἰη...      11275  perseus   \n",
       "1527  \\n\\n                    ΕΠΕΙΔΗΠΕΡ ΠΟΛΛΟΙ ἐπεχε...      19459  perseus   \n",
       "1528  \\n\\n                    ΕΝ ΑΡΧΗ ἦν ὁ λόγος, κα...      15592  perseus   \n",
       "1529  \\n τὸν μὲν πρῶτον λόγον ἐποιησάμην περὶ πάντων...      18405  perseus   \n",
       "1530  \\n\\n                    ΠΑΥΛΟΣ δοῦλος Ἰησοῦ Χρ...       7107  perseus   \n",
       "1531  \\n\\n                    ΠΑΥΛΟΣ κλητὸς ἀπόστολο...       6814  perseus   \n",
       "1532  \\n\\n                    ΠΑΥΛΟΣ ἀπόστολος Χριστ...       4470  perseus   \n",
       "1533  \\n\\n                    ΠΑΥΛΟΣ ἀπόστολος, οὐκ ...       2235  perseus   \n",
       "1534  \\n\\n                    ΠΑΥΛΟΣ ἀπόστολος Χριστ...       2421  perseus   \n",
       "1535  \\n\\n                    ΠΑΥΛΟΣ ΚΑΙ ΤΙΜΟΘΕΟΣ δο...       1632  perseus   \n",
       "1536  \\n\\n                    ΠΑΥΛΟΣ ἀπόστολος Χριστ...       1581  perseus   \n",
       "1537  \\n\\n                    ΠΑΥΛΟΣ ΚΑΙ ΣΙΛΟΥΑΝΟΣ Κ...       1475  perseus   \n",
       "1538  \\n\\n                    ΠΑΥΛΟΣ ΚΑΙ ΣΙΛΟΥΑΝΟΣ Κ...        822  perseus   \n",
       "1539  \\n\\n                    ΠΑΥΛΟΣ ἀπόστολος Χριστ...       1597  perseus   \n",
       "1540  \\n\\n                    ΠΑΥΛΟΣ ἀπόστολος Χριστ...       1245  perseus   \n",
       "1541  \\n\\n                    ΠΑΥΛΟΣ δοῦλος θεοῦ, ἀπ...        659  perseus   \n",
       "1542  \\n\\n                    ΠΑΥΛΟΣ δέσμιος Χριστοῦ...        334  perseus   \n",
       "1543  \\n\\n                    ΠΟΛΥΜΕΡΩΣ ΚΑΙ ΠΟΛΥΤΡΟΠ...       4972  perseus   \n",
       "1544  \\n\\n                    ΙΑΚΩΒΟΣ θεοῦ καὶ κυρίο...       1734  perseus   \n",
       "1545  \\n\\n                    ΠΕΤΡΟΣ ἀπόστολος Ἰησοῦ...       1668  perseus   \n",
       "1546  \\n\\n                    ΣΙΜΩΝ ΠΕΤΡΟΣ δοῦλος κα...       1095  perseus   \n",
       "1547  \\n\\n                    Ο ΗΝ ΑΠʼ ΑΡΧΗΣ, ὃ ἀκηκ...       2135  perseus   \n",
       "1548  \\n\\n                    Ο ΠΡΕΣΒΥΤΕΡΟΣ ἐκλεκτῇ ...        245  perseus   \n",
       "1549  \\n\\n                    Ο ΠΡΕΣΒΥΤΕΡΟΣ Γαίῳ τῷ ...        219  perseus   \n",
       "1550  \\n\\n                    ΙΟΥΔΑΣ Ἰησοῦ Χριστοῦ δ...        456  perseus   \n",
       "1551  \\n\\n                    ΑΠΟΚΑΛΥΨΙΣ ΙΗΣΟΥ ΧΡΙΣΤ...       9857  perseus   \n",
       "\n",
       "                                   lemmatized_sentences lemmata_source  \\\n",
       "1525  [[βίβλος, γένεσις, Ἰησοῦς, Χριστός, υἱός, Δαυί...       morphgnt   \n",
       "1526  [[ἀρχή, εὐαγγέλιον, Ἰησοῦς, Χριστός], [γράφω, ...       morphgnt   \n",
       "1527  [[πολύς, ἐπιχειρέω, ἀνατάσσομαι, διήγησις, πλη...       morphgnt   \n",
       "1528  [[ἀρχή, εἰμί, λόγος, λόγος, εἰμί, θεός, θεός, ...       morphgnt   \n",
       "1529  [[πρῶτος, λόγος, ποιέω, πᾶς, Θεόφιλος, ἄρχω, Ἰ...       morphgnt   \n",
       "1530  [[Παῦλος, δοῦλος, Χριστός, Ἰησοῦς, κλητός, ἀπό...       morphgnt   \n",
       "1531  [[Παῦλος, κλητός, ἀπόστολος, Χριστός, Ἰησοῦς, ...       morphgnt   \n",
       "1532  [[Παῦλος, ἀπόστολος, Χριστός, Ἰησοῦς, θέλημα, ...       morphgnt   \n",
       "1533  [[Παῦλος, ἀπόστολος, ἄνθρωπος, ἄνθρωπος, Ἰησοῦ...       morphgnt   \n",
       "1534  [[Παῦλος, ἀπόστολος, Χριστός, Ἰησοῦς, θέλημα, ...       morphgnt   \n",
       "1535  [[Παῦλος, Τιμόθεος, δοῦλος, Χριστός, Ἰησοῦς, π...       morphgnt   \n",
       "1536  [[Παῦλος, ἀπόστολος, Χριστός, Ἰησοῦς, θέλημα, ...       morphgnt   \n",
       "1537  [[Παῦλος, Σιλουανός, Τιμόθεος, ἐκκλησία, Θεσσα...       morphgnt   \n",
       "1538  [[Παῦλος, Σιλουανός, Τιμόθεος, ἐκκλησία, Θεσσα...       morphgnt   \n",
       "1539  [[Παῦλος, ἀπόστολος, Χριστός, Ἰησοῦς, ἐπιταγή,...       morphgnt   \n",
       "1540  [[Παῦλος, ἀπόστολος, Χριστός, Ἰησοῦς, θέλημα, ...       morphgnt   \n",
       "1541  [[Παῦλος, δοῦλος, θεός, ἀπόστολος, Ἰησοῦς, Χρι...       morphgnt   \n",
       "1542  [[Παῦλος, δέσμιος, Χριστός, Ἰησοῦς, Τιμόθεος, ...       morphgnt   \n",
       "1543  [[θεός, λαλέω, πατήρ, προφήτης, ἔσχατος, ἡμέρα...       morphgnt   \n",
       "1544  [[Ἰάκωβος, θεός, κύριος, Ἰησοῦς, Χριστός, δοῦλ...       morphgnt   \n",
       "1545  [[Πέτρος, ἀπόστολος, Ἰησοῦς, Χριστός, ἐκλεκτός...       morphgnt   \n",
       "1546  [[Συμεών, Πέτρος, δοῦλος, ἀπόστολος, Ἰησοῦς, Χ...       morphgnt   \n",
       "1547  [[εἰμί, ἀρχή, ἀκούω, ὁράω, ὀφθαλμός, θεάομαι, ...       morphgnt   \n",
       "1548  [[πρεσβύτερος, ἐκλεκτός, κυρία, τέκνον, ἀγαπάω...       morphgnt   \n",
       "1549  [[πρεσβύτερος, Γάϊος, ἀγαπητός, ἀγαπάω, ἀλήθει...       morphgnt   \n",
       "1550  [[Ἰούδας, Ἰησοῦς, Χριστός, δοῦλος, ἀδελφός, Ἰά...       morphgnt   \n",
       "1551  [[ἀποκάλυψις, Ἰησοῦς, Χριστός, δίδωμι, θεός, δ...       morphgnt   \n",
       "\n",
       "     tlg_date  not_before  not_after date_uncertain tlg_epithet provenience  \\\n",
       "1525   A.D. 1         1.0      100.0          False          []   christian   \n",
       "1526   A.D. 1         1.0      100.0          False          []   christian   \n",
       "1527   A.D. 1         1.0      100.0          False          []   christian   \n",
       "1528   A.D. 1         1.0      100.0          False          []   christian   \n",
       "1529   A.D. 1         1.0      100.0          False          []   christian   \n",
       "1530   A.D. 1         1.0      100.0          False          []   christian   \n",
       "1531   A.D. 1         1.0      100.0          False          []   christian   \n",
       "1532   A.D. 1         1.0      100.0          False          []   christian   \n",
       "1533   A.D. 1         1.0      100.0          False          []   christian   \n",
       "1534   A.D. 1         1.0      100.0          False          []   christian   \n",
       "1535   A.D. 1         1.0      100.0          False          []   christian   \n",
       "1536   A.D. 1         1.0      100.0          False          []   christian   \n",
       "1537   A.D. 1         1.0      100.0          False          []   christian   \n",
       "1538   A.D. 1         1.0      100.0          False          []   christian   \n",
       "1539   A.D. 1         1.0      100.0          False          []   christian   \n",
       "1540   A.D. 1         1.0      100.0          False          []   christian   \n",
       "1541   A.D. 1         1.0      100.0          False          []   christian   \n",
       "1542   A.D. 1         1.0      100.0          False          []   christian   \n",
       "1543   A.D. 1         1.0      100.0          False          []   christian   \n",
       "1544   A.D. 1         1.0      100.0          False          []   christian   \n",
       "1545   A.D. 1         1.0      100.0          False          []   christian   \n",
       "1546   A.D. 1         1.0      100.0          False          []   christian   \n",
       "1547   A.D. 1         1.0      100.0          False          []   christian   \n",
       "1548   A.D. 1         1.0      100.0          False          []   christian   \n",
       "1549   A.D. 1         1.0      100.0          False          []   christian   \n",
       "1550   A.D. 1         1.0      100.0          False          []   christian   \n",
       "1551   A.D. 1         1.0      100.0          False          []   christian   \n",
       "\n",
       "      lemmatacount  \n",
       "1525          8699  \n",
       "1526          5308  \n",
       "1527          9194  \n",
       "1528          6892  \n",
       "1529          9141  \n",
       "1530          3265  \n",
       "1531          3292  \n",
       "1532          1925  \n",
       "1533          1058  \n",
       "1534          1126  \n",
       "1535           748  \n",
       "1536           722  \n",
       "1537           634  \n",
       "1538           361  \n",
       "1539           917  \n",
       "1540           647  \n",
       "1541           386  \n",
       "1542           147  \n",
       "1543          2467  \n",
       "1544           894  \n",
       "1545           872  \n",
       "1546           589  \n",
       "1547           924  \n",
       "1548           111  \n",
       "1549           105  \n",
       "1550           254  \n",
       "1551          4731  "
      ],
      "text/html": [
       "<div>\n",
       "<style scoped>\n",
       "    .dataframe tbody tr th:only-of-type {\n",
       "        vertical-align: middle;\n",
       "    }\n",
       "\n",
       "    .dataframe tbody tr th {\n",
       "        vertical-align: top;\n",
       "    }\n",
       "\n",
       "    .dataframe thead th {\n",
       "        text-align: right;\n",
       "    }\n",
       "</style>\n",
       "<table border=\"1\" class=\"dataframe\">\n",
       "  <thead>\n",
       "    <tr style=\"text-align: right;\">\n",
       "      <th></th>\n",
       "      <th>author_id</th>\n",
       "      <th>doc_id</th>\n",
       "      <th>filename</th>\n",
       "      <th>author</th>\n",
       "      <th>title</th>\n",
       "      <th>string</th>\n",
       "      <th>wordcount</th>\n",
       "      <th>source</th>\n",
       "      <th>lemmatized_sentences</th>\n",
       "      <th>lemmata_source</th>\n",
       "      <th>tlg_date</th>\n",
       "      <th>not_before</th>\n",
       "      <th>not_after</th>\n",
       "      <th>date_uncertain</th>\n",
       "      <th>tlg_epithet</th>\n",
       "      <th>provenience</th>\n",
       "      <th>lemmatacount</th>\n",
       "    </tr>\n",
       "  </thead>\n",
       "  <tbody>\n",
       "    <tr>\n",
       "      <th>1525</th>\n",
       "      <td>tlg0031a</td>\n",
       "      <td>tlg0031.tlg001</td>\n",
       "      <td>tlg0031.tlg001.perseus-grc2.xml</td>\n",
       "      <td>None</td>\n",
       "      <td>New Testament - Matthew</td>\n",
       "      <td>ΒΙΒΛΟΣ γενέσεως Ἰησοῦ Χριστοῦ υἱοῦ Δαυεὶδ υἱ...</td>\n",
       "      <td>18288</td>\n",
       "      <td>perseus</td>\n",
       "      <td>[[βίβλος, γένεσις, Ἰησοῦς, Χριστός, υἱός, Δαυί...</td>\n",
       "      <td>morphgnt</td>\n",
       "      <td>A.D. 1</td>\n",
       "      <td>1.0</td>\n",
       "      <td>100.0</td>\n",
       "      <td>False</td>\n",
       "      <td>[]</td>\n",
       "      <td>christian</td>\n",
       "      <td>8699</td>\n",
       "    </tr>\n",
       "    <tr>\n",
       "      <th>1526</th>\n",
       "      <td>tlg0031b</td>\n",
       "      <td>tlg0031.tlg002</td>\n",
       "      <td>tlg0031.tlg002.perseus-grc2.xml</td>\n",
       "      <td>None</td>\n",
       "      <td>New Testament - Mark</td>\n",
       "      <td>\\n\\n                    ΑΡΧΗ τοῦ εὐαγγελίου Ἰη...</td>\n",
       "      <td>11275</td>\n",
       "      <td>perseus</td>\n",
       "      <td>[[ἀρχή, εὐαγγέλιον, Ἰησοῦς, Χριστός], [γράφω, ...</td>\n",
       "      <td>morphgnt</td>\n",
       "      <td>A.D. 1</td>\n",
       "      <td>1.0</td>\n",
       "      <td>100.0</td>\n",
       "      <td>False</td>\n",
       "      <td>[]</td>\n",
       "      <td>christian</td>\n",
       "      <td>5308</td>\n",
       "    </tr>\n",
       "    <tr>\n",
       "      <th>1527</th>\n",
       "      <td>tlg0031luke</td>\n",
       "      <td>tlg0031.tlg003</td>\n",
       "      <td>tlg0031.tlg003.perseus-grc2.xml</td>\n",
       "      <td>Luke (the evangelist)</td>\n",
       "      <td>New Testament - Luke</td>\n",
       "      <td>\\n\\n                    ΕΠΕΙΔΗΠΕΡ ΠΟΛΛΟΙ ἐπεχε...</td>\n",
       "      <td>19459</td>\n",
       "      <td>perseus</td>\n",
       "      <td>[[πολύς, ἐπιχειρέω, ἀνατάσσομαι, διήγησις, πλη...</td>\n",
       "      <td>morphgnt</td>\n",
       "      <td>A.D. 1</td>\n",
       "      <td>1.0</td>\n",
       "      <td>100.0</td>\n",
       "      <td>False</td>\n",
       "      <td>[]</td>\n",
       "      <td>christian</td>\n",
       "      <td>9194</td>\n",
       "    </tr>\n",
       "    <tr>\n",
       "      <th>1528</th>\n",
       "      <td>tlg0031john</td>\n",
       "      <td>tlg0031.tlg004</td>\n",
       "      <td>tlg0031.tlg004.perseus-grc2.xml</td>\n",
       "      <td>Johnannine literature</td>\n",
       "      <td>New Testament - John</td>\n",
       "      <td>\\n\\n                    ΕΝ ΑΡΧΗ ἦν ὁ λόγος, κα...</td>\n",
       "      <td>15592</td>\n",
       "      <td>perseus</td>\n",
       "      <td>[[ἀρχή, εἰμί, λόγος, λόγος, εἰμί, θεός, θεός, ...</td>\n",
       "      <td>morphgnt</td>\n",
       "      <td>A.D. 1</td>\n",
       "      <td>1.0</td>\n",
       "      <td>100.0</td>\n",
       "      <td>False</td>\n",
       "      <td>[]</td>\n",
       "      <td>christian</td>\n",
       "      <td>6892</td>\n",
       "    </tr>\n",
       "    <tr>\n",
       "      <th>1529</th>\n",
       "      <td>tlg0031luke</td>\n",
       "      <td>tlg0031.tlg005</td>\n",
       "      <td>tlg0031.tlg005.perseus-grc2.xml</td>\n",
       "      <td>Luke (the evangelist)</td>\n",
       "      <td>New Testament - Acts</td>\n",
       "      <td>\\n τὸν μὲν πρῶτον λόγον ἐποιησάμην περὶ πάντων...</td>\n",
       "      <td>18405</td>\n",
       "      <td>perseus</td>\n",
       "      <td>[[πρῶτος, λόγος, ποιέω, πᾶς, Θεόφιλος, ἄρχω, Ἰ...</td>\n",
       "      <td>morphgnt</td>\n",
       "      <td>A.D. 1</td>\n",
       "      <td>1.0</td>\n",
       "      <td>100.0</td>\n",
       "      <td>False</td>\n",
       "      <td>[]</td>\n",
       "      <td>christian</td>\n",
       "      <td>9141</td>\n",
       "    </tr>\n",
       "    <tr>\n",
       "      <th>1530</th>\n",
       "      <td>tlg0031paul</td>\n",
       "      <td>tlg0031.tlg006</td>\n",
       "      <td>tlg0031.tlg006.perseus-grc2.xml</td>\n",
       "      <td>Paul of Tarsus</td>\n",
       "      <td>New Testament - Romans</td>\n",
       "      <td>\\n\\n                    ΠΑΥΛΟΣ δοῦλος Ἰησοῦ Χρ...</td>\n",
       "      <td>7107</td>\n",
       "      <td>perseus</td>\n",
       "      <td>[[Παῦλος, δοῦλος, Χριστός, Ἰησοῦς, κλητός, ἀπό...</td>\n",
       "      <td>morphgnt</td>\n",
       "      <td>A.D. 1</td>\n",
       "      <td>1.0</td>\n",
       "      <td>100.0</td>\n",
       "      <td>False</td>\n",
       "      <td>[]</td>\n",
       "      <td>christian</td>\n",
       "      <td>3265</td>\n",
       "    </tr>\n",
       "    <tr>\n",
       "      <th>1531</th>\n",
       "      <td>tlg0031paul</td>\n",
       "      <td>tlg0031.tlg007</td>\n",
       "      <td>tlg0031.tlg007.perseus-grc2.xml</td>\n",
       "      <td>Paul of Tarsus</td>\n",
       "      <td>New Testament - 1 Corinthians</td>\n",
       "      <td>\\n\\n                    ΠΑΥΛΟΣ κλητὸς ἀπόστολο...</td>\n",
       "      <td>6814</td>\n",
       "      <td>perseus</td>\n",
       "      <td>[[Παῦλος, κλητός, ἀπόστολος, Χριστός, Ἰησοῦς, ...</td>\n",
       "      <td>morphgnt</td>\n",
       "      <td>A.D. 1</td>\n",
       "      <td>1.0</td>\n",
       "      <td>100.0</td>\n",
       "      <td>False</td>\n",
       "      <td>[]</td>\n",
       "      <td>christian</td>\n",
       "      <td>3292</td>\n",
       "    </tr>\n",
       "    <tr>\n",
       "      <th>1532</th>\n",
       "      <td>tlg0031paul</td>\n",
       "      <td>tlg0031.tlg008</td>\n",
       "      <td>tlg0031.tlg008.perseus-grc2.xml</td>\n",
       "      <td>Paul of Tarsus</td>\n",
       "      <td>New Testament - 2 Corinthians</td>\n",
       "      <td>\\n\\n                    ΠΑΥΛΟΣ ἀπόστολος Χριστ...</td>\n",
       "      <td>4470</td>\n",
       "      <td>perseus</td>\n",
       "      <td>[[Παῦλος, ἀπόστολος, Χριστός, Ἰησοῦς, θέλημα, ...</td>\n",
       "      <td>morphgnt</td>\n",
       "      <td>A.D. 1</td>\n",
       "      <td>1.0</td>\n",
       "      <td>100.0</td>\n",
       "      <td>False</td>\n",
       "      <td>[]</td>\n",
       "      <td>christian</td>\n",
       "      <td>1925</td>\n",
       "    </tr>\n",
       "    <tr>\n",
       "      <th>1533</th>\n",
       "      <td>tlg0031paul</td>\n",
       "      <td>tlg0031.tlg009</td>\n",
       "      <td>tlg0031.tlg009.perseus-grc2.xml</td>\n",
       "      <td>Paul of Tarsus</td>\n",
       "      <td>New Testament - Galatians</td>\n",
       "      <td>\\n\\n                    ΠΑΥΛΟΣ ἀπόστολος, οὐκ ...</td>\n",
       "      <td>2235</td>\n",
       "      <td>perseus</td>\n",
       "      <td>[[Παῦλος, ἀπόστολος, ἄνθρωπος, ἄνθρωπος, Ἰησοῦ...</td>\n",
       "      <td>morphgnt</td>\n",
       "      <td>A.D. 1</td>\n",
       "      <td>1.0</td>\n",
       "      <td>100.0</td>\n",
       "      <td>False</td>\n",
       "      <td>[]</td>\n",
       "      <td>christian</td>\n",
       "      <td>1058</td>\n",
       "    </tr>\n",
       "    <tr>\n",
       "      <th>1534</th>\n",
       "      <td>tlg0031pspa</td>\n",
       "      <td>tlg0031.tlg010</td>\n",
       "      <td>tlg0031.tlg010.perseus-grc2.xml</td>\n",
       "      <td>Pauline literature</td>\n",
       "      <td>New Testament - Ephesians</td>\n",
       "      <td>\\n\\n                    ΠΑΥΛΟΣ ἀπόστολος Χριστ...</td>\n",
       "      <td>2421</td>\n",
       "      <td>perseus</td>\n",
       "      <td>[[Παῦλος, ἀπόστολος, Χριστός, Ἰησοῦς, θέλημα, ...</td>\n",
       "      <td>morphgnt</td>\n",
       "      <td>A.D. 1</td>\n",
       "      <td>1.0</td>\n",
       "      <td>100.0</td>\n",
       "      <td>False</td>\n",
       "      <td>[]</td>\n",
       "      <td>christian</td>\n",
       "      <td>1126</td>\n",
       "    </tr>\n",
       "    <tr>\n",
       "      <th>1535</th>\n",
       "      <td>tlg0031paul</td>\n",
       "      <td>tlg0031.tlg011</td>\n",
       "      <td>tlg0031.tlg011.perseus-grc2.xml</td>\n",
       "      <td>Paul of Tarsus</td>\n",
       "      <td>New Testament - Philippians</td>\n",
       "      <td>\\n\\n                    ΠΑΥΛΟΣ ΚΑΙ ΤΙΜΟΘΕΟΣ δο...</td>\n",
       "      <td>1632</td>\n",
       "      <td>perseus</td>\n",
       "      <td>[[Παῦλος, Τιμόθεος, δοῦλος, Χριστός, Ἰησοῦς, π...</td>\n",
       "      <td>morphgnt</td>\n",
       "      <td>A.D. 1</td>\n",
       "      <td>1.0</td>\n",
       "      <td>100.0</td>\n",
       "      <td>False</td>\n",
       "      <td>[]</td>\n",
       "      <td>christian</td>\n",
       "      <td>748</td>\n",
       "    </tr>\n",
       "    <tr>\n",
       "      <th>1536</th>\n",
       "      <td>tlg0031pspa</td>\n",
       "      <td>tlg0031.tlg012</td>\n",
       "      <td>tlg0031.tlg012.perseus-grc2.xml</td>\n",
       "      <td>Pauline literature</td>\n",
       "      <td>New Testament - Colossians</td>\n",
       "      <td>\\n\\n                    ΠΑΥΛΟΣ ἀπόστολος Χριστ...</td>\n",
       "      <td>1581</td>\n",
       "      <td>perseus</td>\n",
       "      <td>[[Παῦλος, ἀπόστολος, Χριστός, Ἰησοῦς, θέλημα, ...</td>\n",
       "      <td>morphgnt</td>\n",
       "      <td>A.D. 1</td>\n",
       "      <td>1.0</td>\n",
       "      <td>100.0</td>\n",
       "      <td>False</td>\n",
       "      <td>[]</td>\n",
       "      <td>christian</td>\n",
       "      <td>722</td>\n",
       "    </tr>\n",
       "    <tr>\n",
       "      <th>1537</th>\n",
       "      <td>tlg0031paul</td>\n",
       "      <td>tlg0031.tlg013</td>\n",
       "      <td>tlg0031.tlg013.perseus-grc2.xml</td>\n",
       "      <td>Paul of Tarsus</td>\n",
       "      <td>New Testament - 1 Thessalonians</td>\n",
       "      <td>\\n\\n                    ΠΑΥΛΟΣ ΚΑΙ ΣΙΛΟΥΑΝΟΣ Κ...</td>\n",
       "      <td>1475</td>\n",
       "      <td>perseus</td>\n",
       "      <td>[[Παῦλος, Σιλουανός, Τιμόθεος, ἐκκλησία, Θεσσα...</td>\n",
       "      <td>morphgnt</td>\n",
       "      <td>A.D. 1</td>\n",
       "      <td>1.0</td>\n",
       "      <td>100.0</td>\n",
       "      <td>False</td>\n",
       "      <td>[]</td>\n",
       "      <td>christian</td>\n",
       "      <td>634</td>\n",
       "    </tr>\n",
       "    <tr>\n",
       "      <th>1538</th>\n",
       "      <td>tlg0031pspa</td>\n",
       "      <td>tlg0031.tlg014</td>\n",
       "      <td>tlg0031.tlg014.perseus-grc2.xml</td>\n",
       "      <td>Pauline literature</td>\n",
       "      <td>New Testament - 2 Thessalonians</td>\n",
       "      <td>\\n\\n                    ΠΑΥΛΟΣ ΚΑΙ ΣΙΛΟΥΑΝΟΣ Κ...</td>\n",
       "      <td>822</td>\n",
       "      <td>perseus</td>\n",
       "      <td>[[Παῦλος, Σιλουανός, Τιμόθεος, ἐκκλησία, Θεσσα...</td>\n",
       "      <td>morphgnt</td>\n",
       "      <td>A.D. 1</td>\n",
       "      <td>1.0</td>\n",
       "      <td>100.0</td>\n",
       "      <td>False</td>\n",
       "      <td>[]</td>\n",
       "      <td>christian</td>\n",
       "      <td>361</td>\n",
       "    </tr>\n",
       "    <tr>\n",
       "      <th>1539</th>\n",
       "      <td>tlg0031pspa</td>\n",
       "      <td>tlg0031.tlg015</td>\n",
       "      <td>tlg0031.tlg015.perseus-grc2.xml</td>\n",
       "      <td>Pauline literature</td>\n",
       "      <td>New Testament - 1 Timothy</td>\n",
       "      <td>\\n\\n                    ΠΑΥΛΟΣ ἀπόστολος Χριστ...</td>\n",
       "      <td>1597</td>\n",
       "      <td>perseus</td>\n",
       "      <td>[[Παῦλος, ἀπόστολος, Χριστός, Ἰησοῦς, ἐπιταγή,...</td>\n",
       "      <td>morphgnt</td>\n",
       "      <td>A.D. 1</td>\n",
       "      <td>1.0</td>\n",
       "      <td>100.0</td>\n",
       "      <td>False</td>\n",
       "      <td>[]</td>\n",
       "      <td>christian</td>\n",
       "      <td>917</td>\n",
       "    </tr>\n",
       "    <tr>\n",
       "      <th>1540</th>\n",
       "      <td>tlg0031pspa</td>\n",
       "      <td>tlg0031.tlg016</td>\n",
       "      <td>tlg0031.tlg016.perseus-grc2.xml</td>\n",
       "      <td>Pauline literature</td>\n",
       "      <td>New Testament - 2 Timothy</td>\n",
       "      <td>\\n\\n                    ΠΑΥΛΟΣ ἀπόστολος Χριστ...</td>\n",
       "      <td>1245</td>\n",
       "      <td>perseus</td>\n",
       "      <td>[[Παῦλος, ἀπόστολος, Χριστός, Ἰησοῦς, θέλημα, ...</td>\n",
       "      <td>morphgnt</td>\n",
       "      <td>A.D. 1</td>\n",
       "      <td>1.0</td>\n",
       "      <td>100.0</td>\n",
       "      <td>False</td>\n",
       "      <td>[]</td>\n",
       "      <td>christian</td>\n",
       "      <td>647</td>\n",
       "    </tr>\n",
       "    <tr>\n",
       "      <th>1541</th>\n",
       "      <td>tlg0031pspa</td>\n",
       "      <td>tlg0031.tlg017</td>\n",
       "      <td>tlg0031.tlg017.perseus-grc2.xml</td>\n",
       "      <td>Pauline literature</td>\n",
       "      <td>New Testament - Titus</td>\n",
       "      <td>\\n\\n                    ΠΑΥΛΟΣ δοῦλος θεοῦ, ἀπ...</td>\n",
       "      <td>659</td>\n",
       "      <td>perseus</td>\n",
       "      <td>[[Παῦλος, δοῦλος, θεός, ἀπόστολος, Ἰησοῦς, Χρι...</td>\n",
       "      <td>morphgnt</td>\n",
       "      <td>A.D. 1</td>\n",
       "      <td>1.0</td>\n",
       "      <td>100.0</td>\n",
       "      <td>False</td>\n",
       "      <td>[]</td>\n",
       "      <td>christian</td>\n",
       "      <td>386</td>\n",
       "    </tr>\n",
       "    <tr>\n",
       "      <th>1542</th>\n",
       "      <td>tlg0031paul</td>\n",
       "      <td>tlg0031.tlg018</td>\n",
       "      <td>tlg0031.tlg018.perseus-grc2.xml</td>\n",
       "      <td>Paul of Tarsus</td>\n",
       "      <td>New Testament - Philemon</td>\n",
       "      <td>\\n\\n                    ΠΑΥΛΟΣ δέσμιος Χριστοῦ...</td>\n",
       "      <td>334</td>\n",
       "      <td>perseus</td>\n",
       "      <td>[[Παῦλος, δέσμιος, Χριστός, Ἰησοῦς, Τιμόθεος, ...</td>\n",
       "      <td>morphgnt</td>\n",
       "      <td>A.D. 1</td>\n",
       "      <td>1.0</td>\n",
       "      <td>100.0</td>\n",
       "      <td>False</td>\n",
       "      <td>[]</td>\n",
       "      <td>christian</td>\n",
       "      <td>147</td>\n",
       "    </tr>\n",
       "    <tr>\n",
       "      <th>1543</th>\n",
       "      <td>tlg0031c</td>\n",
       "      <td>tlg0031.tlg019</td>\n",
       "      <td>tlg0031.tlg019.perseus-grc2.xml</td>\n",
       "      <td>None</td>\n",
       "      <td>New Testament - Hebrews</td>\n",
       "      <td>\\n\\n                    ΠΟΛΥΜΕΡΩΣ ΚΑΙ ΠΟΛΥΤΡΟΠ...</td>\n",
       "      <td>4972</td>\n",
       "      <td>perseus</td>\n",
       "      <td>[[θεός, λαλέω, πατήρ, προφήτης, ἔσχατος, ἡμέρα...</td>\n",
       "      <td>morphgnt</td>\n",
       "      <td>A.D. 1</td>\n",
       "      <td>1.0</td>\n",
       "      <td>100.0</td>\n",
       "      <td>False</td>\n",
       "      <td>[]</td>\n",
       "      <td>christian</td>\n",
       "      <td>2467</td>\n",
       "    </tr>\n",
       "    <tr>\n",
       "      <th>1544</th>\n",
       "      <td>tlg0031d</td>\n",
       "      <td>tlg0031.tlg020</td>\n",
       "      <td>tlg0031.tlg020.perseus-grc2.xml</td>\n",
       "      <td>None</td>\n",
       "      <td>New Testament - James</td>\n",
       "      <td>\\n\\n                    ΙΑΚΩΒΟΣ θεοῦ καὶ κυρίο...</td>\n",
       "      <td>1734</td>\n",
       "      <td>perseus</td>\n",
       "      <td>[[Ἰάκωβος, θεός, κύριος, Ἰησοῦς, Χριστός, δοῦλ...</td>\n",
       "      <td>morphgnt</td>\n",
       "      <td>A.D. 1</td>\n",
       "      <td>1.0</td>\n",
       "      <td>100.0</td>\n",
       "      <td>False</td>\n",
       "      <td>[]</td>\n",
       "      <td>christian</td>\n",
       "      <td>894</td>\n",
       "    </tr>\n",
       "    <tr>\n",
       "      <th>1545</th>\n",
       "      <td>tlg0031e</td>\n",
       "      <td>tlg0031.tlg021</td>\n",
       "      <td>tlg0031.tlg021.perseus-grc2.xml</td>\n",
       "      <td>None</td>\n",
       "      <td>New Testament - 1 Peter</td>\n",
       "      <td>\\n\\n                    ΠΕΤΡΟΣ ἀπόστολος Ἰησοῦ...</td>\n",
       "      <td>1668</td>\n",
       "      <td>perseus</td>\n",
       "      <td>[[Πέτρος, ἀπόστολος, Ἰησοῦς, Χριστός, ἐκλεκτός...</td>\n",
       "      <td>morphgnt</td>\n",
       "      <td>A.D. 1</td>\n",
       "      <td>1.0</td>\n",
       "      <td>100.0</td>\n",
       "      <td>False</td>\n",
       "      <td>[]</td>\n",
       "      <td>christian</td>\n",
       "      <td>872</td>\n",
       "    </tr>\n",
       "    <tr>\n",
       "      <th>1546</th>\n",
       "      <td>tlg0031f</td>\n",
       "      <td>tlg0031.tlg022</td>\n",
       "      <td>tlg0031.tlg022.perseus-grc2.xml</td>\n",
       "      <td>None</td>\n",
       "      <td>New Testament - 2 Peter</td>\n",
       "      <td>\\n\\n                    ΣΙΜΩΝ ΠΕΤΡΟΣ δοῦλος κα...</td>\n",
       "      <td>1095</td>\n",
       "      <td>perseus</td>\n",
       "      <td>[[Συμεών, Πέτρος, δοῦλος, ἀπόστολος, Ἰησοῦς, Χ...</td>\n",
       "      <td>morphgnt</td>\n",
       "      <td>A.D. 1</td>\n",
       "      <td>1.0</td>\n",
       "      <td>100.0</td>\n",
       "      <td>False</td>\n",
       "      <td>[]</td>\n",
       "      <td>christian</td>\n",
       "      <td>589</td>\n",
       "    </tr>\n",
       "    <tr>\n",
       "      <th>1547</th>\n",
       "      <td>tlg0031john</td>\n",
       "      <td>tlg0031.tlg023</td>\n",
       "      <td>tlg0031.tlg023.perseus-grc2.xml</td>\n",
       "      <td>Johnannine literature</td>\n",
       "      <td>New Testament - 1 John</td>\n",
       "      <td>\\n\\n                    Ο ΗΝ ΑΠʼ ΑΡΧΗΣ, ὃ ἀκηκ...</td>\n",
       "      <td>2135</td>\n",
       "      <td>perseus</td>\n",
       "      <td>[[εἰμί, ἀρχή, ἀκούω, ὁράω, ὀφθαλμός, θεάομαι, ...</td>\n",
       "      <td>morphgnt</td>\n",
       "      <td>A.D. 1</td>\n",
       "      <td>1.0</td>\n",
       "      <td>100.0</td>\n",
       "      <td>False</td>\n",
       "      <td>[]</td>\n",
       "      <td>christian</td>\n",
       "      <td>924</td>\n",
       "    </tr>\n",
       "    <tr>\n",
       "      <th>1548</th>\n",
       "      <td>tlg0031john</td>\n",
       "      <td>tlg0031.tlg024</td>\n",
       "      <td>tlg0031.tlg024.perseus-grc2.xml</td>\n",
       "      <td>Johnannine literature</td>\n",
       "      <td>New Testament - 2 John</td>\n",
       "      <td>\\n\\n                    Ο ΠΡΕΣΒΥΤΕΡΟΣ ἐκλεκτῇ ...</td>\n",
       "      <td>245</td>\n",
       "      <td>perseus</td>\n",
       "      <td>[[πρεσβύτερος, ἐκλεκτός, κυρία, τέκνον, ἀγαπάω...</td>\n",
       "      <td>morphgnt</td>\n",
       "      <td>A.D. 1</td>\n",
       "      <td>1.0</td>\n",
       "      <td>100.0</td>\n",
       "      <td>False</td>\n",
       "      <td>[]</td>\n",
       "      <td>christian</td>\n",
       "      <td>111</td>\n",
       "    </tr>\n",
       "    <tr>\n",
       "      <th>1549</th>\n",
       "      <td>tlg0031john</td>\n",
       "      <td>tlg0031.tlg025</td>\n",
       "      <td>tlg0031.tlg025.perseus-grc2.xml</td>\n",
       "      <td>Johnannine literature</td>\n",
       "      <td>New Testament - 3 John</td>\n",
       "      <td>\\n\\n                    Ο ΠΡΕΣΒΥΤΕΡΟΣ Γαίῳ τῷ ...</td>\n",
       "      <td>219</td>\n",
       "      <td>perseus</td>\n",
       "      <td>[[πρεσβύτερος, Γάϊος, ἀγαπητός, ἀγαπάω, ἀλήθει...</td>\n",
       "      <td>morphgnt</td>\n",
       "      <td>A.D. 1</td>\n",
       "      <td>1.0</td>\n",
       "      <td>100.0</td>\n",
       "      <td>False</td>\n",
       "      <td>[]</td>\n",
       "      <td>christian</td>\n",
       "      <td>105</td>\n",
       "    </tr>\n",
       "    <tr>\n",
       "      <th>1550</th>\n",
       "      <td>tlg0031g</td>\n",
       "      <td>tlg0031.tlg026</td>\n",
       "      <td>tlg0031.tlg026.perseus-grc2.xml</td>\n",
       "      <td>None</td>\n",
       "      <td>New Testament - Jude</td>\n",
       "      <td>\\n\\n                    ΙΟΥΔΑΣ Ἰησοῦ Χριστοῦ δ...</td>\n",
       "      <td>456</td>\n",
       "      <td>perseus</td>\n",
       "      <td>[[Ἰούδας, Ἰησοῦς, Χριστός, δοῦλος, ἀδελφός, Ἰά...</td>\n",
       "      <td>morphgnt</td>\n",
       "      <td>A.D. 1</td>\n",
       "      <td>1.0</td>\n",
       "      <td>100.0</td>\n",
       "      <td>False</td>\n",
       "      <td>[]</td>\n",
       "      <td>christian</td>\n",
       "      <td>254</td>\n",
       "    </tr>\n",
       "    <tr>\n",
       "      <th>1551</th>\n",
       "      <td>tlg0031h</td>\n",
       "      <td>tlg0031.tlg027</td>\n",
       "      <td>tlg0031.tlg027.perseus-grc2.xml</td>\n",
       "      <td>None</td>\n",
       "      <td>New Testament - Revelation</td>\n",
       "      <td>\\n\\n                    ΑΠΟΚΑΛΥΨΙΣ ΙΗΣΟΥ ΧΡΙΣΤ...</td>\n",
       "      <td>9857</td>\n",
       "      <td>perseus</td>\n",
       "      <td>[[ἀποκάλυψις, Ἰησοῦς, Χριστός, δίδωμι, θεός, δ...</td>\n",
       "      <td>morphgnt</td>\n",
       "      <td>A.D. 1</td>\n",
       "      <td>1.0</td>\n",
       "      <td>100.0</td>\n",
       "      <td>False</td>\n",
       "      <td>[]</td>\n",
       "      <td>christian</td>\n",
       "      <td>4731</td>\n",
       "    </tr>\n",
       "  </tbody>\n",
       "</table>\n",
       "</div>"
      ]
     },
     "metadata": {},
     "output_type": "execute_result",
     "execution_count": 8
    }
   ],
   "source": [
    "LAGT[LAGT[\"author_id\"].str.startswith(\"tlg0031\")]"
   ],
   "metadata": {
    "collapsed": false,
    "ExecuteTime": {
     "end_time": "2024-01-29T14:22:52.123789Z",
     "start_time": "2024-01-29T14:22:51.980796Z"
    }
   },
   "execution_count": 8
  },
  {
   "cell_type": "code",
   "outputs": [
    {
     "data": {
      "text/plain": [
       "60001"
      ]
     },
     "metadata": {},
     "output_type": "execute_result",
     "execution_count": 9
    }
   ],
   "source": [
    "# extract a list of all lemmatized words from all lemmatized sentences\n",
    "wordlist = [w for sent in [sent for work in LAGT[\"lemmatized_sentences\"] for sent in work] for w in sent]\n",
    "# count all instances of the word θεός\n",
    "wordlist.count(\"θεός\")"
   ],
   "metadata": {
    "collapsed": false,
    "ExecuteTime": {
     "end_time": "2024-01-29T14:22:56.305446Z",
     "start_time": "2024-01-29T14:22:55.093015Z"
    }
   },
   "execution_count": 9
  },
  {
   "cell_type": "code",
   "outputs": [
    {
     "data": {
      "text/plain": [
       "438"
      ]
     },
     "metadata": {},
     "output_type": "execute_result",
     "execution_count": 10
    }
   ],
   "source": [
    "# filter for texts from the fifth and fourth c. BCE\n",
    "len(LAGT[(LAGT[\"not_before\"].between(-500,-301)) | (LAGT[\"not_before\"].between(-500,-301))])"
   ],
   "metadata": {
    "collapsed": false,
    "ExecuteTime": {
     "end_time": "2024-01-29T14:22:56.444060Z",
     "start_time": "2024-01-29T14:22:56.425076Z"
    }
   },
   "execution_count": 10
  },
  {
   "cell_type": "code",
   "outputs": [
    {
     "data": {
      "text/plain": [
       "author_id                                                         tlg0086\n",
       "doc_id                                                     tlg0086.tlg010\n",
       "filename                                  tlg0086.tlg010.perseus-grc1.xml\n",
       "author                                                          Aristotle\n",
       "title                                                  Nicomachean Ethics\n",
       "string                  πᾶσα τέχνη καὶ πᾶσα μέθοδος, ὁμοίως δὲ πρᾶξίς ...\n",
       "wordcount                                                           56630\n",
       "source                                                            perseus\n",
       "lemmatized_sentences    [[πᾶς, τέχνη, πᾶς, μέθοδος, πρᾶξις, προαίρεσις...\n",
       "lemmata_source                                                      glaux\n",
       "tlg_date                                                           4 B.C.\n",
       "not_before                                                         -400.0\n",
       "not_after                                                          -301.0\n",
       "date_uncertain                                                      False\n",
       "tlg_epithet                                            [Philosophici/-ae]\n",
       "provenience                                                         pagan\n",
       "lemmatacount                                                        26618\n",
       "Name: 1736, dtype: object"
      ]
     },
     "metadata": {},
     "output_type": "execute_result",
     "execution_count": 11
    }
   ],
   "source": [
    "# index for aristotle's nicomachean ethics\n",
    "i = LAGT[LAGT[\"doc_id\"]==\"tlg0086.tlg010\"].index[0]\n",
    "LAGT.loc[i]"
   ],
   "metadata": {
    "collapsed": false,
    "ExecuteTime": {
     "end_time": "2024-01-29T14:22:57.099426Z",
     "start_time": "2024-01-29T14:22:57.068989Z"
    }
   },
   "execution_count": 11
  },
  {
   "cell_type": "markdown",
   "source": [
    "# Explore overall vocabulary"
   ],
   "metadata": {
    "collapsed": false
   }
  },
  {
   "cell_type": "code",
   "outputs": [],
   "source": [
    "sents = [sent for work in LAGT[\"lemmatized_sentences\"] for sent in work]"
   ],
   "metadata": {
    "collapsed": false,
    "ExecuteTime": {
     "end_time": "2024-01-29T14:22:58.650635Z",
     "start_time": "2024-01-29T14:22:58.605206Z"
    }
   },
   "execution_count": 12
  },
  {
   "cell_type": "code",
   "outputs": [
    {
     "data": {
      "text/plain": [
       "2135872"
      ]
     },
     "metadata": {},
     "output_type": "execute_result",
     "execution_count": 13
    }
   ],
   "source": [
    "len(sents)"
   ],
   "metadata": {
    "collapsed": false,
    "ExecuteTime": {
     "end_time": "2024-01-29T14:22:58.990936Z",
     "start_time": "2024-01-29T14:22:58.938218Z"
    }
   },
   "execution_count": 13
  },
  {
   "cell_type": "code",
   "outputs": [],
   "source": [
    "min_freq = 10\n",
    "\n",
    "def get_vocab(docs, min_freq=min_freq):\n",
    "    words_flat = [item for sublist in docs for item in sublist]\n",
    "    word_freq_tups = FreqDist(words_flat).most_common()\n",
    "    vocabulary = [tup[0] for tup in word_freq_tups if tup[1] >= min_freq]\n",
    "    #vocab_freqs = [len([doc for doc in docs if word in doc]) for word in vocabulary]\n",
    "    return word_freq_tups, words_flat, vocabulary"
   ],
   "metadata": {
    "collapsed": false,
    "ExecuteTime": {
     "end_time": "2024-01-29T14:22:59.441747Z",
     "start_time": "2024-01-29T14:22:59.433459Z"
    }
   },
   "execution_count": 14
  },
  {
   "cell_type": "code",
   "outputs": [],
   "source": [
    "word_freqs, words, vocabulary = get_vocab(sents)"
   ],
   "metadata": {
    "collapsed": false,
    "ExecuteTime": {
     "end_time": "2024-01-29T14:23:05.002757Z",
     "start_time": "2024-01-29T14:23:00.028272Z"
    }
   },
   "execution_count": 15
  },
  {
   "cell_type": "code",
   "outputs": [
    {
     "data": {
      "text/plain": [
       "       lemma   count\n",
       "0      οὗτος  329519\n",
       "1       λέγω  239774\n",
       "2       εἰμί  228051\n",
       "3      αὐτός  213843\n",
       "4   γίγνομαι  157432\n",
       "5        ἔχω  146904\n",
       "6      πολύς  121203\n",
       "7        πᾶς  104573\n",
       "8       φημί   99973\n",
       "9      ἄλλος   96950\n",
       "10       τις   92013\n",
       "11     ποιέω   86832\n",
       "12     λόγος   83060\n",
       "13       τίς   77302\n",
       "14      θεός   60001\n",
       "15     μέγας   55309\n",
       "16   ἐκεῖνος   53604\n",
       "17  ἄνθρωπος   53336\n",
       "18    πρῶτος   50709\n",
       "19    ἕτερος   47250"
      ],
      "text/html": [
       "<div>\n",
       "<style scoped>\n",
       "    .dataframe tbody tr th:only-of-type {\n",
       "        vertical-align: middle;\n",
       "    }\n",
       "\n",
       "    .dataframe tbody tr th {\n",
       "        vertical-align: top;\n",
       "    }\n",
       "\n",
       "    .dataframe thead th {\n",
       "        text-align: right;\n",
       "    }\n",
       "</style>\n",
       "<table border=\"1\" class=\"dataframe\">\n",
       "  <thead>\n",
       "    <tr style=\"text-align: right;\">\n",
       "      <th></th>\n",
       "      <th>lemma</th>\n",
       "      <th>count</th>\n",
       "    </tr>\n",
       "  </thead>\n",
       "  <tbody>\n",
       "    <tr>\n",
       "      <th>0</th>\n",
       "      <td>οὗτος</td>\n",
       "      <td>329519</td>\n",
       "    </tr>\n",
       "    <tr>\n",
       "      <th>1</th>\n",
       "      <td>λέγω</td>\n",
       "      <td>239774</td>\n",
       "    </tr>\n",
       "    <tr>\n",
       "      <th>2</th>\n",
       "      <td>εἰμί</td>\n",
       "      <td>228051</td>\n",
       "    </tr>\n",
       "    <tr>\n",
       "      <th>3</th>\n",
       "      <td>αὐτός</td>\n",
       "      <td>213843</td>\n",
       "    </tr>\n",
       "    <tr>\n",
       "      <th>4</th>\n",
       "      <td>γίγνομαι</td>\n",
       "      <td>157432</td>\n",
       "    </tr>\n",
       "    <tr>\n",
       "      <th>5</th>\n",
       "      <td>ἔχω</td>\n",
       "      <td>146904</td>\n",
       "    </tr>\n",
       "    <tr>\n",
       "      <th>6</th>\n",
       "      <td>πολύς</td>\n",
       "      <td>121203</td>\n",
       "    </tr>\n",
       "    <tr>\n",
       "      <th>7</th>\n",
       "      <td>πᾶς</td>\n",
       "      <td>104573</td>\n",
       "    </tr>\n",
       "    <tr>\n",
       "      <th>8</th>\n",
       "      <td>φημί</td>\n",
       "      <td>99973</td>\n",
       "    </tr>\n",
       "    <tr>\n",
       "      <th>9</th>\n",
       "      <td>ἄλλος</td>\n",
       "      <td>96950</td>\n",
       "    </tr>\n",
       "    <tr>\n",
       "      <th>10</th>\n",
       "      <td>τις</td>\n",
       "      <td>92013</td>\n",
       "    </tr>\n",
       "    <tr>\n",
       "      <th>11</th>\n",
       "      <td>ποιέω</td>\n",
       "      <td>86832</td>\n",
       "    </tr>\n",
       "    <tr>\n",
       "      <th>12</th>\n",
       "      <td>λόγος</td>\n",
       "      <td>83060</td>\n",
       "    </tr>\n",
       "    <tr>\n",
       "      <th>13</th>\n",
       "      <td>τίς</td>\n",
       "      <td>77302</td>\n",
       "    </tr>\n",
       "    <tr>\n",
       "      <th>14</th>\n",
       "      <td>θεός</td>\n",
       "      <td>60001</td>\n",
       "    </tr>\n",
       "    <tr>\n",
       "      <th>15</th>\n",
       "      <td>μέγας</td>\n",
       "      <td>55309</td>\n",
       "    </tr>\n",
       "    <tr>\n",
       "      <th>16</th>\n",
       "      <td>ἐκεῖνος</td>\n",
       "      <td>53604</td>\n",
       "    </tr>\n",
       "    <tr>\n",
       "      <th>17</th>\n",
       "      <td>ἄνθρωπος</td>\n",
       "      <td>53336</td>\n",
       "    </tr>\n",
       "    <tr>\n",
       "      <th>18</th>\n",
       "      <td>πρῶτος</td>\n",
       "      <td>50709</td>\n",
       "    </tr>\n",
       "    <tr>\n",
       "      <th>19</th>\n",
       "      <td>ἕτερος</td>\n",
       "      <td>47250</td>\n",
       "    </tr>\n",
       "  </tbody>\n",
       "</table>\n",
       "</div>"
      ]
     },
     "metadata": {},
     "output_type": "execute_result",
     "execution_count": 16
    }
   ],
   "source": [
    "pd.DataFrame(word_freqs[:20], columns=[\"lemma\", \"count\"])"
   ],
   "metadata": {
    "collapsed": false,
    "ExecuteTime": {
     "end_time": "2024-01-29T14:23:05.012577Z",
     "start_time": "2024-01-29T14:23:05.005543Z"
    }
   },
   "execution_count": 16
  },
  {
   "cell_type": "markdown",
   "source": [
    "# Generate ngrams"
   ],
   "metadata": {
    "collapsed": false
   }
  },
  {
   "cell_type": "code",
   "outputs": [
    {
     "data": {
      "text/plain": [
       "1630"
      ]
     },
     "metadata": {},
     "output_type": "execute_result",
     "execution_count": 17
    }
   ],
   "source": [
    "doc_ids = LAGT[\"doc_id\"].tolist()\n",
    "len(doc_ids)"
   ],
   "metadata": {
    "collapsed": false,
    "ExecuteTime": {
     "end_time": "2024-01-29T14:23:05.014319Z",
     "start_time": "2024-01-29T14:23:05.008408Z"
    }
   },
   "execution_count": 17
  },
  {
   "cell_type": "code",
   "outputs": [],
   "source": [
    "#!mkdir ../data/large_data"
   ],
   "metadata": {
    "collapsed": false,
    "ExecuteTime": {
     "end_time": "2024-01-29T14:23:05.019117Z",
     "start_time": "2024-01-29T14:23:05.011957Z"
    }
   },
   "execution_count": 18
  },
  {
   "cell_type": "code",
   "outputs": [],
   "source": [
    "line = 0\n",
    "ids_lines = {}\n",
    "\n",
    "f = open(\"../data/large_data/corpus_ngrams_bydocid_wide.txt\", \"w\", encoding=\"utf-8\")\n",
    "for doc_id in doc_ids:\n",
    "    lagt_subset = LAGT[LAGT[\"doc_id\"]==doc_id]\n",
    "    sents = [sen for work in lagt_subset[\"lemmatized_sentences\"] for sen in work]\n",
    "    sents_trigrams = [list(el) for sublist in [[ng for ng in nltk.trigrams(sent)] for sent in sents] for el in sublist]\n",
    "    sents_fivegrams = [list(el) for sublist in [[ng for ng in nltk.ngrams(sent, n=5)] for sent in sents] for el in sublist]\n",
    "    ngrams_data = sents + sents_fivegrams # + sents_trigrams\n",
    "    ngrams_data = [\" \".join(ngram) for ngram in ngrams_data]\n",
    "    f.writelines(\"\\n\".join(ngrams_data)+\"\\n\")\n",
    "    if bool(ngrams_data):\n",
    "        ids_lines[doc_id] = (line, line+len(ngrams_data))\n",
    "        line += len(ngrams_data)\n",
    "    else:\n",
    "        ids_lines[doc_id] = (line, line+1)\n",
    "        line += 1"
   ],
   "metadata": {
    "collapsed": false,
    "ExecuteTime": {
     "end_time": "2024-01-29T14:24:18.904239Z",
     "start_time": "2024-01-29T14:23:05.016773Z"
    }
   },
   "execution_count": 19
  },
  {
   "cell_type": "code",
   "outputs": [],
   "source": [
    "pickle.dump(ids_lines, open(\"../data/ids_lines_wide.pickle\", \"wb\"))"
   ],
   "metadata": {
    "collapsed": false,
    "ExecuteTime": {
     "end_time": "2024-01-29T14:24:18.907680Z",
     "start_time": "2024-01-29T14:24:18.904444Z"
    }
   },
   "execution_count": 20
  },
  {
   "cell_type": "markdown",
   "source": [
    "# Ngram example"
   ],
   "metadata": {
    "collapsed": false
   }
  },
  {
   "cell_type": "code",
   "outputs": [],
   "source": [
    "# index for aristotle's nicomachean ethics\n",
    "i = LAGT[LAGT[\"doc_id\"]==\"tlg0086.tlg010\"].index[0]"
   ],
   "metadata": {
    "collapsed": false,
    "ExecuteTime": {
     "end_time": "2024-01-29T14:24:18.910692Z",
     "start_time": "2024-01-29T14:24:18.907251Z"
    }
   },
   "execution_count": 21
  },
  {
   "cell_type": "code",
   "outputs": [
    {
     "data": {
      "text/plain": [
       "'1736'"
      ]
     },
     "metadata": {},
     "output_type": "execute_result",
     "execution_count": 22
    }
   ],
   "source": [
    "i"
   ],
   "metadata": {
    "collapsed": false,
    "ExecuteTime": {
     "end_time": "2024-01-29T14:24:18.914047Z",
     "start_time": "2024-01-29T14:24:18.910599Z"
    }
   },
   "execution_count": 22
  },
  {
   "cell_type": "code",
   "outputs": [
    {
     "data": {
      "text/plain": [
       "'πᾶσα τέχνη καὶ πᾶσα μέθοδος, ὁμοίως δὲ πρᾶξίς τε καὶ προαίρεσις, ἀγαθοῦ τινὸς ἐφίεσθαι δοκεῖ'"
      ]
     },
     "metadata": {},
     "output_type": "execute_result",
     "execution_count": 23
    }
   ],
   "source": [
    "LAGT.loc[i][\"string\"].split(\"·\")[0]"
   ],
   "metadata": {
    "collapsed": false,
    "ExecuteTime": {
     "end_time": "2024-01-29T14:24:18.924615Z",
     "start_time": "2024-01-29T14:24:18.913987Z"
    }
   },
   "execution_count": 23
  },
  {
   "cell_type": "code",
   "outputs": [
    {
     "name": "stdout",
     "output_type": "stream",
     "text": [
      "['πᾶς' 'τέχνη' 'πᾶς' 'μέθοδος' 'πρᾶξις' 'προαίρεσις' 'ἀγαθός' 'τις'\n",
      " 'ἐφίημι' 'δοκέω']\n"
     ]
    }
   ],
   "source": [
    "sent = LAGT.loc[i][\"lemmatized_sentences\"][0]\n",
    "print(sent)"
   ],
   "metadata": {
    "collapsed": false,
    "ExecuteTime": {
     "end_time": "2024-01-29T14:24:18.926294Z",
     "start_time": "2024-01-29T14:24:18.917118Z"
    }
   },
   "execution_count": 24
  },
  {
   "cell_type": "code",
   "outputs": [
    {
     "name": "stdout",
     "output_type": "stream",
     "text": [
      "[array(['πᾶς', 'τέχνη', 'πᾶς', 'μέθοδος', 'πρᾶξις', 'προαίρεσις', 'ἀγαθός',\n",
      "       'τις', 'ἐφίημι', 'δοκέω'], dtype=object), ['πᾶς', 'τέχνη', 'πᾶς'], ['τέχνη', 'πᾶς', 'μέθοδος'], ['πᾶς', 'μέθοδος', 'πρᾶξις'], ['μέθοδος', 'πρᾶξις', 'προαίρεσις'], ['πρᾶξις', 'προαίρεσις', 'ἀγαθός'], ['προαίρεσις', 'ἀγαθός', 'τις'], ['ἀγαθός', 'τις', 'ἐφίημι'], ['τις', 'ἐφίημι', 'δοκέω'], ['πᾶς', 'τέχνη', 'πᾶς', 'μέθοδος', 'πρᾶξις'], ['τέχνη', 'πᾶς', 'μέθοδος', 'πρᾶξις', 'προαίρεσις'], ['πᾶς', 'μέθοδος', 'πρᾶξις', 'προαίρεσις', 'ἀγαθός'], ['μέθοδος', 'πρᾶξις', 'προαίρεσις', 'ἀγαθός', 'τις'], ['πρᾶξις', 'προαίρεσις', 'ἀγαθός', 'τις', 'ἐφίημι'], ['προαίρεσις', 'ἀγαθός', 'τις', 'ἐφίημι', 'δοκέω']]\n"
     ]
    }
   ],
   "source": [
    "trigrams = [list(ng) for ng in nltk.trigrams(sent)]\n",
    "fivegrams = [list(ng) for ng in nltk.ngrams(sent, n=5)]\n",
    "print([sent] + trigrams + fivegrams)"
   ],
   "metadata": {
    "collapsed": false,
    "ExecuteTime": {
     "end_time": "2024-01-29T14:26:28.393396Z",
     "start_time": "2024-01-29T14:26:28.369880Z"
    }
   },
   "execution_count": 38
  },
  {
   "cell_type": "markdown",
   "source": [
    "# Exploring subcorpora"
   ],
   "metadata": {
    "collapsed": false
   }
  },
  {
   "cell_type": "code",
   "outputs": [],
   "source": [
    "periods = {\n",
    "    \"archaic\" : (-800, -501),\n",
    "    \"classical\" : (-500,-301),\n",
    "    \"hellenistic\" : (-300,-1),\n",
    "    \"roman_peak\" : (1, 200),\n",
    "    \"roman_late\" : (201, 400)\n",
    "}   \n",
    "\n",
    "def get_periods(row):\n",
    "    not_before = row[\"not_before\"]\n",
    "    not_after = row[\"not_after\"]\n",
    "    periods_covered = []\n",
    "    try:\n",
    "        for period_key in periods.keys():\n",
    "            period = periods[period_key]\n",
    "            if period[1] >= not_before and not_after >= period[0]:\n",
    "                periods_covered.append(period_key)\n",
    "    except:\n",
    "        pass\n",
    "    return periods_covered"
   ],
   "metadata": {
    "collapsed": false,
    "ExecuteTime": {
     "end_time": "2024-01-29T14:54:16.120533Z",
     "start_time": "2024-01-29T14:54:16.104315Z"
    }
   },
   "execution_count": 70
  },
  {
   "cell_type": "code",
   "outputs": [],
   "source": [
    "LAGT[\"periods\"] = LAGT.apply(get_periods, axis=1)"
   ],
   "metadata": {
    "collapsed": false,
    "ExecuteTime": {
     "end_time": "2024-01-29T14:54:16.698877Z",
     "start_time": "2024-01-29T14:54:16.693051Z"
    }
   },
   "execution_count": 71
  },
  {
   "cell_type": "code",
   "outputs": [],
   "source": [
    "subcorpora_overview = []\n",
    "for period_key in periods.keys():\n",
    "    LAGT_subset = LAGT[LAGT[\"periods\"].apply(lambda x: period_key in x)]\n",
    "    subcorpora_overview.append(\n",
    "        {\"period\" : period_key,\n",
    "         \"works_n\" : len(LAGT_subset),\n",
    "         \"words_n\" : LAGT_subset[\"wordcount\"].sum()\n",
    "         }\n",
    "    )\n",
    "        "
   ],
   "metadata": {
    "collapsed": false,
    "ExecuteTime": {
     "end_time": "2024-01-29T14:54:17.106143Z",
     "start_time": "2024-01-29T14:54:17.103219Z"
    }
   },
   "execution_count": 72
  },
  {
   "cell_type": "code",
   "outputs": [
    {
     "data": {
      "text/plain": [
       "        period  works_n   words_n\n",
       "0      archaic       28    335750\n",
       "1    classical      452   4132361\n",
       "2  hellenistic      232   4163918\n",
       "3   roman_peak      727  14199029\n",
       "4   roman_late      305   9214476"
      ],
      "text/html": [
       "<div>\n",
       "<style scoped>\n",
       "    .dataframe tbody tr th:only-of-type {\n",
       "        vertical-align: middle;\n",
       "    }\n",
       "\n",
       "    .dataframe tbody tr th {\n",
       "        vertical-align: top;\n",
       "    }\n",
       "\n",
       "    .dataframe thead th {\n",
       "        text-align: right;\n",
       "    }\n",
       "</style>\n",
       "<table border=\"1\" class=\"dataframe\">\n",
       "  <thead>\n",
       "    <tr style=\"text-align: right;\">\n",
       "      <th></th>\n",
       "      <th>period</th>\n",
       "      <th>works_n</th>\n",
       "      <th>words_n</th>\n",
       "    </tr>\n",
       "  </thead>\n",
       "  <tbody>\n",
       "    <tr>\n",
       "      <th>0</th>\n",
       "      <td>archaic</td>\n",
       "      <td>28</td>\n",
       "      <td>335750</td>\n",
       "    </tr>\n",
       "    <tr>\n",
       "      <th>1</th>\n",
       "      <td>classical</td>\n",
       "      <td>452</td>\n",
       "      <td>4132361</td>\n",
       "    </tr>\n",
       "    <tr>\n",
       "      <th>2</th>\n",
       "      <td>hellenistic</td>\n",
       "      <td>232</td>\n",
       "      <td>4163918</td>\n",
       "    </tr>\n",
       "    <tr>\n",
       "      <th>3</th>\n",
       "      <td>roman_peak</td>\n",
       "      <td>727</td>\n",
       "      <td>14199029</td>\n",
       "    </tr>\n",
       "    <tr>\n",
       "      <th>4</th>\n",
       "      <td>roman_late</td>\n",
       "      <td>305</td>\n",
       "      <td>9214476</td>\n",
       "    </tr>\n",
       "  </tbody>\n",
       "</table>\n",
       "</div>"
      ]
     },
     "metadata": {},
     "output_type": "execute_result",
     "execution_count": 73
    }
   ],
   "source": [
    "subcorpora_overview_df = pd.DataFrame(subcorpora_overview)\n",
    "subcorpora_overview_df"
   ],
   "metadata": {
    "collapsed": false,
    "ExecuteTime": {
     "end_time": "2024-01-29T14:54:17.394919Z",
     "start_time": "2024-01-29T14:54:17.392502Z"
    }
   },
   "execution_count": 73
  },
  {
   "cell_type": "code",
   "outputs": [
    {
     "data": {
      "text/plain": [
       "             works_n   words_n\n",
       "provenience                   \n",
       "christian        198   7568232\n",
       "jewish            92   2103563\n",
       "pagan           1278  20285785"
      ],
      "text/html": [
       "<div>\n",
       "<style scoped>\n",
       "    .dataframe tbody tr th:only-of-type {\n",
       "        vertical-align: middle;\n",
       "    }\n",
       "\n",
       "    .dataframe tbody tr th {\n",
       "        vertical-align: top;\n",
       "    }\n",
       "\n",
       "    .dataframe thead th {\n",
       "        text-align: right;\n",
       "    }\n",
       "</style>\n",
       "<table border=\"1\" class=\"dataframe\">\n",
       "  <thead>\n",
       "    <tr style=\"text-align: right;\">\n",
       "      <th></th>\n",
       "      <th>works_n</th>\n",
       "      <th>words_n</th>\n",
       "    </tr>\n",
       "    <tr>\n",
       "      <th>provenience</th>\n",
       "      <th></th>\n",
       "      <th></th>\n",
       "    </tr>\n",
       "  </thead>\n",
       "  <tbody>\n",
       "    <tr>\n",
       "      <th>christian</th>\n",
       "      <td>198</td>\n",
       "      <td>7568232</td>\n",
       "    </tr>\n",
       "    <tr>\n",
       "      <th>jewish</th>\n",
       "      <td>92</td>\n",
       "      <td>2103563</td>\n",
       "    </tr>\n",
       "    <tr>\n",
       "      <th>pagan</th>\n",
       "      <td>1278</td>\n",
       "      <td>20285785</td>\n",
       "    </tr>\n",
       "  </tbody>\n",
       "</table>\n",
       "</div>"
      ]
     },
     "metadata": {},
     "output_type": "execute_result",
     "execution_count": 74
    }
   ],
   "source": [
    "provenience_overview = LAGT.groupby(\"provenience\").agg(\n",
    "    works_n=('provenience', 'size'),\n",
    "    words_n=('wordcount', 'sum')\n",
    ")\n",
    "provenience_overview"
   ],
   "metadata": {
    "collapsed": false,
    "ExecuteTime": {
     "end_time": "2024-01-29T14:54:17.960308Z",
     "start_time": "2024-01-29T14:54:17.932550Z"
    }
   },
   "execution_count": 74
  },
  {
   "cell_type": "markdown",
   "source": [
    "### Overview by century"
   ],
   "metadata": {
    "collapsed": false
   }
  },
  {
   "cell_type": "code",
   "outputs": [
    {
     "data": {
      "text/plain": [
       "[('8BC', -800, -701),\n",
       " ('7BC', -700, -601),\n",
       " ('6BC', -600, -501),\n",
       " ('5BC', -500, -401),\n",
       " ('4BC', -400, -301),\n",
       " ('3BC', -300, -201),\n",
       " ('2BC', -200, -101),\n",
       " ('1BC', -100, -1),\n",
       " ('1CE', 1, 100),\n",
       " ('2CE', 101, 200),\n",
       " ('3CE', 201, 300),\n",
       " ('4CE', 301, 400),\n",
       " ('5CE', 401, 500),\n",
       " ('6CE', 501, 600)]"
      ]
     },
     "metadata": {},
     "output_type": "execute_result",
     "execution_count": 75
    }
   ],
   "source": [
    "centuries = [(str(int(n / -100)) + \"BC\",  n, n+ 99) for n in range(-800, 0, 100)] + [(str(int(n / 100)) + \"CE\",  n - 99, n) for n in range(100, 700, 100)]\n",
    "centuries"
   ],
   "metadata": {
    "collapsed": false,
    "ExecuteTime": {
     "end_time": "2024-01-29T14:54:19.521893Z",
     "start_time": "2024-01-29T14:54:19.479353Z"
    }
   },
   "execution_count": 75
  },
  {
   "cell_type": "code",
   "outputs": [],
   "source": [
    "def get_sents(row):\n",
    "    not_before = row[\"not_before\"]\n",
    "    not_after = row[\"not_after\"]\n",
    "    centuries_covered = []\n",
    "    try:\n",
    "        for cent in centuries:\n",
    "            if cent[2] >= not_before and not_after >= cent[2]:\n",
    "                centuries_covered.append(cent[0])\n",
    "    except:\n",
    "        pass\n",
    "    return centuries_covered"
   ],
   "metadata": {
    "collapsed": false,
    "ExecuteTime": {
     "end_time": "2024-01-29T14:54:20.056923Z",
     "start_time": "2024-01-29T14:54:20.046465Z"
    }
   },
   "execution_count": 76
  },
  {
   "cell_type": "code",
   "outputs": [],
   "source": [
    "LAGT[\"cents\"] = LAGT.apply(get_sents, axis=1)"
   ],
   "metadata": {
    "collapsed": false,
    "ExecuteTime": {
     "end_time": "2024-01-29T14:54:20.491540Z",
     "start_time": "2024-01-29T14:54:20.483460Z"
    }
   },
   "execution_count": 77
  },
  {
   "cell_type": "code",
   "outputs": [
    {
     "data": {
      "text/plain": [
       "     author_id          doc_id                         filename  author  \\\n",
       "1375   tlg0012  tlg0012.tlg001  tlg0012.tlg001.perseus-grc2.xml   Homer   \n",
       "1376   tlg0012  tlg0012.tlg002  tlg0012.tlg002.perseus-grc2.xml   Homer   \n",
       "1498   tlg0020  tlg0020.tlg001  tlg0020.tlg001.perseus-grc2.xml  Hesiod   \n",
       "1499   tlg0020  tlg0020.tlg002  tlg0020.tlg002.perseus-grc2.xml  Hesiod   \n",
       "1500   tlg0020  tlg0020.tlg003  tlg0020.tlg003.perseus-grc2.xml  Hesiod   \n",
       "\n",
       "                                                  title  \\\n",
       "1375                                              Ἰλιάς   \n",
       "1376                                           Ὀδύσσεια   \n",
       "1498            Theogony (Greek). Machine readable text   \n",
       "1499      Works and Days (Greek). Machine readable text   \n",
       "1500  Shield of Heracles (Greek). Machine readable text   \n",
       "\n",
       "                                                 string  wordcount   source  \\\n",
       "1375  \\nμῆνιν ἄειδε θεὰ Πηληϊάδεω Ἀχιλῆος οὐλομένην,...     111895  perseus   \n",
       "1376  ἄνδρα μοι ἔννεπε, μοῦσα, πολύτροπον, ὃς μάλα π...      87177  perseus   \n",
       "1498  \\nΜουσάων Ἑλικωνιάδων ἀρχώμεθʼ ἀείδειν, αἵθʼ Ἑ...       7039  perseus   \n",
       "1499  \\nμοῦσαι Πιερίηθεν ἀοιδῇσιν κλείουσαι δεῦτε, Δ...       5856  perseus   \n",
       "1500  \\nἢ οἵη προλιποῦσα δόμους καὶ πατρίδα γαῖαν ἤλ...       3298  perseus   \n",
       "\n",
       "                                   lemmatized_sentences lemmata_source  \\\n",
       "1375  [[μῆνις, ἀείδω, θεά, Πηληιάδης, Ἀχιλλεύς, οὐλό...           agdt   \n",
       "1376  [[ἀνήρ, ἐνέπω, Μοῦσα, πολύτροπος, πλάζω, Τροία...           agdt   \n",
       "1498  [[Μοῦσα, Ἑλικωνιάδες, ἄρχω, ἀείδω, ʽἑλικών, ἔχ...           agdt   \n",
       "1499  [[Μοῦσα, ἀοιδή, κλείω, Ζεύς, ἐνέπω, σφέτερος, ...           agdt   \n",
       "1500  [[οἷος, προλείπω, δόμος, πατρίς, γαῖα, ἔρχομαι...           agdt   \n",
       "\n",
       "       tlg_date  not_before  not_after date_uncertain  tlg_epithet  \\\n",
       "1375     8 B.C.      -800.0     -701.0          False  [Epici/-ae]   \n",
       "1376     8 B.C.      -800.0     -701.0          False  [Epici/-ae]   \n",
       "1498  8/7 B.C.?      -800.0     -601.0           True  [Epici/-ae]   \n",
       "1499  8/7 B.C.?      -800.0     -601.0           True  [Epici/-ae]   \n",
       "1500  8/7 B.C.?      -800.0     -601.0           True  [Epici/-ae]   \n",
       "\n",
       "     provenience  lemmatacount    periods       cents  \n",
       "1375       pagan         66484  [archaic]       [8BC]  \n",
       "1376       pagan         50049  [archaic]       [8BC]  \n",
       "1498       pagan          4581  [archaic]  [8BC, 7BC]  \n",
       "1499       pagan          3611  [archaic]  [8BC, 7BC]  \n",
       "1500       pagan          2081  [archaic]  [8BC, 7BC]  "
      ],
      "text/html": [
       "<div>\n",
       "<style scoped>\n",
       "    .dataframe tbody tr th:only-of-type {\n",
       "        vertical-align: middle;\n",
       "    }\n",
       "\n",
       "    .dataframe tbody tr th {\n",
       "        vertical-align: top;\n",
       "    }\n",
       "\n",
       "    .dataframe thead th {\n",
       "        text-align: right;\n",
       "    }\n",
       "</style>\n",
       "<table border=\"1\" class=\"dataframe\">\n",
       "  <thead>\n",
       "    <tr style=\"text-align: right;\">\n",
       "      <th></th>\n",
       "      <th>author_id</th>\n",
       "      <th>doc_id</th>\n",
       "      <th>filename</th>\n",
       "      <th>author</th>\n",
       "      <th>title</th>\n",
       "      <th>string</th>\n",
       "      <th>wordcount</th>\n",
       "      <th>source</th>\n",
       "      <th>lemmatized_sentences</th>\n",
       "      <th>lemmata_source</th>\n",
       "      <th>tlg_date</th>\n",
       "      <th>not_before</th>\n",
       "      <th>not_after</th>\n",
       "      <th>date_uncertain</th>\n",
       "      <th>tlg_epithet</th>\n",
       "      <th>provenience</th>\n",
       "      <th>lemmatacount</th>\n",
       "      <th>periods</th>\n",
       "      <th>cents</th>\n",
       "    </tr>\n",
       "  </thead>\n",
       "  <tbody>\n",
       "    <tr>\n",
       "      <th>1375</th>\n",
       "      <td>tlg0012</td>\n",
       "      <td>tlg0012.tlg001</td>\n",
       "      <td>tlg0012.tlg001.perseus-grc2.xml</td>\n",
       "      <td>Homer</td>\n",
       "      <td>Ἰλιάς</td>\n",
       "      <td>\\nμῆνιν ἄειδε θεὰ Πηληϊάδεω Ἀχιλῆος οὐλομένην,...</td>\n",
       "      <td>111895</td>\n",
       "      <td>perseus</td>\n",
       "      <td>[[μῆνις, ἀείδω, θεά, Πηληιάδης, Ἀχιλλεύς, οὐλό...</td>\n",
       "      <td>agdt</td>\n",
       "      <td>8 B.C.</td>\n",
       "      <td>-800.0</td>\n",
       "      <td>-701.0</td>\n",
       "      <td>False</td>\n",
       "      <td>[Epici/-ae]</td>\n",
       "      <td>pagan</td>\n",
       "      <td>66484</td>\n",
       "      <td>[archaic]</td>\n",
       "      <td>[8BC]</td>\n",
       "    </tr>\n",
       "    <tr>\n",
       "      <th>1376</th>\n",
       "      <td>tlg0012</td>\n",
       "      <td>tlg0012.tlg002</td>\n",
       "      <td>tlg0012.tlg002.perseus-grc2.xml</td>\n",
       "      <td>Homer</td>\n",
       "      <td>Ὀδύσσεια</td>\n",
       "      <td>ἄνδρα μοι ἔννεπε, μοῦσα, πολύτροπον, ὃς μάλα π...</td>\n",
       "      <td>87177</td>\n",
       "      <td>perseus</td>\n",
       "      <td>[[ἀνήρ, ἐνέπω, Μοῦσα, πολύτροπος, πλάζω, Τροία...</td>\n",
       "      <td>agdt</td>\n",
       "      <td>8 B.C.</td>\n",
       "      <td>-800.0</td>\n",
       "      <td>-701.0</td>\n",
       "      <td>False</td>\n",
       "      <td>[Epici/-ae]</td>\n",
       "      <td>pagan</td>\n",
       "      <td>50049</td>\n",
       "      <td>[archaic]</td>\n",
       "      <td>[8BC]</td>\n",
       "    </tr>\n",
       "    <tr>\n",
       "      <th>1498</th>\n",
       "      <td>tlg0020</td>\n",
       "      <td>tlg0020.tlg001</td>\n",
       "      <td>tlg0020.tlg001.perseus-grc2.xml</td>\n",
       "      <td>Hesiod</td>\n",
       "      <td>Theogony (Greek). Machine readable text</td>\n",
       "      <td>\\nΜουσάων Ἑλικωνιάδων ἀρχώμεθʼ ἀείδειν, αἵθʼ Ἑ...</td>\n",
       "      <td>7039</td>\n",
       "      <td>perseus</td>\n",
       "      <td>[[Μοῦσα, Ἑλικωνιάδες, ἄρχω, ἀείδω, ʽἑλικών, ἔχ...</td>\n",
       "      <td>agdt</td>\n",
       "      <td>8/7 B.C.?</td>\n",
       "      <td>-800.0</td>\n",
       "      <td>-601.0</td>\n",
       "      <td>True</td>\n",
       "      <td>[Epici/-ae]</td>\n",
       "      <td>pagan</td>\n",
       "      <td>4581</td>\n",
       "      <td>[archaic]</td>\n",
       "      <td>[8BC, 7BC]</td>\n",
       "    </tr>\n",
       "    <tr>\n",
       "      <th>1499</th>\n",
       "      <td>tlg0020</td>\n",
       "      <td>tlg0020.tlg002</td>\n",
       "      <td>tlg0020.tlg002.perseus-grc2.xml</td>\n",
       "      <td>Hesiod</td>\n",
       "      <td>Works and Days (Greek). Machine readable text</td>\n",
       "      <td>\\nμοῦσαι Πιερίηθεν ἀοιδῇσιν κλείουσαι δεῦτε, Δ...</td>\n",
       "      <td>5856</td>\n",
       "      <td>perseus</td>\n",
       "      <td>[[Μοῦσα, ἀοιδή, κλείω, Ζεύς, ἐνέπω, σφέτερος, ...</td>\n",
       "      <td>agdt</td>\n",
       "      <td>8/7 B.C.?</td>\n",
       "      <td>-800.0</td>\n",
       "      <td>-601.0</td>\n",
       "      <td>True</td>\n",
       "      <td>[Epici/-ae]</td>\n",
       "      <td>pagan</td>\n",
       "      <td>3611</td>\n",
       "      <td>[archaic]</td>\n",
       "      <td>[8BC, 7BC]</td>\n",
       "    </tr>\n",
       "    <tr>\n",
       "      <th>1500</th>\n",
       "      <td>tlg0020</td>\n",
       "      <td>tlg0020.tlg003</td>\n",
       "      <td>tlg0020.tlg003.perseus-grc2.xml</td>\n",
       "      <td>Hesiod</td>\n",
       "      <td>Shield of Heracles (Greek). Machine readable text</td>\n",
       "      <td>\\nἢ οἵη προλιποῦσα δόμους καὶ πατρίδα γαῖαν ἤλ...</td>\n",
       "      <td>3298</td>\n",
       "      <td>perseus</td>\n",
       "      <td>[[οἷος, προλείπω, δόμος, πατρίς, γαῖα, ἔρχομαι...</td>\n",
       "      <td>agdt</td>\n",
       "      <td>8/7 B.C.?</td>\n",
       "      <td>-800.0</td>\n",
       "      <td>-601.0</td>\n",
       "      <td>True</td>\n",
       "      <td>[Epici/-ae]</td>\n",
       "      <td>pagan</td>\n",
       "      <td>2081</td>\n",
       "      <td>[archaic]</td>\n",
       "      <td>[8BC, 7BC]</td>\n",
       "    </tr>\n",
       "  </tbody>\n",
       "</table>\n",
       "</div>"
      ]
     },
     "metadata": {},
     "output_type": "execute_result",
     "execution_count": 78
    }
   ],
   "source": [
    "LAGT_subset = LAGT[LAGT[\"cents\"].apply(lambda x: \"8BC\" in x)]\n",
    "LAGT_subset"
   ],
   "metadata": {
    "collapsed": false,
    "ExecuteTime": {
     "end_time": "2024-01-29T14:54:20.959917Z",
     "start_time": "2024-01-29T14:54:20.951758Z"
    }
   },
   "execution_count": 78
  },
  {
   "cell_type": "code",
   "outputs": [
    {
     "data": {
      "text/plain": [
       "   period  works_n   words_n\n",
       "0     8BC        5    215265\n",
       "1     7BC        6     25509\n",
       "2     6BC       23    120485\n",
       "3     5BC      266   2277846\n",
       "4     4BC      391   3442762\n",
       "5     3BC      149   2238497\n",
       "6     2BC       83   1500282\n",
       "7     1BC       74   1851026\n",
       "8     1CE      296   4367953\n",
       "9     2CE      621  11801098\n",
       "10    3CE      152   5324887\n",
       "11    4CE      192   4261346\n",
       "12    5CE       36   1967039\n",
       "13    6CE       32   3736381"
      ],
      "text/html": [
       "<div>\n",
       "<style scoped>\n",
       "    .dataframe tbody tr th:only-of-type {\n",
       "        vertical-align: middle;\n",
       "    }\n",
       "\n",
       "    .dataframe tbody tr th {\n",
       "        vertical-align: top;\n",
       "    }\n",
       "\n",
       "    .dataframe thead th {\n",
       "        text-align: right;\n",
       "    }\n",
       "</style>\n",
       "<table border=\"1\" class=\"dataframe\">\n",
       "  <thead>\n",
       "    <tr style=\"text-align: right;\">\n",
       "      <th></th>\n",
       "      <th>period</th>\n",
       "      <th>works_n</th>\n",
       "      <th>words_n</th>\n",
       "    </tr>\n",
       "  </thead>\n",
       "  <tbody>\n",
       "    <tr>\n",
       "      <th>0</th>\n",
       "      <td>8BC</td>\n",
       "      <td>5</td>\n",
       "      <td>215265</td>\n",
       "    </tr>\n",
       "    <tr>\n",
       "      <th>1</th>\n",
       "      <td>7BC</td>\n",
       "      <td>6</td>\n",
       "      <td>25509</td>\n",
       "    </tr>\n",
       "    <tr>\n",
       "      <th>2</th>\n",
       "      <td>6BC</td>\n",
       "      <td>23</td>\n",
       "      <td>120485</td>\n",
       "    </tr>\n",
       "    <tr>\n",
       "      <th>3</th>\n",
       "      <td>5BC</td>\n",
       "      <td>266</td>\n",
       "      <td>2277846</td>\n",
       "    </tr>\n",
       "    <tr>\n",
       "      <th>4</th>\n",
       "      <td>4BC</td>\n",
       "      <td>391</td>\n",
       "      <td>3442762</td>\n",
       "    </tr>\n",
       "    <tr>\n",
       "      <th>5</th>\n",
       "      <td>3BC</td>\n",
       "      <td>149</td>\n",
       "      <td>2238497</td>\n",
       "    </tr>\n",
       "    <tr>\n",
       "      <th>6</th>\n",
       "      <td>2BC</td>\n",
       "      <td>83</td>\n",
       "      <td>1500282</td>\n",
       "    </tr>\n",
       "    <tr>\n",
       "      <th>7</th>\n",
       "      <td>1BC</td>\n",
       "      <td>74</td>\n",
       "      <td>1851026</td>\n",
       "    </tr>\n",
       "    <tr>\n",
       "      <th>8</th>\n",
       "      <td>1CE</td>\n",
       "      <td>296</td>\n",
       "      <td>4367953</td>\n",
       "    </tr>\n",
       "    <tr>\n",
       "      <th>9</th>\n",
       "      <td>2CE</td>\n",
       "      <td>621</td>\n",
       "      <td>11801098</td>\n",
       "    </tr>\n",
       "    <tr>\n",
       "      <th>10</th>\n",
       "      <td>3CE</td>\n",
       "      <td>152</td>\n",
       "      <td>5324887</td>\n",
       "    </tr>\n",
       "    <tr>\n",
       "      <th>11</th>\n",
       "      <td>4CE</td>\n",
       "      <td>192</td>\n",
       "      <td>4261346</td>\n",
       "    </tr>\n",
       "    <tr>\n",
       "      <th>12</th>\n",
       "      <td>5CE</td>\n",
       "      <td>36</td>\n",
       "      <td>1967039</td>\n",
       "    </tr>\n",
       "    <tr>\n",
       "      <th>13</th>\n",
       "      <td>6CE</td>\n",
       "      <td>32</td>\n",
       "      <td>3736381</td>\n",
       "    </tr>\n",
       "  </tbody>\n",
       "</table>\n",
       "</div>"
      ]
     },
     "metadata": {},
     "output_type": "execute_result",
     "execution_count": 79
    }
   ],
   "source": [
    "centuries_overview = []\n",
    "for cent in centuries:\n",
    "    LAGT_subset = LAGT[LAGT[\"cents\"].apply(lambda x: cent[0] in x)]\n",
    "    centuries_overview.append(\n",
    "        {\"period\" : cent[0],\n",
    "         \"works_n\" : len(LAGT_subset),\n",
    "         \"words_n\" : LAGT_subset[\"wordcount\"].sum()\n",
    "         }\n",
    "    )\n",
    "centuries_overview_df = pd.DataFrame(centuries_overview)\n",
    "centuries_overview_df"
   ],
   "metadata": {
    "collapsed": false,
    "ExecuteTime": {
     "end_time": "2024-01-29T14:54:23.446462Z",
     "start_time": "2024-01-29T14:54:23.411474Z"
    }
   },
   "execution_count": 79
  },
  {
   "cell_type": "code",
   "outputs": [],
   "source": [
    "#translated_df = pd.read_json(\"../data/translated_df.json\")\n",
    "#translated_df"
   ],
   "metadata": {
    "collapsed": false,
    "ExecuteTime": {
     "end_time": "2024-01-29T14:54:45.809427Z",
     "start_time": "2024-01-29T14:54:45.767208Z"
    }
   },
   "execution_count": 82
  },
  {
   "cell_type": "code",
   "outputs": [],
   "source": [
    "def try_to_get_from_freqdict(word, word_freqs_dict):\n",
    "    total_N = sum([val for val in word_freqs_dict.values()])\n",
    "    try:\n",
    "        count = word_freqs_dict[word]\n",
    "        freq = count #/ total_N\n",
    "    except:\n",
    "        freq = 0\n",
    "    return freq\n",
    "\n",
    "\n",
    "min_freq = 5\n",
    "\n",
    "def get_vocab(docs, min_freq=min_freq):\n",
    "    words_flat = [item for sublist in docs for item in sublist]\n",
    "    total_words = len(words_flat)\n",
    "    wordcounts_tups = FreqDist(words_flat).most_common()\n",
    "    wordfreqs_tups = [(tup[0], tup[1] / total_words) for tup in wordcounts_tups]\n",
    "    return wordcounts_tups, wordfreqs_tups\n",
    "\n",
    "wordcounts_dicts = []\n",
    "wordfreqs_dicts = []\n",
    "\n",
    "\n",
    "for sub in periods.keys():\n",
    "    subset = LAGT[LAGT[\"periods\"].apply(lambda x: sub in x)]\n",
    "    sents = [sent for work in subset[\"lemmatized_sentences\"] for sent in work]\n",
    "    wordcounts_tups, wordfreqs_tups = get_vocab(sents)\n",
    "    wordcounts_dicts.append(dict(wordcounts_tups))\n",
    "    wordfreqs_dicts.append(dict(wordfreqs_tups))"
   ],
   "metadata": {
    "collapsed": false,
    "ExecuteTime": {
     "end_time": "2024-01-29T14:54:51.773152Z",
     "start_time": "2024-01-29T14:54:47.278346Z"
    }
   },
   "execution_count": 83
  },
  {
   "metadata": {
    "ExecuteTime": {
     "end_time": "2024-01-29T14:55:08.911010Z",
     "start_time": "2024-01-29T14:55:05.910217Z"
    }
   },
   "cell_type": "code",
   "outputs": [
    {
     "data": {
      "text/plain": [
       "       archaic  classical  hellenistic  roman_peak  roman_late\n",
       "εἰμί    2975.0    74864.0      37808.0    113388.0     24922.0\n",
       "πᾶς     1625.0    19939.0      17267.0     42860.0     24363.0\n",
       "ἀνήρ    1608.0     8559.0       5977.0     13606.0      7555.0\n",
       "αὐτός   1526.0    42501.0      25916.0    129660.0     38207.0\n",
       "θεός    1454.0     5594.0       9751.0     29952.0     27200.0"
      ],
      "text/html": [
       "<div>\n",
       "<style scoped>\n",
       "    .dataframe tbody tr th:only-of-type {\n",
       "        vertical-align: middle;\n",
       "    }\n",
       "\n",
       "    .dataframe tbody tr th {\n",
       "        vertical-align: top;\n",
       "    }\n",
       "\n",
       "    .dataframe thead th {\n",
       "        text-align: right;\n",
       "    }\n",
       "</style>\n",
       "<table border=\"1\" class=\"dataframe\">\n",
       "  <thead>\n",
       "    <tr style=\"text-align: right;\">\n",
       "      <th></th>\n",
       "      <th>archaic</th>\n",
       "      <th>classical</th>\n",
       "      <th>hellenistic</th>\n",
       "      <th>roman_peak</th>\n",
       "      <th>roman_late</th>\n",
       "    </tr>\n",
       "  </thead>\n",
       "  <tbody>\n",
       "    <tr>\n",
       "      <th>εἰμί</th>\n",
       "      <td>2975.0</td>\n",
       "      <td>74864.0</td>\n",
       "      <td>37808.0</td>\n",
       "      <td>113388.0</td>\n",
       "      <td>24922.0</td>\n",
       "    </tr>\n",
       "    <tr>\n",
       "      <th>πᾶς</th>\n",
       "      <td>1625.0</td>\n",
       "      <td>19939.0</td>\n",
       "      <td>17267.0</td>\n",
       "      <td>42860.0</td>\n",
       "      <td>24363.0</td>\n",
       "    </tr>\n",
       "    <tr>\n",
       "      <th>ἀνήρ</th>\n",
       "      <td>1608.0</td>\n",
       "      <td>8559.0</td>\n",
       "      <td>5977.0</td>\n",
       "      <td>13606.0</td>\n",
       "      <td>7555.0</td>\n",
       "    </tr>\n",
       "    <tr>\n",
       "      <th>αὐτός</th>\n",
       "      <td>1526.0</td>\n",
       "      <td>42501.0</td>\n",
       "      <td>25916.0</td>\n",
       "      <td>129660.0</td>\n",
       "      <td>38207.0</td>\n",
       "    </tr>\n",
       "    <tr>\n",
       "      <th>θεός</th>\n",
       "      <td>1454.0</td>\n",
       "      <td>5594.0</td>\n",
       "      <td>9751.0</td>\n",
       "      <td>29952.0</td>\n",
       "      <td>27200.0</td>\n",
       "    </tr>\n",
       "  </tbody>\n",
       "</table>\n",
       "</div>"
      ]
     },
     "metadata": {},
     "output_type": "execute_result",
     "execution_count": 84
    }
   ],
   "source": [
    "wordcounts_df = pd.DataFrame(wordcounts_dicts).T\n",
    "wordcounts_df.columns = periods.keys()\n",
    "wordcounts_df.head(5)"
   ],
   "execution_count": 84
  },
  {
   "metadata": {
    "ExecuteTime": {
     "end_time": "2024-01-29T14:55:14.892966Z",
     "start_time": "2024-01-29T14:55:11.978197Z"
    }
   },
   "cell_type": "code",
   "outputs": [
    {
     "data": {
      "text/plain": [
       "        archaic  classical  hellenistic  roman_peak  roman_late\n",
       "εἰμί   0.015068   0.036587     0.020051    0.018114    0.007074\n",
       "πᾶς    0.008230   0.009744     0.009157    0.006847    0.006915\n",
       "ἀνήρ   0.008144   0.004183     0.003170    0.002174    0.002144\n",
       "αὐτός  0.007729   0.020771     0.013744    0.020714    0.010844\n",
       "θεός   0.007364   0.002734     0.005171    0.004785    0.007720"
      ],
      "text/html": [
       "<div>\n",
       "<style scoped>\n",
       "    .dataframe tbody tr th:only-of-type {\n",
       "        vertical-align: middle;\n",
       "    }\n",
       "\n",
       "    .dataframe tbody tr th {\n",
       "        vertical-align: top;\n",
       "    }\n",
       "\n",
       "    .dataframe thead th {\n",
       "        text-align: right;\n",
       "    }\n",
       "</style>\n",
       "<table border=\"1\" class=\"dataframe\">\n",
       "  <thead>\n",
       "    <tr style=\"text-align: right;\">\n",
       "      <th></th>\n",
       "      <th>archaic</th>\n",
       "      <th>classical</th>\n",
       "      <th>hellenistic</th>\n",
       "      <th>roman_peak</th>\n",
       "      <th>roman_late</th>\n",
       "    </tr>\n",
       "  </thead>\n",
       "  <tbody>\n",
       "    <tr>\n",
       "      <th>εἰμί</th>\n",
       "      <td>0.015068</td>\n",
       "      <td>0.036587</td>\n",
       "      <td>0.020051</td>\n",
       "      <td>0.018114</td>\n",
       "      <td>0.007074</td>\n",
       "    </tr>\n",
       "    <tr>\n",
       "      <th>πᾶς</th>\n",
       "      <td>0.008230</td>\n",
       "      <td>0.009744</td>\n",
       "      <td>0.009157</td>\n",
       "      <td>0.006847</td>\n",
       "      <td>0.006915</td>\n",
       "    </tr>\n",
       "    <tr>\n",
       "      <th>ἀνήρ</th>\n",
       "      <td>0.008144</td>\n",
       "      <td>0.004183</td>\n",
       "      <td>0.003170</td>\n",
       "      <td>0.002174</td>\n",
       "      <td>0.002144</td>\n",
       "    </tr>\n",
       "    <tr>\n",
       "      <th>αὐτός</th>\n",
       "      <td>0.007729</td>\n",
       "      <td>0.020771</td>\n",
       "      <td>0.013744</td>\n",
       "      <td>0.020714</td>\n",
       "      <td>0.010844</td>\n",
       "    </tr>\n",
       "    <tr>\n",
       "      <th>θεός</th>\n",
       "      <td>0.007364</td>\n",
       "      <td>0.002734</td>\n",
       "      <td>0.005171</td>\n",
       "      <td>0.004785</td>\n",
       "      <td>0.007720</td>\n",
       "    </tr>\n",
       "  </tbody>\n",
       "</table>\n",
       "</div>"
      ]
     },
     "metadata": {},
     "output_type": "execute_result",
     "execution_count": 85
    }
   ],
   "source": [
    "wordfreqs_df = pd.DataFrame(wordfreqs_dicts).T\n",
    "wordfreqs_df.columns = periods.keys()\n",
    "wordfreqs_df.head(5)"
   ],
   "execution_count": 85
  },
  {
   "cell_type": "code",
   "outputs": [],
   "source": [
    "religion_final = [\"θεός\", \"Ζεύς\", \"εὐσεβής\", 'ἱερός']\n",
    "morality_final = [\"ἀγαθός\", \"ἀρετή\", \"δίκαιος\", \"τιμή\"]"
   ],
   "metadata": {
    "collapsed": false,
    "ExecuteTime": {
     "end_time": "2024-01-29T14:55:15.925742Z",
     "start_time": "2024-01-29T14:55:15.882985Z"
    }
   },
   "execution_count": 86
  },
  {
   "metadata": {
    "ExecuteTime": {
     "end_time": "2024-01-29T14:55:18.133886Z",
     "start_time": "2024-01-29T14:55:18.130107Z"
    }
   },
   "cell_type": "code",
   "outputs": [
    {
     "data": {
      "text/plain": [
       "          archaic  classical  hellenistic  roman_peak  roman_late\n",
       "θεός     0.007364   0.002734     0.005171    0.004785    0.007720\n",
       "Ζεύς     0.006463   0.001315     0.000492    0.000736    0.000444\n",
       "εὐσεβής  0.000061   0.000059     0.000066    0.000054    0.000125\n",
       "ἱερός    0.000669   0.000540     0.000795    0.000595    0.000323\n",
       "ἀγαθός   0.001286   0.004563     0.002314    0.003010    0.003137\n",
       "ἀρετή    0.000537   0.001141     0.001219    0.000869    0.000934\n",
       "δίκαιος  0.000405   0.001734     0.000850    0.000767    0.001091\n",
       "τιμή     0.000664   0.000429     0.000537    0.000455    0.000434"
      ],
      "text/html": [
       "<div>\n",
       "<style scoped>\n",
       "    .dataframe tbody tr th:only-of-type {\n",
       "        vertical-align: middle;\n",
       "    }\n",
       "\n",
       "    .dataframe tbody tr th {\n",
       "        vertical-align: top;\n",
       "    }\n",
       "\n",
       "    .dataframe thead th {\n",
       "        text-align: right;\n",
       "    }\n",
       "</style>\n",
       "<table border=\"1\" class=\"dataframe\">\n",
       "  <thead>\n",
       "    <tr style=\"text-align: right;\">\n",
       "      <th></th>\n",
       "      <th>archaic</th>\n",
       "      <th>classical</th>\n",
       "      <th>hellenistic</th>\n",
       "      <th>roman_peak</th>\n",
       "      <th>roman_late</th>\n",
       "    </tr>\n",
       "  </thead>\n",
       "  <tbody>\n",
       "    <tr>\n",
       "      <th>θεός</th>\n",
       "      <td>0.007364</td>\n",
       "      <td>0.002734</td>\n",
       "      <td>0.005171</td>\n",
       "      <td>0.004785</td>\n",
       "      <td>0.007720</td>\n",
       "    </tr>\n",
       "    <tr>\n",
       "      <th>Ζεύς</th>\n",
       "      <td>0.006463</td>\n",
       "      <td>0.001315</td>\n",
       "      <td>0.000492</td>\n",
       "      <td>0.000736</td>\n",
       "      <td>0.000444</td>\n",
       "    </tr>\n",
       "    <tr>\n",
       "      <th>εὐσεβής</th>\n",
       "      <td>0.000061</td>\n",
       "      <td>0.000059</td>\n",
       "      <td>0.000066</td>\n",
       "      <td>0.000054</td>\n",
       "      <td>0.000125</td>\n",
       "    </tr>\n",
       "    <tr>\n",
       "      <th>ἱερός</th>\n",
       "      <td>0.000669</td>\n",
       "      <td>0.000540</td>\n",
       "      <td>0.000795</td>\n",
       "      <td>0.000595</td>\n",
       "      <td>0.000323</td>\n",
       "    </tr>\n",
       "    <tr>\n",
       "      <th>ἀγαθός</th>\n",
       "      <td>0.001286</td>\n",
       "      <td>0.004563</td>\n",
       "      <td>0.002314</td>\n",
       "      <td>0.003010</td>\n",
       "      <td>0.003137</td>\n",
       "    </tr>\n",
       "    <tr>\n",
       "      <th>ἀρετή</th>\n",
       "      <td>0.000537</td>\n",
       "      <td>0.001141</td>\n",
       "      <td>0.001219</td>\n",
       "      <td>0.000869</td>\n",
       "      <td>0.000934</td>\n",
       "    </tr>\n",
       "    <tr>\n",
       "      <th>δίκαιος</th>\n",
       "      <td>0.000405</td>\n",
       "      <td>0.001734</td>\n",
       "      <td>0.000850</td>\n",
       "      <td>0.000767</td>\n",
       "      <td>0.001091</td>\n",
       "    </tr>\n",
       "    <tr>\n",
       "      <th>τιμή</th>\n",
       "      <td>0.000664</td>\n",
       "      <td>0.000429</td>\n",
       "      <td>0.000537</td>\n",
       "      <td>0.000455</td>\n",
       "      <td>0.000434</td>\n",
       "    </tr>\n",
       "  </tbody>\n",
       "</table>\n",
       "</div>"
      ]
     },
     "metadata": {},
     "output_type": "execute_result",
     "execution_count": 87
    }
   ],
   "source": [
    "pd.concat([wordfreqs_df.loc[religion_final], wordfreqs_df.loc[morality_final]])"
   ],
   "execution_count": 87
  },
  {
   "metadata": {
    "ExecuteTime": {
     "end_time": "2024-01-29T15:26:20.204315Z",
     "start_time": "2024-01-29T15:26:20.177472Z"
    }
   },
   "cell_type": "code",
   "outputs": [
    {
     "data": {
      "text/plain": [
       "         archaic  classical  hellenistic  roman_peak  roman_late\n",
       "θεός      1454.0     5594.0       9751.0     29952.0     27200.0\n",
       "Ζεύς      1276.0     2690.0        928.0      4609.0      1563.0\n",
       "εὐσεβής     12.0      121.0        124.0       339.0       440.0\n",
       "ἱερός      132.0     1105.0       1499.0      3722.0      1139.0\n",
       "ἀγαθός     254.0     9336.0       4363.0     18842.0     11051.0\n",
       "ἀρετή      106.0     2334.0       2299.0      5442.0      3290.0\n",
       "δίκαιος     80.0     3548.0       1603.0      4802.0      3844.0\n",
       "τιμή       131.0      877.0       1012.0      2846.0      1529.0"
      ],
      "text/html": [
       "<div>\n",
       "<style scoped>\n",
       "    .dataframe tbody tr th:only-of-type {\n",
       "        vertical-align: middle;\n",
       "    }\n",
       "\n",
       "    .dataframe tbody tr th {\n",
       "        vertical-align: top;\n",
       "    }\n",
       "\n",
       "    .dataframe thead th {\n",
       "        text-align: right;\n",
       "    }\n",
       "</style>\n",
       "<table border=\"1\" class=\"dataframe\">\n",
       "  <thead>\n",
       "    <tr style=\"text-align: right;\">\n",
       "      <th></th>\n",
       "      <th>archaic</th>\n",
       "      <th>classical</th>\n",
       "      <th>hellenistic</th>\n",
       "      <th>roman_peak</th>\n",
       "      <th>roman_late</th>\n",
       "    </tr>\n",
       "  </thead>\n",
       "  <tbody>\n",
       "    <tr>\n",
       "      <th>θεός</th>\n",
       "      <td>1454.0</td>\n",
       "      <td>5594.0</td>\n",
       "      <td>9751.0</td>\n",
       "      <td>29952.0</td>\n",
       "      <td>27200.0</td>\n",
       "    </tr>\n",
       "    <tr>\n",
       "      <th>Ζεύς</th>\n",
       "      <td>1276.0</td>\n",
       "      <td>2690.0</td>\n",
       "      <td>928.0</td>\n",
       "      <td>4609.0</td>\n",
       "      <td>1563.0</td>\n",
       "    </tr>\n",
       "    <tr>\n",
       "      <th>εὐσεβής</th>\n",
       "      <td>12.0</td>\n",
       "      <td>121.0</td>\n",
       "      <td>124.0</td>\n",
       "      <td>339.0</td>\n",
       "      <td>440.0</td>\n",
       "    </tr>\n",
       "    <tr>\n",
       "      <th>ἱερός</th>\n",
       "      <td>132.0</td>\n",
       "      <td>1105.0</td>\n",
       "      <td>1499.0</td>\n",
       "      <td>3722.0</td>\n",
       "      <td>1139.0</td>\n",
       "    </tr>\n",
       "    <tr>\n",
       "      <th>ἀγαθός</th>\n",
       "      <td>254.0</td>\n",
       "      <td>9336.0</td>\n",
       "      <td>4363.0</td>\n",
       "      <td>18842.0</td>\n",
       "      <td>11051.0</td>\n",
       "    </tr>\n",
       "    <tr>\n",
       "      <th>ἀρετή</th>\n",
       "      <td>106.0</td>\n",
       "      <td>2334.0</td>\n",
       "      <td>2299.0</td>\n",
       "      <td>5442.0</td>\n",
       "      <td>3290.0</td>\n",
       "    </tr>\n",
       "    <tr>\n",
       "      <th>δίκαιος</th>\n",
       "      <td>80.0</td>\n",
       "      <td>3548.0</td>\n",
       "      <td>1603.0</td>\n",
       "      <td>4802.0</td>\n",
       "      <td>3844.0</td>\n",
       "    </tr>\n",
       "    <tr>\n",
       "      <th>τιμή</th>\n",
       "      <td>131.0</td>\n",
       "      <td>877.0</td>\n",
       "      <td>1012.0</td>\n",
       "      <td>2846.0</td>\n",
       "      <td>1529.0</td>\n",
       "    </tr>\n",
       "  </tbody>\n",
       "</table>\n",
       "</div>"
      ]
     },
     "metadata": {},
     "output_type": "execute_result",
     "execution_count": 114
    }
   ],
   "source": [
    "pd.concat([wordcounts_df.loc[religion_final], wordcounts_df.loc[morality_final]])"
   ],
   "execution_count": 114
  },
  {
   "cell_type": "markdown",
   "source": [
    "# Preparing vocabularies"
   ],
   "metadata": {
    "collapsed": false
   }
  },
  {
   "metadata": {
    "ExecuteTime": {
     "end_time": "2024-01-29T15:01:52.886157Z",
     "start_time": "2024-01-29T15:01:52.877864Z"
    }
   },
   "cell_type": "code",
   "outputs": [
    {
     "data": {
      "text/plain": [
       "507365"
      ]
     },
     "metadata": {},
     "output_type": "execute_result",
     "execution_count": 95
    }
   ],
   "source": [
    "len(wordcounts_df)"
   ],
   "execution_count": 95
  },
  {
   "metadata": {
    "ExecuteTime": {
     "end_time": "2024-01-29T15:21:35.361973Z",
     "start_time": "2024-01-29T15:21:35.338069Z"
    }
   },
   "cell_type": "code",
   "outputs": [
    {
     "data": {
      "text/plain": [
       "             archaic  classical  hellenistic  roman_peak  roman_late\n",
       "ἀπαλλαγή         5.0       84.0         72.0       210.0       178.0\n",
       "ἐλευθερόω        5.0      156.0        175.0       311.0       157.0\n",
       "εὔφημος          5.0       32.0         10.0        73.0        35.0\n",
       "λύμη             5.0       26.0         22.0        51.0        55.0\n",
       "χλιδή            5.0       20.0          7.0        32.0        22.0\n",
       "μεσημβρινός      5.0       18.0        215.0       341.0        51.0\n",
       "κατεύχομαι       5.0       21.0          9.0        17.0         5.0\n",
       "φαιδρός          5.0       25.0         20.0       151.0       122.0\n",
       "ἀποστατέω        5.0       28.0          7.0        20.0        24.0\n",
       "πρεσβεύω         5.0      179.0        190.0       445.0       255.0"
      ],
      "text/html": [
       "<div>\n",
       "<style scoped>\n",
       "    .dataframe tbody tr th:only-of-type {\n",
       "        vertical-align: middle;\n",
       "    }\n",
       "\n",
       "    .dataframe tbody tr th {\n",
       "        vertical-align: top;\n",
       "    }\n",
       "\n",
       "    .dataframe thead th {\n",
       "        text-align: right;\n",
       "    }\n",
       "</style>\n",
       "<table border=\"1\" class=\"dataframe\">\n",
       "  <thead>\n",
       "    <tr style=\"text-align: right;\">\n",
       "      <th></th>\n",
       "      <th>archaic</th>\n",
       "      <th>classical</th>\n",
       "      <th>hellenistic</th>\n",
       "      <th>roman_peak</th>\n",
       "      <th>roman_late</th>\n",
       "    </tr>\n",
       "  </thead>\n",
       "  <tbody>\n",
       "    <tr>\n",
       "      <th>ἀπαλλαγή</th>\n",
       "      <td>5.0</td>\n",
       "      <td>84.0</td>\n",
       "      <td>72.0</td>\n",
       "      <td>210.0</td>\n",
       "      <td>178.0</td>\n",
       "    </tr>\n",
       "    <tr>\n",
       "      <th>ἐλευθερόω</th>\n",
       "      <td>5.0</td>\n",
       "      <td>156.0</td>\n",
       "      <td>175.0</td>\n",
       "      <td>311.0</td>\n",
       "      <td>157.0</td>\n",
       "    </tr>\n",
       "    <tr>\n",
       "      <th>εὔφημος</th>\n",
       "      <td>5.0</td>\n",
       "      <td>32.0</td>\n",
       "      <td>10.0</td>\n",
       "      <td>73.0</td>\n",
       "      <td>35.0</td>\n",
       "    </tr>\n",
       "    <tr>\n",
       "      <th>λύμη</th>\n",
       "      <td>5.0</td>\n",
       "      <td>26.0</td>\n",
       "      <td>22.0</td>\n",
       "      <td>51.0</td>\n",
       "      <td>55.0</td>\n",
       "    </tr>\n",
       "    <tr>\n",
       "      <th>χλιδή</th>\n",
       "      <td>5.0</td>\n",
       "      <td>20.0</td>\n",
       "      <td>7.0</td>\n",
       "      <td>32.0</td>\n",
       "      <td>22.0</td>\n",
       "    </tr>\n",
       "    <tr>\n",
       "      <th>μεσημβρινός</th>\n",
       "      <td>5.0</td>\n",
       "      <td>18.0</td>\n",
       "      <td>215.0</td>\n",
       "      <td>341.0</td>\n",
       "      <td>51.0</td>\n",
       "    </tr>\n",
       "    <tr>\n",
       "      <th>κατεύχομαι</th>\n",
       "      <td>5.0</td>\n",
       "      <td>21.0</td>\n",
       "      <td>9.0</td>\n",
       "      <td>17.0</td>\n",
       "      <td>5.0</td>\n",
       "    </tr>\n",
       "    <tr>\n",
       "      <th>φαιδρός</th>\n",
       "      <td>5.0</td>\n",
       "      <td>25.0</td>\n",
       "      <td>20.0</td>\n",
       "      <td>151.0</td>\n",
       "      <td>122.0</td>\n",
       "    </tr>\n",
       "    <tr>\n",
       "      <th>ἀποστατέω</th>\n",
       "      <td>5.0</td>\n",
       "      <td>28.0</td>\n",
       "      <td>7.0</td>\n",
       "      <td>20.0</td>\n",
       "      <td>24.0</td>\n",
       "    </tr>\n",
       "    <tr>\n",
       "      <th>πρεσβεύω</th>\n",
       "      <td>5.0</td>\n",
       "      <td>179.0</td>\n",
       "      <td>190.0</td>\n",
       "      <td>445.0</td>\n",
       "      <td>255.0</td>\n",
       "    </tr>\n",
       "  </tbody>\n",
       "</table>\n",
       "</div>"
      ]
     },
     "metadata": {},
     "output_type": "execute_result",
     "execution_count": 113
    }
   ],
   "source": [
    "wordcounts_df[(wordcounts_df >= 5).all(axis=1)].tail(10)# # .notnull().all(axis=1).sum()"
   ],
   "execution_count": 113
  },
  {
   "metadata": {
    "ExecuteTime": {
     "end_time": "2024-01-29T15:56:31.871722Z",
     "start_time": "2024-01-29T15:56:31.846151Z"
    }
   },
   "cell_type": "code",
   "outputs": [
    {
     "data": {
      "text/plain": [
       "3133"
      ]
     },
     "metadata": {},
     "output_type": "execute_result",
     "execution_count": 132
    }
   ],
   "source": [
    "shared_vocabulary = list(wordcounts_df[(wordcounts_df >= 5).all(axis=1)].index) # .notnull().all(axis=1).sum())\n",
    "len(shared_vocabulary)"
   ],
   "execution_count": 132
  },
  {
   "cell_type": "code",
   "outputs": [],
   "source": [
    "with open(\"../data/shared_vocabulary.pickle\", \"wb\") as f:\n",
    "    pickle.dump(shared_vocabulary, f)"
   ],
   "metadata": {
    "collapsed": false,
    "ExecuteTime": {
     "end_time": "2024-01-29T15:56:32.812312Z",
     "start_time": "2024-01-29T15:56:32.806599Z"
    }
   },
   "execution_count": 133
  },
  {
   "metadata": {
    "ExecuteTime": {
     "end_time": "2024-01-29T15:56:33.432876Z",
     "start_time": "2024-01-29T15:56:33.283149Z"
    }
   },
   "cell_type": "code",
   "outputs": [],
   "source": [
    "vocabulary_mostcommon2000 = []\n",
    "for key in periods.keys():\n",
    "    vocabulary_mostcommon2000.extend(list(wordcounts_df.sort_values(key, ascending=False).index[:2000]))"
   ],
   "execution_count": 134
  },
  {
   "metadata": {
    "ExecuteTime": {
     "end_time": "2024-01-29T15:56:34.109679Z",
     "start_time": "2024-01-29T15:56:34.098010Z"
    }
   },
   "cell_type": "code",
   "outputs": [
    {
     "data": {
      "text/plain": [
       "5110"
      ]
     },
     "metadata": {},
     "output_type": "execute_result",
     "execution_count": 135
    }
   ],
   "source": [
    "len(list(set(vocabulary_mostcommon2000 + shared_vocabulary)))"
   ],
   "execution_count": 135
  },
  {
   "metadata": {
    "ExecuteTime": {
     "end_time": "2024-01-29T15:57:59.014882Z",
     "start_time": "2024-01-29T15:57:58.992414Z"
    }
   },
   "cell_type": "code",
   "outputs": [],
   "source": [
    "vocabulary_balanced = list(set(vocabulary_mostcommon2000 + shared_vocabulary))\n",
    "with open(\"../data/vocabulary_balanced.pickle\", \"wb\") as f:\n",
    "    pickle.dump(vocabulary_balanced, f)"
   ],
   "execution_count": 136
  },
  {
   "metadata": {},
   "cell_type": "code",
   "outputs": [],
   "source": []
  },
  {
   "cell_type": "code",
   "outputs": [],
   "source": [
    "wordcounts_df.to_json(\"../data/wordcounts_df.json\")\n",
    "wordfreqs_df.to_json(\"../data/wordfreqs_df.json\")"
   ],
   "metadata": {
    "collapsed": false,
    "ExecuteTime": {
     "end_time": "2024-01-29T15:51:58.228492Z",
     "start_time": "2024-01-29T15:51:57.504458Z"
    }
   },
   "execution_count": 122
  }
 ],
 "metadata": {
  "kernelspec": {
   "name": "theos_kernel",
   "language": "python",
   "display_name": "theos_kernel"
  },
  "language_info": {
   "codemirror_mode": {
    "name": "ipython",
    "version": 2
   },
   "file_extension": ".py",
   "mimetype": "text/x-python",
   "name": "python",
   "nbconvert_exporter": "python",
   "pygments_lexer": "ipython2",
   "version": "2.7.6"
  }
 },
 "nbformat": 4,
 "nbformat_minor": 0
}
