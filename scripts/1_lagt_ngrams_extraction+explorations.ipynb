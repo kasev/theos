{
 "cells": [
  {
   "cell_type": "code",
   "metadata": {
    "collapsed": true,
    "ExecuteTime": {
     "end_time": "2024-02-06T14:03:52.557323Z",
     "start_time": "2024-02-06T14:03:45.878988Z"
    }
   },
   "source": [
    "import numpy as np\n",
    "import pandas as pd\n",
    "pd.set_option('display.max_colwidth', 50)\n",
    "import os\n",
    "import requests\n",
    "import re\n",
    "from nltk import FreqDist\n",
    "import nltk\n",
    "from sklearn.feature_extraction.text import CountVectorizer\n",
    "from sklearn.decomposition import TruncatedSVD\n",
    "from sklearn.metrics.pairwise import cosine_similarity\n",
    "import pickle\n",
    "from cltk.stops.grc import STOPS as stopwords\n",
    "from gensim.corpora import Dictionary\n",
    "import unicodedata\n",
    "import json\n",
    "import google_conf\n",
    "import matplotlib.pyplot as plt"
   ],
   "outputs": [],
   "execution_count": 1
  },
  {
   "metadata": {
    "ExecuteTime": {
     "end_time": "2024-02-06T13:02:29.206934Z",
     "start_time": "2024-02-06T13:02:29.203340Z"
    }
   },
   "cell_type": "code",
   "source": [
    "# global parameters for plots\n",
    "plt.style.use(\"seaborn-v0_8-white\")\n",
    "plt.rcParams['figure.dpi'] = 300\n",
    "plt.rcParams[\"font.family\"] = \"sans-serif\"\n",
    "plt.rcParams['font.size'] = 8\n",
    "\n",
    "def save_figure(fig, fig_name):\n",
    "    #each figure to be saved in four different versions\n",
    "    fig.savefig(\"../figures/\" + fig_name + \".tiff\")\n",
    "    fig.savefig(\"../figures/\" + fig_name + \".png\")"
   ],
   "outputs": [],
   "execution_count": 12
  },
  {
   "metadata": {
    "ExecuteTime": {
     "end_time": "2024-02-06T13:02:31.401474Z",
     "start_time": "2024-02-06T13:02:30.729519Z"
    }
   },
   "cell_type": "code",
   "source": [
    "# point out to your google service account and a google sheet URL to which you wish to send your data\n",
    "theos_data = google_conf.setup(sheet_url=\"https://docs.google.com/spreadsheets/d/19gfECdrg5rDiU2PhNYL1nKifeKzemCfYtYrAHQX5vXE/edit?usp=sharing\", service_account_path=\"../../ServiceAccountsKey.json\")"
   ],
   "outputs": [],
   "execution_count": 13
  },
  {
   "cell_type": "code",
   "source": [
    "# find local version of the input dataset\n",
    "local_paths = !find ~/Projects -name \"LAGT_v3-0.parquet\"\n",
    "print(local_paths)"
   ],
   "metadata": {
    "collapsed": false,
    "ExecuteTime": {
     "end_time": "2024-02-06T13:02:34.780697Z",
     "start_time": "2024-02-06T13:02:32.218917Z"
    }
   },
   "outputs": [
    {
     "name": "stdout",
     "output_type": "stream",
     "text": [
      "['/Users/vojtechkase/Projects/LAGT/data/large_files/LAGT_v3-0.parquet']\n"
     ]
    }
   ],
   "execution_count": 14
  },
  {
   "cell_type": "code",
   "source": [
    "# load LAGT (v2.0) dataset locally or download it directly from Zenodo\n",
    "try:\n",
    "    LAGT = pd.read_parquet(local_paths[0])\n",
    "except:\n",
    "    pass\n",
    "    #resp = requests.get(\"https://zenodo.org/record/7221150/files/LAGT_v2-0.json?download=1\")\n",
    "    # save it for next time\n",
    "    #LAGT = pd.DataFrame(resp.json())\n",
    "    #os.mkdir(\"../data/large_data/\")\n",
    "    #LAGT.to_json(\"../data/large_data/LIRE_v2-0.json\")"
   ],
   "metadata": {
    "collapsed": false,
    "ExecuteTime": {
     "end_time": "2024-02-06T13:02:37.474467Z",
     "start_time": "2024-02-06T13:02:34.782667Z"
    }
   },
   "outputs": [],
   "execution_count": 15
  },
  {
   "cell_type": "markdown",
   "source": [
    "# Short demonstration of the LAGT dataset..."
   ],
   "metadata": {
    "collapsed": false
   }
  },
  {
   "cell_type": "code",
   "source": "LAGT.head(5)",
   "metadata": {
    "collapsed": false,
    "ExecuteTime": {
     "end_time": "2024-02-06T13:02:37.509287Z",
     "start_time": "2024-02-06T13:02:37.477742Z"
    }
   },
   "outputs": [
    {
     "data": {
      "text/plain": [
       "   author_id          doc_id                       filename      author  \\\n",
       "2    ogl0001  ogl0001.ogl001  ogl0001.ogl001.1st1K-grc1.xml     Pinytus   \n",
       "8    tlg0005  tlg0005.tlg003  tlg0005.tlg003.1st1K-grc1.xml  Theocritus   \n",
       "9    tlg0006  tlg0006.tlg020  tlg0006.tlg020.1st1K-grc1.xml   Euripides   \n",
       "10   tlg0007  tlg0007.tlg146  tlg0007.tlg146.1st1K-grc1.xml    Plutarch   \n",
       "11   tlg0007  tlg0007.tlg147  tlg0007.tlg147.1st1K-grc1.xml    Plutarch   \n",
       "\n",
       "                                title  \\\n",
       "2     De Epistola Pinyti ad Dionysium   \n",
       "8                              Syrinx   \n",
       "9                           Fragmenta   \n",
       "10  Παροιμίαι αἷς Ἀλεξανδρεῖς ἐχρῶντο   \n",
       "11           Ἐκλογὴ περὶ τῶν ἀδυνάτων   \n",
       "\n",
       "                                               string  wordcount source  \\\n",
       "2   FRAGMENTUM BEATI PINYTI, CNOSSI IN CRETA EPISC...        180   1Kgr   \n",
       "8   Οὐδενὸς εὐνάτειρα Μακροπτολέμοιο δὲ μάτηρ  μαί...         77   1Kgr   \n",
       "9   ποίαν σε φῶμεν γαῖαν ἐκλελοιπότα πόλει ξενοῦσθ...      17708   1Kgr   \n",
       "10  Οἴκοι τὰ Μιλήσια: ἐπὶ τῶν ὅποι μὴ προςήκει τὴν...       2685   1Kgr   \n",
       "11  Κατὰ πετρῶν σπείρεις. Πλίνθον πλύνεις. Δικτύῳ ...        143   1Kgr   \n",
       "\n",
       "                                 lemmatized_sentences lemmata_source  \\\n",
       "2   [[Πινυτός, ἀντιγράφω, θαυμάζω, ἀποδέχω, Διονύσ...          grecy   \n",
       "8   [[οὐδενός, εὐνητήρ], [μακροπτολέμοιο, μήτηρ, μ...          grecy   \n",
       "9   [[φημί, γῆ, ἐκλείπω, πόλις, ξενοῦσθαι], [πάτρα...          grecy   \n",
       "10  [[Μιλήσιος], [προςήκω, τρυφή, ἐπιδείκνυμι], [Ἀ...          grecy   \n",
       "11  [[πέτρα, σπείρω], [Πλίνθος, πλύνω, Δίκτυον, ἄν...          grecy   \n",
       "\n",
       "    tlg_date  not_before  not_after date_uncertain  \\\n",
       "2       None       101.0      200.0           None   \n",
       "8   4-3 B.C.      -400.0     -201.0          False   \n",
       "9     5 B.C.      -500.0     -401.0          False   \n",
       "10  A.D. 1-2         1.0      200.0          False   \n",
       "11  A.D. 1-2         1.0      200.0          False   \n",
       "\n",
       "                      tlg_epithet provenience  lemmatacount  \n",
       "2                              []   christian            34  \n",
       "8                      [Bucolici]       pagan            61  \n",
       "9                       [Tragici]       pagan         10277  \n",
       "10  [Biographi, Philosophici/-ae]       pagan          1488  \n",
       "11  [Biographi, Philosophici/-ae]       pagan           125  "
      ],
      "text/html": [
       "<div>\n",
       "<style scoped>\n",
       "    .dataframe tbody tr th:only-of-type {\n",
       "        vertical-align: middle;\n",
       "    }\n",
       "\n",
       "    .dataframe tbody tr th {\n",
       "        vertical-align: top;\n",
       "    }\n",
       "\n",
       "    .dataframe thead th {\n",
       "        text-align: right;\n",
       "    }\n",
       "</style>\n",
       "<table border=\"1\" class=\"dataframe\">\n",
       "  <thead>\n",
       "    <tr style=\"text-align: right;\">\n",
       "      <th></th>\n",
       "      <th>author_id</th>\n",
       "      <th>doc_id</th>\n",
       "      <th>filename</th>\n",
       "      <th>author</th>\n",
       "      <th>title</th>\n",
       "      <th>string</th>\n",
       "      <th>wordcount</th>\n",
       "      <th>source</th>\n",
       "      <th>lemmatized_sentences</th>\n",
       "      <th>lemmata_source</th>\n",
       "      <th>tlg_date</th>\n",
       "      <th>not_before</th>\n",
       "      <th>not_after</th>\n",
       "      <th>date_uncertain</th>\n",
       "      <th>tlg_epithet</th>\n",
       "      <th>provenience</th>\n",
       "      <th>lemmatacount</th>\n",
       "    </tr>\n",
       "  </thead>\n",
       "  <tbody>\n",
       "    <tr>\n",
       "      <th>2</th>\n",
       "      <td>ogl0001</td>\n",
       "      <td>ogl0001.ogl001</td>\n",
       "      <td>ogl0001.ogl001.1st1K-grc1.xml</td>\n",
       "      <td>Pinytus</td>\n",
       "      <td>De Epistola Pinyti ad Dionysium</td>\n",
       "      <td>FRAGMENTUM BEATI PINYTI, CNOSSI IN CRETA EPISC...</td>\n",
       "      <td>180</td>\n",
       "      <td>1Kgr</td>\n",
       "      <td>[[Πινυτός, ἀντιγράφω, θαυμάζω, ἀποδέχω, Διονύσ...</td>\n",
       "      <td>grecy</td>\n",
       "      <td>None</td>\n",
       "      <td>101.0</td>\n",
       "      <td>200.0</td>\n",
       "      <td>None</td>\n",
       "      <td>[]</td>\n",
       "      <td>christian</td>\n",
       "      <td>34</td>\n",
       "    </tr>\n",
       "    <tr>\n",
       "      <th>8</th>\n",
       "      <td>tlg0005</td>\n",
       "      <td>tlg0005.tlg003</td>\n",
       "      <td>tlg0005.tlg003.1st1K-grc1.xml</td>\n",
       "      <td>Theocritus</td>\n",
       "      <td>Syrinx</td>\n",
       "      <td>Οὐδενὸς εὐνάτειρα Μακροπτολέμοιο δὲ μάτηρ  μαί...</td>\n",
       "      <td>77</td>\n",
       "      <td>1Kgr</td>\n",
       "      <td>[[οὐδενός, εὐνητήρ], [μακροπτολέμοιο, μήτηρ, μ...</td>\n",
       "      <td>grecy</td>\n",
       "      <td>4-3 B.C.</td>\n",
       "      <td>-400.0</td>\n",
       "      <td>-201.0</td>\n",
       "      <td>False</td>\n",
       "      <td>[Bucolici]</td>\n",
       "      <td>pagan</td>\n",
       "      <td>61</td>\n",
       "    </tr>\n",
       "    <tr>\n",
       "      <th>9</th>\n",
       "      <td>tlg0006</td>\n",
       "      <td>tlg0006.tlg020</td>\n",
       "      <td>tlg0006.tlg020.1st1K-grc1.xml</td>\n",
       "      <td>Euripides</td>\n",
       "      <td>Fragmenta</td>\n",
       "      <td>ποίαν σε φῶμεν γαῖαν ἐκλελοιπότα πόλει ξενοῦσθ...</td>\n",
       "      <td>17708</td>\n",
       "      <td>1Kgr</td>\n",
       "      <td>[[φημί, γῆ, ἐκλείπω, πόλις, ξενοῦσθαι], [πάτρα...</td>\n",
       "      <td>grecy</td>\n",
       "      <td>5 B.C.</td>\n",
       "      <td>-500.0</td>\n",
       "      <td>-401.0</td>\n",
       "      <td>False</td>\n",
       "      <td>[Tragici]</td>\n",
       "      <td>pagan</td>\n",
       "      <td>10277</td>\n",
       "    </tr>\n",
       "    <tr>\n",
       "      <th>10</th>\n",
       "      <td>tlg0007</td>\n",
       "      <td>tlg0007.tlg146</td>\n",
       "      <td>tlg0007.tlg146.1st1K-grc1.xml</td>\n",
       "      <td>Plutarch</td>\n",
       "      <td>Παροιμίαι αἷς Ἀλεξανδρεῖς ἐχρῶντο</td>\n",
       "      <td>Οἴκοι τὰ Μιλήσια: ἐπὶ τῶν ὅποι μὴ προςήκει τὴν...</td>\n",
       "      <td>2685</td>\n",
       "      <td>1Kgr</td>\n",
       "      <td>[[Μιλήσιος], [προςήκω, τρυφή, ἐπιδείκνυμι], [Ἀ...</td>\n",
       "      <td>grecy</td>\n",
       "      <td>A.D. 1-2</td>\n",
       "      <td>1.0</td>\n",
       "      <td>200.0</td>\n",
       "      <td>False</td>\n",
       "      <td>[Biographi, Philosophici/-ae]</td>\n",
       "      <td>pagan</td>\n",
       "      <td>1488</td>\n",
       "    </tr>\n",
       "    <tr>\n",
       "      <th>11</th>\n",
       "      <td>tlg0007</td>\n",
       "      <td>tlg0007.tlg147</td>\n",
       "      <td>tlg0007.tlg147.1st1K-grc1.xml</td>\n",
       "      <td>Plutarch</td>\n",
       "      <td>Ἐκλογὴ περὶ τῶν ἀδυνάτων</td>\n",
       "      <td>Κατὰ πετρῶν σπείρεις. Πλίνθον πλύνεις. Δικτύῳ ...</td>\n",
       "      <td>143</td>\n",
       "      <td>1Kgr</td>\n",
       "      <td>[[πέτρα, σπείρω], [Πλίνθος, πλύνω, Δίκτυον, ἄν...</td>\n",
       "      <td>grecy</td>\n",
       "      <td>A.D. 1-2</td>\n",
       "      <td>1.0</td>\n",
       "      <td>200.0</td>\n",
       "      <td>False</td>\n",
       "      <td>[Biographi, Philosophici/-ae]</td>\n",
       "      <td>pagan</td>\n",
       "      <td>125</td>\n",
       "    </tr>\n",
       "  </tbody>\n",
       "</table>\n",
       "</div>"
      ]
     },
     "execution_count": 16,
     "metadata": {},
     "output_type": "execute_result"
    }
   ],
   "execution_count": 16
  },
  {
   "cell_type": "code",
   "source": [
    "len(LAGT)"
   ],
   "metadata": {
    "collapsed": false,
    "ExecuteTime": {
     "end_time": "2024-02-06T13:02:37.514130Z",
     "start_time": "2024-02-06T13:02:37.510556Z"
    }
   },
   "outputs": [
    {
     "data": {
      "text/plain": [
       "1710"
      ]
     },
     "execution_count": 17,
     "metadata": {},
     "output_type": "execute_result"
    }
   ],
   "execution_count": 17
  },
  {
   "cell_type": "code",
   "source": [
    "LAGT[\"author_id\"].nunique()"
   ],
   "metadata": {
    "collapsed": false,
    "ExecuteTime": {
     "end_time": "2024-02-06T13:02:38.376457Z",
     "start_time": "2024-02-06T13:02:38.372782Z"
    }
   },
   "outputs": [
    {
     "data": {
      "text/plain": [
       "325"
      ]
     },
     "execution_count": 18,
     "metadata": {},
     "output_type": "execute_result"
    }
   ],
   "execution_count": 18
  },
  {
   "cell_type": "code",
   "source": [
    "\n",
    "LAGT[\"wordcount\"].sum()"
   ],
   "metadata": {
    "collapsed": false,
    "ExecuteTime": {
     "end_time": "2024-02-06T13:02:39.248425Z",
     "start_time": "2024-02-06T13:02:39.245283Z"
    }
   },
   "outputs": [
    {
     "data": {
      "text/plain": [
       "32323612"
      ]
     },
     "execution_count": 19,
     "metadata": {},
     "output_type": "execute_result"
    }
   ],
   "execution_count": 19
  },
  {
   "cell_type": "code",
   "source": [
    "LAGT[LAGT[\"author_id\"].str.startswith(\"tlg0031\")]"
   ],
   "metadata": {
    "collapsed": false,
    "ExecuteTime": {
     "end_time": "2024-02-06T13:02:39.846465Z",
     "start_time": "2024-02-06T13:02:39.660746Z"
    }
   },
   "outputs": [
    {
     "data": {
      "text/plain": [
       "        author_id          doc_id                         filename  \\\n",
       "1525     tlg0031a  tlg0031.tlg001  tlg0031.tlg001.perseus-grc2.xml   \n",
       "1526     tlg0031b  tlg0031.tlg002  tlg0031.tlg002.perseus-grc2.xml   \n",
       "1527  tlg0031luke  tlg0031.tlg003  tlg0031.tlg003.perseus-grc2.xml   \n",
       "1528  tlg0031john  tlg0031.tlg004  tlg0031.tlg004.perseus-grc2.xml   \n",
       "1529  tlg0031luke  tlg0031.tlg005  tlg0031.tlg005.perseus-grc2.xml   \n",
       "1530  tlg0031paul  tlg0031.tlg006  tlg0031.tlg006.perseus-grc2.xml   \n",
       "1531  tlg0031paul  tlg0031.tlg007  tlg0031.tlg007.perseus-grc2.xml   \n",
       "1532  tlg0031paul  tlg0031.tlg008  tlg0031.tlg008.perseus-grc2.xml   \n",
       "1533  tlg0031paul  tlg0031.tlg009  tlg0031.tlg009.perseus-grc2.xml   \n",
       "1534  tlg0031pspa  tlg0031.tlg010  tlg0031.tlg010.perseus-grc2.xml   \n",
       "1535  tlg0031paul  tlg0031.tlg011  tlg0031.tlg011.perseus-grc2.xml   \n",
       "1536  tlg0031pspa  tlg0031.tlg012  tlg0031.tlg012.perseus-grc2.xml   \n",
       "1537  tlg0031paul  tlg0031.tlg013  tlg0031.tlg013.perseus-grc2.xml   \n",
       "1538  tlg0031pspa  tlg0031.tlg014  tlg0031.tlg014.perseus-grc2.xml   \n",
       "1539  tlg0031pspa  tlg0031.tlg015  tlg0031.tlg015.perseus-grc2.xml   \n",
       "1540  tlg0031pspa  tlg0031.tlg016  tlg0031.tlg016.perseus-grc2.xml   \n",
       "1541  tlg0031pspa  tlg0031.tlg017  tlg0031.tlg017.perseus-grc2.xml   \n",
       "1542  tlg0031paul  tlg0031.tlg018  tlg0031.tlg018.perseus-grc2.xml   \n",
       "1543     tlg0031c  tlg0031.tlg019  tlg0031.tlg019.perseus-grc2.xml   \n",
       "1544     tlg0031d  tlg0031.tlg020  tlg0031.tlg020.perseus-grc2.xml   \n",
       "1545     tlg0031e  tlg0031.tlg021  tlg0031.tlg021.perseus-grc2.xml   \n",
       "1546     tlg0031f  tlg0031.tlg022  tlg0031.tlg022.perseus-grc2.xml   \n",
       "1547  tlg0031john  tlg0031.tlg023  tlg0031.tlg023.perseus-grc2.xml   \n",
       "1548  tlg0031john  tlg0031.tlg024  tlg0031.tlg024.perseus-grc2.xml   \n",
       "1549  tlg0031john  tlg0031.tlg025  tlg0031.tlg025.perseus-grc2.xml   \n",
       "1550     tlg0031g  tlg0031.tlg026  tlg0031.tlg026.perseus-grc2.xml   \n",
       "1551     tlg0031h  tlg0031.tlg027  tlg0031.tlg027.perseus-grc2.xml   \n",
       "\n",
       "                     author                            title  \\\n",
       "1525                   None          New Testament - Matthew   \n",
       "1526                   None             New Testament - Mark   \n",
       "1527  Luke (the evangelist)             New Testament - Luke   \n",
       "1528  Johnannine literature             New Testament - John   \n",
       "1529  Luke (the evangelist)             New Testament - Acts   \n",
       "1530         Paul of Tarsus           New Testament - Romans   \n",
       "1531         Paul of Tarsus    New Testament - 1 Corinthians   \n",
       "1532         Paul of Tarsus    New Testament - 2 Corinthians   \n",
       "1533         Paul of Tarsus        New Testament - Galatians   \n",
       "1534     Pauline literature        New Testament - Ephesians   \n",
       "1535         Paul of Tarsus      New Testament - Philippians   \n",
       "1536     Pauline literature       New Testament - Colossians   \n",
       "1537         Paul of Tarsus  New Testament - 1 Thessalonians   \n",
       "1538     Pauline literature  New Testament - 2 Thessalonians   \n",
       "1539     Pauline literature        New Testament - 1 Timothy   \n",
       "1540     Pauline literature        New Testament - 2 Timothy   \n",
       "1541     Pauline literature            New Testament - Titus   \n",
       "1542         Paul of Tarsus         New Testament - Philemon   \n",
       "1543                   None          New Testament - Hebrews   \n",
       "1544                   None            New Testament - James   \n",
       "1545                   None          New Testament - 1 Peter   \n",
       "1546                   None          New Testament - 2 Peter   \n",
       "1547  Johnannine literature           New Testament - 1 John   \n",
       "1548  Johnannine literature           New Testament - 2 John   \n",
       "1549  Johnannine literature           New Testament - 3 John   \n",
       "1550                   None             New Testament - Jude   \n",
       "1551                   None       New Testament - Revelation   \n",
       "\n",
       "                                                 string  wordcount   source  \\\n",
       "1525    ΒΙΒΛΟΣ γενέσεως Ἰησοῦ Χριστοῦ υἱοῦ Δαυεὶδ υἱ...      18288  perseus   \n",
       "1526  \\n\\n                    ΑΡΧΗ τοῦ εὐαγγελίου Ἰη...      11275  perseus   \n",
       "1527  \\n\\n                    ΕΠΕΙΔΗΠΕΡ ΠΟΛΛΟΙ ἐπεχε...      19459  perseus   \n",
       "1528  \\n\\n                    ΕΝ ΑΡΧΗ ἦν ὁ λόγος, κα...      15592  perseus   \n",
       "1529  \\n τὸν μὲν πρῶτον λόγον ἐποιησάμην περὶ πάντων...      18405  perseus   \n",
       "1530  \\n\\n                    ΠΑΥΛΟΣ δοῦλος Ἰησοῦ Χρ...       7107  perseus   \n",
       "1531  \\n\\n                    ΠΑΥΛΟΣ κλητὸς ἀπόστολο...       6814  perseus   \n",
       "1532  \\n\\n                    ΠΑΥΛΟΣ ἀπόστολος Χριστ...       4470  perseus   \n",
       "1533  \\n\\n                    ΠΑΥΛΟΣ ἀπόστολος, οὐκ ...       2235  perseus   \n",
       "1534  \\n\\n                    ΠΑΥΛΟΣ ἀπόστολος Χριστ...       2421  perseus   \n",
       "1535  \\n\\n                    ΠΑΥΛΟΣ ΚΑΙ ΤΙΜΟΘΕΟΣ δο...       1632  perseus   \n",
       "1536  \\n\\n                    ΠΑΥΛΟΣ ἀπόστολος Χριστ...       1581  perseus   \n",
       "1537  \\n\\n                    ΠΑΥΛΟΣ ΚΑΙ ΣΙΛΟΥΑΝΟΣ Κ...       1475  perseus   \n",
       "1538  \\n\\n                    ΠΑΥΛΟΣ ΚΑΙ ΣΙΛΟΥΑΝΟΣ Κ...        822  perseus   \n",
       "1539  \\n\\n                    ΠΑΥΛΟΣ ἀπόστολος Χριστ...       1597  perseus   \n",
       "1540  \\n\\n                    ΠΑΥΛΟΣ ἀπόστολος Χριστ...       1245  perseus   \n",
       "1541  \\n\\n                    ΠΑΥΛΟΣ δοῦλος θεοῦ, ἀπ...        659  perseus   \n",
       "1542  \\n\\n                    ΠΑΥΛΟΣ δέσμιος Χριστοῦ...        334  perseus   \n",
       "1543  \\n\\n                    ΠΟΛΥΜΕΡΩΣ ΚΑΙ ΠΟΛΥΤΡΟΠ...       4972  perseus   \n",
       "1544  \\n\\n                    ΙΑΚΩΒΟΣ θεοῦ καὶ κυρίο...       1734  perseus   \n",
       "1545  \\n\\n                    ΠΕΤΡΟΣ ἀπόστολος Ἰησοῦ...       1668  perseus   \n",
       "1546  \\n\\n                    ΣΙΜΩΝ ΠΕΤΡΟΣ δοῦλος κα...       1095  perseus   \n",
       "1547  \\n\\n                    Ο ΗΝ ΑΠʼ ΑΡΧΗΣ, ὃ ἀκηκ...       2135  perseus   \n",
       "1548  \\n\\n                    Ο ΠΡΕΣΒΥΤΕΡΟΣ ἐκλεκτῇ ...        245  perseus   \n",
       "1549  \\n\\n                    Ο ΠΡΕΣΒΥΤΕΡΟΣ Γαίῳ τῷ ...        219  perseus   \n",
       "1550  \\n\\n                    ΙΟΥΔΑΣ Ἰησοῦ Χριστοῦ δ...        456  perseus   \n",
       "1551  \\n\\n                    ΑΠΟΚΑΛΥΨΙΣ ΙΗΣΟΥ ΧΡΙΣΤ...       9857  perseus   \n",
       "\n",
       "                                   lemmatized_sentences lemmata_source  \\\n",
       "1525  [[βίβλος, γένεσις, Ἰησοῦς, Χριστός, υἱός, Δαυί...       morphgnt   \n",
       "1526  [[ἀρχή, εὐαγγέλιον, Ἰησοῦς, Χριστός], [γράφω, ...       morphgnt   \n",
       "1527  [[πολύς, ἐπιχειρέω, ἀνατάσσομαι, διήγησις, πλη...       morphgnt   \n",
       "1528  [[ἀρχή, εἰμί, λόγος, λόγος, εἰμί, θεός, θεός, ...       morphgnt   \n",
       "1529  [[πρῶτος, λόγος, ποιέω, πᾶς, Θεόφιλος, ἄρχω, Ἰ...       morphgnt   \n",
       "1530  [[Παῦλος, δοῦλος, Χριστός, Ἰησοῦς, κλητός, ἀπό...       morphgnt   \n",
       "1531  [[Παῦλος, κλητός, ἀπόστολος, Χριστός, Ἰησοῦς, ...       morphgnt   \n",
       "1532  [[Παῦλος, ἀπόστολος, Χριστός, Ἰησοῦς, θέλημα, ...       morphgnt   \n",
       "1533  [[Παῦλος, ἀπόστολος, ἄνθρωπος, ἄνθρωπος, Ἰησοῦ...       morphgnt   \n",
       "1534  [[Παῦλος, ἀπόστολος, Χριστός, Ἰησοῦς, θέλημα, ...       morphgnt   \n",
       "1535  [[Παῦλος, Τιμόθεος, δοῦλος, Χριστός, Ἰησοῦς, π...       morphgnt   \n",
       "1536  [[Παῦλος, ἀπόστολος, Χριστός, Ἰησοῦς, θέλημα, ...       morphgnt   \n",
       "1537  [[Παῦλος, Σιλουανός, Τιμόθεος, ἐκκλησία, Θεσσα...       morphgnt   \n",
       "1538  [[Παῦλος, Σιλουανός, Τιμόθεος, ἐκκλησία, Θεσσα...       morphgnt   \n",
       "1539  [[Παῦλος, ἀπόστολος, Χριστός, Ἰησοῦς, ἐπιταγή,...       morphgnt   \n",
       "1540  [[Παῦλος, ἀπόστολος, Χριστός, Ἰησοῦς, θέλημα, ...       morphgnt   \n",
       "1541  [[Παῦλος, δοῦλος, θεός, ἀπόστολος, Ἰησοῦς, Χρι...       morphgnt   \n",
       "1542  [[Παῦλος, δέσμιος, Χριστός, Ἰησοῦς, Τιμόθεος, ...       morphgnt   \n",
       "1543  [[θεός, λαλέω, πατήρ, προφήτης, ἔσχατος, ἡμέρα...       morphgnt   \n",
       "1544  [[Ἰάκωβος, θεός, κύριος, Ἰησοῦς, Χριστός, δοῦλ...       morphgnt   \n",
       "1545  [[Πέτρος, ἀπόστολος, Ἰησοῦς, Χριστός, ἐκλεκτός...       morphgnt   \n",
       "1546  [[Συμεών, Πέτρος, δοῦλος, ἀπόστολος, Ἰησοῦς, Χ...       morphgnt   \n",
       "1547  [[εἰμί, ἀρχή, ἀκούω, ὁράω, ὀφθαλμός, θεάομαι, ...       morphgnt   \n",
       "1548  [[πρεσβύτερος, ἐκλεκτός, κυρία, τέκνον, ἀγαπάω...       morphgnt   \n",
       "1549  [[πρεσβύτερος, Γάϊος, ἀγαπητός, ἀγαπάω, ἀλήθει...       morphgnt   \n",
       "1550  [[Ἰούδας, Ἰησοῦς, Χριστός, δοῦλος, ἀδελφός, Ἰά...       morphgnt   \n",
       "1551  [[ἀποκάλυψις, Ἰησοῦς, Χριστός, δίδωμι, θεός, δ...       morphgnt   \n",
       "\n",
       "     tlg_date  not_before  not_after date_uncertain tlg_epithet provenience  \\\n",
       "1525   A.D. 1         1.0      100.0          False          []   christian   \n",
       "1526   A.D. 1         1.0      100.0          False          []   christian   \n",
       "1527   A.D. 1         1.0      100.0          False          []   christian   \n",
       "1528   A.D. 1         1.0      100.0          False          []   christian   \n",
       "1529   A.D. 1         1.0      100.0          False          []   christian   \n",
       "1530   A.D. 1         1.0      100.0          False          []   christian   \n",
       "1531   A.D. 1         1.0      100.0          False          []   christian   \n",
       "1532   A.D. 1         1.0      100.0          False          []   christian   \n",
       "1533   A.D. 1         1.0      100.0          False          []   christian   \n",
       "1534   A.D. 1         1.0      100.0          False          []   christian   \n",
       "1535   A.D. 1         1.0      100.0          False          []   christian   \n",
       "1536   A.D. 1         1.0      100.0          False          []   christian   \n",
       "1537   A.D. 1         1.0      100.0          False          []   christian   \n",
       "1538   A.D. 1         1.0      100.0          False          []   christian   \n",
       "1539   A.D. 1         1.0      100.0          False          []   christian   \n",
       "1540   A.D. 1         1.0      100.0          False          []   christian   \n",
       "1541   A.D. 1         1.0      100.0          False          []   christian   \n",
       "1542   A.D. 1         1.0      100.0          False          []   christian   \n",
       "1543   A.D. 1         1.0      100.0          False          []   christian   \n",
       "1544   A.D. 1         1.0      100.0          False          []   christian   \n",
       "1545   A.D. 1         1.0      100.0          False          []   christian   \n",
       "1546   A.D. 1         1.0      100.0          False          []   christian   \n",
       "1547   A.D. 1         1.0      100.0          False          []   christian   \n",
       "1548   A.D. 1         1.0      100.0          False          []   christian   \n",
       "1549   A.D. 1         1.0      100.0          False          []   christian   \n",
       "1550   A.D. 1         1.0      100.0          False          []   christian   \n",
       "1551   A.D. 1         1.0      100.0          False          []   christian   \n",
       "\n",
       "      lemmatacount  \n",
       "1525          8699  \n",
       "1526          5308  \n",
       "1527          9194  \n",
       "1528          6892  \n",
       "1529          9141  \n",
       "1530          3265  \n",
       "1531          3292  \n",
       "1532          1925  \n",
       "1533          1058  \n",
       "1534          1126  \n",
       "1535           748  \n",
       "1536           722  \n",
       "1537           634  \n",
       "1538           361  \n",
       "1539           917  \n",
       "1540           647  \n",
       "1541           386  \n",
       "1542           147  \n",
       "1543          2467  \n",
       "1544           894  \n",
       "1545           872  \n",
       "1546           589  \n",
       "1547           924  \n",
       "1548           111  \n",
       "1549           105  \n",
       "1550           254  \n",
       "1551          4731  "
      ],
      "text/html": [
       "<div>\n",
       "<style scoped>\n",
       "    .dataframe tbody tr th:only-of-type {\n",
       "        vertical-align: middle;\n",
       "    }\n",
       "\n",
       "    .dataframe tbody tr th {\n",
       "        vertical-align: top;\n",
       "    }\n",
       "\n",
       "    .dataframe thead th {\n",
       "        text-align: right;\n",
       "    }\n",
       "</style>\n",
       "<table border=\"1\" class=\"dataframe\">\n",
       "  <thead>\n",
       "    <tr style=\"text-align: right;\">\n",
       "      <th></th>\n",
       "      <th>author_id</th>\n",
       "      <th>doc_id</th>\n",
       "      <th>filename</th>\n",
       "      <th>author</th>\n",
       "      <th>title</th>\n",
       "      <th>string</th>\n",
       "      <th>wordcount</th>\n",
       "      <th>source</th>\n",
       "      <th>lemmatized_sentences</th>\n",
       "      <th>lemmata_source</th>\n",
       "      <th>tlg_date</th>\n",
       "      <th>not_before</th>\n",
       "      <th>not_after</th>\n",
       "      <th>date_uncertain</th>\n",
       "      <th>tlg_epithet</th>\n",
       "      <th>provenience</th>\n",
       "      <th>lemmatacount</th>\n",
       "    </tr>\n",
       "  </thead>\n",
       "  <tbody>\n",
       "    <tr>\n",
       "      <th>1525</th>\n",
       "      <td>tlg0031a</td>\n",
       "      <td>tlg0031.tlg001</td>\n",
       "      <td>tlg0031.tlg001.perseus-grc2.xml</td>\n",
       "      <td>None</td>\n",
       "      <td>New Testament - Matthew</td>\n",
       "      <td>ΒΙΒΛΟΣ γενέσεως Ἰησοῦ Χριστοῦ υἱοῦ Δαυεὶδ υἱ...</td>\n",
       "      <td>18288</td>\n",
       "      <td>perseus</td>\n",
       "      <td>[[βίβλος, γένεσις, Ἰησοῦς, Χριστός, υἱός, Δαυί...</td>\n",
       "      <td>morphgnt</td>\n",
       "      <td>A.D. 1</td>\n",
       "      <td>1.0</td>\n",
       "      <td>100.0</td>\n",
       "      <td>False</td>\n",
       "      <td>[]</td>\n",
       "      <td>christian</td>\n",
       "      <td>8699</td>\n",
       "    </tr>\n",
       "    <tr>\n",
       "      <th>1526</th>\n",
       "      <td>tlg0031b</td>\n",
       "      <td>tlg0031.tlg002</td>\n",
       "      <td>tlg0031.tlg002.perseus-grc2.xml</td>\n",
       "      <td>None</td>\n",
       "      <td>New Testament - Mark</td>\n",
       "      <td>\\n\\n                    ΑΡΧΗ τοῦ εὐαγγελίου Ἰη...</td>\n",
       "      <td>11275</td>\n",
       "      <td>perseus</td>\n",
       "      <td>[[ἀρχή, εὐαγγέλιον, Ἰησοῦς, Χριστός], [γράφω, ...</td>\n",
       "      <td>morphgnt</td>\n",
       "      <td>A.D. 1</td>\n",
       "      <td>1.0</td>\n",
       "      <td>100.0</td>\n",
       "      <td>False</td>\n",
       "      <td>[]</td>\n",
       "      <td>christian</td>\n",
       "      <td>5308</td>\n",
       "    </tr>\n",
       "    <tr>\n",
       "      <th>1527</th>\n",
       "      <td>tlg0031luke</td>\n",
       "      <td>tlg0031.tlg003</td>\n",
       "      <td>tlg0031.tlg003.perseus-grc2.xml</td>\n",
       "      <td>Luke (the evangelist)</td>\n",
       "      <td>New Testament - Luke</td>\n",
       "      <td>\\n\\n                    ΕΠΕΙΔΗΠΕΡ ΠΟΛΛΟΙ ἐπεχε...</td>\n",
       "      <td>19459</td>\n",
       "      <td>perseus</td>\n",
       "      <td>[[πολύς, ἐπιχειρέω, ἀνατάσσομαι, διήγησις, πλη...</td>\n",
       "      <td>morphgnt</td>\n",
       "      <td>A.D. 1</td>\n",
       "      <td>1.0</td>\n",
       "      <td>100.0</td>\n",
       "      <td>False</td>\n",
       "      <td>[]</td>\n",
       "      <td>christian</td>\n",
       "      <td>9194</td>\n",
       "    </tr>\n",
       "    <tr>\n",
       "      <th>1528</th>\n",
       "      <td>tlg0031john</td>\n",
       "      <td>tlg0031.tlg004</td>\n",
       "      <td>tlg0031.tlg004.perseus-grc2.xml</td>\n",
       "      <td>Johnannine literature</td>\n",
       "      <td>New Testament - John</td>\n",
       "      <td>\\n\\n                    ΕΝ ΑΡΧΗ ἦν ὁ λόγος, κα...</td>\n",
       "      <td>15592</td>\n",
       "      <td>perseus</td>\n",
       "      <td>[[ἀρχή, εἰμί, λόγος, λόγος, εἰμί, θεός, θεός, ...</td>\n",
       "      <td>morphgnt</td>\n",
       "      <td>A.D. 1</td>\n",
       "      <td>1.0</td>\n",
       "      <td>100.0</td>\n",
       "      <td>False</td>\n",
       "      <td>[]</td>\n",
       "      <td>christian</td>\n",
       "      <td>6892</td>\n",
       "    </tr>\n",
       "    <tr>\n",
       "      <th>1529</th>\n",
       "      <td>tlg0031luke</td>\n",
       "      <td>tlg0031.tlg005</td>\n",
       "      <td>tlg0031.tlg005.perseus-grc2.xml</td>\n",
       "      <td>Luke (the evangelist)</td>\n",
       "      <td>New Testament - Acts</td>\n",
       "      <td>\\n τὸν μὲν πρῶτον λόγον ἐποιησάμην περὶ πάντων...</td>\n",
       "      <td>18405</td>\n",
       "      <td>perseus</td>\n",
       "      <td>[[πρῶτος, λόγος, ποιέω, πᾶς, Θεόφιλος, ἄρχω, Ἰ...</td>\n",
       "      <td>morphgnt</td>\n",
       "      <td>A.D. 1</td>\n",
       "      <td>1.0</td>\n",
       "      <td>100.0</td>\n",
       "      <td>False</td>\n",
       "      <td>[]</td>\n",
       "      <td>christian</td>\n",
       "      <td>9141</td>\n",
       "    </tr>\n",
       "    <tr>\n",
       "      <th>1530</th>\n",
       "      <td>tlg0031paul</td>\n",
       "      <td>tlg0031.tlg006</td>\n",
       "      <td>tlg0031.tlg006.perseus-grc2.xml</td>\n",
       "      <td>Paul of Tarsus</td>\n",
       "      <td>New Testament - Romans</td>\n",
       "      <td>\\n\\n                    ΠΑΥΛΟΣ δοῦλος Ἰησοῦ Χρ...</td>\n",
       "      <td>7107</td>\n",
       "      <td>perseus</td>\n",
       "      <td>[[Παῦλος, δοῦλος, Χριστός, Ἰησοῦς, κλητός, ἀπό...</td>\n",
       "      <td>morphgnt</td>\n",
       "      <td>A.D. 1</td>\n",
       "      <td>1.0</td>\n",
       "      <td>100.0</td>\n",
       "      <td>False</td>\n",
       "      <td>[]</td>\n",
       "      <td>christian</td>\n",
       "      <td>3265</td>\n",
       "    </tr>\n",
       "    <tr>\n",
       "      <th>1531</th>\n",
       "      <td>tlg0031paul</td>\n",
       "      <td>tlg0031.tlg007</td>\n",
       "      <td>tlg0031.tlg007.perseus-grc2.xml</td>\n",
       "      <td>Paul of Tarsus</td>\n",
       "      <td>New Testament - 1 Corinthians</td>\n",
       "      <td>\\n\\n                    ΠΑΥΛΟΣ κλητὸς ἀπόστολο...</td>\n",
       "      <td>6814</td>\n",
       "      <td>perseus</td>\n",
       "      <td>[[Παῦλος, κλητός, ἀπόστολος, Χριστός, Ἰησοῦς, ...</td>\n",
       "      <td>morphgnt</td>\n",
       "      <td>A.D. 1</td>\n",
       "      <td>1.0</td>\n",
       "      <td>100.0</td>\n",
       "      <td>False</td>\n",
       "      <td>[]</td>\n",
       "      <td>christian</td>\n",
       "      <td>3292</td>\n",
       "    </tr>\n",
       "    <tr>\n",
       "      <th>1532</th>\n",
       "      <td>tlg0031paul</td>\n",
       "      <td>tlg0031.tlg008</td>\n",
       "      <td>tlg0031.tlg008.perseus-grc2.xml</td>\n",
       "      <td>Paul of Tarsus</td>\n",
       "      <td>New Testament - 2 Corinthians</td>\n",
       "      <td>\\n\\n                    ΠΑΥΛΟΣ ἀπόστολος Χριστ...</td>\n",
       "      <td>4470</td>\n",
       "      <td>perseus</td>\n",
       "      <td>[[Παῦλος, ἀπόστολος, Χριστός, Ἰησοῦς, θέλημα, ...</td>\n",
       "      <td>morphgnt</td>\n",
       "      <td>A.D. 1</td>\n",
       "      <td>1.0</td>\n",
       "      <td>100.0</td>\n",
       "      <td>False</td>\n",
       "      <td>[]</td>\n",
       "      <td>christian</td>\n",
       "      <td>1925</td>\n",
       "    </tr>\n",
       "    <tr>\n",
       "      <th>1533</th>\n",
       "      <td>tlg0031paul</td>\n",
       "      <td>tlg0031.tlg009</td>\n",
       "      <td>tlg0031.tlg009.perseus-grc2.xml</td>\n",
       "      <td>Paul of Tarsus</td>\n",
       "      <td>New Testament - Galatians</td>\n",
       "      <td>\\n\\n                    ΠΑΥΛΟΣ ἀπόστολος, οὐκ ...</td>\n",
       "      <td>2235</td>\n",
       "      <td>perseus</td>\n",
       "      <td>[[Παῦλος, ἀπόστολος, ἄνθρωπος, ἄνθρωπος, Ἰησοῦ...</td>\n",
       "      <td>morphgnt</td>\n",
       "      <td>A.D. 1</td>\n",
       "      <td>1.0</td>\n",
       "      <td>100.0</td>\n",
       "      <td>False</td>\n",
       "      <td>[]</td>\n",
       "      <td>christian</td>\n",
       "      <td>1058</td>\n",
       "    </tr>\n",
       "    <tr>\n",
       "      <th>1534</th>\n",
       "      <td>tlg0031pspa</td>\n",
       "      <td>tlg0031.tlg010</td>\n",
       "      <td>tlg0031.tlg010.perseus-grc2.xml</td>\n",
       "      <td>Pauline literature</td>\n",
       "      <td>New Testament - Ephesians</td>\n",
       "      <td>\\n\\n                    ΠΑΥΛΟΣ ἀπόστολος Χριστ...</td>\n",
       "      <td>2421</td>\n",
       "      <td>perseus</td>\n",
       "      <td>[[Παῦλος, ἀπόστολος, Χριστός, Ἰησοῦς, θέλημα, ...</td>\n",
       "      <td>morphgnt</td>\n",
       "      <td>A.D. 1</td>\n",
       "      <td>1.0</td>\n",
       "      <td>100.0</td>\n",
       "      <td>False</td>\n",
       "      <td>[]</td>\n",
       "      <td>christian</td>\n",
       "      <td>1126</td>\n",
       "    </tr>\n",
       "    <tr>\n",
       "      <th>1535</th>\n",
       "      <td>tlg0031paul</td>\n",
       "      <td>tlg0031.tlg011</td>\n",
       "      <td>tlg0031.tlg011.perseus-grc2.xml</td>\n",
       "      <td>Paul of Tarsus</td>\n",
       "      <td>New Testament - Philippians</td>\n",
       "      <td>\\n\\n                    ΠΑΥΛΟΣ ΚΑΙ ΤΙΜΟΘΕΟΣ δο...</td>\n",
       "      <td>1632</td>\n",
       "      <td>perseus</td>\n",
       "      <td>[[Παῦλος, Τιμόθεος, δοῦλος, Χριστός, Ἰησοῦς, π...</td>\n",
       "      <td>morphgnt</td>\n",
       "      <td>A.D. 1</td>\n",
       "      <td>1.0</td>\n",
       "      <td>100.0</td>\n",
       "      <td>False</td>\n",
       "      <td>[]</td>\n",
       "      <td>christian</td>\n",
       "      <td>748</td>\n",
       "    </tr>\n",
       "    <tr>\n",
       "      <th>1536</th>\n",
       "      <td>tlg0031pspa</td>\n",
       "      <td>tlg0031.tlg012</td>\n",
       "      <td>tlg0031.tlg012.perseus-grc2.xml</td>\n",
       "      <td>Pauline literature</td>\n",
       "      <td>New Testament - Colossians</td>\n",
       "      <td>\\n\\n                    ΠΑΥΛΟΣ ἀπόστολος Χριστ...</td>\n",
       "      <td>1581</td>\n",
       "      <td>perseus</td>\n",
       "      <td>[[Παῦλος, ἀπόστολος, Χριστός, Ἰησοῦς, θέλημα, ...</td>\n",
       "      <td>morphgnt</td>\n",
       "      <td>A.D. 1</td>\n",
       "      <td>1.0</td>\n",
       "      <td>100.0</td>\n",
       "      <td>False</td>\n",
       "      <td>[]</td>\n",
       "      <td>christian</td>\n",
       "      <td>722</td>\n",
       "    </tr>\n",
       "    <tr>\n",
       "      <th>1537</th>\n",
       "      <td>tlg0031paul</td>\n",
       "      <td>tlg0031.tlg013</td>\n",
       "      <td>tlg0031.tlg013.perseus-grc2.xml</td>\n",
       "      <td>Paul of Tarsus</td>\n",
       "      <td>New Testament - 1 Thessalonians</td>\n",
       "      <td>\\n\\n                    ΠΑΥΛΟΣ ΚΑΙ ΣΙΛΟΥΑΝΟΣ Κ...</td>\n",
       "      <td>1475</td>\n",
       "      <td>perseus</td>\n",
       "      <td>[[Παῦλος, Σιλουανός, Τιμόθεος, ἐκκλησία, Θεσσα...</td>\n",
       "      <td>morphgnt</td>\n",
       "      <td>A.D. 1</td>\n",
       "      <td>1.0</td>\n",
       "      <td>100.0</td>\n",
       "      <td>False</td>\n",
       "      <td>[]</td>\n",
       "      <td>christian</td>\n",
       "      <td>634</td>\n",
       "    </tr>\n",
       "    <tr>\n",
       "      <th>1538</th>\n",
       "      <td>tlg0031pspa</td>\n",
       "      <td>tlg0031.tlg014</td>\n",
       "      <td>tlg0031.tlg014.perseus-grc2.xml</td>\n",
       "      <td>Pauline literature</td>\n",
       "      <td>New Testament - 2 Thessalonians</td>\n",
       "      <td>\\n\\n                    ΠΑΥΛΟΣ ΚΑΙ ΣΙΛΟΥΑΝΟΣ Κ...</td>\n",
       "      <td>822</td>\n",
       "      <td>perseus</td>\n",
       "      <td>[[Παῦλος, Σιλουανός, Τιμόθεος, ἐκκλησία, Θεσσα...</td>\n",
       "      <td>morphgnt</td>\n",
       "      <td>A.D. 1</td>\n",
       "      <td>1.0</td>\n",
       "      <td>100.0</td>\n",
       "      <td>False</td>\n",
       "      <td>[]</td>\n",
       "      <td>christian</td>\n",
       "      <td>361</td>\n",
       "    </tr>\n",
       "    <tr>\n",
       "      <th>1539</th>\n",
       "      <td>tlg0031pspa</td>\n",
       "      <td>tlg0031.tlg015</td>\n",
       "      <td>tlg0031.tlg015.perseus-grc2.xml</td>\n",
       "      <td>Pauline literature</td>\n",
       "      <td>New Testament - 1 Timothy</td>\n",
       "      <td>\\n\\n                    ΠΑΥΛΟΣ ἀπόστολος Χριστ...</td>\n",
       "      <td>1597</td>\n",
       "      <td>perseus</td>\n",
       "      <td>[[Παῦλος, ἀπόστολος, Χριστός, Ἰησοῦς, ἐπιταγή,...</td>\n",
       "      <td>morphgnt</td>\n",
       "      <td>A.D. 1</td>\n",
       "      <td>1.0</td>\n",
       "      <td>100.0</td>\n",
       "      <td>False</td>\n",
       "      <td>[]</td>\n",
       "      <td>christian</td>\n",
       "      <td>917</td>\n",
       "    </tr>\n",
       "    <tr>\n",
       "      <th>1540</th>\n",
       "      <td>tlg0031pspa</td>\n",
       "      <td>tlg0031.tlg016</td>\n",
       "      <td>tlg0031.tlg016.perseus-grc2.xml</td>\n",
       "      <td>Pauline literature</td>\n",
       "      <td>New Testament - 2 Timothy</td>\n",
       "      <td>\\n\\n                    ΠΑΥΛΟΣ ἀπόστολος Χριστ...</td>\n",
       "      <td>1245</td>\n",
       "      <td>perseus</td>\n",
       "      <td>[[Παῦλος, ἀπόστολος, Χριστός, Ἰησοῦς, θέλημα, ...</td>\n",
       "      <td>morphgnt</td>\n",
       "      <td>A.D. 1</td>\n",
       "      <td>1.0</td>\n",
       "      <td>100.0</td>\n",
       "      <td>False</td>\n",
       "      <td>[]</td>\n",
       "      <td>christian</td>\n",
       "      <td>647</td>\n",
       "    </tr>\n",
       "    <tr>\n",
       "      <th>1541</th>\n",
       "      <td>tlg0031pspa</td>\n",
       "      <td>tlg0031.tlg017</td>\n",
       "      <td>tlg0031.tlg017.perseus-grc2.xml</td>\n",
       "      <td>Pauline literature</td>\n",
       "      <td>New Testament - Titus</td>\n",
       "      <td>\\n\\n                    ΠΑΥΛΟΣ δοῦλος θεοῦ, ἀπ...</td>\n",
       "      <td>659</td>\n",
       "      <td>perseus</td>\n",
       "      <td>[[Παῦλος, δοῦλος, θεός, ἀπόστολος, Ἰησοῦς, Χρι...</td>\n",
       "      <td>morphgnt</td>\n",
       "      <td>A.D. 1</td>\n",
       "      <td>1.0</td>\n",
       "      <td>100.0</td>\n",
       "      <td>False</td>\n",
       "      <td>[]</td>\n",
       "      <td>christian</td>\n",
       "      <td>386</td>\n",
       "    </tr>\n",
       "    <tr>\n",
       "      <th>1542</th>\n",
       "      <td>tlg0031paul</td>\n",
       "      <td>tlg0031.tlg018</td>\n",
       "      <td>tlg0031.tlg018.perseus-grc2.xml</td>\n",
       "      <td>Paul of Tarsus</td>\n",
       "      <td>New Testament - Philemon</td>\n",
       "      <td>\\n\\n                    ΠΑΥΛΟΣ δέσμιος Χριστοῦ...</td>\n",
       "      <td>334</td>\n",
       "      <td>perseus</td>\n",
       "      <td>[[Παῦλος, δέσμιος, Χριστός, Ἰησοῦς, Τιμόθεος, ...</td>\n",
       "      <td>morphgnt</td>\n",
       "      <td>A.D. 1</td>\n",
       "      <td>1.0</td>\n",
       "      <td>100.0</td>\n",
       "      <td>False</td>\n",
       "      <td>[]</td>\n",
       "      <td>christian</td>\n",
       "      <td>147</td>\n",
       "    </tr>\n",
       "    <tr>\n",
       "      <th>1543</th>\n",
       "      <td>tlg0031c</td>\n",
       "      <td>tlg0031.tlg019</td>\n",
       "      <td>tlg0031.tlg019.perseus-grc2.xml</td>\n",
       "      <td>None</td>\n",
       "      <td>New Testament - Hebrews</td>\n",
       "      <td>\\n\\n                    ΠΟΛΥΜΕΡΩΣ ΚΑΙ ΠΟΛΥΤΡΟΠ...</td>\n",
       "      <td>4972</td>\n",
       "      <td>perseus</td>\n",
       "      <td>[[θεός, λαλέω, πατήρ, προφήτης, ἔσχατος, ἡμέρα...</td>\n",
       "      <td>morphgnt</td>\n",
       "      <td>A.D. 1</td>\n",
       "      <td>1.0</td>\n",
       "      <td>100.0</td>\n",
       "      <td>False</td>\n",
       "      <td>[]</td>\n",
       "      <td>christian</td>\n",
       "      <td>2467</td>\n",
       "    </tr>\n",
       "    <tr>\n",
       "      <th>1544</th>\n",
       "      <td>tlg0031d</td>\n",
       "      <td>tlg0031.tlg020</td>\n",
       "      <td>tlg0031.tlg020.perseus-grc2.xml</td>\n",
       "      <td>None</td>\n",
       "      <td>New Testament - James</td>\n",
       "      <td>\\n\\n                    ΙΑΚΩΒΟΣ θεοῦ καὶ κυρίο...</td>\n",
       "      <td>1734</td>\n",
       "      <td>perseus</td>\n",
       "      <td>[[Ἰάκωβος, θεός, κύριος, Ἰησοῦς, Χριστός, δοῦλ...</td>\n",
       "      <td>morphgnt</td>\n",
       "      <td>A.D. 1</td>\n",
       "      <td>1.0</td>\n",
       "      <td>100.0</td>\n",
       "      <td>False</td>\n",
       "      <td>[]</td>\n",
       "      <td>christian</td>\n",
       "      <td>894</td>\n",
       "    </tr>\n",
       "    <tr>\n",
       "      <th>1545</th>\n",
       "      <td>tlg0031e</td>\n",
       "      <td>tlg0031.tlg021</td>\n",
       "      <td>tlg0031.tlg021.perseus-grc2.xml</td>\n",
       "      <td>None</td>\n",
       "      <td>New Testament - 1 Peter</td>\n",
       "      <td>\\n\\n                    ΠΕΤΡΟΣ ἀπόστολος Ἰησοῦ...</td>\n",
       "      <td>1668</td>\n",
       "      <td>perseus</td>\n",
       "      <td>[[Πέτρος, ἀπόστολος, Ἰησοῦς, Χριστός, ἐκλεκτός...</td>\n",
       "      <td>morphgnt</td>\n",
       "      <td>A.D. 1</td>\n",
       "      <td>1.0</td>\n",
       "      <td>100.0</td>\n",
       "      <td>False</td>\n",
       "      <td>[]</td>\n",
       "      <td>christian</td>\n",
       "      <td>872</td>\n",
       "    </tr>\n",
       "    <tr>\n",
       "      <th>1546</th>\n",
       "      <td>tlg0031f</td>\n",
       "      <td>tlg0031.tlg022</td>\n",
       "      <td>tlg0031.tlg022.perseus-grc2.xml</td>\n",
       "      <td>None</td>\n",
       "      <td>New Testament - 2 Peter</td>\n",
       "      <td>\\n\\n                    ΣΙΜΩΝ ΠΕΤΡΟΣ δοῦλος κα...</td>\n",
       "      <td>1095</td>\n",
       "      <td>perseus</td>\n",
       "      <td>[[Συμεών, Πέτρος, δοῦλος, ἀπόστολος, Ἰησοῦς, Χ...</td>\n",
       "      <td>morphgnt</td>\n",
       "      <td>A.D. 1</td>\n",
       "      <td>1.0</td>\n",
       "      <td>100.0</td>\n",
       "      <td>False</td>\n",
       "      <td>[]</td>\n",
       "      <td>christian</td>\n",
       "      <td>589</td>\n",
       "    </tr>\n",
       "    <tr>\n",
       "      <th>1547</th>\n",
       "      <td>tlg0031john</td>\n",
       "      <td>tlg0031.tlg023</td>\n",
       "      <td>tlg0031.tlg023.perseus-grc2.xml</td>\n",
       "      <td>Johnannine literature</td>\n",
       "      <td>New Testament - 1 John</td>\n",
       "      <td>\\n\\n                    Ο ΗΝ ΑΠʼ ΑΡΧΗΣ, ὃ ἀκηκ...</td>\n",
       "      <td>2135</td>\n",
       "      <td>perseus</td>\n",
       "      <td>[[εἰμί, ἀρχή, ἀκούω, ὁράω, ὀφθαλμός, θεάομαι, ...</td>\n",
       "      <td>morphgnt</td>\n",
       "      <td>A.D. 1</td>\n",
       "      <td>1.0</td>\n",
       "      <td>100.0</td>\n",
       "      <td>False</td>\n",
       "      <td>[]</td>\n",
       "      <td>christian</td>\n",
       "      <td>924</td>\n",
       "    </tr>\n",
       "    <tr>\n",
       "      <th>1548</th>\n",
       "      <td>tlg0031john</td>\n",
       "      <td>tlg0031.tlg024</td>\n",
       "      <td>tlg0031.tlg024.perseus-grc2.xml</td>\n",
       "      <td>Johnannine literature</td>\n",
       "      <td>New Testament - 2 John</td>\n",
       "      <td>\\n\\n                    Ο ΠΡΕΣΒΥΤΕΡΟΣ ἐκλεκτῇ ...</td>\n",
       "      <td>245</td>\n",
       "      <td>perseus</td>\n",
       "      <td>[[πρεσβύτερος, ἐκλεκτός, κυρία, τέκνον, ἀγαπάω...</td>\n",
       "      <td>morphgnt</td>\n",
       "      <td>A.D. 1</td>\n",
       "      <td>1.0</td>\n",
       "      <td>100.0</td>\n",
       "      <td>False</td>\n",
       "      <td>[]</td>\n",
       "      <td>christian</td>\n",
       "      <td>111</td>\n",
       "    </tr>\n",
       "    <tr>\n",
       "      <th>1549</th>\n",
       "      <td>tlg0031john</td>\n",
       "      <td>tlg0031.tlg025</td>\n",
       "      <td>tlg0031.tlg025.perseus-grc2.xml</td>\n",
       "      <td>Johnannine literature</td>\n",
       "      <td>New Testament - 3 John</td>\n",
       "      <td>\\n\\n                    Ο ΠΡΕΣΒΥΤΕΡΟΣ Γαίῳ τῷ ...</td>\n",
       "      <td>219</td>\n",
       "      <td>perseus</td>\n",
       "      <td>[[πρεσβύτερος, Γάϊος, ἀγαπητός, ἀγαπάω, ἀλήθει...</td>\n",
       "      <td>morphgnt</td>\n",
       "      <td>A.D. 1</td>\n",
       "      <td>1.0</td>\n",
       "      <td>100.0</td>\n",
       "      <td>False</td>\n",
       "      <td>[]</td>\n",
       "      <td>christian</td>\n",
       "      <td>105</td>\n",
       "    </tr>\n",
       "    <tr>\n",
       "      <th>1550</th>\n",
       "      <td>tlg0031g</td>\n",
       "      <td>tlg0031.tlg026</td>\n",
       "      <td>tlg0031.tlg026.perseus-grc2.xml</td>\n",
       "      <td>None</td>\n",
       "      <td>New Testament - Jude</td>\n",
       "      <td>\\n\\n                    ΙΟΥΔΑΣ Ἰησοῦ Χριστοῦ δ...</td>\n",
       "      <td>456</td>\n",
       "      <td>perseus</td>\n",
       "      <td>[[Ἰούδας, Ἰησοῦς, Χριστός, δοῦλος, ἀδελφός, Ἰά...</td>\n",
       "      <td>morphgnt</td>\n",
       "      <td>A.D. 1</td>\n",
       "      <td>1.0</td>\n",
       "      <td>100.0</td>\n",
       "      <td>False</td>\n",
       "      <td>[]</td>\n",
       "      <td>christian</td>\n",
       "      <td>254</td>\n",
       "    </tr>\n",
       "    <tr>\n",
       "      <th>1551</th>\n",
       "      <td>tlg0031h</td>\n",
       "      <td>tlg0031.tlg027</td>\n",
       "      <td>tlg0031.tlg027.perseus-grc2.xml</td>\n",
       "      <td>None</td>\n",
       "      <td>New Testament - Revelation</td>\n",
       "      <td>\\n\\n                    ΑΠΟΚΑΛΥΨΙΣ ΙΗΣΟΥ ΧΡΙΣΤ...</td>\n",
       "      <td>9857</td>\n",
       "      <td>perseus</td>\n",
       "      <td>[[ἀποκάλυψις, Ἰησοῦς, Χριστός, δίδωμι, θεός, δ...</td>\n",
       "      <td>morphgnt</td>\n",
       "      <td>A.D. 1</td>\n",
       "      <td>1.0</td>\n",
       "      <td>100.0</td>\n",
       "      <td>False</td>\n",
       "      <td>[]</td>\n",
       "      <td>christian</td>\n",
       "      <td>4731</td>\n",
       "    </tr>\n",
       "  </tbody>\n",
       "</table>\n",
       "</div>"
      ]
     },
     "execution_count": 20,
     "metadata": {},
     "output_type": "execute_result"
    }
   ],
   "execution_count": 20
  },
  {
   "cell_type": "code",
   "source": [
    "# extract a list of all lemmatized words from all lemmatized sentences\n",
    "wordlist = [w for sent in [sent for work in LAGT[\"lemmatized_sentences\"] for sent in work] for w in sent]\n",
    "# count all instances of the word θεός\n",
    "wordlist.count(\"θεός\")"
   ],
   "metadata": {
    "collapsed": false,
    "ExecuteTime": {
     "end_time": "2024-02-06T13:02:41.430589Z",
     "start_time": "2024-02-06T13:02:40.284494Z"
    }
   },
   "outputs": [
    {
     "data": {
      "text/plain": [
       "60033"
      ]
     },
     "execution_count": 21,
     "metadata": {},
     "output_type": "execute_result"
    }
   ],
   "execution_count": 21
  },
  {
   "cell_type": "code",
   "source": [
    "# filter for texts from the fifth and fourth c. BCE\n",
    "len(LAGT[(LAGT[\"not_before\"].between(-500,-301)) | (LAGT[\"not_before\"].between(-500,-301))])"
   ],
   "metadata": {
    "collapsed": false,
    "ExecuteTime": {
     "end_time": "2024-02-06T13:02:44.858532Z",
     "start_time": "2024-02-06T13:02:44.853870Z"
    }
   },
   "outputs": [
    {
     "data": {
      "text/plain": [
       "443"
      ]
     },
     "execution_count": 22,
     "metadata": {},
     "output_type": "execute_result"
    }
   ],
   "execution_count": 22
  },
  {
   "cell_type": "code",
   "source": [
    "# index for aristotle's nicomachean ethics\n",
    "i = LAGT[LAGT[\"doc_id\"]==\"tlg0086.tlg010\"].index[0]\n",
    "LAGT.loc[i]"
   ],
   "metadata": {
    "collapsed": false,
    "ExecuteTime": {
     "end_time": "2024-02-06T13:02:50.137688Z",
     "start_time": "2024-02-06T13:02:50.126022Z"
    }
   },
   "outputs": [
    {
     "data": {
      "text/plain": [
       "author_id                                                         tlg0086\n",
       "doc_id                                                     tlg0086.tlg010\n",
       "filename                                  tlg0086.tlg010.perseus-grc1.xml\n",
       "author                                                          Aristotle\n",
       "title                                                  Nicomachean Ethics\n",
       "string                  πᾶσα τέχνη καὶ πᾶσα μέθοδος, ὁμοίως δὲ πρᾶξίς ...\n",
       "wordcount                                                           56630\n",
       "source                                                            perseus\n",
       "lemmatized_sentences    [[πᾶς, τέχνη, πᾶς, μέθοδος, πρᾶξις, προαίρεσις...\n",
       "lemmata_source                                                      glaux\n",
       "tlg_date                                                           4 B.C.\n",
       "not_before                                                         -400.0\n",
       "not_after                                                          -301.0\n",
       "date_uncertain                                                      False\n",
       "tlg_epithet                                            [Philosophici/-ae]\n",
       "provenience                                                         pagan\n",
       "lemmatacount                                                        26609\n",
       "Name: 1736, dtype: object"
      ]
     },
     "execution_count": 23,
     "metadata": {},
     "output_type": "execute_result"
    }
   ],
   "execution_count": 23
  },
  {
   "cell_type": "markdown",
   "source": [
    "# Explore overall vocabulary"
   ],
   "metadata": {
    "collapsed": false
   }
  },
  {
   "cell_type": "code",
   "source": [
    "sents = [sent for work in LAGT[\"lemmatized_sentences\"] for sent in work]"
   ],
   "metadata": {
    "collapsed": false,
    "ExecuteTime": {
     "end_time": "2024-02-06T13:02:55.115192Z",
     "start_time": "2024-02-06T13:02:55.074232Z"
    }
   },
   "outputs": [],
   "execution_count": 24
  },
  {
   "cell_type": "code",
   "source": [
    "len(sents)"
   ],
   "metadata": {
    "collapsed": false,
    "ExecuteTime": {
     "end_time": "2024-02-06T13:02:55.407892Z",
     "start_time": "2024-02-06T13:02:55.404935Z"
    }
   },
   "outputs": [
    {
     "data": {
      "text/plain": [
       "2136459"
      ]
     },
     "execution_count": 25,
     "metadata": {},
     "output_type": "execute_result"
    }
   ],
   "execution_count": 25
  },
  {
   "cell_type": "code",
   "source": [
    "min_freq = 10\n",
    "\n",
    "def get_vocab(docs, min_freq=min_freq):\n",
    "    words_flat = [item for sublist in docs for item in sublist]\n",
    "    word_freq_tups = FreqDist(words_flat).most_common()\n",
    "    vocabulary = [tup[0] for tup in word_freq_tups if tup[1] >= min_freq]\n",
    "    #vocab_freqs = [len([doc for doc in docs if word in doc]) for word in vocabulary]\n",
    "    return word_freq_tups, words_flat, vocabulary"
   ],
   "metadata": {
    "collapsed": false,
    "ExecuteTime": {
     "end_time": "2024-02-06T13:02:57.598677Z",
     "start_time": "2024-02-06T13:02:57.596511Z"
    }
   },
   "outputs": [],
   "execution_count": 26
  },
  {
   "cell_type": "code",
   "source": [
    "word_freqs, words, vocabulary = get_vocab(sents)"
   ],
   "metadata": {
    "collapsed": false,
    "ExecuteTime": {
     "end_time": "2024-02-06T13:03:02.679484Z",
     "start_time": "2024-02-06T13:02:57.831525Z"
    }
   },
   "outputs": [],
   "execution_count": 27
  },
  {
   "cell_type": "code",
   "source": [
    "pd.DataFrame(word_freqs[:20], columns=[\"lemma\", \"count\"])"
   ],
   "metadata": {
    "collapsed": false,
    "ExecuteTime": {
     "end_time": "2024-02-06T13:03:02.688907Z",
     "start_time": "2024-02-06T13:03:02.682102Z"
    }
   },
   "outputs": [
    {
     "data": {
      "text/plain": [
       "       lemma   count\n",
       "0      οὗτος  329550\n",
       "1       λέγω  239805\n",
       "2       εἰμί  228068\n",
       "3      αὐτός  213863\n",
       "4   γίγνομαι  157466\n",
       "5        ἔχω  146946\n",
       "6      πολύς  121226\n",
       "7        πᾶς  104593\n",
       "8       φημί   99994\n",
       "9      ἄλλος   96970\n",
       "10       τις   92023\n",
       "11     ποιέω   86846\n",
       "12     λόγος   83083\n",
       "13       τίς   77316\n",
       "14      θεός   60033\n",
       "15     μέγας   55331\n",
       "16   ἐκεῖνος   53610\n",
       "17  ἄνθρωπος   53354\n",
       "18    πρῶτος   50717\n",
       "19    ἕτερος   47254"
      ],
      "text/html": [
       "<div>\n",
       "<style scoped>\n",
       "    .dataframe tbody tr th:only-of-type {\n",
       "        vertical-align: middle;\n",
       "    }\n",
       "\n",
       "    .dataframe tbody tr th {\n",
       "        vertical-align: top;\n",
       "    }\n",
       "\n",
       "    .dataframe thead th {\n",
       "        text-align: right;\n",
       "    }\n",
       "</style>\n",
       "<table border=\"1\" class=\"dataframe\">\n",
       "  <thead>\n",
       "    <tr style=\"text-align: right;\">\n",
       "      <th></th>\n",
       "      <th>lemma</th>\n",
       "      <th>count</th>\n",
       "    </tr>\n",
       "  </thead>\n",
       "  <tbody>\n",
       "    <tr>\n",
       "      <th>0</th>\n",
       "      <td>οὗτος</td>\n",
       "      <td>329550</td>\n",
       "    </tr>\n",
       "    <tr>\n",
       "      <th>1</th>\n",
       "      <td>λέγω</td>\n",
       "      <td>239805</td>\n",
       "    </tr>\n",
       "    <tr>\n",
       "      <th>2</th>\n",
       "      <td>εἰμί</td>\n",
       "      <td>228068</td>\n",
       "    </tr>\n",
       "    <tr>\n",
       "      <th>3</th>\n",
       "      <td>αὐτός</td>\n",
       "      <td>213863</td>\n",
       "    </tr>\n",
       "    <tr>\n",
       "      <th>4</th>\n",
       "      <td>γίγνομαι</td>\n",
       "      <td>157466</td>\n",
       "    </tr>\n",
       "    <tr>\n",
       "      <th>5</th>\n",
       "      <td>ἔχω</td>\n",
       "      <td>146946</td>\n",
       "    </tr>\n",
       "    <tr>\n",
       "      <th>6</th>\n",
       "      <td>πολύς</td>\n",
       "      <td>121226</td>\n",
       "    </tr>\n",
       "    <tr>\n",
       "      <th>7</th>\n",
       "      <td>πᾶς</td>\n",
       "      <td>104593</td>\n",
       "    </tr>\n",
       "    <tr>\n",
       "      <th>8</th>\n",
       "      <td>φημί</td>\n",
       "      <td>99994</td>\n",
       "    </tr>\n",
       "    <tr>\n",
       "      <th>9</th>\n",
       "      <td>ἄλλος</td>\n",
       "      <td>96970</td>\n",
       "    </tr>\n",
       "    <tr>\n",
       "      <th>10</th>\n",
       "      <td>τις</td>\n",
       "      <td>92023</td>\n",
       "    </tr>\n",
       "    <tr>\n",
       "      <th>11</th>\n",
       "      <td>ποιέω</td>\n",
       "      <td>86846</td>\n",
       "    </tr>\n",
       "    <tr>\n",
       "      <th>12</th>\n",
       "      <td>λόγος</td>\n",
       "      <td>83083</td>\n",
       "    </tr>\n",
       "    <tr>\n",
       "      <th>13</th>\n",
       "      <td>τίς</td>\n",
       "      <td>77316</td>\n",
       "    </tr>\n",
       "    <tr>\n",
       "      <th>14</th>\n",
       "      <td>θεός</td>\n",
       "      <td>60033</td>\n",
       "    </tr>\n",
       "    <tr>\n",
       "      <th>15</th>\n",
       "      <td>μέγας</td>\n",
       "      <td>55331</td>\n",
       "    </tr>\n",
       "    <tr>\n",
       "      <th>16</th>\n",
       "      <td>ἐκεῖνος</td>\n",
       "      <td>53610</td>\n",
       "    </tr>\n",
       "    <tr>\n",
       "      <th>17</th>\n",
       "      <td>ἄνθρωπος</td>\n",
       "      <td>53354</td>\n",
       "    </tr>\n",
       "    <tr>\n",
       "      <th>18</th>\n",
       "      <td>πρῶτος</td>\n",
       "      <td>50717</td>\n",
       "    </tr>\n",
       "    <tr>\n",
       "      <th>19</th>\n",
       "      <td>ἕτερος</td>\n",
       "      <td>47254</td>\n",
       "    </tr>\n",
       "  </tbody>\n",
       "</table>\n",
       "</div>"
      ]
     },
     "execution_count": 28,
     "metadata": {},
     "output_type": "execute_result"
    }
   ],
   "execution_count": 28
  },
  {
   "cell_type": "markdown",
   "source": [
    "# Generate ngrams"
   ],
   "metadata": {
    "collapsed": false
   }
  },
  {
   "cell_type": "code",
   "source": [
    "doc_ids = LAGT[\"doc_id\"].tolist()\n",
    "len(doc_ids)"
   ],
   "metadata": {
    "collapsed": false,
    "ExecuteTime": {
     "end_time": "2024-02-06T13:03:02.695317Z",
     "start_time": "2024-02-06T13:03:02.690302Z"
    }
   },
   "outputs": [
    {
     "data": {
      "text/plain": [
       "1710"
      ]
     },
     "execution_count": 29,
     "metadata": {},
     "output_type": "execute_result"
    }
   ],
   "execution_count": 29
  },
  {
   "cell_type": "code",
   "source": [
    "#!mkdir ../data/large_data"
   ],
   "metadata": {
    "collapsed": false,
    "ExecuteTime": {
     "end_time": "2024-02-06T13:03:02.701805Z",
     "start_time": "2024-02-06T13:03:02.698703Z"
    }
   },
   "outputs": [],
   "execution_count": 30
  },
  {
   "cell_type": "code",
   "source": [
    "line = 0\n",
    "ids_lines = {}\n",
    "\n",
    "f = open(\"../data/large_data/corpus_ngrams_bydocid_wide.txt\", \"w\", encoding=\"utf-8\")\n",
    "for doc_id in doc_ids:\n",
    "    lagt_subset = LAGT[LAGT[\"doc_id\"]==doc_id]\n",
    "    sents = [sen for work in lagt_subset[\"lemmatized_sentences\"] for sen in work]\n",
    "    sents_trigrams = [list(el) for sublist in [[ng for ng in nltk.trigrams(sent)] for sent in sents] for el in sublist]\n",
    "    sents_fivegrams = [list(el) for sublist in [[ng for ng in nltk.ngrams(sent, n=5)] for sent in sents] for el in sublist]\n",
    "    ngrams_data = sents + sents_fivegrams # + sents_trigrams\n",
    "    ngrams_data = [\" \".join(ngram) for ngram in ngrams_data]\n",
    "    f.writelines(\"\\n\".join(ngrams_data)+\"\\n\")\n",
    "    if bool(ngrams_data):\n",
    "        ids_lines[doc_id] = (line, line+len(ngrams_data))\n",
    "        line += len(ngrams_data)\n",
    "    else:\n",
    "        ids_lines[doc_id] = (line, line+1)\n",
    "        line += 1"
   ],
   "metadata": {
    "collapsed": false,
    "ExecuteTime": {
     "end_time": "2024-02-06T13:04:16.835471Z",
     "start_time": "2024-02-06T13:03:02.703305Z"
    }
   },
   "outputs": [],
   "execution_count": 31
  },
  {
   "cell_type": "code",
   "source": [
    "pickle.dump(ids_lines, open(\"../data/ids_lines_wide.pickle\", \"wb\"))"
   ],
   "metadata": {
    "collapsed": false,
    "ExecuteTime": {
     "end_time": "2024-02-06T13:04:16.839661Z",
     "start_time": "2024-02-06T13:04:16.836094Z"
    }
   },
   "outputs": [],
   "execution_count": 32
  },
  {
   "cell_type": "markdown",
   "source": [
    "# Ngram example"
   ],
   "metadata": {
    "collapsed": false
   }
  },
  {
   "cell_type": "code",
   "source": [
    "# index for aristotle's nicomachean ethics\n",
    "i = LAGT[LAGT[\"doc_id\"]==\"tlg0086.tlg010\"].index[0]"
   ],
   "metadata": {
    "collapsed": false,
    "ExecuteTime": {
     "end_time": "2024-02-06T13:04:16.842794Z",
     "start_time": "2024-02-06T13:04:16.840857Z"
    }
   },
   "outputs": [],
   "execution_count": 33
  },
  {
   "cell_type": "code",
   "source": [
    "i"
   ],
   "metadata": {
    "collapsed": false,
    "ExecuteTime": {
     "end_time": "2024-02-06T13:04:16.845267Z",
     "start_time": "2024-02-06T13:04:16.843409Z"
    }
   },
   "outputs": [
    {
     "data": {
      "text/plain": [
       "'1736'"
      ]
     },
     "execution_count": 34,
     "metadata": {},
     "output_type": "execute_result"
    }
   ],
   "execution_count": 34
  },
  {
   "cell_type": "code",
   "source": [
    "LAGT.loc[i][\"string\"].split(\"·\")[0]"
   ],
   "metadata": {
    "collapsed": false,
    "ExecuteTime": {
     "end_time": "2024-02-06T13:04:16.848200Z",
     "start_time": "2024-02-06T13:04:16.845843Z"
    }
   },
   "outputs": [
    {
     "data": {
      "text/plain": [
       "'πᾶσα τέχνη καὶ πᾶσα μέθοδος, ὁμοίως δὲ πρᾶξίς τε καὶ προαίρεσις, ἀγαθοῦ τινὸς ἐφίεσθαι δοκεῖ'"
      ]
     },
     "execution_count": 35,
     "metadata": {},
     "output_type": "execute_result"
    }
   ],
   "execution_count": 35
  },
  {
   "cell_type": "code",
   "source": [
    "sent = LAGT.loc[i][\"lemmatized_sentences\"][0]\n",
    "print(sent)"
   ],
   "metadata": {
    "collapsed": false,
    "ExecuteTime": {
     "end_time": "2024-02-06T13:04:16.850803Z",
     "start_time": "2024-02-06T13:04:16.848846Z"
    }
   },
   "outputs": [
    {
     "name": "stdout",
     "output_type": "stream",
     "text": [
      "['πᾶς' 'τέχνη' 'πᾶς' 'μέθοδος' 'πρᾶξις' 'προαίρεσις' 'ἀγαθός' 'τις'\n",
      " 'ἐφίημι' 'δοκέω']\n"
     ]
    }
   ],
   "execution_count": 36
  },
  {
   "cell_type": "code",
   "source": [
    "trigrams = [list(ng) for ng in nltk.trigrams(sent)]\n",
    "fivegrams = [list(ng) for ng in nltk.ngrams(sent, n=5)]\n",
    "print([sent] + trigrams + fivegrams)"
   ],
   "metadata": {
    "collapsed": false,
    "ExecuteTime": {
     "end_time": "2024-02-06T13:04:16.853440Z",
     "start_time": "2024-02-06T13:04:16.851396Z"
    }
   },
   "outputs": [
    {
     "name": "stdout",
     "output_type": "stream",
     "text": [
      "[array(['πᾶς', 'τέχνη', 'πᾶς', 'μέθοδος', 'πρᾶξις', 'προαίρεσις', 'ἀγαθός',\n",
      "       'τις', 'ἐφίημι', 'δοκέω'], dtype=object), ['πᾶς', 'τέχνη', 'πᾶς'], ['τέχνη', 'πᾶς', 'μέθοδος'], ['πᾶς', 'μέθοδος', 'πρᾶξις'], ['μέθοδος', 'πρᾶξις', 'προαίρεσις'], ['πρᾶξις', 'προαίρεσις', 'ἀγαθός'], ['προαίρεσις', 'ἀγαθός', 'τις'], ['ἀγαθός', 'τις', 'ἐφίημι'], ['τις', 'ἐφίημι', 'δοκέω'], ['πᾶς', 'τέχνη', 'πᾶς', 'μέθοδος', 'πρᾶξις'], ['τέχνη', 'πᾶς', 'μέθοδος', 'πρᾶξις', 'προαίρεσις'], ['πᾶς', 'μέθοδος', 'πρᾶξις', 'προαίρεσις', 'ἀγαθός'], ['μέθοδος', 'πρᾶξις', 'προαίρεσις', 'ἀγαθός', 'τις'], ['πρᾶξις', 'προαίρεσις', 'ἀγαθός', 'τις', 'ἐφίημι'], ['προαίρεσις', 'ἀγαθός', 'τις', 'ἐφίημι', 'δοκέω']]\n"
     ]
    }
   ],
   "execution_count": 37
  },
  {
   "cell_type": "markdown",
   "source": [
    "# Exploring subcorpora"
   ],
   "metadata": {
    "collapsed": false
   }
  },
  {
   "cell_type": "code",
   "source": [
    "periods = {\n",
    "    \"archaic\" : (-800, -501),\n",
    "    \"classical\" : (-500,-301),\n",
    "    \"hellenistic\" : (-300,-1),\n",
    "    \"roman_peak\" : (1, 200),\n",
    "    \"roman_late\" : (201, 400)\n",
    "}   \n",
    "\n",
    "def get_periods(row):\n",
    "    not_before = row[\"not_before\"]\n",
    "    not_after = row[\"not_after\"]\n",
    "    periods_covered = []\n",
    "    try:\n",
    "        for period_key in periods.keys():\n",
    "            period = periods[period_key]\n",
    "            if period[1] >= not_before and not_after >= period[0]:\n",
    "                periods_covered.append(period_key)\n",
    "    except:\n",
    "        pass\n",
    "    return periods_covered"
   ],
   "metadata": {
    "collapsed": false,
    "ExecuteTime": {
     "end_time": "2024-02-06T13:04:16.857723Z",
     "start_time": "2024-02-06T13:04:16.854001Z"
    }
   },
   "outputs": [],
   "execution_count": 38
  },
  {
   "cell_type": "code",
   "source": [
    "LAGT[\"periods\"] = LAGT.apply(get_periods, axis=1)"
   ],
   "metadata": {
    "collapsed": false,
    "ExecuteTime": {
     "end_time": "2024-02-06T13:04:16.867673Z",
     "start_time": "2024-02-06T13:04:16.858410Z"
    }
   },
   "outputs": [],
   "execution_count": 39
  },
  {
   "metadata": {},
   "cell_type": "markdown",
   "source": [
    "# Subcorpora IDs\n",
    "\n",
    "\n"
   ]
  },
  {
   "metadata": {
    "ExecuteTime": {
     "end_time": "2024-02-06T13:08:52.044188Z",
     "start_time": "2024-02-06T13:08:52.035194Z"
    }
   },
   "cell_type": "code",
   "source": [
    "subcorpora_ids_dict = {}\n",
    "\n",
    "periods = [\"archaic\", \"classical\", \"hellenistic\", \"roman_peak\", \"roman_late\"]\n",
    "for per in periods:\n",
    "    prov = \"pagan\"\n",
    "    LAGT_subset = LAGT[(LAGT[\"periods\"].apply(lambda x: per in x)) & (LAGT[\"provenience\"]==prov)]\n",
    "    ids = list(LAGT_subset[\"doc_id\"])\n",
    "    subcorpora_ids_dict[prov + \"_\" + per] = ids\n",
    "\n",
    "for per in [\"roman_peak\", \"roman_late\"]:\n",
    "    prov = \"christian\"\n",
    "    LAGT_subset = LAGT[(LAGT[\"periods\"].apply(lambda x: per in x)) & (LAGT[\"provenience\"]==prov)]\n",
    "    ids = list(LAGT_subset[\"doc_id\"])\n",
    "    subcorpora_ids_dict[prov + \"_\" + per] = ids\n",
    "\n",
    "prov = \"jewish\"\n",
    "LAGT_subset = LAGT[(LAGT[\"provenience\"]==prov)]\n",
    "ids = list(LAGT_subset[\"doc_id\"])\n",
    "subcorpora_ids_dict[\"jewish\"] = ids\n",
    "\n",
    "subcorpora_ids_dict.keys()"
   ],
   "outputs": [
    {
     "data": {
      "text/plain": [
       "dict_keys(['pagan_archaic', 'pagan_classical', 'pagan_hellenistic', 'pagan_roman_peak', 'pagan_roman_late', 'christian_roman_peak', 'christian_roman_late', 'jewish'])"
      ]
     },
     "execution_count": 50,
     "metadata": {},
     "output_type": "execute_result"
    }
   ],
   "execution_count": 50
  },
  {
   "metadata": {
    "ExecuteTime": {
     "end_time": "2024-02-06T13:08:52.616654Z",
     "start_time": "2024-02-06T13:08:52.613497Z"
    }
   },
   "cell_type": "code",
   "source": [
    "with open(\"../data/subcorpora_ids_dict.pickle\", \"wb\") as f:\n",
    "    pickle.dump(subcorpora_ids_dict, f)"
   ],
   "outputs": [],
   "execution_count": 51
  },
  {
   "cell_type": "code",
   "source": [
    "subcorpora_overview = []\n",
    "for period_key in subcorpora_ids_dict.keys():\n",
    "    LAGT_subset = LAGT[LAGT[\"doc_id\"].isin(subcorpora_ids_dict[period_key])]\n",
    "    subcorpora_overview.append(\n",
    "        {\"subcorpus\" : period_key,\n",
    "         \"works_n\" : len(LAGT_subset),\n",
    "         \"tokens_n\" : LAGT_subset[\"wordcount\"].sum(),\n",
    "         \"lemmata_n\" : LAGT_subset[\"lemmatacount\"].sum()\n",
    "         }\n",
    "    )\n",
    "subcorpora_overview_df = pd.DataFrame(subcorpora_overview)\n",
    "subcorpora_overview_df"
   ],
   "metadata": {
    "collapsed": false,
    "ExecuteTime": {
     "end_time": "2024-02-06T13:08:53.066637Z",
     "start_time": "2024-02-06T13:08:53.056433Z"
    }
   },
   "outputs": [
    {
     "data": {
      "text/plain": [
       "              subcorpus  works_n  tokens_n  lemmata_n\n",
       "0         pagan_archaic       59    338991     199023\n",
       "1       pagan_classical      454   4129342    2042961\n",
       "2     pagan_hellenistic      148   2533938    1303655\n",
       "3      pagan_roman_peak      568  10818838    4781560\n",
       "4      pagan_roman_late      206   5387750    1943412\n",
       "5  christian_roman_peak      113   2082493     869103\n",
       "6  christian_roman_late       94   3800665    1529864\n",
       "7                jewish       93   2121316     814648"
      ],
      "text/html": [
       "<div>\n",
       "<style scoped>\n",
       "    .dataframe tbody tr th:only-of-type {\n",
       "        vertical-align: middle;\n",
       "    }\n",
       "\n",
       "    .dataframe tbody tr th {\n",
       "        vertical-align: top;\n",
       "    }\n",
       "\n",
       "    .dataframe thead th {\n",
       "        text-align: right;\n",
       "    }\n",
       "</style>\n",
       "<table border=\"1\" class=\"dataframe\">\n",
       "  <thead>\n",
       "    <tr style=\"text-align: right;\">\n",
       "      <th></th>\n",
       "      <th>subcorpus</th>\n",
       "      <th>works_n</th>\n",
       "      <th>tokens_n</th>\n",
       "      <th>lemmata_n</th>\n",
       "    </tr>\n",
       "  </thead>\n",
       "  <tbody>\n",
       "    <tr>\n",
       "      <th>0</th>\n",
       "      <td>pagan_archaic</td>\n",
       "      <td>59</td>\n",
       "      <td>338991</td>\n",
       "      <td>199023</td>\n",
       "    </tr>\n",
       "    <tr>\n",
       "      <th>1</th>\n",
       "      <td>pagan_classical</td>\n",
       "      <td>454</td>\n",
       "      <td>4129342</td>\n",
       "      <td>2042961</td>\n",
       "    </tr>\n",
       "    <tr>\n",
       "      <th>2</th>\n",
       "      <td>pagan_hellenistic</td>\n",
       "      <td>148</td>\n",
       "      <td>2533938</td>\n",
       "      <td>1303655</td>\n",
       "    </tr>\n",
       "    <tr>\n",
       "      <th>3</th>\n",
       "      <td>pagan_roman_peak</td>\n",
       "      <td>568</td>\n",
       "      <td>10818838</td>\n",
       "      <td>4781560</td>\n",
       "    </tr>\n",
       "    <tr>\n",
       "      <th>4</th>\n",
       "      <td>pagan_roman_late</td>\n",
       "      <td>206</td>\n",
       "      <td>5387750</td>\n",
       "      <td>1943412</td>\n",
       "    </tr>\n",
       "    <tr>\n",
       "      <th>5</th>\n",
       "      <td>christian_roman_peak</td>\n",
       "      <td>113</td>\n",
       "      <td>2082493</td>\n",
       "      <td>869103</td>\n",
       "    </tr>\n",
       "    <tr>\n",
       "      <th>6</th>\n",
       "      <td>christian_roman_late</td>\n",
       "      <td>94</td>\n",
       "      <td>3800665</td>\n",
       "      <td>1529864</td>\n",
       "    </tr>\n",
       "    <tr>\n",
       "      <th>7</th>\n",
       "      <td>jewish</td>\n",
       "      <td>93</td>\n",
       "      <td>2121316</td>\n",
       "      <td>814648</td>\n",
       "    </tr>\n",
       "  </tbody>\n",
       "</table>\n",
       "</div>"
      ]
     },
     "execution_count": 52,
     "metadata": {},
     "output_type": "execute_result"
    }
   ],
   "execution_count": 52
  },
  {
   "metadata": {
    "ExecuteTime": {
     "end_time": "2024-02-06T13:09:41.671892Z",
     "start_time": "2024-02-06T13:09:40.003791Z"
    }
   },
   "cell_type": "code",
   "source": [
    "#google_conf.set_with_dataframe(theos_data.add_worksheet(\"subcorpora_overview\", 1,1), subcorpora_overview_df)\n",
    "#subcorpora_overview_df.to_csv(\"../data/subcorpora_overview_df.csv\", index=False)"
   ],
   "outputs": [],
   "execution_count": 54
  },
  {
   "cell_type": "markdown",
   "source": [
    "### Overview by century"
   ],
   "metadata": {
    "collapsed": false
   }
  },
  {
   "cell_type": "code",
   "source": [
    "centuries = [(str(int(n / -100)) + \"BCE\",  n, n+ 99) for n in range(-800, 0, 100)] + [(str(int(n / 100)) + \"CE\",  n - 99, n) for n in range(100, 700, 100)]\n",
    "centuries"
   ],
   "metadata": {
    "collapsed": false,
    "ExecuteTime": {
     "end_time": "2024-02-06T13:10:38.361855Z",
     "start_time": "2024-02-06T13:10:38.354726Z"
    }
   },
   "outputs": [
    {
     "data": {
      "text/plain": [
       "[('8BCE', -800, -701),\n",
       " ('7BCE', -700, -601),\n",
       " ('6BCE', -600, -501),\n",
       " ('5BCE', -500, -401),\n",
       " ('4BCE', -400, -301),\n",
       " ('3BCE', -300, -201),\n",
       " ('2BCE', -200, -101),\n",
       " ('1BCE', -100, -1),\n",
       " ('1CE', 1, 100),\n",
       " ('2CE', 101, 200),\n",
       " ('3CE', 201, 300),\n",
       " ('4CE', 301, 400),\n",
       " ('5CE', 401, 500),\n",
       " ('6CE', 501, 600)]"
      ]
     },
     "execution_count": 55,
     "metadata": {},
     "output_type": "execute_result"
    }
   ],
   "execution_count": 55
  },
  {
   "cell_type": "code",
   "source": [
    "def get_sents(row):\n",
    "    not_before = row[\"not_before\"]\n",
    "    not_after = row[\"not_after\"]\n",
    "    centuries_covered = []\n",
    "    try:\n",
    "        for cent in centuries:\n",
    "            if cent[2] >= not_before and not_after >= cent[2]:\n",
    "                centuries_covered.append(cent[0])\n",
    "    except:\n",
    "        pass\n",
    "    return centuries_covered"
   ],
   "metadata": {
    "collapsed": false,
    "ExecuteTime": {
     "end_time": "2024-02-06T13:10:39.467368Z",
     "start_time": "2024-02-06T13:10:39.463798Z"
    }
   },
   "outputs": [],
   "execution_count": 56
  },
  {
   "cell_type": "code",
   "source": [
    "LAGT[\"cents\"] = LAGT.apply(get_sents, axis=1)"
   ],
   "metadata": {
    "collapsed": false,
    "ExecuteTime": {
     "end_time": "2024-02-06T13:10:40.616830Z",
     "start_time": "2024-02-06T13:10:40.590480Z"
    }
   },
   "outputs": [],
   "execution_count": 57
  },
  {
   "cell_type": "code",
   "source": [
    "LAGT_subset = LAGT[LAGT[\"cents\"].apply(lambda x: \"8BC\" in x)]\n",
    "LAGT_subset"
   ],
   "metadata": {
    "collapsed": false,
    "ExecuteTime": {
     "end_time": "2024-02-06T13:10:40.887836Z",
     "start_time": "2024-02-06T13:10:40.881689Z"
    }
   },
   "outputs": [
    {
     "data": {
      "text/plain": [
       "Empty DataFrame\n",
       "Columns: [author_id, doc_id, filename, author, title, string, wordcount, source, lemmatized_sentences, lemmata_source, tlg_date, not_before, not_after, date_uncertain, tlg_epithet, provenience, lemmatacount, periods, cents]\n",
       "Index: []"
      ],
      "text/html": [
       "<div>\n",
       "<style scoped>\n",
       "    .dataframe tbody tr th:only-of-type {\n",
       "        vertical-align: middle;\n",
       "    }\n",
       "\n",
       "    .dataframe tbody tr th {\n",
       "        vertical-align: top;\n",
       "    }\n",
       "\n",
       "    .dataframe thead th {\n",
       "        text-align: right;\n",
       "    }\n",
       "</style>\n",
       "<table border=\"1\" class=\"dataframe\">\n",
       "  <thead>\n",
       "    <tr style=\"text-align: right;\">\n",
       "      <th></th>\n",
       "      <th>author_id</th>\n",
       "      <th>doc_id</th>\n",
       "      <th>filename</th>\n",
       "      <th>author</th>\n",
       "      <th>title</th>\n",
       "      <th>string</th>\n",
       "      <th>wordcount</th>\n",
       "      <th>source</th>\n",
       "      <th>lemmatized_sentences</th>\n",
       "      <th>lemmata_source</th>\n",
       "      <th>tlg_date</th>\n",
       "      <th>not_before</th>\n",
       "      <th>not_after</th>\n",
       "      <th>date_uncertain</th>\n",
       "      <th>tlg_epithet</th>\n",
       "      <th>provenience</th>\n",
       "      <th>lemmatacount</th>\n",
       "      <th>periods</th>\n",
       "      <th>cents</th>\n",
       "    </tr>\n",
       "  </thead>\n",
       "  <tbody>\n",
       "  </tbody>\n",
       "</table>\n",
       "</div>"
      ]
     },
     "execution_count": 58,
     "metadata": {},
     "output_type": "execute_result"
    }
   ],
   "execution_count": 58
  },
  {
   "cell_type": "code",
   "source": [
    "centuries_overview = []\n",
    "for cent in centuries:\n",
    "    LAGT_subset = LAGT[LAGT[\"cents\"].apply(lambda x: cent[0] in x)]\n",
    "    centuries_overview.append(\n",
    "        {\"period\" : cent[0],\n",
    "         \"works_n\" : len(LAGT_subset),\n",
    "         \"tokens_n\" : LAGT_subset[\"wordcount\"].sum(),\n",
    "         \"lemmata_n\" : LAGT_subset[\"lemmatacount\"].sum()\n",
    "         }\n",
    "    )\n",
    "centuries_overview_df = pd.DataFrame(centuries_overview)\n",
    "centuries_overview_df"
   ],
   "metadata": {
    "collapsed": false,
    "ExecuteTime": {
     "end_time": "2024-02-06T13:10:41.377010Z",
     "start_time": "2024-02-06T13:10:41.364425Z"
    }
   },
   "outputs": [
    {
     "data": {
      "text/plain": [
       "   period  works_n  tokens_n  lemmata_n\n",
       "0    8BCE       32    217857     128090\n",
       "1    7BCE       34     27577      17388\n",
       "2    6BCE       26    120990      70844\n",
       "3    5BCE      267   2278052    1215315\n",
       "4    4BCE      396   3443233    1658049\n",
       "5    3BCE      154   2239139     820992\n",
       "6    2BCE       83   1500282     531350\n",
       "7    1BCE       75   1851259     998387\n",
       "8     1CE      301   4368778    2059362\n",
       "9     2CE      643  11804027    5170779\n",
       "10    3CE      159   5325882    2102437\n",
       "11    4CE      207   4340683    1569500\n",
       "12    5CE       37   1967096     813036\n",
       "13    6CE       33   3736438    1339984"
      ],
      "text/html": [
       "<div>\n",
       "<style scoped>\n",
       "    .dataframe tbody tr th:only-of-type {\n",
       "        vertical-align: middle;\n",
       "    }\n",
       "\n",
       "    .dataframe tbody tr th {\n",
       "        vertical-align: top;\n",
       "    }\n",
       "\n",
       "    .dataframe thead th {\n",
       "        text-align: right;\n",
       "    }\n",
       "</style>\n",
       "<table border=\"1\" class=\"dataframe\">\n",
       "  <thead>\n",
       "    <tr style=\"text-align: right;\">\n",
       "      <th></th>\n",
       "      <th>period</th>\n",
       "      <th>works_n</th>\n",
       "      <th>tokens_n</th>\n",
       "      <th>lemmata_n</th>\n",
       "    </tr>\n",
       "  </thead>\n",
       "  <tbody>\n",
       "    <tr>\n",
       "      <th>0</th>\n",
       "      <td>8BCE</td>\n",
       "      <td>32</td>\n",
       "      <td>217857</td>\n",
       "      <td>128090</td>\n",
       "    </tr>\n",
       "    <tr>\n",
       "      <th>1</th>\n",
       "      <td>7BCE</td>\n",
       "      <td>34</td>\n",
       "      <td>27577</td>\n",
       "      <td>17388</td>\n",
       "    </tr>\n",
       "    <tr>\n",
       "      <th>2</th>\n",
       "      <td>6BCE</td>\n",
       "      <td>26</td>\n",
       "      <td>120990</td>\n",
       "      <td>70844</td>\n",
       "    </tr>\n",
       "    <tr>\n",
       "      <th>3</th>\n",
       "      <td>5BCE</td>\n",
       "      <td>267</td>\n",
       "      <td>2278052</td>\n",
       "      <td>1215315</td>\n",
       "    </tr>\n",
       "    <tr>\n",
       "      <th>4</th>\n",
       "      <td>4BCE</td>\n",
       "      <td>396</td>\n",
       "      <td>3443233</td>\n",
       "      <td>1658049</td>\n",
       "    </tr>\n",
       "    <tr>\n",
       "      <th>5</th>\n",
       "      <td>3BCE</td>\n",
       "      <td>154</td>\n",
       "      <td>2239139</td>\n",
       "      <td>820992</td>\n",
       "    </tr>\n",
       "    <tr>\n",
       "      <th>6</th>\n",
       "      <td>2BCE</td>\n",
       "      <td>83</td>\n",
       "      <td>1500282</td>\n",
       "      <td>531350</td>\n",
       "    </tr>\n",
       "    <tr>\n",
       "      <th>7</th>\n",
       "      <td>1BCE</td>\n",
       "      <td>75</td>\n",
       "      <td>1851259</td>\n",
       "      <td>998387</td>\n",
       "    </tr>\n",
       "    <tr>\n",
       "      <th>8</th>\n",
       "      <td>1CE</td>\n",
       "      <td>301</td>\n",
       "      <td>4368778</td>\n",
       "      <td>2059362</td>\n",
       "    </tr>\n",
       "    <tr>\n",
       "      <th>9</th>\n",
       "      <td>2CE</td>\n",
       "      <td>643</td>\n",
       "      <td>11804027</td>\n",
       "      <td>5170779</td>\n",
       "    </tr>\n",
       "    <tr>\n",
       "      <th>10</th>\n",
       "      <td>3CE</td>\n",
       "      <td>159</td>\n",
       "      <td>5325882</td>\n",
       "      <td>2102437</td>\n",
       "    </tr>\n",
       "    <tr>\n",
       "      <th>11</th>\n",
       "      <td>4CE</td>\n",
       "      <td>207</td>\n",
       "      <td>4340683</td>\n",
       "      <td>1569500</td>\n",
       "    </tr>\n",
       "    <tr>\n",
       "      <th>12</th>\n",
       "      <td>5CE</td>\n",
       "      <td>37</td>\n",
       "      <td>1967096</td>\n",
       "      <td>813036</td>\n",
       "    </tr>\n",
       "    <tr>\n",
       "      <th>13</th>\n",
       "      <td>6CE</td>\n",
       "      <td>33</td>\n",
       "      <td>3736438</td>\n",
       "      <td>1339984</td>\n",
       "    </tr>\n",
       "  </tbody>\n",
       "</table>\n",
       "</div>"
      ]
     },
     "execution_count": 59,
     "metadata": {},
     "output_type": "execute_result"
    }
   ],
   "execution_count": 59
  },
  {
   "metadata": {
    "ExecuteTime": {
     "end_time": "2024-02-06T13:10:42.136310Z",
     "start_time": "2024-02-06T13:10:42.108347Z"
    }
   },
   "cell_type": "code",
   "source": [
    "centuries_overview = []\n",
    "for cent in centuries:\n",
    "    century_data = {}\n",
    "    century_data[\"cent\"] = cent\n",
    "    for provenvience in [\"pagan\", \"christian\", \"jewish\"]:\n",
    "        LAGT_subset = LAGT[(LAGT[\"cents\"].apply(lambda x: cent[0] in x)) & (LAGT[\"provenience\"]==provenvience)]\n",
    "        century_data[provenvience + \"_tokens_n\"] = LAGT_subset[\"wordcount\"].sum()\n",
    "        century_data[provenvience + \"_lemmata_n\"] = LAGT_subset[\"lemmatacount\"].sum()\n",
    "    centuries_overview.append(century_data)\n",
    "centuries_overview_df = pd.DataFrame(centuries_overview)\n",
    "centuries_overview_df"
   ],
   "outputs": [
    {
     "data": {
      "text/plain": [
       "                  cent  pagan_tokens_n  pagan_lemmata_n  christian_tokens_n  \\\n",
       "0   (8BCE, -800, -701)          217857           128090                   0   \n",
       "1   (7BCE, -700, -601)           27577            17388                   0   \n",
       "2   (6BCE, -600, -501)          120990            70844                   0   \n",
       "3   (5BCE, -500, -401)         2276176          1214509                   0   \n",
       "4   (4BCE, -400, -301)         3441413          1657179                   0   \n",
       "5   (3BCE, -300, -201)         1365275           566031                   0   \n",
       "6   (2BCE, -200, -101)          610249           273642                   0   \n",
       "7     (1BCE, -100, -1)         1094086           705086                   0   \n",
       "8        (1CE, 1, 100)         2824801          1353563              327751   \n",
       "9      (2CE, 101, 200)         9928386          4402394             1793408   \n",
       "10     (3CE, 201, 300)         3765861          1452721             1472464   \n",
       "11     (4CE, 301, 400)         1934518           613382             2330978   \n",
       "12     (5CE, 401, 500)          505232           249014             1054269   \n",
       "13     (6CE, 501, 600)          202186            79676             1757235   \n",
       "\n",
       "    christian_lemmata_n  jewish_tokens_n  jewish_lemmata_n  \n",
       "0                     0                0                 0  \n",
       "1                     0                0                 0  \n",
       "2                     0                0                 0  \n",
       "3                     0                0                 0  \n",
       "4                     0                0                 0  \n",
       "5                     0           872098            254116  \n",
       "6                     0           889851            257601  \n",
       "7                     0           754980            292190  \n",
       "8                155554          1212756            548622  \n",
       "9                730935                0                 0  \n",
       "10               609535                0                 0  \n",
       "11               921660            18709              8425  \n",
       "12               418009            18709              8425  \n",
       "13               631368                0                 0  "
      ],
      "text/html": [
       "<div>\n",
       "<style scoped>\n",
       "    .dataframe tbody tr th:only-of-type {\n",
       "        vertical-align: middle;\n",
       "    }\n",
       "\n",
       "    .dataframe tbody tr th {\n",
       "        vertical-align: top;\n",
       "    }\n",
       "\n",
       "    .dataframe thead th {\n",
       "        text-align: right;\n",
       "    }\n",
       "</style>\n",
       "<table border=\"1\" class=\"dataframe\">\n",
       "  <thead>\n",
       "    <tr style=\"text-align: right;\">\n",
       "      <th></th>\n",
       "      <th>cent</th>\n",
       "      <th>pagan_tokens_n</th>\n",
       "      <th>pagan_lemmata_n</th>\n",
       "      <th>christian_tokens_n</th>\n",
       "      <th>christian_lemmata_n</th>\n",
       "      <th>jewish_tokens_n</th>\n",
       "      <th>jewish_lemmata_n</th>\n",
       "    </tr>\n",
       "  </thead>\n",
       "  <tbody>\n",
       "    <tr>\n",
       "      <th>0</th>\n",
       "      <td>(8BCE, -800, -701)</td>\n",
       "      <td>217857</td>\n",
       "      <td>128090</td>\n",
       "      <td>0</td>\n",
       "      <td>0</td>\n",
       "      <td>0</td>\n",
       "      <td>0</td>\n",
       "    </tr>\n",
       "    <tr>\n",
       "      <th>1</th>\n",
       "      <td>(7BCE, -700, -601)</td>\n",
       "      <td>27577</td>\n",
       "      <td>17388</td>\n",
       "      <td>0</td>\n",
       "      <td>0</td>\n",
       "      <td>0</td>\n",
       "      <td>0</td>\n",
       "    </tr>\n",
       "    <tr>\n",
       "      <th>2</th>\n",
       "      <td>(6BCE, -600, -501)</td>\n",
       "      <td>120990</td>\n",
       "      <td>70844</td>\n",
       "      <td>0</td>\n",
       "      <td>0</td>\n",
       "      <td>0</td>\n",
       "      <td>0</td>\n",
       "    </tr>\n",
       "    <tr>\n",
       "      <th>3</th>\n",
       "      <td>(5BCE, -500, -401)</td>\n",
       "      <td>2276176</td>\n",
       "      <td>1214509</td>\n",
       "      <td>0</td>\n",
       "      <td>0</td>\n",
       "      <td>0</td>\n",
       "      <td>0</td>\n",
       "    </tr>\n",
       "    <tr>\n",
       "      <th>4</th>\n",
       "      <td>(4BCE, -400, -301)</td>\n",
       "      <td>3441413</td>\n",
       "      <td>1657179</td>\n",
       "      <td>0</td>\n",
       "      <td>0</td>\n",
       "      <td>0</td>\n",
       "      <td>0</td>\n",
       "    </tr>\n",
       "    <tr>\n",
       "      <th>5</th>\n",
       "      <td>(3BCE, -300, -201)</td>\n",
       "      <td>1365275</td>\n",
       "      <td>566031</td>\n",
       "      <td>0</td>\n",
       "      <td>0</td>\n",
       "      <td>872098</td>\n",
       "      <td>254116</td>\n",
       "    </tr>\n",
       "    <tr>\n",
       "      <th>6</th>\n",
       "      <td>(2BCE, -200, -101)</td>\n",
       "      <td>610249</td>\n",
       "      <td>273642</td>\n",
       "      <td>0</td>\n",
       "      <td>0</td>\n",
       "      <td>889851</td>\n",
       "      <td>257601</td>\n",
       "    </tr>\n",
       "    <tr>\n",
       "      <th>7</th>\n",
       "      <td>(1BCE, -100, -1)</td>\n",
       "      <td>1094086</td>\n",
       "      <td>705086</td>\n",
       "      <td>0</td>\n",
       "      <td>0</td>\n",
       "      <td>754980</td>\n",
       "      <td>292190</td>\n",
       "    </tr>\n",
       "    <tr>\n",
       "      <th>8</th>\n",
       "      <td>(1CE, 1, 100)</td>\n",
       "      <td>2824801</td>\n",
       "      <td>1353563</td>\n",
       "      <td>327751</td>\n",
       "      <td>155554</td>\n",
       "      <td>1212756</td>\n",
       "      <td>548622</td>\n",
       "    </tr>\n",
       "    <tr>\n",
       "      <th>9</th>\n",
       "      <td>(2CE, 101, 200)</td>\n",
       "      <td>9928386</td>\n",
       "      <td>4402394</td>\n",
       "      <td>1793408</td>\n",
       "      <td>730935</td>\n",
       "      <td>0</td>\n",
       "      <td>0</td>\n",
       "    </tr>\n",
       "    <tr>\n",
       "      <th>10</th>\n",
       "      <td>(3CE, 201, 300)</td>\n",
       "      <td>3765861</td>\n",
       "      <td>1452721</td>\n",
       "      <td>1472464</td>\n",
       "      <td>609535</td>\n",
       "      <td>0</td>\n",
       "      <td>0</td>\n",
       "    </tr>\n",
       "    <tr>\n",
       "      <th>11</th>\n",
       "      <td>(4CE, 301, 400)</td>\n",
       "      <td>1934518</td>\n",
       "      <td>613382</td>\n",
       "      <td>2330978</td>\n",
       "      <td>921660</td>\n",
       "      <td>18709</td>\n",
       "      <td>8425</td>\n",
       "    </tr>\n",
       "    <tr>\n",
       "      <th>12</th>\n",
       "      <td>(5CE, 401, 500)</td>\n",
       "      <td>505232</td>\n",
       "      <td>249014</td>\n",
       "      <td>1054269</td>\n",
       "      <td>418009</td>\n",
       "      <td>18709</td>\n",
       "      <td>8425</td>\n",
       "    </tr>\n",
       "    <tr>\n",
       "      <th>13</th>\n",
       "      <td>(6CE, 501, 600)</td>\n",
       "      <td>202186</td>\n",
       "      <td>79676</td>\n",
       "      <td>1757235</td>\n",
       "      <td>631368</td>\n",
       "      <td>0</td>\n",
       "      <td>0</td>\n",
       "    </tr>\n",
       "  </tbody>\n",
       "</table>\n",
       "</div>"
      ]
     },
     "execution_count": 60,
     "metadata": {},
     "output_type": "execute_result"
    }
   ],
   "execution_count": 60
  },
  {
   "metadata": {
    "ExecuteTime": {
     "end_time": "2024-02-06T13:10:44.227610Z",
     "start_time": "2024-02-06T13:10:44.224139Z"
    }
   },
   "cell_type": "code",
   "source": [
    "centuries_overview_df[\"cent_label\"] = centuries_overview_df[\"cent\"].apply(lambda x: x[0])"
   ],
   "outputs": [],
   "execution_count": 61
  },
  {
   "metadata": {
    "ExecuteTime": {
     "end_time": "2024-02-06T13:10:58.210408Z",
     "start_time": "2024-02-06T13:10:57.058330Z"
    }
   },
   "cell_type": "code",
   "source": "google_conf.set_with_dataframe(theos_data.add_worksheet(\"centuries_overview\", 1,1), centuries_overview_df)",
   "outputs": [],
   "execution_count": 62
  },
  {
   "metadata": {
    "ExecuteTime": {
     "end_time": "2024-02-06T13:10:58.829301Z",
     "start_time": "2024-02-06T13:10:58.826223Z"
    }
   },
   "cell_type": "code",
   "source": [
    "colors = [\"darkblue\", \"darkgreen\", \"darkred\"]\n",
    "periods_colors = ['lightcyan',\n",
    "                  'lightgoldenrodyellow',\n",
    "                  'lightgray',\n",
    "                  'lightgreen',\n",
    "                  'lightpink']"
   ],
   "outputs": [],
   "execution_count": 63
  },
  {
   "metadata": {
    "ExecuteTime": {
     "end_time": "2024-02-06T13:10:59.250046Z",
     "start_time": "2024-02-06T13:10:59.247846Z"
    }
   },
   "cell_type": "code",
   "source": [
    "periods_dict = { # to avoid overlaps, startdates are postponed by one year, when needed\n",
    "    \"archaic\" : {\"startdate\": -0.5, \"enddate\" : 2.5},\n",
    "    \"classical\" : {\"startdate\": 2.5, \"enddate\": 4.5},\n",
    "    \"hellenistic\" : {\"startdate\" : 4.5, \"enddate\" : 7.5},\n",
    "    \"roman_peak\" : {\"startdate\": 7.5, \"enddate\": 9.5},\n",
    "    \"roman_late\" : {\"startdate\" : 9.5, \"enddate\" : 13.5}}"
   ],
   "outputs": [],
   "execution_count": 64
  },
  {
   "metadata": {
    "ExecuteTime": {
     "end_time": "2024-02-06T13:11:14.516545Z",
     "start_time": "2024-02-06T13:11:14.100164Z"
    }
   },
   "cell_type": "code",
   "source": [
    "fig, ax = plt.subplots(figsize=(3.5,2.5), tight_layout=True)\n",
    "\n",
    "ax.set_yticks(range(0,20000000, 2000000))\n",
    "ax.set_yticklabels([str(n) + \"M\" for n in range(0,20, 2)])\n",
    "ax.set_ylim(0,13000000)\n",
    "ax.set_xlim(-1,14)\n",
    "\n",
    "for period, color in zip(periods_dict.keys(), periods_colors):\n",
    "    ax.axvspan(periods_dict[period][\"startdate\"], periods_dict[period][\"enddate\"], color=color)\n",
    "    midpoint = (periods_dict[period][\"startdate\"] + periods_dict[period][\"enddate\"]) / 2  # calculate midpoint for label\n",
    "    ax.annotate(period, (midpoint, ax.get_ylim()[1] * 0.95), xytext=(0, 10),\n",
    "            textcoords='offset points', ha='center', va='bottom', rotation=90)\n",
    "\n",
    "centuries_overview_df[[\"pagan_tokens_n\", \"jewish_tokens_n\", \"christian_tokens_n\"]].plot(kind='bar', color=colors, stacked=True, ax=ax)\n",
    "\n",
    "ax.set_xticks(range(0,14))\n",
    "ax.set_xticklabels(centuries_overview_df[\"cent_label\"])\n",
    "\n"
   ],
   "outputs": [
    {
     "data": {
      "text/plain": [
       "[Text(0, 0, '8BCE'),\n",
       " Text(1, 0, '7BCE'),\n",
       " Text(2, 0, '6BCE'),\n",
       " Text(3, 0, '5BCE'),\n",
       " Text(4, 0, '4BCE'),\n",
       " Text(5, 0, '3BCE'),\n",
       " Text(6, 0, '2BCE'),\n",
       " Text(7, 0, '1BCE'),\n",
       " Text(8, 0, '1CE'),\n",
       " Text(9, 0, '2CE'),\n",
       " Text(10, 0, '3CE'),\n",
       " Text(11, 0, '4CE'),\n",
       " Text(12, 0, '5CE'),\n",
       " Text(13, 0, '6CE')]"
      ]
     },
     "execution_count": 65,
     "metadata": {},
     "output_type": "execute_result"
    },
    {
     "data": {
      "text/plain": [
       "<Figure size 1050x750 with 1 Axes>"
      ],
      "image/png": "[encoded data removed]"
     },
     "metadata": {},
     "output_type": "display_data"
    }
   ],
   "execution_count": 65
  },
  {
   "metadata": {
    "ExecuteTime": {
     "end_time": "2024-02-06T13:11:17.553396Z",
     "start_time": "2024-02-06T13:11:17.294954Z"
    }
   },
   "cell_type": "code",
   "source": [
    "save_figure(fig, \"centuries_overview\")"
   ],
   "outputs": [],
   "execution_count": 66
  },
  {
   "metadata": {},
   "cell_type": "markdown",
   "source": [
    "# Building vocabulary data"
   ]
  },
  {
   "cell_type": "code",
   "source": [
    "def try_to_get_from_freqdict(word, word_freqs_dict):\n",
    "    total_N = sum([val for val in word_freqs_dict.values()])\n",
    "    try:\n",
    "        count = word_freqs_dict[word]\n",
    "        freq = count #/ total_N\n",
    "    except:\n",
    "        freq = 0\n",
    "    return freq\n",
    "\n",
    "\n",
    "min_freq = 5\n",
    "\n",
    "def get_vocab(docs, min_freq=min_freq):\n",
    "    words_flat = [item for sublist in docs for item in sublist]\n",
    "    total_words = len(words_flat)\n",
    "    wordcounts_tups = FreqDist(words_flat).most_common()\n",
    "    wordfreqs_tups = [(tup[0], tup[1] / total_words) for tup in wordcounts_tups]\n",
    "    return wordcounts_tups, wordfreqs_tups\n",
    "\n",
    "wordcounts_dicts = []\n",
    "wordfreqs_dicts = []\n",
    "\n",
    "\n",
    "for sub in subcorpora_ids_dict.keys():\n",
    "    subset = LAGT[LAGT[\"doc_id\"].isin(subcorpora_ids_dict[sub])]\n",
    "    sents = [sent for work in subset[\"lemmatized_sentences\"] for sent in work]\n",
    "    wordcounts_tups, wordfreqs_tups = get_vocab(sents)\n",
    "    wordcounts_dicts.append(dict(wordcounts_tups))\n",
    "    wordfreqs_dicts.append(dict(wordfreqs_tups))"
   ],
   "metadata": {
    "collapsed": false,
    "ExecuteTime": {
     "end_time": "2024-02-06T13:14:37.749461Z",
     "start_time": "2024-02-06T13:14:33.101409Z"
    }
   },
   "outputs": [],
   "execution_count": 72
  },
  {
   "metadata": {
    "ExecuteTime": {
     "end_time": "2024-02-06T13:15:00.707233Z",
     "start_time": "2024-02-06T13:14:57.302461Z"
    }
   },
   "cell_type": "code",
   "source": [
    "wordcounts_df = pd.DataFrame(wordcounts_dicts).T\n",
    "wordcounts_df.columns = subcorpora_ids_dict.keys()\n",
    "wordcounts_df.head(5)"
   ],
   "outputs": [
    {
     "data": {
      "text/plain": [
       "       pagan_archaic  pagan_classical  pagan_hellenistic  pagan_roman_peak  \\\n",
       "εἰμί          2983.0          74864.0            31177.0           99228.0   \n",
       "πᾶς           1637.0          19928.0             9108.0           31381.0   \n",
       "ἀνήρ          1614.0           8550.0             3700.0           10178.0   \n",
       "αὐτός         1534.0          42498.0            25174.0          106891.0   \n",
       "θεός          1468.0           5595.0             2802.0            9131.0   \n",
       "\n",
       "       pagan_roman_late  christian_roman_peak  christian_roman_late   jewish  \n",
       "εἰμί            19646.0                8324.0                5239.0  12319.0  \n",
       "πᾶς             14633.0                6883.0                9261.0  10776.0  \n",
       "ἀνήρ             4056.0                2053.0                3346.0   3086.0  \n",
       "αὐτός           28513.0                8447.0                9568.0  14221.0  \n",
       "θεός             6414.0               15349.0               20228.0   8856.0  "
      ],
      "text/html": [
       "<div>\n",
       "<style scoped>\n",
       "    .dataframe tbody tr th:only-of-type {\n",
       "        vertical-align: middle;\n",
       "    }\n",
       "\n",
       "    .dataframe tbody tr th {\n",
       "        vertical-align: top;\n",
       "    }\n",
       "\n",
       "    .dataframe thead th {\n",
       "        text-align: right;\n",
       "    }\n",
       "</style>\n",
       "<table border=\"1\" class=\"dataframe\">\n",
       "  <thead>\n",
       "    <tr style=\"text-align: right;\">\n",
       "      <th></th>\n",
       "      <th>pagan_archaic</th>\n",
       "      <th>pagan_classical</th>\n",
       "      <th>pagan_hellenistic</th>\n",
       "      <th>pagan_roman_peak</th>\n",
       "      <th>pagan_roman_late</th>\n",
       "      <th>christian_roman_peak</th>\n",
       "      <th>christian_roman_late</th>\n",
       "      <th>jewish</th>\n",
       "    </tr>\n",
       "  </thead>\n",
       "  <tbody>\n",
       "    <tr>\n",
       "      <th>εἰμί</th>\n",
       "      <td>2983.0</td>\n",
       "      <td>74864.0</td>\n",
       "      <td>31177.0</td>\n",
       "      <td>99228.0</td>\n",
       "      <td>19646.0</td>\n",
       "      <td>8324.0</td>\n",
       "      <td>5239.0</td>\n",
       "      <td>12319.0</td>\n",
       "    </tr>\n",
       "    <tr>\n",
       "      <th>πᾶς</th>\n",
       "      <td>1637.0</td>\n",
       "      <td>19928.0</td>\n",
       "      <td>9108.0</td>\n",
       "      <td>31381.0</td>\n",
       "      <td>14633.0</td>\n",
       "      <td>6883.0</td>\n",
       "      <td>9261.0</td>\n",
       "      <td>10776.0</td>\n",
       "    </tr>\n",
       "    <tr>\n",
       "      <th>ἀνήρ</th>\n",
       "      <td>1614.0</td>\n",
       "      <td>8550.0</td>\n",
       "      <td>3700.0</td>\n",
       "      <td>10178.0</td>\n",
       "      <td>4056.0</td>\n",
       "      <td>2053.0</td>\n",
       "      <td>3346.0</td>\n",
       "      <td>3086.0</td>\n",
       "    </tr>\n",
       "    <tr>\n",
       "      <th>αὐτός</th>\n",
       "      <td>1534.0</td>\n",
       "      <td>42498.0</td>\n",
       "      <td>25174.0</td>\n",
       "      <td>106891.0</td>\n",
       "      <td>28513.0</td>\n",
       "      <td>8447.0</td>\n",
       "      <td>9568.0</td>\n",
       "      <td>14221.0</td>\n",
       "    </tr>\n",
       "    <tr>\n",
       "      <th>θεός</th>\n",
       "      <td>1468.0</td>\n",
       "      <td>5595.0</td>\n",
       "      <td>2802.0</td>\n",
       "      <td>9131.0</td>\n",
       "      <td>6414.0</td>\n",
       "      <td>15349.0</td>\n",
       "      <td>20228.0</td>\n",
       "      <td>8856.0</td>\n",
       "    </tr>\n",
       "  </tbody>\n",
       "</table>\n",
       "</div>"
      ]
     },
     "execution_count": 74,
     "metadata": {},
     "output_type": "execute_result"
    }
   ],
   "execution_count": 74
  },
  {
   "metadata": {
    "ExecuteTime": {
     "end_time": "2024-02-06T13:15:34.451128Z",
     "start_time": "2024-02-06T13:15:31.420079Z"
    }
   },
   "cell_type": "code",
   "source": [
    "wordfreqs_df = pd.DataFrame(wordfreqs_dicts).T\n",
    "wordfreqs_df.columns = subcorpora_ids_dict.keys()\n",
    "wordfreqs_df.head(5)"
   ],
   "outputs": [
    {
     "data": {
      "text/plain": [
       "       pagan_archaic  pagan_classical  pagan_hellenistic  pagan_roman_peak  \\\n",
       "εἰμί        0.014988         0.036645           0.023915          0.020752   \n",
       "πᾶς         0.008225         0.009754           0.006987          0.006563   \n",
       "ἀνήρ        0.008110         0.004185           0.002838          0.002129   \n",
       "αὐτός       0.007708         0.020802           0.019310          0.022355   \n",
       "θεός        0.007376         0.002739           0.002149          0.001910   \n",
       "\n",
       "       pagan_roman_late  christian_roman_peak  christian_roman_late    jewish  \n",
       "εἰμί           0.010109              0.009578              0.003424  0.015122  \n",
       "πᾶς            0.007530              0.007920              0.006053  0.013228  \n",
       "ἀνήρ           0.002087              0.002362              0.002187  0.003788  \n",
       "αὐτός          0.014672              0.009719              0.006254  0.017457  \n",
       "θεός           0.003300              0.017661              0.013222  0.010871  "
      ],
      "text/html": [
       "<div>\n",
       "<style scoped>\n",
       "    .dataframe tbody tr th:only-of-type {\n",
       "        vertical-align: middle;\n",
       "    }\n",
       "\n",
       "    .dataframe tbody tr th {\n",
       "        vertical-align: top;\n",
       "    }\n",
       "\n",
       "    .dataframe thead th {\n",
       "        text-align: right;\n",
       "    }\n",
       "</style>\n",
       "<table border=\"1\" class=\"dataframe\">\n",
       "  <thead>\n",
       "    <tr style=\"text-align: right;\">\n",
       "      <th></th>\n",
       "      <th>pagan_archaic</th>\n",
       "      <th>pagan_classical</th>\n",
       "      <th>pagan_hellenistic</th>\n",
       "      <th>pagan_roman_peak</th>\n",
       "      <th>pagan_roman_late</th>\n",
       "      <th>christian_roman_peak</th>\n",
       "      <th>christian_roman_late</th>\n",
       "      <th>jewish</th>\n",
       "    </tr>\n",
       "  </thead>\n",
       "  <tbody>\n",
       "    <tr>\n",
       "      <th>εἰμί</th>\n",
       "      <td>0.014988</td>\n",
       "      <td>0.036645</td>\n",
       "      <td>0.023915</td>\n",
       "      <td>0.020752</td>\n",
       "      <td>0.010109</td>\n",
       "      <td>0.009578</td>\n",
       "      <td>0.003424</td>\n",
       "      <td>0.015122</td>\n",
       "    </tr>\n",
       "    <tr>\n",
       "      <th>πᾶς</th>\n",
       "      <td>0.008225</td>\n",
       "      <td>0.009754</td>\n",
       "      <td>0.006987</td>\n",
       "      <td>0.006563</td>\n",
       "      <td>0.007530</td>\n",
       "      <td>0.007920</td>\n",
       "      <td>0.006053</td>\n",
       "      <td>0.013228</td>\n",
       "    </tr>\n",
       "    <tr>\n",
       "      <th>ἀνήρ</th>\n",
       "      <td>0.008110</td>\n",
       "      <td>0.004185</td>\n",
       "      <td>0.002838</td>\n",
       "      <td>0.002129</td>\n",
       "      <td>0.002087</td>\n",
       "      <td>0.002362</td>\n",
       "      <td>0.002187</td>\n",
       "      <td>0.003788</td>\n",
       "    </tr>\n",
       "    <tr>\n",
       "      <th>αὐτός</th>\n",
       "      <td>0.007708</td>\n",
       "      <td>0.020802</td>\n",
       "      <td>0.019310</td>\n",
       "      <td>0.022355</td>\n",
       "      <td>0.014672</td>\n",
       "      <td>0.009719</td>\n",
       "      <td>0.006254</td>\n",
       "      <td>0.017457</td>\n",
       "    </tr>\n",
       "    <tr>\n",
       "      <th>θεός</th>\n",
       "      <td>0.007376</td>\n",
       "      <td>0.002739</td>\n",
       "      <td>0.002149</td>\n",
       "      <td>0.001910</td>\n",
       "      <td>0.003300</td>\n",
       "      <td>0.017661</td>\n",
       "      <td>0.013222</td>\n",
       "      <td>0.010871</td>\n",
       "    </tr>\n",
       "  </tbody>\n",
       "</table>\n",
       "</div>"
      ]
     },
     "execution_count": 76,
     "metadata": {},
     "output_type": "execute_result"
    }
   ],
   "execution_count": 76
  },
  {
   "cell_type": "code",
   "source": [
    "religion_final = [\"θεός\", \"Ζεύς\", \"εὐσεβής\", 'ἱερός']\n",
    "morality_final = [\"ἀγαθός\", \"ἀρετή\", \"δίκαιος\", \"τιμή\"]"
   ],
   "metadata": {
    "collapsed": false,
    "ExecuteTime": {
     "end_time": "2024-02-06T13:15:39.101485Z",
     "start_time": "2024-02-06T13:15:39.099088Z"
    }
   },
   "outputs": [],
   "execution_count": 77
  },
  {
   "metadata": {
    "ExecuteTime": {
     "end_time": "2024-02-06T13:15:44.570827Z",
     "start_time": "2024-02-06T13:15:44.525387Z"
    }
   },
   "cell_type": "code",
   "source": [
    "pd.concat([wordfreqs_df.loc[religion_final], wordfreqs_df.loc[morality_final]])"
   ],
   "outputs": [
    {
     "data": {
      "text/plain": [
       "         pagan_archaic  pagan_classical  pagan_hellenistic  pagan_roman_peak  \\\n",
       "θεός          0.007376         0.002739           0.002149          0.001910   \n",
       "Ζεύς          0.006542         0.001317           0.000697          0.000857   \n",
       "εὐσεβής       0.000060         0.000059           0.000050          0.000035   \n",
       "ἱερός         0.000673         0.000541           0.000837          0.000560   \n",
       "ἀγαθός        0.001296         0.004561           0.001925          0.002936   \n",
       "ἀρετή         0.000548         0.001140           0.001005          0.000674   \n",
       "δίκαιος       0.000407         0.001735           0.000669          0.000508   \n",
       "τιμή          0.000668         0.000430           0.000476          0.000359   \n",
       "\n",
       "         pagan_roman_late  christian_roman_peak  christian_roman_late  \\\n",
       "θεός             0.003300              0.017661              0.013222   \n",
       "Ζεύς             0.000631              0.000521              0.000217   \n",
       "εὐσεβής          0.000036              0.000129              0.000239   \n",
       "ἱερός            0.000338              0.000280              0.000308   \n",
       "ἀγαθός           0.003540              0.003129              0.002587   \n",
       "ἀρετή            0.000987              0.001087              0.000890   \n",
       "δίκαιος          0.000944              0.001984              0.001301   \n",
       "τιμή             0.000388              0.000505              0.000501   \n",
       "\n",
       "           jewish  \n",
       "θεός     0.010871  \n",
       "Ζεύς     0.000052  \n",
       "εὐσεβής  0.000107  \n",
       "ἱερός    0.001102  \n",
       "ἀγαθός   0.002939  \n",
       "ἀρετή    0.001572  \n",
       "δίκαιος  0.001288  \n",
       "τιμή     0.000937  "
      ],
      "text/html": [
       "<div>\n",
       "<style scoped>\n",
       "    .dataframe tbody tr th:only-of-type {\n",
       "        vertical-align: middle;\n",
       "    }\n",
       "\n",
       "    .dataframe tbody tr th {\n",
       "        vertical-align: top;\n",
       "    }\n",
       "\n",
       "    .dataframe thead th {\n",
       "        text-align: right;\n",
       "    }\n",
       "</style>\n",
       "<table border=\"1\" class=\"dataframe\">\n",
       "  <thead>\n",
       "    <tr style=\"text-align: right;\">\n",
       "      <th></th>\n",
       "      <th>pagan_archaic</th>\n",
       "      <th>pagan_classical</th>\n",
       "      <th>pagan_hellenistic</th>\n",
       "      <th>pagan_roman_peak</th>\n",
       "      <th>pagan_roman_late</th>\n",
       "      <th>christian_roman_peak</th>\n",
       "      <th>christian_roman_late</th>\n",
       "      <th>jewish</th>\n",
       "    </tr>\n",
       "  </thead>\n",
       "  <tbody>\n",
       "    <tr>\n",
       "      <th>θεός</th>\n",
       "      <td>0.007376</td>\n",
       "      <td>0.002739</td>\n",
       "      <td>0.002149</td>\n",
       "      <td>0.001910</td>\n",
       "      <td>0.003300</td>\n",
       "      <td>0.017661</td>\n",
       "      <td>0.013222</td>\n",
       "      <td>0.010871</td>\n",
       "    </tr>\n",
       "    <tr>\n",
       "      <th>Ζεύς</th>\n",
       "      <td>0.006542</td>\n",
       "      <td>0.001317</td>\n",
       "      <td>0.000697</td>\n",
       "      <td>0.000857</td>\n",
       "      <td>0.000631</td>\n",
       "      <td>0.000521</td>\n",
       "      <td>0.000217</td>\n",
       "      <td>0.000052</td>\n",
       "    </tr>\n",
       "    <tr>\n",
       "      <th>εὐσεβής</th>\n",
       "      <td>0.000060</td>\n",
       "      <td>0.000059</td>\n",
       "      <td>0.000050</td>\n",
       "      <td>0.000035</td>\n",
       "      <td>0.000036</td>\n",
       "      <td>0.000129</td>\n",
       "      <td>0.000239</td>\n",
       "      <td>0.000107</td>\n",
       "    </tr>\n",
       "    <tr>\n",
       "      <th>ἱερός</th>\n",
       "      <td>0.000673</td>\n",
       "      <td>0.000541</td>\n",
       "      <td>0.000837</td>\n",
       "      <td>0.000560</td>\n",
       "      <td>0.000338</td>\n",
       "      <td>0.000280</td>\n",
       "      <td>0.000308</td>\n",
       "      <td>0.001102</td>\n",
       "    </tr>\n",
       "    <tr>\n",
       "      <th>ἀγαθός</th>\n",
       "      <td>0.001296</td>\n",
       "      <td>0.004561</td>\n",
       "      <td>0.001925</td>\n",
       "      <td>0.002936</td>\n",
       "      <td>0.003540</td>\n",
       "      <td>0.003129</td>\n",
       "      <td>0.002587</td>\n",
       "      <td>0.002939</td>\n",
       "    </tr>\n",
       "    <tr>\n",
       "      <th>ἀρετή</th>\n",
       "      <td>0.000548</td>\n",
       "      <td>0.001140</td>\n",
       "      <td>0.001005</td>\n",
       "      <td>0.000674</td>\n",
       "      <td>0.000987</td>\n",
       "      <td>0.001087</td>\n",
       "      <td>0.000890</td>\n",
       "      <td>0.001572</td>\n",
       "    </tr>\n",
       "    <tr>\n",
       "      <th>δίκαιος</th>\n",
       "      <td>0.000407</td>\n",
       "      <td>0.001735</td>\n",
       "      <td>0.000669</td>\n",
       "      <td>0.000508</td>\n",
       "      <td>0.000944</td>\n",
       "      <td>0.001984</td>\n",
       "      <td>0.001301</td>\n",
       "      <td>0.001288</td>\n",
       "    </tr>\n",
       "    <tr>\n",
       "      <th>τιμή</th>\n",
       "      <td>0.000668</td>\n",
       "      <td>0.000430</td>\n",
       "      <td>0.000476</td>\n",
       "      <td>0.000359</td>\n",
       "      <td>0.000388</td>\n",
       "      <td>0.000505</td>\n",
       "      <td>0.000501</td>\n",
       "      <td>0.000937</td>\n",
       "    </tr>\n",
       "  </tbody>\n",
       "</table>\n",
       "</div>"
      ]
     },
     "execution_count": 78,
     "metadata": {},
     "output_type": "execute_result"
    }
   ],
   "execution_count": 78
  },
  {
   "metadata": {
    "ExecuteTime": {
     "end_time": "2024-02-06T13:16:08.562137Z",
     "start_time": "2024-02-06T13:16:08.505935Z"
    }
   },
   "cell_type": "code",
   "source": [
    "pd.concat([wordcounts_df.loc[religion_final], wordcounts_df.loc[morality_final]])"
   ],
   "outputs": [
    {
     "data": {
      "text/plain": [
       "         pagan_archaic  pagan_classical  pagan_hellenistic  pagan_roman_peak  \\\n",
       "θεός            1468.0           5595.0             2802.0            9131.0   \n",
       "Ζεύς            1302.0           2690.0              908.0            4096.0   \n",
       "εὐσεβής           12.0            121.0               65.0             166.0   \n",
       "ἱερός            134.0           1105.0             1091.0            2678.0   \n",
       "ἀγαθός           258.0           9318.0             2509.0           14037.0   \n",
       "ἀρετή            109.0           2328.0             1310.0            3222.0   \n",
       "δίκαιος           81.0           3545.0              872.0            2427.0   \n",
       "τιμή             133.0            878.0              620.0            1715.0   \n",
       "\n",
       "         pagan_roman_late  christian_roman_peak  christian_roman_late  jewish  \n",
       "θεός               6414.0               15349.0               20228.0  8856.0  \n",
       "Ζεύς               1227.0                 453.0                 332.0    42.0  \n",
       "εὐσεβής              69.0                 112.0                 365.0    87.0  \n",
       "ἱερός               656.0                 243.0                 471.0   898.0  \n",
       "ἀγαθός             6879.0                2719.0                3957.0  2394.0  \n",
       "ἀρετή              1918.0                 945.0                1361.0  1281.0  \n",
       "δίκαιος            1835.0                1724.0                1991.0  1049.0  \n",
       "τιμή                754.0                 439.0                 767.0   763.0  "
      ],
      "text/html": [
       "<div>\n",
       "<style scoped>\n",
       "    .dataframe tbody tr th:only-of-type {\n",
       "        vertical-align: middle;\n",
       "    }\n",
       "\n",
       "    .dataframe tbody tr th {\n",
       "        vertical-align: top;\n",
       "    }\n",
       "\n",
       "    .dataframe thead th {\n",
       "        text-align: right;\n",
       "    }\n",
       "</style>\n",
       "<table border=\"1\" class=\"dataframe\">\n",
       "  <thead>\n",
       "    <tr style=\"text-align: right;\">\n",
       "      <th></th>\n",
       "      <th>pagan_archaic</th>\n",
       "      <th>pagan_classical</th>\n",
       "      <th>pagan_hellenistic</th>\n",
       "      <th>pagan_roman_peak</th>\n",
       "      <th>pagan_roman_late</th>\n",
       "      <th>christian_roman_peak</th>\n",
       "      <th>christian_roman_late</th>\n",
       "      <th>jewish</th>\n",
       "    </tr>\n",
       "  </thead>\n",
       "  <tbody>\n",
       "    <tr>\n",
       "      <th>θεός</th>\n",
       "      <td>1468.0</td>\n",
       "      <td>5595.0</td>\n",
       "      <td>2802.0</td>\n",
       "      <td>9131.0</td>\n",
       "      <td>6414.0</td>\n",
       "      <td>15349.0</td>\n",
       "      <td>20228.0</td>\n",
       "      <td>8856.0</td>\n",
       "    </tr>\n",
       "    <tr>\n",
       "      <th>Ζεύς</th>\n",
       "      <td>1302.0</td>\n",
       "      <td>2690.0</td>\n",
       "      <td>908.0</td>\n",
       "      <td>4096.0</td>\n",
       "      <td>1227.0</td>\n",
       "      <td>453.0</td>\n",
       "      <td>332.0</td>\n",
       "      <td>42.0</td>\n",
       "    </tr>\n",
       "    <tr>\n",
       "      <th>εὐσεβής</th>\n",
       "      <td>12.0</td>\n",
       "      <td>121.0</td>\n",
       "      <td>65.0</td>\n",
       "      <td>166.0</td>\n",
       "      <td>69.0</td>\n",
       "      <td>112.0</td>\n",
       "      <td>365.0</td>\n",
       "      <td>87.0</td>\n",
       "    </tr>\n",
       "    <tr>\n",
       "      <th>ἱερός</th>\n",
       "      <td>134.0</td>\n",
       "      <td>1105.0</td>\n",
       "      <td>1091.0</td>\n",
       "      <td>2678.0</td>\n",
       "      <td>656.0</td>\n",
       "      <td>243.0</td>\n",
       "      <td>471.0</td>\n",
       "      <td>898.0</td>\n",
       "    </tr>\n",
       "    <tr>\n",
       "      <th>ἀγαθός</th>\n",
       "      <td>258.0</td>\n",
       "      <td>9318.0</td>\n",
       "      <td>2509.0</td>\n",
       "      <td>14037.0</td>\n",
       "      <td>6879.0</td>\n",
       "      <td>2719.0</td>\n",
       "      <td>3957.0</td>\n",
       "      <td>2394.0</td>\n",
       "    </tr>\n",
       "    <tr>\n",
       "      <th>ἀρετή</th>\n",
       "      <td>109.0</td>\n",
       "      <td>2328.0</td>\n",
       "      <td>1310.0</td>\n",
       "      <td>3222.0</td>\n",
       "      <td>1918.0</td>\n",
       "      <td>945.0</td>\n",
       "      <td>1361.0</td>\n",
       "      <td>1281.0</td>\n",
       "    </tr>\n",
       "    <tr>\n",
       "      <th>δίκαιος</th>\n",
       "      <td>81.0</td>\n",
       "      <td>3545.0</td>\n",
       "      <td>872.0</td>\n",
       "      <td>2427.0</td>\n",
       "      <td>1835.0</td>\n",
       "      <td>1724.0</td>\n",
       "      <td>1991.0</td>\n",
       "      <td>1049.0</td>\n",
       "    </tr>\n",
       "    <tr>\n",
       "      <th>τιμή</th>\n",
       "      <td>133.0</td>\n",
       "      <td>878.0</td>\n",
       "      <td>620.0</td>\n",
       "      <td>1715.0</td>\n",
       "      <td>754.0</td>\n",
       "      <td>439.0</td>\n",
       "      <td>767.0</td>\n",
       "      <td>763.0</td>\n",
       "    </tr>\n",
       "  </tbody>\n",
       "</table>\n",
       "</div>"
      ]
     },
     "execution_count": 79,
     "metadata": {},
     "output_type": "execute_result"
    }
   ],
   "execution_count": 79
  },
  {
   "metadata": {
    "ExecuteTime": {
     "end_time": "2024-02-06T13:16:20.801168Z",
     "start_time": "2024-02-06T13:16:20.797962Z"
    }
   },
   "cell_type": "code",
   "source": [
    "len(wordcounts_df)"
   ],
   "outputs": [
    {
     "data": {
      "text/plain": [
       "500506"
      ]
     },
     "execution_count": 80,
     "metadata": {},
     "output_type": "execute_result"
    }
   ],
   "execution_count": 80
  },
  {
   "metadata": {
    "ExecuteTime": {
     "end_time": "2024-02-06T13:16:24.890798Z",
     "start_time": "2024-02-06T13:16:24.871880Z"
    }
   },
   "cell_type": "code",
   "source": [
    "wordcounts_df[(wordcounts_df >= 5).all(axis=1)].tail(10)# # .notnull().all(axis=1).sum()"
   ],
   "outputs": [
    {
     "data": {
      "text/plain": [
       "             pagan_archaic  pagan_classical  pagan_hellenistic  \\\n",
       "ἀνατείνω               5.0             56.0               64.0   \n",
       "βλαστάνω               5.0            197.0              129.0   \n",
       "ἐπῳδή                  5.0             54.0               15.0   \n",
       "στέγω                  5.0             48.0               15.0   \n",
       "λόγχη                  5.0            102.0               66.0   \n",
       "ἀπαλλαγή               5.0             84.0               54.0   \n",
       "ἐλευθερόω              5.0            156.0              170.0   \n",
       "μεσημβρινός            5.0             18.0              209.0   \n",
       "φαιδρός                5.0             25.0                8.0   \n",
       "πρεσβεύω               5.0            179.0              181.0   \n",
       "\n",
       "             pagan_roman_peak  pagan_roman_late  christian_roman_peak  \\\n",
       "ἀνατείνω                362.0              36.0                  10.0   \n",
       "βλαστάνω                 65.0               8.0                  17.0   \n",
       "ἐπῳδή                    53.0              23.0                  36.0   \n",
       "στέγω                   135.0              40.0                  24.0   \n",
       "λόγχη                   136.0              25.0                   5.0   \n",
       "ἀπαλλαγή                 97.0              80.0                  56.0   \n",
       "ἐλευθερόω               229.0              59.0                  57.0   \n",
       "μεσημβρινός             322.0              34.0                   6.0   \n",
       "φαιδρός                 131.0              79.0                   9.0   \n",
       "πρεσβεύω                332.0             139.0                  54.0   \n",
       "\n",
       "             christian_roman_late  jewish  \n",
       "ἀνατείνω                     21.0    39.0  \n",
       "βλαστάνω                     25.0    39.0  \n",
       "ἐπῳδή                        45.0     5.0  \n",
       "στέγω                        27.0    12.0  \n",
       "λόγχη                        12.0    17.0  \n",
       "ἀπαλλαγή                     94.0    54.0  \n",
       "ἐλευθερόω                    97.0    27.0  \n",
       "μεσημβρινός                  16.0    16.0  \n",
       "φαιδρός                      39.0    12.0  \n",
       "πρεσβεύω                    116.0    55.0  "
      ],
      "text/html": [
       "<div>\n",
       "<style scoped>\n",
       "    .dataframe tbody tr th:only-of-type {\n",
       "        vertical-align: middle;\n",
       "    }\n",
       "\n",
       "    .dataframe tbody tr th {\n",
       "        vertical-align: top;\n",
       "    }\n",
       "\n",
       "    .dataframe thead th {\n",
       "        text-align: right;\n",
       "    }\n",
       "</style>\n",
       "<table border=\"1\" class=\"dataframe\">\n",
       "  <thead>\n",
       "    <tr style=\"text-align: right;\">\n",
       "      <th></th>\n",
       "      <th>pagan_archaic</th>\n",
       "      <th>pagan_classical</th>\n",
       "      <th>pagan_hellenistic</th>\n",
       "      <th>pagan_roman_peak</th>\n",
       "      <th>pagan_roman_late</th>\n",
       "      <th>christian_roman_peak</th>\n",
       "      <th>christian_roman_late</th>\n",
       "      <th>jewish</th>\n",
       "    </tr>\n",
       "  </thead>\n",
       "  <tbody>\n",
       "    <tr>\n",
       "      <th>ἀνατείνω</th>\n",
       "      <td>5.0</td>\n",
       "      <td>56.0</td>\n",
       "      <td>64.0</td>\n",
       "      <td>362.0</td>\n",
       "      <td>36.0</td>\n",
       "      <td>10.0</td>\n",
       "      <td>21.0</td>\n",
       "      <td>39.0</td>\n",
       "    </tr>\n",
       "    <tr>\n",
       "      <th>βλαστάνω</th>\n",
       "      <td>5.0</td>\n",
       "      <td>197.0</td>\n",
       "      <td>129.0</td>\n",
       "      <td>65.0</td>\n",
       "      <td>8.0</td>\n",
       "      <td>17.0</td>\n",
       "      <td>25.0</td>\n",
       "      <td>39.0</td>\n",
       "    </tr>\n",
       "    <tr>\n",
       "      <th>ἐπῳδή</th>\n",
       "      <td>5.0</td>\n",
       "      <td>54.0</td>\n",
       "      <td>15.0</td>\n",
       "      <td>53.0</td>\n",
       "      <td>23.0</td>\n",
       "      <td>36.0</td>\n",
       "      <td>45.0</td>\n",
       "      <td>5.0</td>\n",
       "    </tr>\n",
       "    <tr>\n",
       "      <th>στέγω</th>\n",
       "      <td>5.0</td>\n",
       "      <td>48.0</td>\n",
       "      <td>15.0</td>\n",
       "      <td>135.0</td>\n",
       "      <td>40.0</td>\n",
       "      <td>24.0</td>\n",
       "      <td>27.0</td>\n",
       "      <td>12.0</td>\n",
       "    </tr>\n",
       "    <tr>\n",
       "      <th>λόγχη</th>\n",
       "      <td>5.0</td>\n",
       "      <td>102.0</td>\n",
       "      <td>66.0</td>\n",
       "      <td>136.0</td>\n",
       "      <td>25.0</td>\n",
       "      <td>5.0</td>\n",
       "      <td>12.0</td>\n",
       "      <td>17.0</td>\n",
       "    </tr>\n",
       "    <tr>\n",
       "      <th>ἀπαλλαγή</th>\n",
       "      <td>5.0</td>\n",
       "      <td>84.0</td>\n",
       "      <td>54.0</td>\n",
       "      <td>97.0</td>\n",
       "      <td>80.0</td>\n",
       "      <td>56.0</td>\n",
       "      <td>94.0</td>\n",
       "      <td>54.0</td>\n",
       "    </tr>\n",
       "    <tr>\n",
       "      <th>ἐλευθερόω</th>\n",
       "      <td>5.0</td>\n",
       "      <td>156.0</td>\n",
       "      <td>170.0</td>\n",
       "      <td>229.0</td>\n",
       "      <td>59.0</td>\n",
       "      <td>57.0</td>\n",
       "      <td>97.0</td>\n",
       "      <td>27.0</td>\n",
       "    </tr>\n",
       "    <tr>\n",
       "      <th>μεσημβρινός</th>\n",
       "      <td>5.0</td>\n",
       "      <td>18.0</td>\n",
       "      <td>209.0</td>\n",
       "      <td>322.0</td>\n",
       "      <td>34.0</td>\n",
       "      <td>6.0</td>\n",
       "      <td>16.0</td>\n",
       "      <td>16.0</td>\n",
       "    </tr>\n",
       "    <tr>\n",
       "      <th>φαιδρός</th>\n",
       "      <td>5.0</td>\n",
       "      <td>25.0</td>\n",
       "      <td>8.0</td>\n",
       "      <td>131.0</td>\n",
       "      <td>79.0</td>\n",
       "      <td>9.0</td>\n",
       "      <td>39.0</td>\n",
       "      <td>12.0</td>\n",
       "    </tr>\n",
       "    <tr>\n",
       "      <th>πρεσβεύω</th>\n",
       "      <td>5.0</td>\n",
       "      <td>179.0</td>\n",
       "      <td>181.0</td>\n",
       "      <td>332.0</td>\n",
       "      <td>139.0</td>\n",
       "      <td>54.0</td>\n",
       "      <td>116.0</td>\n",
       "      <td>55.0</td>\n",
       "    </tr>\n",
       "  </tbody>\n",
       "</table>\n",
       "</div>"
      ]
     },
     "execution_count": 81,
     "metadata": {},
     "output_type": "execute_result"
    }
   ],
   "execution_count": 81
  },
  {
   "metadata": {
    "ExecuteTime": {
     "end_time": "2024-02-06T13:16:36.052846Z",
     "start_time": "2024-02-06T13:16:36.043937Z"
    }
   },
   "cell_type": "code",
   "source": [
    "shared_vocabulary = list(wordcounts_df[(wordcounts_df >= 5).all(axis=1)].index) # .notnull().all(axis=1).sum())\n",
    "len(shared_vocabulary)"
   ],
   "outputs": [
    {
     "data": {
      "text/plain": [
       "1929"
      ]
     },
     "execution_count": 82,
     "metadata": {},
     "output_type": "execute_result"
    }
   ],
   "execution_count": 82
  },
  {
   "cell_type": "code",
   "source": [
    "with open(\"../data/shared_vocabulary.pickle\", \"wb\") as f:\n",
    "    pickle.dump(shared_vocabulary, f)"
   ],
   "metadata": {
    "collapsed": false,
    "ExecuteTime": {
     "end_time": "2024-02-06T13:16:48.428846Z",
     "start_time": "2024-02-06T13:16:48.425736Z"
    }
   },
   "outputs": [],
   "execution_count": 83
  },
  {
   "metadata": {
    "ExecuteTime": {
     "end_time": "2024-02-06T13:17:00.836204Z",
     "start_time": "2024-02-06T13:17:00.644962Z"
    }
   },
   "cell_type": "code",
   "source": [
    "vocabulary_mostcommon2000 = []\n",
    "for key in subcorpora_ids_dict.keys():\n",
    "    vocabulary_mostcommon2000.extend(list(wordcounts_df.sort_values(key, ascending=False).index[:2000]))"
   ],
   "outputs": [],
   "execution_count": 85
  },
  {
   "metadata": {
    "ExecuteTime": {
     "end_time": "2024-02-06T13:17:03.106610Z",
     "start_time": "2024-02-06T13:17:03.103313Z"
    }
   },
   "cell_type": "code",
   "source": [
    "len(list(set(vocabulary_mostcommon2000 + shared_vocabulary)))"
   ],
   "outputs": [
    {
     "data": {
      "text/plain": [
       "5399"
      ]
     },
     "execution_count": 86,
     "metadata": {},
     "output_type": "execute_result"
    }
   ],
   "execution_count": 86
  },
  {
   "metadata": {
    "ExecuteTime": {
     "end_time": "2024-02-06T13:17:08.574551Z",
     "start_time": "2024-02-06T13:17:08.570416Z"
    }
   },
   "cell_type": "code",
   "source": [
    "vocabulary_balanced = list(set(vocabulary_mostcommon2000 + shared_vocabulary))\n",
    "with open(\"../data/vocabulary_balanced.pickle\", \"wb\") as f:\n",
    "    pickle.dump(vocabulary_balanced, f)"
   ],
   "outputs": [],
   "execution_count": 87
  },
  {
   "cell_type": "code",
   "source": [
    "wordcounts_df.to_json(\"../data/large_data/wordcounts_df.json\")\n",
    "wordfreqs_df.to_json(\"../data/large_data/wordfreqs_df.json\")"
   ],
   "metadata": {
    "collapsed": false,
    "ExecuteTime": {
     "end_time": "2024-02-06T13:17:13.315195Z",
     "start_time": "2024-02-06T13:17:11.917128Z"
    }
   },
   "outputs": [],
   "execution_count": 88
  },
  {
   "metadata": {
    "ExecuteTime": {
     "end_time": "2024-02-06T13:17:18.815216Z",
     "start_time": "2024-02-06T13:17:14.669397Z"
    }
   },
   "cell_type": "code",
   "source": [
    "LAGT.to_parquet(\"../data/large_data/LAGT_theos.parquet\")"
   ],
   "outputs": [],
   "execution_count": 89
  },
  {
   "metadata": {},
   "cell_type": "code",
   "outputs": [],
   "source": [],
   "execution_count": null
  }
 ],
 "metadata": {
  "kernelspec": {
   "name": "theos_kernel",
   "language": "python",
   "display_name": "theos_kernel"
  },
  "language_info": {
   "codemirror_mode": {
    "name": "ipython",
    "version": 2
   },
   "file_extension": ".py",
   "mimetype": "text/x-python",
   "name": "python",
   "nbconvert_exporter": "python",
   "pygments_lexer": "ipython2",
   "version": "2.7.6"
  }
 },
 "nbformat": 4,
 "nbformat_minor": 0
}
