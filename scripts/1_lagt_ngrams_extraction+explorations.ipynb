{
 "cells": [
  {
   "metadata": {},
   "cell_type": "code",
   "outputs": [],
   "execution_count": null,
   "source": [
    "import pandas as pd\n",
    "pd.set_option('display.max_colwidth', 50)\n",
    "from nltk import FreqDist\n",
    "import nltk\n",
    "import pickle\n",
    "import google_conf\n",
    "import matplotlib.pyplot as plt\n",
    "import os"
   ]
  },
  {
   "metadata": {},
   "cell_type": "code",
   "outputs": [],
   "execution_count": null,
   "source": [
    "# global parameters for plots\n",
    "plt.style.use(\"seaborn-white\")\n",
    "plt.rcParams['figure.dpi'] = 300\n",
    "plt.rcParams[\"font.family\"] = \"sans-serif\"\n",
    "plt.rcParams['font.size'] = 8\n",
    "\n",
    "def save_figure(fig, fig_name):\n",
    "    #each figure to be saved in four different versions\n",
    "    fig.savefig(\"../figures/\" + fig_name + \".tiff\")\n",
    "    fig.savefig(\"../figures/\" + fig_name + \".png\")"
   ]
  },
  {
   "metadata": {},
   "cell_type": "code",
   "outputs": [],
   "execution_count": null,
   "source": [
    "# point out to your google service account and a google sheet URL to which you wish to send your data\n",
    "# if you dont have access to the linked gsheet file, skip this step\n",
    "theos_data = google_conf.setup(sheet_url=\"https://docs.google.com/spreadsheets/d/19gfECdrg5rDiU2PhNYL1nKifeKzemCfYtYrAHQX5vXE/edit?usp=sharing\", service_account_path=\"../../../ServiceAccountsKey.json\")"
   ]
  },
  {
   "metadata": {},
   "cell_type": "code",
   "outputs": [],
   "execution_count": null,
   "source": [
    "# load LAGT (v3.0) dataset locally or download it directly from Zenodo\n",
    "try:\n",
    "    local_paths = !find ~/notebooks -name \"LAGT_v3-0.parquet\"\n",
    "    print(local_paths)\n",
    "    LAGT = pd.read_parquet(local_paths[0])\n",
    "except:\n",
    "    pass\n",
    "    LAGT = pd.read_parquet(\"https://zenodo.org/records/10684841/files/LAGT_v3-0.parquet?download=1\")\n",
    "    os.mkdir(\"../data/large_data/\")\n",
    "    LAGT.to_parquet(\"../data/large_data/LAGT_v3-0.parquet\")"
   ]
  },
  {
   "metadata": {},
   "cell_type": "markdown",
   "source": "# Short demonstration of the LAGT dataset..."
  },
  {
   "metadata": {},
   "cell_type": "code",
   "outputs": [],
   "execution_count": null,
   "source": "LAGT.head(5)"
  },
  {
   "metadata": {},
   "cell_type": "code",
   "outputs": [],
   "execution_count": null,
   "source": "len(LAGT)"
  },
  {
   "metadata": {},
   "cell_type": "code",
   "outputs": [],
   "execution_count": null,
   "source": "LAGT[\"author_id\"].nunique()"
  },
  {
   "metadata": {},
   "cell_type": "code",
   "outputs": [],
   "execution_count": null,
   "source": [
    "\n",
    "LAGT[\"wordcount\"].sum()"
   ]
  },
  {
   "metadata": {},
   "cell_type": "code",
   "outputs": [],
   "execution_count": null,
   "source": "LAGT[LAGT[\"author_id\"].str.startswith(\"tlg0031\")]"
  },
  {
   "metadata": {},
   "cell_type": "code",
   "outputs": [],
   "execution_count": null,
   "source": [
    "# extract a list of all lemmatized words from all lemmatized sentences\n",
    "wordlist = [w for sent in [sent for work in LAGT[\"lemmatized_sentences\"] for sent in work] for w in sent]\n",
    "# count all instances of the word θεός\n",
    "wordlist.count(\"θεός\")"
   ]
  },
  {
   "metadata": {},
   "cell_type": "code",
   "outputs": [],
   "execution_count": null,
   "source": [
    "# filter for texts from the fifth and fourth c. BCE\n",
    "len(LAGT[(LAGT[\"not_before\"].between(-500,-301)) | (LAGT[\"not_before\"].between(-500,-301))])"
   ]
  },
  {
   "metadata": {},
   "cell_type": "code",
   "outputs": [],
   "execution_count": null,
   "source": [
    "# index for aristotle's nicomachean ethics\n",
    "i = LAGT[LAGT[\"doc_id\"]==\"tlg0086.tlg010\"].index[0]\n",
    "LAGT.loc[i]"
   ]
  },
  {
   "metadata": {},
   "cell_type": "markdown",
   "source": "# Explore overall vocabulary"
  },
  {
   "metadata": {},
   "cell_type": "code",
   "outputs": [],
   "execution_count": null,
   "source": "sents = [sent for work in LAGT[\"lemmatized_sentences\"] for sent in work]"
  },
  {
   "metadata": {},
   "cell_type": "code",
   "outputs": [],
   "execution_count": null,
   "source": "len(sents)"
  },
  {
   "metadata": {},
   "cell_type": "code",
   "outputs": [],
   "execution_count": null,
   "source": [
    "min_freq = 10\n",
    "\n",
    "def get_vocab(docs, min_freq=min_freq):\n",
    "    words_flat = [item for sublist in docs for item in sublist]\n",
    "    word_freq_tups = FreqDist(words_flat).most_common()\n",
    "    vocabulary = [tup[0] for tup in word_freq_tups if tup[1] >= min_freq]\n",
    "    #vocab_freqs = [len([doc for doc in docs if word in doc]) for word in vocabulary]\n",
    "    return word_freq_tups, words_flat, vocabulary"
   ]
  },
  {
   "metadata": {},
   "cell_type": "code",
   "outputs": [],
   "execution_count": null,
   "source": "word_freqs, words, vocabulary = get_vocab(sents)"
  },
  {
   "metadata": {},
   "cell_type": "code",
   "outputs": [],
   "execution_count": null,
   "source": "pd.DataFrame(word_freqs[:20], columns=[\"lemma\", \"count\"])"
  },
  {
   "metadata": {},
   "cell_type": "markdown",
   "source": "# Generate ngrams"
  },
  {
   "metadata": {},
   "cell_type": "code",
   "outputs": [],
   "execution_count": null,
   "source": [
    "doc_ids = LAGT[\"doc_id\"].tolist()\n",
    "len(doc_ids)"
   ]
  },
  {
   "metadata": {},
   "cell_type": "code",
   "outputs": [],
   "execution_count": null,
   "source": "#!mkdir ../data/large_data"
  },
  {
   "metadata": {},
   "cell_type": "code",
   "outputs": [],
   "execution_count": null,
   "source": [
    "line = 0\n",
    "ids_lines = {}\n",
    "\n",
    "f = open(\"../data/large_data/corpus_ngrams_bydocid_wide.txt\", \"w\", encoding=\"utf-8\")\n",
    "for doc_id in doc_ids:\n",
    "    lagt_subset = LAGT[LAGT[\"doc_id\"]==doc_id]\n",
    "    sents = [sen for work in lagt_subset[\"lemmatized_sentences\"] for sen in work]\n",
    "    sents_trigrams = [list(el) for sublist in [[ng for ng in nltk.trigrams(sent)] for sent in sents] for el in sublist]\n",
    "    sents_fivegrams = [list(el) for sublist in [[ng for ng in nltk.ngrams(sent, n=5)] for sent in sents] for el in sublist]\n",
    "    ngrams_data = sents + sents_fivegrams # + sents_trigrams\n",
    "    ngrams_data = [\" \".join(ngram) for ngram in ngrams_data]\n",
    "    f.writelines(\"\\n\".join(ngrams_data)+\"\\n\")\n",
    "    if bool(ngrams_data):\n",
    "        ids_lines[doc_id] = (line, line+len(ngrams_data))\n",
    "        line += len(ngrams_data)\n",
    "    else:\n",
    "        ids_lines[doc_id] = (line, line+1)\n",
    "        line += 1"
   ]
  },
  {
   "metadata": {},
   "cell_type": "code",
   "outputs": [],
   "execution_count": null,
   "source": "pickle.dump(ids_lines, open(\"../data/ids_lines_wide.pickle\", \"wb\"))"
  },
  {
   "metadata": {},
   "cell_type": "markdown",
   "source": "# Ngram example"
  },
  {
   "metadata": {},
   "cell_type": "code",
   "outputs": [],
   "execution_count": null,
   "source": [
    "# index for aristotle's nicomachean ethics\n",
    "i = LAGT[LAGT[\"doc_id\"]==\"tlg0086.tlg010\"].index[0]"
   ]
  },
  {
   "metadata": {},
   "cell_type": "code",
   "outputs": [],
   "execution_count": null,
   "source": "i"
  },
  {
   "metadata": {},
   "cell_type": "code",
   "outputs": [],
   "execution_count": null,
   "source": "LAGT.loc[i][\"string\"].split(\"·\")[0]"
  },
  {
   "metadata": {},
   "cell_type": "code",
   "outputs": [],
   "execution_count": null,
   "source": [
    "sent = LAGT.loc[i][\"lemmatized_sentences\"][0]\n",
    "print(list(sent))"
   ]
  },
  {
   "metadata": {},
   "cell_type": "code",
   "outputs": [],
   "execution_count": null,
   "source": ""
  },
  {
   "metadata": {},
   "cell_type": "code",
   "outputs": [],
   "execution_count": null,
   "source": [
    "trigrams = [list(ng) for ng in nltk.trigrams(sent)]\n",
    "fivegrams = [list(ng) for ng in nltk.ngrams(sent, n=5)]\n",
    "ngrams_example = [list(sent)] + trigrams + fivegrams\n",
    "print(ngrams_example)"
   ]
  },
  {
   "metadata": {},
   "cell_type": "code",
   "outputs": [],
   "execution_count": null,
   "source": "len(ngrams_example)"
  },
  {
   "metadata": {},
   "cell_type": "markdown",
   "source": "# Exploring subcorpora"
  },
  {
   "metadata": {},
   "cell_type": "code",
   "outputs": [],
   "execution_count": null,
   "source": [
    "periods = {\n",
    "    \"archaic\" : (-800, -501),\n",
    "    \"classical\" : (-500,-301),\n",
    "    \"hellenistic\" : (-300,-1),\n",
    "    \"roman_peak\" : (1, 200),\n",
    "    \"roman_late\" : (201, 400)\n",
    "}   \n",
    "\n",
    "def get_periods(row):\n",
    "    not_before = row[\"not_before\"]\n",
    "    not_after = row[\"not_after\"]\n",
    "    periods_covered = []\n",
    "    try:\n",
    "        for period_key in periods.keys():\n",
    "            period = periods[period_key]\n",
    "            if period[1] >= not_before and not_after >= period[0]:\n",
    "                periods_covered.append(period_key)\n",
    "    except:\n",
    "        pass\n",
    "    return periods_covered"
   ]
  },
  {
   "metadata": {},
   "cell_type": "code",
   "outputs": [],
   "execution_count": null,
   "source": "LAGT[\"periods\"] = LAGT.apply(get_periods, axis=1)"
  },
  {
   "metadata": {},
   "cell_type": "markdown",
   "source": [
    "# Subcorpora IDs\n",
    "\n",
    "\n"
   ]
  },
  {
   "metadata": {},
   "cell_type": "code",
   "outputs": [],
   "execution_count": null,
   "source": [
    "subcorpora_ids_dict = {}\n",
    "\n",
    "periods = [\"archaic\", \"classical\", \"hellenistic\", \"roman_peak\", \"roman_late\"]\n",
    "for per in periods:\n",
    "    prov = \"pagan\"\n",
    "    LAGT_subset = LAGT[(LAGT[\"periods\"].apply(lambda x: per in x)) & (LAGT[\"provenience\"]==prov)]\n",
    "    ids = list(LAGT_subset[\"doc_id\"])\n",
    "    subcorpora_ids_dict[prov + \"_\" + per] = ids\n",
    "\n",
    "for per in [\"roman_peak\", \"roman_late\"]:\n",
    "    prov = \"christian\"\n",
    "    LAGT_subset = LAGT[(LAGT[\"periods\"].apply(lambda x: per in x)) & (LAGT[\"provenience\"]==prov)]\n",
    "    ids = list(LAGT_subset[\"doc_id\"])\n",
    "    subcorpora_ids_dict[prov + \"_\" + per] = ids\n",
    "\n",
    "prov = \"jewish\"\n",
    "LAGT_subset = LAGT[(LAGT[\"provenience\"]==prov)]\n",
    "ids = list(LAGT_subset[\"doc_id\"])\n",
    "subcorpora_ids_dict[\"jewish\"] = ids\n",
    "\n",
    "subcorpora_ids_dict.keys()"
   ]
  },
  {
   "metadata": {},
   "cell_type": "code",
   "outputs": [],
   "execution_count": null,
   "source": [
    "# checking that it works \"The Passion of Saints Perpetua and Felicity\" which we corrected recetly\n",
    "for key in subcorpora_ids_dict.keys():\n",
    "    if \"tlg2016.tlg001\" in subcorpora_ids_dict[key]:\n",
    "        print(key)"
   ]
  },
  {
   "metadata": {},
   "cell_type": "code",
   "outputs": [],
   "execution_count": null,
   "source": [
    "with open(\"../data/subcorpora_ids_dict.pickle\", \"wb\") as f:\n",
    "    pickle.dump(subcorpora_ids_dict, f)"
   ]
  },
  {
   "metadata": {},
   "cell_type": "code",
   "outputs": [],
   "execution_count": null,
   "source": [
    "with open(\"../data/subcorpora_ids_dict.pickle\", \"rb\") as f:\n",
    "    subcorpora_ids_dict = pickle.load(f)"
   ]
  },
  {
   "metadata": {},
   "cell_type": "code",
   "outputs": [],
   "execution_count": null,
   "source": "subcorpora_readable_labels = [\"Pagan Archaic\", \"Pagan Classical\", \"Pagan Hellensitic\", \"Pagan Roman (1-2 CE)\", \"Pagan Roman (3-6 CE)\", \"Christian (1-2 CE)\", \"Christian (3-6 CE)\", \"Jewish\"]"
  },
  {
   "metadata": {},
   "cell_type": "code",
   "outputs": [],
   "execution_count": null,
   "source": [
    "subcorpora_overview = []\n",
    "for period_key in subcorpora_ids_dict.keys():\n",
    "    LAGT_subset = LAGT[LAGT[\"doc_id\"].isin(subcorpora_ids_dict[period_key])]\n",
    "    subcorpora_overview.append(\n",
    "        {\"subcorpus\" : period_key,\n",
    "         \"works (N)\" : len(LAGT_subset),\n",
    "         \"tokens (N)\" : LAGT_subset[\"wordcount\"].sum(),\n",
    "         \"lemmata (N)\" : LAGT_subset[\"lemmatacount\"].sum()\n",
    "         }\n",
    "    )\n",
    "subcorpora_overview_df = pd.DataFrame(subcorpora_overview)\n",
    "subcorpora_overview_df[\"subcorpus\"] = subcorpora_readable_labels\n",
    "subcorpora_overview_df"
   ]
  },
  {
   "metadata": {},
   "cell_type": "code",
   "outputs": [],
   "execution_count": null,
   "source": "# TO-DO: numbers to english string format: 1000000 -> 1,000,000"
  },
  {
   "metadata": {},
   "cell_type": "code",
   "outputs": [],
   "execution_count": null,
   "source": [
    "#google_conf.set_with_dataframe(theos_data.add_worksheet(\"subcorpora_overview_labels\", 1,1), subcorpora_overview_df)\n",
    "subcorpora_overview_df.to_csv(\"../data/subcorpora_overview_df_labels.csv\", index=False)"
   ]
  },
  {
   "metadata": {},
   "cell_type": "markdown",
   "source": "### Overview by century"
  },
  {
   "metadata": {},
   "cell_type": "code",
   "outputs": [],
   "execution_count": null,
   "source": [
    "centuries = [(str(int(n / -100)) + \"BCE\",  n, n+ 99) for n in range(-800, 0, 100)] + [(str(int(n / 100)) + \"CE\",  n - 99, n) for n in range(100, 700, 100)]\n",
    "centuries"
   ]
  },
  {
   "metadata": {},
   "cell_type": "code",
   "outputs": [],
   "execution_count": null,
   "source": [
    "def get_sents(row):\n",
    "    not_before = row[\"not_before\"]\n",
    "    not_after = row[\"not_after\"]\n",
    "    centuries_covered = []\n",
    "    try:\n",
    "        for cent in centuries:\n",
    "            if cent[2] >= not_before and not_after >= cent[2]:\n",
    "                centuries_covered.append(cent[0])\n",
    "    except:\n",
    "        pass\n",
    "    return centuries_covered"
   ]
  },
  {
   "metadata": {},
   "cell_type": "code",
   "outputs": [],
   "execution_count": null,
   "source": "LAGT[\"cents\"] = LAGT.apply(get_sents, axis=1)"
  },
  {
   "metadata": {},
   "cell_type": "code",
   "outputs": [],
   "execution_count": null,
   "source": [
    "LAGT_subset = LAGT[LAGT[\"cents\"].apply(lambda x: \"8BCE\" in x)]\n",
    "LAGT_subset"
   ]
  },
  {
   "metadata": {},
   "cell_type": "code",
   "outputs": [],
   "execution_count": null,
   "source": "LAGT[\"cents\"].apply(lambda x: len(x) > 1).sum() / len(LAGT)"
  },
  {
   "metadata": {},
   "cell_type": "code",
   "outputs": [],
   "execution_count": null,
   "source": "LAGT[LAGT[\"author\"].str.contains(\"Septuagint\", na=False)]\n"
  },
  {
   "metadata": {},
   "cell_type": "code",
   "outputs": [],
   "execution_count": null,
   "source": "LAGT[LAGT[\"author\"].str.contains(\"Plato\", na=False)]"
  },
  {
   "metadata": {},
   "cell_type": "code",
   "outputs": [],
   "execution_count": null,
   "source": [
    "centuries_overview = []\n",
    "for cent in centuries:\n",
    "    LAGT_subset = LAGT[LAGT[\"cents\"].apply(lambda x: cent[0] in x)]\n",
    "    centuries_overview.append(\n",
    "        {\"period\" : cent[0],\n",
    "         \"works_n\" : len(LAGT_subset),\n",
    "         \"tokens_n\" : LAGT_subset[\"wordcount\"].sum(),\n",
    "         \"lemmata_n\" : LAGT_subset[\"lemmatacount\"].sum()\n",
    "         }\n",
    "    )\n",
    "centuries_overview_df = pd.DataFrame(centuries_overview)\n",
    "centuries_overview_df"
   ]
  },
  {
   "metadata": {},
   "cell_type": "code",
   "outputs": [],
   "execution_count": null,
   "source": [
    "centuries_overview = []\n",
    "for cent in centuries:\n",
    "    century_data = {}\n",
    "    century_data[\"cent\"] = cent\n",
    "    for provenvience in [\"pagan\", \"christian\", \"jewish\"]:\n",
    "        LAGT_subset = LAGT[(LAGT[\"cents\"].apply(lambda x: cent[0] in x)) & (LAGT[\"provenience\"]==provenvience)]\n",
    "        century_data[provenvience + \"_tokens_n\"] = LAGT_subset[\"wordcount\"].sum()\n",
    "        century_data[provenvience + \"_lemmata_n\"] = LAGT_subset[\"lemmatacount\"].sum()\n",
    "    centuries_overview.append(century_data)\n",
    "centuries_overview_df = pd.DataFrame(centuries_overview)\n",
    "centuries_overview_df"
   ]
  },
  {
   "metadata": {},
   "cell_type": "code",
   "outputs": [],
   "execution_count": null,
   "source": "centuries_overview_df[\"cent_label\"] = centuries_overview_df[\"cent\"].apply(lambda x: x[0])"
  },
  {
   "metadata": {},
   "cell_type": "code",
   "outputs": [],
   "execution_count": null,
   "source": "google_conf.set_with_dataframe(theos_data.add_worksheet(\"centuries_overview\", 1,1), centuries_overview_df)"
  },
  {
   "metadata": {},
   "cell_type": "code",
   "outputs": [],
   "execution_count": null,
   "source": [
    "colors = [\"darkblue\", \"darkgreen\", \"darkred\"]\n",
    "periods_colors = ['lightcyan',\n",
    "                  'lightgoldenrodyellow',\n",
    "                  'lightgray',\n",
    "                  'lightgreen',\n",
    "                  'lightpink']"
   ]
  },
  {
   "metadata": {},
   "cell_type": "code",
   "outputs": [],
   "execution_count": null,
   "source": [
    "periods_dict = { # to avoid overlaps, startdates are postponed by one year, when needed\n",
    "    \"archaic\" : {\"startdate\": -0.5, \"enddate\" : 2.5},\n",
    "    \"classical\" : {\"startdate\": 2.5, \"enddate\": 4.5},\n",
    "    \"hellenistic\" : {\"startdate\" : 4.5, \"enddate\" : 7.5},\n",
    "    \"roman_peak\" : {\"startdate\": 7.5, \"enddate\": 9.5},\n",
    "    \"roman_late\" : {\"startdate\" : 9.5, \"enddate\" : 13.5}}"
   ]
  },
  {
   "metadata": {},
   "cell_type": "code",
   "outputs": [],
   "execution_count": null,
   "source": "periods_labels = [\"Archaic\", \"Classical\", \"Hellenistic\", \"Roman\\n(1-2 CE)\", \"Roman\\n(3-6 CE)\"]"
  },
  {
   "metadata": {},
   "cell_type": "code",
   "outputs": [],
   "execution_count": null,
   "source": [
    "import matplotlib.pyplot as plt\n",
    "\n",
    "# Create the figure and axis\n",
    "fig, ax = plt.subplots(figsize=(3.5, 2.5), tight_layout=True)\n",
    "\n",
    "# Set y-ticks and labels\n",
    "ax.set_yticks(range(0, 20000000, 2000000))\n",
    "ax.set_yticklabels([str(n) + \"M\" for n in range(0, 20, 2)])\n",
    "ax.set_ylim(0, 13000000)\n",
    "ax.set_xlim(-1, 14)\n",
    "\n",
    "# Highlight periods with axvspan and annotate each\n",
    "for n, (period, color) in enumerate(zip(periods_dict.keys(), periods_colors)):\n",
    "    ax.axvspan(periods_dict[period][\"startdate\"], periods_dict[period][\"enddate\"], color=color, alpha=0.3)\n",
    "    midpoint = (periods_dict[period][\"startdate\"] + periods_dict[period][\"enddate\"]) / 2  # calculate midpoint for label\n",
    "    ax.annotate(periods_labels[n], (midpoint, ax.get_ylim()[1] * 0.95), xytext=(0, 10),\n",
    "                textcoords='offset points', ha='center', va='bottom', rotation=90)\n",
    "\n",
    "# Plot the dataframe with stacked bars and store the returned AxesSubplot\n",
    "centuries_overview_df[[\"pagan_tokens_n\", \"jewish_tokens_n\", \"christian_tokens_n\"]].plot(kind='bar', color=colors,\n",
    "                                                                                        stacked=True, ax=ax)\n",
    "\n",
    "# Set x-ticks and labels\n",
    "ax.set_xticks(range(0, 14))\n",
    "ax.set_xticklabels(centuries_overview_df[\"cent_label\"])\n",
    "\n",
    "# Set custom legend labels for the bar plot\n",
    "handles, _ = ax.get_legend_handles_labels()\n",
    "ax.legend(handles, [\"Pagan tokens\", \"Jewish tokens\", \"Christian tokens\"], loc='best')\n",
    "\n",
    "# Show plot\n",
    "plt.show()\n"
   ]
  },
  {
   "metadata": {},
   "cell_type": "code",
   "outputs": [],
   "execution_count": null,
   "source": "save_figure(fig, \"centuries_overview\")"
  },
  {
   "metadata": {},
   "cell_type": "markdown",
   "source": "# Building vocabulary data"
  },
  {
   "metadata": {},
   "cell_type": "code",
   "outputs": [],
   "execution_count": null,
   "source": [
    "def try_to_get_from_freqdict(word, word_freqs_dict):\n",
    "    total_N = sum([val for val in word_freqs_dict.values()])\n",
    "    try:\n",
    "        count = word_freqs_dict[word]\n",
    "        freq = count #/ total_N\n",
    "    except:\n",
    "        freq = 0\n",
    "    return freq\n",
    "\n",
    "\n",
    "min_freq = 5\n",
    "\n",
    "def get_vocab(docs, min_freq=min_freq):\n",
    "    words_flat = [item for sublist in docs for item in sublist]\n",
    "    total_words = len(words_flat)\n",
    "    wordcounts_tups = FreqDist(words_flat).most_common()\n",
    "    wordfreqs_tups = [(tup[0], tup[1] / total_words) for tup in wordcounts_tups]\n",
    "    return wordcounts_tups, wordfreqs_tups\n",
    "\n",
    "wordcounts_dicts = []\n",
    "wordfreqs_dicts = []\n",
    "\n",
    "\n",
    "for sub in subcorpora_ids_dict.keys():\n",
    "    subset = LAGT[LAGT[\"doc_id\"].isin(subcorpora_ids_dict[sub])]\n",
    "    sents = [sent for work in subset[\"lemmatized_sentences\"] for sent in work]\n",
    "    wordcounts_tups, wordfreqs_tups = get_vocab(sents)\n",
    "    wordcounts_dicts.append(dict(wordcounts_tups))\n",
    "    wordfreqs_dicts.append(dict(wordfreqs_tups))"
   ]
  },
  {
   "metadata": {},
   "cell_type": "code",
   "outputs": [],
   "execution_count": null,
   "source": [
    "wordcounts_df = pd.DataFrame(wordcounts_dicts).T\n",
    "wordcounts_df.columns = subcorpora_ids_dict.keys()\n",
    "wordcounts_df.fillna(0, inplace=True)\n",
    "wordcounts_df = wordcounts_df.astype(int)\n",
    "wordcounts_df.head(5)"
   ]
  },
  {
   "metadata": {},
   "cell_type": "code",
   "outputs": [],
   "execution_count": null,
   "source": [
    "wordfreqs_df = pd.DataFrame(wordfreqs_dicts).T\n",
    "wordfreqs_df.columns = subcorpora_ids_dict.keys()\n",
    "wordfreqs_df.head(5)"
   ]
  },
  {
   "metadata": {},
   "cell_type": "code",
   "outputs": [],
   "execution_count": null,
   "source": "wordfreqs_df[\"freq_avg\"] = wordfreqs_df.mean(axis=1)"
  },
  {
   "metadata": {},
   "cell_type": "code",
   "outputs": [],
   "execution_count": null,
   "source": [
    "religion_final = [\"θεός\", \"Ζεύς\", \"εὐσεβής\", 'ἱερός']\n",
    "morality_final = [\"ἀγαθός\", \"ἀρετή\", \"δίκαιος\", \"τιμή\"]"
   ]
  },
  {
   "metadata": {},
   "cell_type": "code",
   "outputs": [],
   "execution_count": null,
   "source": "pd.concat([wordfreqs_df.loc[religion_final], wordfreqs_df.loc[morality_final]])"
  },
  {
   "metadata": {},
   "cell_type": "code",
   "outputs": [],
   "execution_count": null,
   "source": "pd.concat([wordcounts_df.loc[religion_final], wordcounts_df.loc[morality_final]])"
  },
  {
   "metadata": {},
   "cell_type": "code",
   "outputs": [],
   "execution_count": null,
   "source": "len(wordcounts_df)"
  },
  {
   "metadata": {},
   "cell_type": "code",
   "outputs": [],
   "execution_count": null,
   "source": "wordcounts_df[(wordcounts_df >= 5).all(axis=1)].tail(10)# # .notnull().all(axis=1).sum()"
  },
  {
   "metadata": {},
   "cell_type": "code",
   "outputs": [],
   "execution_count": null,
   "source": [
    "filtered_df = wordcounts_df[(wordcounts_df >= 5).all(axis=1)]\n",
    "len(filtered_df)\n",
    "shared_vocabulary = filtered_df.index.tolist()\n",
    "len(shared_vocabulary)"
   ]
  },
  {
   "metadata": {},
   "cell_type": "code",
   "outputs": [],
   "execution_count": null,
   "source": [
    "filtered_df[\"total\"] = filtered_df.sum(axis=1)\n",
    "filtered_df.sort_values(\"total\", ascending=False).head(100)"
   ]
  },
  {
   "metadata": {
    "ExecuteTime": {
     "end_time": "2025-03-27T07:00:13.907872Z",
     "start_time": "2025-03-27T07:00:12.435268Z"
    }
   },
   "cell_type": "code",
   "source": [
    "morality_mft = google_conf.get_as_dataframe(theos_data.worksheet(\"morality_mft\"))\n",
    "morality_mft"
   ],
   "outputs": [
    {
     "data": {
      "text/plain": [
       "           term                                        translation  \\\n",
       "0        ἀγαθός                                     good, virtuous   \n",
       "1     εὐεργετέω                                to do good, benefit   \n",
       "2     εὐεργεσία                             benefaction, good deed   \n",
       "3     εὐεργέτης                                         benefactor   \n",
       "4         ἔλεος                                        pity, mercy   \n",
       "5       οἰκτίρω                           to pity, show compassion   \n",
       "6         ἀγάπη                                      love, charity   \n",
       "7   φιλάνθρωπος                           benevolent, humanitarian   \n",
       "8       δίκαιος                                    just, righteous   \n",
       "9    δικαιοσύνη                             justice, righteousness   \n",
       "10      δικαιόω                              to justify, make just   \n",
       "11       ἀδικέω                             to wrong, do injustice   \n",
       "12       ἄδικος                                    unjust, immoral   \n",
       "13      ἀλήθεια                                              truth   \n",
       "14    ἐλευθερία                                    freedom/liberty   \n",
       "15     ἰσονομία                  equality before the law, fairness   \n",
       "16        χάρις                      reciprocity, favor, gratitude   \n",
       "17       ἰσότης                                 equality, fairness   \n",
       "18     ἀπολογία                             defense, justification   \n",
       "19        φίλος                                  friend, loved one   \n",
       "20      ἀνδρεία       courage, bravery in defense of the community   \n",
       "21         νίκη        victory, often tied to loyalty to the group   \n",
       "22        φιλία  friendship, a morally positive bond between in...   \n",
       "23       πιστός                                    faithful, loyal   \n",
       "24      ὑποταγή          submission, loyalty to authority or state   \n",
       "25    ἀφοσίωσις                               dedication, devotion   \n",
       "26    σωφροσύνη               self-control, temperance, moderation   \n",
       "27         τιμή                                      honor, esteem   \n",
       "28        τιμάω                             to honor, show respect   \n",
       "29    σπουδαῖος   serious, diligent in moral and virtuous pursuits   \n",
       "30    ἐπαινετός                   praiseworthy, deserving of honor   \n",
       "31  μεγαλοψυχία                    magnanimity, nobility of spirit   \n",
       "32  μεγαλόψυχος                         magnanimous, noble-hearted   \n",
       "33         δόξα   glory, often morally related to virtue and honor   \n",
       "34        ἀρετή                                 virtue, excellence   \n",
       "35     φρόνησις                         prudence, practical wisdom   \n",
       "36    φιλοτιμία  love of honor, striving for excellence in mora...   \n",
       "37         ἀρχή          rule, leadership based on moral authority   \n",
       "38     καθαρμός                      purification, moral cleansing   \n",
       "39       μίασμα             pollution, defilement, morally unclean   \n",
       "40    ἀκάθαρτος                unclean, impure, morally degenerate   \n",
       "41    βέλτιστος                            best, morally excellent   \n",
       "42      βελτίων                           better, morally superior   \n",
       "\n",
       "                                 moral_foundation  \n",
       "0              ['Care/Harm', 'Fairness/Cheating']  \n",
       "1                                   ['Care/Harm']  \n",
       "2                                   ['Care/Harm']  \n",
       "3                                   ['Care/Harm']  \n",
       "4                                   ['Care/Harm']  \n",
       "5                                   ['Care/Harm']  \n",
       "6                                   ['Care/Harm']  \n",
       "7                                   ['Care/Harm']  \n",
       "8                           ['Fairness/Cheating']  \n",
       "9                           ['Fairness/Cheating']  \n",
       "10                          ['Fairness/Cheating']  \n",
       "11                          ['Fairness/Cheating']  \n",
       "12                          ['Fairness/Cheating']  \n",
       "13                          ['Fairness/Cheating']  \n",
       "14  ['Fairness/Cheating', 'Authority/Subversion']  \n",
       "15                          ['Fairness/Cheating']  \n",
       "16             ['Fairness/Cheating', 'Care/Harm']  \n",
       "17                          ['Fairness/Cheating']  \n",
       "18                          ['Fairness/Cheating']  \n",
       "19                           ['Loyalty/Betrayal']  \n",
       "20                           ['Loyalty/Betrayal']  \n",
       "21                           ['Loyalty/Betrayal']  \n",
       "22                           ['Loyalty/Betrayal']  \n",
       "23                           ['Loyalty/Betrayal']  \n",
       "24   ['Loyalty/Betrayal', 'Authority/Subversion']  \n",
       "25                           ['Loyalty/Betrayal']  \n",
       "26                       ['Authority/Subversion']  \n",
       "27                       ['Authority/Subversion']  \n",
       "28                       ['Authority/Subversion']  \n",
       "29                       ['Authority/Subversion']  \n",
       "30                       ['Authority/Subversion']  \n",
       "31                       ['Authority/Subversion']  \n",
       "32                       ['Authority/Subversion']  \n",
       "33                       ['Authority/Subversion']  \n",
       "34                       ['Authority/Subversion']  \n",
       "35                       ['Authority/Subversion']  \n",
       "36                       ['Authority/Subversion']  \n",
       "37                       ['Authority/Subversion']  \n",
       "38                       ['Sanctity/Degradation']  \n",
       "39                       ['Sanctity/Degradation']  \n",
       "40                       ['Sanctity/Degradation']  \n",
       "41             ['Care/Harm', 'Fairness/Cheating']  \n",
       "42             ['Care/Harm', 'Fairness/Cheating']  "
      ],
      "text/html": [
       "<div>\n",
       "<style scoped>\n",
       "    .dataframe tbody tr th:only-of-type {\n",
       "        vertical-align: middle;\n",
       "    }\n",
       "\n",
       "    .dataframe tbody tr th {\n",
       "        vertical-align: top;\n",
       "    }\n",
       "\n",
       "    .dataframe thead th {\n",
       "        text-align: right;\n",
       "    }\n",
       "</style>\n",
       "<table border=\"1\" class=\"dataframe\">\n",
       "  <thead>\n",
       "    <tr style=\"text-align: right;\">\n",
       "      <th></th>\n",
       "      <th>term</th>\n",
       "      <th>translation</th>\n",
       "      <th>moral_foundation</th>\n",
       "    </tr>\n",
       "  </thead>\n",
       "  <tbody>\n",
       "    <tr>\n",
       "      <th>0</th>\n",
       "      <td>ἀγαθός</td>\n",
       "      <td>good, virtuous</td>\n",
       "      <td>['Care/Harm', 'Fairness/Cheating']</td>\n",
       "    </tr>\n",
       "    <tr>\n",
       "      <th>1</th>\n",
       "      <td>εὐεργετέω</td>\n",
       "      <td>to do good, benefit</td>\n",
       "      <td>['Care/Harm']</td>\n",
       "    </tr>\n",
       "    <tr>\n",
       "      <th>2</th>\n",
       "      <td>εὐεργεσία</td>\n",
       "      <td>benefaction, good deed</td>\n",
       "      <td>['Care/Harm']</td>\n",
       "    </tr>\n",
       "    <tr>\n",
       "      <th>3</th>\n",
       "      <td>εὐεργέτης</td>\n",
       "      <td>benefactor</td>\n",
       "      <td>['Care/Harm']</td>\n",
       "    </tr>\n",
       "    <tr>\n",
       "      <th>4</th>\n",
       "      <td>ἔλεος</td>\n",
       "      <td>pity, mercy</td>\n",
       "      <td>['Care/Harm']</td>\n",
       "    </tr>\n",
       "    <tr>\n",
       "      <th>5</th>\n",
       "      <td>οἰκτίρω</td>\n",
       "      <td>to pity, show compassion</td>\n",
       "      <td>['Care/Harm']</td>\n",
       "    </tr>\n",
       "    <tr>\n",
       "      <th>6</th>\n",
       "      <td>ἀγάπη</td>\n",
       "      <td>love, charity</td>\n",
       "      <td>['Care/Harm']</td>\n",
       "    </tr>\n",
       "    <tr>\n",
       "      <th>7</th>\n",
       "      <td>φιλάνθρωπος</td>\n",
       "      <td>benevolent, humanitarian</td>\n",
       "      <td>['Care/Harm']</td>\n",
       "    </tr>\n",
       "    <tr>\n",
       "      <th>8</th>\n",
       "      <td>δίκαιος</td>\n",
       "      <td>just, righteous</td>\n",
       "      <td>['Fairness/Cheating']</td>\n",
       "    </tr>\n",
       "    <tr>\n",
       "      <th>9</th>\n",
       "      <td>δικαιοσύνη</td>\n",
       "      <td>justice, righteousness</td>\n",
       "      <td>['Fairness/Cheating']</td>\n",
       "    </tr>\n",
       "    <tr>\n",
       "      <th>10</th>\n",
       "      <td>δικαιόω</td>\n",
       "      <td>to justify, make just</td>\n",
       "      <td>['Fairness/Cheating']</td>\n",
       "    </tr>\n",
       "    <tr>\n",
       "      <th>11</th>\n",
       "      <td>ἀδικέω</td>\n",
       "      <td>to wrong, do injustice</td>\n",
       "      <td>['Fairness/Cheating']</td>\n",
       "    </tr>\n",
       "    <tr>\n",
       "      <th>12</th>\n",
       "      <td>ἄδικος</td>\n",
       "      <td>unjust, immoral</td>\n",
       "      <td>['Fairness/Cheating']</td>\n",
       "    </tr>\n",
       "    <tr>\n",
       "      <th>13</th>\n",
       "      <td>ἀλήθεια</td>\n",
       "      <td>truth</td>\n",
       "      <td>['Fairness/Cheating']</td>\n",
       "    </tr>\n",
       "    <tr>\n",
       "      <th>14</th>\n",
       "      <td>ἐλευθερία</td>\n",
       "      <td>freedom/liberty</td>\n",
       "      <td>['Fairness/Cheating', 'Authority/Subversion']</td>\n",
       "    </tr>\n",
       "    <tr>\n",
       "      <th>15</th>\n",
       "      <td>ἰσονομία</td>\n",
       "      <td>equality before the law, fairness</td>\n",
       "      <td>['Fairness/Cheating']</td>\n",
       "    </tr>\n",
       "    <tr>\n",
       "      <th>16</th>\n",
       "      <td>χάρις</td>\n",
       "      <td>reciprocity, favor, gratitude</td>\n",
       "      <td>['Fairness/Cheating', 'Care/Harm']</td>\n",
       "    </tr>\n",
       "    <tr>\n",
       "      <th>17</th>\n",
       "      <td>ἰσότης</td>\n",
       "      <td>equality, fairness</td>\n",
       "      <td>['Fairness/Cheating']</td>\n",
       "    </tr>\n",
       "    <tr>\n",
       "      <th>18</th>\n",
       "      <td>ἀπολογία</td>\n",
       "      <td>defense, justification</td>\n",
       "      <td>['Fairness/Cheating']</td>\n",
       "    </tr>\n",
       "    <tr>\n",
       "      <th>19</th>\n",
       "      <td>φίλος</td>\n",
       "      <td>friend, loved one</td>\n",
       "      <td>['Loyalty/Betrayal']</td>\n",
       "    </tr>\n",
       "    <tr>\n",
       "      <th>20</th>\n",
       "      <td>ἀνδρεία</td>\n",
       "      <td>courage, bravery in defense of the community</td>\n",
       "      <td>['Loyalty/Betrayal']</td>\n",
       "    </tr>\n",
       "    <tr>\n",
       "      <th>21</th>\n",
       "      <td>νίκη</td>\n",
       "      <td>victory, often tied to loyalty to the group</td>\n",
       "      <td>['Loyalty/Betrayal']</td>\n",
       "    </tr>\n",
       "    <tr>\n",
       "      <th>22</th>\n",
       "      <td>φιλία</td>\n",
       "      <td>friendship, a morally positive bond between in...</td>\n",
       "      <td>['Loyalty/Betrayal']</td>\n",
       "    </tr>\n",
       "    <tr>\n",
       "      <th>23</th>\n",
       "      <td>πιστός</td>\n",
       "      <td>faithful, loyal</td>\n",
       "      <td>['Loyalty/Betrayal']</td>\n",
       "    </tr>\n",
       "    <tr>\n",
       "      <th>24</th>\n",
       "      <td>ὑποταγή</td>\n",
       "      <td>submission, loyalty to authority or state</td>\n",
       "      <td>['Loyalty/Betrayal', 'Authority/Subversion']</td>\n",
       "    </tr>\n",
       "    <tr>\n",
       "      <th>25</th>\n",
       "      <td>ἀφοσίωσις</td>\n",
       "      <td>dedication, devotion</td>\n",
       "      <td>['Loyalty/Betrayal']</td>\n",
       "    </tr>\n",
       "    <tr>\n",
       "      <th>26</th>\n",
       "      <td>σωφροσύνη</td>\n",
       "      <td>self-control, temperance, moderation</td>\n",
       "      <td>['Authority/Subversion']</td>\n",
       "    </tr>\n",
       "    <tr>\n",
       "      <th>27</th>\n",
       "      <td>τιμή</td>\n",
       "      <td>honor, esteem</td>\n",
       "      <td>['Authority/Subversion']</td>\n",
       "    </tr>\n",
       "    <tr>\n",
       "      <th>28</th>\n",
       "      <td>τιμάω</td>\n",
       "      <td>to honor, show respect</td>\n",
       "      <td>['Authority/Subversion']</td>\n",
       "    </tr>\n",
       "    <tr>\n",
       "      <th>29</th>\n",
       "      <td>σπουδαῖος</td>\n",
       "      <td>serious, diligent in moral and virtuous pursuits</td>\n",
       "      <td>['Authority/Subversion']</td>\n",
       "    </tr>\n",
       "    <tr>\n",
       "      <th>30</th>\n",
       "      <td>ἐπαινετός</td>\n",
       "      <td>praiseworthy, deserving of honor</td>\n",
       "      <td>['Authority/Subversion']</td>\n",
       "    </tr>\n",
       "    <tr>\n",
       "      <th>31</th>\n",
       "      <td>μεγαλοψυχία</td>\n",
       "      <td>magnanimity, nobility of spirit</td>\n",
       "      <td>['Authority/Subversion']</td>\n",
       "    </tr>\n",
       "    <tr>\n",
       "      <th>32</th>\n",
       "      <td>μεγαλόψυχος</td>\n",
       "      <td>magnanimous, noble-hearted</td>\n",
       "      <td>['Authority/Subversion']</td>\n",
       "    </tr>\n",
       "    <tr>\n",
       "      <th>33</th>\n",
       "      <td>δόξα</td>\n",
       "      <td>glory, often morally related to virtue and honor</td>\n",
       "      <td>['Authority/Subversion']</td>\n",
       "    </tr>\n",
       "    <tr>\n",
       "      <th>34</th>\n",
       "      <td>ἀρετή</td>\n",
       "      <td>virtue, excellence</td>\n",
       "      <td>['Authority/Subversion']</td>\n",
       "    </tr>\n",
       "    <tr>\n",
       "      <th>35</th>\n",
       "      <td>φρόνησις</td>\n",
       "      <td>prudence, practical wisdom</td>\n",
       "      <td>['Authority/Subversion']</td>\n",
       "    </tr>\n",
       "    <tr>\n",
       "      <th>36</th>\n",
       "      <td>φιλοτιμία</td>\n",
       "      <td>love of honor, striving for excellence in mora...</td>\n",
       "      <td>['Authority/Subversion']</td>\n",
       "    </tr>\n",
       "    <tr>\n",
       "      <th>37</th>\n",
       "      <td>ἀρχή</td>\n",
       "      <td>rule, leadership based on moral authority</td>\n",
       "      <td>['Authority/Subversion']</td>\n",
       "    </tr>\n",
       "    <tr>\n",
       "      <th>38</th>\n",
       "      <td>καθαρμός</td>\n",
       "      <td>purification, moral cleansing</td>\n",
       "      <td>['Sanctity/Degradation']</td>\n",
       "    </tr>\n",
       "    <tr>\n",
       "      <th>39</th>\n",
       "      <td>μίασμα</td>\n",
       "      <td>pollution, defilement, morally unclean</td>\n",
       "      <td>['Sanctity/Degradation']</td>\n",
       "    </tr>\n",
       "    <tr>\n",
       "      <th>40</th>\n",
       "      <td>ἀκάθαρτος</td>\n",
       "      <td>unclean, impure, morally degenerate</td>\n",
       "      <td>['Sanctity/Degradation']</td>\n",
       "    </tr>\n",
       "    <tr>\n",
       "      <th>41</th>\n",
       "      <td>βέλτιστος</td>\n",
       "      <td>best, morally excellent</td>\n",
       "      <td>['Care/Harm', 'Fairness/Cheating']</td>\n",
       "    </tr>\n",
       "    <tr>\n",
       "      <th>42</th>\n",
       "      <td>βελτίων</td>\n",
       "      <td>better, morally superior</td>\n",
       "      <td>['Care/Harm', 'Fairness/Cheating']</td>\n",
       "    </tr>\n",
       "  </tbody>\n",
       "</table>\n",
       "</div>"
      ]
     },
     "execution_count": 120,
     "metadata": {},
     "output_type": "execute_result"
    }
   ],
   "execution_count": 120
  },
  {
   "metadata": {},
   "cell_type": "code",
   "outputs": [],
   "execution_count": null,
   "source": [
    "morality_extension = [\"δικαιοσύνη\", \"δικαιόω\", \"ἀδικέω\", \"ἄδικος\", \"σωφροσύνη\", \"φίλος\", \"ἁμαρτία\", \"πονηρός\", \"κακός\", \"τιμάω\", \"εὐεργετέω\", \"εὐεργεσία\", \"εὐεργέτης\", \"σπουδαῖος\", \"ἐπαινετός\",\"βέλτιστος\", \"βελτίων\", \"μεγαλοψυχία\", \"μεγαλόψυχος\", \"τιμάω\", \"εὔνοια\", \"καλός\", \"ἀλήθεια\"]\n",
    "religion_extension = [\"εὐχή\", \"θεά\", \"θεῖος\", \"εὐσέβεια\", \"εὐσεβέω\", \"εὐλογέω\", \"εὐλογητός\", \"θεοφιλής\", \"ἀσεβέω\", \"ἀσεβής\", \"εὐσέβεια\", \"θύω\", \"δαίμων\", \"δαιμόνιον\", \"τελετή\", \"θεῖος\", \"ἱερόν\", \"εὔχομαι\", \"ναός\", \"καθιερόω\", \"ἱερή\"]"
   ]
  },
  {
   "metadata": {},
   "cell_type": "code",
   "outputs": [],
   "execution_count": null,
   "source": "wordcounts_df.loc[morality_extension + religion_extension]"
  },
  {
   "metadata": {},
   "cell_type": "code",
   "outputs": [],
   "execution_count": null,
   "source": "wordfreqs_df.loc[morality_extension + religion_extension]"
  },
  {
   "metadata": {},
   "cell_type": "code",
   "outputs": [],
   "execution_count": null,
   "source": "google_conf.set_with_dataframe(theos_data.add_worksheet(\"shared_vocabulary\", 1,1), filtered_df.sort_values(\"total\", ascending=False).reset_index())"
  },
  {
   "metadata": {},
   "cell_type": "code",
   "outputs": [],
   "execution_count": null,
   "source": "wordfreqs_df[\"freq_avg\"] = wordfreqs_df.mean(axis=1)"
  },
  {
   "metadata": {},
   "cell_type": "code",
   "outputs": [],
   "execution_count": null,
   "source": "google_conf.set_with_dataframe(theos_data.add_worksheet(\"shared_vocabulary_freqs\", 1,1), wordfreqs_df.loc[shared_vocabulary].sort_values(\"freq_avg\", ascending=False).reset_index())"
  },
  {
   "metadata": {},
   "cell_type": "code",
   "outputs": [],
   "execution_count": null,
   "source": ""
  },
  {
   "metadata": {},
   "cell_type": "code",
   "outputs": [],
   "execution_count": null,
   "source": [
    "vocabulary_mostcommon2000 = []\n",
    "for key in subcorpora_ids_dict.keys():\n",
    "    vocabulary_mostcommon2000.extend(list(wordcounts_df.sort_values(key, ascending=False).index[:2000]))"
   ]
  },
  {
   "metadata": {},
   "cell_type": "code",
   "outputs": [],
   "execution_count": null,
   "source": "len(list(set(vocabulary_mostcommon2000)))"
  },
  {
   "metadata": {},
   "cell_type": "code",
   "outputs": [],
   "execution_count": null,
   "source": "len(list(set(vocabulary_mostcommon2000 + shared_vocabulary)))"
  },
  {
   "metadata": {},
   "cell_type": "code",
   "outputs": [],
   "execution_count": null,
   "source": "vocabulary_balanced = list(set(vocabulary_mostcommon2000 + shared_vocabulary))"
  },
  {
   "metadata": {},
   "cell_type": "code",
   "outputs": [],
   "execution_count": null,
   "source": "wordfreqs_df.loc[vocabulary_balanced].head(100)"
  },
  {
   "metadata": {},
   "cell_type": "code",
   "outputs": [],
   "execution_count": null,
   "source": [
    "with open(\"../data/vocabulary_balanced.pickle\", \"wb\") as f:\n",
    "    pickle.dump(vocabulary_balanced, f)"
   ]
  },
  {
   "metadata": {},
   "cell_type": "code",
   "outputs": [],
   "execution_count": null,
   "source": "wordcounts_df.head(5)"
  },
  {
   "metadata": {},
   "cell_type": "code",
   "outputs": [],
   "execution_count": null,
   "source": [
    "for key in subcorpora_ids_dict.keys():\n",
    "    cover_n = wordcounts_df.loc[vocabulary_balanced][key].sum()\n",
    "    total_n = wordcounts_df[key].sum()\n",
    "    proportion = cover_n / total_n\n",
    "    print(key, cover_n, total_n, proportion)"
   ]
  },
  {
   "metadata": {},
   "cell_type": "code",
   "outputs": [],
   "execution_count": null,
   "source": "wordcounts_df[(wordcounts_df.loc[vocabulary_balanced]) & ]"
  },
  {
   "metadata": {},
   "cell_type": "code",
   "outputs": [],
   "execution_count": null,
   "source": "(wordcounts_df > 0).all(axis=1).sum()"
  },
  {
   "metadata": {},
   "cell_type": "code",
   "outputs": [],
   "execution_count": null,
   "source": [
    "filtered_df = wordcounts_df.loc[vocabulary_balanced]\n",
    "len(filtered_df[(filtered_df > 0).all(axis=1)])"
   ]
  },
  {
   "metadata": {},
   "cell_type": "code",
   "outputs": [],
   "execution_count": null,
   "source": [
    "filtered_df = wordcounts_df.loc[vocabulary_balanced]\n",
    "len(filtered_df[(filtered_df >= 5).all(axis=1)])"
   ]
  },
  {
   "metadata": {},
   "cell_type": "code",
   "outputs": [],
   "execution_count": null,
   "source": [
    "filtered_df = wordcounts_df.loc[vocabulary_balanced]\n",
    "filtered_df = filtered_df[(filtered_df >= 10).all(axis=1)]\n",
    "len(filtered_df)"
   ]
  },
  {
   "metadata": {},
   "cell_type": "code",
   "outputs": [],
   "execution_count": null,
   "source": "shared_vocabulary = list(filtered_df.index)"
  },
  {
   "metadata": {},
   "cell_type": "code",
   "outputs": [],
   "execution_count": null,
   "source": [
    "with open(\"../data/shared_vocabulary.pickle\", \"wb\") as f:\n",
    "    pickle.dump(shared_vocabulary, f)"
   ]
  },
  {
   "metadata": {},
   "cell_type": "code",
   "outputs": [],
   "execution_count": null,
   "source": [
    "wordcounts_df.to_json(\"../data/large_data/wordcounts_df.json\")\n",
    "wordfreqs_df.to_json(\"../data/large_data/wordfreqs_df.json\")"
   ]
  },
  {
   "metadata": {},
   "cell_type": "code",
   "outputs": [],
   "execution_count": null,
   "source": "wordcounts_df = pd.read_json(\"../data/large_data/wordcounts_df.json\")"
  },
  {
   "metadata": {},
   "cell_type": "code",
   "outputs": [],
   "execution_count": null,
   "source": "LAGT.to_parquet(\"../data/large_data/LAGT_theos.parquet\")"
  },
  {
   "metadata": {},
   "cell_type": "code",
   "outputs": [],
   "execution_count": null,
   "source": ""
  }
 ],
 "metadata": {
  "kernelspec": {
   "name": "python3",
   "language": "python",
   "display_name": "Python 3 (ipykernel)"
  },
  "language_info": {
   "codemirror_mode": {
    "name": "ipython",
    "version": 2
   },
   "file_extension": ".py",
   "mimetype": "text/x-python",
   "name": "python",
   "nbconvert_exporter": "python",
   "pygments_lexer": "ipython2",
   "version": "2.7.6"
  }
 },
 "nbformat": 4,
 "nbformat_minor": 0
}
