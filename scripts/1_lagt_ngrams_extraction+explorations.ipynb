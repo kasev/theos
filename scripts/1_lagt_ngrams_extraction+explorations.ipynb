{
 "cells": [
  {
   "cell_type": "code",
   "execution_count": 1,
   "metadata": {
    "collapsed": true,
    "ExecuteTime": {
     "end_time": "2024-01-29T11:14:56.138625Z",
     "start_time": "2024-01-29T11:14:50.241949Z"
    }
   },
   "outputs": [],
   "source": [
    "import numpy as np\n",
    "import pandas as pd\n",
    "import os\n",
    "import requests\n",
    "import re\n",
    "from nltk import FreqDist\n",
    "import nltk\n",
    "from sklearn.feature_extraction.text import CountVectorizer\n",
    "from sklearn.decomposition import TruncatedSVD\n",
    "from sklearn.metrics.pairwise import cosine_similarity\n",
    "import pickle\n",
    "from cltk.stops.grc import STOPS as stopwords\n",
    "from gensim.corpora import Dictionary\n",
    "import unicodedata\n",
    "import json"
   ]
  },
  {
   "cell_type": "code",
   "execution_count": 2,
   "outputs": [
    {
     "name": "stdout",
     "output_type": "stream",
     "text": [
      "['/Users/vojtechkase/Projects/LAGT/data/large_files/LAGT_v3-0.parquet']\n"
     ]
    }
   ],
   "source": [
    "# find local version of the input dataset\n",
    "local_paths = !find ~/Projects -name \"LAGT_v3-0.parquet\"\n",
    "print(local_paths)"
   ],
   "metadata": {
    "collapsed": false,
    "ExecuteTime": {
     "end_time": "2024-01-29T11:15:02.018890Z",
     "start_time": "2024-01-29T11:14:56.145587Z"
    }
   }
  },
  {
   "cell_type": "code",
   "execution_count": 3,
   "outputs": [],
   "source": [
    "# load LAGT (v2.0) dataset locally or download it directly from Zenodo\n",
    "try:\n",
    "    LAGT = pd.read_parquet(local_paths[0])\n",
    "except:\n",
    "    pass\n",
    "    #resp = requests.get(\"https://zenodo.org/record/7221150/files/LAGT_v2-0.json?download=1\")\n",
    "    # save it for next time\n",
    "    #LAGT = pd.DataFrame(resp.json())\n",
    "    #os.mkdir(\"../data/large_data/\")\n",
    "    #LAGT.to_json(\"../data/large_data/LIRE_v2-0.json\")"
   ],
   "metadata": {
    "collapsed": false,
    "ExecuteTime": {
     "end_time": "2024-01-29T11:15:05.328046Z",
     "start_time": "2024-01-29T11:15:02.025140Z"
    }
   }
  },
  {
   "cell_type": "markdown",
   "source": [
    "# Short demonstration of the LAGT dataset..."
   ],
   "metadata": {
    "collapsed": false
   }
  },
  {
   "cell_type": "code",
   "execution_count": 4,
   "outputs": [
    {
     "data": {
      "text/plain": "   author_id          doc_id                       filename      author  \\\n2    ogl0001  ogl0001.ogl001  ogl0001.ogl001.1st1K-grc1.xml     Pinytus   \n8    tlg0005  tlg0005.tlg003  tlg0005.tlg003.1st1K-grc1.xml  Theocritus   \n9    tlg0006  tlg0006.tlg020  tlg0006.tlg020.1st1K-grc1.xml   Euripides   \n10   tlg0007  tlg0007.tlg146  tlg0007.tlg146.1st1K-grc1.xml    Plutarch   \n11   tlg0007  tlg0007.tlg147  tlg0007.tlg147.1st1K-grc1.xml    Plutarch   \n\n                                title  \\\n2     De Epistola Pinyti ad Dionysium   \n8                              Syrinx   \n9                           Fragmenta   \n10  Παροιμίαι αἷς Ἀλεξανδρεῖς ἐχρῶντο   \n11           Ἐκλογὴ περὶ τῶν ἀδυνάτων   \n\n                                               string  wordcount source  \\\n2   FRAGMENTUM BEATI PINYTI, CNOSSI IN CRETA EPISC...        180   1Kgr   \n8   Οὐδενὸς εὐνάτειρα Μακροπτολέμοιο δὲ μάτηρ  μαί...         77   1Kgr   \n9   ποίαν σε φῶμεν γαῖαν ἐκλελοιπότα πόλει ξενοῦσθ...      17708   1Kgr   \n10  Οἴκοι τὰ Μιλήσια: ἐπὶ τῶν ὅποι μὴ προςήκει τὴν...       2685   1Kgr   \n11  Κατὰ πετρῶν σπείρεις. Πλίνθον πλύνεις. Δικτύῳ ...        143   1Kgr   \n\n                                 lemmatized_sentences lemmata_source  \\\n2   [[Πινυτός, ἀντιγράφω, θαυμάζω, ἀποδέχω, Διονύσ...          grecy   \n8   [[οὐδενός, εὐνητήρ], [μακροπτολέμοιο, μήτηρ, μ...          grecy   \n9   [[φημί, γῆ, ἐκλείπω, πόλις, ξενοῦσθαι], [πάτρα...          grecy   \n10  [[Μιλήσιος], [προςήκω, τρυφή, ἐπιδείκνυμι], [Ἀ...          grecy   \n11  [[πέτρα, σπείρω], [Πλίνθος, πλύνω, Δίκτυον, ἄν...          grecy   \n\n   provenience  not_before  not_after  lemmatacount  \n2    christian       101.0      200.0            34  \n8        pagan      -400.0     -201.0            61  \n9        pagan      -500.0     -401.0         10277  \n10       pagan         1.0      200.0          1488  \n11       pagan         1.0      200.0           125  ",
      "text/html": "<div>\n<style scoped>\n    .dataframe tbody tr th:only-of-type {\n        vertical-align: middle;\n    }\n\n    .dataframe tbody tr th {\n        vertical-align: top;\n    }\n\n    .dataframe thead th {\n        text-align: right;\n    }\n</style>\n<table border=\"1\" class=\"dataframe\">\n  <thead>\n    <tr style=\"text-align: right;\">\n      <th></th>\n      <th>author_id</th>\n      <th>doc_id</th>\n      <th>filename</th>\n      <th>author</th>\n      <th>title</th>\n      <th>string</th>\n      <th>wordcount</th>\n      <th>source</th>\n      <th>lemmatized_sentences</th>\n      <th>lemmata_source</th>\n      <th>provenience</th>\n      <th>not_before</th>\n      <th>not_after</th>\n      <th>lemmatacount</th>\n    </tr>\n  </thead>\n  <tbody>\n    <tr>\n      <th>2</th>\n      <td>ogl0001</td>\n      <td>ogl0001.ogl001</td>\n      <td>ogl0001.ogl001.1st1K-grc1.xml</td>\n      <td>Pinytus</td>\n      <td>De Epistola Pinyti ad Dionysium</td>\n      <td>FRAGMENTUM BEATI PINYTI, CNOSSI IN CRETA EPISC...</td>\n      <td>180</td>\n      <td>1Kgr</td>\n      <td>[[Πινυτός, ἀντιγράφω, θαυμάζω, ἀποδέχω, Διονύσ...</td>\n      <td>grecy</td>\n      <td>christian</td>\n      <td>101.0</td>\n      <td>200.0</td>\n      <td>34</td>\n    </tr>\n    <tr>\n      <th>8</th>\n      <td>tlg0005</td>\n      <td>tlg0005.tlg003</td>\n      <td>tlg0005.tlg003.1st1K-grc1.xml</td>\n      <td>Theocritus</td>\n      <td>Syrinx</td>\n      <td>Οὐδενὸς εὐνάτειρα Μακροπτολέμοιο δὲ μάτηρ  μαί...</td>\n      <td>77</td>\n      <td>1Kgr</td>\n      <td>[[οὐδενός, εὐνητήρ], [μακροπτολέμοιο, μήτηρ, μ...</td>\n      <td>grecy</td>\n      <td>pagan</td>\n      <td>-400.0</td>\n      <td>-201.0</td>\n      <td>61</td>\n    </tr>\n    <tr>\n      <th>9</th>\n      <td>tlg0006</td>\n      <td>tlg0006.tlg020</td>\n      <td>tlg0006.tlg020.1st1K-grc1.xml</td>\n      <td>Euripides</td>\n      <td>Fragmenta</td>\n      <td>ποίαν σε φῶμεν γαῖαν ἐκλελοιπότα πόλει ξενοῦσθ...</td>\n      <td>17708</td>\n      <td>1Kgr</td>\n      <td>[[φημί, γῆ, ἐκλείπω, πόλις, ξενοῦσθαι], [πάτρα...</td>\n      <td>grecy</td>\n      <td>pagan</td>\n      <td>-500.0</td>\n      <td>-401.0</td>\n      <td>10277</td>\n    </tr>\n    <tr>\n      <th>10</th>\n      <td>tlg0007</td>\n      <td>tlg0007.tlg146</td>\n      <td>tlg0007.tlg146.1st1K-grc1.xml</td>\n      <td>Plutarch</td>\n      <td>Παροιμίαι αἷς Ἀλεξανδρεῖς ἐχρῶντο</td>\n      <td>Οἴκοι τὰ Μιλήσια: ἐπὶ τῶν ὅποι μὴ προςήκει τὴν...</td>\n      <td>2685</td>\n      <td>1Kgr</td>\n      <td>[[Μιλήσιος], [προςήκω, τρυφή, ἐπιδείκνυμι], [Ἀ...</td>\n      <td>grecy</td>\n      <td>pagan</td>\n      <td>1.0</td>\n      <td>200.0</td>\n      <td>1488</td>\n    </tr>\n    <tr>\n      <th>11</th>\n      <td>tlg0007</td>\n      <td>tlg0007.tlg147</td>\n      <td>tlg0007.tlg147.1st1K-grc1.xml</td>\n      <td>Plutarch</td>\n      <td>Ἐκλογὴ περὶ τῶν ἀδυνάτων</td>\n      <td>Κατὰ πετρῶν σπείρεις. Πλίνθον πλύνεις. Δικτύῳ ...</td>\n      <td>143</td>\n      <td>1Kgr</td>\n      <td>[[πέτρα, σπείρω], [Πλίνθος, πλύνω, Δίκτυον, ἄν...</td>\n      <td>grecy</td>\n      <td>pagan</td>\n      <td>1.0</td>\n      <td>200.0</td>\n      <td>125</td>\n    </tr>\n  </tbody>\n</table>\n</div>"
     },
     "execution_count": 4,
     "metadata": {},
     "output_type": "execute_result"
    }
   ],
   "source": [
    "# download and display first 5 rows of the dataset\n",
    "#LAGT = pd.read_json(\"https://zenodo.org/record/7221150/files/LAGT_v2-0.json?download=1\")\n",
    "LAGT.head(5)"
   ],
   "metadata": {
    "collapsed": false,
    "ExecuteTime": {
     "end_time": "2024-01-29T11:15:05.379211Z",
     "start_time": "2024-01-29T11:15:05.331354Z"
    }
   }
  },
  {
   "cell_type": "code",
   "outputs": [
    {
     "data": {
      "text/plain": "1710"
     },
     "execution_count": 5,
     "metadata": {},
     "output_type": "execute_result"
    }
   ],
   "source": [
    "len(LAGT)"
   ],
   "metadata": {
    "collapsed": false,
    "ExecuteTime": {
     "end_time": "2024-01-29T11:15:05.382026Z",
     "start_time": "2024-01-29T11:15:05.371096Z"
    }
   },
   "execution_count": 5
  },
  {
   "cell_type": "code",
   "outputs": [
    {
     "data": {
      "text/plain": "325"
     },
     "execution_count": 6,
     "metadata": {},
     "output_type": "execute_result"
    }
   ],
   "source": [
    "LAGT[\"author_id\"].nunique()"
   ],
   "metadata": {
    "collapsed": false,
    "ExecuteTime": {
     "end_time": "2024-01-29T11:15:05.413742Z",
     "start_time": "2024-01-29T11:15:05.377840Z"
    }
   },
   "execution_count": 6
  },
  {
   "cell_type": "code",
   "outputs": [
    {
     "data": {
      "text/plain": "32323612"
     },
     "execution_count": 7,
     "metadata": {},
     "output_type": "execute_result"
    }
   ],
   "source": [
    "\n",
    "LAGT[\"wordcount\"].sum()"
   ],
   "metadata": {
    "collapsed": false,
    "ExecuteTime": {
     "end_time": "2024-01-29T11:15:05.416257Z",
     "start_time": "2024-01-29T11:15:05.386997Z"
    }
   },
   "execution_count": 7
  },
  {
   "cell_type": "code",
   "outputs": [
    {
     "data": {
      "text/plain": "        author_id          doc_id                         filename  \\\n1525     tlg0031a  tlg0031.tlg001  tlg0031.tlg001.perseus-grc2.xml   \n1526     tlg0031b  tlg0031.tlg002  tlg0031.tlg002.perseus-grc2.xml   \n1527  tlg0031luke  tlg0031.tlg003  tlg0031.tlg003.perseus-grc2.xml   \n1528  tlg0031john  tlg0031.tlg004  tlg0031.tlg004.perseus-grc2.xml   \n1529  tlg0031luke  tlg0031.tlg005  tlg0031.tlg005.perseus-grc2.xml   \n1530  tlg0031paul  tlg0031.tlg006  tlg0031.tlg006.perseus-grc2.xml   \n1531  tlg0031paul  tlg0031.tlg007  tlg0031.tlg007.perseus-grc2.xml   \n1532  tlg0031paul  tlg0031.tlg008  tlg0031.tlg008.perseus-grc2.xml   \n1533  tlg0031paul  tlg0031.tlg009  tlg0031.tlg009.perseus-grc2.xml   \n1534  tlg0031pspa  tlg0031.tlg010  tlg0031.tlg010.perseus-grc2.xml   \n1535  tlg0031paul  tlg0031.tlg011  tlg0031.tlg011.perseus-grc2.xml   \n1536  tlg0031pspa  tlg0031.tlg012  tlg0031.tlg012.perseus-grc2.xml   \n1537  tlg0031paul  tlg0031.tlg013  tlg0031.tlg013.perseus-grc2.xml   \n1538  tlg0031pspa  tlg0031.tlg014  tlg0031.tlg014.perseus-grc2.xml   \n1539  tlg0031pspa  tlg0031.tlg015  tlg0031.tlg015.perseus-grc2.xml   \n1540  tlg0031pspa  tlg0031.tlg016  tlg0031.tlg016.perseus-grc2.xml   \n1541  tlg0031pspa  tlg0031.tlg017  tlg0031.tlg017.perseus-grc2.xml   \n1542  tlg0031paul  tlg0031.tlg018  tlg0031.tlg018.perseus-grc2.xml   \n1543     tlg0031c  tlg0031.tlg019  tlg0031.tlg019.perseus-grc2.xml   \n1544     tlg0031d  tlg0031.tlg020  tlg0031.tlg020.perseus-grc2.xml   \n1545     tlg0031e  tlg0031.tlg021  tlg0031.tlg021.perseus-grc2.xml   \n1546     tlg0031f  tlg0031.tlg022  tlg0031.tlg022.perseus-grc2.xml   \n1547  tlg0031john  tlg0031.tlg023  tlg0031.tlg023.perseus-grc2.xml   \n1548  tlg0031john  tlg0031.tlg024  tlg0031.tlg024.perseus-grc2.xml   \n1549  tlg0031john  tlg0031.tlg025  tlg0031.tlg025.perseus-grc2.xml   \n1550     tlg0031g  tlg0031.tlg026  tlg0031.tlg026.perseus-grc2.xml   \n1551     tlg0031h  tlg0031.tlg027  tlg0031.tlg027.perseus-grc2.xml   \n\n                     author                            title  \\\n1525                   None          New Testament - Matthew   \n1526                   None             New Testament - Mark   \n1527  Luke (the evangelist)             New Testament - Luke   \n1528  Johnannine literature             New Testament - John   \n1529  Luke (the evangelist)             New Testament - Acts   \n1530         Paul of Tarsus           New Testament - Romans   \n1531         Paul of Tarsus    New Testament - 1 Corinthians   \n1532         Paul of Tarsus    New Testament - 2 Corinthians   \n1533         Paul of Tarsus        New Testament - Galatians   \n1534     Pauline literature        New Testament - Ephesians   \n1535         Paul of Tarsus      New Testament - Philippians   \n1536     Pauline literature       New Testament - Colossians   \n1537         Paul of Tarsus  New Testament - 1 Thessalonians   \n1538     Pauline literature  New Testament - 2 Thessalonians   \n1539     Pauline literature        New Testament - 1 Timothy   \n1540     Pauline literature        New Testament - 2 Timothy   \n1541     Pauline literature            New Testament - Titus   \n1542         Paul of Tarsus         New Testament - Philemon   \n1543                   None          New Testament - Hebrews   \n1544                   None            New Testament - James   \n1545                   None          New Testament - 1 Peter   \n1546                   None          New Testament - 2 Peter   \n1547  Johnannine literature           New Testament - 1 John   \n1548  Johnannine literature           New Testament - 2 John   \n1549  Johnannine literature           New Testament - 3 John   \n1550                   None             New Testament - Jude   \n1551                   None       New Testament - Revelation   \n\n                                                 string  wordcount   source  \\\n1525    ΒΙΒΛΟΣ γενέσεως Ἰησοῦ Χριστοῦ υἱοῦ Δαυεὶδ υἱ...      18288  perseus   \n1526  \\n\\n                    ΑΡΧΗ τοῦ εὐαγγελίου Ἰη...      11275  perseus   \n1527  \\n\\n                    ΕΠΕΙΔΗΠΕΡ ΠΟΛΛΟΙ ἐπεχε...      19459  perseus   \n1528  \\n\\n                    ΕΝ ΑΡΧΗ ἦν ὁ λόγος, κα...      15592  perseus   \n1529  \\n τὸν μὲν πρῶτον λόγον ἐποιησάμην περὶ πάντων...      18405  perseus   \n1530  \\n\\n                    ΠΑΥΛΟΣ δοῦλος Ἰησοῦ Χρ...       7107  perseus   \n1531  \\n\\n                    ΠΑΥΛΟΣ κλητὸς ἀπόστολο...       6814  perseus   \n1532  \\n\\n                    ΠΑΥΛΟΣ ἀπόστολος Χριστ...       4470  perseus   \n1533  \\n\\n                    ΠΑΥΛΟΣ ἀπόστολος, οὐκ ...       2235  perseus   \n1534  \\n\\n                    ΠΑΥΛΟΣ ἀπόστολος Χριστ...       2421  perseus   \n1535  \\n\\n                    ΠΑΥΛΟΣ ΚΑΙ ΤΙΜΟΘΕΟΣ δο...       1632  perseus   \n1536  \\n\\n                    ΠΑΥΛΟΣ ἀπόστολος Χριστ...       1581  perseus   \n1537  \\n\\n                    ΠΑΥΛΟΣ ΚΑΙ ΣΙΛΟΥΑΝΟΣ Κ...       1475  perseus   \n1538  \\n\\n                    ΠΑΥΛΟΣ ΚΑΙ ΣΙΛΟΥΑΝΟΣ Κ...        822  perseus   \n1539  \\n\\n                    ΠΑΥΛΟΣ ἀπόστολος Χριστ...       1597  perseus   \n1540  \\n\\n                    ΠΑΥΛΟΣ ἀπόστολος Χριστ...       1245  perseus   \n1541  \\n\\n                    ΠΑΥΛΟΣ δοῦλος θεοῦ, ἀπ...        659  perseus   \n1542  \\n\\n                    ΠΑΥΛΟΣ δέσμιος Χριστοῦ...        334  perseus   \n1543  \\n\\n                    ΠΟΛΥΜΕΡΩΣ ΚΑΙ ΠΟΛΥΤΡΟΠ...       4972  perseus   \n1544  \\n\\n                    ΙΑΚΩΒΟΣ θεοῦ καὶ κυρίο...       1734  perseus   \n1545  \\n\\n                    ΠΕΤΡΟΣ ἀπόστολος Ἰησοῦ...       1668  perseus   \n1546  \\n\\n                    ΣΙΜΩΝ ΠΕΤΡΟΣ δοῦλος κα...       1095  perseus   \n1547  \\n\\n                    Ο ΗΝ ΑΠʼ ΑΡΧΗΣ, ὃ ἀκηκ...       2135  perseus   \n1548  \\n\\n                    Ο ΠΡΕΣΒΥΤΕΡΟΣ ἐκλεκτῇ ...        245  perseus   \n1549  \\n\\n                    Ο ΠΡΕΣΒΥΤΕΡΟΣ Γαίῳ τῷ ...        219  perseus   \n1550  \\n\\n                    ΙΟΥΔΑΣ Ἰησοῦ Χριστοῦ δ...        456  perseus   \n1551  \\n\\n                    ΑΠΟΚΑΛΥΨΙΣ ΙΗΣΟΥ ΧΡΙΣΤ...       9857  perseus   \n\n                                   lemmatized_sentences lemmata_source  \\\n1525  [[βίβλος, γένεσις, Ἰησοῦς, Χριστός, υἱός, Δαυί...       morphgnt   \n1526  [[ἀρχή, εὐαγγέλιον, Ἰησοῦς, Χριστός], [γράφω, ...       morphgnt   \n1527  [[πολύς, ἐπιχειρέω, ἀνατάσσομαι, διήγησις, πλη...       morphgnt   \n1528  [[ἀρχή, εἰμί, λόγος, λόγος, εἰμί, θεός, θεός, ...       morphgnt   \n1529  [[πρῶτος, λόγος, ποιέω, πᾶς, Θεόφιλος, ἄρχω, Ἰ...       morphgnt   \n1530  [[Παῦλος, δοῦλος, Χριστός, Ἰησοῦς, κλητός, ἀπό...       morphgnt   \n1531  [[Παῦλος, κλητός, ἀπόστολος, Χριστός, Ἰησοῦς, ...       morphgnt   \n1532  [[Παῦλος, ἀπόστολος, Χριστός, Ἰησοῦς, θέλημα, ...       morphgnt   \n1533  [[Παῦλος, ἀπόστολος, ἄνθρωπος, ἄνθρωπος, Ἰησοῦ...       morphgnt   \n1534  [[Παῦλος, ἀπόστολος, Χριστός, Ἰησοῦς, θέλημα, ...       morphgnt   \n1535  [[Παῦλος, Τιμόθεος, δοῦλος, Χριστός, Ἰησοῦς, π...       morphgnt   \n1536  [[Παῦλος, ἀπόστολος, Χριστός, Ἰησοῦς, θέλημα, ...       morphgnt   \n1537  [[Παῦλος, Σιλουανός, Τιμόθεος, ἐκκλησία, Θεσσα...       morphgnt   \n1538  [[Παῦλος, Σιλουανός, Τιμόθεος, ἐκκλησία, Θεσσα...       morphgnt   \n1539  [[Παῦλος, ἀπόστολος, Χριστός, Ἰησοῦς, ἐπιταγή,...       morphgnt   \n1540  [[Παῦλος, ἀπόστολος, Χριστός, Ἰησοῦς, θέλημα, ...       morphgnt   \n1541  [[Παῦλος, δοῦλος, θεός, ἀπόστολος, Ἰησοῦς, Χρι...       morphgnt   \n1542  [[Παῦλος, δέσμιος, Χριστός, Ἰησοῦς, Τιμόθεος, ...       morphgnt   \n1543  [[θεός, λαλέω, πατήρ, προφήτης, ἔσχατος, ἡμέρα...       morphgnt   \n1544  [[Ἰάκωβος, θεός, κύριος, Ἰησοῦς, Χριστός, δοῦλ...       morphgnt   \n1545  [[Πέτρος, ἀπόστολος, Ἰησοῦς, Χριστός, ἐκλεκτός...       morphgnt   \n1546  [[Συμεών, Πέτρος, δοῦλος, ἀπόστολος, Ἰησοῦς, Χ...       morphgnt   \n1547  [[εἰμί, ἀρχή, ἀκούω, ὁράω, ὀφθαλμός, θεάομαι, ...       morphgnt   \n1548  [[πρεσβύτερος, ἐκλεκτός, κυρία, τέκνον, ἀγαπάω...       morphgnt   \n1549  [[πρεσβύτερος, Γάϊος, ἀγαπητός, ἀγαπάω, ἀλήθει...       morphgnt   \n1550  [[Ἰούδας, Ἰησοῦς, Χριστός, δοῦλος, ἀδελφός, Ἰά...       morphgnt   \n1551  [[ἀποκάλυψις, Ἰησοῦς, Χριστός, δίδωμι, θεός, δ...       morphgnt   \n\n     provenience  not_before  not_after  lemmatacount  \n1525   christian         1.0      100.0          8699  \n1526   christian         1.0      100.0          5308  \n1527   christian         1.0      100.0          9194  \n1528   christian         1.0      100.0          6892  \n1529   christian         1.0      100.0          9141  \n1530   christian         1.0      100.0          3265  \n1531   christian         1.0      100.0          3292  \n1532   christian         1.0      100.0          1925  \n1533   christian         1.0      100.0          1058  \n1534   christian         1.0      100.0          1126  \n1535   christian         1.0      100.0           748  \n1536   christian         1.0      100.0           722  \n1537   christian         1.0      100.0           634  \n1538   christian         1.0      100.0           361  \n1539   christian         1.0      100.0           917  \n1540   christian         1.0      100.0           647  \n1541   christian         1.0      100.0           386  \n1542   christian         1.0      100.0           147  \n1543   christian         1.0      100.0          2467  \n1544   christian         1.0      100.0           894  \n1545   christian         1.0      100.0           872  \n1546   christian         1.0      100.0           589  \n1547   christian         1.0      100.0           924  \n1548   christian         1.0      100.0           111  \n1549   christian         1.0      100.0           105  \n1550   christian         1.0      100.0           254  \n1551   christian         1.0      100.0          4731  ",
      "text/html": "<div>\n<style scoped>\n    .dataframe tbody tr th:only-of-type {\n        vertical-align: middle;\n    }\n\n    .dataframe tbody tr th {\n        vertical-align: top;\n    }\n\n    .dataframe thead th {\n        text-align: right;\n    }\n</style>\n<table border=\"1\" class=\"dataframe\">\n  <thead>\n    <tr style=\"text-align: right;\">\n      <th></th>\n      <th>author_id</th>\n      <th>doc_id</th>\n      <th>filename</th>\n      <th>author</th>\n      <th>title</th>\n      <th>string</th>\n      <th>wordcount</th>\n      <th>source</th>\n      <th>lemmatized_sentences</th>\n      <th>lemmata_source</th>\n      <th>provenience</th>\n      <th>not_before</th>\n      <th>not_after</th>\n      <th>lemmatacount</th>\n    </tr>\n  </thead>\n  <tbody>\n    <tr>\n      <th>1525</th>\n      <td>tlg0031a</td>\n      <td>tlg0031.tlg001</td>\n      <td>tlg0031.tlg001.perseus-grc2.xml</td>\n      <td>None</td>\n      <td>New Testament - Matthew</td>\n      <td>ΒΙΒΛΟΣ γενέσεως Ἰησοῦ Χριστοῦ υἱοῦ Δαυεὶδ υἱ...</td>\n      <td>18288</td>\n      <td>perseus</td>\n      <td>[[βίβλος, γένεσις, Ἰησοῦς, Χριστός, υἱός, Δαυί...</td>\n      <td>morphgnt</td>\n      <td>christian</td>\n      <td>1.0</td>\n      <td>100.0</td>\n      <td>8699</td>\n    </tr>\n    <tr>\n      <th>1526</th>\n      <td>tlg0031b</td>\n      <td>tlg0031.tlg002</td>\n      <td>tlg0031.tlg002.perseus-grc2.xml</td>\n      <td>None</td>\n      <td>New Testament - Mark</td>\n      <td>\\n\\n                    ΑΡΧΗ τοῦ εὐαγγελίου Ἰη...</td>\n      <td>11275</td>\n      <td>perseus</td>\n      <td>[[ἀρχή, εὐαγγέλιον, Ἰησοῦς, Χριστός], [γράφω, ...</td>\n      <td>morphgnt</td>\n      <td>christian</td>\n      <td>1.0</td>\n      <td>100.0</td>\n      <td>5308</td>\n    </tr>\n    <tr>\n      <th>1527</th>\n      <td>tlg0031luke</td>\n      <td>tlg0031.tlg003</td>\n      <td>tlg0031.tlg003.perseus-grc2.xml</td>\n      <td>Luke (the evangelist)</td>\n      <td>New Testament - Luke</td>\n      <td>\\n\\n                    ΕΠΕΙΔΗΠΕΡ ΠΟΛΛΟΙ ἐπεχε...</td>\n      <td>19459</td>\n      <td>perseus</td>\n      <td>[[πολύς, ἐπιχειρέω, ἀνατάσσομαι, διήγησις, πλη...</td>\n      <td>morphgnt</td>\n      <td>christian</td>\n      <td>1.0</td>\n      <td>100.0</td>\n      <td>9194</td>\n    </tr>\n    <tr>\n      <th>1528</th>\n      <td>tlg0031john</td>\n      <td>tlg0031.tlg004</td>\n      <td>tlg0031.tlg004.perseus-grc2.xml</td>\n      <td>Johnannine literature</td>\n      <td>New Testament - John</td>\n      <td>\\n\\n                    ΕΝ ΑΡΧΗ ἦν ὁ λόγος, κα...</td>\n      <td>15592</td>\n      <td>perseus</td>\n      <td>[[ἀρχή, εἰμί, λόγος, λόγος, εἰμί, θεός, θεός, ...</td>\n      <td>morphgnt</td>\n      <td>christian</td>\n      <td>1.0</td>\n      <td>100.0</td>\n      <td>6892</td>\n    </tr>\n    <tr>\n      <th>1529</th>\n      <td>tlg0031luke</td>\n      <td>tlg0031.tlg005</td>\n      <td>tlg0031.tlg005.perseus-grc2.xml</td>\n      <td>Luke (the evangelist)</td>\n      <td>New Testament - Acts</td>\n      <td>\\n τὸν μὲν πρῶτον λόγον ἐποιησάμην περὶ πάντων...</td>\n      <td>18405</td>\n      <td>perseus</td>\n      <td>[[πρῶτος, λόγος, ποιέω, πᾶς, Θεόφιλος, ἄρχω, Ἰ...</td>\n      <td>morphgnt</td>\n      <td>christian</td>\n      <td>1.0</td>\n      <td>100.0</td>\n      <td>9141</td>\n    </tr>\n    <tr>\n      <th>1530</th>\n      <td>tlg0031paul</td>\n      <td>tlg0031.tlg006</td>\n      <td>tlg0031.tlg006.perseus-grc2.xml</td>\n      <td>Paul of Tarsus</td>\n      <td>New Testament - Romans</td>\n      <td>\\n\\n                    ΠΑΥΛΟΣ δοῦλος Ἰησοῦ Χρ...</td>\n      <td>7107</td>\n      <td>perseus</td>\n      <td>[[Παῦλος, δοῦλος, Χριστός, Ἰησοῦς, κλητός, ἀπό...</td>\n      <td>morphgnt</td>\n      <td>christian</td>\n      <td>1.0</td>\n      <td>100.0</td>\n      <td>3265</td>\n    </tr>\n    <tr>\n      <th>1531</th>\n      <td>tlg0031paul</td>\n      <td>tlg0031.tlg007</td>\n      <td>tlg0031.tlg007.perseus-grc2.xml</td>\n      <td>Paul of Tarsus</td>\n      <td>New Testament - 1 Corinthians</td>\n      <td>\\n\\n                    ΠΑΥΛΟΣ κλητὸς ἀπόστολο...</td>\n      <td>6814</td>\n      <td>perseus</td>\n      <td>[[Παῦλος, κλητός, ἀπόστολος, Χριστός, Ἰησοῦς, ...</td>\n      <td>morphgnt</td>\n      <td>christian</td>\n      <td>1.0</td>\n      <td>100.0</td>\n      <td>3292</td>\n    </tr>\n    <tr>\n      <th>1532</th>\n      <td>tlg0031paul</td>\n      <td>tlg0031.tlg008</td>\n      <td>tlg0031.tlg008.perseus-grc2.xml</td>\n      <td>Paul of Tarsus</td>\n      <td>New Testament - 2 Corinthians</td>\n      <td>\\n\\n                    ΠΑΥΛΟΣ ἀπόστολος Χριστ...</td>\n      <td>4470</td>\n      <td>perseus</td>\n      <td>[[Παῦλος, ἀπόστολος, Χριστός, Ἰησοῦς, θέλημα, ...</td>\n      <td>morphgnt</td>\n      <td>christian</td>\n      <td>1.0</td>\n      <td>100.0</td>\n      <td>1925</td>\n    </tr>\n    <tr>\n      <th>1533</th>\n      <td>tlg0031paul</td>\n      <td>tlg0031.tlg009</td>\n      <td>tlg0031.tlg009.perseus-grc2.xml</td>\n      <td>Paul of Tarsus</td>\n      <td>New Testament - Galatians</td>\n      <td>\\n\\n                    ΠΑΥΛΟΣ ἀπόστολος, οὐκ ...</td>\n      <td>2235</td>\n      <td>perseus</td>\n      <td>[[Παῦλος, ἀπόστολος, ἄνθρωπος, ἄνθρωπος, Ἰησοῦ...</td>\n      <td>morphgnt</td>\n      <td>christian</td>\n      <td>1.0</td>\n      <td>100.0</td>\n      <td>1058</td>\n    </tr>\n    <tr>\n      <th>1534</th>\n      <td>tlg0031pspa</td>\n      <td>tlg0031.tlg010</td>\n      <td>tlg0031.tlg010.perseus-grc2.xml</td>\n      <td>Pauline literature</td>\n      <td>New Testament - Ephesians</td>\n      <td>\\n\\n                    ΠΑΥΛΟΣ ἀπόστολος Χριστ...</td>\n      <td>2421</td>\n      <td>perseus</td>\n      <td>[[Παῦλος, ἀπόστολος, Χριστός, Ἰησοῦς, θέλημα, ...</td>\n      <td>morphgnt</td>\n      <td>christian</td>\n      <td>1.0</td>\n      <td>100.0</td>\n      <td>1126</td>\n    </tr>\n    <tr>\n      <th>1535</th>\n      <td>tlg0031paul</td>\n      <td>tlg0031.tlg011</td>\n      <td>tlg0031.tlg011.perseus-grc2.xml</td>\n      <td>Paul of Tarsus</td>\n      <td>New Testament - Philippians</td>\n      <td>\\n\\n                    ΠΑΥΛΟΣ ΚΑΙ ΤΙΜΟΘΕΟΣ δο...</td>\n      <td>1632</td>\n      <td>perseus</td>\n      <td>[[Παῦλος, Τιμόθεος, δοῦλος, Χριστός, Ἰησοῦς, π...</td>\n      <td>morphgnt</td>\n      <td>christian</td>\n      <td>1.0</td>\n      <td>100.0</td>\n      <td>748</td>\n    </tr>\n    <tr>\n      <th>1536</th>\n      <td>tlg0031pspa</td>\n      <td>tlg0031.tlg012</td>\n      <td>tlg0031.tlg012.perseus-grc2.xml</td>\n      <td>Pauline literature</td>\n      <td>New Testament - Colossians</td>\n      <td>\\n\\n                    ΠΑΥΛΟΣ ἀπόστολος Χριστ...</td>\n      <td>1581</td>\n      <td>perseus</td>\n      <td>[[Παῦλος, ἀπόστολος, Χριστός, Ἰησοῦς, θέλημα, ...</td>\n      <td>morphgnt</td>\n      <td>christian</td>\n      <td>1.0</td>\n      <td>100.0</td>\n      <td>722</td>\n    </tr>\n    <tr>\n      <th>1537</th>\n      <td>tlg0031paul</td>\n      <td>tlg0031.tlg013</td>\n      <td>tlg0031.tlg013.perseus-grc2.xml</td>\n      <td>Paul of Tarsus</td>\n      <td>New Testament - 1 Thessalonians</td>\n      <td>\\n\\n                    ΠΑΥΛΟΣ ΚΑΙ ΣΙΛΟΥΑΝΟΣ Κ...</td>\n      <td>1475</td>\n      <td>perseus</td>\n      <td>[[Παῦλος, Σιλουανός, Τιμόθεος, ἐκκλησία, Θεσσα...</td>\n      <td>morphgnt</td>\n      <td>christian</td>\n      <td>1.0</td>\n      <td>100.0</td>\n      <td>634</td>\n    </tr>\n    <tr>\n      <th>1538</th>\n      <td>tlg0031pspa</td>\n      <td>tlg0031.tlg014</td>\n      <td>tlg0031.tlg014.perseus-grc2.xml</td>\n      <td>Pauline literature</td>\n      <td>New Testament - 2 Thessalonians</td>\n      <td>\\n\\n                    ΠΑΥΛΟΣ ΚΑΙ ΣΙΛΟΥΑΝΟΣ Κ...</td>\n      <td>822</td>\n      <td>perseus</td>\n      <td>[[Παῦλος, Σιλουανός, Τιμόθεος, ἐκκλησία, Θεσσα...</td>\n      <td>morphgnt</td>\n      <td>christian</td>\n      <td>1.0</td>\n      <td>100.0</td>\n      <td>361</td>\n    </tr>\n    <tr>\n      <th>1539</th>\n      <td>tlg0031pspa</td>\n      <td>tlg0031.tlg015</td>\n      <td>tlg0031.tlg015.perseus-grc2.xml</td>\n      <td>Pauline literature</td>\n      <td>New Testament - 1 Timothy</td>\n      <td>\\n\\n                    ΠΑΥΛΟΣ ἀπόστολος Χριστ...</td>\n      <td>1597</td>\n      <td>perseus</td>\n      <td>[[Παῦλος, ἀπόστολος, Χριστός, Ἰησοῦς, ἐπιταγή,...</td>\n      <td>morphgnt</td>\n      <td>christian</td>\n      <td>1.0</td>\n      <td>100.0</td>\n      <td>917</td>\n    </tr>\n    <tr>\n      <th>1540</th>\n      <td>tlg0031pspa</td>\n      <td>tlg0031.tlg016</td>\n      <td>tlg0031.tlg016.perseus-grc2.xml</td>\n      <td>Pauline literature</td>\n      <td>New Testament - 2 Timothy</td>\n      <td>\\n\\n                    ΠΑΥΛΟΣ ἀπόστολος Χριστ...</td>\n      <td>1245</td>\n      <td>perseus</td>\n      <td>[[Παῦλος, ἀπόστολος, Χριστός, Ἰησοῦς, θέλημα, ...</td>\n      <td>morphgnt</td>\n      <td>christian</td>\n      <td>1.0</td>\n      <td>100.0</td>\n      <td>647</td>\n    </tr>\n    <tr>\n      <th>1541</th>\n      <td>tlg0031pspa</td>\n      <td>tlg0031.tlg017</td>\n      <td>tlg0031.tlg017.perseus-grc2.xml</td>\n      <td>Pauline literature</td>\n      <td>New Testament - Titus</td>\n      <td>\\n\\n                    ΠΑΥΛΟΣ δοῦλος θεοῦ, ἀπ...</td>\n      <td>659</td>\n      <td>perseus</td>\n      <td>[[Παῦλος, δοῦλος, θεός, ἀπόστολος, Ἰησοῦς, Χρι...</td>\n      <td>morphgnt</td>\n      <td>christian</td>\n      <td>1.0</td>\n      <td>100.0</td>\n      <td>386</td>\n    </tr>\n    <tr>\n      <th>1542</th>\n      <td>tlg0031paul</td>\n      <td>tlg0031.tlg018</td>\n      <td>tlg0031.tlg018.perseus-grc2.xml</td>\n      <td>Paul of Tarsus</td>\n      <td>New Testament - Philemon</td>\n      <td>\\n\\n                    ΠΑΥΛΟΣ δέσμιος Χριστοῦ...</td>\n      <td>334</td>\n      <td>perseus</td>\n      <td>[[Παῦλος, δέσμιος, Χριστός, Ἰησοῦς, Τιμόθεος, ...</td>\n      <td>morphgnt</td>\n      <td>christian</td>\n      <td>1.0</td>\n      <td>100.0</td>\n      <td>147</td>\n    </tr>\n    <tr>\n      <th>1543</th>\n      <td>tlg0031c</td>\n      <td>tlg0031.tlg019</td>\n      <td>tlg0031.tlg019.perseus-grc2.xml</td>\n      <td>None</td>\n      <td>New Testament - Hebrews</td>\n      <td>\\n\\n                    ΠΟΛΥΜΕΡΩΣ ΚΑΙ ΠΟΛΥΤΡΟΠ...</td>\n      <td>4972</td>\n      <td>perseus</td>\n      <td>[[θεός, λαλέω, πατήρ, προφήτης, ἔσχατος, ἡμέρα...</td>\n      <td>morphgnt</td>\n      <td>christian</td>\n      <td>1.0</td>\n      <td>100.0</td>\n      <td>2467</td>\n    </tr>\n    <tr>\n      <th>1544</th>\n      <td>tlg0031d</td>\n      <td>tlg0031.tlg020</td>\n      <td>tlg0031.tlg020.perseus-grc2.xml</td>\n      <td>None</td>\n      <td>New Testament - James</td>\n      <td>\\n\\n                    ΙΑΚΩΒΟΣ θεοῦ καὶ κυρίο...</td>\n      <td>1734</td>\n      <td>perseus</td>\n      <td>[[Ἰάκωβος, θεός, κύριος, Ἰησοῦς, Χριστός, δοῦλ...</td>\n      <td>morphgnt</td>\n      <td>christian</td>\n      <td>1.0</td>\n      <td>100.0</td>\n      <td>894</td>\n    </tr>\n    <tr>\n      <th>1545</th>\n      <td>tlg0031e</td>\n      <td>tlg0031.tlg021</td>\n      <td>tlg0031.tlg021.perseus-grc2.xml</td>\n      <td>None</td>\n      <td>New Testament - 1 Peter</td>\n      <td>\\n\\n                    ΠΕΤΡΟΣ ἀπόστολος Ἰησοῦ...</td>\n      <td>1668</td>\n      <td>perseus</td>\n      <td>[[Πέτρος, ἀπόστολος, Ἰησοῦς, Χριστός, ἐκλεκτός...</td>\n      <td>morphgnt</td>\n      <td>christian</td>\n      <td>1.0</td>\n      <td>100.0</td>\n      <td>872</td>\n    </tr>\n    <tr>\n      <th>1546</th>\n      <td>tlg0031f</td>\n      <td>tlg0031.tlg022</td>\n      <td>tlg0031.tlg022.perseus-grc2.xml</td>\n      <td>None</td>\n      <td>New Testament - 2 Peter</td>\n      <td>\\n\\n                    ΣΙΜΩΝ ΠΕΤΡΟΣ δοῦλος κα...</td>\n      <td>1095</td>\n      <td>perseus</td>\n      <td>[[Συμεών, Πέτρος, δοῦλος, ἀπόστολος, Ἰησοῦς, Χ...</td>\n      <td>morphgnt</td>\n      <td>christian</td>\n      <td>1.0</td>\n      <td>100.0</td>\n      <td>589</td>\n    </tr>\n    <tr>\n      <th>1547</th>\n      <td>tlg0031john</td>\n      <td>tlg0031.tlg023</td>\n      <td>tlg0031.tlg023.perseus-grc2.xml</td>\n      <td>Johnannine literature</td>\n      <td>New Testament - 1 John</td>\n      <td>\\n\\n                    Ο ΗΝ ΑΠʼ ΑΡΧΗΣ, ὃ ἀκηκ...</td>\n      <td>2135</td>\n      <td>perseus</td>\n      <td>[[εἰμί, ἀρχή, ἀκούω, ὁράω, ὀφθαλμός, θεάομαι, ...</td>\n      <td>morphgnt</td>\n      <td>christian</td>\n      <td>1.0</td>\n      <td>100.0</td>\n      <td>924</td>\n    </tr>\n    <tr>\n      <th>1548</th>\n      <td>tlg0031john</td>\n      <td>tlg0031.tlg024</td>\n      <td>tlg0031.tlg024.perseus-grc2.xml</td>\n      <td>Johnannine literature</td>\n      <td>New Testament - 2 John</td>\n      <td>\\n\\n                    Ο ΠΡΕΣΒΥΤΕΡΟΣ ἐκλεκτῇ ...</td>\n      <td>245</td>\n      <td>perseus</td>\n      <td>[[πρεσβύτερος, ἐκλεκτός, κυρία, τέκνον, ἀγαπάω...</td>\n      <td>morphgnt</td>\n      <td>christian</td>\n      <td>1.0</td>\n      <td>100.0</td>\n      <td>111</td>\n    </tr>\n    <tr>\n      <th>1549</th>\n      <td>tlg0031john</td>\n      <td>tlg0031.tlg025</td>\n      <td>tlg0031.tlg025.perseus-grc2.xml</td>\n      <td>Johnannine literature</td>\n      <td>New Testament - 3 John</td>\n      <td>\\n\\n                    Ο ΠΡΕΣΒΥΤΕΡΟΣ Γαίῳ τῷ ...</td>\n      <td>219</td>\n      <td>perseus</td>\n      <td>[[πρεσβύτερος, Γάϊος, ἀγαπητός, ἀγαπάω, ἀλήθει...</td>\n      <td>morphgnt</td>\n      <td>christian</td>\n      <td>1.0</td>\n      <td>100.0</td>\n      <td>105</td>\n    </tr>\n    <tr>\n      <th>1550</th>\n      <td>tlg0031g</td>\n      <td>tlg0031.tlg026</td>\n      <td>tlg0031.tlg026.perseus-grc2.xml</td>\n      <td>None</td>\n      <td>New Testament - Jude</td>\n      <td>\\n\\n                    ΙΟΥΔΑΣ Ἰησοῦ Χριστοῦ δ...</td>\n      <td>456</td>\n      <td>perseus</td>\n      <td>[[Ἰούδας, Ἰησοῦς, Χριστός, δοῦλος, ἀδελφός, Ἰά...</td>\n      <td>morphgnt</td>\n      <td>christian</td>\n      <td>1.0</td>\n      <td>100.0</td>\n      <td>254</td>\n    </tr>\n    <tr>\n      <th>1551</th>\n      <td>tlg0031h</td>\n      <td>tlg0031.tlg027</td>\n      <td>tlg0031.tlg027.perseus-grc2.xml</td>\n      <td>None</td>\n      <td>New Testament - Revelation</td>\n      <td>\\n\\n                    ΑΠΟΚΑΛΥΨΙΣ ΙΗΣΟΥ ΧΡΙΣΤ...</td>\n      <td>9857</td>\n      <td>perseus</td>\n      <td>[[ἀποκάλυψις, Ἰησοῦς, Χριστός, δίδωμι, θεός, δ...</td>\n      <td>morphgnt</td>\n      <td>christian</td>\n      <td>1.0</td>\n      <td>100.0</td>\n      <td>4731</td>\n    </tr>\n  </tbody>\n</table>\n</div>"
     },
     "execution_count": 8,
     "metadata": {},
     "output_type": "execute_result"
    }
   ],
   "source": [
    "LAGT[LAGT[\"author_id\"].str.startswith(\"tlg0031\")]"
   ],
   "metadata": {
    "collapsed": false,
    "ExecuteTime": {
     "end_time": "2024-01-29T11:15:05.629595Z",
     "start_time": "2024-01-29T11:15:05.407134Z"
    }
   },
   "execution_count": 8
  },
  {
   "cell_type": "code",
   "outputs": [],
   "source": [],
   "metadata": {
    "collapsed": false,
    "ExecuteTime": {
     "end_time": "2024-01-29T11:15:05.631686Z",
     "start_time": "2024-01-29T11:15:05.628360Z"
    }
   },
   "execution_count": 8
  },
  {
   "cell_type": "code",
   "outputs": [],
   "source": [],
   "metadata": {
    "collapsed": false,
    "ExecuteTime": {
     "end_time": "2024-01-29T11:15:05.635771Z",
     "start_time": "2024-01-29T11:15:05.629972Z"
    }
   },
   "execution_count": 8
  },
  {
   "cell_type": "code",
   "outputs": [],
   "source": [],
   "metadata": {
    "collapsed": false,
    "ExecuteTime": {
     "end_time": "2024-01-29T11:15:05.647414Z",
     "start_time": "2024-01-29T11:15:05.631753Z"
    }
   },
   "execution_count": 8
  },
  {
   "cell_type": "code",
   "execution_count": 9,
   "outputs": [
    {
     "data": {
      "text/plain": "60033"
     },
     "execution_count": 9,
     "metadata": {},
     "output_type": "execute_result"
    }
   ],
   "source": [
    "# extract a list of all lemmatized words from all lemmatized sentences\n",
    "wordlist = [w for sent in [sent for work in LAGT[\"lemmatized_sentences\"] for sent in work] for w in sent]\n",
    "# count all instances of the word θεός\n",
    "wordlist.count(\"θεός\")"
   ],
   "metadata": {
    "collapsed": false,
    "ExecuteTime": {
     "end_time": "2024-01-29T11:15:07.006987Z",
     "start_time": "2024-01-29T11:15:05.652800Z"
    }
   }
  },
  {
   "cell_type": "code",
   "execution_count": 10,
   "outputs": [
    {
     "data": {
      "text/plain": "443"
     },
     "execution_count": 10,
     "metadata": {},
     "output_type": "execute_result"
    }
   ],
   "source": [
    "# filter for texts from the fifth and fourth c. BCE\n",
    "len(LAGT[(LAGT[\"not_before\"].between(-500,-301)) | (LAGT[\"not_before\"].between(-500,-301))])"
   ],
   "metadata": {
    "collapsed": false,
    "ExecuteTime": {
     "end_time": "2024-01-29T11:15:07.009970Z",
     "start_time": "2024-01-29T11:15:07.003477Z"
    }
   }
  },
  {
   "cell_type": "code",
   "execution_count": 11,
   "outputs": [
    {
     "data": {
      "text/plain": "author_id                                                         tlg0086\ndoc_id                                                     tlg0086.tlg010\nfilename                                  tlg0086.tlg010.perseus-grc1.xml\nauthor                                                          Aristotle\ntitle                                                  Nicomachean Ethics\nstring                  πᾶσα τέχνη καὶ πᾶσα μέθοδος, ὁμοίως δὲ πρᾶξίς ...\nwordcount                                                           56630\nsource                                                            perseus\nlemmatized_sentences    [[πᾶς, τέχνη, πᾶς, μέθοδος, πρᾶξις, προαίρεσις...\nlemmata_source                                                      glaux\nprovenience                                                         pagan\nnot_before                                                         -400.0\nnot_after                                                          -301.0\nlemmatacount                                                        26618\nName: 1736, dtype: object"
     },
     "execution_count": 11,
     "metadata": {},
     "output_type": "execute_result"
    }
   ],
   "source": [
    "# index for aristotle's nicomachean ethics\n",
    "i = LAGT[LAGT[\"doc_id\"]==\"tlg0086.tlg010\"].index[0]\n",
    "LAGT.loc[i]"
   ],
   "metadata": {
    "collapsed": false,
    "ExecuteTime": {
     "end_time": "2024-01-29T11:15:07.024316Z",
     "start_time": "2024-01-29T11:15:07.020168Z"
    }
   }
  },
  {
   "cell_type": "markdown",
   "source": [
    "# Explore overall vocabulary"
   ],
   "metadata": {
    "collapsed": false
   }
  },
  {
   "cell_type": "code",
   "execution_count": 12,
   "outputs": [],
   "source": [
    "sents = [sent for work in LAGT[\"lemmatized_sentences\"] for sent in work]"
   ],
   "metadata": {
    "collapsed": false,
    "ExecuteTime": {
     "end_time": "2024-01-29T11:15:07.112246Z",
     "start_time": "2024-01-29T11:15:07.080864Z"
    }
   }
  },
  {
   "cell_type": "code",
   "execution_count": 13,
   "outputs": [
    {
     "data": {
      "text/plain": "2136459"
     },
     "execution_count": 13,
     "metadata": {},
     "output_type": "execute_result"
    }
   ],
   "source": [
    "len(sents)"
   ],
   "metadata": {
    "collapsed": false,
    "ExecuteTime": {
     "end_time": "2024-01-29T11:15:07.114321Z",
     "start_time": "2024-01-29T11:15:07.081337Z"
    }
   }
  },
  {
   "cell_type": "code",
   "execution_count": 14,
   "outputs": [],
   "source": [
    "min_freq = 10\n",
    "\n",
    "def get_vocab(docs, min_freq=min_freq):\n",
    "    words_flat = [item for sublist in docs for item in sublist]\n",
    "    word_freq_tups = FreqDist(words_flat).most_common()\n",
    "    vocabulary = [tup[0] for tup in word_freq_tups if tup[1] >= min_freq]\n",
    "    #vocab_freqs = [len([doc for doc in docs if word in doc]) for word in vocabulary]\n",
    "    return word_freq_tups, words_flat, vocabulary"
   ],
   "metadata": {
    "collapsed": false,
    "ExecuteTime": {
     "end_time": "2024-01-29T11:15:07.126516Z",
     "start_time": "2024-01-29T11:15:07.081459Z"
    }
   }
  },
  {
   "cell_type": "code",
   "execution_count": 15,
   "outputs": [],
   "source": [
    "word_freqs, words, vocabulary = get_vocab(sents)"
   ],
   "metadata": {
    "collapsed": false,
    "ExecuteTime": {
     "end_time": "2024-01-29T11:15:11.905805Z",
     "start_time": "2024-01-29T11:15:07.147814Z"
    }
   }
  },
  {
   "cell_type": "code",
   "outputs": [
    {
     "data": {
      "text/plain": "       lemma   count\n0      οὗτος  329550\n1       λέγω  239805\n2       εἰμί  228068\n3      αὐτός  213863\n4   γίγνομαι  157466\n5        ἔχω  146946\n6      πολύς  121226\n7        πᾶς  104593\n8       φημί   99994\n9      ἄλλος   96970\n10       τις   92023\n11     ποιέω   86846\n12     λόγος   83083\n13       τίς   77316\n14      θεός   60033\n15     μέγας   55331\n16   ἐκεῖνος   53610\n17  ἄνθρωπος   53354\n18    πρῶτος   50717\n19    ἕτερος   47254",
      "text/html": "<div>\n<style scoped>\n    .dataframe tbody tr th:only-of-type {\n        vertical-align: middle;\n    }\n\n    .dataframe tbody tr th {\n        vertical-align: top;\n    }\n\n    .dataframe thead th {\n        text-align: right;\n    }\n</style>\n<table border=\"1\" class=\"dataframe\">\n  <thead>\n    <tr style=\"text-align: right;\">\n      <th></th>\n      <th>lemma</th>\n      <th>count</th>\n    </tr>\n  </thead>\n  <tbody>\n    <tr>\n      <th>0</th>\n      <td>οὗτος</td>\n      <td>329550</td>\n    </tr>\n    <tr>\n      <th>1</th>\n      <td>λέγω</td>\n      <td>239805</td>\n    </tr>\n    <tr>\n      <th>2</th>\n      <td>εἰμί</td>\n      <td>228068</td>\n    </tr>\n    <tr>\n      <th>3</th>\n      <td>αὐτός</td>\n      <td>213863</td>\n    </tr>\n    <tr>\n      <th>4</th>\n      <td>γίγνομαι</td>\n      <td>157466</td>\n    </tr>\n    <tr>\n      <th>5</th>\n      <td>ἔχω</td>\n      <td>146946</td>\n    </tr>\n    <tr>\n      <th>6</th>\n      <td>πολύς</td>\n      <td>121226</td>\n    </tr>\n    <tr>\n      <th>7</th>\n      <td>πᾶς</td>\n      <td>104593</td>\n    </tr>\n    <tr>\n      <th>8</th>\n      <td>φημί</td>\n      <td>99994</td>\n    </tr>\n    <tr>\n      <th>9</th>\n      <td>ἄλλος</td>\n      <td>96970</td>\n    </tr>\n    <tr>\n      <th>10</th>\n      <td>τις</td>\n      <td>92023</td>\n    </tr>\n    <tr>\n      <th>11</th>\n      <td>ποιέω</td>\n      <td>86846</td>\n    </tr>\n    <tr>\n      <th>12</th>\n      <td>λόγος</td>\n      <td>83083</td>\n    </tr>\n    <tr>\n      <th>13</th>\n      <td>τίς</td>\n      <td>77316</td>\n    </tr>\n    <tr>\n      <th>14</th>\n      <td>θεός</td>\n      <td>60033</td>\n    </tr>\n    <tr>\n      <th>15</th>\n      <td>μέγας</td>\n      <td>55331</td>\n    </tr>\n    <tr>\n      <th>16</th>\n      <td>ἐκεῖνος</td>\n      <td>53610</td>\n    </tr>\n    <tr>\n      <th>17</th>\n      <td>ἄνθρωπος</td>\n      <td>53354</td>\n    </tr>\n    <tr>\n      <th>18</th>\n      <td>πρῶτος</td>\n      <td>50717</td>\n    </tr>\n    <tr>\n      <th>19</th>\n      <td>ἕτερος</td>\n      <td>47254</td>\n    </tr>\n  </tbody>\n</table>\n</div>"
     },
     "execution_count": 16,
     "metadata": {},
     "output_type": "execute_result"
    }
   ],
   "source": [
    "pd.DataFrame(word_freqs[:20], columns=[\"lemma\", \"count\"])"
   ],
   "metadata": {
    "collapsed": false,
    "ExecuteTime": {
     "end_time": "2024-01-29T11:15:11.919556Z",
     "start_time": "2024-01-29T11:15:11.908470Z"
    }
   },
   "execution_count": 16
  },
  {
   "cell_type": "markdown",
   "source": [
    "# Generate ngrams"
   ],
   "metadata": {
    "collapsed": false
   }
  },
  {
   "cell_type": "code",
   "execution_count": 17,
   "outputs": [
    {
     "data": {
      "text/plain": "1710"
     },
     "execution_count": 17,
     "metadata": {},
     "output_type": "execute_result"
    }
   ],
   "source": [
    "doc_ids = LAGT[\"doc_id\"].tolist()\n",
    "len(doc_ids)"
   ],
   "metadata": {
    "collapsed": false,
    "ExecuteTime": {
     "end_time": "2024-01-29T11:15:11.922272Z",
     "start_time": "2024-01-29T11:15:11.910922Z"
    }
   }
  },
  {
   "cell_type": "code",
   "outputs": [],
   "source": [
    "#!mkdir ../data/large_data"
   ],
   "metadata": {
    "collapsed": false,
    "ExecuteTime": {
     "end_time": "2024-01-29T11:15:11.924594Z",
     "start_time": "2024-01-29T11:15:11.915107Z"
    }
   },
   "execution_count": 18
  },
  {
   "cell_type": "code",
   "execution_count": 19,
   "outputs": [],
   "source": [
    "line = 0\n",
    "ids_lines = {}\n",
    "\n",
    "f = open(\"../data/large_data/corpus_ngrams_bydocid_wide.txt\", \"w\", encoding=\"utf-8\")\n",
    "for doc_id in doc_ids:\n",
    "    lagt_subset = LAGT[LAGT[\"doc_id\"]==doc_id]\n",
    "    sents = [sen for work in lagt_subset[\"lemmatized_sentences\"] for sen in work]\n",
    "    sents_trigrams = [list(el) for sublist in [[ng for ng in nltk.trigrams(sent)] for sent in sents] for el in sublist]\n",
    "    sents_fivegrams = [list(el) for sublist in [[ng for ng in nltk.ngrams(sent, n=5)] for sent in sents] for el in sublist]\n",
    "    ngrams_data = sents + sents_fivegrams # + sents_trigrams\n",
    "    ngrams_data = [\" \".join(ngram) for ngram in ngrams_data]\n",
    "    f.writelines(\"\\n\".join(ngrams_data)+\"\\n\")\n",
    "    if bool(ngrams_data):\n",
    "        ids_lines[doc_id] = (line, line+len(ngrams_data))\n",
    "        line += len(ngrams_data)\n",
    "    else:\n",
    "        ids_lines[doc_id] = (line, line+1)\n",
    "        line += 1"
   ],
   "metadata": {
    "collapsed": false,
    "ExecuteTime": {
     "end_time": "2024-01-29T11:16:40.288643Z",
     "start_time": "2024-01-29T11:15:11.923138Z"
    }
   }
  },
  {
   "cell_type": "code",
   "execution_count": 20,
   "outputs": [],
   "source": [
    "pickle.dump(ids_lines, open(\"../data/ids_lines_wide.pickle\", \"wb\"))"
   ],
   "metadata": {
    "collapsed": false,
    "ExecuteTime": {
     "end_time": "2024-01-29T11:16:40.294054Z",
     "start_time": "2024-01-29T11:16:40.288905Z"
    }
   }
  },
  {
   "cell_type": "markdown",
   "source": [
    "# Ngram example"
   ],
   "metadata": {
    "collapsed": false
   }
  },
  {
   "cell_type": "code",
   "execution_count": 21,
   "outputs": [],
   "source": [
    "# index for aristotle's nicomachean ethics\n",
    "i = LAGT[LAGT[\"doc_id\"]==\"tlg0086.tlg010\"].index[0]"
   ],
   "metadata": {
    "collapsed": false,
    "ExecuteTime": {
     "end_time": "2024-01-29T11:16:40.296079Z",
     "start_time": "2024-01-29T11:16:40.292639Z"
    }
   }
  },
  {
   "cell_type": "code",
   "execution_count": 22,
   "outputs": [
    {
     "data": {
      "text/plain": "1736"
     },
     "execution_count": 22,
     "metadata": {},
     "output_type": "execute_result"
    }
   ],
   "source": [
    "i"
   ],
   "metadata": {
    "collapsed": false,
    "ExecuteTime": {
     "end_time": "2024-01-29T11:16:40.316016Z",
     "start_time": "2024-01-29T11:16:40.295095Z"
    }
   }
  },
  {
   "cell_type": "code",
   "execution_count": 23,
   "outputs": [
    {
     "data": {
      "text/plain": "'πᾶσα τέχνη καὶ πᾶσα μέθοδος, ὁμοίως δὲ πρᾶξίς τε καὶ προαίρεσις, ἀγαθοῦ τινὸς ἐφίεσθαι δοκεῖ'"
     },
     "execution_count": 23,
     "metadata": {},
     "output_type": "execute_result"
    }
   ],
   "source": [
    "LAGT.loc[i][\"string\"].split(\"·\")[0]"
   ],
   "metadata": {
    "collapsed": false,
    "ExecuteTime": {
     "end_time": "2024-01-29T11:16:40.321121Z",
     "start_time": "2024-01-29T11:16:40.298356Z"
    }
   }
  },
  {
   "cell_type": "code",
   "outputs": [
    {
     "name": "stdout",
     "output_type": "stream",
     "text": [
      "['πᾶς' 'τέχνη' 'πᾶς' 'μέθοδος' 'πρᾶξις' 'προαίρεσις' 'ἀγαθός' 'τις'\n",
      " 'ἐφίημι' 'δοκέω']\n"
     ]
    }
   ],
   "source": [
    "sent = LAGT.loc[i][\"lemmatized_sentences\"][0]\n",
    "print(sent)"
   ],
   "metadata": {
    "collapsed": false,
    "ExecuteTime": {
     "end_time": "2024-01-29T11:16:40.323053Z",
     "start_time": "2024-01-29T11:16:40.299622Z"
    }
   },
   "execution_count": 24
  },
  {
   "cell_type": "code",
   "execution_count": 25,
   "outputs": [
    {
     "name": "stdout",
     "output_type": "stream",
     "text": [
      "[array(['πᾶς', 'τέχνη', 'πᾶς', 'μέθοδος', 'πρᾶξις', 'προαίρεσις', 'ἀγαθός',\n",
      "       'τις', 'ἐφίημι', 'δοκέω'], dtype=object), ['πᾶς', 'τέχνη', 'πᾶς'], ['τέχνη', 'πᾶς', 'μέθοδος'], ['πᾶς', 'μέθοδος', 'πρᾶξις'], ['μέθοδος', 'πρᾶξις', 'προαίρεσις'], ['πρᾶξις', 'προαίρεσις', 'ἀγαθός'], ['προαίρεσις', 'ἀγαθός', 'τις'], ['ἀγαθός', 'τις', 'ἐφίημι'], ['τις', 'ἐφίημι', 'δοκέω'], ['πᾶς', 'τέχνη', 'πᾶς', 'μέθοδος', 'πρᾶξις'], ['τέχνη', 'πᾶς', 'μέθοδος', 'πρᾶξις', 'προαίρεσις'], ['πᾶς', 'μέθοδος', 'πρᾶξις', 'προαίρεσις', 'ἀγαθός'], ['μέθοδος', 'πρᾶξις', 'προαίρεσις', 'ἀγαθός', 'τις'], ['πρᾶξις', 'προαίρεσις', 'ἀγαθός', 'τις', 'ἐφίημι'], ['προαίρεσις', 'ἀγαθός', 'τις', 'ἐφίημι', 'δοκέω']]\n"
     ]
    }
   ],
   "source": [
    "trigrams = [list(ng) for ng in nltk.trigrams(sent)]\n",
    "fivegrams = [list(ng) for ng in nltk.ngrams(sent, n=5)]\n",
    "print([sent] + trigrams + fivegrams)"
   ],
   "metadata": {
    "collapsed": false,
    "ExecuteTime": {
     "end_time": "2024-01-29T11:16:40.325078Z",
     "start_time": "2024-01-29T11:16:40.303958Z"
    }
   }
  },
  {
   "cell_type": "markdown",
   "source": [
    "# Exploring subcorpora"
   ],
   "metadata": {
    "collapsed": false
   }
  },
  {
   "cell_type": "code",
   "outputs": [],
   "source": [
    "periods = {\n",
    "    \"archaic\" : (-800, -501),\n",
    "    \"classical\" : (-500,-301),\n",
    "    \"hellenistic\" : (-300,-1),\n",
    "    \"roman_peak\" : (1, 200),\n",
    "    \"late_roman\" : (201, 400)\n",
    "}   \n",
    "\n",
    "def get_periods(row):\n",
    "    not_before = row[\"not_before\"]\n",
    "    not_after = row[\"not_after\"]\n",
    "    periods_covered = []\n",
    "    try:\n",
    "        for period_key in periods.keys():\n",
    "            period = periods[period_key]\n",
    "            if period[1] >= not_before and not_after >= period[0]:\n",
    "                periods_covered.append(period_key)\n",
    "    except:\n",
    "        pass\n",
    "    return periods_covered"
   ],
   "metadata": {
    "collapsed": false,
    "ExecuteTime": {
     "end_time": "2024-01-29T11:16:40.376710Z",
     "start_time": "2024-01-29T11:16:40.308888Z"
    }
   },
   "execution_count": 26
  },
  {
   "cell_type": "code",
   "outputs": [],
   "source": [
    "LAGT[\"periods\"] = LAGT.apply(get_periods, axis=1)"
   ],
   "metadata": {
    "collapsed": false,
    "ExecuteTime": {
     "end_time": "2024-01-29T11:16:40.406951Z",
     "start_time": "2024-01-29T11:16:40.320193Z"
    }
   },
   "execution_count": 27
  },
  {
   "cell_type": "code",
   "outputs": [],
   "source": [
    "subcorpora_overview = []\n",
    "for period_key in periods.keys():\n",
    "    LAGT_subset = LAGT[LAGT[\"periods\"].apply(lambda x: period_key in x)]\n",
    "    subcorpora_overview.append(\n",
    "        {\"period\" : period_key,\n",
    "         \"works_n\" : len(LAGT_subset),\n",
    "         \"words_n\" : LAGT_subset[\"wordcount\"].sum()\n",
    "         }\n",
    "    )\n",
    "        "
   ],
   "metadata": {
    "collapsed": false,
    "ExecuteTime": {
     "end_time": "2024-01-29T11:16:40.458828Z",
     "start_time": "2024-01-29T11:16:40.323822Z"
    }
   },
   "execution_count": 28
  },
  {
   "cell_type": "code",
   "outputs": [
    {
     "data": {
      "text/plain": "        period  works_n   words_n\n0      archaic       59    338991\n1    classical      458   4133038\n2  hellenistic      238   4164793\n3   roman_peak      752  14202575\n4   late_roman      326   9294681",
      "text/html": "<div>\n<style scoped>\n    .dataframe tbody tr th:only-of-type {\n        vertical-align: middle;\n    }\n\n    .dataframe tbody tr th {\n        vertical-align: top;\n    }\n\n    .dataframe thead th {\n        text-align: right;\n    }\n</style>\n<table border=\"1\" class=\"dataframe\">\n  <thead>\n    <tr style=\"text-align: right;\">\n      <th></th>\n      <th>period</th>\n      <th>works_n</th>\n      <th>words_n</th>\n    </tr>\n  </thead>\n  <tbody>\n    <tr>\n      <th>0</th>\n      <td>archaic</td>\n      <td>59</td>\n      <td>338991</td>\n    </tr>\n    <tr>\n      <th>1</th>\n      <td>classical</td>\n      <td>458</td>\n      <td>4133038</td>\n    </tr>\n    <tr>\n      <th>2</th>\n      <td>hellenistic</td>\n      <td>238</td>\n      <td>4164793</td>\n    </tr>\n    <tr>\n      <th>3</th>\n      <td>roman_peak</td>\n      <td>752</td>\n      <td>14202575</td>\n    </tr>\n    <tr>\n      <th>4</th>\n      <td>late_roman</td>\n      <td>326</td>\n      <td>9294681</td>\n    </tr>\n  </tbody>\n</table>\n</div>"
     },
     "execution_count": 29,
     "metadata": {},
     "output_type": "execute_result"
    }
   ],
   "source": [
    "subcorpora_overview_df = pd.DataFrame(subcorpora_overview)\n",
    "subcorpora_overview_df"
   ],
   "metadata": {
    "collapsed": false,
    "ExecuteTime": {
     "end_time": "2024-01-29T11:16:40.461290Z",
     "start_time": "2024-01-29T11:16:40.328828Z"
    }
   },
   "execution_count": 29
  },
  {
   "cell_type": "code",
   "outputs": [
    {
     "data": {
      "text/plain": "             works_n   words_n\nprovenience                   \nchristian        207   7574364\njewish            92   2103563\npagan           1345  20366621",
      "text/html": "<div>\n<style scoped>\n    .dataframe tbody tr th:only-of-type {\n        vertical-align: middle;\n    }\n\n    .dataframe tbody tr th {\n        vertical-align: top;\n    }\n\n    .dataframe thead th {\n        text-align: right;\n    }\n</style>\n<table border=\"1\" class=\"dataframe\">\n  <thead>\n    <tr style=\"text-align: right;\">\n      <th></th>\n      <th>works_n</th>\n      <th>words_n</th>\n    </tr>\n    <tr>\n      <th>provenience</th>\n      <th></th>\n      <th></th>\n    </tr>\n  </thead>\n  <tbody>\n    <tr>\n      <th>christian</th>\n      <td>207</td>\n      <td>7574364</td>\n    </tr>\n    <tr>\n      <th>jewish</th>\n      <td>92</td>\n      <td>2103563</td>\n    </tr>\n    <tr>\n      <th>pagan</th>\n      <td>1345</td>\n      <td>20366621</td>\n    </tr>\n  </tbody>\n</table>\n</div>"
     },
     "execution_count": 34,
     "metadata": {},
     "output_type": "execute_result"
    }
   ],
   "source": [
    "provenience_overview = LAGT.groupby(\"provenience\").agg(\n",
    "    works_n=('provenience', 'size'),\n",
    "    words_n=('wordcount', 'sum')\n",
    ")\n",
    "provenience_overview"
   ],
   "metadata": {
    "collapsed": false,
    "ExecuteTime": {
     "end_time": "2024-01-29T11:29:58.016485Z",
     "start_time": "2024-01-29T11:29:57.975042Z"
    }
   },
   "execution_count": 34
  },
  {
   "cell_type": "markdown",
   "source": [
    "### Overview by century"
   ],
   "metadata": {
    "collapsed": false
   }
  },
  {
   "cell_type": "code",
   "outputs": [],
   "source": [],
   "metadata": {
    "collapsed": false
   }
  },
  {
   "cell_type": "code",
   "outputs": [],
   "source": [],
   "metadata": {
    "collapsed": false
   }
  },
  {
   "cell_type": "code",
   "outputs": [],
   "source": [],
   "metadata": {
    "collapsed": false
   }
  },
  {
   "cell_type": "code",
   "outputs": [],
   "source": [],
   "metadata": {
    "collapsed": false
   }
  },
  {
   "cell_type": "markdown",
   "source": [
    "# Looking at frequencies for our manually annotated subset of words"
   ],
   "metadata": {
    "collapsed": false
   }
  },
  {
   "cell_type": "code",
   "execution_count": 95,
   "outputs": [
    {
     "data": {
      "text/plain": "                          raw_translation     greek  \\\n0                      Αἰθίοψ - Ethiopian    Αἰθίοψ   \n1                        Δαναοί - Danaans    Δαναοί   \n2                       Δημήτηρ - Demeter   Δημήτηρ   \n3                     Διόνυσος - Dionysus  Διόνυσος   \n4                   Εὐθύφρων - Euthyphron  Εὐθύφρων   \n..                                    ...       ...   \n501                     Ὠκεανός - Oceanus   Ὠκεανός   \n502                 ῥέζω - govern, manage      ῥέζω   \n503  ῥητορική - rhetoric, art of speaking  ῥητορική   \n504                  ῥῆσις - speech, word     ῥῆσις   \n505                            Ῥέα - Rhea       Ῥέα   \n\n                  english_full english_minimal category greek_transliterated  \n0                    Ethiopian       Ethiopian                     Aithíops  \n1                      Danaans         Danaans                       Danaoí  \n2                      Demeter         Demeter                   Dēmḗtēr  \n3                     Dionysus        Dionysus                     Diónusos  \n4                   Euthyphron      Euthyphron                  Euthúphrōn  \n..                         ...             ...      ...                  ...  \n501                    Oceanus         Oceanus                     Ōkeanós  \n502             govern, manage          govern                       rhézō  \n503  rhetoric, art of speaking        rhetoric                  rhētorikḗ  \n504               speech, word          speech                       rhêsis  \n505                       Rhea            Rhea                         Rhéa  \n\n[506 rows x 6 columns]",
      "text/html": "<div>\n<style scoped>\n    .dataframe tbody tr th:only-of-type {\n        vertical-align: middle;\n    }\n\n    .dataframe tbody tr th {\n        vertical-align: top;\n    }\n\n    .dataframe thead th {\n        text-align: right;\n    }\n</style>\n<table border=\"1\" class=\"dataframe\">\n  <thead>\n    <tr style=\"text-align: right;\">\n      <th></th>\n      <th>raw_translation</th>\n      <th>greek</th>\n      <th>english_full</th>\n      <th>english_minimal</th>\n      <th>category</th>\n      <th>greek_transliterated</th>\n    </tr>\n  </thead>\n  <tbody>\n    <tr>\n      <th>0</th>\n      <td>Αἰθίοψ - Ethiopian</td>\n      <td>Αἰθίοψ</td>\n      <td>Ethiopian</td>\n      <td>Ethiopian</td>\n      <td></td>\n      <td>Aithíops</td>\n    </tr>\n    <tr>\n      <th>1</th>\n      <td>Δαναοί - Danaans</td>\n      <td>Δαναοί</td>\n      <td>Danaans</td>\n      <td>Danaans</td>\n      <td></td>\n      <td>Danaoí</td>\n    </tr>\n    <tr>\n      <th>2</th>\n      <td>Δημήτηρ - Demeter</td>\n      <td>Δημήτηρ</td>\n      <td>Demeter</td>\n      <td>Demeter</td>\n      <td></td>\n      <td>Dēmḗtēr</td>\n    </tr>\n    <tr>\n      <th>3</th>\n      <td>Διόνυσος - Dionysus</td>\n      <td>Διόνυσος</td>\n      <td>Dionysus</td>\n      <td>Dionysus</td>\n      <td></td>\n      <td>Diónusos</td>\n    </tr>\n    <tr>\n      <th>4</th>\n      <td>Εὐθύφρων - Euthyphron</td>\n      <td>Εὐθύφρων</td>\n      <td>Euthyphron</td>\n      <td>Euthyphron</td>\n      <td></td>\n      <td>Euthúphrōn</td>\n    </tr>\n    <tr>\n      <th>...</th>\n      <td>...</td>\n      <td>...</td>\n      <td>...</td>\n      <td>...</td>\n      <td>...</td>\n      <td>...</td>\n    </tr>\n    <tr>\n      <th>501</th>\n      <td>Ὠκεανός - Oceanus</td>\n      <td>Ὠκεανός</td>\n      <td>Oceanus</td>\n      <td>Oceanus</td>\n      <td></td>\n      <td>Ōkeanós</td>\n    </tr>\n    <tr>\n      <th>502</th>\n      <td>ῥέζω - govern, manage</td>\n      <td>ῥέζω</td>\n      <td>govern, manage</td>\n      <td>govern</td>\n      <td></td>\n      <td>rhézō</td>\n    </tr>\n    <tr>\n      <th>503</th>\n      <td>ῥητορική - rhetoric, art of speaking</td>\n      <td>ῥητορική</td>\n      <td>rhetoric, art of speaking</td>\n      <td>rhetoric</td>\n      <td></td>\n      <td>rhētorikḗ</td>\n    </tr>\n    <tr>\n      <th>504</th>\n      <td>ῥῆσις - speech, word</td>\n      <td>ῥῆσις</td>\n      <td>speech, word</td>\n      <td>speech</td>\n      <td></td>\n      <td>rhêsis</td>\n    </tr>\n    <tr>\n      <th>505</th>\n      <td>Ῥέα - Rhea</td>\n      <td>Ῥέα</td>\n      <td>Rhea</td>\n      <td>Rhea</td>\n      <td></td>\n      <td>Rhéa</td>\n    </tr>\n  </tbody>\n</table>\n<p>506 rows × 6 columns</p>\n</div>"
     },
     "execution_count": 95,
     "metadata": {},
     "output_type": "execute_result"
    }
   ],
   "source": [
    "translated_df = pd.read_json(\"../data/translated_df.json\")\n",
    "translated_df"
   ],
   "metadata": {
    "collapsed": false
   }
  },
  {
   "cell_type": "code",
   "execution_count": 100,
   "outputs": [],
   "source": [
    "subset = LAGT[LAGT[\"subcorpus\"]==\"archaic\"]\n",
    "sents = [sent for work in subset[\"lemmatized_sentences\"] for sent in work]\n",
    "word_freqs, words, vocabulary = get_vocab(sents)"
   ],
   "metadata": {
    "collapsed": false
   }
  },
  {
   "cell_type": "code",
   "execution_count": 101,
   "outputs": [
    {
     "data": {
      "text/plain": "{'εἰμί': 3428,\n 'πᾶς': 1723,\n 'ἀνήρ': 1634,\n 'ἔρχομαι': 1623,\n 'λέγω': 1506,\n 'πολύς': 1499,\n 'θεός': 1429,\n 'ἔχω': 1412,\n 'Ζεύς': 1322,\n 'φημί': 1227,\n 'μέγας': 1171,\n 'ναῦς': 1129,\n 'φίλος': 1005,\n 'ὁράω': 936,\n 'ὅδε': 915,\n 'χείρ': 912,\n 'θυμός': 899,\n 'υἱός': 756,\n 'κακός': 753,\n 'γίγνομαι': 745,\n 'Ἀχαιός': 740,\n 'πατήρ': 729,\n 'Ὀδυσσεύς': 725,\n 'δίδωμι': 675,\n 'Τρώς': 649,\n 'παῖς': 626,\n 'γῆ': 618,\n 'αὐτός': 606,\n 'οὗτος': 605,\n 'ἄνθρωπος': 589,\n 'ἐμός': 586,\n 'φέρω': 580,\n 'ἵππος': 575,\n 'ἵστημι': 573,\n 'τίθημι': 569,\n 'ἀγαθός': 569,\n 'φρήν': 559,\n 'βάλλω': 554,\n 'ἔπος': 548,\n 'οἶδα': 546,\n 'αἱρέω': 533,\n 'μῦθος': 502,\n 'πρῶτος': 492,\n 'πόλις': 492,\n 'βαίνω': 484,\n 'ἐθέλω': 478,\n 'καλός': 474,\n 'ἄγω': 465,\n 'Ἕκτωρ': 456,\n 'ἑταῖρος': 452,\n 'γυνή': 439,\n 'τις': 439,\n 'δῖος': 434,\n 'ἔργον': 434,\n 'πούς': 416,\n 'Ἀχιλλεύς': 395,\n 'ἀθάνατος': 389,\n 'δῶμα': 387,\n 'μήτηρ': 378,\n 'ἑός': 370,\n 'Ἀθήνη': 368,\n 'ἱκνέομαι': 359,\n 'λαός': 352,\n 'λόγος': 349,\n 'πόλεμος': 348,\n 'ἄναξ': 345,\n 'ἀκούω': 340,\n 'σός': 331,\n 'πείθω': 323,\n 'μέγαρον': 321,\n 'δόμος': 320,\n 'τίς': 320,\n 'δόρυ': 314,\n 'ἕκαστος': 306,\n 'ξένος': 305,\n 'τίκτω': 286,\n 'ὄρνυμι': 285,\n 'Ἀπόλλων': 285,\n 'βοῦς': 282,\n 'λαμβάνω': 278,\n 'θεά': 277,\n 'ἄλλος': 277,\n 'μάχομαι': 267,\n 'φεύγω': 265,\n 'πίπτω': 265,\n 'βροτός': 262,\n 'Ἀργεῖος': 260,\n 'πῦρ': 260,\n 'ἦμαρ': 260,\n 'μένω': 258,\n 'ἔγχος': 257,\n 'γέρων': 256,\n 'κεῖμαι': 255,\n 'ἕπομαι': 253,\n 'θνῄσκω': 250,\n 'Τηλέμαχος': 248,\n 'κύων': 247,\n 'χθών': 247,\n 'φαίνω': 246,\n 'πρόσφημι': 244,\n 'ποιέω': 242,\n 'ὄλλυμι': 241,\n 'κελεύω': 238,\n 'οἶκος': 237,\n 'Ἄρης': 237,\n 'μνηστήρ': 237,\n 'ἵημι': 235,\n 'μέλας': 235,\n 'τεύχω': 234,\n 'Ἀτρείδης': 227,\n 'ἐλαύνω': 226,\n 'λείπω': 223,\n 'μένος': 220,\n 'ἐσθλός': 220,\n 'ἔοικα': 217,\n 'ἀμείβω': 217,\n 'πάσχω': 217,\n 'νύξ': 216,\n 'χαλκός': 216,\n 'εὔχομαι': 214,\n 'εὑρίσκω': 214,\n 'καλέω': 213,\n 'τεῦχος': 212,\n 'στῆθος': 211,\n 'Αἴας': 211,\n 'δύναμαι': 210,\n 'λέων': 210,\n 'βασιλεύς': 209,\n 'μάχη': 209,\n 'θάνατος': 208,\n 'κτείνω': 208,\n 'χρύσεος': 207,\n 'προσλέγω': 207,\n 'νέος': 205,\n 'ἥλιος': 204,\n 'τελέω': 202,\n 'εὐρύς': 200,\n 'πόντος': 200,\n 'μέσος': 200,\n 'ἅπας': 199,\n 'προσαυδάω': 198,\n 'Μενέλαος': 197,\n 'φωνέω': 197,\n 'γιγνώσκω': 195,\n 'κρατερός': 194,\n 'μακρός': 193,\n 'Ἀγαμέμνων': 192,\n 'μέλλω': 192,\n 'δαμάζω': 191,\n 'κόρη': 191,\n 'αἷμα': 191,\n 'ταχύς': 191,\n 'κλύω': 190,\n 'κεφαλή': 190,\n 'ἄρχω': 189,\n 'χαίρω': 187,\n 'θάλασσα': 186,\n 'δεινός': 186,\n 'ποταμός': 186,\n 'δηλόω': 186,\n 'λύω': 185,\n 'ὦμος': 183,\n 'φράζω': 183,\n 'ἀγορεύω': 181,\n 'δίκη': 181,\n 'ὀξύς': 180,\n 'πάρειμι': 180,\n 'βία': 180,\n 'ἐκεῖνος': 180,\n 'ὁδός': 179,\n 'πέμπω': 179,\n 'δαίμων': 179,\n 'ἕτερος': 177,\n 'ὕδωρ': 176,\n 'πόνος': 175,\n 'χέω': 174,\n 'Ἥρα': 172,\n 'νόος': 172,\n 'μοῖρα': 170,\n 'νοέω': 170,\n 'δέχομαι': 169,\n 'οἶος': 169,\n 'θυγάτηρ': 168,\n 'δῶρον': 168,\n 'πέλω': 168,\n 'ἐρύω': 164,\n 'ἐάω': 163,\n 'ἄνωγα': 163,\n 'οὐρανός': 163,\n 'ὀφθαλμός': 163,\n 'στρατός': 162,\n 'θοός': 162,\n 'πυνθάνομαι': 162,\n 'μιμνῄσκω': 161,\n 'Πρίαμος': 160,\n 'γένος': 160,\n 'ἧμαι': 159,\n 'ἄστυ': 159,\n 'τρέφω': 158,\n 'Πάτροκλος': 158,\n 'δέω': 158,\n 'χρόνος': 158,\n 'ὄρος': 156,\n 'ἄνεμος': 156,\n 'Δαναοί': 155,\n 'ἱερός': 155,\n 'ἀμφότερος': 155,\n 'ἥρως': 154,\n 'ναίω': 153,\n 'τέκνον': 152,\n 'δύω': 152,\n 'βουλή': 151,\n 'οἴομαι': 151,\n 'λανθάνω': 150,\n 'πτερόεις': 149,\n 'θνητός': 149,\n 'τόσος': 146,\n 'οἶνος': 146,\n 'Ὄλυμπος': 145,\n 'χρή': 145,\n 'ὀτρύνω': 145,\n 'ἅλς': 144,\n 'οὐδείς': 144,\n 'ἴσος': 143,\n 'ὕπνος': 142,\n 'πεδίον': 142,\n 'τυγχάνω': 142,\n 'ὠκύς': 141,\n 'πατρίς': 141,\n 'μείγνυμι': 141,\n 'δῆμος': 140,\n 'φρονέω': 139,\n 'κῦμα': 138,\n 'δείδω': 137,\n 'γόνυ': 137,\n 'πράσσω': 136,\n 'μόνος': 136,\n 'τόξον': 135,\n 'χρώς': 134,\n 'ἄλοχος': 133,\n 'ἱκάνω': 133,\n 'ψυχή': 132,\n 'φιλέω': 132,\n 'τεῖχος': 132,\n 'βέλος': 131,\n 'ἠώς': 131,\n 'δοκέω': 131,\n 'τιμή': 129,\n 'παύω': 129,\n 'πρότερος': 129,\n 'ἡμέτερος': 128,\n 'φώς': 128,\n 'τὶς': 127,\n 'κίω': 126,\n 'ἀπαμείβομαι': 126,\n 'ἀμύμων': 125,\n 'χάρις': 125,\n 'Ἴλιος': 124,\n 'μέμαα': 124,\n 'τέρπω': 123,\n 'κλισία': 122,\n 'πίνω': 122,\n 'ἄλγος': 121,\n 'οἴχομαι': 121,\n 'βούλομαι': 121,\n 'δάκρυον': 120,\n 'φάος': 120,\n 'αὐδάω': 119,\n 'καρδία': 119,\n 'πόσις': 119,\n 'χάλκεος': 119,\n 'κλυτός': 119,\n 'ἀχέω': 118,\n 'Νέστωρ': 118,\n 'τοῖος': 118,\n 'ἦτορ': 117,\n 'πύλη': 117,\n 'πόρω': 115,\n 'νικάω': 115,\n 'ἀσπίς': 115,\n 'ῥέζω': 114,\n 'καλύπτω': 114,\n 'Ἑρμῆς': 114,\n 'νῆσος': 113,\n 'δίφρος': 113,\n 'ἀπόλλυμι': 112,\n 'πειράω': 112,\n 'ἅρμα': 112,\n 'εἰσοράω': 112,\n 'κέλομαι': 111,\n 'πῆμα': 111,\n 'ἀγλαός': 110,\n 'γλαυκῶπις': 110,\n 'τλάω': 110,\n 'κλαίω': 110,\n 'εὐνή': 110,\n 'θεῖος': 110,\n 'ἐχθρός': 109,\n 'τρέπω': 109,\n 'κάρα': 109,\n 'πυκνός': 109,\n 'θεάομαι': 109,\n 'ἐπέρχομαι': 108,\n 'ἀμύνω': 108,\n 'κῆρυξ': 108,\n 'φιλότης': 108,\n 'ἀρετή': 107,\n 'Ποσειδῶν': 106,\n 'ὅμιλος': 106,\n 'λύκος': 106,\n 'ποιμήν': 105,\n 'παρίστημι': 105,\n 'νέμω': 105,\n 'ἕζομαι': 104,\n 'μῆλον': 104,\n 'ἀνίστημι': 103,\n 'πότνια': 103,\n 'πέτρα': 103,\n 'χρυσός': 103,\n 'φόβος': 103,\n 'φαεινός': 103,\n 'Κρονίων': 102,\n 'μάκαρ': 101,\n 'ἀλκή': 101,\n 'τέλος': 100,\n 'κέαρ': 98,\n 'κῦδος': 98,\n 'μέλω': 98,\n 'Τροία': 97,\n 'γλυκύς': 97,\n 'δαίς': 97,\n 'ἀείρω': 97,\n 'φυλάσσω': 97,\n 'σάκος': 97,\n 'νεκρός': 97,\n 'ὄνος': 97,\n 'νέομαι': 96,\n 'ἀντίος': 96,\n 'ἀείδω': 95,\n 'εἷμα': 95,\n 'κλέος': 95,\n 'τύχη': 95,\n 'ἀλώπηξ': 95,\n 'Φοῖβος': 94,\n 'λευκός': 94,\n 'ὗς': 92,\n 'σῴζω': 91,\n 'αἰνός': 91,\n 'θέω': 91,\n 'βοή': 91,\n 'Ἀφροδίτη': 91,\n 'τοιοῦτος': 91,\n 'χολόω': 90,\n 'ἀραρίσκω': 90,\n 'νήπιος': 90,\n 'ὀπάζω': 90,\n 'ἔρις': 89,\n 'καίω': 89,\n 'χαλεπός': 89,\n 'γλαφυρός': 89,\n 'γάμος': 89,\n 'ἠμί': 88,\n 'πολύμητις': 88,\n 'φόνος': 88,\n 'ἐπιβαίνω': 88,\n 'ἄχος': 87,\n 'ἀοιδή': 87,\n 'ὄλεθρος': 87,\n 'ἀνάσσω': 86,\n 'ἕλκω': 86,\n 'ζωός': 86,\n 'θύρα': 86,\n 'ἀγορά': 85,\n 'φωνή': 85,\n 'σῖτος': 85,\n 'ναός': 84,\n 'τεός': 84,\n 'ἄμφω': 84,\n 'ὄμμα': 84,\n 'Μοῦσα': 84,\n 'βοάω': 84,\n 'ὥρα': 84,\n 'Αἰνείας': 84,\n 'θάλαμος': 84,\n 'ἀνάγκη': 84,\n 'λίσσομαι': 83,\n 'τιμάω': 83,\n 'γενεά': 83,\n 'ἵζω': 83,\n 'θείνω': 83,\n 'ἀργαλέος': 83,\n 'ὄρνις': 83,\n 'Διομήδης': 83,\n 'διώκω': 83,\n 'Πηνελόπεια': 83,\n 'κρατέω': 82,\n 'ἔρδω': 82,\n 'νόστος': 82,\n 'ὑψηλός': 82,\n 'πέπνυμαι': 82,\n 'βωμός': 81,\n 'στόμα': 81,\n 'κρέας': 81,\n 'φαίδιμος': 81,\n 'χράω': 81,\n 'μεγάθυμος': 80,\n 'κήρ': 80,\n 'ἄτη': 80,\n 'Ἥφαιστος': 80,\n 'ἔλπω': 80,\n 'ἀφικνέομαι': 80,\n 'βαρύς': 79,\n 'γέρας': 79,\n 'Ἰδομενεύς': 79,\n 'Παλλάς': 79,\n 'χιτών': 79,\n 'Ἰθάκη': 79,\n 'ἆθλος': 79,\n 'δίκαιος': 79,\n 'Ὀλύμπιος': 78,\n 'τίνω': 78,\n 'νέκυς': 78,\n 'ἀνέχω': 78,\n 'θρόνος': 78,\n 'ἄρουρα': 78,\n 'φοβέω': 78,\n 'ξίφος': 77,\n 'κρίνω': 77,\n 'Κρονίδης': 77,\n 'ἄκρος': 77,\n 'αἰδοῖος': 77,\n 'ἀμφίπολος': 77,\n 'νίκη': 77,\n 'λαγχάνω': 77,\n 'λέχος': 76,\n 'γλῶσσα': 76,\n 'κέλευθος': 76,\n 'Πηλεύς': 76,\n 'δεύτερος': 76,\n 'τίω': 76,\n 'κατακτείνω': 76,\n 'λυγρός': 76,\n 'δόλος': 76,\n 'Ἄργος': 75,\n 'χόλος': 75,\n 'αἰγίοχος': 75,\n 'σθένος': 75,\n 'γόος': 75,\n 'Φαίαξ': 75,\n 'δεῖ': 75,\n 'μάρναμαι': 74,\n 'θεράπων': 74,\n 'τέμνω': 74,\n 'ἡδύς': 74,\n 'ἐσθίω': 74,\n 'φύω': 74,\n 'εἷς': 74,\n 'πλήσσω': 73,\n 'σῆμα': 73,\n 'βλώσκω': 73,\n 'ἀγείρω': 72,\n 'ὅρκος': 72,\n 'κράτος': 72,\n 'κομίζω': 72,\n 'καταλέγω': 72,\n 'βίος': 72,\n 'κοῖλος': 71,\n 'πίων': 71,\n 'αἴξ': 71,\n 'εὕδω': 71,\n 'σεύω': 71,\n 'μεγαλήτωρ': 71,\n 'ὄχος': 71,\n 'ἕννυμι': 71,\n 'ὄις': 71,\n 'δείκνυμι': 71,\n 'ἥκω': 71,\n 'μόρος': 71,\n 'μανθάνω': 71,\n 'Ἀλκίνοος': 71,\n 'ὄσσε': 70,\n 'Ὠκεανός': 70,\n 'ἐγείρω': 70,\n 'εἶδος': 70,\n 'ἐνέπω': 70,\n 'κονία': 70,\n 'εἰσέρχομαι': 70,\n 'κτῆμα': 70,\n 'συβώτης': 70,\n 'πρᾶγμα': 70,\n 'κρείων': 69,\n 'ὀλίγος': 69,\n 'περικαλλής': 69,\n 'Ἑλένη': 69,\n 'ἔδω': 69,\n 'Τυδεΐδης': 69,\n 'ἀγών': 69,\n 'τέκος': 68,\n 'ἐπιτέλλω': 68,\n 'ἄκων': 68,\n 'ἄγγελος': 68,\n 'τρίτος': 68,\n 'ᾍδης': 67,\n 'κιχάνω': 67,\n 'ἀντίθεος': 67,\n 'ὅμοιος': 67,\n 'μίμνω': 67,\n 'ὕλη': 67,\n 'τοκεύς': 67,\n 'πύργος': 67,\n 'παρέχω': 67,\n 'αἴρω': 67,\n 'ἡγέομαι': 66,\n 'μεταλέγω': 66,\n 'μυθέομαι': 66,\n 'ῥέω': 66,\n 'ὀδύρομαι': 66,\n 'ἐρύκω': 66,\n 'κασίγνητος': 66,\n 'αἰδέομαι': 65,\n 'ἀΐσσω': 65,\n 'Κρόνος': 65,\n 'γυῖον': 65,\n 'κατατίθημι': 65,\n 'ὁρμάω': 65,\n 'παλαιός': 65,\n 'ἀεικής': 64,\n 'προΐημι': 64,\n 'ἀναβαίνω': 64,\n 'τέχνη': 64,\n 'γῆρας': 63,\n 'κάμνω': 63,\n 'δεσμός': 63,\n 'κῆδος': 63,\n 'αἰπύς': 63,\n 'βίοτος': 63,\n 'Ἀντίλοχος': 63,\n 'μέλος': 63,\n 'ἀετός': 63,\n 'δέμας': 62,\n 'καρπός': 62,\n 'πολεμίζω': 62,\n 'θύω': 62,\n 'δαίνυμι': 62,\n 'πιστός': 62,\n 'χλαῖνα': 62,\n 'περίφρων': 62,\n 'ἡμέρα': 62,\n 'ὀνομάζω': 61,\n 'βαθύς': 61,\n 'κάθημαι': 61,\n 'δαΐφρων': 61,\n 'πέτομαι': 61,\n 'ὀστέον': 61,\n 'δμωή': 61,\n 'ἆθλον': 61,\n 'ὄλβος': 61,\n 'δεσπότης': 61,\n 'βουλεύω': 60,\n 'δεῖπνον': 60,\n 'δάϊος': 60,\n 'νόμος': 60,\n 'ὀδούς': 60,\n 'χώρα': 60,\n 'ἀφίημι': 59,\n 'ταῦρος': 59,\n 'φέρτατος': 59,\n 'θέμις': 59,\n 'τανύω': 59,\n 'νῶτον': 59,\n 'ἐφέπω': 59,\n 'νεῖκος': 59,\n 'ῥήγνυμι': 59,\n 'χειμών': 59,\n 'νύμφη': 59,\n 'ἐμβάλλω': 59,\n 'ὕμνος': 59,\n 'φθίω': 58,\n 'πολιός': 58,\n 'δέπας': 58,\n 'ἅπτω': 58,\n 'περάω': 58,\n 'μικρός': 58,\n 'ὄμνυμι': 57,\n 'κρατύς': 57,\n 'μεθίημι': 57,\n 'καταδύω': 57,\n 'Μηριόνης': 57,\n 'χῶρος': 57,\n 'αἰχμή': 57,\n 'ἐπιτίθημι': 57,\n 'νέφος': 57,\n 'ἔμπεδος': 57,\n 'κέρδος': 57,\n 'λοιπός': 57,\n 'ἴφθιμος': 56,\n 'οἰωνός': 56,\n 'δειλός': 56,\n 'ὀλοός': 56,\n 'ἄγριος': 56,\n 'καταβαίνω': 56,\n 'ἀγαυός': 56,\n 'Ἀντίνοος': 56,\n 'ὀϊστός': 55,\n 'Πηλεΐδης': 55,\n 'ἔρομαι': 55,\n 'κοιμάω': 55,\n 'κορυφή': 55,\n 'ὑσμίνη': 55,\n 'ἀγήνωρ': 55,\n 'ἵκω': 55,\n 'σῶμα': 55,\n 'ἄλκιμος': 55,\n 'τύπτω': 55,\n 'μηδείς': 55,\n 'ἐρίζω': 54,\n 'ἱστός': 54,\n 'ἀργύρεος': 54,\n 'πλοῦτος': 54,\n 'ξανθός': 54,\n 'ὕβρις': 54,\n 'εἴδομαι': 54,\n 'φορέω': 54,\n 'ὕστερος': 54,\n 'ναιετάω': 54,\n 'ἐποτρύνω': 54,\n 'οὐδός': 54,\n 'τοιόσδε': 54,\n 'νόσος': 53,\n 'Θέτις': 53,\n 'ἅλιος': 53,\n 'πότμος': 53,\n 'ἡμίονος': 53,\n 'Λύκιος': 53,\n 'καθίζω': 53,\n 'ποικίλος': 53,\n 'πίμπλημι': 52,\n 'γηθέω': 52,\n 'μήδομαι': 52,\n 'μῆτις': 52,\n 'νοστέω': 52,\n 'φῦλον': 52,\n 'στυγερός': 52,\n 'ἀκτή': 52,\n 'αἰθήρ': 52,\n 'πήγνυμι': 52,\n 'ἀρχή': 52,\n 'αἰνέω': 52,\n 'λούω': 52,\n 'διδάσκω': 52,\n 'αὐχήν': 52,\n 'ζώω': 52,\n 'αἰτέω': 52,\n 'κρύπτω': 52,\n 'ἐλπίς': 52,\n 'τόπος': 52,\n 'μυρίος': 51,\n 'ἰός': 51,\n 'αἶσα': 51,\n 'ἱππόδαμος': 51,\n 'ὀρίνω': 51,\n 'αἶα': 51,\n 'κλίνω': 51,\n 'τελευτάω': 51,\n 'φύσις': 51,\n 'σοφός': 51,\n 'πατρῷος': 51,\n 'μάντις': 50,\n 'πένθος': 50,\n 'ἐύς': 50,\n 'κόσμος': 50,\n 'γελάω': 50,\n 'πονέω': 50,\n 'σταθμός': 50,\n 'ἀγγελία': 50,\n 'ἐπεύχομαι': 50,\n 'ἁρπάζω': 50,\n 'σπεύδω': 50,\n 'αὐλή': 50,\n 'οὐτάω': 50,\n 'οὖς': 50,\n 'πρέπω': 50,\n 'πρόβατον': 50,\n 'ἀοιδός': 50,\n 'αἰτία': 50,\n 'Λητώ': 49,\n 'σκῆπτρον': 49,\n 'χώομαι': 49,\n 'ἀφαιρέω': 49,\n 'καρτερός': 49,\n 'ὠθέω': 49,\n 'κρατήρ': 49,\n 'μαλακός': 49,\n 'δηρός': 49,\n 'αὔω': 49,\n 'ἐπείγω': 49,\n 'ἐπίσταμαι': 49,\n 'ἔργω': 49,\n 'πλέω': 49,\n 'σίδηρος': 49,\n 'τείρω': 49,\n 'Ἄρτεμις': 49,\n 'ἐξέρχομαι': 49,\n 'κεδνός': 49,\n 'καιρός': 49,\n 'διογενής': 48,\n 'πελάζω': 48,\n 'αἰδώς': 48,\n 'θῆλυς': 48,\n 'ἑκών': 48,\n 'κατέχω': 48,\n 'αἰών': 48,\n 'λίθος': 48,\n 'μυχός': 48,\n 'ἄπειμι': 48,\n 'τράπεζα': 48,\n 'Κίρκη': 48,\n 'λευκώλενος': 47,\n 'κήδω': 47,\n 'ἑκατόμβη': 47,\n 'ἔλαφος': 47,\n 'Πύλος': 47,\n 'θεσπέσιος': 47,\n 'ὄνειρος': 47,\n 'στίξ': 47,\n 'Ἀλέξανδρος': 47,\n 'νηλής': 47,\n 'κόρυς': 47,\n 'ζυγόν': 47,\n 'βλάπτω': 47,\n 'κεραυνός': 47,\n 'γαμέω': 47,\n 'ἴδιος': 47,\n 'Πέρσης': 47,\n 'γεραιός': 46,\n 'πρόφρων': 46,\n 'ζάω': 46,\n 'ἴσχω': 46,\n 'ἕρκος': 46,\n 'νεικέω': 46,\n 'ἀνίημι': 46,\n 'ἐνιαυτός': 46,\n 'νεμεσάω': 46,\n 'θαυμάζω': 46,\n 'Τυδεύς': 46,\n 'Ἶρις': 46,\n 'θήρ': 46,\n 'ὀρθός': 46,\n 'χρῆμα': 46,\n 'τρόπος': 46,\n 'συμφορά': 46,\n 'θίς': 45,\n 'ἐφίημι': 45,\n 'ὀρέγω': 45,\n 'κράς': 45,\n 'ῥίπτω': 45,\n 'ἐρείδω': 45,\n 'θεοειδής': 45,\n 'εἴκω': 45,\n 'γαστήρ': 45,\n 'ἀληθής': 45,\n 'ἥβη': 45,\n 'ἁγνός': 45,\n 'ἐποίχομαι': 44,\n 'θαρσέω': 44,\n 'δέρκομαι': 44,\n 'Μυρμιδόνες': 44,\n 'θωρήσσω': 44,\n 'ἀναιρέω': 44,\n 'κοῦρος': 44,\n 'νεφεληγερέτα': 44,\n 'ἄνθος': 44,\n 'Ἀργειφόντης': 44,\n 'πνέω': 44,\n 'Δημήτηρ': 44,\n 'ῥύομαι': 44,\n 'κάματος': 44,\n 'σπέος': 44,\n 'κατέρχομαι': 44,\n 'χαρίζω': 44,\n 'κίνδυνος': 44,\n 'δατέομαι': 43,\n 'ἀπαυράω': 43,\n 'ἰάχω': 43,\n 'φόρμιγξ': 43,\n 'ἡγήτωρ': 43,\n 'θαλερός': 43,\n 'ἔτος': 43,\n 'πόρος': 43,\n 'πολίτης': 43,\n 'πεζός': 43,\n 'πρόμαχος': 43,\n 'ἔντεα': 43,\n 'ἀλέομαι': 43,\n 'ἐλεέω': 43,\n 'καταλείπω': 43,\n 'φλόξ': 43,\n 'Ἐρινύς': 43,\n 'δρόμος': 43,\n 'συμβαίνω': 43,\n 'ἁνδάνω': 42,\n 'ἐπισεύω': 42,\n 'παλάμη': 42,\n 'προσφωνέω': 42,\n 'στενάχω': 42,\n 'ἀποβαίνω': 42,\n 'νημερτής': 42,\n 'ἔθνος': 42,\n 'σχέτλιος': 42,\n 'σμερδαλέος': 42,\n 'παρθένος': 42,\n 'ἄρειος': 42,\n 'Σαρπηδών': 42,\n 'τείνω': 42,\n 'στιβαρός': 42,\n 'φάρμακον': 42,\n 'ἐρείπω': 42,\n 'ἀλλότριος': 42,\n 'πολύτλας': 42,\n 'ἀγγέλλω': 42,\n 'στέφανος': 42,\n 'πονηρός': 42,\n 'ἀράομαι': 41,\n 'μερμηρίζω': 41,\n 'εἴλω': 41,\n 'ἐκτελέω': 41,\n 'ἄσπετος': 41,\n 'ἡγεμονεύω': 41,\n 'κόλπος': 41,\n 'ἀφνειός': 41,\n 'κέρας': 41,\n 'ἀγρός': 41,\n 'πνοή': 41,\n 'θαῦμα': 41,\n 'ὀλοφύρομαι': 41,\n 'Ἐνοσίχθων': 41,\n 'μέτρον': 41,\n 'γνώμη': 41,\n 'τροφή': 41,\n 'κραίνω': 40,\n 'ὁμιλέω': 40,\n 'καθέζομαι': 40,\n 'αἶθοψ': 40,\n 'ἱππότης': 40,\n 'λίμνη': 40,\n 'ὄνομα': 40,\n 'μενεαίνω': 40,\n 'σπένδω': 40,\n 'ἀστός': 40,\n 'Εὔμαιος': 40,\n 'δράω': 40,\n 'κοινός': 40,\n 'μῦς': 40,\n 'μηρός': 39,\n 'ὀφέλλω': 39,\n 'λιμήν': 39,\n 'νωμάω': 39,\n 'λαμπρός': 39,\n 'παῦρος': 39,\n 'στείχω': 39,\n 'παντοῖος': 39,\n 'ἄλσος': 39,\n 'Τελαμώνιος': 39,\n 'ἐξαιρέω': 39,\n 'κορυθαίολος': 39,\n 'Αἰακίδης': 39,\n 'ἵμερος': 39,\n 'ἀήρ': 39,\n 'ἁμαρτάνω': 39,\n 'Χάρις': 39,\n 'Βορέας': 39,\n 'Ἡρακλέης': 39,\n 'Ὀρέστης': 39,\n 'ἀέξω': 39,\n 'τρίπους': 39,\n 'βλέφαρον': 39,\n 'τάλας': 39,\n 'κάρηνον': 38,\n 'ἀρχός': 38,\n 'ἀντίον': 38,\n 'ἤπειρος': 38,\n 'ὄψ': 38,\n 'ἕδρα': 38,\n 'ἐπίκουρος': 38,\n 'Λαερτιάδης': 38,\n 'μῆδος': 38,\n 'ἀδελφός': 38,\n 'αὐγή': 38,\n 'λειμών': 38,\n 'ῥεῖθρον': 38,\n 'οἰκέω': 38,\n 'δυσμενής': 38,\n 'ὄβριμος': 38,\n 'γραῦς': 38,\n 'θρῴσκω': 38,\n 'πικρός': 38,\n 'δεξιός': 38,\n 'ἀκοντίζω': 38,\n 'θρασύς': 38,\n 'τάφρος': 38,\n 'ξένιος': 38,\n 'ὄφις': 38,\n 'ἐργάζομαι': 38,\n 'δμώς': 38,\n 'εὔκομος': 37,\n 'μογέω': 37,\n 'αὐδή': 37,\n 'ὀφείλω': 37,\n 'ὑπισχνέομαι': 37,\n 'δαίω': 37,\n 'ἄκοιτις': 37,\n 'ζεύγνυμι': 37,\n 'λάμπω': 37,\n 'ἐξεναρίζω': 37,\n 'ἡνίοχος': 37,\n 'στένω': 37,\n 'ὅπλον': 37,\n 'δρῦς': 37,\n 'οἰκεῖος': 37,\n 'ἐυκνήμις': 36,\n 'πείρω': 36,\n 'τυτθός': 36,\n 'ἕδος': 36,\n 'φᾶρος': 36,\n 'λιπαρός': 36,\n 'πληγή': 36,\n 'δάω': 36,\n 'Γερήνιος': 36,\n 'ἡγεμών': 36,\n 'θώραξ': 36,\n 'φάλαγξ': 36,\n 'Ἑλλάς': 36,\n 'Πριαμίδης': 36,\n 'ἡνία': 36,\n 'παχύς': 36,\n 'ἐμπίπτω': 36,\n 'σέβω': 36,\n 'ἀνέρχομαι': 36,\n 'ἀποκτείνω': 36,\n 'οὐτάζω': 36,\n 'κλείς': 36,\n 'ὑμέτερος': 36,\n 'ἀπέχω': 36,\n 'διοτρεφής': 36,\n 'λεπτός': 36,\n 'δόξα': 36,\n 'Κύκλωψ': 36,\n 'σεμνός': 36,\n 'πάθος': 36,\n 'γεωργός': 36,\n 'κλέπτω': 35,\n 'δεύω': 35,\n 'αἰχμητής': 35,\n 'πτολίεθρον': 35,\n 'ὁρμαίνω': 35,\n 'ἀπειθέω': 35,\n 'ἀυτή': 35,\n 'εὐρύοπα': 35,\n 'ἅλλομαι': 35,\n 'δαιμόνιος': 35,\n 'ἔξοχος': 35,\n 'ἐπαινέω': 35,\n 'ἀθρόος': 35,\n 'ἐρατεινός': 35,\n 'Ἴδη': 35,\n 'κυρέω': 35,\n 'χάζω': 35,\n 'εὔφρων': 35,\n 'χάλκειος': 35,\n 'χορός': 35,\n 'ἐναντίος': 35,\n 'ἐκφεύγω': 35,\n 'στρέφω': 35,\n 'πέπλος': 35,\n 'οὖδας': 35,\n 'θερμός': 35,\n 'μισθός': 35,\n 'ὄλβιος': 35,\n 'οὔτις': 35,\n 'ἀρήγω': 34,\n 'λήγω': 34,\n 'ταρβέω': 34,\n 'ἔρος': 34,\n 'πορφύρεος': 34,\n 'ποθέω': 34,\n 'ἀμβρόσιος': 34,\n 'κομάω': 34,\n 'κρήνη': 34,\n 'ἁλίσκομαι': 34,\n 'πάλλω': 34,\n 'κερδίων': 34,\n 'θρίξ': 34,\n 'κυδάλιμος': 34,\n 'παπταίνω': 34,\n 'μῶνυξ': 34,\n 'ἐφίστημι': 34,\n 'γόνος': 34,\n 'ἄξιος': 34,\n 'πομπή': 34,\n 'δόρπον': 34,\n ...}"
     },
     "execution_count": 101,
     "metadata": {},
     "output_type": "execute_result"
    }
   ],
   "source": [
    "dict(word_freqs)"
   ],
   "metadata": {
    "collapsed": false
   }
  },
  {
   "cell_type": "code",
   "execution_count": 102,
   "outputs": [],
   "source": [
    "subcorpora = ['archaic', 'classical', 'roman', 'christian', 'jewish']\n",
    "\n",
    "def try_to_get_from_freqdict(word, word_freqs_dict):\n",
    "    total_N = sum([val for val in word_freqs_dict.values()])\n",
    "    try:\n",
    "        count = word_freqs_dict[word]\n",
    "        freq = count #/ total_N\n",
    "    except:\n",
    "        freq = 0\n",
    "    return freq\n",
    "\n",
    "for sub in subcorpora:\n",
    "    subset = LAGT[LAGT[\"subcorpus\"]==sub]\n",
    "    sents = [sent for work in subset[\"lemmatized_sentences\"] for sent in work]\n",
    "    word_freqs, words, vocabulary = get_vocab(sents)\n",
    "    word_freqs_dict = dict(word_freqs)\n",
    "    translated_df[sub + \"_freq\"] = translated_df[\"greek\"].apply(lambda x: try_to_get_from_freqdict(x, word_freqs_dict))"
   ],
   "metadata": {
    "collapsed": false
   }
  },
  {
   "cell_type": "code",
   "execution_count": 103,
   "outputs": [
    {
     "data": {
      "text/plain": "                          raw_translation     greek  \\\n0                      Αἰθίοψ - Ethiopian    Αἰθίοψ   \n1                        Δαναοί - Danaans    Δαναοί   \n2                       Δημήτηρ - Demeter   Δημήτηρ   \n3                     Διόνυσος - Dionysus  Διόνυσος   \n4                   Εὐθύφρων - Euthyphron  Εὐθύφρων   \n..                                    ...       ...   \n501                     Ὠκεανός - Oceanus   Ὠκεανός   \n502                 ῥέζω - govern, manage      ῥέζω   \n503  ῥητορική - rhetoric, art of speaking  ῥητορική   \n504                  ῥῆσις - speech, word     ῥῆσις   \n505                            Ῥέα - Rhea       Ῥέα   \n\n                  english_full english_minimal category greek_transliterated  \\\n0                    Ethiopian       Ethiopian                     Aithíops   \n1                      Danaans         Danaans                       Danaoí   \n2                      Demeter         Demeter                   Dēmḗtēr   \n3                     Dionysus        Dionysus                     Diónusos   \n4                   Euthyphron      Euthyphron                  Euthúphrōn   \n..                         ...             ...      ...                  ...   \n501                    Oceanus         Oceanus                     Ōkeanós   \n502             govern, manage          govern                       rhézō   \n503  rhetoric, art of speaking        rhetoric                  rhētorikḗ   \n504               speech, word          speech                       rhêsis   \n505                       Rhea            Rhea                         Rhéa   \n\n     archaic_freq  classical_freq  roman_freq  christian_freq  jewish_freq  \n0              16              80         468              35           61  \n1             155               0          29               0            0  \n2              44             112         438              17            8  \n3              16             168         892              84           15  \n4               0              48           0               0            0  \n..            ...             ...         ...             ...          ...  \n501            70              53         505              24           17  \n502           114              58         115               1            0  \n503             0              80         247               2            0  \n504             7              58        1177              11           23  \n505            18              25         111              20            2  \n\n[506 rows x 11 columns]",
      "text/html": "<div>\n<style scoped>\n    .dataframe tbody tr th:only-of-type {\n        vertical-align: middle;\n    }\n\n    .dataframe tbody tr th {\n        vertical-align: top;\n    }\n\n    .dataframe thead th {\n        text-align: right;\n    }\n</style>\n<table border=\"1\" class=\"dataframe\">\n  <thead>\n    <tr style=\"text-align: right;\">\n      <th></th>\n      <th>raw_translation</th>\n      <th>greek</th>\n      <th>english_full</th>\n      <th>english_minimal</th>\n      <th>category</th>\n      <th>greek_transliterated</th>\n      <th>archaic_freq</th>\n      <th>classical_freq</th>\n      <th>roman_freq</th>\n      <th>christian_freq</th>\n      <th>jewish_freq</th>\n    </tr>\n  </thead>\n  <tbody>\n    <tr>\n      <th>0</th>\n      <td>Αἰθίοψ - Ethiopian</td>\n      <td>Αἰθίοψ</td>\n      <td>Ethiopian</td>\n      <td>Ethiopian</td>\n      <td></td>\n      <td>Aithíops</td>\n      <td>16</td>\n      <td>80</td>\n      <td>468</td>\n      <td>35</td>\n      <td>61</td>\n    </tr>\n    <tr>\n      <th>1</th>\n      <td>Δαναοί - Danaans</td>\n      <td>Δαναοί</td>\n      <td>Danaans</td>\n      <td>Danaans</td>\n      <td></td>\n      <td>Danaoí</td>\n      <td>155</td>\n      <td>0</td>\n      <td>29</td>\n      <td>0</td>\n      <td>0</td>\n    </tr>\n    <tr>\n      <th>2</th>\n      <td>Δημήτηρ - Demeter</td>\n      <td>Δημήτηρ</td>\n      <td>Demeter</td>\n      <td>Demeter</td>\n      <td></td>\n      <td>Dēmḗtēr</td>\n      <td>44</td>\n      <td>112</td>\n      <td>438</td>\n      <td>17</td>\n      <td>8</td>\n    </tr>\n    <tr>\n      <th>3</th>\n      <td>Διόνυσος - Dionysus</td>\n      <td>Διόνυσος</td>\n      <td>Dionysus</td>\n      <td>Dionysus</td>\n      <td></td>\n      <td>Diónusos</td>\n      <td>16</td>\n      <td>168</td>\n      <td>892</td>\n      <td>84</td>\n      <td>15</td>\n    </tr>\n    <tr>\n      <th>4</th>\n      <td>Εὐθύφρων - Euthyphron</td>\n      <td>Εὐθύφρων</td>\n      <td>Euthyphron</td>\n      <td>Euthyphron</td>\n      <td></td>\n      <td>Euthúphrōn</td>\n      <td>0</td>\n      <td>48</td>\n      <td>0</td>\n      <td>0</td>\n      <td>0</td>\n    </tr>\n    <tr>\n      <th>...</th>\n      <td>...</td>\n      <td>...</td>\n      <td>...</td>\n      <td>...</td>\n      <td>...</td>\n      <td>...</td>\n      <td>...</td>\n      <td>...</td>\n      <td>...</td>\n      <td>...</td>\n      <td>...</td>\n    </tr>\n    <tr>\n      <th>501</th>\n      <td>Ὠκεανός - Oceanus</td>\n      <td>Ὠκεανός</td>\n      <td>Oceanus</td>\n      <td>Oceanus</td>\n      <td></td>\n      <td>Ōkeanós</td>\n      <td>70</td>\n      <td>53</td>\n      <td>505</td>\n      <td>24</td>\n      <td>17</td>\n    </tr>\n    <tr>\n      <th>502</th>\n      <td>ῥέζω - govern, manage</td>\n      <td>ῥέζω</td>\n      <td>govern, manage</td>\n      <td>govern</td>\n      <td></td>\n      <td>rhézō</td>\n      <td>114</td>\n      <td>58</td>\n      <td>115</td>\n      <td>1</td>\n      <td>0</td>\n    </tr>\n    <tr>\n      <th>503</th>\n      <td>ῥητορική - rhetoric, art of speaking</td>\n      <td>ῥητορική</td>\n      <td>rhetoric, art of speaking</td>\n      <td>rhetoric</td>\n      <td></td>\n      <td>rhētorikḗ</td>\n      <td>0</td>\n      <td>80</td>\n      <td>247</td>\n      <td>2</td>\n      <td>0</td>\n    </tr>\n    <tr>\n      <th>504</th>\n      <td>ῥῆσις - speech, word</td>\n      <td>ῥῆσις</td>\n      <td>speech, word</td>\n      <td>speech</td>\n      <td></td>\n      <td>rhêsis</td>\n      <td>7</td>\n      <td>58</td>\n      <td>1177</td>\n      <td>11</td>\n      <td>23</td>\n    </tr>\n    <tr>\n      <th>505</th>\n      <td>Ῥέα - Rhea</td>\n      <td>Ῥέα</td>\n      <td>Rhea</td>\n      <td>Rhea</td>\n      <td></td>\n      <td>Rhéa</td>\n      <td>18</td>\n      <td>25</td>\n      <td>111</td>\n      <td>20</td>\n      <td>2</td>\n    </tr>\n  </tbody>\n</table>\n<p>506 rows × 11 columns</p>\n</div>"
     },
     "execution_count": 103,
     "metadata": {},
     "output_type": "execute_result"
    }
   ],
   "source": [
    "translated_df"
   ],
   "metadata": {
    "collapsed": false
   }
  },
  {
   "cell_type": "code",
   "execution_count": 104,
   "outputs": [],
   "source": [
    "religion_final = [\"θεός\", \"Ζεύς\", \"εὐσεβής\", 'ἱερός']\n",
    "morality_final = [\"ἀγαθός\", \"ἀρετή\", \"δίκαιος\", \"τιμή\"]"
   ],
   "metadata": {
    "collapsed": false
   }
  },
  {
   "cell_type": "code",
   "execution_count": 106,
   "outputs": [],
   "source": [
    "translated_df.to_json(\"../data/translated_df_freqs.json\")"
   ],
   "metadata": {
    "collapsed": false
   }
  },
  {
   "cell_type": "code",
   "execution_count": 127,
   "outputs": [
    {
     "data": {
      "text/plain": "       greek  archaic_freq  classical_freq  roman_freq  christian_freq  \\\n5       Ζεύς          1322            2693        5821            1005   \n61   δίκαιος            79            3360        3163            1231   \n101  εὐσεβής            11              99         189              87   \n126     θεός          1429            5050       11715           13922   \n291     τιμή           129             800        2232             351   \n327   ἀγαθός           569            8934       16404            2034   \n368    ἀρετή           107            2232        4370             894   \n\n     jewish_freq  \n5            309  \n61          1115  \n101           93  \n126         9115  \n291          795  \n327         2483  \n368         1448  ",
      "text/html": "<div>\n<style scoped>\n    .dataframe tbody tr th:only-of-type {\n        vertical-align: middle;\n    }\n\n    .dataframe tbody tr th {\n        vertical-align: top;\n    }\n\n    .dataframe thead th {\n        text-align: right;\n    }\n</style>\n<table border=\"1\" class=\"dataframe\">\n  <thead>\n    <tr style=\"text-align: right;\">\n      <th></th>\n      <th>greek</th>\n      <th>archaic_freq</th>\n      <th>classical_freq</th>\n      <th>roman_freq</th>\n      <th>christian_freq</th>\n      <th>jewish_freq</th>\n    </tr>\n  </thead>\n  <tbody>\n    <tr>\n      <th>5</th>\n      <td>Ζεύς</td>\n      <td>1322</td>\n      <td>2693</td>\n      <td>5821</td>\n      <td>1005</td>\n      <td>309</td>\n    </tr>\n    <tr>\n      <th>61</th>\n      <td>δίκαιος</td>\n      <td>79</td>\n      <td>3360</td>\n      <td>3163</td>\n      <td>1231</td>\n      <td>1115</td>\n    </tr>\n    <tr>\n      <th>101</th>\n      <td>εὐσεβής</td>\n      <td>11</td>\n      <td>99</td>\n      <td>189</td>\n      <td>87</td>\n      <td>93</td>\n    </tr>\n    <tr>\n      <th>126</th>\n      <td>θεός</td>\n      <td>1429</td>\n      <td>5050</td>\n      <td>11715</td>\n      <td>13922</td>\n      <td>9115</td>\n    </tr>\n    <tr>\n      <th>291</th>\n      <td>τιμή</td>\n      <td>129</td>\n      <td>800</td>\n      <td>2232</td>\n      <td>351</td>\n      <td>795</td>\n    </tr>\n    <tr>\n      <th>327</th>\n      <td>ἀγαθός</td>\n      <td>569</td>\n      <td>8934</td>\n      <td>16404</td>\n      <td>2034</td>\n      <td>2483</td>\n    </tr>\n    <tr>\n      <th>368</th>\n      <td>ἀρετή</td>\n      <td>107</td>\n      <td>2232</td>\n      <td>4370</td>\n      <td>894</td>\n      <td>1448</td>\n    </tr>\n  </tbody>\n</table>\n</div>"
     },
     "execution_count": 127,
     "metadata": {},
     "output_type": "execute_result"
    }
   ],
   "source": [
    "translated_df[translated_df[\"greek\"].isin(religion_final + morality_final)][[\"greek\", \"archaic_freq\", \"classical_freq\", \"roman_freq\", \"christian_freq\", \"jewish_freq\"]]"
   ],
   "metadata": {
    "collapsed": false
   }
  },
  {
   "cell_type": "code",
   "execution_count": null,
   "outputs": [],
   "source": [
    "translated_df[\"\"]"
   ],
   "metadata": {
    "collapsed": false
   }
  },
  {
   "cell_type": "markdown",
   "source": [
    "# Preparing vocabularies"
   ],
   "metadata": {
    "collapsed": false
   }
  },
  {
   "cell_type": "code",
   "execution_count": 107,
   "outputs": [],
   "source": [
    "sents = [sent for work in LAGT[\"lemmatized_sentences\"] for sent in work]"
   ],
   "metadata": {
    "collapsed": false
   }
  },
  {
   "cell_type": "code",
   "execution_count": 108,
   "outputs": [],
   "source": [
    "word_freqs, words, vocabulary = get_vocab(sents)"
   ],
   "metadata": {
    "collapsed": false
   }
  },
  {
   "cell_type": "code",
   "execution_count": 109,
   "outputs": [],
   "source": [
    "subcorpora = ['archaic', 'classical', 'roman', 'christian', 'jewish']"
   ],
   "metadata": {
    "collapsed": false
   }
  },
  {
   "cell_type": "code",
   "execution_count": 110,
   "outputs": [
    {
     "data": {
      "text/plain": "14746005"
     },
     "execution_count": 110,
     "metadata": {},
     "output_type": "execute_result"
    }
   ],
   "source": [
    "len(words)"
   ],
   "metadata": {
    "collapsed": false
   }
  },
  {
   "cell_type": "code",
   "execution_count": 111,
   "outputs": [
    {
     "data": {
      "text/plain": "52252"
     },
     "execution_count": 111,
     "metadata": {},
     "output_type": "execute_result"
    }
   ],
   "source": [
    "len(vocabulary)"
   ],
   "metadata": {
    "collapsed": false
   }
  },
  {
   "cell_type": "code",
   "execution_count": 112,
   "outputs": [],
   "source": [
    "subcorpora_vocabs = {}\n",
    "for sub in subcorpora:\n",
    "    subset = LAGT[LAGT[\"subcorpus\"]==sub]\n",
    "    sents = [sent for work in subset[\"lemmatized_sentences\"] for sent in work]\n",
    "    word_freqs, words, vocabulary = get_vocab(sents)\n",
    "    vocabulary = [tup[0] for tup in word_freqs][:5000]\n",
    "    subcorpora_vocabs[sub] = {\n",
    "        \"word_freqs\" : word_freqs,\n",
    "        \"words\" : words,\n",
    "        \"vocabulary\" : vocabulary\n",
    "    }"
   ],
   "metadata": {
    "collapsed": false
   }
  },
  {
   "cell_type": "code",
   "execution_count": 113,
   "outputs": [],
   "source": [
    "with open(\"../data/large_data/subcorpora_vocabs.pickle\", \"wb\") as f:\n",
    "    pickle.dump(subcorpora_vocabs, f)"
   ],
   "metadata": {
    "collapsed": false
   }
  },
  {
   "cell_type": "code",
   "execution_count": 114,
   "outputs": [
    {
     "data": {
      "text/plain": "[('εἰμί', 3428),\n ('πᾶς', 1723),\n ('ἀνήρ', 1634),\n ('ἔρχομαι', 1623),\n ('λέγω', 1506),\n ('πολύς', 1499),\n ('θεός', 1429),\n ('ἔχω', 1412),\n ('Ζεύς', 1322),\n ('φημί', 1227),\n ('μέγας', 1171),\n ('ναῦς', 1129),\n ('φίλος', 1005),\n ('ὁράω', 936),\n ('ὅδε', 915),\n ('χείρ', 912),\n ('θυμός', 899),\n ('υἱός', 756),\n ('κακός', 753),\n ('γίγνομαι', 745),\n ('Ἀχαιός', 740),\n ('πατήρ', 729),\n ('Ὀδυσσεύς', 725),\n ('δίδωμι', 675),\n ('Τρώς', 649),\n ('παῖς', 626),\n ('γῆ', 618),\n ('αὐτός', 606),\n ('οὗτος', 605),\n ('ἄνθρωπος', 589),\n ('ἐμός', 586),\n ('φέρω', 580),\n ('ἵππος', 575),\n ('ἵστημι', 573),\n ('τίθημι', 569),\n ('ἀγαθός', 569),\n ('φρήν', 559),\n ('βάλλω', 554),\n ('ἔπος', 548),\n ('οἶδα', 546),\n ('αἱρέω', 533),\n ('μῦθος', 502),\n ('πρῶτος', 492),\n ('πόλις', 492),\n ('βαίνω', 484),\n ('ἐθέλω', 478),\n ('καλός', 474),\n ('ἄγω', 465),\n ('Ἕκτωρ', 456),\n ('ἑταῖρος', 452),\n ('γυνή', 439),\n ('τις', 439),\n ('δῖος', 434),\n ('ἔργον', 434),\n ('πούς', 416),\n ('Ἀχιλλεύς', 395),\n ('ἀθάνατος', 389),\n ('δῶμα', 387),\n ('μήτηρ', 378),\n ('ἑός', 370),\n ('Ἀθήνη', 368),\n ('ἱκνέομαι', 359),\n ('λαός', 352),\n ('λόγος', 349),\n ('πόλεμος', 348),\n ('ἄναξ', 345),\n ('ἀκούω', 340),\n ('σός', 331),\n ('πείθω', 323),\n ('μέγαρον', 321),\n ('δόμος', 320),\n ('τίς', 320),\n ('δόρυ', 314),\n ('ἕκαστος', 306),\n ('ξένος', 305),\n ('τίκτω', 286),\n ('ὄρνυμι', 285),\n ('Ἀπόλλων', 285),\n ('βοῦς', 282),\n ('λαμβάνω', 278),\n ('θεά', 277),\n ('ἄλλος', 277),\n ('μάχομαι', 267),\n ('φεύγω', 265),\n ('πίπτω', 265),\n ('βροτός', 262),\n ('Ἀργεῖος', 260),\n ('πῦρ', 260),\n ('ἦμαρ', 260),\n ('μένω', 258),\n ('ἔγχος', 257),\n ('γέρων', 256),\n ('κεῖμαι', 255),\n ('ἕπομαι', 253),\n ('θνῄσκω', 250),\n ('Τηλέμαχος', 248),\n ('κύων', 247),\n ('χθών', 247),\n ('φαίνω', 246),\n ('πρόσφημι', 244),\n ('ποιέω', 242),\n ('ὄλλυμι', 241),\n ('κελεύω', 238),\n ('οἶκος', 237),\n ('Ἄρης', 237),\n ('μνηστήρ', 237),\n ('ἵημι', 235),\n ('μέλας', 235),\n ('τεύχω', 234),\n ('Ἀτρείδης', 227),\n ('ἐλαύνω', 226),\n ('λείπω', 223),\n ('μένος', 220),\n ('ἐσθλός', 220),\n ('ἔοικα', 217),\n ('ἀμείβω', 217),\n ('πάσχω', 217),\n ('νύξ', 216),\n ('χαλκός', 216),\n ('εὔχομαι', 214),\n ('εὑρίσκω', 214),\n ('καλέω', 213),\n ('τεῦχος', 212),\n ('στῆθος', 211),\n ('Αἴας', 211),\n ('δύναμαι', 210),\n ('λέων', 210),\n ('βασιλεύς', 209),\n ('μάχη', 209),\n ('θάνατος', 208),\n ('κτείνω', 208),\n ('χρύσεος', 207),\n ('προσλέγω', 207),\n ('νέος', 205),\n ('ἥλιος', 204),\n ('τελέω', 202),\n ('εὐρύς', 200),\n ('πόντος', 200),\n ('μέσος', 200),\n ('ἅπας', 199),\n ('προσαυδάω', 198),\n ('Μενέλαος', 197),\n ('φωνέω', 197),\n ('γιγνώσκω', 195),\n ('κρατερός', 194),\n ('μακρός', 193),\n ('Ἀγαμέμνων', 192),\n ('μέλλω', 192),\n ('δαμάζω', 191),\n ('κόρη', 191),\n ('αἷμα', 191),\n ('ταχύς', 191),\n ('κλύω', 190),\n ('κεφαλή', 190),\n ('ἄρχω', 189),\n ('χαίρω', 187),\n ('θάλασσα', 186),\n ('δεινός', 186),\n ('ποταμός', 186),\n ('δηλόω', 186),\n ('λύω', 185),\n ('ὦμος', 183),\n ('φράζω', 183),\n ('ἀγορεύω', 181),\n ('δίκη', 181),\n ('ὀξύς', 180),\n ('πάρειμι', 180),\n ('βία', 180),\n ('ἐκεῖνος', 180),\n ('ὁδός', 179),\n ('πέμπω', 179),\n ('δαίμων', 179),\n ('ἕτερος', 177),\n ('ὕδωρ', 176),\n ('πόνος', 175),\n ('χέω', 174),\n ('Ἥρα', 172),\n ('νόος', 172),\n ('μοῖρα', 170),\n ('νοέω', 170),\n ('δέχομαι', 169),\n ('οἶος', 169),\n ('θυγάτηρ', 168),\n ('δῶρον', 168),\n ('πέλω', 168),\n ('ἐρύω', 164),\n ('ἐάω', 163),\n ('ἄνωγα', 163),\n ('οὐρανός', 163),\n ('ὀφθαλμός', 163),\n ('στρατός', 162),\n ('θοός', 162),\n ('πυνθάνομαι', 162),\n ('μιμνῄσκω', 161),\n ('Πρίαμος', 160),\n ('γένος', 160),\n ('ἧμαι', 159),\n ('ἄστυ', 159),\n ('τρέφω', 158),\n ('Πάτροκλος', 158),\n ('δέω', 158),\n ('χρόνος', 158),\n ('ὄρος', 156),\n ('ἄνεμος', 156),\n ('Δαναοί', 155),\n ('ἱερός', 155),\n ('ἀμφότερος', 155),\n ('ἥρως', 154),\n ('ναίω', 153),\n ('τέκνον', 152),\n ('δύω', 152),\n ('βουλή', 151),\n ('οἴομαι', 151),\n ('λανθάνω', 150),\n ('πτερόεις', 149),\n ('θνητός', 149),\n ('τόσος', 146),\n ('οἶνος', 146),\n ('Ὄλυμπος', 145),\n ('χρή', 145),\n ('ὀτρύνω', 145),\n ('ἅλς', 144),\n ('οὐδείς', 144),\n ('ἴσος', 143),\n ('ὕπνος', 142),\n ('πεδίον', 142),\n ('τυγχάνω', 142),\n ('ὠκύς', 141),\n ('πατρίς', 141),\n ('μείγνυμι', 141),\n ('δῆμος', 140),\n ('φρονέω', 139),\n ('κῦμα', 138),\n ('δείδω', 137),\n ('γόνυ', 137),\n ('πράσσω', 136),\n ('μόνος', 136),\n ('τόξον', 135),\n ('χρώς', 134),\n ('ἄλοχος', 133),\n ('ἱκάνω', 133),\n ('ψυχή', 132),\n ('φιλέω', 132),\n ('τεῖχος', 132),\n ('βέλος', 131),\n ('ἠώς', 131),\n ('δοκέω', 131),\n ('τιμή', 129),\n ('παύω', 129),\n ('πρότερος', 129),\n ('ἡμέτερος', 128),\n ('φώς', 128),\n ('τὶς', 127),\n ('κίω', 126),\n ('ἀπαμείβομαι', 126),\n ('ἀμύμων', 125),\n ('χάρις', 125),\n ('Ἴλιος', 124),\n ('μέμαα', 124),\n ('τέρπω', 123),\n ('κλισία', 122),\n ('πίνω', 122),\n ('ἄλγος', 121),\n ('οἴχομαι', 121),\n ('βούλομαι', 121),\n ('δάκρυον', 120),\n ('φάος', 120),\n ('αὐδάω', 119),\n ('καρδία', 119),\n ('πόσις', 119),\n ('χάλκεος', 119),\n ('κλυτός', 119),\n ('ἀχέω', 118),\n ('Νέστωρ', 118),\n ('τοῖος', 118),\n ('ἦτορ', 117),\n ('πύλη', 117),\n ('πόρω', 115),\n ('νικάω', 115),\n ('ἀσπίς', 115),\n ('ῥέζω', 114),\n ('καλύπτω', 114),\n ('Ἑρμῆς', 114),\n ('νῆσος', 113),\n ('δίφρος', 113),\n ('ἀπόλλυμι', 112),\n ('πειράω', 112),\n ('ἅρμα', 112),\n ('εἰσοράω', 112),\n ('κέλομαι', 111),\n ('πῆμα', 111),\n ('ἀγλαός', 110),\n ('γλαυκῶπις', 110),\n ('τλάω', 110),\n ('κλαίω', 110),\n ('εὐνή', 110),\n ('θεῖος', 110),\n ('ἐχθρός', 109),\n ('τρέπω', 109),\n ('κάρα', 109),\n ('πυκνός', 109),\n ('θεάομαι', 109),\n ('ἐπέρχομαι', 108),\n ('ἀμύνω', 108),\n ('κῆρυξ', 108),\n ('φιλότης', 108),\n ('ἀρετή', 107),\n ('Ποσειδῶν', 106),\n ('ὅμιλος', 106),\n ('λύκος', 106),\n ('ποιμήν', 105),\n ('παρίστημι', 105),\n ('νέμω', 105),\n ('ἕζομαι', 104),\n ('μῆλον', 104),\n ('ἀνίστημι', 103),\n ('πότνια', 103),\n ('πέτρα', 103),\n ('χρυσός', 103),\n ('φόβος', 103),\n ('φαεινός', 103),\n ('Κρονίων', 102),\n ('μάκαρ', 101),\n ('ἀλκή', 101),\n ('τέλος', 100),\n ('κέαρ', 98),\n ('κῦδος', 98),\n ('μέλω', 98),\n ('Τροία', 97),\n ('γλυκύς', 97),\n ('δαίς', 97),\n ('ἀείρω', 97),\n ('φυλάσσω', 97),\n ('σάκος', 97),\n ('νεκρός', 97),\n ('ὄνος', 97),\n ('νέομαι', 96),\n ('ἀντίος', 96),\n ('ἀείδω', 95),\n ('εἷμα', 95),\n ('κλέος', 95),\n ('τύχη', 95),\n ('ἀλώπηξ', 95),\n ('Φοῖβος', 94),\n ('λευκός', 94),\n ('ὗς', 92),\n ('σῴζω', 91),\n ('αἰνός', 91),\n ('θέω', 91),\n ('βοή', 91),\n ('Ἀφροδίτη', 91),\n ('τοιοῦτος', 91),\n ('χολόω', 90),\n ('ἀραρίσκω', 90),\n ('νήπιος', 90),\n ('ὀπάζω', 90),\n ('ἔρις', 89),\n ('καίω', 89),\n ('χαλεπός', 89),\n ('γλαφυρός', 89),\n ('γάμος', 89),\n ('ἠμί', 88),\n ('πολύμητις', 88),\n ('φόνος', 88),\n ('ἐπιβαίνω', 88),\n ('ἄχος', 87),\n ('ἀοιδή', 87),\n ('ὄλεθρος', 87),\n ('ἀνάσσω', 86),\n ('ἕλκω', 86),\n ('ζωός', 86),\n ('θύρα', 86),\n ('ἀγορά', 85),\n ('φωνή', 85),\n ('σῖτος', 85),\n ('ναός', 84),\n ('τεός', 84),\n ('ἄμφω', 84),\n ('ὄμμα', 84),\n ('Μοῦσα', 84),\n ('βοάω', 84),\n ('ὥρα', 84),\n ('Αἰνείας', 84),\n ('θάλαμος', 84),\n ('ἀνάγκη', 84),\n ('λίσσομαι', 83),\n ('τιμάω', 83),\n ('γενεά', 83),\n ('ἵζω', 83),\n ('θείνω', 83),\n ('ἀργαλέος', 83),\n ('ὄρνις', 83),\n ('Διομήδης', 83),\n ('διώκω', 83),\n ('Πηνελόπεια', 83),\n ('κρατέω', 82),\n ('ἔρδω', 82),\n ('νόστος', 82),\n ('ὑψηλός', 82),\n ('πέπνυμαι', 82),\n ('βωμός', 81),\n ('στόμα', 81),\n ('κρέας', 81),\n ('φαίδιμος', 81),\n ('χράω', 81),\n ('μεγάθυμος', 80),\n ('κήρ', 80),\n ('ἄτη', 80),\n ('Ἥφαιστος', 80),\n ('ἔλπω', 80),\n ('ἀφικνέομαι', 80),\n ('βαρύς', 79),\n ('γέρας', 79),\n ('Ἰδομενεύς', 79),\n ('Παλλάς', 79),\n ('χιτών', 79),\n ('Ἰθάκη', 79),\n ('ἆθλος', 79),\n ('δίκαιος', 79),\n ('Ὀλύμπιος', 78),\n ('τίνω', 78),\n ('νέκυς', 78),\n ('ἀνέχω', 78),\n ('θρόνος', 78),\n ('ἄρουρα', 78),\n ('φοβέω', 78),\n ('ξίφος', 77),\n ('κρίνω', 77),\n ('Κρονίδης', 77),\n ('ἄκρος', 77),\n ('αἰδοῖος', 77),\n ('ἀμφίπολος', 77),\n ('νίκη', 77),\n ('λαγχάνω', 77),\n ('λέχος', 76),\n ('γλῶσσα', 76),\n ('κέλευθος', 76),\n ('Πηλεύς', 76),\n ('δεύτερος', 76),\n ('τίω', 76),\n ('κατακτείνω', 76),\n ('λυγρός', 76),\n ('δόλος', 76),\n ('Ἄργος', 75),\n ('χόλος', 75),\n ('αἰγίοχος', 75),\n ('σθένος', 75),\n ('γόος', 75),\n ('Φαίαξ', 75),\n ('δεῖ', 75),\n ('μάρναμαι', 74),\n ('θεράπων', 74),\n ('τέμνω', 74),\n ('ἡδύς', 74),\n ('ἐσθίω', 74),\n ('φύω', 74),\n ('εἷς', 74),\n ('πλήσσω', 73),\n ('σῆμα', 73),\n ('βλώσκω', 73),\n ('ἀγείρω', 72),\n ('ὅρκος', 72),\n ('κράτος', 72),\n ('κομίζω', 72),\n ('καταλέγω', 72),\n ('βίος', 72),\n ('κοῖλος', 71),\n ('πίων', 71),\n ('αἴξ', 71),\n ('εὕδω', 71),\n ('σεύω', 71),\n ('μεγαλήτωρ', 71),\n ('ὄχος', 71),\n ('ἕννυμι', 71),\n ('ὄις', 71),\n ('δείκνυμι', 71),\n ('ἥκω', 71),\n ('μόρος', 71),\n ('μανθάνω', 71),\n ('Ἀλκίνοος', 71),\n ('ὄσσε', 70),\n ('Ὠκεανός', 70),\n ('ἐγείρω', 70),\n ('εἶδος', 70),\n ('ἐνέπω', 70),\n ('κονία', 70),\n ('εἰσέρχομαι', 70),\n ('κτῆμα', 70),\n ('συβώτης', 70),\n ('πρᾶγμα', 70),\n ('κρείων', 69),\n ('ὀλίγος', 69),\n ('περικαλλής', 69),\n ('Ἑλένη', 69),\n ('ἔδω', 69),\n ('Τυδεΐδης', 69),\n ('ἀγών', 69),\n ('τέκος', 68),\n ('ἐπιτέλλω', 68),\n ('ἄκων', 68),\n ('ἄγγελος', 68),\n ('τρίτος', 68),\n ('ᾍδης', 67),\n ('κιχάνω', 67),\n ('ἀντίθεος', 67),\n ('ὅμοιος', 67),\n ('μίμνω', 67),\n ('ὕλη', 67),\n ('τοκεύς', 67),\n ('πύργος', 67),\n ('παρέχω', 67),\n ('αἴρω', 67),\n ('ἡγέομαι', 66),\n ('μεταλέγω', 66),\n ('μυθέομαι', 66),\n ('ῥέω', 66),\n ('ὀδύρομαι', 66),\n ('ἐρύκω', 66),\n ('κασίγνητος', 66),\n ('αἰδέομαι', 65),\n ('ἀΐσσω', 65),\n ('Κρόνος', 65),\n ('γυῖον', 65),\n ('κατατίθημι', 65),\n ('ὁρμάω', 65),\n ('παλαιός', 65),\n ('ἀεικής', 64),\n ('προΐημι', 64),\n ('ἀναβαίνω', 64),\n ('τέχνη', 64),\n ('γῆρας', 63),\n ('κάμνω', 63),\n ('δεσμός', 63),\n ('κῆδος', 63),\n ('αἰπύς', 63),\n ('βίοτος', 63),\n ('Ἀντίλοχος', 63),\n ('μέλος', 63),\n ('ἀετός', 63),\n ('δέμας', 62),\n ('καρπός', 62),\n ('πολεμίζω', 62),\n ('θύω', 62),\n ('δαίνυμι', 62),\n ('πιστός', 62),\n ('χλαῖνα', 62),\n ('περίφρων', 62),\n ('ἡμέρα', 62),\n ('ὀνομάζω', 61),\n ('βαθύς', 61),\n ('κάθημαι', 61),\n ('δαΐφρων', 61),\n ('πέτομαι', 61),\n ('ὀστέον', 61),\n ('δμωή', 61),\n ('ἆθλον', 61),\n ('ὄλβος', 61),\n ('δεσπότης', 61),\n ('βουλεύω', 60),\n ('δεῖπνον', 60),\n ('δάϊος', 60),\n ('νόμος', 60),\n ('ὀδούς', 60),\n ('χώρα', 60),\n ('ἀφίημι', 59),\n ('ταῦρος', 59),\n ('φέρτατος', 59),\n ('θέμις', 59),\n ('τανύω', 59),\n ('νῶτον', 59),\n ('ἐφέπω', 59),\n ('νεῖκος', 59),\n ('ῥήγνυμι', 59),\n ('χειμών', 59),\n ('νύμφη', 59),\n ('ἐμβάλλω', 59),\n ('ὕμνος', 59),\n ('φθίω', 58),\n ('πολιός', 58),\n ('δέπας', 58),\n ('ἅπτω', 58),\n ('περάω', 58),\n ('μικρός', 58),\n ('ὄμνυμι', 57),\n ('κρατύς', 57),\n ('μεθίημι', 57),\n ('καταδύω', 57),\n ('Μηριόνης', 57),\n ('χῶρος', 57),\n ('αἰχμή', 57),\n ('ἐπιτίθημι', 57),\n ('νέφος', 57),\n ('ἔμπεδος', 57),\n ('κέρδος', 57),\n ('λοιπός', 57),\n ('ἴφθιμος', 56),\n ('οἰωνός', 56),\n ('δειλός', 56),\n ('ὀλοός', 56),\n ('ἄγριος', 56),\n ('καταβαίνω', 56),\n ('ἀγαυός', 56),\n ('Ἀντίνοος', 56),\n ('ὀϊστός', 55),\n ('Πηλεΐδης', 55),\n ('ἔρομαι', 55),\n ('κοιμάω', 55),\n ('κορυφή', 55),\n ('ὑσμίνη', 55),\n ('ἀγήνωρ', 55),\n ('ἵκω', 55),\n ('σῶμα', 55),\n ('ἄλκιμος', 55),\n ('τύπτω', 55),\n ('μηδείς', 55),\n ('ἐρίζω', 54),\n ('ἱστός', 54),\n ('ἀργύρεος', 54),\n ('πλοῦτος', 54),\n ('ξανθός', 54),\n ('ὕβρις', 54),\n ('εἴδομαι', 54),\n ('φορέω', 54),\n ('ὕστερος', 54),\n ('ναιετάω', 54),\n ('ἐποτρύνω', 54),\n ('οὐδός', 54),\n ('τοιόσδε', 54),\n ('νόσος', 53),\n ('Θέτις', 53),\n ('ἅλιος', 53),\n ('πότμος', 53),\n ('ἡμίονος', 53),\n ('Λύκιος', 53),\n ('καθίζω', 53),\n ('ποικίλος', 53),\n ('πίμπλημι', 52),\n ('γηθέω', 52),\n ('μήδομαι', 52),\n ('μῆτις', 52),\n ('νοστέω', 52),\n ('φῦλον', 52),\n ('στυγερός', 52),\n ('ἀκτή', 52),\n ('αἰθήρ', 52),\n ('πήγνυμι', 52),\n ('ἀρχή', 52),\n ('αἰνέω', 52),\n ('λούω', 52),\n ('διδάσκω', 52),\n ('αὐχήν', 52),\n ('ζώω', 52),\n ('αἰτέω', 52),\n ('κρύπτω', 52),\n ('ἐλπίς', 52),\n ('τόπος', 52),\n ('μυρίος', 51),\n ('ἰός', 51),\n ('αἶσα', 51),\n ('ἱππόδαμος', 51),\n ('ὀρίνω', 51),\n ('αἶα', 51),\n ('κλίνω', 51),\n ('τελευτάω', 51),\n ('φύσις', 51),\n ('σοφός', 51),\n ('πατρῷος', 51),\n ('μάντις', 50),\n ('πένθος', 50),\n ('ἐύς', 50),\n ('κόσμος', 50),\n ('γελάω', 50),\n ('πονέω', 50),\n ('σταθμός', 50),\n ('ἀγγελία', 50),\n ('ἐπεύχομαι', 50),\n ('ἁρπάζω', 50),\n ('σπεύδω', 50),\n ('αὐλή', 50),\n ('οὐτάω', 50),\n ('οὖς', 50),\n ('πρέπω', 50),\n ('πρόβατον', 50),\n ('ἀοιδός', 50),\n ('αἰτία', 50),\n ('Λητώ', 49),\n ('σκῆπτρον', 49),\n ('χώομαι', 49),\n ('ἀφαιρέω', 49),\n ('καρτερός', 49),\n ('ὠθέω', 49),\n ('κρατήρ', 49),\n ('μαλακός', 49),\n ('δηρός', 49),\n ('αὔω', 49),\n ('ἐπείγω', 49),\n ('ἐπίσταμαι', 49),\n ('ἔργω', 49),\n ('πλέω', 49),\n ('σίδηρος', 49),\n ('τείρω', 49),\n ('Ἄρτεμις', 49),\n ('ἐξέρχομαι', 49),\n ('κεδνός', 49),\n ('καιρός', 49),\n ('διογενής', 48),\n ('πελάζω', 48),\n ('αἰδώς', 48),\n ('θῆλυς', 48),\n ('ἑκών', 48),\n ('κατέχω', 48),\n ('αἰών', 48),\n ('λίθος', 48),\n ('μυχός', 48),\n ('ἄπειμι', 48),\n ('τράπεζα', 48),\n ('Κίρκη', 48),\n ('λευκώλενος', 47),\n ('κήδω', 47),\n ('ἑκατόμβη', 47),\n ('ἔλαφος', 47),\n ('Πύλος', 47),\n ('θεσπέσιος', 47),\n ('ὄνειρος', 47),\n ('στίξ', 47),\n ('Ἀλέξανδρος', 47),\n ('νηλής', 47),\n ('κόρυς', 47),\n ('ζυγόν', 47),\n ('βλάπτω', 47),\n ('κεραυνός', 47),\n ('γαμέω', 47),\n ('ἴδιος', 47),\n ('Πέρσης', 47),\n ('γεραιός', 46),\n ('πρόφρων', 46),\n ('ζάω', 46),\n ('ἴσχω', 46),\n ('ἕρκος', 46),\n ('νεικέω', 46),\n ('ἀνίημι', 46),\n ('ἐνιαυτός', 46),\n ('νεμεσάω', 46),\n ('θαυμάζω', 46),\n ('Τυδεύς', 46),\n ('Ἶρις', 46),\n ('θήρ', 46),\n ('ὀρθός', 46),\n ('χρῆμα', 46),\n ('τρόπος', 46),\n ('συμφορά', 46),\n ('θίς', 45),\n ('ἐφίημι', 45),\n ('ὀρέγω', 45),\n ('κράς', 45),\n ('ῥίπτω', 45),\n ('ἐρείδω', 45),\n ('θεοειδής', 45),\n ('εἴκω', 45),\n ('γαστήρ', 45),\n ('ἀληθής', 45),\n ('ἥβη', 45),\n ('ἁγνός', 45),\n ('ἐποίχομαι', 44),\n ('θαρσέω', 44),\n ('δέρκομαι', 44),\n ('Μυρμιδόνες', 44),\n ('θωρήσσω', 44),\n ('ἀναιρέω', 44),\n ('κοῦρος', 44),\n ('νεφεληγερέτα', 44),\n ('ἄνθος', 44),\n ('Ἀργειφόντης', 44),\n ('πνέω', 44),\n ('Δημήτηρ', 44),\n ('ῥύομαι', 44),\n ('κάματος', 44),\n ('σπέος', 44),\n ('κατέρχομαι', 44),\n ('χαρίζω', 44),\n ('κίνδυνος', 44),\n ('δατέομαι', 43),\n ('ἀπαυράω', 43),\n ('ἰάχω', 43),\n ('φόρμιγξ', 43),\n ('ἡγήτωρ', 43),\n ('θαλερός', 43),\n ('ἔτος', 43),\n ('πόρος', 43),\n ('πολίτης', 43),\n ('πεζός', 43),\n ('πρόμαχος', 43),\n ('ἔντεα', 43),\n ('ἀλέομαι', 43),\n ('ἐλεέω', 43),\n ('καταλείπω', 43),\n ('φλόξ', 43),\n ('Ἐρινύς', 43),\n ('δρόμος', 43),\n ('συμβαίνω', 43),\n ('ἁνδάνω', 42),\n ('ἐπισεύω', 42),\n ('παλάμη', 42),\n ('προσφωνέω', 42),\n ('στενάχω', 42),\n ('ἀποβαίνω', 42),\n ('νημερτής', 42),\n ('ἔθνος', 42),\n ('σχέτλιος', 42),\n ('σμερδαλέος', 42),\n ('παρθένος', 42),\n ('ἄρειος', 42),\n ('Σαρπηδών', 42),\n ('τείνω', 42),\n ('στιβαρός', 42),\n ('φάρμακον', 42),\n ('ἐρείπω', 42),\n ('ἀλλότριος', 42),\n ('πολύτλας', 42),\n ('ἀγγέλλω', 42),\n ('στέφανος', 42),\n ('πονηρός', 42),\n ('ἀράομαι', 41),\n ('μερμηρίζω', 41),\n ('εἴλω', 41),\n ('ἐκτελέω', 41),\n ('ἄσπετος', 41),\n ('ἡγεμονεύω', 41),\n ('κόλπος', 41),\n ('ἀφνειός', 41),\n ('κέρας', 41),\n ('ἀγρός', 41),\n ('πνοή', 41),\n ('θαῦμα', 41),\n ('ὀλοφύρομαι', 41),\n ('Ἐνοσίχθων', 41),\n ('μέτρον', 41),\n ('γνώμη', 41),\n ('τροφή', 41),\n ('κραίνω', 40),\n ('ὁμιλέω', 40),\n ('καθέζομαι', 40),\n ('αἶθοψ', 40),\n ('ἱππότης', 40),\n ('λίμνη', 40),\n ('ὄνομα', 40),\n ('μενεαίνω', 40),\n ('σπένδω', 40),\n ('ἀστός', 40),\n ('Εὔμαιος', 40),\n ('δράω', 40),\n ('κοινός', 40),\n ('μῦς', 40),\n ('μηρός', 39),\n ('ὀφέλλω', 39),\n ('λιμήν', 39),\n ('νωμάω', 39),\n ('λαμπρός', 39),\n ('παῦρος', 39),\n ('στείχω', 39),\n ('παντοῖος', 39),\n ('ἄλσος', 39),\n ('Τελαμώνιος', 39),\n ('ἐξαιρέω', 39),\n ('κορυθαίολος', 39),\n ('Αἰακίδης', 39),\n ('ἵμερος', 39),\n ('ἀήρ', 39),\n ('ἁμαρτάνω', 39),\n ('Χάρις', 39),\n ('Βορέας', 39),\n ('Ἡρακλέης', 39),\n ('Ὀρέστης', 39),\n ('ἀέξω', 39),\n ('τρίπους', 39),\n ('βλέφαρον', 39),\n ('τάλας', 39),\n ('κάρηνον', 38),\n ('ἀρχός', 38),\n ('ἀντίον', 38),\n ('ἤπειρος', 38),\n ('ὄψ', 38),\n ('ἕδρα', 38),\n ('ἐπίκουρος', 38),\n ('Λαερτιάδης', 38),\n ('μῆδος', 38),\n ('ἀδελφός', 38),\n ('αὐγή', 38),\n ('λειμών', 38),\n ('ῥεῖθρον', 38),\n ('οἰκέω', 38),\n ('δυσμενής', 38),\n ('ὄβριμος', 38),\n ('γραῦς', 38),\n ('θρῴσκω', 38),\n ('πικρός', 38),\n ('δεξιός', 38),\n ('ἀκοντίζω', 38),\n ('θρασύς', 38),\n ('τάφρος', 38),\n ('ξένιος', 38),\n ('ὄφις', 38),\n ('ἐργάζομαι', 38),\n ('δμώς', 38),\n ('εὔκομος', 37),\n ('μογέω', 37),\n ('αὐδή', 37),\n ('ὀφείλω', 37),\n ('ὑπισχνέομαι', 37),\n ('δαίω', 37),\n ('ἄκοιτις', 37),\n ('ζεύγνυμι', 37),\n ('λάμπω', 37),\n ('ἐξεναρίζω', 37),\n ('ἡνίοχος', 37),\n ('στένω', 37),\n ('ὅπλον', 37),\n ('δρῦς', 37),\n ('οἰκεῖος', 37),\n ('ἐυκνήμις', 36),\n ('πείρω', 36),\n ('τυτθός', 36),\n ('ἕδος', 36),\n ('φᾶρος', 36),\n ('λιπαρός', 36),\n ('πληγή', 36),\n ('δάω', 36),\n ('Γερήνιος', 36),\n ('ἡγεμών', 36),\n ('θώραξ', 36),\n ('φάλαγξ', 36),\n ('Ἑλλάς', 36),\n ('Πριαμίδης', 36),\n ('ἡνία', 36),\n ('παχύς', 36),\n ('ἐμπίπτω', 36),\n ('σέβω', 36),\n ('ἀνέρχομαι', 36),\n ('ἀποκτείνω', 36),\n ('οὐτάζω', 36),\n ('κλείς', 36),\n ('ὑμέτερος', 36),\n ('ἀπέχω', 36),\n ('διοτρεφής', 36),\n ('λεπτός', 36),\n ('δόξα', 36),\n ('Κύκλωψ', 36),\n ('σεμνός', 36),\n ('πάθος', 36),\n ('γεωργός', 36),\n ('κλέπτω', 35),\n ('δεύω', 35),\n ('αἰχμητής', 35),\n ('πτολίεθρον', 35),\n ('ὁρμαίνω', 35),\n ('ἀπειθέω', 35),\n ('ἀυτή', 35),\n ('εὐρύοπα', 35),\n ('ἅλλομαι', 35),\n ('δαιμόνιος', 35),\n ('ἔξοχος', 35),\n ('ἐπαινέω', 35),\n ('ἀθρόος', 35),\n ('ἐρατεινός', 35),\n ('Ἴδη', 35),\n ('κυρέω', 35),\n ('χάζω', 35),\n ('εὔφρων', 35),\n ('χάλκειος', 35),\n ('χορός', 35),\n ('ἐναντίος', 35),\n ('ἐκφεύγω', 35),\n ('στρέφω', 35),\n ('πέπλος', 35),\n ('οὖδας', 35),\n ('θερμός', 35),\n ('μισθός', 35),\n ('ὄλβιος', 35),\n ('οὔτις', 35),\n ('ἀρήγω', 34),\n ('λήγω', 34),\n ('ταρβέω', 34),\n ('ἔρος', 34),\n ('πορφύρεος', 34),\n ('ποθέω', 34),\n ('ἀμβρόσιος', 34),\n ('κομάω', 34),\n ('κρήνη', 34),\n ('ἁλίσκομαι', 34),\n ('πάλλω', 34),\n ('κερδίων', 34),\n ('θρίξ', 34),\n ('κυδάλιμος', 34),\n ('παπταίνω', 34),\n ('μῶνυξ', 34),\n ('ἐφίστημι', 34),\n ('γόνος', 34),\n ('ἄξιος', 34),\n ('πομπή', 34),\n ('δόρπον', 34),\n ...]"
     },
     "execution_count": 114,
     "metadata": {},
     "output_type": "execute_result"
    }
   ],
   "source": [
    "subcorpora_vocabs[\"archaic\"][\"word_freqs\"]"
   ],
   "metadata": {
    "collapsed": false
   }
  },
  {
   "cell_type": "code",
   "execution_count": 115,
   "outputs": [],
   "source": [
    "religion_final = [\"θεός\", \"Ζεύς\", \"εὐσεβής\", 'ἱερός']\n",
    "morality_final = [\"ἀγαθός\", \"ἀρετή\", \"δίκαιος\", \"τιμή\"]\n",
    "keywords = religion_final + morality_final"
   ],
   "metadata": {
    "collapsed": false
   }
  },
  {
   "cell_type": "code",
   "execution_count": 139,
   "outputs": [
    {
     "name": "stdout",
     "output_type": "stream",
     "text": [
      "θεός, Ζεύς, εὐσεβής, ἱερός\n"
     ]
    }
   ],
   "source": [
    "print(\", \".join(religion_final))"
   ],
   "metadata": {
    "collapsed": false
   }
  },
  {
   "cell_type": "code",
   "execution_count": 140,
   "outputs": [
    {
     "name": "stdout",
     "output_type": "stream",
     "text": [
      "ἀγαθός, ἀρετή, δίκαιος, τιμή\n"
     ]
    }
   ],
   "source": [
    "print(\", \".join(morality_final))\n"
   ],
   "metadata": {
    "collapsed": false
   }
  },
  {
   "cell_type": "code",
   "execution_count": 136,
   "outputs": [],
   "source": [
    "keywords_freqs = []\n",
    "keywords_counts = []\n",
    "for keyword in keywords:\n",
    "    row_data_freqs = {}\n",
    "    row_data_counts = {}\n",
    "    row_data_freqs[\"keyword\"] = keyword\n",
    "    row_data_counts[\"keyword\"] = keyword\n",
    "    for sub in subcorpora:\n",
    "        if keyword in subcorpora_vocabs[sub][\"words\"]:\n",
    "            word_freqs = subcorpora_vocabs[sub][\"word_freqs\"]\n",
    "            wordcount = sum([t[1] for t in word_freqs])\n",
    "            for tup in word_freqs:\n",
    "                if tup[0] == keyword:\n",
    "                    count = tup[1]\n",
    "                    row_data_counts[sub + \"_count\"] = count\n",
    "                    freq = np.round(count / wordcount, 5)\n",
    "                    row_data_freqs[sub + \"_freq\"] = freq\n",
    "    keywords_freqs.append(row_data_freqs)\n",
    "    keywords_counts.append(row_data_counts)\n"
   ],
   "metadata": {
    "collapsed": false
   }
  },
  {
   "cell_type": "code",
   "execution_count": 137,
   "outputs": [
    {
     "data": {
      "text/plain": "   keyword  archaic_freq  classical_freq  roman_freq  christian_freq  \\\n0     θεός       0.00730         0.00245     0.00207         0.01972   \n1     Ζεύς       0.00676         0.00131     0.00103         0.00142   \n2  εὐσεβής       0.00006         0.00005     0.00003         0.00012   \n3    ἱερός       0.00079         0.00054     0.00058         0.00022   \n4   ἀγαθός       0.00291         0.00434     0.00290         0.00288   \n5    ἀρετή       0.00055         0.00108     0.00077         0.00127   \n6  δίκαιος       0.00040         0.00163     0.00056         0.00174   \n7     τιμή       0.00066         0.00039     0.00039         0.00050   \n\n   jewish_freq  \n0      0.00953  \n1      0.00032  \n2      0.00010  \n3      0.00098  \n4      0.00260  \n5      0.00151  \n6      0.00117  \n7      0.00083  ",
      "text/html": "<div>\n<style scoped>\n    .dataframe tbody tr th:only-of-type {\n        vertical-align: middle;\n    }\n\n    .dataframe tbody tr th {\n        vertical-align: top;\n    }\n\n    .dataframe thead th {\n        text-align: right;\n    }\n</style>\n<table border=\"1\" class=\"dataframe\">\n  <thead>\n    <tr style=\"text-align: right;\">\n      <th></th>\n      <th>keyword</th>\n      <th>archaic_freq</th>\n      <th>classical_freq</th>\n      <th>roman_freq</th>\n      <th>christian_freq</th>\n      <th>jewish_freq</th>\n    </tr>\n  </thead>\n  <tbody>\n    <tr>\n      <th>0</th>\n      <td>θεός</td>\n      <td>0.00730</td>\n      <td>0.00245</td>\n      <td>0.00207</td>\n      <td>0.01972</td>\n      <td>0.00953</td>\n    </tr>\n    <tr>\n      <th>1</th>\n      <td>Ζεύς</td>\n      <td>0.00676</td>\n      <td>0.00131</td>\n      <td>0.00103</td>\n      <td>0.00142</td>\n      <td>0.00032</td>\n    </tr>\n    <tr>\n      <th>2</th>\n      <td>εὐσεβής</td>\n      <td>0.00006</td>\n      <td>0.00005</td>\n      <td>0.00003</td>\n      <td>0.00012</td>\n      <td>0.00010</td>\n    </tr>\n    <tr>\n      <th>3</th>\n      <td>ἱερός</td>\n      <td>0.00079</td>\n      <td>0.00054</td>\n      <td>0.00058</td>\n      <td>0.00022</td>\n      <td>0.00098</td>\n    </tr>\n    <tr>\n      <th>4</th>\n      <td>ἀγαθός</td>\n      <td>0.00291</td>\n      <td>0.00434</td>\n      <td>0.00290</td>\n      <td>0.00288</td>\n      <td>0.00260</td>\n    </tr>\n    <tr>\n      <th>5</th>\n      <td>ἀρετή</td>\n      <td>0.00055</td>\n      <td>0.00108</td>\n      <td>0.00077</td>\n      <td>0.00127</td>\n      <td>0.00151</td>\n    </tr>\n    <tr>\n      <th>6</th>\n      <td>δίκαιος</td>\n      <td>0.00040</td>\n      <td>0.00163</td>\n      <td>0.00056</td>\n      <td>0.00174</td>\n      <td>0.00117</td>\n    </tr>\n    <tr>\n      <th>7</th>\n      <td>τιμή</td>\n      <td>0.00066</td>\n      <td>0.00039</td>\n      <td>0.00039</td>\n      <td>0.00050</td>\n      <td>0.00083</td>\n    </tr>\n  </tbody>\n</table>\n</div>"
     },
     "execution_count": 137,
     "metadata": {},
     "output_type": "execute_result"
    }
   ],
   "source": [
    "pd.DataFrame(keywords_freqs)"
   ],
   "metadata": {
    "collapsed": false
   }
  },
  {
   "cell_type": "code",
   "execution_count": 138,
   "outputs": [
    {
     "data": {
      "text/plain": "   keyword  archaic_count  classical_count  roman_count  christian_count  \\\n0     θεός           1429             5050        11715            13922   \n1     Ζεύς           1322             2693         5821             1005   \n2  εὐσεβής             11               99          189               87   \n3    ἱερός            155             1114         3278              153   \n4   ἀγαθός            569             8934        16404             2034   \n5    ἀρετή            107             2232         4370              894   \n6  δίκαιος             79             3360         3163             1231   \n7     τιμή            129              800         2232              351   \n\n   jewish_count  \n0          9115  \n1           309  \n2            93  \n3           933  \n4          2483  \n5          1448  \n6          1115  \n7           795  ",
      "text/html": "<div>\n<style scoped>\n    .dataframe tbody tr th:only-of-type {\n        vertical-align: middle;\n    }\n\n    .dataframe tbody tr th {\n        vertical-align: top;\n    }\n\n    .dataframe thead th {\n        text-align: right;\n    }\n</style>\n<table border=\"1\" class=\"dataframe\">\n  <thead>\n    <tr style=\"text-align: right;\">\n      <th></th>\n      <th>keyword</th>\n      <th>archaic_count</th>\n      <th>classical_count</th>\n      <th>roman_count</th>\n      <th>christian_count</th>\n      <th>jewish_count</th>\n    </tr>\n  </thead>\n  <tbody>\n    <tr>\n      <th>0</th>\n      <td>θεός</td>\n      <td>1429</td>\n      <td>5050</td>\n      <td>11715</td>\n      <td>13922</td>\n      <td>9115</td>\n    </tr>\n    <tr>\n      <th>1</th>\n      <td>Ζεύς</td>\n      <td>1322</td>\n      <td>2693</td>\n      <td>5821</td>\n      <td>1005</td>\n      <td>309</td>\n    </tr>\n    <tr>\n      <th>2</th>\n      <td>εὐσεβής</td>\n      <td>11</td>\n      <td>99</td>\n      <td>189</td>\n      <td>87</td>\n      <td>93</td>\n    </tr>\n    <tr>\n      <th>3</th>\n      <td>ἱερός</td>\n      <td>155</td>\n      <td>1114</td>\n      <td>3278</td>\n      <td>153</td>\n      <td>933</td>\n    </tr>\n    <tr>\n      <th>4</th>\n      <td>ἀγαθός</td>\n      <td>569</td>\n      <td>8934</td>\n      <td>16404</td>\n      <td>2034</td>\n      <td>2483</td>\n    </tr>\n    <tr>\n      <th>5</th>\n      <td>ἀρετή</td>\n      <td>107</td>\n      <td>2232</td>\n      <td>4370</td>\n      <td>894</td>\n      <td>1448</td>\n    </tr>\n    <tr>\n      <th>6</th>\n      <td>δίκαιος</td>\n      <td>79</td>\n      <td>3360</td>\n      <td>3163</td>\n      <td>1231</td>\n      <td>1115</td>\n    </tr>\n    <tr>\n      <th>7</th>\n      <td>τιμή</td>\n      <td>129</td>\n      <td>800</td>\n      <td>2232</td>\n      <td>351</td>\n      <td>795</td>\n    </tr>\n  </tbody>\n</table>\n</div>"
     },
     "execution_count": 138,
     "metadata": {},
     "output_type": "execute_result"
    }
   ],
   "source": [
    "pd.DataFrame(keywords_counts)\n"
   ],
   "metadata": {
    "collapsed": false
   }
  },
  {
   "cell_type": "code",
   "execution_count": 116,
   "outputs": [],
   "source": [
    "subcorpus_keywords = []\n",
    "for sub in subcorpora:\n",
    "    for keyword in keywords:\n",
    "        if keyword in subcorpora_vocabs[sub][\"words\"]:\n",
    "            word_freqs = subcorpora_vocabs[sub][\"word_freqs\"]\n",
    "            wordcount = sum([t[1] for t in word_freqs])\n",
    "            for tup in enumerate(word_freqs):\n",
    "                if tup[1][0] == keyword:\n",
    "                    rank = tup[0]\n",
    "                    rank_ratio = np.round(rank / len(word_freqs), 5)\n",
    "                    count = tup[1][1]\n",
    "                    freq = np.round(count / wordcount, 5)\n",
    "                    subcorpus_keywords.append([sub, keyword, rank, rank_ratio, count, freq])\n",
    "                    break\n",
    "        else:\n",
    "            subcorpus_keywords.append([sub, keyword, None, None, None, None])"
   ],
   "metadata": {
    "collapsed": false
   }
  },
  {
   "cell_type": "code",
   "execution_count": 117,
   "outputs": [
    {
     "data": {
      "text/plain": "18311"
     },
     "execution_count": 117,
     "metadata": {},
     "output_type": "execute_result"
    }
   ],
   "source": [
    "sub = \"archaic\"\n",
    "word_freqs = subcorpora_vocabs[sub][\"word_freqs\"]\n",
    "len(word_freqs)"
   ],
   "metadata": {
    "collapsed": false
   }
  },
  {
   "cell_type": "code",
   "execution_count": 118,
   "outputs": [
    {
     "name": "stdout",
     "output_type": "stream",
     "text": [
      "(2545, ('εὐσεβής', 11))\n"
     ]
    }
   ],
   "source": [
    "keyword = \"εὐσεβής\"\n",
    "for tup in enumerate(word_freqs):\n",
    "    if tup[1][0] == keyword:\n",
    "        print(tup)"
   ],
   "metadata": {
    "collapsed": false
   }
  },
  {
   "cell_type": "code",
   "execution_count": 119,
   "outputs": [
    {
     "data": {
      "text/plain": "0.13899"
     },
     "execution_count": 119,
     "metadata": {},
     "output_type": "execute_result"
    }
   ],
   "source": [
    "np.round(2545 / 18311, 5)"
   ],
   "metadata": {
    "collapsed": false
   }
  },
  {
   "cell_type": "code",
   "execution_count": 129,
   "outputs": [
    {
     "data": {
      "text/plain": "    subcorpus  keyword  rank  rank_ratio  count     freq\n0     archaic     θεός     6     0.00033   1429  0.00730\n1     archaic     Ζεύς     8     0.00044   1322  0.00676\n2     archaic  εὐσεβής  2545     0.13899     11  0.00006\n3     archaic    ἱερός   205     0.01120    155  0.00079\n4     archaic   ἀγαθός    35     0.00191    569  0.00291\n5     archaic    ἀρετή   306     0.01671    107  0.00055\n6     archaic  δίκαιος   418     0.02283     79  0.00040\n7     archaic     τιμή   247     0.01349    129  0.00066\n8   classical     θεός    37     0.00051   5050  0.00245\n9   classical     Ζεύς    89     0.00124   2693  0.00131\n10  classical  εὐσεβής  2386     0.03314     99  0.00005\n11  classical    ἱερός   252     0.00350   1114  0.00054\n12  classical   ἀγαθός    19     0.00026   8934  0.00434\n13  classical    ἀρετή   116     0.00161   2232  0.00108\n14  classical  δίκαιος    67     0.00093   3360  0.00163\n15  classical     τιμή   365     0.00507    800  0.00039\n16      roman     θεός    39     0.00014  11715  0.00207\n17      roman     Ζεύς   105     0.00038   5821  0.00103\n18      roman  εὐσεβής  3311     0.01205    189  0.00003\n19      roman    ἱερός   206     0.00075   3278  0.00058\n20      roman   ἀγαθός    21     0.00008  16404  0.00290\n21      roman    ἀρετή   150     0.00055   4370  0.00077\n22      roman  δίκαιος   216     0.00079   3163  0.00056\n23      roman     τιμή   320     0.00117   2232  0.00039\n24  christian     θεός     2     0.00003  13922  0.01972\n25  christian     Ζεύς    92     0.00138   1005  0.00142\n26  christian  εὐσεβής  1064     0.01592     87  0.00012\n27  christian    ἱερός   647     0.00968    153  0.00022\n28  christian   ἀγαθός    31     0.00046   2034  0.00288\n29  christian    ἀρετή   101     0.00151    894  0.00127\n30  christian  δίκαιος    65     0.00097   1231  0.00174\n31  christian     τιμή   288     0.00431    351  0.00050\n32     jewish     θεός     6     0.00006   9115  0.00953\n33     jewish     Ζεύς   450     0.00429    309  0.00032\n34     jewish  εὐσεβής  1460     0.01392     93  0.00010\n35     jewish    ἱερός   122     0.00116    933  0.00098\n36     jewish   ἀγαθός    31     0.00030   2483  0.00260\n37     jewish    ἀρετή    60     0.00057   1448  0.00151\n38     jewish  δίκαιος    93     0.00089   1115  0.00117\n39     jewish     τιμή   137     0.00131    795  0.00083",
      "text/html": "<div>\n<style scoped>\n    .dataframe tbody tr th:only-of-type {\n        vertical-align: middle;\n    }\n\n    .dataframe tbody tr th {\n        vertical-align: top;\n    }\n\n    .dataframe thead th {\n        text-align: right;\n    }\n</style>\n<table border=\"1\" class=\"dataframe\">\n  <thead>\n    <tr style=\"text-align: right;\">\n      <th></th>\n      <th>subcorpus</th>\n      <th>keyword</th>\n      <th>rank</th>\n      <th>rank_ratio</th>\n      <th>count</th>\n      <th>freq</th>\n    </tr>\n  </thead>\n  <tbody>\n    <tr>\n      <th>0</th>\n      <td>archaic</td>\n      <td>θεός</td>\n      <td>6</td>\n      <td>0.00033</td>\n      <td>1429</td>\n      <td>0.00730</td>\n    </tr>\n    <tr>\n      <th>1</th>\n      <td>archaic</td>\n      <td>Ζεύς</td>\n      <td>8</td>\n      <td>0.00044</td>\n      <td>1322</td>\n      <td>0.00676</td>\n    </tr>\n    <tr>\n      <th>2</th>\n      <td>archaic</td>\n      <td>εὐσεβής</td>\n      <td>2545</td>\n      <td>0.13899</td>\n      <td>11</td>\n      <td>0.00006</td>\n    </tr>\n    <tr>\n      <th>3</th>\n      <td>archaic</td>\n      <td>ἱερός</td>\n      <td>205</td>\n      <td>0.01120</td>\n      <td>155</td>\n      <td>0.00079</td>\n    </tr>\n    <tr>\n      <th>4</th>\n      <td>archaic</td>\n      <td>ἀγαθός</td>\n      <td>35</td>\n      <td>0.00191</td>\n      <td>569</td>\n      <td>0.00291</td>\n    </tr>\n    <tr>\n      <th>5</th>\n      <td>archaic</td>\n      <td>ἀρετή</td>\n      <td>306</td>\n      <td>0.01671</td>\n      <td>107</td>\n      <td>0.00055</td>\n    </tr>\n    <tr>\n      <th>6</th>\n      <td>archaic</td>\n      <td>δίκαιος</td>\n      <td>418</td>\n      <td>0.02283</td>\n      <td>79</td>\n      <td>0.00040</td>\n    </tr>\n    <tr>\n      <th>7</th>\n      <td>archaic</td>\n      <td>τιμή</td>\n      <td>247</td>\n      <td>0.01349</td>\n      <td>129</td>\n      <td>0.00066</td>\n    </tr>\n    <tr>\n      <th>8</th>\n      <td>classical</td>\n      <td>θεός</td>\n      <td>37</td>\n      <td>0.00051</td>\n      <td>5050</td>\n      <td>0.00245</td>\n    </tr>\n    <tr>\n      <th>9</th>\n      <td>classical</td>\n      <td>Ζεύς</td>\n      <td>89</td>\n      <td>0.00124</td>\n      <td>2693</td>\n      <td>0.00131</td>\n    </tr>\n    <tr>\n      <th>10</th>\n      <td>classical</td>\n      <td>εὐσεβής</td>\n      <td>2386</td>\n      <td>0.03314</td>\n      <td>99</td>\n      <td>0.00005</td>\n    </tr>\n    <tr>\n      <th>11</th>\n      <td>classical</td>\n      <td>ἱερός</td>\n      <td>252</td>\n      <td>0.00350</td>\n      <td>1114</td>\n      <td>0.00054</td>\n    </tr>\n    <tr>\n      <th>12</th>\n      <td>classical</td>\n      <td>ἀγαθός</td>\n      <td>19</td>\n      <td>0.00026</td>\n      <td>8934</td>\n      <td>0.00434</td>\n    </tr>\n    <tr>\n      <th>13</th>\n      <td>classical</td>\n      <td>ἀρετή</td>\n      <td>116</td>\n      <td>0.00161</td>\n      <td>2232</td>\n      <td>0.00108</td>\n    </tr>\n    <tr>\n      <th>14</th>\n      <td>classical</td>\n      <td>δίκαιος</td>\n      <td>67</td>\n      <td>0.00093</td>\n      <td>3360</td>\n      <td>0.00163</td>\n    </tr>\n    <tr>\n      <th>15</th>\n      <td>classical</td>\n      <td>τιμή</td>\n      <td>365</td>\n      <td>0.00507</td>\n      <td>800</td>\n      <td>0.00039</td>\n    </tr>\n    <tr>\n      <th>16</th>\n      <td>roman</td>\n      <td>θεός</td>\n      <td>39</td>\n      <td>0.00014</td>\n      <td>11715</td>\n      <td>0.00207</td>\n    </tr>\n    <tr>\n      <th>17</th>\n      <td>roman</td>\n      <td>Ζεύς</td>\n      <td>105</td>\n      <td>0.00038</td>\n      <td>5821</td>\n      <td>0.00103</td>\n    </tr>\n    <tr>\n      <th>18</th>\n      <td>roman</td>\n      <td>εὐσεβής</td>\n      <td>3311</td>\n      <td>0.01205</td>\n      <td>189</td>\n      <td>0.00003</td>\n    </tr>\n    <tr>\n      <th>19</th>\n      <td>roman</td>\n      <td>ἱερός</td>\n      <td>206</td>\n      <td>0.00075</td>\n      <td>3278</td>\n      <td>0.00058</td>\n    </tr>\n    <tr>\n      <th>20</th>\n      <td>roman</td>\n      <td>ἀγαθός</td>\n      <td>21</td>\n      <td>0.00008</td>\n      <td>16404</td>\n      <td>0.00290</td>\n    </tr>\n    <tr>\n      <th>21</th>\n      <td>roman</td>\n      <td>ἀρετή</td>\n      <td>150</td>\n      <td>0.00055</td>\n      <td>4370</td>\n      <td>0.00077</td>\n    </tr>\n    <tr>\n      <th>22</th>\n      <td>roman</td>\n      <td>δίκαιος</td>\n      <td>216</td>\n      <td>0.00079</td>\n      <td>3163</td>\n      <td>0.00056</td>\n    </tr>\n    <tr>\n      <th>23</th>\n      <td>roman</td>\n      <td>τιμή</td>\n      <td>320</td>\n      <td>0.00117</td>\n      <td>2232</td>\n      <td>0.00039</td>\n    </tr>\n    <tr>\n      <th>24</th>\n      <td>christian</td>\n      <td>θεός</td>\n      <td>2</td>\n      <td>0.00003</td>\n      <td>13922</td>\n      <td>0.01972</td>\n    </tr>\n    <tr>\n      <th>25</th>\n      <td>christian</td>\n      <td>Ζεύς</td>\n      <td>92</td>\n      <td>0.00138</td>\n      <td>1005</td>\n      <td>0.00142</td>\n    </tr>\n    <tr>\n      <th>26</th>\n      <td>christian</td>\n      <td>εὐσεβής</td>\n      <td>1064</td>\n      <td>0.01592</td>\n      <td>87</td>\n      <td>0.00012</td>\n    </tr>\n    <tr>\n      <th>27</th>\n      <td>christian</td>\n      <td>ἱερός</td>\n      <td>647</td>\n      <td>0.00968</td>\n      <td>153</td>\n      <td>0.00022</td>\n    </tr>\n    <tr>\n      <th>28</th>\n      <td>christian</td>\n      <td>ἀγαθός</td>\n      <td>31</td>\n      <td>0.00046</td>\n      <td>2034</td>\n      <td>0.00288</td>\n    </tr>\n    <tr>\n      <th>29</th>\n      <td>christian</td>\n      <td>ἀρετή</td>\n      <td>101</td>\n      <td>0.00151</td>\n      <td>894</td>\n      <td>0.00127</td>\n    </tr>\n    <tr>\n      <th>30</th>\n      <td>christian</td>\n      <td>δίκαιος</td>\n      <td>65</td>\n      <td>0.00097</td>\n      <td>1231</td>\n      <td>0.00174</td>\n    </tr>\n    <tr>\n      <th>31</th>\n      <td>christian</td>\n      <td>τιμή</td>\n      <td>288</td>\n      <td>0.00431</td>\n      <td>351</td>\n      <td>0.00050</td>\n    </tr>\n    <tr>\n      <th>32</th>\n      <td>jewish</td>\n      <td>θεός</td>\n      <td>6</td>\n      <td>0.00006</td>\n      <td>9115</td>\n      <td>0.00953</td>\n    </tr>\n    <tr>\n      <th>33</th>\n      <td>jewish</td>\n      <td>Ζεύς</td>\n      <td>450</td>\n      <td>0.00429</td>\n      <td>309</td>\n      <td>0.00032</td>\n    </tr>\n    <tr>\n      <th>34</th>\n      <td>jewish</td>\n      <td>εὐσεβής</td>\n      <td>1460</td>\n      <td>0.01392</td>\n      <td>93</td>\n      <td>0.00010</td>\n    </tr>\n    <tr>\n      <th>35</th>\n      <td>jewish</td>\n      <td>ἱερός</td>\n      <td>122</td>\n      <td>0.00116</td>\n      <td>933</td>\n      <td>0.00098</td>\n    </tr>\n    <tr>\n      <th>36</th>\n      <td>jewish</td>\n      <td>ἀγαθός</td>\n      <td>31</td>\n      <td>0.00030</td>\n      <td>2483</td>\n      <td>0.00260</td>\n    </tr>\n    <tr>\n      <th>37</th>\n      <td>jewish</td>\n      <td>ἀρετή</td>\n      <td>60</td>\n      <td>0.00057</td>\n      <td>1448</td>\n      <td>0.00151</td>\n    </tr>\n    <tr>\n      <th>38</th>\n      <td>jewish</td>\n      <td>δίκαιος</td>\n      <td>93</td>\n      <td>0.00089</td>\n      <td>1115</td>\n      <td>0.00117</td>\n    </tr>\n    <tr>\n      <th>39</th>\n      <td>jewish</td>\n      <td>τιμή</td>\n      <td>137</td>\n      <td>0.00131</td>\n      <td>795</td>\n      <td>0.00083</td>\n    </tr>\n  </tbody>\n</table>\n</div>"
     },
     "execution_count": 129,
     "metadata": {},
     "output_type": "execute_result"
    }
   ],
   "source": [
    "subcorpus_keywords_df = pd.DataFrame(subcorpus_keywords, columns=[\"subcorpus\", \"keyword\", \"rank\", \"rank_ratio\", \"count\", \"freq\"])\n",
    "subcorpus_keywords_df"
   ],
   "metadata": {
    "collapsed": false
   }
  },
  {
   "cell_type": "code",
   "execution_count": null,
   "outputs": [],
   "source": [
    "subcorpus_keywords_df"
   ],
   "metadata": {
    "collapsed": false
   }
  },
  {
   "cell_type": "code",
   "execution_count": 121,
   "outputs": [
    {
     "data": {
      "text/plain": "5000"
     },
     "execution_count": 121,
     "metadata": {},
     "output_type": "execute_result"
    }
   ],
   "source": [
    "len(subcorpora_vocabs[\"archaic\"][\"vocabulary\"])"
   ],
   "metadata": {
    "collapsed": false
   }
  },
  {
   "cell_type": "code",
   "execution_count": 122,
   "outputs": [],
   "source": [
    "shared_vocabulary = list((set(subcorpora_vocabs[\"archaic\"][\"vocabulary\"])\n",
    "    & set(subcorpora_vocabs[\"classical\"][\"vocabulary\"])\n",
    "    & set(subcorpora_vocabs[\"roman\"][\"vocabulary\"])\n",
    "    & set(subcorpora_vocabs[\"jewish\"][\"vocabulary\"])\n",
    "    & set(subcorpora_vocabs[\"christian\"][\"vocabulary\"])))"
   ],
   "metadata": {
    "collapsed": false
   }
  },
  {
   "cell_type": "code",
   "execution_count": 123,
   "outputs": [
    {
     "data": {
      "text/plain": "1483"
     },
     "execution_count": 123,
     "metadata": {},
     "output_type": "execute_result"
    }
   ],
   "source": [
    "len(shared_vocabulary)"
   ],
   "metadata": {
    "collapsed": false
   }
  },
  {
   "cell_type": "code",
   "execution_count": 124,
   "outputs": [
    {
     "data": {
      "text/plain": "['μεταβάλλω',\n 'ἔτος',\n 'ἔχω',\n 'θῆλυς',\n 'μάχαιρα',\n 'ἀφοράω',\n 'φλόξ',\n 'γαστήρ',\n 'ἐξελαύνω',\n 'μείς']"
     },
     "execution_count": 124,
     "metadata": {},
     "output_type": "execute_result"
    }
   ],
   "source": [
    "shared_vocabulary[:10]"
   ],
   "metadata": {
    "collapsed": false
   }
  },
  {
   "cell_type": "code",
   "execution_count": 125,
   "outputs": [],
   "source": [
    "with open(\"../data/shared_vocabulary.pickle\", \"wb\") as f:\n",
    "    pickle.dump(shared_vocabulary, f)"
   ],
   "metadata": {
    "collapsed": false
   }
  },
  {
   "cell_type": "code",
   "execution_count": 60,
   "outputs": [],
   "source": [],
   "metadata": {
    "collapsed": false,
    "ExecuteTime": {
     "end_time": "2024-01-29T11:07:37.479202Z",
     "start_time": "2024-01-29T11:07:37.473681Z"
    }
   }
  }
 ],
 "metadata": {
  "kernelspec": {
   "name": "theos_kernel",
   "language": "python",
   "display_name": "theos_kernel"
  },
  "language_info": {
   "codemirror_mode": {
    "name": "ipython",
    "version": 2
   },
   "file_extension": ".py",
   "mimetype": "text/x-python",
   "name": "python",
   "nbconvert_exporter": "python",
   "pygments_lexer": "ipython2",
   "version": "2.7.6"
  }
 },
 "nbformat": 4,
 "nbformat_minor": 0
}
