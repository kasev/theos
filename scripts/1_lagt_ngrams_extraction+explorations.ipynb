{
 "cells": [
  {
   "cell_type": "code",
   "execution_count": 3,
   "metadata": {
    "collapsed": true
   },
   "outputs": [],
   "source": [
    "import numpy as np\n",
    "import pandas as pd\n",
    "import os\n",
    "import requests\n",
    "import re\n",
    "from nltk import FreqDist\n",
    "import nltk\n",
    "from sklearn.feature_extraction.text import CountVectorizer\n",
    "from sklearn.decomposition import TruncatedSVD\n",
    "from sklearn.metrics.pairwise import cosine_similarity\n",
    "import pickle\n",
    "from cltk.stops.grc import STOPS as stopwords\n",
    "from gensim.corpora import Dictionary\n",
    "import unicodedata\n",
    "import json"
   ]
  },
  {
   "cell_type": "code",
   "execution_count": 4,
   "outputs": [
    {
     "name": "stdout",
     "output_type": "stream",
     "text": [
      "['/Users/kasev/Projects/LAGT/data/large_files/LAGT_v2-0.json']\n"
     ]
    }
   ],
   "source": [
    "# find local version of the input dataset\n",
    "local_paths = !find ~/Projects -name \"LAGT_v2-0.json\"\n",
    "print(local_paths)"
   ],
   "metadata": {
    "collapsed": false
   }
  },
  {
   "cell_type": "code",
   "execution_count": 5,
   "outputs": [],
   "source": [
    "# load LAGT (v2.0) dataset locally or download it directly from Zenodo\n",
    "try:\n",
    "    LAGT = pd.read_json(local_paths[0])\n",
    "except:\n",
    "    resp = requests.get(\"https://zenodo.org/record/7221150/files/LAGT_v2-0.json?download=1\")\n",
    "    # save it for next time\n",
    "    LAGT = pd.DataFrame(resp.json())\n",
    "    os.mkdir(\"../data/large_data/\")\n",
    "    LAGT.to_json(\"../data/large_data/LIRE_v2-0.json\")"
   ],
   "metadata": {
    "collapsed": false
   }
  },
  {
   "cell_type": "markdown",
   "source": [
    "# additional cleaning"
   ],
   "metadata": {
    "collapsed": false
   }
  },
  {
   "cell_type": "code",
   "execution_count": 6,
   "outputs": [],
   "source": [
    "# remove one-letter words...\n",
    "LAGT[\"lemmatized_sentences\"] = LAGT[\"lemmatized_sentences\"].apply(lambda x: [[w for w in s if len(w) > 1] for s in x])"
   ],
   "metadata": {
    "collapsed": false
   }
  },
  {
   "cell_type": "code",
   "execution_count": 7,
   "outputs": [],
   "source": [
    "LAGT_metadata = pd.read_csv(\"../data/LAGT_metadata.csv\")\n",
    "provenience_dict = dict(zip(LAGT_metadata[\"filename\"],  LAGT_metadata[\"provenience\"]))\n",
    "author_dict = dict(zip(LAGT_metadata[\"author_id\"],  LAGT_metadata[\"author\"]))\n",
    "LAGT[\"provenience\"] = LAGT[\"filename\"].apply(lambda x: provenience_dict[x])"
   ],
   "metadata": {
    "collapsed": false
   }
  },
  {
   "cell_type": "markdown",
   "source": [
    "# Explore overall vocabulary"
   ],
   "metadata": {
    "collapsed": false
   }
  },
  {
   "cell_type": "code",
   "execution_count": 8,
   "outputs": [],
   "source": [
    "sents = [sent for work in LAGT[\"lemmatized_sentences\"] for sent in work]"
   ],
   "metadata": {
    "collapsed": false
   }
  },
  {
   "cell_type": "code",
   "execution_count": 9,
   "outputs": [
    {
     "data": {
      "text/plain": "2803645"
     },
     "execution_count": 9,
     "metadata": {},
     "output_type": "execute_result"
    }
   ],
   "source": [
    "len(sents)"
   ],
   "metadata": {
    "collapsed": false
   }
  },
  {
   "cell_type": "code",
   "execution_count": 10,
   "outputs": [],
   "source": [
    "min_freq = 10\n",
    "\n",
    "def get_vocab(docs, min_freq=min_freq):\n",
    "    words_flat = [item for sublist in docs for item in sublist]\n",
    "    word_freq_tups = FreqDist(words_flat).most_common()\n",
    "    vocabulary = [tup[0] for tup in word_freq_tups if tup[1] >= min_freq]\n",
    "    #vocab_freqs = [len([doc for doc in docs if word in doc]) for word in vocabulary]\n",
    "    return word_freq_tups, words_flat, vocabulary"
   ],
   "metadata": {
    "collapsed": false
   }
  },
  {
   "cell_type": "code",
   "execution_count": 11,
   "outputs": [],
   "source": [
    "word_freqs, words, vocabulary = get_vocab(sents)"
   ],
   "metadata": {
    "collapsed": false
   }
  },
  {
   "cell_type": "code",
   "execution_count": 12,
   "outputs": [
    {
     "data": {
      "text/plain": "[('εἰμί', 461544),\n ('οὗτος', 293455),\n ('αὐτός', 261844),\n ('λέγω', 242398),\n ('γίγνομαι', 157086),\n ('ἔχω', 149368),\n ('πᾶς', 127741),\n ('πολύς', 121928),\n ('ἄλλος', 103309),\n ('φημί', 102944),\n ('τις', 91552),\n ('ποιέω', 85124),\n ('λόγος', 84616),\n ('θεός', 70419),\n ('μέγας', 56125),\n ('τοιοῦτος', 52980),\n ('ἄνθρωπος', 52604),\n ('πρῶτος', 50764),\n ('ἐκεῖνος', 50063),\n ('οὐδείς', 48157),\n ('ἕτερος', 47424),\n ('σῶμα', 45082),\n ('ἀγαθός', 43140),\n ('λαμβάνω', 42387),\n ('πόλις', 41764),\n ('μόνος', 41748),\n ('ὁράω', 41271),\n ('φύσις', 41145),\n ('ἀρχή', 37518),\n ('δύναμις', 37212),\n ('ἀνήρ', 37038),\n ('δοκέω', 36569),\n ('εἷς', 36407),\n ('ἕκαστος', 35169),\n ('τὶς', 34516),\n ('δύναμαι', 33323),\n ('χρόνος', 32486),\n ('δίδωμι', 32458),\n ('ὑπάρχω', 32163),\n ('γῆ', 32018),\n ('μέρος', 31923),\n ('ψυχή', 31296),\n ('καλέω', 31278),\n ('δέω', 30449),\n ('ἅπας', 29470),\n ('κύριος', 28854),\n ('βασιλεύς', 28755),\n ('δείκνυμι', 27793),\n ('γένος', 26375),\n ('πατήρ', 25693),\n ('εἶδος', 25645),\n ('τόπος', 25535),\n ('ὅλος', 25436),\n ('οἶδα', 25343),\n ('ὄνομα', 25081),\n ('βούλομαι', 24813),\n ('χράω', 24692),\n ('ἡμέρα', 24414),\n ('ἔρχομαι', 24199),\n ('τίς', 24145),\n ('κίνησις', 23368),\n ('δεῖ', 23156),\n ('υἱός', 23122),\n ('οὐσία', 23012),\n ('φέρω', 22950),\n ('οἷος', 22698),\n ('κινέω', 21942),\n ('φαίνω', 21807),\n ('ἴσος', 21775),\n ('μηδείς', 21526),\n ('ἀκούω', 21165),\n ('γράφω', 21164),\n ('πρᾶγμα', 20920),\n ('μέσος', 20618),\n ('κακός', 20439),\n ('ὕδωρ', 20224),\n ('ἀνάγκη', 19720),\n ('ἴδιος', 19702),\n ('γυνή', 19270),\n ('ἐναντίος', 19106),\n ('πρότερος', 19019),\n ('καλός', 18921),\n ('τρόπος', 18783),\n ('ὅδε', 18750),\n ('παῖς', 18556),\n ('ἔργον', 18184),\n ('αἰτία', 17850),\n ('Ζεύς', 17815),\n ('εὑρίσκω', 17750),\n ('νόμος', 17579),\n ('τίθημι', 17482),\n ('κοινός', 17435),\n ('χείρ', 17274),\n ('λοιπός', 17107),\n ('συμβαίνω', 17030),\n ('δεύτερος', 16961),\n ('τυγχάνω', 16902),\n ('μέλλω', 16450),\n ('πάσχω', 16431),\n ('ἀληθής', 16297)]"
     },
     "execution_count": 12,
     "metadata": {},
     "output_type": "execute_result"
    }
   ],
   "source": [
    "word_freqs[:100]"
   ],
   "metadata": {
    "collapsed": false
   }
  },
  {
   "cell_type": "markdown",
   "source": [
    "# Generate ngrams"
   ],
   "metadata": {
    "collapsed": false
   }
  },
  {
   "cell_type": "code",
   "execution_count": 13,
   "outputs": [
    {
     "data": {
      "text/plain": "1457"
     },
     "execution_count": 13,
     "metadata": {},
     "output_type": "execute_result"
    }
   ],
   "source": [
    "doc_ids = LAGT[\"doc_id\"].tolist()\n",
    "len(doc_ids)"
   ],
   "metadata": {
    "collapsed": false
   }
  },
  {
   "cell_type": "code",
   "execution_count": 14,
   "outputs": [],
   "source": [
    "line = 0\n",
    "ids_lines = {}\n",
    "\n",
    "f = open(\"../data/large_data/corpus_ngrams_bydocid.txt\", \"w\", encoding=\"utf-8\")\n",
    "for doc_id in doc_ids:\n",
    "    lagt_subset = LAGT[LAGT[\"doc_id\"]==doc_id]\n",
    "    sents = [sen for work in lagt_subset[\"lemmatized_sentences\"] for sen in work]\n",
    "    sents_bigrams = [list(el) for sublist in [[ng for ng in nltk.bigrams(sent)] for sent in sents] for el in sublist]\n",
    "    sents_trigrams = [list(el) for sublist in [[ng for ng in nltk.trigrams(sent)] for sent in sents] for el in sublist]\n",
    "    ngrams_data = sents + sents_bigrams + sents_trigrams\n",
    "    ngrams_data = [\" \".join(ngram) for ngram in ngrams_data]\n",
    "    f.writelines(\"\\n\".join(ngrams_data)+\"\\n\")\n",
    "    if bool(ngrams_data):\n",
    "        ids_lines[doc_id] = (line, line+len(ngrams_data))\n",
    "        line += len(ngrams_data)\n",
    "    else:\n",
    "        ids_lines[doc_id] = (line, line+1)\n",
    "        line += 1"
   ],
   "metadata": {
    "collapsed": false
   }
  },
  {
   "cell_type": "code",
   "execution_count": 15,
   "outputs": [],
   "source": [
    "pickle.dump(ids_lines, open(\"../data/ids_lines.pickle\", \"wb\"))"
   ],
   "metadata": {
    "collapsed": false
   }
  },
  {
   "cell_type": "code",
   "execution_count": 17,
   "outputs": [],
   "source": [
    "line = 0\n",
    "ids_lines = {}\n",
    "\n",
    "f = open(\"../data/large_data/corpus_ngrams_bydocid_wide.txt\", \"w\", encoding=\"utf-8\")\n",
    "for doc_id in doc_ids:\n",
    "    lagt_subset = LAGT[LAGT[\"doc_id\"]==doc_id]\n",
    "    sents = [sen for work in lagt_subset[\"lemmatized_sentences\"] for sen in work]\n",
    "    sents_trigrams = [list(el) for sublist in [[ng for ng in nltk.trigrams(sent)] for sent in sents] for el in sublist]\n",
    "    sents_fivegrams = [list(el) for sublist in [[ng for ng in nltk.ngrams(sent, n=5)] for sent in sents] for el in sublist]\n",
    "    ngrams_data = sents + sents_trigrams + sents_fivegrams\n",
    "    ngrams_data = [\" \".join(ngram) for ngram in ngrams_data]\n",
    "    f.writelines(\"\\n\".join(ngrams_data)+\"\\n\")\n",
    "    if bool(ngrams_data):\n",
    "        ids_lines[doc_id] = (line, line+len(ngrams_data))\n",
    "        line += len(ngrams_data)\n",
    "    else:\n",
    "        ids_lines[doc_id] = (line, line+1)\n",
    "        line += 1"
   ],
   "metadata": {
    "collapsed": false
   }
  },
  {
   "cell_type": "code",
   "execution_count": 19,
   "outputs": [],
   "source": [
    "pickle.dump(ids_lines, open(\"../data/ids_lines_wide.pickle\", \"wb\"))"
   ],
   "metadata": {
    "collapsed": false
   }
  },
  {
   "cell_type": "markdown",
   "source": [
    "# Exploring subcorpora"
   ],
   "metadata": {
    "collapsed": false
   }
  },
  {
   "cell_type": "code",
   "execution_count": 19,
   "outputs": [],
   "source": [
    "def assign_subcorpus(row):\n",
    "    if row[\"date_avr\"] <= -5:\n",
    "        subcorpus = \"archaic\"\n",
    "    elif row[\"date_avr\"] < -2:\n",
    "        subcorpus = \"classical\"\n",
    "    elif (row[\"provenience\"]==\"christian\") & (row[\"date_avr\"]<3):\n",
    "        subcorpus = \"christian\"\n",
    "    elif (row[\"provenience\"]==\"pagan\") & (row[\"date_avr\"]<3):\n",
    "        subcorpus = \"roman\"\n",
    "    elif (row[\"provenience\"]==\"jewish\"):\n",
    "        subcorpus = \"jewish\"\n",
    "    else:\n",
    "        subcorpus = None\n",
    "    return subcorpus"
   ],
   "metadata": {
    "collapsed": false
   }
  },
  {
   "cell_type": "code",
   "execution_count": 20,
   "outputs": [],
   "source": [
    "LAGT[\"subcorpus\"] = LAGT.apply(lambda row: assign_subcorpus(row), axis=1)"
   ],
   "metadata": {
    "collapsed": false
   }
  },
  {
   "cell_type": "code",
   "execution_count": 21,
   "outputs": [
    {
     "data": {
      "text/plain": "   subcorpus  n_works\n0    archaic       26\n1  christian      104\n2  classical      408\n3     jewish       95\n4      roman      596",
      "text/html": "<div>\n<style scoped>\n    .dataframe tbody tr th:only-of-type {\n        vertical-align: middle;\n    }\n\n    .dataframe tbody tr th {\n        vertical-align: top;\n    }\n\n    .dataframe thead th {\n        text-align: right;\n    }\n</style>\n<table border=\"1\" class=\"dataframe\">\n  <thead>\n    <tr style=\"text-align: right;\">\n      <th></th>\n      <th>subcorpus</th>\n      <th>n_works</th>\n    </tr>\n  </thead>\n  <tbody>\n    <tr>\n      <th>0</th>\n      <td>archaic</td>\n      <td>26</td>\n    </tr>\n    <tr>\n      <th>1</th>\n      <td>christian</td>\n      <td>104</td>\n    </tr>\n    <tr>\n      <th>2</th>\n      <td>classical</td>\n      <td>408</td>\n    </tr>\n    <tr>\n      <th>3</th>\n      <td>jewish</td>\n      <td>95</td>\n    </tr>\n    <tr>\n      <th>4</th>\n      <td>roman</td>\n      <td>596</td>\n    </tr>\n  </tbody>\n</table>\n</div>"
     },
     "execution_count": 21,
     "metadata": {},
     "output_type": "execute_result"
    }
   ],
   "source": [
    "df_size = LAGT.groupby(\"subcorpus\").size().reset_index()\n",
    "df_size.rename(columns={0:\"n_works\"}, inplace=True)\n",
    "df_size"
   ],
   "metadata": {
    "collapsed": false
   }
  },
  {
   "cell_type": "code",
   "execution_count": 22,
   "outputs": [
    {
     "data": {
      "text/plain": "[13, 30, 44, 6, 97]"
     },
     "execution_count": 22,
     "metadata": {},
     "output_type": "execute_result"
    }
   ],
   "source": [
    "n_authors = LAGT.groupby(\"subcorpus\")[\"author_id\"].unique().apply(len).tolist()\n",
    "n_authors"
   ],
   "metadata": {
    "collapsed": false
   }
  },
  {
   "cell_type": "code",
   "execution_count": 23,
   "outputs": [
    {
     "data": {
      "text/plain": "   subcorpus  n_works  wordcount  n_sentences  GLAUx?  n_authors\n0    archaic       26     331410        26561      24         13\n1  christian      104    1711991       180658      19         30\n2  classical      408    4104920       319695     370         44\n3     jewish       95    1953311       166050       4          6\n4      roman      596   11481179       932972     409         97",
      "text/html": "<div>\n<style scoped>\n    .dataframe tbody tr th:only-of-type {\n        vertical-align: middle;\n    }\n\n    .dataframe tbody tr th {\n        vertical-align: top;\n    }\n\n    .dataframe thead th {\n        text-align: right;\n    }\n</style>\n<table border=\"1\" class=\"dataframe\">\n  <thead>\n    <tr style=\"text-align: right;\">\n      <th></th>\n      <th>subcorpus</th>\n      <th>n_works</th>\n      <th>wordcount</th>\n      <th>n_sentences</th>\n      <th>GLAUx?</th>\n      <th>n_authors</th>\n    </tr>\n  </thead>\n  <tbody>\n    <tr>\n      <th>0</th>\n      <td>archaic</td>\n      <td>26</td>\n      <td>331410</td>\n      <td>26561</td>\n      <td>24</td>\n      <td>13</td>\n    </tr>\n    <tr>\n      <th>1</th>\n      <td>christian</td>\n      <td>104</td>\n      <td>1711991</td>\n      <td>180658</td>\n      <td>19</td>\n      <td>30</td>\n    </tr>\n    <tr>\n      <th>2</th>\n      <td>classical</td>\n      <td>408</td>\n      <td>4104920</td>\n      <td>319695</td>\n      <td>370</td>\n      <td>44</td>\n    </tr>\n    <tr>\n      <th>3</th>\n      <td>jewish</td>\n      <td>95</td>\n      <td>1953311</td>\n      <td>166050</td>\n      <td>4</td>\n      <td>6</td>\n    </tr>\n    <tr>\n      <th>4</th>\n      <td>roman</td>\n      <td>596</td>\n      <td>11481179</td>\n      <td>932972</td>\n      <td>409</td>\n      <td>97</td>\n    </tr>\n  </tbody>\n</table>\n</div>"
     },
     "execution_count": 23,
     "metadata": {},
     "output_type": "execute_result"
    }
   ],
   "source": [
    "df_sum = LAGT.groupby(\"subcorpus\").sum()[[\"wordcount\", \"n_sentences\", \"GLAUx?\"]]\n",
    "subcorpora_overview = pd.merge(df_size, df_sum.reset_index())\n",
    "subcorpora_overview[\"n_authors\"] = n_authors\n",
    "subcorpora_overview"
   ],
   "metadata": {
    "collapsed": false
   }
  },
  {
   "cell_type": "code",
   "execution_count": 24,
   "outputs": [],
   "source": [
    "cols = ['subcorpus', 'n_authors', 'n_works', 'wordcount', 'n_sentences', 'GLAUx?']"
   ],
   "metadata": {
    "collapsed": false
   }
  },
  {
   "cell_type": "code",
   "execution_count": 25,
   "outputs": [
    {
     "data": {
      "text/plain": "           n_authors  n_works  wordcount  n_sentences  GLAUx?\nsubcorpus                                                    \narchaic           13       26     331410        26561      24\nchristian         30      104    1711991       180658      19\nclassical         44      408    4104920       319695     370\njewish             6       95    1953311       166050       4\nroman             97      596   11481179       932972     409",
      "text/html": "<div>\n<style scoped>\n    .dataframe tbody tr th:only-of-type {\n        vertical-align: middle;\n    }\n\n    .dataframe tbody tr th {\n        vertical-align: top;\n    }\n\n    .dataframe thead th {\n        text-align: right;\n    }\n</style>\n<table border=\"1\" class=\"dataframe\">\n  <thead>\n    <tr style=\"text-align: right;\">\n      <th></th>\n      <th>n_authors</th>\n      <th>n_works</th>\n      <th>wordcount</th>\n      <th>n_sentences</th>\n      <th>GLAUx?</th>\n    </tr>\n    <tr>\n      <th>subcorpus</th>\n      <th></th>\n      <th></th>\n      <th></th>\n      <th></th>\n      <th></th>\n    </tr>\n  </thead>\n  <tbody>\n    <tr>\n      <th>archaic</th>\n      <td>13</td>\n      <td>26</td>\n      <td>331410</td>\n      <td>26561</td>\n      <td>24</td>\n    </tr>\n    <tr>\n      <th>christian</th>\n      <td>30</td>\n      <td>104</td>\n      <td>1711991</td>\n      <td>180658</td>\n      <td>19</td>\n    </tr>\n    <tr>\n      <th>classical</th>\n      <td>44</td>\n      <td>408</td>\n      <td>4104920</td>\n      <td>319695</td>\n      <td>370</td>\n    </tr>\n    <tr>\n      <th>jewish</th>\n      <td>6</td>\n      <td>95</td>\n      <td>1953311</td>\n      <td>166050</td>\n      <td>4</td>\n    </tr>\n    <tr>\n      <th>roman</th>\n      <td>97</td>\n      <td>596</td>\n      <td>11481179</td>\n      <td>932972</td>\n      <td>409</td>\n    </tr>\n  </tbody>\n</table>\n</div>"
     },
     "execution_count": 25,
     "metadata": {},
     "output_type": "execute_result"
    }
   ],
   "source": [
    "subcorpora_overview = subcorpora_overview[cols].set_index(\"subcorpus\")\n",
    "subcorpora_overview"
   ],
   "metadata": {
    "collapsed": false
   }
  },
  {
   "cell_type": "code",
   "execution_count": 26,
   "outputs": [
    {
     "data": {
      "text/plain": "Index(['archaic', 'christian', 'classical', 'jewish', 'roman'], dtype='object', name='subcorpus')"
     },
     "execution_count": 26,
     "metadata": {},
     "output_type": "execute_result"
    }
   ],
   "source": [
    "subcorpora_overview.index"
   ],
   "metadata": {
    "collapsed": false
   }
  },
  {
   "cell_type": "code",
   "execution_count": 27,
   "outputs": [],
   "source": [
    "LAGT_metadata = LAGT[['author_id', 'doc_id', 'GLAUx?', 'filename', 'subcorpus', 'author', 'title',\n",
    "                      'date_avr', 'provenience', 'tlg_epithet', 'n_sentences', 'wordcount']]"
   ],
   "metadata": {
    "collapsed": false
   }
  },
  {
   "cell_type": "code",
   "execution_count": 28,
   "outputs": [],
   "source": [
    "LAGT_metadata.to_json(\"../data/large_data/LAGT_metadata.json\")"
   ],
   "metadata": {
    "collapsed": false
   }
  },
  {
   "cell_type": "markdown",
   "source": [
    "# Preparing vocabularies"
   ],
   "metadata": {
    "collapsed": false
   }
  },
  {
   "cell_type": "code",
   "execution_count": 29,
   "outputs": [],
   "source": [
    "word_freqs, words, vocabulary = get_vocab(sents)"
   ],
   "metadata": {
    "collapsed": false
   }
  },
  {
   "cell_type": "code",
   "execution_count": 30,
   "outputs": [],
   "source": [
    "subcorpora = ['archaic', 'classical', 'roman', 'christian', 'jewish']"
   ],
   "metadata": {
    "collapsed": false
   }
  },
  {
   "cell_type": "code",
   "execution_count": 31,
   "outputs": [
    {
     "data": {
      "text/plain": "14746005"
     },
     "execution_count": 31,
     "metadata": {},
     "output_type": "execute_result"
    }
   ],
   "source": [
    "len(words)"
   ],
   "metadata": {
    "collapsed": false
   }
  },
  {
   "cell_type": "code",
   "execution_count": 32,
   "outputs": [
    {
     "data": {
      "text/plain": "52252"
     },
     "execution_count": 32,
     "metadata": {},
     "output_type": "execute_result"
    }
   ],
   "source": [
    "len(vocabulary)"
   ],
   "metadata": {
    "collapsed": false
   }
  },
  {
   "cell_type": "code",
   "execution_count": 33,
   "outputs": [],
   "source": [
    "subcorpora_vocabs = {}\n",
    "for sub in subcorpora:\n",
    "    subset = LAGT[LAGT[\"subcorpus\"]==sub]\n",
    "    sents = [sent for work in subset[\"lemmatized_sentences\"] for sent in work]\n",
    "    word_freqs, words, vocabulary = get_vocab(sents)\n",
    "    vocabulary = [tup[0] for tup in word_freqs][:5000]\n",
    "    subcorpora_vocabs[sub] = {\n",
    "        \"word_freqs\" : word_freqs,\n",
    "        \"words\" : words,\n",
    "        \"vocabulary\" : vocabulary\n",
    "    }"
   ],
   "metadata": {
    "collapsed": false
   }
  },
  {
   "cell_type": "code",
   "execution_count": 34,
   "outputs": [],
   "source": [
    "with open(\"../data/large_data/subcorpora_vocabs.pickle\", \"wb\") as f:\n",
    "    pickle.dump(subcorpora_vocabs, f)"
   ],
   "metadata": {
    "collapsed": false
   }
  },
  {
   "cell_type": "code",
   "execution_count": 35,
   "outputs": [
    {
     "data": {
      "text/plain": "[('εἰμί', 3428),\n ('πᾶς', 1723),\n ('ἀνήρ', 1634),\n ('ἔρχομαι', 1623),\n ('λέγω', 1506),\n ('πολύς', 1499),\n ('θεός', 1429),\n ('ἔχω', 1412),\n ('Ζεύς', 1322),\n ('φημί', 1227),\n ('μέγας', 1171),\n ('ναῦς', 1129),\n ('φίλος', 1005),\n ('ὁράω', 936),\n ('ὅδε', 915),\n ('χείρ', 912),\n ('θυμός', 899),\n ('υἱός', 756),\n ('κακός', 753),\n ('γίγνομαι', 745),\n ('Ἀχαιός', 740),\n ('πατήρ', 729),\n ('Ὀδυσσεύς', 725),\n ('δίδωμι', 675),\n ('Τρώς', 649),\n ('παῖς', 626),\n ('γῆ', 618),\n ('αὐτός', 606),\n ('οὗτος', 605),\n ('ἄνθρωπος', 589),\n ('ἐμός', 586),\n ('φέρω', 580),\n ('ἵππος', 575),\n ('ἵστημι', 573),\n ('τίθημι', 569),\n ('ἀγαθός', 569),\n ('φρήν', 559),\n ('βάλλω', 554),\n ('ἔπος', 548),\n ('οἶδα', 546),\n ('αἱρέω', 533),\n ('μῦθος', 502),\n ('πρῶτος', 492),\n ('πόλις', 492),\n ('βαίνω', 484),\n ('ἐθέλω', 478),\n ('καλός', 474),\n ('ἄγω', 465),\n ('Ἕκτωρ', 456),\n ('ἑταῖρος', 452),\n ('γυνή', 439),\n ('τις', 439),\n ('δῖος', 434),\n ('ἔργον', 434),\n ('πούς', 416),\n ('Ἀχιλλεύς', 395),\n ('ἀθάνατος', 389),\n ('δῶμα', 387),\n ('μήτηρ', 378),\n ('ἑός', 370),\n ('Ἀθήνη', 368),\n ('ἱκνέομαι', 359),\n ('λαός', 352),\n ('λόγος', 349),\n ('πόλεμος', 348),\n ('ἄναξ', 345),\n ('ἀκούω', 340),\n ('σός', 331),\n ('πείθω', 323),\n ('μέγαρον', 321),\n ('δόμος', 320),\n ('τίς', 320),\n ('δόρυ', 314),\n ('ἕκαστος', 306),\n ('ξένος', 305),\n ('τίκτω', 286),\n ('ὄρνυμι', 285),\n ('Ἀπόλλων', 285),\n ('βοῦς', 282),\n ('λαμβάνω', 278),\n ('θεά', 277),\n ('ἄλλος', 277),\n ('μάχομαι', 267),\n ('φεύγω', 265),\n ('πίπτω', 265),\n ('βροτός', 262),\n ('Ἀργεῖος', 260),\n ('πῦρ', 260),\n ('ἦμαρ', 260),\n ('μένω', 258),\n ('ἔγχος', 257),\n ('γέρων', 256),\n ('κεῖμαι', 255),\n ('ἕπομαι', 253),\n ('θνῄσκω', 250),\n ('Τηλέμαχος', 248),\n ('κύων', 247),\n ('χθών', 247),\n ('φαίνω', 246),\n ('πρόσφημι', 244),\n ('ποιέω', 242),\n ('ὄλλυμι', 241),\n ('κελεύω', 238),\n ('οἶκος', 237),\n ('Ἄρης', 237),\n ('μνηστήρ', 237),\n ('ἵημι', 235),\n ('μέλας', 235),\n ('τεύχω', 234),\n ('Ἀτρείδης', 227),\n ('ἐλαύνω', 226),\n ('λείπω', 223),\n ('μένος', 220),\n ('ἐσθλός', 220),\n ('ἔοικα', 217),\n ('ἀμείβω', 217),\n ('πάσχω', 217),\n ('νύξ', 216),\n ('χαλκός', 216),\n ('εὔχομαι', 214),\n ('εὑρίσκω', 214),\n ('καλέω', 213),\n ('τεῦχος', 212),\n ('στῆθος', 211),\n ('Αἴας', 211),\n ('δύναμαι', 210),\n ('λέων', 210),\n ('βασιλεύς', 209),\n ('μάχη', 209),\n ('θάνατος', 208),\n ('κτείνω', 208),\n ('χρύσεος', 207),\n ('προσλέγω', 207),\n ('νέος', 205),\n ('ἥλιος', 204),\n ('τελέω', 202),\n ('εὐρύς', 200),\n ('πόντος', 200),\n ('μέσος', 200),\n ('ἅπας', 199),\n ('προσαυδάω', 198),\n ('Μενέλαος', 197),\n ('φωνέω', 197),\n ('γιγνώσκω', 195),\n ('κρατερός', 194),\n ('μακρός', 193),\n ('Ἀγαμέμνων', 192),\n ('μέλλω', 192),\n ('δαμάζω', 191),\n ('κόρη', 191),\n ('αἷμα', 191),\n ('ταχύς', 191),\n ('κλύω', 190),\n ('κεφαλή', 190),\n ('ἄρχω', 189),\n ('χαίρω', 187),\n ('θάλασσα', 186),\n ('δεινός', 186),\n ('ποταμός', 186),\n ('δηλόω', 186),\n ('λύω', 185),\n ('ὦμος', 183),\n ('φράζω', 183),\n ('ἀγορεύω', 181),\n ('δίκη', 181),\n ('ὀξύς', 180),\n ('πάρειμι', 180),\n ('βία', 180),\n ('ἐκεῖνος', 180),\n ('ὁδός', 179),\n ('πέμπω', 179),\n ('δαίμων', 179),\n ('ἕτερος', 177),\n ('ὕδωρ', 176),\n ('πόνος', 175),\n ('χέω', 174),\n ('Ἥρα', 172),\n ('νόος', 172),\n ('μοῖρα', 170),\n ('νοέω', 170),\n ('δέχομαι', 169),\n ('οἶος', 169),\n ('θυγάτηρ', 168),\n ('δῶρον', 168),\n ('πέλω', 168),\n ('ἐρύω', 164),\n ('ἐάω', 163),\n ('ἄνωγα', 163),\n ('οὐρανός', 163),\n ('ὀφθαλμός', 163),\n ('στρατός', 162),\n ('θοός', 162),\n ('πυνθάνομαι', 162),\n ('μιμνῄσκω', 161),\n ('Πρίαμος', 160),\n ('γένος', 160),\n ('ἧμαι', 159),\n ('ἄστυ', 159),\n ('τρέφω', 158),\n ('Πάτροκλος', 158),\n ('δέω', 158),\n ('χρόνος', 158),\n ('ὄρος', 156),\n ('ἄνεμος', 156),\n ('Δαναοί', 155),\n ('ἱερός', 155),\n ('ἀμφότερος', 155),\n ('ἥρως', 154),\n ('ναίω', 153),\n ('τέκνον', 152),\n ('δύω', 152),\n ('βουλή', 151),\n ('οἴομαι', 151),\n ('λανθάνω', 150),\n ('πτερόεις', 149),\n ('θνητός', 149),\n ('τόσος', 146),\n ('οἶνος', 146),\n ('Ὄλυμπος', 145),\n ('χρή', 145),\n ('ὀτρύνω', 145),\n ('ἅλς', 144),\n ('οὐδείς', 144),\n ('ἴσος', 143),\n ('ὕπνος', 142),\n ('πεδίον', 142),\n ('τυγχάνω', 142),\n ('ὠκύς', 141),\n ('πατρίς', 141),\n ('μείγνυμι', 141),\n ('δῆμος', 140),\n ('φρονέω', 139),\n ('κῦμα', 138),\n ('δείδω', 137),\n ('γόνυ', 137),\n ('πράσσω', 136),\n ('μόνος', 136),\n ('τόξον', 135),\n ('χρώς', 134),\n ('ἄλοχος', 133),\n ('ἱκάνω', 133),\n ('ψυχή', 132),\n ('φιλέω', 132),\n ('τεῖχος', 132),\n ('βέλος', 131),\n ('ἠώς', 131),\n ('δοκέω', 131),\n ('τιμή', 129),\n ('παύω', 129),\n ('πρότερος', 129),\n ('ἡμέτερος', 128),\n ('φώς', 128),\n ('τὶς', 127),\n ('κίω', 126),\n ('ἀπαμείβομαι', 126),\n ('ἀμύμων', 125),\n ('χάρις', 125),\n ('Ἴλιος', 124),\n ('μέμαα', 124),\n ('τέρπω', 123),\n ('κλισία', 122),\n ('πίνω', 122),\n ('ἄλγος', 121),\n ('οἴχομαι', 121),\n ('βούλομαι', 121),\n ('δάκρυον', 120),\n ('φάος', 120),\n ('αὐδάω', 119),\n ('καρδία', 119),\n ('πόσις', 119),\n ('χάλκεος', 119),\n ('κλυτός', 119),\n ('ἀχέω', 118),\n ('Νέστωρ', 118),\n ('τοῖος', 118),\n ('ἦτορ', 117),\n ('πύλη', 117),\n ('πόρω', 115),\n ('νικάω', 115),\n ('ἀσπίς', 115),\n ('ῥέζω', 114),\n ('καλύπτω', 114),\n ('Ἑρμῆς', 114),\n ('νῆσος', 113),\n ('δίφρος', 113),\n ('ἀπόλλυμι', 112),\n ('πειράω', 112),\n ('ἅρμα', 112),\n ('εἰσοράω', 112),\n ('κέλομαι', 111),\n ('πῆμα', 111),\n ('ἀγλαός', 110),\n ('γλαυκῶπις', 110),\n ('τλάω', 110),\n ('κλαίω', 110),\n ('εὐνή', 110),\n ('θεῖος', 110),\n ('ἐχθρός', 109),\n ('τρέπω', 109),\n ('κάρα', 109),\n ('πυκνός', 109),\n ('θεάομαι', 109),\n ('ἐπέρχομαι', 108),\n ('ἀμύνω', 108),\n ('κῆρυξ', 108),\n ('φιλότης', 108),\n ('ἀρετή', 107),\n ('Ποσειδῶν', 106),\n ('ὅμιλος', 106),\n ('λύκος', 106),\n ('ποιμήν', 105),\n ('παρίστημι', 105),\n ('νέμω', 105),\n ('ἕζομαι', 104),\n ('μῆλον', 104),\n ('ἀνίστημι', 103),\n ('πότνια', 103),\n ('πέτρα', 103),\n ('χρυσός', 103),\n ('φόβος', 103),\n ('φαεινός', 103),\n ('Κρονίων', 102),\n ('μάκαρ', 101),\n ('ἀλκή', 101),\n ('τέλος', 100),\n ('κέαρ', 98),\n ('κῦδος', 98),\n ('μέλω', 98),\n ('Τροία', 97),\n ('γλυκύς', 97),\n ('δαίς', 97),\n ('ἀείρω', 97),\n ('φυλάσσω', 97),\n ('σάκος', 97),\n ('νεκρός', 97),\n ('ὄνος', 97),\n ('νέομαι', 96),\n ('ἀντίος', 96),\n ('ἀείδω', 95),\n ('εἷμα', 95),\n ('κλέος', 95),\n ('τύχη', 95),\n ('ἀλώπηξ', 95),\n ('Φοῖβος', 94),\n ('λευκός', 94),\n ('ὗς', 92),\n ('σῴζω', 91),\n ('αἰνός', 91),\n ('θέω', 91),\n ('βοή', 91),\n ('Ἀφροδίτη', 91),\n ('τοιοῦτος', 91),\n ('χολόω', 90),\n ('ἀραρίσκω', 90),\n ('νήπιος', 90),\n ('ὀπάζω', 90),\n ('ἔρις', 89),\n ('καίω', 89),\n ('χαλεπός', 89),\n ('γλαφυρός', 89),\n ('γάμος', 89),\n ('ἠμί', 88),\n ('πολύμητις', 88),\n ('φόνος', 88),\n ('ἐπιβαίνω', 88),\n ('ἄχος', 87),\n ('ἀοιδή', 87),\n ('ὄλεθρος', 87),\n ('ἀνάσσω', 86),\n ('ἕλκω', 86),\n ('ζωός', 86),\n ('θύρα', 86),\n ('ἀγορά', 85),\n ('φωνή', 85),\n ('σῖτος', 85),\n ('ναός', 84),\n ('τεός', 84),\n ('ἄμφω', 84),\n ('ὄμμα', 84),\n ('Μοῦσα', 84),\n ('βοάω', 84),\n ('ὥρα', 84),\n ('Αἰνείας', 84),\n ('θάλαμος', 84),\n ('ἀνάγκη', 84),\n ('λίσσομαι', 83),\n ('τιμάω', 83),\n ('γενεά', 83),\n ('ἵζω', 83),\n ('θείνω', 83),\n ('ἀργαλέος', 83),\n ('ὄρνις', 83),\n ('Διομήδης', 83),\n ('διώκω', 83),\n ('Πηνελόπεια', 83),\n ('κρατέω', 82),\n ('ἔρδω', 82),\n ('νόστος', 82),\n ('ὑψηλός', 82),\n ('πέπνυμαι', 82),\n ('βωμός', 81),\n ('στόμα', 81),\n ('κρέας', 81),\n ('φαίδιμος', 81),\n ('χράω', 81),\n ('μεγάθυμος', 80),\n ('κήρ', 80),\n ('ἄτη', 80),\n ('Ἥφαιστος', 80),\n ('ἔλπω', 80),\n ('ἀφικνέομαι', 80),\n ('βαρύς', 79),\n ('γέρας', 79),\n ('Ἰδομενεύς', 79),\n ('Παλλάς', 79),\n ('χιτών', 79),\n ('Ἰθάκη', 79),\n ('ἆθλος', 79),\n ('δίκαιος', 79),\n ('Ὀλύμπιος', 78),\n ('τίνω', 78),\n ('νέκυς', 78),\n ('ἀνέχω', 78),\n ('θρόνος', 78),\n ('ἄρουρα', 78),\n ('φοβέω', 78),\n ('ξίφος', 77),\n ('κρίνω', 77),\n ('Κρονίδης', 77),\n ('ἄκρος', 77),\n ('αἰδοῖος', 77),\n ('ἀμφίπολος', 77),\n ('νίκη', 77),\n ('λαγχάνω', 77),\n ('λέχος', 76),\n ('γλῶσσα', 76),\n ('κέλευθος', 76),\n ('Πηλεύς', 76),\n ('δεύτερος', 76),\n ('τίω', 76),\n ('κατακτείνω', 76),\n ('λυγρός', 76),\n ('δόλος', 76),\n ('Ἄργος', 75),\n ('χόλος', 75),\n ('αἰγίοχος', 75),\n ('σθένος', 75),\n ('γόος', 75),\n ('Φαίαξ', 75),\n ('δεῖ', 75),\n ('μάρναμαι', 74),\n ('θεράπων', 74),\n ('τέμνω', 74),\n ('ἡδύς', 74),\n ('ἐσθίω', 74),\n ('φύω', 74),\n ('εἷς', 74),\n ('πλήσσω', 73),\n ('σῆμα', 73),\n ('βλώσκω', 73),\n ('ἀγείρω', 72),\n ('ὅρκος', 72),\n ('κράτος', 72),\n ('κομίζω', 72),\n ('καταλέγω', 72),\n ('βίος', 72),\n ('κοῖλος', 71),\n ('πίων', 71),\n ('αἴξ', 71),\n ('εὕδω', 71),\n ('σεύω', 71),\n ('μεγαλήτωρ', 71),\n ('ὄχος', 71),\n ('ἕννυμι', 71),\n ('ὄις', 71),\n ('δείκνυμι', 71),\n ('ἥκω', 71),\n ('μόρος', 71),\n ('μανθάνω', 71),\n ('Ἀλκίνοος', 71),\n ('ὄσσε', 70),\n ('Ὠκεανός', 70),\n ('ἐγείρω', 70),\n ('εἶδος', 70),\n ('ἐνέπω', 70),\n ('κονία', 70),\n ('εἰσέρχομαι', 70),\n ('κτῆμα', 70),\n ('συβώτης', 70),\n ('πρᾶγμα', 70),\n ('κρείων', 69),\n ('ὀλίγος', 69),\n ('περικαλλής', 69),\n ('Ἑλένη', 69),\n ('ἔδω', 69),\n ('Τυδεΐδης', 69),\n ('ἀγών', 69),\n ('τέκος', 68),\n ('ἐπιτέλλω', 68),\n ('ἄκων', 68),\n ('ἄγγελος', 68),\n ('τρίτος', 68),\n ('ᾍδης', 67),\n ('κιχάνω', 67),\n ('ἀντίθεος', 67),\n ('ὅμοιος', 67),\n ('μίμνω', 67),\n ('ὕλη', 67),\n ('τοκεύς', 67),\n ('πύργος', 67),\n ('παρέχω', 67),\n ('αἴρω', 67),\n ('ἡγέομαι', 66),\n ('μεταλέγω', 66),\n ('μυθέομαι', 66),\n ('ῥέω', 66),\n ('ὀδύρομαι', 66),\n ('ἐρύκω', 66),\n ('κασίγνητος', 66),\n ('αἰδέομαι', 65),\n ('ἀΐσσω', 65),\n ('Κρόνος', 65),\n ('γυῖον', 65),\n ('κατατίθημι', 65),\n ('ὁρμάω', 65),\n ('παλαιός', 65),\n ('ἀεικής', 64),\n ('προΐημι', 64),\n ('ἀναβαίνω', 64),\n ('τέχνη', 64),\n ('γῆρας', 63),\n ('κάμνω', 63),\n ('δεσμός', 63),\n ('κῆδος', 63),\n ('αἰπύς', 63),\n ('βίοτος', 63),\n ('Ἀντίλοχος', 63),\n ('μέλος', 63),\n ('ἀετός', 63),\n ('δέμας', 62),\n ('καρπός', 62),\n ('πολεμίζω', 62),\n ('θύω', 62),\n ('δαίνυμι', 62),\n ('πιστός', 62),\n ('χλαῖνα', 62),\n ('περίφρων', 62),\n ('ἡμέρα', 62),\n ('ὀνομάζω', 61),\n ('βαθύς', 61),\n ('κάθημαι', 61),\n ('δαΐφρων', 61),\n ('πέτομαι', 61),\n ('ὀστέον', 61),\n ('δμωή', 61),\n ('ἆθλον', 61),\n ('ὄλβος', 61),\n ('δεσπότης', 61),\n ('βουλεύω', 60),\n ('δεῖπνον', 60),\n ('δάϊος', 60),\n ('νόμος', 60),\n ('ὀδούς', 60),\n ('χώρα', 60),\n ('ἀφίημι', 59),\n ('ταῦρος', 59),\n ('φέρτατος', 59),\n ('θέμις', 59),\n ('τανύω', 59),\n ('νῶτον', 59),\n ('ἐφέπω', 59),\n ('νεῖκος', 59),\n ('ῥήγνυμι', 59),\n ('χειμών', 59),\n ('νύμφη', 59),\n ('ἐμβάλλω', 59),\n ('ὕμνος', 59),\n ('φθίω', 58),\n ('πολιός', 58),\n ('δέπας', 58),\n ('ἅπτω', 58),\n ('περάω', 58),\n ('μικρός', 58),\n ('ὄμνυμι', 57),\n ('κρατύς', 57),\n ('μεθίημι', 57),\n ('καταδύω', 57),\n ('Μηριόνης', 57),\n ('χῶρος', 57),\n ('αἰχμή', 57),\n ('ἐπιτίθημι', 57),\n ('νέφος', 57),\n ('ἔμπεδος', 57),\n ('κέρδος', 57),\n ('λοιπός', 57),\n ('ἴφθιμος', 56),\n ('οἰωνός', 56),\n ('δειλός', 56),\n ('ὀλοός', 56),\n ('ἄγριος', 56),\n ('καταβαίνω', 56),\n ('ἀγαυός', 56),\n ('Ἀντίνοος', 56),\n ('ὀϊστός', 55),\n ('Πηλεΐδης', 55),\n ('ἔρομαι', 55),\n ('κοιμάω', 55),\n ('κορυφή', 55),\n ('ὑσμίνη', 55),\n ('ἀγήνωρ', 55),\n ('ἵκω', 55),\n ('σῶμα', 55),\n ('ἄλκιμος', 55),\n ('τύπτω', 55),\n ('μηδείς', 55),\n ('ἐρίζω', 54),\n ('ἱστός', 54),\n ('ἀργύρεος', 54),\n ('πλοῦτος', 54),\n ('ξανθός', 54),\n ('ὕβρις', 54),\n ('εἴδομαι', 54),\n ('φορέω', 54),\n ('ὕστερος', 54),\n ('ναιετάω', 54),\n ('ἐποτρύνω', 54),\n ('οὐδός', 54),\n ('τοιόσδε', 54),\n ('νόσος', 53),\n ('Θέτις', 53),\n ('ἅλιος', 53),\n ('πότμος', 53),\n ('ἡμίονος', 53),\n ('Λύκιος', 53),\n ('καθίζω', 53),\n ('ποικίλος', 53),\n ('πίμπλημι', 52),\n ('γηθέω', 52),\n ('μήδομαι', 52),\n ('μῆτις', 52),\n ('νοστέω', 52),\n ('φῦλον', 52),\n ('στυγερός', 52),\n ('ἀκτή', 52),\n ('αἰθήρ', 52),\n ('πήγνυμι', 52),\n ('ἀρχή', 52),\n ('αἰνέω', 52),\n ('λούω', 52),\n ('διδάσκω', 52),\n ('αὐχήν', 52),\n ('ζώω', 52),\n ('αἰτέω', 52),\n ('κρύπτω', 52),\n ('ἐλπίς', 52),\n ('τόπος', 52),\n ('μυρίος', 51),\n ('ἰός', 51),\n ('αἶσα', 51),\n ('ἱππόδαμος', 51),\n ('ὀρίνω', 51),\n ('αἶα', 51),\n ('κλίνω', 51),\n ('τελευτάω', 51),\n ('φύσις', 51),\n ('σοφός', 51),\n ('πατρῷος', 51),\n ('μάντις', 50),\n ('πένθος', 50),\n ('ἐύς', 50),\n ('κόσμος', 50),\n ('γελάω', 50),\n ('πονέω', 50),\n ('σταθμός', 50),\n ('ἀγγελία', 50),\n ('ἐπεύχομαι', 50),\n ('ἁρπάζω', 50),\n ('σπεύδω', 50),\n ('αὐλή', 50),\n ('οὐτάω', 50),\n ('οὖς', 50),\n ('πρέπω', 50),\n ('πρόβατον', 50),\n ('ἀοιδός', 50),\n ('αἰτία', 50),\n ('Λητώ', 49),\n ('σκῆπτρον', 49),\n ('χώομαι', 49),\n ('ἀφαιρέω', 49),\n ('καρτερός', 49),\n ('ὠθέω', 49),\n ('κρατήρ', 49),\n ('μαλακός', 49),\n ('δηρός', 49),\n ('αὔω', 49),\n ('ἐπείγω', 49),\n ('ἐπίσταμαι', 49),\n ('ἔργω', 49),\n ('πλέω', 49),\n ('σίδηρος', 49),\n ('τείρω', 49),\n ('Ἄρτεμις', 49),\n ('ἐξέρχομαι', 49),\n ('κεδνός', 49),\n ('καιρός', 49),\n ('διογενής', 48),\n ('πελάζω', 48),\n ('αἰδώς', 48),\n ('θῆλυς', 48),\n ('ἑκών', 48),\n ('κατέχω', 48),\n ('αἰών', 48),\n ('λίθος', 48),\n ('μυχός', 48),\n ('ἄπειμι', 48),\n ('τράπεζα', 48),\n ('Κίρκη', 48),\n ('λευκώλενος', 47),\n ('κήδω', 47),\n ('ἑκατόμβη', 47),\n ('ἔλαφος', 47),\n ('Πύλος', 47),\n ('θεσπέσιος', 47),\n ('ὄνειρος', 47),\n ('στίξ', 47),\n ('Ἀλέξανδρος', 47),\n ('νηλής', 47),\n ('κόρυς', 47),\n ('ζυγόν', 47),\n ('βλάπτω', 47),\n ('κεραυνός', 47),\n ('γαμέω', 47),\n ('ἴδιος', 47),\n ('Πέρσης', 47),\n ('γεραιός', 46),\n ('πρόφρων', 46),\n ('ζάω', 46),\n ('ἴσχω', 46),\n ('ἕρκος', 46),\n ('νεικέω', 46),\n ('ἀνίημι', 46),\n ('ἐνιαυτός', 46),\n ('νεμεσάω', 46),\n ('θαυμάζω', 46),\n ('Τυδεύς', 46),\n ('Ἶρις', 46),\n ('θήρ', 46),\n ('ὀρθός', 46),\n ('χρῆμα', 46),\n ('τρόπος', 46),\n ('συμφορά', 46),\n ('θίς', 45),\n ('ἐφίημι', 45),\n ('ὀρέγω', 45),\n ('κράς', 45),\n ('ῥίπτω', 45),\n ('ἐρείδω', 45),\n ('θεοειδής', 45),\n ('εἴκω', 45),\n ('γαστήρ', 45),\n ('ἀληθής', 45),\n ('ἥβη', 45),\n ('ἁγνός', 45),\n ('ἐποίχομαι', 44),\n ('θαρσέω', 44),\n ('δέρκομαι', 44),\n ('Μυρμιδόνες', 44),\n ('θωρήσσω', 44),\n ('ἀναιρέω', 44),\n ('κοῦρος', 44),\n ('νεφεληγερέτα', 44),\n ('ἄνθος', 44),\n ('Ἀργειφόντης', 44),\n ('πνέω', 44),\n ('Δημήτηρ', 44),\n ('ῥύομαι', 44),\n ('κάματος', 44),\n ('σπέος', 44),\n ('κατέρχομαι', 44),\n ('χαρίζω', 44),\n ('κίνδυνος', 44),\n ('δατέομαι', 43),\n ('ἀπαυράω', 43),\n ('ἰάχω', 43),\n ('φόρμιγξ', 43),\n ('ἡγήτωρ', 43),\n ('θαλερός', 43),\n ('ἔτος', 43),\n ('πόρος', 43),\n ('πολίτης', 43),\n ('πεζός', 43),\n ('πρόμαχος', 43),\n ('ἔντεα', 43),\n ('ἀλέομαι', 43),\n ('ἐλεέω', 43),\n ('καταλείπω', 43),\n ('φλόξ', 43),\n ('Ἐρινύς', 43),\n ('δρόμος', 43),\n ('συμβαίνω', 43),\n ('ἁνδάνω', 42),\n ('ἐπισεύω', 42),\n ('παλάμη', 42),\n ('προσφωνέω', 42),\n ('στενάχω', 42),\n ('ἀποβαίνω', 42),\n ('νημερτής', 42),\n ('ἔθνος', 42),\n ('σχέτλιος', 42),\n ('σμερδαλέος', 42),\n ('παρθένος', 42),\n ('ἄρειος', 42),\n ('Σαρπηδών', 42),\n ('τείνω', 42),\n ('στιβαρός', 42),\n ('φάρμακον', 42),\n ('ἐρείπω', 42),\n ('ἀλλότριος', 42),\n ('πολύτλας', 42),\n ('ἀγγέλλω', 42),\n ('στέφανος', 42),\n ('πονηρός', 42),\n ('ἀράομαι', 41),\n ('μερμηρίζω', 41),\n ('εἴλω', 41),\n ('ἐκτελέω', 41),\n ('ἄσπετος', 41),\n ('ἡγεμονεύω', 41),\n ('κόλπος', 41),\n ('ἀφνειός', 41),\n ('κέρας', 41),\n ('ἀγρός', 41),\n ('πνοή', 41),\n ('θαῦμα', 41),\n ('ὀλοφύρομαι', 41),\n ('Ἐνοσίχθων', 41),\n ('μέτρον', 41),\n ('γνώμη', 41),\n ('τροφή', 41),\n ('κραίνω', 40),\n ('ὁμιλέω', 40),\n ('καθέζομαι', 40),\n ('αἶθοψ', 40),\n ('ἱππότης', 40),\n ('λίμνη', 40),\n ('ὄνομα', 40),\n ('μενεαίνω', 40),\n ('σπένδω', 40),\n ('ἀστός', 40),\n ('Εὔμαιος', 40),\n ('δράω', 40),\n ('κοινός', 40),\n ('μῦς', 40),\n ('μηρός', 39),\n ('ὀφέλλω', 39),\n ('λιμήν', 39),\n ('νωμάω', 39),\n ('λαμπρός', 39),\n ('παῦρος', 39),\n ('στείχω', 39),\n ('παντοῖος', 39),\n ('ἄλσος', 39),\n ('Τελαμώνιος', 39),\n ('ἐξαιρέω', 39),\n ('κορυθαίολος', 39),\n ('Αἰακίδης', 39),\n ('ἵμερος', 39),\n ('ἀήρ', 39),\n ('ἁμαρτάνω', 39),\n ('Χάρις', 39),\n ('Βορέας', 39),\n ('Ἡρακλέης', 39),\n ('Ὀρέστης', 39),\n ('ἀέξω', 39),\n ('τρίπους', 39),\n ('βλέφαρον', 39),\n ('τάλας', 39),\n ('κάρηνον', 38),\n ('ἀρχός', 38),\n ('ἀντίον', 38),\n ('ἤπειρος', 38),\n ('ὄψ', 38),\n ('ἕδρα', 38),\n ('ἐπίκουρος', 38),\n ('Λαερτιάδης', 38),\n ('μῆδος', 38),\n ('ἀδελφός', 38),\n ('αὐγή', 38),\n ('λειμών', 38),\n ('ῥεῖθρον', 38),\n ('οἰκέω', 38),\n ('δυσμενής', 38),\n ('ὄβριμος', 38),\n ('γραῦς', 38),\n ('θρῴσκω', 38),\n ('πικρός', 38),\n ('δεξιός', 38),\n ('ἀκοντίζω', 38),\n ('θρασύς', 38),\n ('τάφρος', 38),\n ('ξένιος', 38),\n ('ὄφις', 38),\n ('ἐργάζομαι', 38),\n ('δμώς', 38),\n ('εὔκομος', 37),\n ('μογέω', 37),\n ('αὐδή', 37),\n ('ὀφείλω', 37),\n ('ὑπισχνέομαι', 37),\n ('δαίω', 37),\n ('ἄκοιτις', 37),\n ('ζεύγνυμι', 37),\n ('λάμπω', 37),\n ('ἐξεναρίζω', 37),\n ('ἡνίοχος', 37),\n ('στένω', 37),\n ('ὅπλον', 37),\n ('δρῦς', 37),\n ('οἰκεῖος', 37),\n ('ἐυκνήμις', 36),\n ('πείρω', 36),\n ('τυτθός', 36),\n ('ἕδος', 36),\n ('φᾶρος', 36),\n ('λιπαρός', 36),\n ('πληγή', 36),\n ('δάω', 36),\n ('Γερήνιος', 36),\n ('ἡγεμών', 36),\n ('θώραξ', 36),\n ('φάλαγξ', 36),\n ('Ἑλλάς', 36),\n ('Πριαμίδης', 36),\n ('ἡνία', 36),\n ('παχύς', 36),\n ('ἐμπίπτω', 36),\n ('σέβω', 36),\n ('ἀνέρχομαι', 36),\n ('ἀποκτείνω', 36),\n ('οὐτάζω', 36),\n ('κλείς', 36),\n ('ὑμέτερος', 36),\n ('ἀπέχω', 36),\n ('διοτρεφής', 36),\n ('λεπτός', 36),\n ('δόξα', 36),\n ('Κύκλωψ', 36),\n ('σεμνός', 36),\n ('πάθος', 36),\n ('γεωργός', 36),\n ('κλέπτω', 35),\n ('δεύω', 35),\n ('αἰχμητής', 35),\n ('πτολίεθρον', 35),\n ('ὁρμαίνω', 35),\n ('ἀπειθέω', 35),\n ('ἀυτή', 35),\n ('εὐρύοπα', 35),\n ('ἅλλομαι', 35),\n ('δαιμόνιος', 35),\n ('ἔξοχος', 35),\n ('ἐπαινέω', 35),\n ('ἀθρόος', 35),\n ('ἐρατεινός', 35),\n ('Ἴδη', 35),\n ('κυρέω', 35),\n ('χάζω', 35),\n ('εὔφρων', 35),\n ('χάλκειος', 35),\n ('χορός', 35),\n ('ἐναντίος', 35),\n ('ἐκφεύγω', 35),\n ('στρέφω', 35),\n ('πέπλος', 35),\n ('οὖδας', 35),\n ('θερμός', 35),\n ('μισθός', 35),\n ('ὄλβιος', 35),\n ('οὔτις', 35),\n ('ἀρήγω', 34),\n ('λήγω', 34),\n ('ταρβέω', 34),\n ('ἔρος', 34),\n ('πορφύρεος', 34),\n ('ποθέω', 34),\n ('ἀμβρόσιος', 34),\n ('κομάω', 34),\n ('κρήνη', 34),\n ('ἁλίσκομαι', 34),\n ('πάλλω', 34),\n ('κερδίων', 34),\n ('θρίξ', 34),\n ('κυδάλιμος', 34),\n ('παπταίνω', 34),\n ('μῶνυξ', 34),\n ('ἐφίστημι', 34),\n ('γόνος', 34),\n ('ἄξιος', 34),\n ('πομπή', 34),\n ('δόρπον', 34),\n ...]"
     },
     "execution_count": 35,
     "metadata": {},
     "output_type": "execute_result"
    }
   ],
   "source": [
    "subcorpora_vocabs[\"archaic\"][\"word_freqs\"]"
   ],
   "metadata": {
    "collapsed": false
   }
  },
  {
   "cell_type": "code",
   "execution_count": 36,
   "outputs": [],
   "source": [
    "religion_final = [\"θεός\", \"Ζεύς\", \"εὐσεβής\", 'ἱερός']\n",
    "morality_final = [\"ἀγαθός\", \"ἀρετή\", \"δίκαιος\", \"τιμή\"]\n",
    "keywords = religion_final + morality_final"
   ],
   "metadata": {
    "collapsed": false
   }
  },
  {
   "cell_type": "code",
   "execution_count": 38,
   "outputs": [],
   "source": [
    "subcorpus_keywords = []\n",
    "for sub in subcorpora:\n",
    "    for keyword in keywords:\n",
    "        if keyword in subcorpora_vocabs[sub][\"words\"]:\n",
    "            word_freqs = subcorpora_vocabs[sub][\"word_freqs\"]\n",
    "            wordcount = sum([t[1] for t in word_freqs])\n",
    "            for tup in enumerate(word_freqs):\n",
    "                if tup[1][0] == keyword:\n",
    "                    rank = tup[0]\n",
    "                    rank_ratio = np.round(rank / len(word_freqs), 5)\n",
    "                    count = tup[1][1]\n",
    "                    freq = np.round(count / wordcount, 5)\n",
    "                    subcorpus_keywords.append([sub, keyword, rank, rank_ratio, count, freq])\n",
    "                    break\n",
    "        else:\n",
    "            subcorpus_keywords.append([sub, keyword, None, None, None, None])"
   ],
   "metadata": {
    "collapsed": false
   }
  },
  {
   "cell_type": "code",
   "execution_count": 39,
   "outputs": [
    {
     "data": {
      "text/plain": "18311"
     },
     "execution_count": 39,
     "metadata": {},
     "output_type": "execute_result"
    }
   ],
   "source": [
    "sub = \"archaic\"\n",
    "word_freqs = subcorpora_vocabs[sub][\"word_freqs\"]\n",
    "len(word_freqs)"
   ],
   "metadata": {
    "collapsed": false
   }
  },
  {
   "cell_type": "code",
   "execution_count": 40,
   "outputs": [
    {
     "name": "stdout",
     "output_type": "stream",
     "text": [
      "(2545, ('εὐσεβής', 11))\n"
     ]
    }
   ],
   "source": [
    "keyword = \"εὐσεβής\"\n",
    "for tup in enumerate(word_freqs):\n",
    "    if tup[1][0] == keyword:\n",
    "        print(tup)"
   ],
   "metadata": {
    "collapsed": false
   }
  },
  {
   "cell_type": "code",
   "execution_count": 41,
   "outputs": [
    {
     "data": {
      "text/plain": "0.13899"
     },
     "execution_count": 41,
     "metadata": {},
     "output_type": "execute_result"
    }
   ],
   "source": [
    "np.round(2545 / 18311, 5)"
   ],
   "metadata": {
    "collapsed": false
   }
  },
  {
   "cell_type": "code",
   "execution_count": 42,
   "outputs": [
    {
     "data": {
      "text/plain": "    subcorpus  keyword  rank  rank_ratio  count     freq\n0     archaic     θεός     6     0.00033   1429  0.00730\n1     archaic     Ζεύς     8     0.00044   1322  0.00676\n2     archaic  εὐσεβής  2545     0.13899     11  0.00006\n3     archaic    ἱερός   205     0.01120    155  0.00079\n4     archaic   ἀγαθός    35     0.00191    569  0.00291\n5     archaic    ἀρετή   306     0.01671    107  0.00055\n6     archaic  δίκαιος   418     0.02283     79  0.00040\n7     archaic     τιμή   247     0.01349    129  0.00066\n8   classical     θεός    37     0.00051   5050  0.00245\n9   classical     Ζεύς    89     0.00124   2693  0.00131\n10  classical  εὐσεβής  2386     0.03314     99  0.00005\n11  classical    ἱερός   252     0.00350   1114  0.00054\n12  classical   ἀγαθός    19     0.00026   8934  0.00434\n13  classical    ἀρετή   116     0.00161   2232  0.00108\n14  classical  δίκαιος    67     0.00093   3360  0.00163\n15  classical     τιμή   365     0.00507    800  0.00039\n16      roman     θεός    39     0.00014  11715  0.00207\n17      roman     Ζεύς   105     0.00038   5821  0.00103\n18      roman  εὐσεβής  3311     0.01205    189  0.00003\n19      roman    ἱερός   206     0.00075   3278  0.00058\n20      roman   ἀγαθός    21     0.00008  16404  0.00290\n21      roman    ἀρετή   150     0.00055   4370  0.00077\n22      roman  δίκαιος   216     0.00079   3163  0.00056\n23      roman     τιμή   320     0.00117   2232  0.00039\n24  christian     θεός     2     0.00003  13922  0.01972\n25  christian     Ζεύς    92     0.00138   1005  0.00142\n26  christian  εὐσεβής  1064     0.01592     87  0.00012\n27  christian    ἱερός   647     0.00968    153  0.00022\n28  christian   ἀγαθός    31     0.00046   2034  0.00288\n29  christian    ἀρετή   101     0.00151    894  0.00127\n30  christian  δίκαιος    65     0.00097   1231  0.00174\n31  christian     τιμή   288     0.00431    351  0.00050\n32     jewish     θεός     6     0.00006   9115  0.00953\n33     jewish     Ζεύς   450     0.00429    309  0.00032\n34     jewish  εὐσεβής  1460     0.01392     93  0.00010\n35     jewish    ἱερός   122     0.00116    933  0.00098\n36     jewish   ἀγαθός    31     0.00030   2483  0.00260\n37     jewish    ἀρετή    60     0.00057   1448  0.00151\n38     jewish  δίκαιος    93     0.00089   1115  0.00117\n39     jewish     τιμή   137     0.00131    795  0.00083",
      "text/html": "<div>\n<style scoped>\n    .dataframe tbody tr th:only-of-type {\n        vertical-align: middle;\n    }\n\n    .dataframe tbody tr th {\n        vertical-align: top;\n    }\n\n    .dataframe thead th {\n        text-align: right;\n    }\n</style>\n<table border=\"1\" class=\"dataframe\">\n  <thead>\n    <tr style=\"text-align: right;\">\n      <th></th>\n      <th>subcorpus</th>\n      <th>keyword</th>\n      <th>rank</th>\n      <th>rank_ratio</th>\n      <th>count</th>\n      <th>freq</th>\n    </tr>\n  </thead>\n  <tbody>\n    <tr>\n      <th>0</th>\n      <td>archaic</td>\n      <td>θεός</td>\n      <td>6</td>\n      <td>0.00033</td>\n      <td>1429</td>\n      <td>0.00730</td>\n    </tr>\n    <tr>\n      <th>1</th>\n      <td>archaic</td>\n      <td>Ζεύς</td>\n      <td>8</td>\n      <td>0.00044</td>\n      <td>1322</td>\n      <td>0.00676</td>\n    </tr>\n    <tr>\n      <th>2</th>\n      <td>archaic</td>\n      <td>εὐσεβής</td>\n      <td>2545</td>\n      <td>0.13899</td>\n      <td>11</td>\n      <td>0.00006</td>\n    </tr>\n    <tr>\n      <th>3</th>\n      <td>archaic</td>\n      <td>ἱερός</td>\n      <td>205</td>\n      <td>0.01120</td>\n      <td>155</td>\n      <td>0.00079</td>\n    </tr>\n    <tr>\n      <th>4</th>\n      <td>archaic</td>\n      <td>ἀγαθός</td>\n      <td>35</td>\n      <td>0.00191</td>\n      <td>569</td>\n      <td>0.00291</td>\n    </tr>\n    <tr>\n      <th>5</th>\n      <td>archaic</td>\n      <td>ἀρετή</td>\n      <td>306</td>\n      <td>0.01671</td>\n      <td>107</td>\n      <td>0.00055</td>\n    </tr>\n    <tr>\n      <th>6</th>\n      <td>archaic</td>\n      <td>δίκαιος</td>\n      <td>418</td>\n      <td>0.02283</td>\n      <td>79</td>\n      <td>0.00040</td>\n    </tr>\n    <tr>\n      <th>7</th>\n      <td>archaic</td>\n      <td>τιμή</td>\n      <td>247</td>\n      <td>0.01349</td>\n      <td>129</td>\n      <td>0.00066</td>\n    </tr>\n    <tr>\n      <th>8</th>\n      <td>classical</td>\n      <td>θεός</td>\n      <td>37</td>\n      <td>0.00051</td>\n      <td>5050</td>\n      <td>0.00245</td>\n    </tr>\n    <tr>\n      <th>9</th>\n      <td>classical</td>\n      <td>Ζεύς</td>\n      <td>89</td>\n      <td>0.00124</td>\n      <td>2693</td>\n      <td>0.00131</td>\n    </tr>\n    <tr>\n      <th>10</th>\n      <td>classical</td>\n      <td>εὐσεβής</td>\n      <td>2386</td>\n      <td>0.03314</td>\n      <td>99</td>\n      <td>0.00005</td>\n    </tr>\n    <tr>\n      <th>11</th>\n      <td>classical</td>\n      <td>ἱερός</td>\n      <td>252</td>\n      <td>0.00350</td>\n      <td>1114</td>\n      <td>0.00054</td>\n    </tr>\n    <tr>\n      <th>12</th>\n      <td>classical</td>\n      <td>ἀγαθός</td>\n      <td>19</td>\n      <td>0.00026</td>\n      <td>8934</td>\n      <td>0.00434</td>\n    </tr>\n    <tr>\n      <th>13</th>\n      <td>classical</td>\n      <td>ἀρετή</td>\n      <td>116</td>\n      <td>0.00161</td>\n      <td>2232</td>\n      <td>0.00108</td>\n    </tr>\n    <tr>\n      <th>14</th>\n      <td>classical</td>\n      <td>δίκαιος</td>\n      <td>67</td>\n      <td>0.00093</td>\n      <td>3360</td>\n      <td>0.00163</td>\n    </tr>\n    <tr>\n      <th>15</th>\n      <td>classical</td>\n      <td>τιμή</td>\n      <td>365</td>\n      <td>0.00507</td>\n      <td>800</td>\n      <td>0.00039</td>\n    </tr>\n    <tr>\n      <th>16</th>\n      <td>roman</td>\n      <td>θεός</td>\n      <td>39</td>\n      <td>0.00014</td>\n      <td>11715</td>\n      <td>0.00207</td>\n    </tr>\n    <tr>\n      <th>17</th>\n      <td>roman</td>\n      <td>Ζεύς</td>\n      <td>105</td>\n      <td>0.00038</td>\n      <td>5821</td>\n      <td>0.00103</td>\n    </tr>\n    <tr>\n      <th>18</th>\n      <td>roman</td>\n      <td>εὐσεβής</td>\n      <td>3311</td>\n      <td>0.01205</td>\n      <td>189</td>\n      <td>0.00003</td>\n    </tr>\n    <tr>\n      <th>19</th>\n      <td>roman</td>\n      <td>ἱερός</td>\n      <td>206</td>\n      <td>0.00075</td>\n      <td>3278</td>\n      <td>0.00058</td>\n    </tr>\n    <tr>\n      <th>20</th>\n      <td>roman</td>\n      <td>ἀγαθός</td>\n      <td>21</td>\n      <td>0.00008</td>\n      <td>16404</td>\n      <td>0.00290</td>\n    </tr>\n    <tr>\n      <th>21</th>\n      <td>roman</td>\n      <td>ἀρετή</td>\n      <td>150</td>\n      <td>0.00055</td>\n      <td>4370</td>\n      <td>0.00077</td>\n    </tr>\n    <tr>\n      <th>22</th>\n      <td>roman</td>\n      <td>δίκαιος</td>\n      <td>216</td>\n      <td>0.00079</td>\n      <td>3163</td>\n      <td>0.00056</td>\n    </tr>\n    <tr>\n      <th>23</th>\n      <td>roman</td>\n      <td>τιμή</td>\n      <td>320</td>\n      <td>0.00117</td>\n      <td>2232</td>\n      <td>0.00039</td>\n    </tr>\n    <tr>\n      <th>24</th>\n      <td>christian</td>\n      <td>θεός</td>\n      <td>2</td>\n      <td>0.00003</td>\n      <td>13922</td>\n      <td>0.01972</td>\n    </tr>\n    <tr>\n      <th>25</th>\n      <td>christian</td>\n      <td>Ζεύς</td>\n      <td>92</td>\n      <td>0.00138</td>\n      <td>1005</td>\n      <td>0.00142</td>\n    </tr>\n    <tr>\n      <th>26</th>\n      <td>christian</td>\n      <td>εὐσεβής</td>\n      <td>1064</td>\n      <td>0.01592</td>\n      <td>87</td>\n      <td>0.00012</td>\n    </tr>\n    <tr>\n      <th>27</th>\n      <td>christian</td>\n      <td>ἱερός</td>\n      <td>647</td>\n      <td>0.00968</td>\n      <td>153</td>\n      <td>0.00022</td>\n    </tr>\n    <tr>\n      <th>28</th>\n      <td>christian</td>\n      <td>ἀγαθός</td>\n      <td>31</td>\n      <td>0.00046</td>\n      <td>2034</td>\n      <td>0.00288</td>\n    </tr>\n    <tr>\n      <th>29</th>\n      <td>christian</td>\n      <td>ἀρετή</td>\n      <td>101</td>\n      <td>0.00151</td>\n      <td>894</td>\n      <td>0.00127</td>\n    </tr>\n    <tr>\n      <th>30</th>\n      <td>christian</td>\n      <td>δίκαιος</td>\n      <td>65</td>\n      <td>0.00097</td>\n      <td>1231</td>\n      <td>0.00174</td>\n    </tr>\n    <tr>\n      <th>31</th>\n      <td>christian</td>\n      <td>τιμή</td>\n      <td>288</td>\n      <td>0.00431</td>\n      <td>351</td>\n      <td>0.00050</td>\n    </tr>\n    <tr>\n      <th>32</th>\n      <td>jewish</td>\n      <td>θεός</td>\n      <td>6</td>\n      <td>0.00006</td>\n      <td>9115</td>\n      <td>0.00953</td>\n    </tr>\n    <tr>\n      <th>33</th>\n      <td>jewish</td>\n      <td>Ζεύς</td>\n      <td>450</td>\n      <td>0.00429</td>\n      <td>309</td>\n      <td>0.00032</td>\n    </tr>\n    <tr>\n      <th>34</th>\n      <td>jewish</td>\n      <td>εὐσεβής</td>\n      <td>1460</td>\n      <td>0.01392</td>\n      <td>93</td>\n      <td>0.00010</td>\n    </tr>\n    <tr>\n      <th>35</th>\n      <td>jewish</td>\n      <td>ἱερός</td>\n      <td>122</td>\n      <td>0.00116</td>\n      <td>933</td>\n      <td>0.00098</td>\n    </tr>\n    <tr>\n      <th>36</th>\n      <td>jewish</td>\n      <td>ἀγαθός</td>\n      <td>31</td>\n      <td>0.00030</td>\n      <td>2483</td>\n      <td>0.00260</td>\n    </tr>\n    <tr>\n      <th>37</th>\n      <td>jewish</td>\n      <td>ἀρετή</td>\n      <td>60</td>\n      <td>0.00057</td>\n      <td>1448</td>\n      <td>0.00151</td>\n    </tr>\n    <tr>\n      <th>38</th>\n      <td>jewish</td>\n      <td>δίκαιος</td>\n      <td>93</td>\n      <td>0.00089</td>\n      <td>1115</td>\n      <td>0.00117</td>\n    </tr>\n    <tr>\n      <th>39</th>\n      <td>jewish</td>\n      <td>τιμή</td>\n      <td>137</td>\n      <td>0.00131</td>\n      <td>795</td>\n      <td>0.00083</td>\n    </tr>\n  </tbody>\n</table>\n</div>"
     },
     "execution_count": 42,
     "metadata": {},
     "output_type": "execute_result"
    }
   ],
   "source": [
    "subcorpus_keywords_df = pd.DataFrame(subcorpus_keywords, columns=[\"subcorpus\", \"keyword\", \"rank\", \"rank_ratio\", \"count\", \"freq\"])\n",
    "subcorpus_keywords_df"
   ],
   "metadata": {
    "collapsed": false
   }
  },
  {
   "cell_type": "code",
   "execution_count": 91,
   "outputs": [
    {
     "data": {
      "text/plain": "5000"
     },
     "execution_count": 91,
     "metadata": {},
     "output_type": "execute_result"
    }
   ],
   "source": [
    "len(subcorpora_vocabs[\"archaic\"][\"vocabulary\"])"
   ],
   "metadata": {
    "collapsed": false
   }
  },
  {
   "cell_type": "code",
   "execution_count": 96,
   "outputs": [],
   "source": [
    "shared_vocabulary = list((set(subcorpora_vocabs[\"archaic\"][\"vocabulary\"])\n",
    "    & set(subcorpora_vocabs[\"classical\"][\"vocabulary\"])\n",
    "    & set(subcorpora_vocabs[\"roman\"][\"vocabulary\"])\n",
    "    & set(subcorpora_vocabs[\"jewish\"][\"vocabulary\"])\n",
    "    & set(subcorpora_vocabs[\"christian\"][\"vocabulary\"])))"
   ],
   "metadata": {
    "collapsed": false
   }
  },
  {
   "cell_type": "code",
   "execution_count": 98,
   "outputs": [
    {
     "data": {
      "text/plain": "1483"
     },
     "execution_count": 98,
     "metadata": {},
     "output_type": "execute_result"
    }
   ],
   "source": [
    "len(shared_vocabulary)"
   ],
   "metadata": {
    "collapsed": false
   }
  },
  {
   "cell_type": "code",
   "execution_count": 99,
   "outputs": [
    {
     "data": {
      "text/plain": "['ἀπολύω',\n 'κρέας',\n 'φιάλη',\n 'ἀνάπτω',\n 'θαρσέω',\n 'νεφέλη',\n 'Ἑλένη',\n 'ἀποστερέω',\n 'στάσις',\n 'ἐπιδίδωμι']"
     },
     "execution_count": 99,
     "metadata": {},
     "output_type": "execute_result"
    }
   ],
   "source": [
    "shared_vocabulary[:10]"
   ],
   "metadata": {
    "collapsed": false
   }
  },
  {
   "cell_type": "code",
   "execution_count": 102,
   "outputs": [],
   "source": [
    "with open(\"../data/shared_vocabulary.pickle\", \"wb\") as f:\n",
    "    pickle.dump(shared_vocabulary, f)"
   ],
   "metadata": {
    "collapsed": false
   }
  },
  {
   "cell_type": "code",
   "execution_count": null,
   "outputs": [],
   "source": [],
   "metadata": {
    "collapsed": false
   }
  }
 ],
 "metadata": {
  "kernelspec": {
   "name": "conda_base",
   "language": "python",
   "display_name": "conda_base"
  },
  "language_info": {
   "codemirror_mode": {
    "name": "ipython",
    "version": 2
   },
   "file_extension": ".py",
   "mimetype": "text/x-python",
   "name": "python",
   "nbconvert_exporter": "python",
   "pygments_lexer": "ipython2",
   "version": "2.7.6"
  }
 },
 "nbformat": 4,
 "nbformat_minor": 0
}
