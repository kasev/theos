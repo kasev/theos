{
 "cells": [
  {
   "cell_type": "markdown",
   "metadata": {
    "pycharm": {
     "name": "#%% md\n"
    }
   },
   "source": [
    "# Requirements"
   ]
  },
  {
   "cell_type": "code",
   "execution_count": 1,
   "metadata": {
    "pycharm": {
     "name": "#%%\n"
    }
   },
   "outputs": [],
   "source": [
    "import math\n",
    "import pickle\n",
    "import pandas as pd\n",
    "import numpy as np\n",
    "import requests\n",
    "import nltk\n",
    "\n",
    "import matplotlib.pyplot as plt\n",
    "\n",
    "from sklearn.feature_extraction.text import CountVectorizer\n",
    "from sklearn.decomposition import TruncatedSVD \n",
    "from sklearn.manifold import TSNE\n",
    "from sklearn.metrics.pairwise import cosine_similarity"
   ]
  },
  {
   "cell_type": "markdown",
   "metadata": {
    "pycharm": {
     "name": "#%% md\n"
    }
   },
   "source": [
    "# Read data"
   ]
  },
  {
   "cell_type": "code",
   "execution_count": 2,
   "metadata": {
    "pycharm": {
     "name": "#%%\n"
    }
   },
   "outputs": [],
   "source": [
    "# LAGT (v1.0.1) dataset directly from Zenodo\n",
    "resp = requests.get(\"https://zenodo.org/record/4971946/files/LAGT_v1-0.json?download=1\")\n",
    "LAGT = pd.DataFrame(resp.json())"
   ]
  },
  {
   "cell_type": "code",
   "execution_count": 3,
   "metadata": {
    "pycharm": {
     "name": "#%%\n"
    }
   },
   "outputs": [],
   "source": [
    "LAGT[\"lemmata\"] = LAGT[\"lemmatized_sentences\"].apply(lambda x: [item for sublist in x for item in sublist])"
   ]
  },
  {
   "cell_type": "code",
   "execution_count": 4,
   "metadata": {
    "pycharm": {
     "name": "#%%\n"
    }
   },
   "outputs": [
    {
     "name": "stderr",
     "output_type": "stream",
     "text": [
      "  % Total    % Received % Xferd  Average Speed   Time    Time     Time  Current\n",
      "                                 Dload  Upload   Total   Spent    Left  Speed\n",
      "\r",
      "  0     0    0     0    0     0      0      0 --:--:-- --:--:-- --:--:--     0\r",
      "100  241k  100  241k    0     0   599k      0 --:--:-- --:--:-- --:--:--  601k\n"
     ]
    }
   ],
   "source": [
    "%%bash\n",
    "curl https://raw.githubusercontent.com/kasev/paul/master/data/LAGT_metadata.csv -o ../data/LAGT_metadata.csv"
   ]
  },
  {
   "cell_type": "code",
   "execution_count": 5,
   "metadata": {
    "pycharm": {
     "name": "#%%\n"
    }
   },
   "outputs": [],
   "source": [
    "LAGT_metadata = pd.read_csv(\"../data/LAGT_metadata.csv\")\n",
    "provenience_dict = dict(zip(LAGT_metadata[\"filename\"],  LAGT_metadata[\"provenience\"]))\n",
    "author_dict = dict(zip(LAGT_metadata[\"author_id\"],  LAGT_metadata[\"author\"]))\n",
    "LAGT[\"provenience\"] = LAGT[\"filename\"].apply(lambda x: provenience_dict[x])"
   ]
  },
  {
   "cell_type": "code",
   "execution_count": 6,
   "metadata": {
    "pycharm": {
     "name": "#%%\n"
    }
   },
   "outputs": [
    {
     "data": {
      "text/plain": [
       "<AxesSubplot:xlabel='date_avr'>"
      ]
     },
     "execution_count": 6,
     "metadata": {},
     "output_type": "execute_result"
    },
    {
     "data": {
      "image/png": "[encoded data removed]",
      "text/plain": [
       "<Figure size 432x288 with 1 Axes>"
      ]
     },
     "metadata": {
      "needs_background": "light"
     },
     "output_type": "display_data"
    }
   ],
   "source": [
    "LAGT.groupby(\"date_avr\").sum()[\"wordcount\"].plot()"
   ]
  },
  {
   "cell_type": "code",
   "execution_count": 7,
   "metadata": {
    "pycharm": {
     "name": "#%%\n"
    }
   },
   "outputs": [],
   "source": [
    "\n",
    "# function to extract all texts into one list of sentences\n",
    "def get_flat_sentences(series):\n",
    "    sentences_list = [sent for doc in series.tolist() for sent in doc]\n",
    "    return sentences_list"
   ]
  },
  {
   "cell_type": "code",
   "execution_count": 8,
   "metadata": {
    "pycharm": {
     "name": "#%%\n"
    }
   },
   "outputs": [],
   "source": [
    "sub_arc = LAGT[LAGT[\"date_avr\"] < -5]\n",
    "sub_cla = LAGT[LAGT[\"date_avr\"].between(-5, -3.5)]\n",
    "sub_hel = LAGT[LAGT[\"date_avr\"].between(-3, -0.5)]\n",
    "sub_rom = LAGT[(LAGT[\"date_avr\"].between(0, 4.5)) & (LAGT[\"provenience\"]==\"pagan\")]\n",
    "sub_chr = LAGT[(LAGT[\"provenience\"]==\"christian\") & (LAGT[\"date_avr\"]<5)]\n",
    "sub_jew = LAGT[(LAGT[\"provenience\"]==\"jewish\") & (LAGT[\"date_avr\"]<5)]\n",
    "corpora_dfs = [sub_arc, sub_cla, sub_hel, sub_rom, sub_chr, sub_jew]\n",
    "corpora_labels = [\"Archaic\", \"Classical\", \"Hellenistic\", \"Roman\", \"Christian\", \"Jewish\"]"
   ]
  },
  {
   "cell_type": "code",
   "execution_count": 9,
   "metadata": {
    "pycharm": {
     "name": "#%%\n"
    }
   },
   "outputs": [],
   "source": [
    "corpora = []\n",
    "for corp_df, label in zip(corpora_dfs, corpora_labels):\n",
    "    corpus = {}\n",
    "    corpus[\"label\"] = label\n",
    "    corpus[\"n_authors\"] = len(list(corp_df[\"author_id\"].unique()))\n",
    "    corpus[\"n_works\"] = len(corp_df)\n",
    "    corpus[\"n_sentences\"] = corp_df[\"n_sentences\"].sum()\n",
    "    corpus[\"wordcount\"] = corp_df[\"wordcount\"].sum()\n",
    "    corpus[\"sentences\"] = get_flat_sentences(corp_df[\"lemmatized_sentences\"])\n",
    "    corpus[\"lemmata\"] = [item for sublist in corp_df[\"lemmata\"].tolist() for item in sublist] \n",
    "    corpora.append(corpus)"
   ]
  },
  {
   "cell_type": "code",
   "execution_count": 10,
   "metadata": {
    "pycharm": {
     "name": "#%%\n"
    }
   },
   "outputs": [
    {
     "data": {
      "text/html": [
       "<div>\n",
       "<style scoped>\n",
       "    .dataframe tbody tr th:only-of-type {\n",
       "        vertical-align: middle;\n",
       "    }\n",
       "\n",
       "    .dataframe tbody tr th {\n",
       "        vertical-align: top;\n",
       "    }\n",
       "\n",
       "    .dataframe thead th {\n",
       "        text-align: right;\n",
       "    }\n",
       "</style>\n",
       "<table border=\"1\" class=\"dataframe\">\n",
       "  <thead>\n",
       "    <tr style=\"text-align: right;\">\n",
       "      <th></th>\n",
       "      <th>label</th>\n",
       "      <th>n_authors</th>\n",
       "      <th>n_works</th>\n",
       "      <th>n_sentences</th>\n",
       "      <th>wordcount</th>\n",
       "      <th>sentences</th>\n",
       "      <th>lemmata</th>\n",
       "    </tr>\n",
       "  </thead>\n",
       "  <tbody>\n",
       "    <tr>\n",
       "      <th>0</th>\n",
       "      <td>Archaic</td>\n",
       "      <td>8</td>\n",
       "      <td>12</td>\n",
       "      <td>20502</td>\n",
       "      <td>265138</td>\n",
       "      <td>[[μῆνις, ἀείδω, θεά, Πηλείδης, Ἀχιλλεύς, οὐλόμ...</td>\n",
       "      <td>[μῆνις, ἀείδω, θεά, Πηλείδης, Ἀχιλλεύς, οὐλόμε...</td>\n",
       "    </tr>\n",
       "    <tr>\n",
       "      <th>1</th>\n",
       "      <td>Classical</td>\n",
       "      <td>36</td>\n",
       "      <td>367</td>\n",
       "      <td>256084</td>\n",
       "      <td>3460971</td>\n",
       "      <td>[[θουκυδίδης, Ἀθηναῖος, συγγράφω, πόλεμος, Πελ...</td>\n",
       "      <td>[θουκυδίδης, Ἀθηναῖος, συγγράφω, πόλεμος, Πελο...</td>\n",
       "    </tr>\n",
       "    <tr>\n",
       "      <th>2</th>\n",
       "      <td>Hellenistic</td>\n",
       "      <td>34</td>\n",
       "      <td>96</td>\n",
       "      <td>154615</td>\n",
       "      <td>1860841</td>\n",
       "      <td>[[ἄρχω, Φοῖβος, παλαιγενής, κλέος, φώς, μιμνήσ...</td>\n",
       "      <td>[ἄρχω, Φοῖβος, παλαιγενής, κλέος, φώς, μιμνήσκ...</td>\n",
       "    </tr>\n",
       "    <tr>\n",
       "      <th>3</th>\n",
       "      <td>Roman</td>\n",
       "      <td>97</td>\n",
       "      <td>609</td>\n",
       "      <td>1014984</td>\n",
       "      <td>11981922</td>\n",
       "      <td>[[φιλοσοφία, ἔργον, ἔνιοι, φημί, βάρβαρος, ἄρχ...</td>\n",
       "      <td>[φιλοσοφία, ἔργον, ἔνιοι, φημί, βάρβαρος, ἄρχω...</td>\n",
       "    </tr>\n",
       "    <tr>\n",
       "      <th>4</th>\n",
       "      <td>Christian</td>\n",
       "      <td>49</td>\n",
       "      <td>148</td>\n",
       "      <td>343318</td>\n",
       "      <td>3566823</td>\n",
       "      <td>[[βίβλος, γένεσις, Ἰησοῦς, Χριστός, υἱός, Δαυί...</td>\n",
       "      <td>[βίβλος, γένεσις, Ἰησοῦς, Χριστός, υἱός, Δαυίδ...</td>\n",
       "    </tr>\n",
       "    <tr>\n",
       "      <th>5</th>\n",
       "      <td>Jewish</td>\n",
       "      <td>5</td>\n",
       "      <td>40</td>\n",
       "      <td>108194</td>\n",
       "      <td>1154228</td>\n",
       "      <td>[[ἄλλος, νομοθέτης, ἀκαλλώπιστος, γυμνός, νομι...</td>\n",
       "      <td>[ἄλλος, νομοθέτης, ἀκαλλώπιστος, γυμνός, νομισ...</td>\n",
       "    </tr>\n",
       "  </tbody>\n",
       "</table>\n",
       "</div>"
      ],
      "text/plain": [
       "         label  n_authors  n_works  n_sentences  wordcount  \\\n",
       "0      Archaic          8       12        20502     265138   \n",
       "1    Classical         36      367       256084    3460971   \n",
       "2  Hellenistic         34       96       154615    1860841   \n",
       "3        Roman         97      609      1014984   11981922   \n",
       "4    Christian         49      148       343318    3566823   \n",
       "5       Jewish          5       40       108194    1154228   \n",
       "\n",
       "                                           sentences  \\\n",
       "0  [[μῆνις, ἀείδω, θεά, Πηλείδης, Ἀχιλλεύς, οὐλόμ...   \n",
       "1  [[θουκυδίδης, Ἀθηναῖος, συγγράφω, πόλεμος, Πελ...   \n",
       "2  [[ἄρχω, Φοῖβος, παλαιγενής, κλέος, φώς, μιμνήσ...   \n",
       "3  [[φιλοσοφία, ἔργον, ἔνιοι, φημί, βάρβαρος, ἄρχ...   \n",
       "4  [[βίβλος, γένεσις, Ἰησοῦς, Χριστός, υἱός, Δαυί...   \n",
       "5  [[ἄλλος, νομοθέτης, ἀκαλλώπιστος, γυμνός, νομι...   \n",
       "\n",
       "                                             lemmata  \n",
       "0  [μῆνις, ἀείδω, θεά, Πηλείδης, Ἀχιλλεύς, οὐλόμε...  \n",
       "1  [θουκυδίδης, Ἀθηναῖος, συγγράφω, πόλεμος, Πελο...  \n",
       "2  [ἄρχω, Φοῖβος, παλαιγενής, κλέος, φώς, μιμνήσκ...  \n",
       "3  [φιλοσοφία, ἔργον, ἔνιοι, φημί, βάρβαρος, ἄρχω...  \n",
       "4  [βίβλος, γένεσις, Ἰησοῦς, Χριστός, υἱός, Δαυίδ...  \n",
       "5  [ἄλλος, νομοθέτης, ἀκαλλώπιστος, γυμνός, νομισ...  "
      ]
     },
     "execution_count": 10,
     "metadata": {},
     "output_type": "execute_result"
    }
   ],
   "source": [
    "pd.DataFrame(corpora)"
   ]
  },
  {
   "cell_type": "markdown",
   "metadata": {
    "pycharm": {
     "name": "#%% md\n"
    }
   },
   "source": [
    "# Embeddings - preprocessing"
   ]
  },
  {
   "cell_type": "code",
   "execution_count": 11,
   "metadata": {
    "pycharm": {
     "name": "#%%\n"
    }
   },
   "outputs": [],
   "source": [
    "sentences = corpora[0][\"sentences\"]\n",
    "min_freq = 5\n",
    "\n",
    "def get_vocab(docs, min_freq=5):\n",
    "    words_flat = [item for sublist in docs for item in sublist] \n",
    "    word_freq_tups = nltk.FreqDist(words_flat).most_common()\n",
    "    vocabulary = [tup[0] for tup in word_freq_tups if tup[1] >= min_freq]\n",
    "    #vocab_freqs = [len([doc for doc in docs if word in doc]) for word in vocabulary]\n",
    "    return words_flat, vocabulary # , vocab_freqs"
   ]
  },
  {
   "cell_type": "code",
   "execution_count": 20,
   "metadata": {
    "pycharm": {
     "name": "#%%\n"
    }
   },
   "outputs": [],
   "source": [
    "words_flat, vocabulary = get_vocab(sentences)"
   ]
  },
  {
   "cell_type": "code",
   "execution_count": 21,
   "metadata": {
    "pycharm": {
     "name": "#%%\n"
    }
   },
   "outputs": [
    {
     "data": {
      "text/plain": [
       "15329"
      ]
     },
     "execution_count": 21,
     "metadata": {},
     "output_type": "execute_result"
    }
   ],
   "source": [
    "len(set(corpora[0][\"lemmata\"]))"
   ]
  },
  {
   "cell_type": "code",
   "execution_count": 22,
   "metadata": {
    "pycharm": {
     "name": "#%%\n"
    }
   },
   "outputs": [
    {
     "data": {
      "text/plain": [
       "8760"
      ]
     },
     "execution_count": 22,
     "metadata": {},
     "output_type": "execute_result"
    }
   ],
   "source": [
    "len(list(set(corpora[0][\"lemmata\"]) & set(corpora[1][\"lemmata\"])))"
   ]
  },
  {
   "cell_type": "code",
   "execution_count": 23,
   "metadata": {
    "pycharm": {
     "name": "#%%\n"
    }
   },
   "outputs": [],
   "source": [
    "vocabs_list = []\n",
    "for corp in corpora:\n",
    "    if corp[\"label\"] not in [\"christian\", \"jewish\"]:\n",
    "        vocabs_list.append(get_vocab(corp[\"sentences\"])[1])"
   ]
  },
  {
   "cell_type": "code",
   "execution_count": 24,
   "metadata": {
    "pycharm": {
     "name": "#%%\n"
    }
   },
   "outputs": [
    {
     "data": {
      "text/plain": [
       "1733"
      ]
     },
     "execution_count": 24,
     "metadata": {},
     "output_type": "execute_result"
    }
   ],
   "source": [
    "vocab_intersect = list(set.intersection(*map(set,vocabs_list)))\n",
    "len(vocab_intersect)"
   ]
  },
  {
   "cell_type": "code",
   "execution_count": 25,
   "metadata": {
    "pycharm": {
     "name": "#%%\n"
    }
   },
   "outputs": [],
   "source": [
    "def get_cooc(docs, vocabulary=None, min_freq=5):\n",
    "    if vocabulary==None:\n",
    "        lemmata, vocabulary = get_vocab(docs, min_freq)\n",
    "    vec_bow = CountVectorizer(vocabulary=vocabulary, lowercase=False) \n",
    "    bow = vec_bow.fit_transform([\" \".join(list(set(sentence))) for sentence in docs])\n",
    "    cooc  = bow.T * bow\n",
    "    cooc = cooc / len(docs)\n",
    "    return cooc, vocabulary"
   ]
  },
  {
   "cell_type": "code",
   "execution_count": 26,
   "metadata": {
    "pycharm": {
     "name": "#%%\n"
    }
   },
   "outputs": [],
   "source": [
    "small_voc = ['εἰμί', 'αὐτός', 'πᾶς', 'ἀνήρ', 'πολύς', 'φημί', 'ἔχω', 'θεός', 'Ζεύς', 'μέγας']"
   ]
  },
  {
   "cell_type": "code",
   "execution_count": 27,
   "metadata": {
    "pycharm": {
     "name": "#%%\n"
    }
   },
   "outputs": [],
   "source": [
    "cooc, vocab = get_cooc(sentences, vocabulary=small_voc, min_freq=5)"
   ]
  },
  {
   "cell_type": "code",
   "execution_count": 28,
   "metadata": {
    "pycharm": {
     "name": "#%%\n"
    }
   },
   "outputs": [
    {
     "data": {
      "text/plain": [
       "matrix([[0.11545215, 0.00931616, 0.00946249, 0.01068188, 0.00999902,\n",
       "         0.00473125, 0.0048288 , 0.01014535, 0.0064384 , 0.00673105],\n",
       "        [0.00931616, 0.07443176, 0.00551166, 0.00404839, 0.00492635,\n",
       "         0.00365818, 0.0048288 , 0.00424349, 0.00370696, 0.00365818],\n",
       "        [0.00946249, 0.00551166, 0.06540825, 0.00434104, 0.00312165,\n",
       "         0.00390206, 0.00424349, 0.00687738, 0.00399961, 0.0032192 ],\n",
       "        [0.01068188, 0.00404839, 0.00434104, 0.05979904, 0.00692615,\n",
       "         0.00258511, 0.00414594, 0.00595064, 0.00365818, 0.00399961],\n",
       "        [0.00999902, 0.00492635, 0.00312165, 0.00692615, 0.05448249,\n",
       "         0.00165837, 0.00307287, 0.00258511, 0.00307287, 0.00326797],\n",
       "        [0.00473125, 0.00365818, 0.00390206, 0.00258511, 0.00165837,\n",
       "         0.0550678 , 0.00175593, 0.00195103, 0.00185348, 0.00175593],\n",
       "        [0.0048288 , 0.0048288 , 0.00424349, 0.00414594, 0.00307287,\n",
       "         0.00175593, 0.05058043, 0.00463369, 0.00224368, 0.00273144],\n",
       "        [0.01014535, 0.00424349, 0.00687738, 0.00595064, 0.00258511,\n",
       "         0.00195103, 0.00463369, 0.0486294 , 0.00604819, 0.00380451],\n",
       "        [0.0064384 , 0.00370696, 0.00399961, 0.00365818, 0.00307287,\n",
       "         0.00185348, 0.00224368, 0.00604819, 0.04667837, 0.00468247],\n",
       "        [0.00673105, 0.00365818, 0.0032192 , 0.00399961, 0.00326797,\n",
       "         0.00175593, 0.00273144, 0.00380451, 0.00468247, 0.04609306]])"
      ]
     },
     "execution_count": 28,
     "metadata": {},
     "output_type": "execute_result"
    }
   ],
   "source": [
    "cooc.todense()"
   ]
  },
  {
   "cell_type": "code",
   "execution_count": 519,
   "metadata": {
    "pycharm": {
     "name": "#%%\n"
    }
   },
   "outputs": [
    {
     "data": {
      "text/plain": [
       "matrix([[0.00692615, 0.        , 0.        , ..., 0.        , 0.        ,\n",
       "         0.        ],\n",
       "        [0.        , 0.00126817, 0.        , ..., 0.        , 0.        ,\n",
       "         0.        ],\n",
       "        [0.        , 0.        , 0.00039021, ..., 0.        , 0.        ,\n",
       "         0.        ],\n",
       "        ...,\n",
       "        [0.        , 0.        , 0.        , ..., 0.00058531, 0.        ,\n",
       "         0.        ],\n",
       "        [0.        , 0.        , 0.        , ..., 0.        , 0.00243879,\n",
       "         0.        ],\n",
       "        [0.        , 0.        , 0.        , ..., 0.        , 0.        ,\n",
       "         0.00312165]])"
      ]
     },
     "execution_count": 519,
     "metadata": {},
     "output_type": "execute_result"
    }
   ],
   "source": [
    "cooc, vocabulary = get_cooc(corpora[0][\"sentences\"], vocabulary=vocab_intersect)\n",
    "cooc.todense()"
   ]
  },
  {
   "cell_type": "code",
   "execution_count": 520,
   "metadata": {
    "pycharm": {
     "name": "#%%\n"
    }
   },
   "outputs": [
    {
     "data": {
      "text/plain": [
       "(2134, 2134)"
      ]
     },
     "execution_count": 520,
     "metadata": {},
     "output_type": "execute_result"
    }
   ],
   "source": [
    "cooc.todense().shape"
   ]
  },
  {
   "cell_type": "code",
   "execution_count": 521,
   "metadata": {
    "pycharm": {
     "name": "#%%\n"
    }
   },
   "outputs": [
    {
     "data": {
      "text/plain": [
       "2134"
      ]
     },
     "execution_count": 521,
     "metadata": {},
     "output_type": "execute_result"
    }
   ],
   "source": [
    "len(vocabulary)"
   ]
  },
  {
   "cell_type": "code",
   "execution_count": 29,
   "metadata": {
    "pycharm": {
     "name": "#%%\n"
    }
   },
   "outputs": [
    {
     "data": {
      "text/plain": [
       "array([1., 0., 1., 0.])"
      ]
     },
     "execution_count": 29,
     "metadata": {},
     "output_type": "execute_result"
    }
   ],
   "source": [
    "# deal with division by zero\n",
    "ab_3 = np.array([2, 0, 5, 0], dtype=float)\n",
    "axb = np.array([2, 0, 5, 1], dtype=float)\n",
    "\n",
    "np.divide(ab_3, axb, out=np.zeros_like(ab_3), where=axb!=0)"
   ]
  },
  {
   "cell_type": "code",
   "execution_count": 30,
   "metadata": {
    "pycharm": {
     "name": "#%%\n"
    }
   },
   "outputs": [],
   "source": [
    "def normalize_ppmi3_matrix(pmi_matrix_df):\n",
    "    minval, maxval = pmi_matrix_df.min().min(), pmi_matrix_df.max().max()\n",
    "    minval_2 = minval * 2\n",
    "    pmi_matrix_df.fillna(minval_2, inplace=True)\n",
    "    pmi_matrix_norm_df = (pmi_matrix_df - minval_2) / (maxval - minval_2)\n",
    "    return pmi_matrix_norm_df"
   ]
  },
  {
   "cell_type": "code",
   "execution_count": 31,
   "metadata": {
    "pycharm": {
     "name": "#%%\n"
    }
   },
   "outputs": [],
   "source": [
    "def get_ppmi3_df(cooc, vocabulary, normalize=True, exp=3):\n",
    "    pmi_rows_list = []\n",
    "    for i in range(cooc.shape[1]):\n",
    "        ab = np.array([row_el for row_el in list(cooc[i].toarray()[0])], dtype=float)\n",
    "        ab_exp = np.power(ab, exp)\n",
    "        axb = np.array([cooc[row_el[0], row_el[0]] * cooc[i, i] for row_el in enumerate(list(cooc[i].toarray()[0]))], dtype=float)\n",
    "        pmi_row = np.divide(ab_exp, axb, out=np.zeros_like(ab_exp), where=axb!=0)\n",
    "        pmi_row = [np.log(n) if n>0 else None for n in pmi_row]\n",
    "        pmi_rows_list.append(pmi_row)\n",
    "    pmi_matrix_df = pd.DataFrame(pmi_rows_list, columns=vocabulary, index=vocabulary)\n",
    "    if normalize == True:\n",
    "        pmi_matrix_df = normalize_ppmi3_matrix(pmi_matrix_df)\n",
    "        np.fill_diagonal(pmi_matrix_df.to_numpy(), 1)\n",
    "    return pmi_matrix_df #pmi_matrix_norm_df"
   ]
  },
  {
   "cell_type": "code",
   "execution_count": 32,
   "metadata": {
    "pycharm": {
     "name": "#%%\n"
    }
   },
   "outputs": [
    {
     "name": "stdout",
     "output_type": "stream",
     "text": [
      "CPU times: user 22 ms, sys: 390 µs, total: 22.4 ms\n",
      "Wall time: 19.7 ms\n"
     ]
    },
    {
     "data": {
      "text/html": [
       "<div>\n",
       "<style scoped>\n",
       "    .dataframe tbody tr th:only-of-type {\n",
       "        vertical-align: middle;\n",
       "    }\n",
       "\n",
       "    .dataframe tbody tr th {\n",
       "        vertical-align: top;\n",
       "    }\n",
       "\n",
       "    .dataframe thead th {\n",
       "        text-align: right;\n",
       "    }\n",
       "</style>\n",
       "<table border=\"1\" class=\"dataframe\">\n",
       "  <thead>\n",
       "    <tr style=\"text-align: right;\">\n",
       "      <th></th>\n",
       "      <th>εἰμί</th>\n",
       "      <th>αὐτός</th>\n",
       "      <th>πᾶς</th>\n",
       "      <th>ἀνήρ</th>\n",
       "      <th>πολύς</th>\n",
       "      <th>φημί</th>\n",
       "      <th>ἔχω</th>\n",
       "      <th>θεός</th>\n",
       "      <th>Ζεύς</th>\n",
       "      <th>μέγας</th>\n",
       "    </tr>\n",
       "  </thead>\n",
       "  <tbody>\n",
       "    <tr>\n",
       "      <th>εἰμί</th>\n",
       "      <td>1.000000</td>\n",
       "      <td>0.671523</td>\n",
       "      <td>0.682989</td>\n",
       "      <td>0.706727</td>\n",
       "      <td>0.703939</td>\n",
       "      <td>0.596195</td>\n",
       "      <td>0.605189</td>\n",
       "      <td>0.714140</td>\n",
       "      <td>0.652056</td>\n",
       "      <td>0.659313</td>\n",
       "    </tr>\n",
       "    <tr>\n",
       "      <th>αὐτός</th>\n",
       "      <td>0.671523</td>\n",
       "      <td>1.000000</td>\n",
       "      <td>0.637100</td>\n",
       "      <td>0.599398</td>\n",
       "      <td>0.634115</td>\n",
       "      <td>0.590800</td>\n",
       "      <td>0.636567</td>\n",
       "      <td>0.620907</td>\n",
       "      <td>0.604509</td>\n",
       "      <td>0.603517</td>\n",
       "    </tr>\n",
       "    <tr>\n",
       "      <th>πᾶς</th>\n",
       "      <td>0.682989</td>\n",
       "      <td>0.637100</td>\n",
       "      <td>1.000000</td>\n",
       "      <td>0.618614</td>\n",
       "      <td>0.578127</td>\n",
       "      <td>0.609265</td>\n",
       "      <td>0.627333</td>\n",
       "      <td>0.699175</td>\n",
       "      <td>0.624610</td>\n",
       "      <td>0.594479</td>\n",
       "    </tr>\n",
       "    <tr>\n",
       "      <th>ἀνήρ</th>\n",
       "      <td>0.706727</td>\n",
       "      <td>0.599398</td>\n",
       "      <td>0.618614</td>\n",
       "      <td>1.000000</td>\n",
       "      <td>0.698470</td>\n",
       "      <td>0.556810</td>\n",
       "      <td>0.630417</td>\n",
       "      <td>0.684892</td>\n",
       "      <td>0.618262</td>\n",
       "      <td>0.631921</td>\n",
       "    </tr>\n",
       "    <tr>\n",
       "      <th>πολύς</th>\n",
       "      <td>0.703939</td>\n",
       "      <td>0.634115</td>\n",
       "      <td>0.578127</td>\n",
       "      <td>0.698470</td>\n",
       "      <td>1.000000</td>\n",
       "      <td>0.500000</td>\n",
       "      <td>0.594252</td>\n",
       "      <td>0.572354</td>\n",
       "      <td>0.599991</td>\n",
       "      <td>0.609694</td>\n",
       "    </tr>\n",
       "    <tr>\n",
       "      <th>φημί</th>\n",
       "      <td>0.596195</td>\n",
       "      <td>0.590800</td>\n",
       "      <td>0.609265</td>\n",
       "      <td>0.556810</td>\n",
       "      <td>0.500000</td>\n",
       "      <td>1.000000</td>\n",
       "      <td>0.513484</td>\n",
       "      <td>0.531358</td>\n",
       "      <td>0.526952</td>\n",
       "      <td>0.520125</td>\n",
       "    </tr>\n",
       "    <tr>\n",
       "      <th>ἔχω</th>\n",
       "      <td>0.605189</td>\n",
       "      <td>0.636567</td>\n",
       "      <td>0.627333</td>\n",
       "      <td>0.630417</td>\n",
       "      <td>0.594252</td>\n",
       "      <td>0.513484</td>\n",
       "      <td>1.000000</td>\n",
       "      <td>0.661098</td>\n",
       "      <td>0.560342</td>\n",
       "      <td>0.589367</td>\n",
       "    </tr>\n",
       "    <tr>\n",
       "      <th>θεός</th>\n",
       "      <td>0.714140</td>\n",
       "      <td>0.620907</td>\n",
       "      <td>0.699175</td>\n",
       "      <td>0.684892</td>\n",
       "      <td>0.572354</td>\n",
       "      <td>0.531358</td>\n",
       "      <td>0.661098</td>\n",
       "      <td>1.000000</td>\n",
       "      <td>0.704923</td>\n",
       "      <td>0.639551</td>\n",
       "    </tr>\n",
       "    <tr>\n",
       "      <th>Ζεύς</th>\n",
       "      <td>0.652056</td>\n",
       "      <td>0.604509</td>\n",
       "      <td>0.624610</td>\n",
       "      <td>0.618262</td>\n",
       "      <td>0.599991</td>\n",
       "      <td>0.526952</td>\n",
       "      <td>0.560342</td>\n",
       "      <td>0.704923</td>\n",
       "      <td>1.000000</td>\n",
       "      <td>0.672163</td>\n",
       "    </tr>\n",
       "    <tr>\n",
       "      <th>μέγας</th>\n",
       "      <td>0.659313</td>\n",
       "      <td>0.603517</td>\n",
       "      <td>0.594479</td>\n",
       "      <td>0.631921</td>\n",
       "      <td>0.609694</td>\n",
       "      <td>0.520125</td>\n",
       "      <td>0.589367</td>\n",
       "      <td>0.639551</td>\n",
       "      <td>0.672163</td>\n",
       "      <td>1.000000</td>\n",
       "    </tr>\n",
       "  </tbody>\n",
       "</table>\n",
       "</div>"
      ],
      "text/plain": [
       "           εἰμί     αὐτός       πᾶς      ἀνήρ     πολύς      φημί       ἔχω  \\\n",
       "εἰμί   1.000000  0.671523  0.682989  0.706727  0.703939  0.596195  0.605189   \n",
       "αὐτός  0.671523  1.000000  0.637100  0.599398  0.634115  0.590800  0.636567   \n",
       "πᾶς    0.682989  0.637100  1.000000  0.618614  0.578127  0.609265  0.627333   \n",
       "ἀνήρ   0.706727  0.599398  0.618614  1.000000  0.698470  0.556810  0.630417   \n",
       "πολύς  0.703939  0.634115  0.578127  0.698470  1.000000  0.500000  0.594252   \n",
       "φημί   0.596195  0.590800  0.609265  0.556810  0.500000  1.000000  0.513484   \n",
       "ἔχω    0.605189  0.636567  0.627333  0.630417  0.594252  0.513484  1.000000   \n",
       "θεός   0.714140  0.620907  0.699175  0.684892  0.572354  0.531358  0.661098   \n",
       "Ζεύς   0.652056  0.604509  0.624610  0.618262  0.599991  0.526952  0.560342   \n",
       "μέγας  0.659313  0.603517  0.594479  0.631921  0.609694  0.520125  0.589367   \n",
       "\n",
       "           θεός      Ζεύς     μέγας  \n",
       "εἰμί   0.714140  0.652056  0.659313  \n",
       "αὐτός  0.620907  0.604509  0.603517  \n",
       "πᾶς    0.699175  0.624610  0.594479  \n",
       "ἀνήρ   0.684892  0.618262  0.631921  \n",
       "πολύς  0.572354  0.599991  0.609694  \n",
       "φημί   0.531358  0.526952  0.520125  \n",
       "ἔχω    0.661098  0.560342  0.589367  \n",
       "θεός   1.000000  0.704923  0.639551  \n",
       "Ζεύς   0.704923  1.000000  0.672163  \n",
       "μέγας  0.639551  0.672163  1.000000  "
      ]
     },
     "execution_count": 32,
     "metadata": {},
     "output_type": "execute_result"
    }
   ],
   "source": [
    "%%time\n",
    "data = get_ppmi3_df(cooc, small_voc, exp=2)\n",
    "data.head(10)"
   ]
  },
  {
   "cell_type": "code",
   "execution_count": 33,
   "metadata": {
    "pycharm": {
     "name": "#%%\n"
    }
   },
   "outputs": [],
   "source": [
    "def svd_reduction(cooc_matrix, n_components=300, random_state=1, n_iter=100):\n",
    "    svd = TruncatedSVD(n_components=n_components, random_state=random_state, n_iter=n_iter)\n",
    "    svd_matrix = svd.fit_transform(cooc_matrix)\n",
    "    return svd_matrix"
   ]
  },
  {
   "cell_type": "code",
   "execution_count": 34,
   "metadata": {
    "pycharm": {
     "name": "#%%\n"
    }
   },
   "outputs": [],
   "source": [
    "def from_docs_to_embeddings(docs, vocabulary=None, min_freq=5):\n",
    "    cooc, vocabulary = get_cooc(docs, vocabulary=vocabulary, min_freq=min_freq)\n",
    "    pmi_matrix = get_ppmi3_df(cooc, vocabulary)\n",
    "    word_vectors_array = svd_reduction(pmi_matrix, n_components=300, random_state=1, n_iter=100)\n",
    "    word_vectors_df = pd.DataFrame(word_vectors_array, index=vocabulary)\n",
    "    pmi_svd_cos = pd.DataFrame(cosine_similarity(word_vectors_array), columns=vocabulary, index=vocabulary)\n",
    "    return [cooc, vocabulary, pmi_matrix, word_vectors_df, pmi_svd_cos]"
   ]
  },
  {
   "cell_type": "code",
   "execution_count": 562,
   "metadata": {
    "pycharm": {
     "name": "#%%\n"
    }
   },
   "outputs": [
    {
     "name": "stdout",
     "output_type": "stream",
     "text": [
      "CPU times: user 6min 10s, sys: 3min 20s, total: 9min 31s\n",
      "Wall time: 2min 38s\n"
     ]
    }
   ],
   "source": [
    "%%time\n",
    "data_arc = from_docs_to_embeddings(corpora[0][\"sentences\"], vocabulary=vocab_intersect)"
   ]
  },
  {
   "cell_type": "code",
   "execution_count": 564,
   "metadata": {
    "pycharm": {
     "name": "#%%\n"
    }
   },
   "outputs": [
    {
     "data": {
      "text/html": [
       "<div>\n",
       "<style scoped>\n",
       "    .dataframe tbody tr th:only-of-type {\n",
       "        vertical-align: middle;\n",
       "    }\n",
       "\n",
       "    .dataframe tbody tr th {\n",
       "        vertical-align: top;\n",
       "    }\n",
       "\n",
       "    .dataframe thead th {\n",
       "        text-align: right;\n",
       "    }\n",
       "</style>\n",
       "<table border=\"1\" class=\"dataframe\">\n",
       "  <thead>\n",
       "    <tr style=\"text-align: right;\">\n",
       "      <th></th>\n",
       "      <th>ἴσος</th>\n",
       "      <th>ἄγαμαι</th>\n",
       "      <th>πηδάλιον</th>\n",
       "      <th>ἰός</th>\n",
       "      <th>ἐπίσταμαι</th>\n",
       "      <th>χρίω</th>\n",
       "      <th>ψυχή</th>\n",
       "      <th>μάγειρος</th>\n",
       "      <th>πιστεύω</th>\n",
       "      <th>πλῆθος</th>\n",
       "      <th>...</th>\n",
       "      <th>αἰτία</th>\n",
       "      <th>εὔκαιρος</th>\n",
       "      <th>σταθμόν</th>\n",
       "      <th>μικρός</th>\n",
       "      <th>τετράς</th>\n",
       "      <th>ἀποκρύπτω</th>\n",
       "      <th>σπόγγος</th>\n",
       "      <th>ἐπιλανθάνομαι</th>\n",
       "      <th>ἀνάγκη</th>\n",
       "      <th>ἀγείρω</th>\n",
       "    </tr>\n",
       "  </thead>\n",
       "  <tbody>\n",
       "    <tr>\n",
       "      <th>ἴσος</th>\n",
       "      <td>1.000000</td>\n",
       "      <td>0.437380</td>\n",
       "      <td>0.233293</td>\n",
       "      <td>0.405049</td>\n",
       "      <td>0.419086</td>\n",
       "      <td>0.342806</td>\n",
       "      <td>0.533856</td>\n",
       "      <td>0.248857</td>\n",
       "      <td>0.185417</td>\n",
       "      <td>0.248479</td>\n",
       "      <td>...</td>\n",
       "      <td>0.313441</td>\n",
       "      <td>0.142484</td>\n",
       "      <td>0.281288</td>\n",
       "      <td>0.283408</td>\n",
       "      <td>0.150039</td>\n",
       "      <td>0.280582</td>\n",
       "      <td>0.160631</td>\n",
       "      <td>0.269607</td>\n",
       "      <td>0.422556</td>\n",
       "      <td>0.514216</td>\n",
       "    </tr>\n",
       "    <tr>\n",
       "      <th>ἄγαμαι</th>\n",
       "      <td>0.437380</td>\n",
       "      <td>1.000000</td>\n",
       "      <td>0.269362</td>\n",
       "      <td>0.364781</td>\n",
       "      <td>0.475348</td>\n",
       "      <td>0.295286</td>\n",
       "      <td>0.442968</td>\n",
       "      <td>0.242076</td>\n",
       "      <td>0.277596</td>\n",
       "      <td>0.333559</td>\n",
       "      <td>...</td>\n",
       "      <td>0.300841</td>\n",
       "      <td>0.153856</td>\n",
       "      <td>0.307053</td>\n",
       "      <td>0.247433</td>\n",
       "      <td>0.045151</td>\n",
       "      <td>0.332806</td>\n",
       "      <td>0.099603</td>\n",
       "      <td>0.230892</td>\n",
       "      <td>0.364311</td>\n",
       "      <td>0.431784</td>\n",
       "    </tr>\n",
       "    <tr>\n",
       "      <th>πηδάλιον</th>\n",
       "      <td>0.233293</td>\n",
       "      <td>0.269362</td>\n",
       "      <td>1.000000</td>\n",
       "      <td>0.247571</td>\n",
       "      <td>0.199008</td>\n",
       "      <td>0.189989</td>\n",
       "      <td>0.191425</td>\n",
       "      <td>0.163811</td>\n",
       "      <td>0.102286</td>\n",
       "      <td>0.146196</td>\n",
       "      <td>...</td>\n",
       "      <td>0.173133</td>\n",
       "      <td>0.060075</td>\n",
       "      <td>0.159814</td>\n",
       "      <td>0.159377</td>\n",
       "      <td>0.062967</td>\n",
       "      <td>0.171380</td>\n",
       "      <td>0.099153</td>\n",
       "      <td>0.129346</td>\n",
       "      <td>0.204302</td>\n",
       "      <td>0.254487</td>\n",
       "    </tr>\n",
       "    <tr>\n",
       "      <th>ἰός</th>\n",
       "      <td>0.405049</td>\n",
       "      <td>0.364781</td>\n",
       "      <td>0.247571</td>\n",
       "      <td>1.000000</td>\n",
       "      <td>0.320457</td>\n",
       "      <td>0.454405</td>\n",
       "      <td>0.364298</td>\n",
       "      <td>0.141678</td>\n",
       "      <td>0.134110</td>\n",
       "      <td>0.291070</td>\n",
       "      <td>...</td>\n",
       "      <td>0.169091</td>\n",
       "      <td>0.131967</td>\n",
       "      <td>0.461251</td>\n",
       "      <td>0.167599</td>\n",
       "      <td>0.158737</td>\n",
       "      <td>0.247464</td>\n",
       "      <td>0.148443</td>\n",
       "      <td>0.141628</td>\n",
       "      <td>0.288210</td>\n",
       "      <td>0.378224</td>\n",
       "    </tr>\n",
       "    <tr>\n",
       "      <th>ἐπίσταμαι</th>\n",
       "      <td>0.419086</td>\n",
       "      <td>0.475348</td>\n",
       "      <td>0.199008</td>\n",
       "      <td>0.320457</td>\n",
       "      <td>1.000000</td>\n",
       "      <td>0.230885</td>\n",
       "      <td>0.440608</td>\n",
       "      <td>0.196935</td>\n",
       "      <td>0.241799</td>\n",
       "      <td>0.273977</td>\n",
       "      <td>...</td>\n",
       "      <td>0.232209</td>\n",
       "      <td>0.168305</td>\n",
       "      <td>0.233377</td>\n",
       "      <td>0.285050</td>\n",
       "      <td>0.131886</td>\n",
       "      <td>0.272784</td>\n",
       "      <td>0.197518</td>\n",
       "      <td>0.145131</td>\n",
       "      <td>0.318963</td>\n",
       "      <td>0.416386</td>\n",
       "    </tr>\n",
       "    <tr>\n",
       "      <th>χρίω</th>\n",
       "      <td>0.342806</td>\n",
       "      <td>0.295286</td>\n",
       "      <td>0.189989</td>\n",
       "      <td>0.454405</td>\n",
       "      <td>0.230885</td>\n",
       "      <td>1.000000</td>\n",
       "      <td>0.309278</td>\n",
       "      <td>0.198141</td>\n",
       "      <td>0.105399</td>\n",
       "      <td>0.252703</td>\n",
       "      <td>...</td>\n",
       "      <td>0.181133</td>\n",
       "      <td>0.136287</td>\n",
       "      <td>0.397811</td>\n",
       "      <td>0.151169</td>\n",
       "      <td>0.188259</td>\n",
       "      <td>0.155586</td>\n",
       "      <td>0.164157</td>\n",
       "      <td>0.205116</td>\n",
       "      <td>0.219056</td>\n",
       "      <td>0.284210</td>\n",
       "    </tr>\n",
       "    <tr>\n",
       "      <th>ψυχή</th>\n",
       "      <td>0.533856</td>\n",
       "      <td>0.442968</td>\n",
       "      <td>0.191425</td>\n",
       "      <td>0.364298</td>\n",
       "      <td>0.440608</td>\n",
       "      <td>0.309278</td>\n",
       "      <td>1.000000</td>\n",
       "      <td>0.210131</td>\n",
       "      <td>0.258478</td>\n",
       "      <td>0.289317</td>\n",
       "      <td>...</td>\n",
       "      <td>0.306682</td>\n",
       "      <td>0.305622</td>\n",
       "      <td>0.313378</td>\n",
       "      <td>0.298504</td>\n",
       "      <td>0.191366</td>\n",
       "      <td>0.293311</td>\n",
       "      <td>0.185946</td>\n",
       "      <td>0.274149</td>\n",
       "      <td>0.381677</td>\n",
       "      <td>0.503057</td>\n",
       "    </tr>\n",
       "    <tr>\n",
       "      <th>μάγειρος</th>\n",
       "      <td>0.248857</td>\n",
       "      <td>0.242076</td>\n",
       "      <td>0.163811</td>\n",
       "      <td>0.141678</td>\n",
       "      <td>0.196935</td>\n",
       "      <td>0.198141</td>\n",
       "      <td>0.210131</td>\n",
       "      <td>1.000000</td>\n",
       "      <td>0.386127</td>\n",
       "      <td>0.218486</td>\n",
       "      <td>...</td>\n",
       "      <td>0.419825</td>\n",
       "      <td>0.194187</td>\n",
       "      <td>0.157304</td>\n",
       "      <td>0.395120</td>\n",
       "      <td>0.107027</td>\n",
       "      <td>0.163988</td>\n",
       "      <td>0.119396</td>\n",
       "      <td>0.170859</td>\n",
       "      <td>0.214792</td>\n",
       "      <td>0.218624</td>\n",
       "    </tr>\n",
       "    <tr>\n",
       "      <th>πιστεύω</th>\n",
       "      <td>0.185417</td>\n",
       "      <td>0.277596</td>\n",
       "      <td>0.102286</td>\n",
       "      <td>0.134110</td>\n",
       "      <td>0.241799</td>\n",
       "      <td>0.105399</td>\n",
       "      <td>0.258478</td>\n",
       "      <td>0.386127</td>\n",
       "      <td>1.000000</td>\n",
       "      <td>0.304259</td>\n",
       "      <td>...</td>\n",
       "      <td>0.398754</td>\n",
       "      <td>0.228936</td>\n",
       "      <td>0.196975</td>\n",
       "      <td>0.401746</td>\n",
       "      <td>0.093387</td>\n",
       "      <td>0.152211</td>\n",
       "      <td>0.104865</td>\n",
       "      <td>0.191227</td>\n",
       "      <td>0.259909</td>\n",
       "      <td>0.192493</td>\n",
       "    </tr>\n",
       "    <tr>\n",
       "      <th>πλῆθος</th>\n",
       "      <td>0.248479</td>\n",
       "      <td>0.333559</td>\n",
       "      <td>0.146196</td>\n",
       "      <td>0.291070</td>\n",
       "      <td>0.273977</td>\n",
       "      <td>0.252703</td>\n",
       "      <td>0.289317</td>\n",
       "      <td>0.218486</td>\n",
       "      <td>0.304259</td>\n",
       "      <td>1.000000</td>\n",
       "      <td>...</td>\n",
       "      <td>0.212670</td>\n",
       "      <td>0.340080</td>\n",
       "      <td>0.352277</td>\n",
       "      <td>0.256561</td>\n",
       "      <td>0.063725</td>\n",
       "      <td>0.303495</td>\n",
       "      <td>0.122820</td>\n",
       "      <td>0.186541</td>\n",
       "      <td>0.282018</td>\n",
       "      <td>0.296108</td>\n",
       "    </tr>\n",
       "  </tbody>\n",
       "</table>\n",
       "<p>10 rows × 2134 columns</p>\n",
       "</div>"
      ],
      "text/plain": [
       "               ἴσος    ἄγαμαι  πηδάλιον       ἰός  ἐπίσταμαι      χρίω  \\\n",
       "ἴσος       1.000000  0.437380  0.233293  0.405049   0.419086  0.342806   \n",
       "ἄγαμαι     0.437380  1.000000  0.269362  0.364781   0.475348  0.295286   \n",
       "πηδάλιον   0.233293  0.269362  1.000000  0.247571   0.199008  0.189989   \n",
       "ἰός        0.405049  0.364781  0.247571  1.000000   0.320457  0.454405   \n",
       "ἐπίσταμαι  0.419086  0.475348  0.199008  0.320457   1.000000  0.230885   \n",
       "χρίω       0.342806  0.295286  0.189989  0.454405   0.230885  1.000000   \n",
       "ψυχή       0.533856  0.442968  0.191425  0.364298   0.440608  0.309278   \n",
       "μάγειρος   0.248857  0.242076  0.163811  0.141678   0.196935  0.198141   \n",
       "πιστεύω    0.185417  0.277596  0.102286  0.134110   0.241799  0.105399   \n",
       "πλῆθος     0.248479  0.333559  0.146196  0.291070   0.273977  0.252703   \n",
       "\n",
       "               ψυχή  μάγειρος   πιστεύω    πλῆθος  ...     αἰτία  εὔκαιρος  \\\n",
       "ἴσος       0.533856  0.248857  0.185417  0.248479  ...  0.313441  0.142484   \n",
       "ἄγαμαι     0.442968  0.242076  0.277596  0.333559  ...  0.300841  0.153856   \n",
       "πηδάλιον   0.191425  0.163811  0.102286  0.146196  ...  0.173133  0.060075   \n",
       "ἰός        0.364298  0.141678  0.134110  0.291070  ...  0.169091  0.131967   \n",
       "ἐπίσταμαι  0.440608  0.196935  0.241799  0.273977  ...  0.232209  0.168305   \n",
       "χρίω       0.309278  0.198141  0.105399  0.252703  ...  0.181133  0.136287   \n",
       "ψυχή       1.000000  0.210131  0.258478  0.289317  ...  0.306682  0.305622   \n",
       "μάγειρος   0.210131  1.000000  0.386127  0.218486  ...  0.419825  0.194187   \n",
       "πιστεύω    0.258478  0.386127  1.000000  0.304259  ...  0.398754  0.228936   \n",
       "πλῆθος     0.289317  0.218486  0.304259  1.000000  ...  0.212670  0.340080   \n",
       "\n",
       "            σταθμόν    μικρός    τετράς  ἀποκρύπτω   σπόγγος  ἐπιλανθάνομαι  \\\n",
       "ἴσος       0.281288  0.283408  0.150039   0.280582  0.160631       0.269607   \n",
       "ἄγαμαι     0.307053  0.247433  0.045151   0.332806  0.099603       0.230892   \n",
       "πηδάλιον   0.159814  0.159377  0.062967   0.171380  0.099153       0.129346   \n",
       "ἰός        0.461251  0.167599  0.158737   0.247464  0.148443       0.141628   \n",
       "ἐπίσταμαι  0.233377  0.285050  0.131886   0.272784  0.197518       0.145131   \n",
       "χρίω       0.397811  0.151169  0.188259   0.155586  0.164157       0.205116   \n",
       "ψυχή       0.313378  0.298504  0.191366   0.293311  0.185946       0.274149   \n",
       "μάγειρος   0.157304  0.395120  0.107027   0.163988  0.119396       0.170859   \n",
       "πιστεύω    0.196975  0.401746  0.093387   0.152211  0.104865       0.191227   \n",
       "πλῆθος     0.352277  0.256561  0.063725   0.303495  0.122820       0.186541   \n",
       "\n",
       "             ἀνάγκη    ἀγείρω  \n",
       "ἴσος       0.422556  0.514216  \n",
       "ἄγαμαι     0.364311  0.431784  \n",
       "πηδάλιον   0.204302  0.254487  \n",
       "ἰός        0.288210  0.378224  \n",
       "ἐπίσταμαι  0.318963  0.416386  \n",
       "χρίω       0.219056  0.284210  \n",
       "ψυχή       0.381677  0.503057  \n",
       "μάγειρος   0.214792  0.218624  \n",
       "πιστεύω    0.259909  0.192493  \n",
       "πλῆθος     0.282018  0.296108  \n",
       "\n",
       "[10 rows x 2134 columns]"
      ]
     },
     "execution_count": 564,
     "metadata": {},
     "output_type": "execute_result"
    }
   ],
   "source": [
    "data_arc[-1].head(10)"
   ]
  },
  {
   "cell_type": "code",
   "execution_count": 568,
   "metadata": {
    "pycharm": {
     "name": "#%%\n"
    }
   },
   "outputs": [
    {
     "data": {
      "text/plain": [
       "πᾶς         0.814797\n",
       "εἰμί        0.814371\n",
       "ἀνήρ        0.801801\n",
       "Ζεύς        0.797828\n",
       "ἄλλος       0.795510\n",
       "αὐτός       0.785393\n",
       "ἔχω         0.779031\n",
       "μέγας       0.777457\n",
       "ἀθάνατος    0.769020\n",
       "πολύς       0.760543\n",
       "ναῦς        0.760385\n",
       "θυμός       0.757877\n",
       "φίλος       0.757333\n",
       "γαῖα        0.756469\n",
       "Ἀχαιός      0.751522\n",
       "ἔρχομαι     0.748399\n",
       "δίδωμι      0.742026\n",
       "εἶμι        0.737592\n",
       "Ὀδυσσεύς    0.736984\n",
       "Name: θεός, dtype: float64"
      ]
     },
     "execution_count": 568,
     "metadata": {},
     "output_type": "execute_result"
    }
   ],
   "source": [
    "data_arc[-1].sort_values(\"θεός\", ascending=False)[\"θεός\"][1:20]"
   ]
  },
  {
   "cell_type": "code",
   "execution_count": 578,
   "metadata": {
    "pycharm": {
     "name": "#%%\n"
    }
   },
   "outputs": [
    {
     "data": {
      "text/html": [
       "<div>\n",
       "<style scoped>\n",
       "    .dataframe tbody tr th:only-of-type {\n",
       "        vertical-align: middle;\n",
       "    }\n",
       "\n",
       "    .dataframe tbody tr th {\n",
       "        vertical-align: top;\n",
       "    }\n",
       "\n",
       "    .dataframe thead th {\n",
       "        text-align: right;\n",
       "    }\n",
       "</style>\n",
       "<table border=\"1\" class=\"dataframe\">\n",
       "  <thead>\n",
       "    <tr style=\"text-align: right;\">\n",
       "      <th></th>\n",
       "      <th>label</th>\n",
       "      <th>n_authors</th>\n",
       "      <th>n_works</th>\n",
       "      <th>n_sentences</th>\n",
       "      <th>wordcount</th>\n",
       "      <th>sentences</th>\n",
       "      <th>lemmata</th>\n",
       "    </tr>\n",
       "  </thead>\n",
       "  <tbody>\n",
       "    <tr>\n",
       "      <th>0</th>\n",
       "      <td>Archaic</td>\n",
       "      <td>8</td>\n",
       "      <td>12</td>\n",
       "      <td>20502</td>\n",
       "      <td>265138</td>\n",
       "      <td>[[μῆνις, ἀείδω, θεά, Πηλείδης, Ἀχιλλεύς, οὐλόμ...</td>\n",
       "      <td>[μῆνις, ἀείδω, θεά, Πηλείδης, Ἀχιλλεύς, οὐλόμε...</td>\n",
       "    </tr>\n",
       "    <tr>\n",
       "      <th>1</th>\n",
       "      <td>Classical</td>\n",
       "      <td>36</td>\n",
       "      <td>367</td>\n",
       "      <td>256084</td>\n",
       "      <td>3460971</td>\n",
       "      <td>[[θουκυδίδης, Ἀθηναῖος, συγγράφω, πόλεμος, Πελ...</td>\n",
       "      <td>[θουκυδίδης, Ἀθηναῖος, συγγράφω, πόλεμος, Πελο...</td>\n",
       "    </tr>\n",
       "    <tr>\n",
       "      <th>2</th>\n",
       "      <td>Hellenistic</td>\n",
       "      <td>34</td>\n",
       "      <td>96</td>\n",
       "      <td>154615</td>\n",
       "      <td>1860841</td>\n",
       "      <td>[[ἄρχω, Φοῖβος, παλαιγενής, κλέος, φώς, μιμνήσ...</td>\n",
       "      <td>[ἄρχω, Φοῖβος, παλαιγενής, κλέος, φώς, μιμνήσκ...</td>\n",
       "    </tr>\n",
       "    <tr>\n",
       "      <th>3</th>\n",
       "      <td>Roman</td>\n",
       "      <td>97</td>\n",
       "      <td>609</td>\n",
       "      <td>1014984</td>\n",
       "      <td>11981922</td>\n",
       "      <td>[[φιλοσοφία, ἔργον, ἔνιοι, φημί, βάρβαρος, ἄρχ...</td>\n",
       "      <td>[φιλοσοφία, ἔργον, ἔνιοι, φημί, βάρβαρος, ἄρχω...</td>\n",
       "    </tr>\n",
       "    <tr>\n",
       "      <th>4</th>\n",
       "      <td>Christian</td>\n",
       "      <td>49</td>\n",
       "      <td>148</td>\n",
       "      <td>343318</td>\n",
       "      <td>3566823</td>\n",
       "      <td>[[βίβλος, γένεσις, Ἰησοῦς, Χριστός, υἱός, Δαυί...</td>\n",
       "      <td>[βίβλος, γένεσις, Ἰησοῦς, Χριστός, υἱός, Δαυίδ...</td>\n",
       "    </tr>\n",
       "    <tr>\n",
       "      <th>5</th>\n",
       "      <td>Jewish</td>\n",
       "      <td>5</td>\n",
       "      <td>40</td>\n",
       "      <td>108194</td>\n",
       "      <td>1154228</td>\n",
       "      <td>[[ἄλλος, νομοθέτης, ἀκαλλώπιστος, γυμνός, νομι...</td>\n",
       "      <td>[ἄλλος, νομοθέτης, ἀκαλλώπιστος, γυμνός, νομισ...</td>\n",
       "    </tr>\n",
       "  </tbody>\n",
       "</table>\n",
       "</div>"
      ],
      "text/plain": [
       "         label  n_authors  n_works  n_sentences  wordcount  \\\n",
       "0      Archaic          8       12        20502     265138   \n",
       "1    Classical         36      367       256084    3460971   \n",
       "2  Hellenistic         34       96       154615    1860841   \n",
       "3        Roman         97      609      1014984   11981922   \n",
       "4    Christian         49      148       343318    3566823   \n",
       "5       Jewish          5       40       108194    1154228   \n",
       "\n",
       "                                           sentences  \\\n",
       "0  [[μῆνις, ἀείδω, θεά, Πηλείδης, Ἀχιλλεύς, οὐλόμ...   \n",
       "1  [[θουκυδίδης, Ἀθηναῖος, συγγράφω, πόλεμος, Πελ...   \n",
       "2  [[ἄρχω, Φοῖβος, παλαιγενής, κλέος, φώς, μιμνήσ...   \n",
       "3  [[φιλοσοφία, ἔργον, ἔνιοι, φημί, βάρβαρος, ἄρχ...   \n",
       "4  [[βίβλος, γένεσις, Ἰησοῦς, Χριστός, υἱός, Δαυί...   \n",
       "5  [[ἄλλος, νομοθέτης, ἀκαλλώπιστος, γυμνός, νομι...   \n",
       "\n",
       "                                             lemmata  \n",
       "0  [μῆνις, ἀείδω, θεά, Πηλείδης, Ἀχιλλεύς, οὐλόμε...  \n",
       "1  [θουκυδίδης, Ἀθηναῖος, συγγράφω, πόλεμος, Πελο...  \n",
       "2  [ἄρχω, Φοῖβος, παλαιγενής, κλέος, φώς, μιμνήσκ...  \n",
       "3  [φιλοσοφία, ἔργον, ἔνιοι, φημί, βάρβαρος, ἄρχω...  \n",
       "4  [βίβλος, γένεσις, Ἰησοῦς, Χριστός, υἱός, Δαυίδ...  \n",
       "5  [ἄλλος, νομοθέτης, ἀκαλλώπιστος, γυμνός, νομισ...  "
      ]
     },
     "execution_count": 578,
     "metadata": {},
     "output_type": "execute_result"
    }
   ],
   "source": [
    "pd.DataFrame(corpora)"
   ]
  },
  {
   "cell_type": "code",
   "execution_count": null,
   "metadata": {
    "pycharm": {
     "name": "#%%\n"
    }
   },
   "outputs": [],
   "source": [
    "%%time\n",
    "#data_arc = from_docs_to_embeddings(corpora[0][\"sentences\"], min_freq=10)\n",
    "#pickle.dump(data_arc, open(\"../data/large_files/embeddings_Archaic.pkl\", \"wb\"), pickle.HIGHEST_PROTOCOL)\n",
    "#data_cla = from_docs_to_embeddings(corpora[1][\"sentences\"], min_freq=10)\n",
    "#pickle.dump(data_cla, open(\"../data/large_files/embeddings_Classical.pkl\", \"wb\"), pickle.HIGHEST_PROTOCOL)\n",
    "#data_hel = from_docs_to_embeddings(corpora[2][\"sentences\"], min_freq=10)\n",
    "#pickle.dump(data_hel, open(\"../data/large_files/embeddings_Hellenistic.pkl\", \"wb\"), pickle.HIGHEST_PROTOCOL)\n",
    "\n",
    "\n",
    "#data_rom = from_docs_to_embeddings(corpora[3][\"sentences\"], min_freq=10)\n",
    "#print(\"Roman - complete\")\n",
    "data_chr = from_docs_to_embeddings(corpora[4][\"sentences\"], min_freq=10)\n",
    "pickle.dump(data_chr, open(\"../data/large_files/embeddings_Christian.pkl\", \"wb\"), pickle.HIGHEST_PROTOCOL)\n",
    "print(\"Christian - complete\")\n",
    "data_jew = from_docs_to_embeddings(corpora[5][\"sentences\"], min_freq=10)\n",
    "pickle.dump(data_jew, open(\"../data/large_files/embeddings_Jewish.pkl\", \"wb\"), pickle.HIGHEST_PROTOCOL)\n",
    "print(\"Jewish - complete\")"
   ]
  },
  {
   "cell_type": "code",
   "execution_count": 36,
   "metadata": {
    "pycharm": {
     "name": "#%%\n"
    }
   },
   "outputs": [],
   "source": [
    "del data_chr\n",
    "del data_jew"
   ]
  },
  {
   "cell_type": "code",
   "execution_count": null,
   "metadata": {
    "pycharm": {
     "name": "#%%\n"
    }
   },
   "outputs": [],
   "source": [
    "%%time\n",
    "# computationally heavy, use carefully...\n",
    "data_rom = from_docs_to_embeddings(corpora[3][\"sentences\"], min_freq=10)\n",
    "pickle.dump(data_rom, open(\"../data/large_files/embeddings_Roman.pkl\", \"wb\"), pickle.HIGHEST_PROTOCOL)"
   ]
  },
  {
   "cell_type": "code",
   "execution_count": null,
   "metadata": {
    "pycharm": {
     "name": "#%%\n"
    }
   },
   "outputs": [],
   "source": []
  }
 ],
 "metadata": {
  "kernelspec": {
   "display_name": "theos_venv",
   "language": "python",
   "name": "theos_venv"
  },
  "language_info": {
   "codemirror_mode": {
    "name": "ipython",
    "version": 3
   },
   "file_extension": ".py",
   "mimetype": "text/x-python",
   "name": "python",
   "nbconvert_exporter": "python",
   "pygments_lexer": "ipython3",
   "version": "3.9.7"
  }
 },
 "nbformat": 4,
 "nbformat_minor": 4
}