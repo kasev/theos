{
 "cells": [
  {
   "cell_type": "code",
   "execution_count": 1,
   "outputs": [],
   "source": [
    "import pandas as pd\n",
    "from nltk import FreqDist\n",
    "import pickle\n",
    "import numpy as np"
   ],
   "metadata": {
    "collapsed": false
   }
  },
  {
   "cell_type": "code",
   "execution_count": 2,
   "metadata": {
    "collapsed": true
   },
   "outputs": [],
   "source": [
    "import numpy as np\n",
    "import pandas as pd\n",
    "import os\n",
    "import requests\n",
    "import re\n",
    "from nltk import FreqDist\n",
    "from sklearn.feature_extraction.text import CountVectorizer\n",
    "from sklearn.decomposition import TruncatedSVD\n",
    "from sklearn.metrics.pairwise import cosine_similarity\n",
    "import pickle\n",
    "from cltk.stops.grc import STOPS as stopwords\n",
    "from gensim.corpora import Dictionary\n",
    "import unicodedata\n",
    "import json"
   ]
  },
  {
   "cell_type": "code",
   "execution_count": 6,
   "outputs": [],
   "source": [
    "LAGT = pd.read_json(\"../data/large_data/LAGT_metadata.json\")"
   ],
   "metadata": {
    "collapsed": false
   }
  },
  {
   "cell_type": "code",
   "execution_count": 7,
   "outputs": [
    {
     "data": {
      "text/plain": "  author_id          doc_id  GLAUx?                         filename  \\\n0   tlg0001  tlg0001.tlg001    True  tlg0001.tlg001.perseus-grc2.xml   \n1   tlg0003  tlg0003.tlg001    True  tlg0003.tlg001.perseus-grc2.xml   \n2   tlg0004  tlg0004.tlg001   False  tlg0004.tlg001.perseus-grc1.xml   \n3   tlg0005  tlg0005.tlg001    True  tlg0005.tlg001.perseus-grc1.xml   \n4   tlg0005  tlg0005.tlg002    True  tlg0005.tlg002.perseus-grc1.xml   \n\n   subcorpus              author                          title  date_avr  \\\n0  classical  Apollonius Rhodius                    Argonautica      -2.5   \n1  classical          Thucydides          The Peloponnesian War      -4.5   \n2      roman   Diogenes Laertius  Lives of Eminent Philosophers       2.5   \n3  classical          Theocritus                        Idylls       -3.0   \n4  classical          Theocritus                      Epigrams       -3.0   \n\n  provenience    tlg_epithet  n_sentences  wordcount  \n0       pagan      Epici/-ae         3252      38822  \n1       pagan  Historici/-ae         6068     150118  \n2       pagan      Biographi        10245     110763  \n3       pagan       Bucolici         1982      19200  \n4       pagan       Bucolici          152       1734  ",
      "text/html": "<div>\n<style scoped>\n    .dataframe tbody tr th:only-of-type {\n        vertical-align: middle;\n    }\n\n    .dataframe tbody tr th {\n        vertical-align: top;\n    }\n\n    .dataframe thead th {\n        text-align: right;\n    }\n</style>\n<table border=\"1\" class=\"dataframe\">\n  <thead>\n    <tr style=\"text-align: right;\">\n      <th></th>\n      <th>author_id</th>\n      <th>doc_id</th>\n      <th>GLAUx?</th>\n      <th>filename</th>\n      <th>subcorpus</th>\n      <th>author</th>\n      <th>title</th>\n      <th>date_avr</th>\n      <th>provenience</th>\n      <th>tlg_epithet</th>\n      <th>n_sentences</th>\n      <th>wordcount</th>\n    </tr>\n  </thead>\n  <tbody>\n    <tr>\n      <th>0</th>\n      <td>tlg0001</td>\n      <td>tlg0001.tlg001</td>\n      <td>True</td>\n      <td>tlg0001.tlg001.perseus-grc2.xml</td>\n      <td>classical</td>\n      <td>Apollonius Rhodius</td>\n      <td>Argonautica</td>\n      <td>-2.5</td>\n      <td>pagan</td>\n      <td>Epici/-ae</td>\n      <td>3252</td>\n      <td>38822</td>\n    </tr>\n    <tr>\n      <th>1</th>\n      <td>tlg0003</td>\n      <td>tlg0003.tlg001</td>\n      <td>True</td>\n      <td>tlg0003.tlg001.perseus-grc2.xml</td>\n      <td>classical</td>\n      <td>Thucydides</td>\n      <td>The Peloponnesian War</td>\n      <td>-4.5</td>\n      <td>pagan</td>\n      <td>Historici/-ae</td>\n      <td>6068</td>\n      <td>150118</td>\n    </tr>\n    <tr>\n      <th>2</th>\n      <td>tlg0004</td>\n      <td>tlg0004.tlg001</td>\n      <td>False</td>\n      <td>tlg0004.tlg001.perseus-grc1.xml</td>\n      <td>roman</td>\n      <td>Diogenes Laertius</td>\n      <td>Lives of Eminent Philosophers</td>\n      <td>2.5</td>\n      <td>pagan</td>\n      <td>Biographi</td>\n      <td>10245</td>\n      <td>110763</td>\n    </tr>\n    <tr>\n      <th>3</th>\n      <td>tlg0005</td>\n      <td>tlg0005.tlg001</td>\n      <td>True</td>\n      <td>tlg0005.tlg001.perseus-grc1.xml</td>\n      <td>classical</td>\n      <td>Theocritus</td>\n      <td>Idylls</td>\n      <td>-3.0</td>\n      <td>pagan</td>\n      <td>Bucolici</td>\n      <td>1982</td>\n      <td>19200</td>\n    </tr>\n    <tr>\n      <th>4</th>\n      <td>tlg0005</td>\n      <td>tlg0005.tlg002</td>\n      <td>True</td>\n      <td>tlg0005.tlg002.perseus-grc1.xml</td>\n      <td>classical</td>\n      <td>Theocritus</td>\n      <td>Epigrams</td>\n      <td>-3.0</td>\n      <td>pagan</td>\n      <td>Bucolici</td>\n      <td>152</td>\n      <td>1734</td>\n    </tr>\n  </tbody>\n</table>\n</div>"
     },
     "execution_count": 7,
     "metadata": {},
     "output_type": "execute_result"
    }
   ],
   "source": [
    "LAGT.head(5)"
   ],
   "metadata": {
    "collapsed": false
   }
  },
  {
   "cell_type": "markdown",
   "source": [
    "# Prepare subcorpora"
   ],
   "metadata": {
    "collapsed": false
   }
  },
  {
   "cell_type": "code",
   "execution_count": 9,
   "outputs": [],
   "source": [
    "def assign_subcorpus(row):\n",
    "    if row[\"date_avr\"] <= -5:\n",
    "        subcorpus = \"archaic\"\n",
    "    elif row[\"date_avr\"] < -2:\n",
    "        subcorpus = \"classical\"\n",
    "    elif (row[\"provenience\"]==\"christian\") & (row[\"date_avr\"]<3):\n",
    "        subcorpus = \"christian\"\n",
    "    elif (row[\"provenience\"]==\"pagan\") & (row[\"date_avr\"]<3):\n",
    "        subcorpus = \"roman\"\n",
    "    elif (row[\"provenience\"]==\"jewish\"):\n",
    "        subcorpus = \"jewish\"\n",
    "    else:\n",
    "        subcorpus = None\n",
    "    return subcorpus"
   ],
   "metadata": {
    "collapsed": false
   }
  },
  {
   "cell_type": "code",
   "execution_count": 10,
   "outputs": [],
   "source": [
    "LAGT[\"subcorpus\"] = LAGT.apply(lambda row: assign_subcorpus(row), axis=1)"
   ],
   "metadata": {
    "collapsed": false
   }
  },
  {
   "cell_type": "code",
   "execution_count": 11,
   "outputs": [
    {
     "data": {
      "text/plain": "   subcorpus  n_works\n0    archaic       26\n1  christian      104\n2  classical      408\n3     jewish       95\n4      roman      596",
      "text/html": "<div>\n<style scoped>\n    .dataframe tbody tr th:only-of-type {\n        vertical-align: middle;\n    }\n\n    .dataframe tbody tr th {\n        vertical-align: top;\n    }\n\n    .dataframe thead th {\n        text-align: right;\n    }\n</style>\n<table border=\"1\" class=\"dataframe\">\n  <thead>\n    <tr style=\"text-align: right;\">\n      <th></th>\n      <th>subcorpus</th>\n      <th>n_works</th>\n    </tr>\n  </thead>\n  <tbody>\n    <tr>\n      <th>0</th>\n      <td>archaic</td>\n      <td>26</td>\n    </tr>\n    <tr>\n      <th>1</th>\n      <td>christian</td>\n      <td>104</td>\n    </tr>\n    <tr>\n      <th>2</th>\n      <td>classical</td>\n      <td>408</td>\n    </tr>\n    <tr>\n      <th>3</th>\n      <td>jewish</td>\n      <td>95</td>\n    </tr>\n    <tr>\n      <th>4</th>\n      <td>roman</td>\n      <td>596</td>\n    </tr>\n  </tbody>\n</table>\n</div>"
     },
     "execution_count": 11,
     "metadata": {},
     "output_type": "execute_result"
    }
   ],
   "source": [
    "df_size = LAGT.groupby(\"subcorpus\").size().reset_index()\n",
    "df_size.rename(columns={0:\"n_works\"}, inplace=True)\n",
    "df_size"
   ],
   "metadata": {
    "collapsed": false
   }
  },
  {
   "cell_type": "code",
   "execution_count": 12,
   "outputs": [
    {
     "data": {
      "text/plain": "   subcorpus  n_works  wordcount  n_sentences  GLAUx?\n0    archaic       26     331410        26561      24\n1  christian      104    1711991       180658      19\n2  classical      408    4104920       319695     370\n3     jewish       95    1953311       166050       4\n4      roman      596   11481179       932972     409",
      "text/html": "<div>\n<style scoped>\n    .dataframe tbody tr th:only-of-type {\n        vertical-align: middle;\n    }\n\n    .dataframe tbody tr th {\n        vertical-align: top;\n    }\n\n    .dataframe thead th {\n        text-align: right;\n    }\n</style>\n<table border=\"1\" class=\"dataframe\">\n  <thead>\n    <tr style=\"text-align: right;\">\n      <th></th>\n      <th>subcorpus</th>\n      <th>n_works</th>\n      <th>wordcount</th>\n      <th>n_sentences</th>\n      <th>GLAUx?</th>\n    </tr>\n  </thead>\n  <tbody>\n    <tr>\n      <th>0</th>\n      <td>archaic</td>\n      <td>26</td>\n      <td>331410</td>\n      <td>26561</td>\n      <td>24</td>\n    </tr>\n    <tr>\n      <th>1</th>\n      <td>christian</td>\n      <td>104</td>\n      <td>1711991</td>\n      <td>180658</td>\n      <td>19</td>\n    </tr>\n    <tr>\n      <th>2</th>\n      <td>classical</td>\n      <td>408</td>\n      <td>4104920</td>\n      <td>319695</td>\n      <td>370</td>\n    </tr>\n    <tr>\n      <th>3</th>\n      <td>jewish</td>\n      <td>95</td>\n      <td>1953311</td>\n      <td>166050</td>\n      <td>4</td>\n    </tr>\n    <tr>\n      <th>4</th>\n      <td>roman</td>\n      <td>596</td>\n      <td>11481179</td>\n      <td>932972</td>\n      <td>409</td>\n    </tr>\n  </tbody>\n</table>\n</div>"
     },
     "execution_count": 12,
     "metadata": {},
     "output_type": "execute_result"
    }
   ],
   "source": [
    "df_sum = LAGT.groupby(\"subcorpus\").sum()[[\"wordcount\", \"n_sentences\", \"GLAUx?\"]]\n",
    "pd.merge(df_size, df_sum.reset_index())"
   ],
   "metadata": {
    "collapsed": false
   }
  },
  {
   "cell_type": "code",
   "execution_count": 13,
   "outputs": [
    {
     "data": {
      "text/plain": "                            filename        author  \\\n202  tlg0012.tlg001.perseus-grc2.xml         Homer   \n203  tlg0012.tlg002.perseus-grc2.xml         Homer   \n204  tlg0012.tlg003.perseus-grc1.xml         Homer   \n205  tlg0013.tlg001.perseus-grc2.xml  Homeric hymn   \n206  tlg0013.tlg002.perseus-grc2.xml  Homeric hymn   \n207  tlg0013.tlg003.perseus-grc2.xml  Homeric hymn   \n208  tlg0013.tlg004.perseus-grc2.xml  Homeric hymn   \n209  tlg0013.tlg005.perseus-grc2.xml  Homeric hymn   \n211  tlg0013.tlg007.perseus-grc2.xml  Homeric hymn   \n223  tlg0013.tlg019.perseus-grc2.xml  Homeric hymn   \n357  tlg0020.tlg001.perseus-grc2.xml        Hesiod   \n358  tlg0020.tlg002.perseus-grc2.xml        Hesiod   \n359  tlg0020.tlg003.perseus-grc2.xml        Hesiod   \n426  tlg0033.tlg001.perseus-grc2.xml        Pindar   \n427  tlg0033.tlg002.perseus-grc2.xml        Pindar   \n428  tlg0033.tlg003.perseus-grc2.xml        Pindar   \n429  tlg0033.tlg004.perseus-grc2.xml        Pindar   \n678  tlg0085.tlg001.perseus-grc2.xml     Aeschylus   \n679  tlg0085.tlg002.perseus-grc2.xml     Aeschylus   \n680  tlg0085.tlg003.perseus-grc2.xml     Aeschylus   \n681  tlg0085.tlg004.perseus-grc2.xml     Aeschylus   \n682  tlg0085.tlg005.perseus-grc2.xml     Aeschylus   \n683  tlg0085.tlg006.perseus-grc2.xml     Aeschylus   \n684  tlg0085.tlg007.perseus-grc2.xml     Aeschylus   \n766  tlg0096.tlg002.First1K-grc1.xml         Aesop   \n770    tlg0233.tlg001.1st1K-grc1.xml      Hipponax   \n\n                                                 title  wordcount  \\\n202               Iliad (Greek). Machine readable text     111888   \n203             Odyssey (Greek). Machine readable text      87177   \n204                                        Ἐπιγράμματα        757   \n205                                 Hymn 1 To Dionysus        144   \n206                                  Hymn 2 To Demeter       3373   \n207                                   Hymn 3 To Apollo       3848   \n208                                   Hymn 4 To Hermes       4031   \n209                                Hymn 5 To Aphrodite       2047   \n211                                 Hymn 7 To Dionysus        425   \n223                                     Hymn 19 to Pan        336   \n357            Theogony (Greek). Machine readable text       7039   \n358      Works and Days (Greek). Machine readable text       5856   \n359  Shield of Heracles (Greek). Machine readable text       3298   \n426           Odes (Greek). Machine readable text - O.       5875   \n427           Odes (Greek). Machine readable text - P.       7427   \n428           Odes (Greek). Machine readable text - N.       4944   \n429           Odes (Greek). Machine readable text - I.       2899   \n678                                  Suppliant Maidens       4977   \n679                                           Persians       5221   \n680                                   Prometheus Bound       5943   \n681                               Seven Against Thebes       5157   \n682                                          Agamemnon       8254   \n683                                   Libation Bearers       5463   \n684                                          Eumenides       5320   \n766                                            Fabulae      39492   \n770                                   Fragmentum (128)        219   \n\n       author_id          doc_id   raw_date  date_avr  \\\n202      tlg0012  tlg0012.tlg001     8 B.C.      -7.5   \n203      tlg0012  tlg0012.tlg002     8 B.C.      -7.5   \n204      tlg0012  tlg0012.tlg003     8 B.C.      -7.5   \n205  tlg0013dyon  tlg0013.tlg001   8-6 B.C.      -6.5   \n206  tlg0013deme  tlg0013.tlg002   8-6 B.C.      -6.0   \n207  tlg0013apol  tlg0013.tlg003   8-6 B.C.      -6.0   \n208  tlg0013herm  tlg0013.tlg004   8-6 B.C.      -5.0   \n209  tlg0013aphr  tlg0013.tlg005   8-6 B.C.      -6.0   \n211  tlg0013dyo2  tlg0013.tlg007   8-6 B.C.      -5.0   \n223   tlg0013pan  tlg0013.tlg019   8-6 B.C.      -5.0   \n357      tlg0020  tlg0020.tlg001  8/7 B.C.?      -7.0   \n358      tlg0020  tlg0020.tlg002  8/7 B.C.?      -7.0   \n359      tlg0020  tlg0020.tlg003  8/7 B.C.?      -7.0   \n426      tlg0033  tlg0033.tlg001   6-5 B.C.      -5.0   \n427      tlg0033  tlg0033.tlg002   6-5 B.C.      -5.0   \n428      tlg0033  tlg0033.tlg003   6-5 B.C.      -5.0   \n429      tlg0033  tlg0033.tlg004   6-5 B.C.      -5.0   \n678      tlg0085  tlg0085.tlg001   6-5 B.C.      -5.0   \n679      tlg0085  tlg0085.tlg002   6-5 B.C.      -5.0   \n680      tlg0085  tlg0085.tlg003   6-5 B.C.      -5.0   \n681      tlg0085  tlg0085.tlg004   6-5 B.C.      -5.0   \n682      tlg0085  tlg0085.tlg005   6-5 B.C.      -5.0   \n683      tlg0085  tlg0085.tlg006   6-5 B.C.      -5.0   \n684      tlg0085  tlg0085.tlg007   6-5 B.C.      -5.0   \n766      tlg0096  tlg0096.tlg002     6 B.C.      -5.5   \n770      tlg0233  tlg0233.tlg001     6 B.C.      -5.5   \n\n                                            date_probs  date_manual  \\\n202                                        {'-7.5': 1}         -7.5   \n203                                        {'-7.5': 1}         -7.5   \n204                                        {'-7.5': 1}         -7.5   \n205  {'-7.5': 0.33330000000000004, '-6.5': 0.333300...         -7.0   \n206  {'-7.5': 0.33330000000000004, '-6.5': 0.333300...         -7.0   \n207  {'-7.5': 0.33330000000000004, '-6.5': 0.333300...         -7.0   \n208  {'-7.5': 0.33330000000000004, '-6.5': 0.333300...         -7.0   \n209  {'-7.5': 0.33330000000000004, '-6.5': 0.333300...         -7.0   \n211  {'-7.5': 0.33330000000000004, '-6.5': 0.333300...         -7.0   \n223  {'-7.5': 0.33330000000000004, '-6.5': 0.333300...         -7.0   \n357                         {'-7.5': 0.5, '-6.5': 0.5}         -6.5   \n358                         {'-7.5': 0.5, '-6.5': 0.5}         -6.5   \n359                         {'-7.5': 0.5, '-6.5': 0.5}         -6.5   \n426                         {'-5.5': 0.5, '-4.5': 0.5}         -4.5   \n427                         {'-5.5': 0.5, '-4.5': 0.5}         -4.5   \n428                         {'-5.5': 0.5, '-4.5': 0.5}         -4.5   \n429                         {'-5.5': 0.5, '-4.5': 0.5}         -4.5   \n678                         {'-5.5': 0.5, '-4.5': 0.5}         -4.5   \n679                         {'-5.5': 0.5, '-4.5': 0.5}         -4.5   \n680                         {'-5.5': 0.5, '-4.5': 0.5}         -4.5   \n681                         {'-5.5': 0.5, '-4.5': 0.5}         -4.5   \n682                         {'-5.5': 0.5, '-4.5': 0.5}         -4.5   \n683                         {'-5.5': 0.5, '-4.5': 0.5}         -4.5   \n684                         {'-5.5': 0.5, '-4.5': 0.5}         -4.5   \n766                                        {'-5.5': 1}         -5.5   \n770                                        {'-5.5': 1}          NaN   \n\n    provenience           tlg_epithet  \\\n202       pagan             Epici/-ae   \n203       pagan             Epici/-ae   \n204       pagan             Epici/-ae   \n205       pagan                    []   \n206       pagan                    []   \n207       pagan                    []   \n208       pagan                    []   \n209       pagan                    []   \n211       pagan                    []   \n223       pagan                    []   \n357       pagan             Epici/-ae   \n358       pagan             Epici/-ae   \n359       pagan             Epici/-ae   \n426       pagan            Lyrici/-ae   \n427       pagan            Lyrici/-ae   \n428       pagan            Lyrici/-ae   \n429       pagan            Lyrici/-ae   \n678       pagan               Tragici   \n679       pagan               Tragici   \n680       pagan               Tragici   \n681       pagan               Tragici   \n682       pagan               Tragici   \n683       pagan               Tragici   \n684       pagan               Tragici   \n766       pagan  Scriptores Fabularum   \n770       pagan               Iambici   \n\n                                          clean_string  n_sentences  \\\n202   μῆνιν ἄειδε θεὰ Πηληϊάδεω Ἀχιλῆος οὐλομένην, ...         8415   \n203  ἄνδρα μοι ἔννεπε, μοῦσα, πολύτροπον, ὃς μάλα π...         6729   \n204  Αἰδεῖσθε ξενίων κεχρημένον ἠδὲ δόμοιο, οἳ πόλι...           72   \n205   οἳ μὲν γὰρ Δρακάνῳ σʼ, οἳ δʼ Ἰκάρῳ ἠνεμοέσσῃ ...           13   \n206   Δήμητρʼ ἠύκομον, σεμνὴν θεόν, ἄρχομʼ ἀείδειν,...          256   \n207  μνήσομαι οὐδὲ λάθωμαι Ἀπόλλωνος ἑκάτοιο, ὅντε ...          295   \n208  Ἑρμῆν ὕμνει, Μοῦσα, Διὸς καὶ Μαιάδος υἱόν, Κυλ...          332   \n209  μοῦσά μοι ἔννεπε ἔργα πολυχρύσου Ἀφροδίτης, Κύ...          148   \n211  ἀμφὶ Διώνυσον, Σεμέλης ἐρικυδέος υἱόν, μνήσομα...           42   \n223  ἀμφί μοι Ἑρμείαο φίλον γόνον ἔννεπε, Μοῦσα, αἰ...           19   \n357   Μουσάων Ἑλικωνιάδων ἀρχώμεθʼ ἀείδειν, αἵθʼ Ἑλ...          438   \n358   μοῦσαι Πιερίηθεν ἀοιδῇσιν κλείουσαι δεῦτε, Δί...          490   \n359   ἢ οἵη προλιποῦσα δόμους καὶ πατρίδα γαῖαν ἤλυ...          255   \n426   ἄριστον μὲν ὕδωρ, ὁ δὲ χρυσὸς αἰθόμενον πῦρ ἅ...          427   \n427   χρυσέα φόρμιγξ, Ἀπόλλωνος καὶ ἰοπλοκάμων σύνδ...          595   \n428   ἄμπνευμα σεμνὸν Ἀλφεοῦ, κλεινᾶν Συρακοσσᾶν θά...          402   \n429   μᾶτερ ἐμά, τὸ τεόν, χρύσασπι Θήβα, πρᾶγμα καὶ...          222   \n678  Ζεὺς μὲν ἀφίκτωρ ἐπίδοι προφρόνως στόλον ἡμέτε...          527   \n679  Τάδε μὲν Περσῶν τῶν οἰχομένων Ἑλλάδʼ ἐς αἶαν π...          481   \n680  Χθονὸς μὲν ἐς τηλουρὸν ἥκομεν πέδον, Σκύθην ἐς...          590   \n681  Κάδμου πολῖται, χρὴ λέγειν τὰ καίρια ὅστις φυλ...          523   \n682  Φύλαξ θεοὺς μὲν αἰτῶ τῶνδʼ ἀπαλλαγὴν πόνων φρο...          807   \n683   Ἑρμῆ χθόνιε, πατρῷʼ ἐποπτεύων κράτη, σωτὴρ γε...          571   \n684  πρῶτον μὲν εὐχῇ τῇδε πρεσβεύω θεῶν τὴν πρωτόμα...          521   \n766  Ἀγαθὰ πάντα ὑπὸ τῶν κακῶν ἐδιώχθη, ὡς ἀσθενῆ ὄ...         3333   \n770   Μοῦσά μοι Εὐρυμεδοντιάδεα, τὴν πολτοχάρυβδιν,...           58   \n\n                                  lemmatized_sentences  GLAUx? subcorpus  \n202  [[μῆνις, ἀείδω, θεά, Πηληϊάδης, Ἀχιλλεύς, ὄλλυ...    True   archaic  \n203  [[ἀνήρ, ἐνέπω, Μοῦσα, πολύτροπος, πολύς, πλάζω...    True   archaic  \n204  [[Ἕλλην, πλῆθος, Ἴλιος, στρατόω, ἑπτά, εἰμί, μ...    True   archaic  \n205  [[Δράκανος, Ἴκαρος, ἠνεμόεις, φημί, Νάξος, δῖο...    True   archaic  \n206  [[Δημήτηρ, εὔκομος, σεμνός, θεός, ἄρχω, ἀείδω,...    True   archaic  \n207  [[μιμνῄσκω, λανθάνω, Ἀπόλλων, ἕκατος, θεός, δῶ...    True   archaic  \n208  [[Ἑρμῆς, ὑμνέω, Μοῦσα, Ζεύς, Μαιάς, υἱός, Κυλλ...    True   archaic  \n209  [[Μοῦσα, ἐνέπω, ἔργον, πολύχρυσος, Ἀφροδίτη, Κ...    True   archaic  \n211  [[Διόνυσος, Σεμέλη, ἐρικυδής, υἱός, μιμνῄσκω, ...    True   archaic  \n223  [[Ἑρμῆς, φίλος, γόνος, ἐνέπω, Μοῦσα, αἰγιπόδης...    True   archaic  \n357  [[Μοῦσα, Ἑλικωνιάδες, ἄρχω, ἀείδω, Ἑλικών, ἔχω...    True   archaic  \n358  [[Μοῦσα, ἀοιδή, κλείω, Ζεύς, ἐνέπω, σφέτερος, ...    True   archaic  \n359  [[προλείπω, δόμος, πατρίς, γῆ, ἔρχομαι, Θῆβαι,...    True   archaic  \n426  [[ἀγαθός, ὕδωρ, χρυσός, αἴθω, πῦρ, διαπρέπω, ν...    True   archaic  \n427  [[χρύσεος, φόρμιγξ, Ἀπόλλων, ἰοπλόκαμος, σύνδι...    True   archaic  \n428  [[ἀνάπνευμα, σεμνός, Ἀλφεός, κλεινός, Σύρακοσσ...    True   archaic  \n429  [[μήτηρ, ἐμός, τεός, χρύσασπις, Θήβη, πρᾶγμα, ...    True   archaic  \n678  [[Ζεύς, ἀφίκτωρ, ἐφοράω, στόλος, ἡμέτερος, νήι...    True   archaic  \n679  [[Πέρσης, οἴχομαι, Ἑλλάς, αἶα, πιστός, καλέω, ...    True   archaic  \n680  [[Χθών, τηλουρός, ἥκω, πέδον, Σκύθης, οἷμος, ἄ...    True   archaic  \n681  [[Κάδμος, πολίτης, χρή, λέγω, καίριος, φυλάσσω...    True   archaic  \n682  [[Φύλαξ, θεός, αἰτέω, ὅδε, ἀπαλλαγή, πόνος, φρ...    True   archaic  \n683  [[Ἑρμῆς, χθόνιος, πατρῷος, ἐποπτεύω, κράτος, σ...    True   archaic  \n684  [[πρῶτος, εὐχή, ὅδε, πρεσβεύω, θεός, πρωτόμαντ...    True   archaic  \n766  [[ἀγαθός, πᾶς, κακός, διώκω, ἀσθενής, εἰμί], [...   False   archaic  \n770  [[Μοῦσα, εὐρυμεδοντιάδεα, πολτοχάρυβδιν, ἐγγασ...   False   archaic  ",
      "text/html": "<div>\n<style scoped>\n    .dataframe tbody tr th:only-of-type {\n        vertical-align: middle;\n    }\n\n    .dataframe tbody tr th {\n        vertical-align: top;\n    }\n\n    .dataframe thead th {\n        text-align: right;\n    }\n</style>\n<table border=\"1\" class=\"dataframe\">\n  <thead>\n    <tr style=\"text-align: right;\">\n      <th></th>\n      <th>filename</th>\n      <th>author</th>\n      <th>title</th>\n      <th>wordcount</th>\n      <th>author_id</th>\n      <th>doc_id</th>\n      <th>raw_date</th>\n      <th>date_avr</th>\n      <th>date_probs</th>\n      <th>date_manual</th>\n      <th>provenience</th>\n      <th>tlg_epithet</th>\n      <th>clean_string</th>\n      <th>n_sentences</th>\n      <th>lemmatized_sentences</th>\n      <th>GLAUx?</th>\n      <th>subcorpus</th>\n    </tr>\n  </thead>\n  <tbody>\n    <tr>\n      <th>202</th>\n      <td>tlg0012.tlg001.perseus-grc2.xml</td>\n      <td>Homer</td>\n      <td>Iliad (Greek). Machine readable text</td>\n      <td>111888</td>\n      <td>tlg0012</td>\n      <td>tlg0012.tlg001</td>\n      <td>8 B.C.</td>\n      <td>-7.5</td>\n      <td>{'-7.5': 1}</td>\n      <td>-7.5</td>\n      <td>pagan</td>\n      <td>Epici/-ae</td>\n      <td>μῆνιν ἄειδε θεὰ Πηληϊάδεω Ἀχιλῆος οὐλομένην, ...</td>\n      <td>8415</td>\n      <td>[[μῆνις, ἀείδω, θεά, Πηληϊάδης, Ἀχιλλεύς, ὄλλυ...</td>\n      <td>True</td>\n      <td>archaic</td>\n    </tr>\n    <tr>\n      <th>203</th>\n      <td>tlg0012.tlg002.perseus-grc2.xml</td>\n      <td>Homer</td>\n      <td>Odyssey (Greek). Machine readable text</td>\n      <td>87177</td>\n      <td>tlg0012</td>\n      <td>tlg0012.tlg002</td>\n      <td>8 B.C.</td>\n      <td>-7.5</td>\n      <td>{'-7.5': 1}</td>\n      <td>-7.5</td>\n      <td>pagan</td>\n      <td>Epici/-ae</td>\n      <td>ἄνδρα μοι ἔννεπε, μοῦσα, πολύτροπον, ὃς μάλα π...</td>\n      <td>6729</td>\n      <td>[[ἀνήρ, ἐνέπω, Μοῦσα, πολύτροπος, πολύς, πλάζω...</td>\n      <td>True</td>\n      <td>archaic</td>\n    </tr>\n    <tr>\n      <th>204</th>\n      <td>tlg0012.tlg003.perseus-grc1.xml</td>\n      <td>Homer</td>\n      <td>Ἐπιγράμματα</td>\n      <td>757</td>\n      <td>tlg0012</td>\n      <td>tlg0012.tlg003</td>\n      <td>8 B.C.</td>\n      <td>-7.5</td>\n      <td>{'-7.5': 1}</td>\n      <td>-7.5</td>\n      <td>pagan</td>\n      <td>Epici/-ae</td>\n      <td>Αἰδεῖσθε ξενίων κεχρημένον ἠδὲ δόμοιο, οἳ πόλι...</td>\n      <td>72</td>\n      <td>[[Ἕλλην, πλῆθος, Ἴλιος, στρατόω, ἑπτά, εἰμί, μ...</td>\n      <td>True</td>\n      <td>archaic</td>\n    </tr>\n    <tr>\n      <th>205</th>\n      <td>tlg0013.tlg001.perseus-grc2.xml</td>\n      <td>Homeric hymn</td>\n      <td>Hymn 1 To Dionysus</td>\n      <td>144</td>\n      <td>tlg0013dyon</td>\n      <td>tlg0013.tlg001</td>\n      <td>8-6 B.C.</td>\n      <td>-6.5</td>\n      <td>{'-7.5': 0.33330000000000004, '-6.5': 0.333300...</td>\n      <td>-7.0</td>\n      <td>pagan</td>\n      <td>[]</td>\n      <td>οἳ μὲν γὰρ Δρακάνῳ σʼ, οἳ δʼ Ἰκάρῳ ἠνεμοέσσῃ ...</td>\n      <td>13</td>\n      <td>[[Δράκανος, Ἴκαρος, ἠνεμόεις, φημί, Νάξος, δῖο...</td>\n      <td>True</td>\n      <td>archaic</td>\n    </tr>\n    <tr>\n      <th>206</th>\n      <td>tlg0013.tlg002.perseus-grc2.xml</td>\n      <td>Homeric hymn</td>\n      <td>Hymn 2 To Demeter</td>\n      <td>3373</td>\n      <td>tlg0013deme</td>\n      <td>tlg0013.tlg002</td>\n      <td>8-6 B.C.</td>\n      <td>-6.0</td>\n      <td>{'-7.5': 0.33330000000000004, '-6.5': 0.333300...</td>\n      <td>-7.0</td>\n      <td>pagan</td>\n      <td>[]</td>\n      <td>Δήμητρʼ ἠύκομον, σεμνὴν θεόν, ἄρχομʼ ἀείδειν,...</td>\n      <td>256</td>\n      <td>[[Δημήτηρ, εὔκομος, σεμνός, θεός, ἄρχω, ἀείδω,...</td>\n      <td>True</td>\n      <td>archaic</td>\n    </tr>\n    <tr>\n      <th>207</th>\n      <td>tlg0013.tlg003.perseus-grc2.xml</td>\n      <td>Homeric hymn</td>\n      <td>Hymn 3 To Apollo</td>\n      <td>3848</td>\n      <td>tlg0013apol</td>\n      <td>tlg0013.tlg003</td>\n      <td>8-6 B.C.</td>\n      <td>-6.0</td>\n      <td>{'-7.5': 0.33330000000000004, '-6.5': 0.333300...</td>\n      <td>-7.0</td>\n      <td>pagan</td>\n      <td>[]</td>\n      <td>μνήσομαι οὐδὲ λάθωμαι Ἀπόλλωνος ἑκάτοιο, ὅντε ...</td>\n      <td>295</td>\n      <td>[[μιμνῄσκω, λανθάνω, Ἀπόλλων, ἕκατος, θεός, δῶ...</td>\n      <td>True</td>\n      <td>archaic</td>\n    </tr>\n    <tr>\n      <th>208</th>\n      <td>tlg0013.tlg004.perseus-grc2.xml</td>\n      <td>Homeric hymn</td>\n      <td>Hymn 4 To Hermes</td>\n      <td>4031</td>\n      <td>tlg0013herm</td>\n      <td>tlg0013.tlg004</td>\n      <td>8-6 B.C.</td>\n      <td>-5.0</td>\n      <td>{'-7.5': 0.33330000000000004, '-6.5': 0.333300...</td>\n      <td>-7.0</td>\n      <td>pagan</td>\n      <td>[]</td>\n      <td>Ἑρμῆν ὕμνει, Μοῦσα, Διὸς καὶ Μαιάδος υἱόν, Κυλ...</td>\n      <td>332</td>\n      <td>[[Ἑρμῆς, ὑμνέω, Μοῦσα, Ζεύς, Μαιάς, υἱός, Κυλλ...</td>\n      <td>True</td>\n      <td>archaic</td>\n    </tr>\n    <tr>\n      <th>209</th>\n      <td>tlg0013.tlg005.perseus-grc2.xml</td>\n      <td>Homeric hymn</td>\n      <td>Hymn 5 To Aphrodite</td>\n      <td>2047</td>\n      <td>tlg0013aphr</td>\n      <td>tlg0013.tlg005</td>\n      <td>8-6 B.C.</td>\n      <td>-6.0</td>\n      <td>{'-7.5': 0.33330000000000004, '-6.5': 0.333300...</td>\n      <td>-7.0</td>\n      <td>pagan</td>\n      <td>[]</td>\n      <td>μοῦσά μοι ἔννεπε ἔργα πολυχρύσου Ἀφροδίτης, Κύ...</td>\n      <td>148</td>\n      <td>[[Μοῦσα, ἐνέπω, ἔργον, πολύχρυσος, Ἀφροδίτη, Κ...</td>\n      <td>True</td>\n      <td>archaic</td>\n    </tr>\n    <tr>\n      <th>211</th>\n      <td>tlg0013.tlg007.perseus-grc2.xml</td>\n      <td>Homeric hymn</td>\n      <td>Hymn 7 To Dionysus</td>\n      <td>425</td>\n      <td>tlg0013dyo2</td>\n      <td>tlg0013.tlg007</td>\n      <td>8-6 B.C.</td>\n      <td>-5.0</td>\n      <td>{'-7.5': 0.33330000000000004, '-6.5': 0.333300...</td>\n      <td>-7.0</td>\n      <td>pagan</td>\n      <td>[]</td>\n      <td>ἀμφὶ Διώνυσον, Σεμέλης ἐρικυδέος υἱόν, μνήσομα...</td>\n      <td>42</td>\n      <td>[[Διόνυσος, Σεμέλη, ἐρικυδής, υἱός, μιμνῄσκω, ...</td>\n      <td>True</td>\n      <td>archaic</td>\n    </tr>\n    <tr>\n      <th>223</th>\n      <td>tlg0013.tlg019.perseus-grc2.xml</td>\n      <td>Homeric hymn</td>\n      <td>Hymn 19 to Pan</td>\n      <td>336</td>\n      <td>tlg0013pan</td>\n      <td>tlg0013.tlg019</td>\n      <td>8-6 B.C.</td>\n      <td>-5.0</td>\n      <td>{'-7.5': 0.33330000000000004, '-6.5': 0.333300...</td>\n      <td>-7.0</td>\n      <td>pagan</td>\n      <td>[]</td>\n      <td>ἀμφί μοι Ἑρμείαο φίλον γόνον ἔννεπε, Μοῦσα, αἰ...</td>\n      <td>19</td>\n      <td>[[Ἑρμῆς, φίλος, γόνος, ἐνέπω, Μοῦσα, αἰγιπόδης...</td>\n      <td>True</td>\n      <td>archaic</td>\n    </tr>\n    <tr>\n      <th>357</th>\n      <td>tlg0020.tlg001.perseus-grc2.xml</td>\n      <td>Hesiod</td>\n      <td>Theogony (Greek). Machine readable text</td>\n      <td>7039</td>\n      <td>tlg0020</td>\n      <td>tlg0020.tlg001</td>\n      <td>8/7 B.C.?</td>\n      <td>-7.0</td>\n      <td>{'-7.5': 0.5, '-6.5': 0.5}</td>\n      <td>-6.5</td>\n      <td>pagan</td>\n      <td>Epici/-ae</td>\n      <td>Μουσάων Ἑλικωνιάδων ἀρχώμεθʼ ἀείδειν, αἵθʼ Ἑλ...</td>\n      <td>438</td>\n      <td>[[Μοῦσα, Ἑλικωνιάδες, ἄρχω, ἀείδω, Ἑλικών, ἔχω...</td>\n      <td>True</td>\n      <td>archaic</td>\n    </tr>\n    <tr>\n      <th>358</th>\n      <td>tlg0020.tlg002.perseus-grc2.xml</td>\n      <td>Hesiod</td>\n      <td>Works and Days (Greek). Machine readable text</td>\n      <td>5856</td>\n      <td>tlg0020</td>\n      <td>tlg0020.tlg002</td>\n      <td>8/7 B.C.?</td>\n      <td>-7.0</td>\n      <td>{'-7.5': 0.5, '-6.5': 0.5}</td>\n      <td>-6.5</td>\n      <td>pagan</td>\n      <td>Epici/-ae</td>\n      <td>μοῦσαι Πιερίηθεν ἀοιδῇσιν κλείουσαι δεῦτε, Δί...</td>\n      <td>490</td>\n      <td>[[Μοῦσα, ἀοιδή, κλείω, Ζεύς, ἐνέπω, σφέτερος, ...</td>\n      <td>True</td>\n      <td>archaic</td>\n    </tr>\n    <tr>\n      <th>359</th>\n      <td>tlg0020.tlg003.perseus-grc2.xml</td>\n      <td>Hesiod</td>\n      <td>Shield of Heracles (Greek). Machine readable text</td>\n      <td>3298</td>\n      <td>tlg0020</td>\n      <td>tlg0020.tlg003</td>\n      <td>8/7 B.C.?</td>\n      <td>-7.0</td>\n      <td>{'-7.5': 0.5, '-6.5': 0.5}</td>\n      <td>-6.5</td>\n      <td>pagan</td>\n      <td>Epici/-ae</td>\n      <td>ἢ οἵη προλιποῦσα δόμους καὶ πατρίδα γαῖαν ἤλυ...</td>\n      <td>255</td>\n      <td>[[προλείπω, δόμος, πατρίς, γῆ, ἔρχομαι, Θῆβαι,...</td>\n      <td>True</td>\n      <td>archaic</td>\n    </tr>\n    <tr>\n      <th>426</th>\n      <td>tlg0033.tlg001.perseus-grc2.xml</td>\n      <td>Pindar</td>\n      <td>Odes (Greek). Machine readable text - O.</td>\n      <td>5875</td>\n      <td>tlg0033</td>\n      <td>tlg0033.tlg001</td>\n      <td>6-5 B.C.</td>\n      <td>-5.0</td>\n      <td>{'-5.5': 0.5, '-4.5': 0.5}</td>\n      <td>-4.5</td>\n      <td>pagan</td>\n      <td>Lyrici/-ae</td>\n      <td>ἄριστον μὲν ὕδωρ, ὁ δὲ χρυσὸς αἰθόμενον πῦρ ἅ...</td>\n      <td>427</td>\n      <td>[[ἀγαθός, ὕδωρ, χρυσός, αἴθω, πῦρ, διαπρέπω, ν...</td>\n      <td>True</td>\n      <td>archaic</td>\n    </tr>\n    <tr>\n      <th>427</th>\n      <td>tlg0033.tlg002.perseus-grc2.xml</td>\n      <td>Pindar</td>\n      <td>Odes (Greek). Machine readable text - P.</td>\n      <td>7427</td>\n      <td>tlg0033</td>\n      <td>tlg0033.tlg002</td>\n      <td>6-5 B.C.</td>\n      <td>-5.0</td>\n      <td>{'-5.5': 0.5, '-4.5': 0.5}</td>\n      <td>-4.5</td>\n      <td>pagan</td>\n      <td>Lyrici/-ae</td>\n      <td>χρυσέα φόρμιγξ, Ἀπόλλωνος καὶ ἰοπλοκάμων σύνδ...</td>\n      <td>595</td>\n      <td>[[χρύσεος, φόρμιγξ, Ἀπόλλων, ἰοπλόκαμος, σύνδι...</td>\n      <td>True</td>\n      <td>archaic</td>\n    </tr>\n    <tr>\n      <th>428</th>\n      <td>tlg0033.tlg003.perseus-grc2.xml</td>\n      <td>Pindar</td>\n      <td>Odes (Greek). Machine readable text - N.</td>\n      <td>4944</td>\n      <td>tlg0033</td>\n      <td>tlg0033.tlg003</td>\n      <td>6-5 B.C.</td>\n      <td>-5.0</td>\n      <td>{'-5.5': 0.5, '-4.5': 0.5}</td>\n      <td>-4.5</td>\n      <td>pagan</td>\n      <td>Lyrici/-ae</td>\n      <td>ἄμπνευμα σεμνὸν Ἀλφεοῦ, κλεινᾶν Συρακοσσᾶν θά...</td>\n      <td>402</td>\n      <td>[[ἀνάπνευμα, σεμνός, Ἀλφεός, κλεινός, Σύρακοσσ...</td>\n      <td>True</td>\n      <td>archaic</td>\n    </tr>\n    <tr>\n      <th>429</th>\n      <td>tlg0033.tlg004.perseus-grc2.xml</td>\n      <td>Pindar</td>\n      <td>Odes (Greek). Machine readable text - I.</td>\n      <td>2899</td>\n      <td>tlg0033</td>\n      <td>tlg0033.tlg004</td>\n      <td>6-5 B.C.</td>\n      <td>-5.0</td>\n      <td>{'-5.5': 0.5, '-4.5': 0.5}</td>\n      <td>-4.5</td>\n      <td>pagan</td>\n      <td>Lyrici/-ae</td>\n      <td>μᾶτερ ἐμά, τὸ τεόν, χρύσασπι Θήβα, πρᾶγμα καὶ...</td>\n      <td>222</td>\n      <td>[[μήτηρ, ἐμός, τεός, χρύσασπις, Θήβη, πρᾶγμα, ...</td>\n      <td>True</td>\n      <td>archaic</td>\n    </tr>\n    <tr>\n      <th>678</th>\n      <td>tlg0085.tlg001.perseus-grc2.xml</td>\n      <td>Aeschylus</td>\n      <td>Suppliant Maidens</td>\n      <td>4977</td>\n      <td>tlg0085</td>\n      <td>tlg0085.tlg001</td>\n      <td>6-5 B.C.</td>\n      <td>-5.0</td>\n      <td>{'-5.5': 0.5, '-4.5': 0.5}</td>\n      <td>-4.5</td>\n      <td>pagan</td>\n      <td>Tragici</td>\n      <td>Ζεὺς μὲν ἀφίκτωρ ἐπίδοι προφρόνως στόλον ἡμέτε...</td>\n      <td>527</td>\n      <td>[[Ζεύς, ἀφίκτωρ, ἐφοράω, στόλος, ἡμέτερος, νήι...</td>\n      <td>True</td>\n      <td>archaic</td>\n    </tr>\n    <tr>\n      <th>679</th>\n      <td>tlg0085.tlg002.perseus-grc2.xml</td>\n      <td>Aeschylus</td>\n      <td>Persians</td>\n      <td>5221</td>\n      <td>tlg0085</td>\n      <td>tlg0085.tlg002</td>\n      <td>6-5 B.C.</td>\n      <td>-5.0</td>\n      <td>{'-5.5': 0.5, '-4.5': 0.5}</td>\n      <td>-4.5</td>\n      <td>pagan</td>\n      <td>Tragici</td>\n      <td>Τάδε μὲν Περσῶν τῶν οἰχομένων Ἑλλάδʼ ἐς αἶαν π...</td>\n      <td>481</td>\n      <td>[[Πέρσης, οἴχομαι, Ἑλλάς, αἶα, πιστός, καλέω, ...</td>\n      <td>True</td>\n      <td>archaic</td>\n    </tr>\n    <tr>\n      <th>680</th>\n      <td>tlg0085.tlg003.perseus-grc2.xml</td>\n      <td>Aeschylus</td>\n      <td>Prometheus Bound</td>\n      <td>5943</td>\n      <td>tlg0085</td>\n      <td>tlg0085.tlg003</td>\n      <td>6-5 B.C.</td>\n      <td>-5.0</td>\n      <td>{'-5.5': 0.5, '-4.5': 0.5}</td>\n      <td>-4.5</td>\n      <td>pagan</td>\n      <td>Tragici</td>\n      <td>Χθονὸς μὲν ἐς τηλουρὸν ἥκομεν πέδον, Σκύθην ἐς...</td>\n      <td>590</td>\n      <td>[[Χθών, τηλουρός, ἥκω, πέδον, Σκύθης, οἷμος, ἄ...</td>\n      <td>True</td>\n      <td>archaic</td>\n    </tr>\n    <tr>\n      <th>681</th>\n      <td>tlg0085.tlg004.perseus-grc2.xml</td>\n      <td>Aeschylus</td>\n      <td>Seven Against Thebes</td>\n      <td>5157</td>\n      <td>tlg0085</td>\n      <td>tlg0085.tlg004</td>\n      <td>6-5 B.C.</td>\n      <td>-5.0</td>\n      <td>{'-5.5': 0.5, '-4.5': 0.5}</td>\n      <td>-4.5</td>\n      <td>pagan</td>\n      <td>Tragici</td>\n      <td>Κάδμου πολῖται, χρὴ λέγειν τὰ καίρια ὅστις φυλ...</td>\n      <td>523</td>\n      <td>[[Κάδμος, πολίτης, χρή, λέγω, καίριος, φυλάσσω...</td>\n      <td>True</td>\n      <td>archaic</td>\n    </tr>\n    <tr>\n      <th>682</th>\n      <td>tlg0085.tlg005.perseus-grc2.xml</td>\n      <td>Aeschylus</td>\n      <td>Agamemnon</td>\n      <td>8254</td>\n      <td>tlg0085</td>\n      <td>tlg0085.tlg005</td>\n      <td>6-5 B.C.</td>\n      <td>-5.0</td>\n      <td>{'-5.5': 0.5, '-4.5': 0.5}</td>\n      <td>-4.5</td>\n      <td>pagan</td>\n      <td>Tragici</td>\n      <td>Φύλαξ θεοὺς μὲν αἰτῶ τῶνδʼ ἀπαλλαγὴν πόνων φρο...</td>\n      <td>807</td>\n      <td>[[Φύλαξ, θεός, αἰτέω, ὅδε, ἀπαλλαγή, πόνος, φρ...</td>\n      <td>True</td>\n      <td>archaic</td>\n    </tr>\n    <tr>\n      <th>683</th>\n      <td>tlg0085.tlg006.perseus-grc2.xml</td>\n      <td>Aeschylus</td>\n      <td>Libation Bearers</td>\n      <td>5463</td>\n      <td>tlg0085</td>\n      <td>tlg0085.tlg006</td>\n      <td>6-5 B.C.</td>\n      <td>-5.0</td>\n      <td>{'-5.5': 0.5, '-4.5': 0.5}</td>\n      <td>-4.5</td>\n      <td>pagan</td>\n      <td>Tragici</td>\n      <td>Ἑρμῆ χθόνιε, πατρῷʼ ἐποπτεύων κράτη, σωτὴρ γε...</td>\n      <td>571</td>\n      <td>[[Ἑρμῆς, χθόνιος, πατρῷος, ἐποπτεύω, κράτος, σ...</td>\n      <td>True</td>\n      <td>archaic</td>\n    </tr>\n    <tr>\n      <th>684</th>\n      <td>tlg0085.tlg007.perseus-grc2.xml</td>\n      <td>Aeschylus</td>\n      <td>Eumenides</td>\n      <td>5320</td>\n      <td>tlg0085</td>\n      <td>tlg0085.tlg007</td>\n      <td>6-5 B.C.</td>\n      <td>-5.0</td>\n      <td>{'-5.5': 0.5, '-4.5': 0.5}</td>\n      <td>-4.5</td>\n      <td>pagan</td>\n      <td>Tragici</td>\n      <td>πρῶτον μὲν εὐχῇ τῇδε πρεσβεύω θεῶν τὴν πρωτόμα...</td>\n      <td>521</td>\n      <td>[[πρῶτος, εὐχή, ὅδε, πρεσβεύω, θεός, πρωτόμαντ...</td>\n      <td>True</td>\n      <td>archaic</td>\n    </tr>\n    <tr>\n      <th>766</th>\n      <td>tlg0096.tlg002.First1K-grc1.xml</td>\n      <td>Aesop</td>\n      <td>Fabulae</td>\n      <td>39492</td>\n      <td>tlg0096</td>\n      <td>tlg0096.tlg002</td>\n      <td>6 B.C.</td>\n      <td>-5.5</td>\n      <td>{'-5.5': 1}</td>\n      <td>-5.5</td>\n      <td>pagan</td>\n      <td>Scriptores Fabularum</td>\n      <td>Ἀγαθὰ πάντα ὑπὸ τῶν κακῶν ἐδιώχθη, ὡς ἀσθενῆ ὄ...</td>\n      <td>3333</td>\n      <td>[[ἀγαθός, πᾶς, κακός, διώκω, ἀσθενής, εἰμί], [...</td>\n      <td>False</td>\n      <td>archaic</td>\n    </tr>\n    <tr>\n      <th>770</th>\n      <td>tlg0233.tlg001.1st1K-grc1.xml</td>\n      <td>Hipponax</td>\n      <td>Fragmentum (128)</td>\n      <td>219</td>\n      <td>tlg0233</td>\n      <td>tlg0233.tlg001</td>\n      <td>6 B.C.</td>\n      <td>-5.5</td>\n      <td>{'-5.5': 1}</td>\n      <td>NaN</td>\n      <td>pagan</td>\n      <td>Iambici</td>\n      <td>Μοῦσά μοι Εὐρυμεδοντιάδεα, τὴν πολτοχάρυβδιν,...</td>\n      <td>58</td>\n      <td>[[Μοῦσα, εὐρυμεδοντιάδεα, πολτοχάρυβδιν, ἐγγασ...</td>\n      <td>False</td>\n      <td>archaic</td>\n    </tr>\n  </tbody>\n</table>\n</div>"
     },
     "execution_count": 13,
     "metadata": {},
     "output_type": "execute_result"
    }
   ],
   "source": [
    "LAGT[LAGT[\"subcorpus\"]==\"archaic\"]"
   ],
   "metadata": {
    "collapsed": false
   }
  },
  {
   "cell_type": "code",
   "execution_count": 14,
   "outputs": [
    {
     "data": {
      "text/plain": "1229"
     },
     "execution_count": 14,
     "metadata": {},
     "output_type": "execute_result"
    }
   ],
   "source": [
    "(LAGT[\"subcorpus\"].notnull()).sum()"
   ],
   "metadata": {
    "collapsed": false
   }
  },
  {
   "cell_type": "markdown",
   "source": [
    "# Read subcorpora from ngrams - developing a memory-friendly reader"
   ],
   "metadata": {
    "collapsed": false
   }
  },
  {
   "cell_type": "code",
   "execution_count": 15,
   "outputs": [],
   "source": [
    "ids_lines = pickle.load(open(\"../data/ids_lines.pickle\", \"rb\"))"
   ],
   "metadata": {
    "collapsed": false
   }
  },
  {
   "cell_type": "code",
   "execution_count": 25,
   "outputs": [],
   "source": [
    "# developing corpus reader"
   ],
   "metadata": {
    "collapsed": false
   }
  },
  {
   "cell_type": "code",
   "execution_count": 17,
   "outputs": [
    {
     "data": {
      "text/plain": "[('tlg0001.tlg001', (0, 41193)),\n ('tlg0003.tlg001', (41193, 184616)),\n ('tlg0004.tlg001', (184616, 280036)),\n ('tlg0005.tlg001', (280036, 300693)),\n ('tlg0005.tlg002', (300693, 302641))]"
     },
     "execution_count": 17,
     "metadata": {},
     "output_type": "execute_result"
    }
   ],
   "source": [
    "list(ids_lines.items())[:5]"
   ],
   "metadata": {
    "collapsed": false
   }
  },
  {
   "cell_type": "code",
   "execution_count": 33,
   "outputs": [
    {
     "data": {
      "text/plain": "26"
     },
     "execution_count": 33,
     "metadata": {},
     "output_type": "execute_result"
    }
   ],
   "source": [
    "subcorpus_ids = LAGT[LAGT[\"subcorpus\"]==\"archaic\"][\"doc_id\"].tolist()\n",
    "len(subcorpus_ids)"
   ],
   "metadata": {
    "collapsed": false
   }
  },
  {
   "cell_type": "code",
   "execution_count": 36,
   "outputs": [
    {
     "data": {
      "text/plain": "339423"
     },
     "execution_count": 36,
     "metadata": {},
     "output_type": "execute_result"
    }
   ],
   "source": [
    "lines_list = [ ]\n",
    "for id in subcorpus_ids:\n",
    "    lines_list.extend([l for l in range(ids_lines[id][0], ids_lines[id][1])])\n",
    "ngrams_n = len(lines_list)\n",
    "ngrams_n"
   ],
   "metadata": {
    "collapsed": false
   }
  },
  {
   "cell_type": "code",
   "execution_count": 57,
   "outputs": [],
   "source": [
    "sample_size=1000000\n",
    "if sample_size != None:\n",
    "    sample_inx =np.random.randint(0, ngrams_n, sample_size)\n",
    "else:\n",
    "    sample_inx =[n for n in range(0, ngrams_n)]"
   ],
   "metadata": {
    "collapsed": false
   }
  },
  {
   "cell_type": "code",
   "execution_count": 58,
   "outputs": [
    {
     "data": {
      "text/plain": "1000000"
     },
     "execution_count": 58,
     "metadata": {},
     "output_type": "execute_result"
    }
   ],
   "source": [
    "sample_lines = np.array(lines_list)[sample_inx]\n",
    "len(sample_lines)"
   ],
   "metadata": {
    "collapsed": false
   }
  },
  {
   "cell_type": "code",
   "execution_count": 39,
   "outputs": [
    {
     "data": {
      "text/plain": "array([1882202, 1882203, 1882204, 1882205, 1882206])"
     },
     "execution_count": 39,
     "metadata": {},
     "output_type": "execute_result"
    }
   ],
   "source": [
    "sample_lines[:5]"
   ],
   "metadata": {
    "collapsed": false
   }
  },
  {
   "cell_type": "code",
   "execution_count": 40,
   "outputs": [],
   "source": [
    "test_ngrams = []\n",
    "with open(\"../data/large_data/corpus_ngrams_bydocid.txt\", \"r\") as f:\n",
    "    lines = f.readlines()\n",
    "    for li in sample_lines:\n",
    "        line = lines[li]# for line index in subcorpus lineindexes\n",
    "        if bool(line.split()):\n",
    "            test_ngrams.append(line.split())"
   ],
   "metadata": {
    "collapsed": false
   }
  },
  {
   "cell_type": "code",
   "execution_count": 42,
   "outputs": [
    {
     "data": {
      "text/plain": "339299"
     },
     "execution_count": 42,
     "metadata": {},
     "output_type": "execute_result"
    }
   ],
   "source": [
    "len(test_ngrams)"
   ],
   "metadata": {
    "collapsed": false
   }
  },
  {
   "cell_type": "markdown",
   "source": [
    "# Sample corpora with memory-friendly reader"
   ],
   "metadata": {
    "collapsed": false
   }
  },
  {
   "cell_type": "code",
   "execution_count": 68,
   "outputs": [],
   "source": [
    "class NgramCorpusSample(object):\n",
    "    def __init__(self, ids_list, ids_lines, fname, sample_size=None, bow=False, dct=None):\n",
    "        self.ids_list = ids_list\n",
    "        self.fname = fname\n",
    "        self.bow  = bow\n",
    "        self.dct = dct\n",
    "        self.sample_size = sample_size\n",
    "        self.ids_lines = ids_lines\n",
    "        lines_list = [ ]\n",
    "        for id in ids_list:\n",
    "            lines_list.extend([l for l in range(ids_lines[id][0], ids_lines[id][1])])\n",
    "        ngrams_n = len(lines_list)\n",
    "        if sample_size != None:\n",
    "            sample_inx =np.random.randint(0, ngrams_n, sample_size)\n",
    "        else:\n",
    "            sample_inx =[n for n in range(0, ngrams_n)]\n",
    "        sample_lines = np.array(lines_list)[sample_inx]\n",
    "        self.len = len(sample_lines)\n",
    "        self.sample_lines = sample_lines\n",
    "    def __len__(self):\n",
    "        #[el for el in self]\n",
    "        return self.len\n",
    "    def __iter__(self):\n",
    "        with open(self.fname, \"r\") as f:\n",
    "            lines = f.readlines()\n",
    "            for li in self.sample_lines:\n",
    "                line = lines[li] # for line index in subcorpus lineindexes\n",
    "                if bool(line.split()):\n",
    "                    if (self.bow) & (self.dct != None):\n",
    "                        yield self.dct.doc2bow(line.split())\n",
    "                    else:\n",
    "                        yield line.split()"
   ],
   "metadata": {
    "collapsed": false
   }
  },
  {
   "cell_type": "code",
   "execution_count": 75,
   "outputs": [],
   "source": [
    "subcorpus_ngrams =  NgramCorpusSample(subcorpus_ids, ids_lines, \"../data/large_data/corpus_ngrams_bydocid.txt\")"
   ],
   "metadata": {
    "collapsed": false
   }
  },
  {
   "cell_type": "code",
   "execution_count": 76,
   "outputs": [
    {
     "data": {
      "text/plain": "339423"
     },
     "execution_count": 76,
     "metadata": {},
     "output_type": "execute_result"
    }
   ],
   "source": [
    "len(subcorpus_ngrams)"
   ],
   "metadata": {
    "collapsed": false
   }
  },
  {
   "cell_type": "code",
   "execution_count": 77,
   "outputs": [
    {
     "data": {
      "text/plain": "339299"
     },
     "execution_count": 77,
     "metadata": {},
     "output_type": "execute_result"
    }
   ],
   "source": [
    "len([doc for doc in subcorpus_ngrams])"
   ],
   "metadata": {
    "collapsed": false
   }
  },
  {
   "cell_type": "code",
   "execution_count": 78,
   "outputs": [
    {
     "data": {
      "text/plain": "[('εἰμί', 16217),\n ('ἀνήρ', 8468),\n ('πᾶς', 8442),\n ('ἔρχομαι', 7776),\n ('πολύς', 7440),\n ('θεός', 7113),\n ('ἔχω', 7058),\n ('Ζεύς', 6570),\n ('μέγας', 6206),\n ('λέγω', 5893),\n ('ναῦς', 5837),\n ('φίλος', 5082),\n ('χείρ', 4914),\n ('ὅδε', 4613),\n ('ὁράω', 4428),\n ('θυμός', 4409),\n ('φημί', 4347),\n ('υἱός', 3943),\n ('κακός', 3713),\n ('πατήρ', 3679),\n ('γίγνομαι', 3586),\n ('Ἀχαιός', 3521),\n ('Ὀδυσσεύς', 3379),\n ('Τρώς', 3290),\n ('δίδωμι', 3245),\n ('παῖς', 3210),\n ('γῆ', 3125),\n ('αὐτός', 3079),\n ('ἐμός', 3043),\n ('τίθημι', 2942),\n ('ἄνθρωπος', 2930),\n ('φέρω', 2918),\n ('βάλλω', 2874),\n ('ἔπος', 2852),\n ('ἵππος', 2809),\n ('φρήν', 2799),\n ('ἀγαθός', 2792),\n ('ἵστημι', 2719),\n ('οὗτος', 2624),\n ('αἱρέω', 2611),\n ('καλός', 2522),\n ('πόλις', 2483),\n ('πρῶτος', 2436),\n ('βαίνω', 2361),\n ('οἶδα', 2354),\n ('ἄγω', 2320),\n ('δῖος', 2300),\n ('ἐθέλω', 2276),\n ('ἑταῖρος', 2229),\n ('τις', 2194)]"
     },
     "execution_count": 78,
     "metadata": {},
     "output_type": "execute_result"
    }
   ],
   "source": [
    "FreqDist([w for ng in subcorpus_ngrams for w in ng]).most_common()[:50]"
   ],
   "metadata": {
    "collapsed": false
   }
  },
  {
   "cell_type": "code",
   "execution_count": null,
   "outputs": [],
   "source": [],
   "metadata": {
    "collapsed": false
   }
  }
 ],
 "metadata": {
  "kernelspec": {
   "name": "conda_base",
   "language": "python",
   "display_name": "conda_base"
  },
  "language_info": {
   "codemirror_mode": {
    "name": "ipython",
    "version": 2
   },
   "file_extension": ".py",
   "mimetype": "text/x-python",
   "name": "python",
   "nbconvert_exporter": "python",
   "pygments_lexer": "ipython2",
   "version": "2.7.6"
  }
 },
 "nbformat": 4,
 "nbformat_minor": 0
}
